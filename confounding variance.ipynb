{
 "cells": [
  {
   "cell_type": "markdown",
   "id": "95c0c771",
   "metadata": {},
   "source": [
    "## Understanding the variance among houses\n",
    "\n",
    "### Settings\n",
    "The variation among houses carries epidemiological meaning, as R0 increases with the variance. \n",
    "\n",
    "I hope to understand what we the estimated variance really represents through the simplified example below. The setting is as follows: \n",
    "\n",
    "Let us assume we sameple from houses within the same village. These houses have some intrinsic variations. Overdispersion exists. We visit each house at 8 different occasions, 4 times in month Jan (representing dry month), 4 in month July (wet). Some houses also have mosquito net installed as a potential confounding factor. We will study several ways on which the mosquito nets are distributed (i.e. correlation with the houses' intrinsic variation). The mosquito count per visit follows a Poisson distribution with a rate parameter, which is a linear function of these explanatory variables. This model is a simplied version of our Burkina PSC dataset, but still preserves most characteristics. \n",
    "\n",
    "Further, because it is a simulation, we know the true values of all the underlying parameters. \n",
    "\n",
    "### Which variance?\n"
   ]
  },
  {
   "cell_type": "code",
   "execution_count": 1,
   "id": "221d627a",
   "metadata": {},
   "outputs": [
    {
     "name": "stderr",
     "output_type": "stream",
     "text": [
      "Loading required package: compiler\n"
     ]
    },
    {
     "data": {
      "text/html": [
       "3"
      ],
      "text/latex": [
       "3"
      ],
      "text/markdown": [
       "3"
      ],
      "text/plain": [
       "[1] 3"
      ]
     },
     "metadata": {},
     "output_type": "display_data"
    },
    {
     "name": "stderr",
     "output_type": "stream",
     "text": [
      "Loading required package: lme4\n",
      "Loading required package: Matrix\n"
     ]
    }
   ],
   "source": [
    "# ALL THE ESSENTIALS\n",
    "require(compiler)\n",
    "enableJIT(3)\n",
    "require(lme4)\n",
    "set.seed(111)"
   ]
  },
  {
   "cell_type": "markdown",
   "id": "a70bb1e6",
   "metadata": {},
   "source": [
    "### Simulating counts with known effects and parameters\n",
    "#### Random effect 1: variation among houses\n",
    "First we sample the intrinsic variation among our houses. The variation follows a normal distribution with mean 0 and variance of 0.6. \n",
    "\n",
    "A key question is whether this variance of 0.6 is the epidemiologically meaningful parameter that we wish to estimate. "
   ]
  },
  {
   "cell_type": "code",
   "execution_count": 2,
   "id": "c141946f",
   "metadata": {},
   "outputs": [
    {
     "data": {
      "text/html": [
       "0.688038200323392"
      ],
      "text/latex": [
       "0.688038200323392"
      ],
      "text/markdown": [
       "0.688038200323392"
      ],
      "text/plain": [
       "[1] 0.6880382"
      ]
     },
     "metadata": {},
     "output_type": "display_data"
    },
    {
     "data": {
      "text/html": [
       "<table>\n",
       "<thead><tr><th scope=col>house_ID</th><th scope=col>house_effect</th></tr></thead>\n",
       "<tbody>\n",
       "\t<tr><td>1         </td><td> 0.1822012</td></tr>\n",
       "\t<tr><td>2         </td><td>-0.2561869</td></tr>\n",
       "\t<tr><td>3         </td><td>-0.2413828</td></tr>\n",
       "\t<tr><td>4         </td><td>-1.7833893</td></tr>\n",
       "\t<tr><td>5         </td><td>-0.1323600</td></tr>\n",
       "</tbody>\n",
       "</table>\n"
      ],
      "text/latex": [
       "\\begin{tabular}{ll}\n",
       " house\\_ID & house\\_effect\\\\\n",
       "\\hline\n",
       "\t 1          &  0.1822012\\\\\n",
       "\t 2          & -0.2561869\\\\\n",
       "\t 3          & -0.2413828\\\\\n",
       "\t 4          & -1.7833893\\\\\n",
       "\t 5          & -0.1323600\\\\\n",
       "\\end{tabular}\n"
      ],
      "text/markdown": [
       "\n",
       "| house_ID | house_effect |\n",
       "|---|---|\n",
       "| 1          |  0.1822012 |\n",
       "| 2          | -0.2561869 |\n",
       "| 3          | -0.2413828 |\n",
       "| 4          | -1.7833893 |\n",
       "| 5          | -0.1323600 |\n",
       "\n"
      ],
      "text/plain": [
       "     house_ID house_effect\n",
       "[1,] 1         0.1822012  \n",
       "[2,] 2        -0.2561869  \n",
       "[3,] 3        -0.2413828  \n",
       "[4,] 4        -1.7833893  \n",
       "[5,] 5        -0.1323600  "
      ]
     },
     "metadata": {},
     "output_type": "display_data"
    }
   ],
   "source": [
    "# SAMPLE VARIATION AMONG HOUSES\n",
    "num_house<-100\n",
    "house_effect<-rnorm(num_house, mean=0, sd=sqrt(0.6))\n",
    "var(house_effect) # SAMPLE VARIANCE OF HOUSE EFFECT\n",
    "# ALSO house_ID\n",
    "house_ID<-1:num_house\n",
    "cbind(house_ID, house_effect)[1:5,] # SHOW THE FIRST 5 ROWS"
   ]
  },
  {
   "cell_type": "markdown",
   "id": "274ba8aa",
   "metadata": {},
   "source": [
    "Somes houses have positive effects, meaning they will have a higher expected counts. As we make multiple (8) visits to the houses, it is better to replicate these numbers 8 times and arrange them into a matrix, such that each column corresponds to a house:"
   ]
  },
  {
   "cell_type": "code",
   "execution_count": 3,
   "id": "94a82af7",
   "metadata": {},
   "outputs": [
    {
     "data": {
      "text/html": [
       "<table>\n",
       "<tbody>\n",
       "\t<tr><td>0.1822012  </td><td>-0.2561869 </td><td>-0.2413828 </td><td>-1.783389  </td><td>-0.13236   </td><td>0.108659   </td><td>-1.159902  </td><td>-0.7824886 </td><td>-0.734686  </td><td>-0.3826215 </td><td>...        </td><td>1.588504   </td><td>0.3801784  </td><td>-1.341198  </td><td>0.5506481  </td><td>0.01070718 </td><td>-1.085242  </td><td>0.975313   </td><td>-0.09874366</td><td>-0.5649804 </td><td>-0.9383165 </td></tr>\n",
       "\t<tr><td>0.1822012  </td><td>-0.2561869 </td><td>-0.2413828 </td><td>-1.783389  </td><td>-0.13236   </td><td>0.108659   </td><td>-1.159902  </td><td>-0.7824886 </td><td>-0.734686  </td><td>-0.3826215 </td><td>...        </td><td>1.588504   </td><td>0.3801784  </td><td>-1.341198  </td><td>0.5506481  </td><td>0.01070718 </td><td>-1.085242  </td><td>0.975313   </td><td>-0.09874366</td><td>-0.5649804 </td><td>-0.9383165 </td></tr>\n",
       "\t<tr><td>0.1822012  </td><td>-0.2561869 </td><td>-0.2413828 </td><td>-1.783389  </td><td>-0.13236   </td><td>0.108659   </td><td>-1.159902  </td><td>-0.7824886 </td><td>-0.734686  </td><td>-0.3826215 </td><td>...        </td><td>1.588504   </td><td>0.3801784  </td><td>-1.341198  </td><td>0.5506481  </td><td>0.01070718 </td><td>-1.085242  </td><td>0.975313   </td><td>-0.09874366</td><td>-0.5649804 </td><td>-0.9383165 </td></tr>\n",
       "\t<tr><td>0.1822012  </td><td>-0.2561869 </td><td>-0.2413828 </td><td>-1.783389  </td><td>-0.13236   </td><td>0.108659   </td><td>-1.159902  </td><td>-0.7824886 </td><td>-0.734686  </td><td>-0.3826215 </td><td>...        </td><td>1.588504   </td><td>0.3801784  </td><td>-1.341198  </td><td>0.5506481  </td><td>0.01070718 </td><td>-1.085242  </td><td>0.975313   </td><td>-0.09874366</td><td>-0.5649804 </td><td>-0.9383165 </td></tr>\n",
       "\t<tr><td>0.1822012  </td><td>-0.2561869 </td><td>-0.2413828 </td><td>-1.783389  </td><td>-0.13236   </td><td>0.108659   </td><td>-1.159902  </td><td>-0.7824886 </td><td>-0.734686  </td><td>-0.3826215 </td><td>...        </td><td>1.588504   </td><td>0.3801784  </td><td>-1.341198  </td><td>0.5506481  </td><td>0.01070718 </td><td>-1.085242  </td><td>0.975313   </td><td>-0.09874366</td><td>-0.5649804 </td><td>-0.9383165 </td></tr>\n",
       "\t<tr><td>0.1822012  </td><td>-0.2561869 </td><td>-0.2413828 </td><td>-1.783389  </td><td>-0.13236   </td><td>0.108659   </td><td>-1.159902  </td><td>-0.7824886 </td><td>-0.734686  </td><td>-0.3826215 </td><td>...        </td><td>1.588504   </td><td>0.3801784  </td><td>-1.341198  </td><td>0.5506481  </td><td>0.01070718 </td><td>-1.085242  </td><td>0.975313   </td><td>-0.09874366</td><td>-0.5649804 </td><td>-0.9383165 </td></tr>\n",
       "\t<tr><td>0.1822012  </td><td>-0.2561869 </td><td>-0.2413828 </td><td>-1.783389  </td><td>-0.13236   </td><td>0.108659   </td><td>-1.159902  </td><td>-0.7824886 </td><td>-0.734686  </td><td>-0.3826215 </td><td>...        </td><td>1.588504   </td><td>0.3801784  </td><td>-1.341198  </td><td>0.5506481  </td><td>0.01070718 </td><td>-1.085242  </td><td>0.975313   </td><td>-0.09874366</td><td>-0.5649804 </td><td>-0.9383165 </td></tr>\n",
       "\t<tr><td>0.1822012  </td><td>-0.2561869 </td><td>-0.2413828 </td><td>-1.783389  </td><td>-0.13236   </td><td>0.108659   </td><td>-1.159902  </td><td>-0.7824886 </td><td>-0.734686  </td><td>-0.3826215 </td><td>...        </td><td>1.588504   </td><td>0.3801784  </td><td>-1.341198  </td><td>0.5506481  </td><td>0.01070718 </td><td>-1.085242  </td><td>0.975313   </td><td>-0.09874366</td><td>-0.5649804 </td><td>-0.9383165 </td></tr>\n",
       "</tbody>\n",
       "</table>\n"
      ],
      "text/latex": [
       "\\begin{tabular}{llllllllllllllllllllllllllllllllllllllllllllllllllllllllllllllllllllllllllllllllllllllllllllllllllll}\n",
       "\t 0.1822012   & -0.2561869  & -0.2413828  & -1.783389   & -0.13236    & 0.108659    & -1.159902   & -0.7824886  & -0.734686   & -0.3826215  & ...         & 1.588504    & 0.3801784   & -1.341198   & 0.5506481   & 0.01070718  & -1.085242   & 0.975313    & -0.09874366 & -0.5649804  & -0.9383165 \\\\\n",
       "\t 0.1822012   & -0.2561869  & -0.2413828  & -1.783389   & -0.13236    & 0.108659    & -1.159902   & -0.7824886  & -0.734686   & -0.3826215  & ...         & 1.588504    & 0.3801784   & -1.341198   & 0.5506481   & 0.01070718  & -1.085242   & 0.975313    & -0.09874366 & -0.5649804  & -0.9383165 \\\\\n",
       "\t 0.1822012   & -0.2561869  & -0.2413828  & -1.783389   & -0.13236    & 0.108659    & -1.159902   & -0.7824886  & -0.734686   & -0.3826215  & ...         & 1.588504    & 0.3801784   & -1.341198   & 0.5506481   & 0.01070718  & -1.085242   & 0.975313    & -0.09874366 & -0.5649804  & -0.9383165 \\\\\n",
       "\t 0.1822012   & -0.2561869  & -0.2413828  & -1.783389   & -0.13236    & 0.108659    & -1.159902   & -0.7824886  & -0.734686   & -0.3826215  & ...         & 1.588504    & 0.3801784   & -1.341198   & 0.5506481   & 0.01070718  & -1.085242   & 0.975313    & -0.09874366 & -0.5649804  & -0.9383165 \\\\\n",
       "\t 0.1822012   & -0.2561869  & -0.2413828  & -1.783389   & -0.13236    & 0.108659    & -1.159902   & -0.7824886  & -0.734686   & -0.3826215  & ...         & 1.588504    & 0.3801784   & -1.341198   & 0.5506481   & 0.01070718  & -1.085242   & 0.975313    & -0.09874366 & -0.5649804  & -0.9383165 \\\\\n",
       "\t 0.1822012   & -0.2561869  & -0.2413828  & -1.783389   & -0.13236    & 0.108659    & -1.159902   & -0.7824886  & -0.734686   & -0.3826215  & ...         & 1.588504    & 0.3801784   & -1.341198   & 0.5506481   & 0.01070718  & -1.085242   & 0.975313    & -0.09874366 & -0.5649804  & -0.9383165 \\\\\n",
       "\t 0.1822012   & -0.2561869  & -0.2413828  & -1.783389   & -0.13236    & 0.108659    & -1.159902   & -0.7824886  & -0.734686   & -0.3826215  & ...         & 1.588504    & 0.3801784   & -1.341198   & 0.5506481   & 0.01070718  & -1.085242   & 0.975313    & -0.09874366 & -0.5649804  & -0.9383165 \\\\\n",
       "\t 0.1822012   & -0.2561869  & -0.2413828  & -1.783389   & -0.13236    & 0.108659    & -1.159902   & -0.7824886  & -0.734686   & -0.3826215  & ...         & 1.588504    & 0.3801784   & -1.341198   & 0.5506481   & 0.01070718  & -1.085242   & 0.975313    & -0.09874366 & -0.5649804  & -0.9383165 \\\\\n",
       "\\end{tabular}\n"
      ],
      "text/markdown": [
       "\n",
       "| 0.1822012   | -0.2561869  | -0.2413828  | -1.783389   | -0.13236    | 0.108659    | -1.159902   | -0.7824886  | -0.734686   | -0.3826215  | ...         | 1.588504    | 0.3801784   | -1.341198   | 0.5506481   | 0.01070718  | -1.085242   | 0.975313    | -0.09874366 | -0.5649804  | -0.9383165  |\n",
       "| 0.1822012   | -0.2561869  | -0.2413828  | -1.783389   | -0.13236    | 0.108659    | -1.159902   | -0.7824886  | -0.734686   | -0.3826215  | ...         | 1.588504    | 0.3801784   | -1.341198   | 0.5506481   | 0.01070718  | -1.085242   | 0.975313    | -0.09874366 | -0.5649804  | -0.9383165  |\n",
       "| 0.1822012   | -0.2561869  | -0.2413828  | -1.783389   | -0.13236    | 0.108659    | -1.159902   | -0.7824886  | -0.734686   | -0.3826215  | ...         | 1.588504    | 0.3801784   | -1.341198   | 0.5506481   | 0.01070718  | -1.085242   | 0.975313    | -0.09874366 | -0.5649804  | -0.9383165  |\n",
       "| 0.1822012   | -0.2561869  | -0.2413828  | -1.783389   | -0.13236    | 0.108659    | -1.159902   | -0.7824886  | -0.734686   | -0.3826215  | ...         | 1.588504    | 0.3801784   | -1.341198   | 0.5506481   | 0.01070718  | -1.085242   | 0.975313    | -0.09874366 | -0.5649804  | -0.9383165  |\n",
       "| 0.1822012   | -0.2561869  | -0.2413828  | -1.783389   | -0.13236    | 0.108659    | -1.159902   | -0.7824886  | -0.734686   | -0.3826215  | ...         | 1.588504    | 0.3801784   | -1.341198   | 0.5506481   | 0.01070718  | -1.085242   | 0.975313    | -0.09874366 | -0.5649804  | -0.9383165  |\n",
       "| 0.1822012   | -0.2561869  | -0.2413828  | -1.783389   | -0.13236    | 0.108659    | -1.159902   | -0.7824886  | -0.734686   | -0.3826215  | ...         | 1.588504    | 0.3801784   | -1.341198   | 0.5506481   | 0.01070718  | -1.085242   | 0.975313    | -0.09874366 | -0.5649804  | -0.9383165  |\n",
       "| 0.1822012   | -0.2561869  | -0.2413828  | -1.783389   | -0.13236    | 0.108659    | -1.159902   | -0.7824886  | -0.734686   | -0.3826215  | ...         | 1.588504    | 0.3801784   | -1.341198   | 0.5506481   | 0.01070718  | -1.085242   | 0.975313    | -0.09874366 | -0.5649804  | -0.9383165  |\n",
       "| 0.1822012   | -0.2561869  | -0.2413828  | -1.783389   | -0.13236    | 0.108659    | -1.159902   | -0.7824886  | -0.734686   | -0.3826215  | ...         | 1.588504    | 0.3801784   | -1.341198   | 0.5506481   | 0.01070718  | -1.085242   | 0.975313    | -0.09874366 | -0.5649804  | -0.9383165  |\n",
       "\n"
      ],
      "text/plain": [
       "     [,1]      [,2]       [,3]       [,4]      [,5]     [,6]     [,7]     \n",
       "[1,] 0.1822012 -0.2561869 -0.2413828 -1.783389 -0.13236 0.108659 -1.159902\n",
       "[2,] 0.1822012 -0.2561869 -0.2413828 -1.783389 -0.13236 0.108659 -1.159902\n",
       "[3,] 0.1822012 -0.2561869 -0.2413828 -1.783389 -0.13236 0.108659 -1.159902\n",
       "[4,] 0.1822012 -0.2561869 -0.2413828 -1.783389 -0.13236 0.108659 -1.159902\n",
       "[5,] 0.1822012 -0.2561869 -0.2413828 -1.783389 -0.13236 0.108659 -1.159902\n",
       "[6,] 0.1822012 -0.2561869 -0.2413828 -1.783389 -0.13236 0.108659 -1.159902\n",
       "[7,] 0.1822012 -0.2561869 -0.2413828 -1.783389 -0.13236 0.108659 -1.159902\n",
       "[8,] 0.1822012 -0.2561869 -0.2413828 -1.783389 -0.13236 0.108659 -1.159902\n",
       "     [,8]       [,9]      [,10]      [,11] [,12]    [,13]     [,14]    \n",
       "[1,] -0.7824886 -0.734686 -0.3826215 ...   1.588504 0.3801784 -1.341198\n",
       "[2,] -0.7824886 -0.734686 -0.3826215 ...   1.588504 0.3801784 -1.341198\n",
       "[3,] -0.7824886 -0.734686 -0.3826215 ...   1.588504 0.3801784 -1.341198\n",
       "[4,] -0.7824886 -0.734686 -0.3826215 ...   1.588504 0.3801784 -1.341198\n",
       "[5,] -0.7824886 -0.734686 -0.3826215 ...   1.588504 0.3801784 -1.341198\n",
       "[6,] -0.7824886 -0.734686 -0.3826215 ...   1.588504 0.3801784 -1.341198\n",
       "[7,] -0.7824886 -0.734686 -0.3826215 ...   1.588504 0.3801784 -1.341198\n",
       "[8,] -0.7824886 -0.734686 -0.3826215 ...   1.588504 0.3801784 -1.341198\n",
       "     [,15]     [,16]      [,17]     [,18]    [,19]       [,20]      [,21]     \n",
       "[1,] 0.5506481 0.01070718 -1.085242 0.975313 -0.09874366 -0.5649804 -0.9383165\n",
       "[2,] 0.5506481 0.01070718 -1.085242 0.975313 -0.09874366 -0.5649804 -0.9383165\n",
       "[3,] 0.5506481 0.01070718 -1.085242 0.975313 -0.09874366 -0.5649804 -0.9383165\n",
       "[4,] 0.5506481 0.01070718 -1.085242 0.975313 -0.09874366 -0.5649804 -0.9383165\n",
       "[5,] 0.5506481 0.01070718 -1.085242 0.975313 -0.09874366 -0.5649804 -0.9383165\n",
       "[6,] 0.5506481 0.01070718 -1.085242 0.975313 -0.09874366 -0.5649804 -0.9383165\n",
       "[7,] 0.5506481 0.01070718 -1.085242 0.975313 -0.09874366 -0.5649804 -0.9383165\n",
       "[8,] 0.5506481 0.01070718 -1.085242 0.975313 -0.09874366 -0.5649804 -0.9383165"
      ]
     },
     "metadata": {},
     "output_type": "display_data"
    },
    {
     "data": {
      "text/html": [
       "<table>\n",
       "<tbody>\n",
       "\t<tr><td>1  </td><td>2  </td><td>3  </td><td>4  </td><td>5  </td><td>6  </td><td>7  </td><td>8  </td><td>9  </td><td>10 </td><td>...</td><td>91 </td><td>92 </td><td>93 </td><td>94 </td><td>95 </td><td>96 </td><td>97 </td><td>98 </td><td>99 </td><td>100</td></tr>\n",
       "\t<tr><td>1  </td><td>2  </td><td>3  </td><td>4  </td><td>5  </td><td>6  </td><td>7  </td><td>8  </td><td>9  </td><td>10 </td><td>...</td><td>91 </td><td>92 </td><td>93 </td><td>94 </td><td>95 </td><td>96 </td><td>97 </td><td>98 </td><td>99 </td><td>100</td></tr>\n",
       "\t<tr><td>1  </td><td>2  </td><td>3  </td><td>4  </td><td>5  </td><td>6  </td><td>7  </td><td>8  </td><td>9  </td><td>10 </td><td>...</td><td>91 </td><td>92 </td><td>93 </td><td>94 </td><td>95 </td><td>96 </td><td>97 </td><td>98 </td><td>99 </td><td>100</td></tr>\n",
       "\t<tr><td>1  </td><td>2  </td><td>3  </td><td>4  </td><td>5  </td><td>6  </td><td>7  </td><td>8  </td><td>9  </td><td>10 </td><td>...</td><td>91 </td><td>92 </td><td>93 </td><td>94 </td><td>95 </td><td>96 </td><td>97 </td><td>98 </td><td>99 </td><td>100</td></tr>\n",
       "\t<tr><td>1  </td><td>2  </td><td>3  </td><td>4  </td><td>5  </td><td>6  </td><td>7  </td><td>8  </td><td>9  </td><td>10 </td><td>...</td><td>91 </td><td>92 </td><td>93 </td><td>94 </td><td>95 </td><td>96 </td><td>97 </td><td>98 </td><td>99 </td><td>100</td></tr>\n",
       "\t<tr><td>1  </td><td>2  </td><td>3  </td><td>4  </td><td>5  </td><td>6  </td><td>7  </td><td>8  </td><td>9  </td><td>10 </td><td>...</td><td>91 </td><td>92 </td><td>93 </td><td>94 </td><td>95 </td><td>96 </td><td>97 </td><td>98 </td><td>99 </td><td>100</td></tr>\n",
       "\t<tr><td>1  </td><td>2  </td><td>3  </td><td>4  </td><td>5  </td><td>6  </td><td>7  </td><td>8  </td><td>9  </td><td>10 </td><td>...</td><td>91 </td><td>92 </td><td>93 </td><td>94 </td><td>95 </td><td>96 </td><td>97 </td><td>98 </td><td>99 </td><td>100</td></tr>\n",
       "\t<tr><td>1  </td><td>2  </td><td>3  </td><td>4  </td><td>5  </td><td>6  </td><td>7  </td><td>8  </td><td>9  </td><td>10 </td><td>...</td><td>91 </td><td>92 </td><td>93 </td><td>94 </td><td>95 </td><td>96 </td><td>97 </td><td>98 </td><td>99 </td><td>100</td></tr>\n",
       "</tbody>\n",
       "</table>\n"
      ],
      "text/latex": [
       "\\begin{tabular}{llllllllllllllllllllllllllllllllllllllllllllllllllllllllllllllllllllllllllllllllllllllllllllllllllll}\n",
       "\t 1   & 2   & 3   & 4   & 5   & 6   & 7   & 8   & 9   & 10  & ... & 91  & 92  & 93  & 94  & 95  & 96  & 97  & 98  & 99  & 100\\\\\n",
       "\t 1   & 2   & 3   & 4   & 5   & 6   & 7   & 8   & 9   & 10  & ... & 91  & 92  & 93  & 94  & 95  & 96  & 97  & 98  & 99  & 100\\\\\n",
       "\t 1   & 2   & 3   & 4   & 5   & 6   & 7   & 8   & 9   & 10  & ... & 91  & 92  & 93  & 94  & 95  & 96  & 97  & 98  & 99  & 100\\\\\n",
       "\t 1   & 2   & 3   & 4   & 5   & 6   & 7   & 8   & 9   & 10  & ... & 91  & 92  & 93  & 94  & 95  & 96  & 97  & 98  & 99  & 100\\\\\n",
       "\t 1   & 2   & 3   & 4   & 5   & 6   & 7   & 8   & 9   & 10  & ... & 91  & 92  & 93  & 94  & 95  & 96  & 97  & 98  & 99  & 100\\\\\n",
       "\t 1   & 2   & 3   & 4   & 5   & 6   & 7   & 8   & 9   & 10  & ... & 91  & 92  & 93  & 94  & 95  & 96  & 97  & 98  & 99  & 100\\\\\n",
       "\t 1   & 2   & 3   & 4   & 5   & 6   & 7   & 8   & 9   & 10  & ... & 91  & 92  & 93  & 94  & 95  & 96  & 97  & 98  & 99  & 100\\\\\n",
       "\t 1   & 2   & 3   & 4   & 5   & 6   & 7   & 8   & 9   & 10  & ... & 91  & 92  & 93  & 94  & 95  & 96  & 97  & 98  & 99  & 100\\\\\n",
       "\\end{tabular}\n"
      ],
      "text/markdown": [
       "\n",
       "| 1   | 2   | 3   | 4   | 5   | 6   | 7   | 8   | 9   | 10  | ... | 91  | 92  | 93  | 94  | 95  | 96  | 97  | 98  | 99  | 100 |\n",
       "| 1   | 2   | 3   | 4   | 5   | 6   | 7   | 8   | 9   | 10  | ... | 91  | 92  | 93  | 94  | 95  | 96  | 97  | 98  | 99  | 100 |\n",
       "| 1   | 2   | 3   | 4   | 5   | 6   | 7   | 8   | 9   | 10  | ... | 91  | 92  | 93  | 94  | 95  | 96  | 97  | 98  | 99  | 100 |\n",
       "| 1   | 2   | 3   | 4   | 5   | 6   | 7   | 8   | 9   | 10  | ... | 91  | 92  | 93  | 94  | 95  | 96  | 97  | 98  | 99  | 100 |\n",
       "| 1   | 2   | 3   | 4   | 5   | 6   | 7   | 8   | 9   | 10  | ... | 91  | 92  | 93  | 94  | 95  | 96  | 97  | 98  | 99  | 100 |\n",
       "| 1   | 2   | 3   | 4   | 5   | 6   | 7   | 8   | 9   | 10  | ... | 91  | 92  | 93  | 94  | 95  | 96  | 97  | 98  | 99  | 100 |\n",
       "| 1   | 2   | 3   | 4   | 5   | 6   | 7   | 8   | 9   | 10  | ... | 91  | 92  | 93  | 94  | 95  | 96  | 97  | 98  | 99  | 100 |\n",
       "| 1   | 2   | 3   | 4   | 5   | 6   | 7   | 8   | 9   | 10  | ... | 91  | 92  | 93  | 94  | 95  | 96  | 97  | 98  | 99  | 100 |\n",
       "\n"
      ],
      "text/plain": [
       "     [,1] [,2] [,3] [,4] [,5] [,6] [,7] [,8] [,9] [,10] [,11] [,12] [,13] [,14]\n",
       "[1,] 1    2    3    4    5    6    7    8    9    10    ...   91    92    93   \n",
       "[2,] 1    2    3    4    5    6    7    8    9    10    ...   91    92    93   \n",
       "[3,] 1    2    3    4    5    6    7    8    9    10    ...   91    92    93   \n",
       "[4,] 1    2    3    4    5    6    7    8    9    10    ...   91    92    93   \n",
       "[5,] 1    2    3    4    5    6    7    8    9    10    ...   91    92    93   \n",
       "[6,] 1    2    3    4    5    6    7    8    9    10    ...   91    92    93   \n",
       "[7,] 1    2    3    4    5    6    7    8    9    10    ...   91    92    93   \n",
       "[8,] 1    2    3    4    5    6    7    8    9    10    ...   91    92    93   \n",
       "     [,15] [,16] [,17] [,18] [,19] [,20] [,21]\n",
       "[1,] 94    95    96    97    98    99    100  \n",
       "[2,] 94    95    96    97    98    99    100  \n",
       "[3,] 94    95    96    97    98    99    100  \n",
       "[4,] 94    95    96    97    98    99    100  \n",
       "[5,] 94    95    96    97    98    99    100  \n",
       "[6,] 94    95    96    97    98    99    100  \n",
       "[7,] 94    95    96    97    98    99    100  \n",
       "[8,] 94    95    96    97    98    99    100  "
      ]
     },
     "metadata": {},
     "output_type": "display_data"
    }
   ],
   "source": [
    "# EACH COLUMN IS A HOUSE\n",
    "house_effect<-matrix(house_effect, nc=num_house, nr=8, byrow=T)\n",
    "house_ID<-matrix(house_ID, nc=num_house, nr=8, byrow=T)\n",
    "house_effect\n",
    "house_ID"
   ]
  },
  {
   "cell_type": "markdown",
   "id": "b8e41176",
   "metadata": {},
   "source": [
    "#### Random effect 2: overdispersion\n",
    "Overdispersion can be introduced as observation level random effects. Variance is 1. "
   ]
  },
  {
   "cell_type": "code",
   "execution_count": 4,
   "id": "c8c3730c",
   "metadata": {},
   "outputs": [
    {
     "data": {
      "text/html": [
       "<table>\n",
       "<tbody>\n",
       "\t<tr><td> 0.5996197 </td><td> 1.73440013</td><td>-1.3169968 </td><td> 1.5653261 </td><td>-1.5969019 </td><td> 0.67444669</td><td>-0.12512399</td><td>-0.4273199 </td><td> 0.4717737 </td><td>-0.39850496</td><td>...        </td><td>-1.1004972 </td><td> 1.1912546 </td><td> 0.3250041 </td><td> 0.1900070 </td><td> 0.1676897 </td><td> 0.2389344 </td><td>-1.9300003 </td><td>-0.6630185 </td><td> 0.66696378</td><td>-0.5423281 </td></tr>\n",
       "\t<tr><td>-1.1603295 </td><td>-0.34985053</td><td>-1.4269351 </td><td>-0.8471184 </td><td>-0.0875886 </td><td> 0.63592054</td><td> 0.76680042</td><td> 0.4429793 </td><td> 0.3894999 </td><td> 0.27520256</td><td>...        </td><td>-1.2717121 </td><td>-0.4876390 </td><td> 0.2408380 </td><td>-0.3999667 </td><td>-0.5230218 </td><td>-1.2430490 </td><td>-1.1854660 </td><td>-1.4335782 </td><td>-1.16537046</td><td> 1.3252205 </td></tr>\n",
       "\t<tr><td> 0.4390934 </td><td> 1.19918551</td><td> 0.8794416 </td><td> 1.3276602 </td><td> 0.3607676 </td><td>-0.61297039</td><td>-0.09152026</td><td>-1.1878079 </td><td> 0.5219403 </td><td>-1.26871880</td><td>...        </td><td>-2.0701752 </td><td> 0.1678110 </td><td>-0.5925680 </td><td>-0.4026083 </td><td>-0.3834947 </td><td>-0.6370560 </td><td>-0.4664107 </td><td> 1.3806252 </td><td> 0.01250208</td><td> 0.7383331 </td></tr>\n",
       "\t<tr><td> 0.2048537 </td><td> 1.02390100</td><td> 0.3939916 </td><td> 0.4770463 </td><td>-0.8799600 </td><td> 0.41489135</td><td>-1.87430581</td><td> 0.6264255 </td><td> 0.9044528 </td><td>-0.01008133</td><td>...        </td><td> 0.3197090 </td><td> 1.2926928 </td><td> 0.2633959 </td><td>-0.4869755 </td><td>-1.5996125 </td><td>-1.5533964 </td><td> 0.1461996 </td><td>-0.9568633 </td><td>-1.07962295</td><td>-0.1152228 </td></tr>\n",
       "\t<tr><td>-0.6991813 </td><td>-0.04627515</td><td> 0.6889255 </td><td> 0.1852509 </td><td>-3.3233350 </td><td> 0.87734337</td><td>-0.66416202</td><td> 0.3616466 </td><td> 1.6967909 </td><td> 0.65340172</td><td>...        </td><td> 0.2478376 </td><td> 0.8615212 </td><td>-1.9537299 </td><td>-0.8918454 </td><td> 0.3937841 </td><td>-0.3710646 </td><td> 0.4120291 </td><td>-1.0307271 </td><td> 0.26083369</td><td>-0.2457786 </td></tr>\n",
       "\t<tr><td>-0.9266257 </td><td> 1.38650843</td><td> 2.3537165 </td><td> 0.2532949 </td><td>-0.4675155 </td><td> 0.02115758</td><td> 0.20341282</td><td>-0.4729606 </td><td>-0.8843374 </td><td> 0.09857998</td><td>...        </td><td> 0.6933552 </td><td> 1.9954360 </td><td>-1.7876480 </td><td>-1.4086421 </td><td> 1.7164187 </td><td> 0.1906151 </td><td> 0.7806168 </td><td>-1.1753491 </td><td>-0.86522997</td><td> 0.4682787 </td></tr>\n",
       "</tbody>\n",
       "</table>\n"
      ],
      "text/latex": [
       "\\begin{tabular}{llllllllllllllllllllllllllllllllllllllllllllllllllllllllllllllllllllllllllllllllllllllllllllllllllll}\n",
       "\t  0.5996197  &  1.73440013 & -1.3169968  &  1.5653261  & -1.5969019  &  0.67444669 & -0.12512399 & -0.4273199  &  0.4717737  & -0.39850496 & ...         & -1.1004972  &  1.1912546  &  0.3250041  &  0.1900070  &  0.1676897  &  0.2389344  & -1.9300003  & -0.6630185  &  0.66696378 & -0.5423281 \\\\\n",
       "\t -1.1603295  & -0.34985053 & -1.4269351  & -0.8471184  & -0.0875886  &  0.63592054 &  0.76680042 &  0.4429793  &  0.3894999  &  0.27520256 & ...         & -1.2717121  & -0.4876390  &  0.2408380  & -0.3999667  & -0.5230218  & -1.2430490  & -1.1854660  & -1.4335782  & -1.16537046 &  1.3252205 \\\\\n",
       "\t  0.4390934  &  1.19918551 &  0.8794416  &  1.3276602  &  0.3607676  & -0.61297039 & -0.09152026 & -1.1878079  &  0.5219403  & -1.26871880 & ...         & -2.0701752  &  0.1678110  & -0.5925680  & -0.4026083  & -0.3834947  & -0.6370560  & -0.4664107  &  1.3806252  &  0.01250208 &  0.7383331 \\\\\n",
       "\t  0.2048537  &  1.02390100 &  0.3939916  &  0.4770463  & -0.8799600  &  0.41489135 & -1.87430581 &  0.6264255  &  0.9044528  & -0.01008133 & ...         &  0.3197090  &  1.2926928  &  0.2633959  & -0.4869755  & -1.5996125  & -1.5533964  &  0.1461996  & -0.9568633  & -1.07962295 & -0.1152228 \\\\\n",
       "\t -0.6991813  & -0.04627515 &  0.6889255  &  0.1852509  & -3.3233350  &  0.87734337 & -0.66416202 &  0.3616466  &  1.6967909  &  0.65340172 & ...         &  0.2478376  &  0.8615212  & -1.9537299  & -0.8918454  &  0.3937841  & -0.3710646  &  0.4120291  & -1.0307271  &  0.26083369 & -0.2457786 \\\\\n",
       "\t -0.9266257  &  1.38650843 &  2.3537165  &  0.2532949  & -0.4675155  &  0.02115758 &  0.20341282 & -0.4729606  & -0.8843374  &  0.09857998 & ...         &  0.6933552  &  1.9954360  & -1.7876480  & -1.4086421  &  1.7164187  &  0.1906151  &  0.7806168  & -1.1753491  & -0.86522997 &  0.4682787 \\\\\n",
       "\\end{tabular}\n"
      ],
      "text/markdown": [
       "\n",
       "|  0.5996197  |  1.73440013 | -1.3169968  |  1.5653261  | -1.5969019  |  0.67444669 | -0.12512399 | -0.4273199  |  0.4717737  | -0.39850496 | ...         | -1.1004972  |  1.1912546  |  0.3250041  |  0.1900070  |  0.1676897  |  0.2389344  | -1.9300003  | -0.6630185  |  0.66696378 | -0.5423281  |\n",
       "| -1.1603295  | -0.34985053 | -1.4269351  | -0.8471184  | -0.0875886  |  0.63592054 |  0.76680042 |  0.4429793  |  0.3894999  |  0.27520256 | ...         | -1.2717121  | -0.4876390  |  0.2408380  | -0.3999667  | -0.5230218  | -1.2430490  | -1.1854660  | -1.4335782  | -1.16537046 |  1.3252205  |\n",
       "|  0.4390934  |  1.19918551 |  0.8794416  |  1.3276602  |  0.3607676  | -0.61297039 | -0.09152026 | -1.1878079  |  0.5219403  | -1.26871880 | ...         | -2.0701752  |  0.1678110  | -0.5925680  | -0.4026083  | -0.3834947  | -0.6370560  | -0.4664107  |  1.3806252  |  0.01250208 |  0.7383331  |\n",
       "|  0.2048537  |  1.02390100 |  0.3939916  |  0.4770463  | -0.8799600  |  0.41489135 | -1.87430581 |  0.6264255  |  0.9044528  | -0.01008133 | ...         |  0.3197090  |  1.2926928  |  0.2633959  | -0.4869755  | -1.5996125  | -1.5533964  |  0.1461996  | -0.9568633  | -1.07962295 | -0.1152228  |\n",
       "| -0.6991813  | -0.04627515 |  0.6889255  |  0.1852509  | -3.3233350  |  0.87734337 | -0.66416202 |  0.3616466  |  1.6967909  |  0.65340172 | ...         |  0.2478376  |  0.8615212  | -1.9537299  | -0.8918454  |  0.3937841  | -0.3710646  |  0.4120291  | -1.0307271  |  0.26083369 | -0.2457786  |\n",
       "| -0.9266257  |  1.38650843 |  2.3537165  |  0.2532949  | -0.4675155  |  0.02115758 |  0.20341282 | -0.4729606  | -0.8843374  |  0.09857998 | ...         |  0.6933552  |  1.9954360  | -1.7876480  | -1.4086421  |  1.7164187  |  0.1906151  |  0.7806168  | -1.1753491  | -0.86522997 |  0.4682787  |\n",
       "\n"
      ],
      "text/plain": [
       "     [,1]       [,2]        [,3]       [,4]       [,5]       [,6]       \n",
       "[1,]  0.5996197  1.73440013 -1.3169968  1.5653261 -1.5969019  0.67444669\n",
       "[2,] -1.1603295 -0.34985053 -1.4269351 -0.8471184 -0.0875886  0.63592054\n",
       "[3,]  0.4390934  1.19918551  0.8794416  1.3276602  0.3607676 -0.61297039\n",
       "[4,]  0.2048537  1.02390100  0.3939916  0.4770463 -0.8799600  0.41489135\n",
       "[5,] -0.6991813 -0.04627515  0.6889255  0.1852509 -3.3233350  0.87734337\n",
       "[6,] -0.9266257  1.38650843  2.3537165  0.2532949 -0.4675155  0.02115758\n",
       "     [,7]        [,8]       [,9]       [,10]       [,11] [,12]      [,13]     \n",
       "[1,] -0.12512399 -0.4273199  0.4717737 -0.39850496 ...   -1.1004972  1.1912546\n",
       "[2,]  0.76680042  0.4429793  0.3894999  0.27520256 ...   -1.2717121 -0.4876390\n",
       "[3,] -0.09152026 -1.1878079  0.5219403 -1.26871880 ...   -2.0701752  0.1678110\n",
       "[4,] -1.87430581  0.6264255  0.9044528 -0.01008133 ...    0.3197090  1.2926928\n",
       "[5,] -0.66416202  0.3616466  1.6967909  0.65340172 ...    0.2478376  0.8615212\n",
       "[6,]  0.20341282 -0.4729606 -0.8843374  0.09857998 ...    0.6933552  1.9954360\n",
       "     [,14]      [,15]      [,16]      [,17]      [,18]      [,19]     \n",
       "[1,]  0.3250041  0.1900070  0.1676897  0.2389344 -1.9300003 -0.6630185\n",
       "[2,]  0.2408380 -0.3999667 -0.5230218 -1.2430490 -1.1854660 -1.4335782\n",
       "[3,] -0.5925680 -0.4026083 -0.3834947 -0.6370560 -0.4664107  1.3806252\n",
       "[4,]  0.2633959 -0.4869755 -1.5996125 -1.5533964  0.1461996 -0.9568633\n",
       "[5,] -1.9537299 -0.8918454  0.3937841 -0.3710646  0.4120291 -1.0307271\n",
       "[6,] -1.7876480 -1.4086421  1.7164187  0.1906151  0.7806168 -1.1753491\n",
       "     [,20]       [,21]     \n",
       "[1,]  0.66696378 -0.5423281\n",
       "[2,] -1.16537046  1.3252205\n",
       "[3,]  0.01250208  0.7383331\n",
       "[4,] -1.07962295 -0.1152228\n",
       "[5,]  0.26083369 -0.2457786\n",
       "[6,] -0.86522997  0.4682787"
      ]
     },
     "metadata": {},
     "output_type": "display_data"
    },
    {
     "data": {
      "text/html": [
       "0.954496734798976"
      ],
      "text/latex": [
       "0.954496734798976"
      ],
      "text/markdown": [
       "0.954496734798976"
      ],
      "text/plain": [
       "[1] 0.9544967"
      ]
     },
     "metadata": {},
     "output_type": "display_data"
    }
   ],
   "source": [
    "overdispersion_effect<-matrix(rnorm(num_house*8, mean=0, sd=1), nr=8)\n",
    "head(overdispersion_effect)\n",
    "var(as.vector(overdispersion_effect)) # SAMPLE VARIANCE"
   ]
  },
  {
   "cell_type": "markdown",
   "id": "0253cd2a",
   "metadata": {},
   "source": [
    "Let us also define the other fixed effects. \n",
    "\n",
    "#### Fixed effect 1: monthly variation\n",
    "Just like our real Burkina dataset we have monthly factors as our fixed effect. To simplify the model we assume there are only two month levels: Jan and July, representing the two seasons. For Jan, the effect is 0.5. For July, the effect is 4. The difference between the two levels is 3.5. "
   ]
  },
  {
   "cell_type": "code",
   "execution_count": 5,
   "id": "1002f1c8",
   "metadata": {},
   "outputs": [
    {
     "data": {
      "text/html": [
       "<table>\n",
       "<tbody>\n",
       "\t<tr><td>Jan </td><td>Jan </td><td>Jan </td><td>Jan </td><td>Jan </td><td>Jan </td><td>Jan </td><td>Jan </td><td>Jan </td><td>Jan </td><td>... </td><td>Jan </td><td>Jan </td><td>Jan </td><td>Jan </td><td>Jan </td><td>Jan </td><td>Jan </td><td>Jan </td><td>Jan </td><td>Jan </td></tr>\n",
       "\t<tr><td>Jan </td><td>Jan </td><td>Jan </td><td>Jan </td><td>Jan </td><td>Jan </td><td>Jan </td><td>Jan </td><td>Jan </td><td>Jan </td><td>... </td><td>Jan </td><td>Jan </td><td>Jan </td><td>Jan </td><td>Jan </td><td>Jan </td><td>Jan </td><td>Jan </td><td>Jan </td><td>Jan </td></tr>\n",
       "\t<tr><td>Jan </td><td>Jan </td><td>Jan </td><td>Jan </td><td>Jan </td><td>Jan </td><td>Jan </td><td>Jan </td><td>Jan </td><td>Jan </td><td>... </td><td>Jan </td><td>Jan </td><td>Jan </td><td>Jan </td><td>Jan </td><td>Jan </td><td>Jan </td><td>Jan </td><td>Jan </td><td>Jan </td></tr>\n",
       "\t<tr><td>Jan </td><td>Jan </td><td>Jan </td><td>Jan </td><td>Jan </td><td>Jan </td><td>Jan </td><td>Jan </td><td>Jan </td><td>Jan </td><td>... </td><td>Jan </td><td>Jan </td><td>Jan </td><td>Jan </td><td>Jan </td><td>Jan </td><td>Jan </td><td>Jan </td><td>Jan </td><td>Jan </td></tr>\n",
       "\t<tr><td>July</td><td>July</td><td>July</td><td>July</td><td>July</td><td>July</td><td>July</td><td>July</td><td>July</td><td>July</td><td>... </td><td>July</td><td>July</td><td>July</td><td>July</td><td>July</td><td>July</td><td>July</td><td>July</td><td>July</td><td>July</td></tr>\n",
       "\t<tr><td>July</td><td>July</td><td>July</td><td>July</td><td>July</td><td>July</td><td>July</td><td>July</td><td>July</td><td>July</td><td>... </td><td>July</td><td>July</td><td>July</td><td>July</td><td>July</td><td>July</td><td>July</td><td>July</td><td>July</td><td>July</td></tr>\n",
       "\t<tr><td>July</td><td>July</td><td>July</td><td>July</td><td>July</td><td>July</td><td>July</td><td>July</td><td>July</td><td>July</td><td>... </td><td>July</td><td>July</td><td>July</td><td>July</td><td>July</td><td>July</td><td>July</td><td>July</td><td>July</td><td>July</td></tr>\n",
       "\t<tr><td>July</td><td>July</td><td>July</td><td>July</td><td>July</td><td>July</td><td>July</td><td>July</td><td>July</td><td>July</td><td>... </td><td>July</td><td>July</td><td>July</td><td>July</td><td>July</td><td>July</td><td>July</td><td>July</td><td>July</td><td>July</td></tr>\n",
       "</tbody>\n",
       "</table>\n"
      ],
      "text/latex": [
       "\\begin{tabular}{llllllllllllllllllllllllllllllllllllllllllllllllllllllllllllllllllllllllllllllllllllllllllllllllllll}\n",
       "\t Jan  & Jan  & Jan  & Jan  & Jan  & Jan  & Jan  & Jan  & Jan  & Jan  & ...  & Jan  & Jan  & Jan  & Jan  & Jan  & Jan  & Jan  & Jan  & Jan  & Jan \\\\\n",
       "\t Jan  & Jan  & Jan  & Jan  & Jan  & Jan  & Jan  & Jan  & Jan  & Jan  & ...  & Jan  & Jan  & Jan  & Jan  & Jan  & Jan  & Jan  & Jan  & Jan  & Jan \\\\\n",
       "\t Jan  & Jan  & Jan  & Jan  & Jan  & Jan  & Jan  & Jan  & Jan  & Jan  & ...  & Jan  & Jan  & Jan  & Jan  & Jan  & Jan  & Jan  & Jan  & Jan  & Jan \\\\\n",
       "\t Jan  & Jan  & Jan  & Jan  & Jan  & Jan  & Jan  & Jan  & Jan  & Jan  & ...  & Jan  & Jan  & Jan  & Jan  & Jan  & Jan  & Jan  & Jan  & Jan  & Jan \\\\\n",
       "\t July & July & July & July & July & July & July & July & July & July & ...  & July & July & July & July & July & July & July & July & July & July\\\\\n",
       "\t July & July & July & July & July & July & July & July & July & July & ...  & July & July & July & July & July & July & July & July & July & July\\\\\n",
       "\t July & July & July & July & July & July & July & July & July & July & ...  & July & July & July & July & July & July & July & July & July & July\\\\\n",
       "\t July & July & July & July & July & July & July & July & July & July & ...  & July & July & July & July & July & July & July & July & July & July\\\\\n",
       "\\end{tabular}\n"
      ],
      "text/markdown": [
       "\n",
       "| Jan  | Jan  | Jan  | Jan  | Jan  | Jan  | Jan  | Jan  | Jan  | Jan  | ...  | Jan  | Jan  | Jan  | Jan  | Jan  | Jan  | Jan  | Jan  | Jan  | Jan  |\n",
       "| Jan  | Jan  | Jan  | Jan  | Jan  | Jan  | Jan  | Jan  | Jan  | Jan  | ...  | Jan  | Jan  | Jan  | Jan  | Jan  | Jan  | Jan  | Jan  | Jan  | Jan  |\n",
       "| Jan  | Jan  | Jan  | Jan  | Jan  | Jan  | Jan  | Jan  | Jan  | Jan  | ...  | Jan  | Jan  | Jan  | Jan  | Jan  | Jan  | Jan  | Jan  | Jan  | Jan  |\n",
       "| Jan  | Jan  | Jan  | Jan  | Jan  | Jan  | Jan  | Jan  | Jan  | Jan  | ...  | Jan  | Jan  | Jan  | Jan  | Jan  | Jan  | Jan  | Jan  | Jan  | Jan  |\n",
       "| July | July | July | July | July | July | July | July | July | July | ...  | July | July | July | July | July | July | July | July | July | July |\n",
       "| July | July | July | July | July | July | July | July | July | July | ...  | July | July | July | July | July | July | July | July | July | July |\n",
       "| July | July | July | July | July | July | July | July | July | July | ...  | July | July | July | July | July | July | July | July | July | July |\n",
       "| July | July | July | July | July | July | July | July | July | July | ...  | July | July | July | July | July | July | July | July | July | July |\n",
       "\n"
      ],
      "text/plain": [
       "     [,1] [,2] [,3] [,4] [,5] [,6] [,7] [,8] [,9] [,10] [,11] [,12] [,13] [,14]\n",
       "[1,] Jan  Jan  Jan  Jan  Jan  Jan  Jan  Jan  Jan  Jan   ...   Jan   Jan   Jan  \n",
       "[2,] Jan  Jan  Jan  Jan  Jan  Jan  Jan  Jan  Jan  Jan   ...   Jan   Jan   Jan  \n",
       "[3,] Jan  Jan  Jan  Jan  Jan  Jan  Jan  Jan  Jan  Jan   ...   Jan   Jan   Jan  \n",
       "[4,] Jan  Jan  Jan  Jan  Jan  Jan  Jan  Jan  Jan  Jan   ...   Jan   Jan   Jan  \n",
       "[5,] July July July July July July July July July July  ...   July  July  July \n",
       "[6,] July July July July July July July July July July  ...   July  July  July \n",
       "[7,] July July July July July July July July July July  ...   July  July  July \n",
       "[8,] July July July July July July July July July July  ...   July  July  July \n",
       "     [,15] [,16] [,17] [,18] [,19] [,20] [,21]\n",
       "[1,] Jan   Jan   Jan   Jan   Jan   Jan   Jan  \n",
       "[2,] Jan   Jan   Jan   Jan   Jan   Jan   Jan  \n",
       "[3,] Jan   Jan   Jan   Jan   Jan   Jan   Jan  \n",
       "[4,] Jan   Jan   Jan   Jan   Jan   Jan   Jan  \n",
       "[5,] July  July  July  July  July  July  July \n",
       "[6,] July  July  July  July  July  July  July \n",
       "[7,] July  July  July  July  July  July  July \n",
       "[8,] July  July  July  July  July  July  July "
      ]
     },
     "metadata": {},
     "output_type": "display_data"
    },
    {
     "data": {
      "text/html": [
       "<table>\n",
       "<tbody>\n",
       "\t<tr><td>0.5</td><td>0.5</td><td>0.5</td><td>0.5</td><td>0.5</td><td>0.5</td><td>0.5</td><td>0.5</td><td>0.5</td><td>0.5</td><td>...</td><td>0.5</td><td>0.5</td><td>0.5</td><td>0.5</td><td>0.5</td><td>0.5</td><td>0.5</td><td>0.5</td><td>0.5</td><td>0.5</td></tr>\n",
       "\t<tr><td>0.5</td><td>0.5</td><td>0.5</td><td>0.5</td><td>0.5</td><td>0.5</td><td>0.5</td><td>0.5</td><td>0.5</td><td>0.5</td><td>...</td><td>0.5</td><td>0.5</td><td>0.5</td><td>0.5</td><td>0.5</td><td>0.5</td><td>0.5</td><td>0.5</td><td>0.5</td><td>0.5</td></tr>\n",
       "\t<tr><td>0.5</td><td>0.5</td><td>0.5</td><td>0.5</td><td>0.5</td><td>0.5</td><td>0.5</td><td>0.5</td><td>0.5</td><td>0.5</td><td>...</td><td>0.5</td><td>0.5</td><td>0.5</td><td>0.5</td><td>0.5</td><td>0.5</td><td>0.5</td><td>0.5</td><td>0.5</td><td>0.5</td></tr>\n",
       "\t<tr><td>0.5</td><td>0.5</td><td>0.5</td><td>0.5</td><td>0.5</td><td>0.5</td><td>0.5</td><td>0.5</td><td>0.5</td><td>0.5</td><td>...</td><td>0.5</td><td>0.5</td><td>0.5</td><td>0.5</td><td>0.5</td><td>0.5</td><td>0.5</td><td>0.5</td><td>0.5</td><td>0.5</td></tr>\n",
       "\t<tr><td>4.0</td><td>4.0</td><td>4.0</td><td>4.0</td><td>4.0</td><td>4.0</td><td>4.0</td><td>4.0</td><td>4.0</td><td>4.0</td><td>...</td><td>4.0</td><td>4.0</td><td>4.0</td><td>4.0</td><td>4.0</td><td>4.0</td><td>4.0</td><td>4.0</td><td>4.0</td><td>4.0</td></tr>\n",
       "\t<tr><td>4.0</td><td>4.0</td><td>4.0</td><td>4.0</td><td>4.0</td><td>4.0</td><td>4.0</td><td>4.0</td><td>4.0</td><td>4.0</td><td>...</td><td>4.0</td><td>4.0</td><td>4.0</td><td>4.0</td><td>4.0</td><td>4.0</td><td>4.0</td><td>4.0</td><td>4.0</td><td>4.0</td></tr>\n",
       "\t<tr><td>4.0</td><td>4.0</td><td>4.0</td><td>4.0</td><td>4.0</td><td>4.0</td><td>4.0</td><td>4.0</td><td>4.0</td><td>4.0</td><td>...</td><td>4.0</td><td>4.0</td><td>4.0</td><td>4.0</td><td>4.0</td><td>4.0</td><td>4.0</td><td>4.0</td><td>4.0</td><td>4.0</td></tr>\n",
       "\t<tr><td>4.0</td><td>4.0</td><td>4.0</td><td>4.0</td><td>4.0</td><td>4.0</td><td>4.0</td><td>4.0</td><td>4.0</td><td>4.0</td><td>...</td><td>4.0</td><td>4.0</td><td>4.0</td><td>4.0</td><td>4.0</td><td>4.0</td><td>4.0</td><td>4.0</td><td>4.0</td><td>4.0</td></tr>\n",
       "</tbody>\n",
       "</table>\n"
      ],
      "text/latex": [
       "\\begin{tabular}{llllllllllllllllllllllllllllllllllllllllllllllllllllllllllllllllllllllllllllllllllllllllllllllllllll}\n",
       "\t 0.5 & 0.5 & 0.5 & 0.5 & 0.5 & 0.5 & 0.5 & 0.5 & 0.5 & 0.5 & ... & 0.5 & 0.5 & 0.5 & 0.5 & 0.5 & 0.5 & 0.5 & 0.5 & 0.5 & 0.5\\\\\n",
       "\t 0.5 & 0.5 & 0.5 & 0.5 & 0.5 & 0.5 & 0.5 & 0.5 & 0.5 & 0.5 & ... & 0.5 & 0.5 & 0.5 & 0.5 & 0.5 & 0.5 & 0.5 & 0.5 & 0.5 & 0.5\\\\\n",
       "\t 0.5 & 0.5 & 0.5 & 0.5 & 0.5 & 0.5 & 0.5 & 0.5 & 0.5 & 0.5 & ... & 0.5 & 0.5 & 0.5 & 0.5 & 0.5 & 0.5 & 0.5 & 0.5 & 0.5 & 0.5\\\\\n",
       "\t 0.5 & 0.5 & 0.5 & 0.5 & 0.5 & 0.5 & 0.5 & 0.5 & 0.5 & 0.5 & ... & 0.5 & 0.5 & 0.5 & 0.5 & 0.5 & 0.5 & 0.5 & 0.5 & 0.5 & 0.5\\\\\n",
       "\t 4.0 & 4.0 & 4.0 & 4.0 & 4.0 & 4.0 & 4.0 & 4.0 & 4.0 & 4.0 & ... & 4.0 & 4.0 & 4.0 & 4.0 & 4.0 & 4.0 & 4.0 & 4.0 & 4.0 & 4.0\\\\\n",
       "\t 4.0 & 4.0 & 4.0 & 4.0 & 4.0 & 4.0 & 4.0 & 4.0 & 4.0 & 4.0 & ... & 4.0 & 4.0 & 4.0 & 4.0 & 4.0 & 4.0 & 4.0 & 4.0 & 4.0 & 4.0\\\\\n",
       "\t 4.0 & 4.0 & 4.0 & 4.0 & 4.0 & 4.0 & 4.0 & 4.0 & 4.0 & 4.0 & ... & 4.0 & 4.0 & 4.0 & 4.0 & 4.0 & 4.0 & 4.0 & 4.0 & 4.0 & 4.0\\\\\n",
       "\t 4.0 & 4.0 & 4.0 & 4.0 & 4.0 & 4.0 & 4.0 & 4.0 & 4.0 & 4.0 & ... & 4.0 & 4.0 & 4.0 & 4.0 & 4.0 & 4.0 & 4.0 & 4.0 & 4.0 & 4.0\\\\\n",
       "\\end{tabular}\n"
      ],
      "text/markdown": [
       "\n",
       "| 0.5 | 0.5 | 0.5 | 0.5 | 0.5 | 0.5 | 0.5 | 0.5 | 0.5 | 0.5 | ... | 0.5 | 0.5 | 0.5 | 0.5 | 0.5 | 0.5 | 0.5 | 0.5 | 0.5 | 0.5 |\n",
       "| 0.5 | 0.5 | 0.5 | 0.5 | 0.5 | 0.5 | 0.5 | 0.5 | 0.5 | 0.5 | ... | 0.5 | 0.5 | 0.5 | 0.5 | 0.5 | 0.5 | 0.5 | 0.5 | 0.5 | 0.5 |\n",
       "| 0.5 | 0.5 | 0.5 | 0.5 | 0.5 | 0.5 | 0.5 | 0.5 | 0.5 | 0.5 | ... | 0.5 | 0.5 | 0.5 | 0.5 | 0.5 | 0.5 | 0.5 | 0.5 | 0.5 | 0.5 |\n",
       "| 0.5 | 0.5 | 0.5 | 0.5 | 0.5 | 0.5 | 0.5 | 0.5 | 0.5 | 0.5 | ... | 0.5 | 0.5 | 0.5 | 0.5 | 0.5 | 0.5 | 0.5 | 0.5 | 0.5 | 0.5 |\n",
       "| 4.0 | 4.0 | 4.0 | 4.0 | 4.0 | 4.0 | 4.0 | 4.0 | 4.0 | 4.0 | ... | 4.0 | 4.0 | 4.0 | 4.0 | 4.0 | 4.0 | 4.0 | 4.0 | 4.0 | 4.0 |\n",
       "| 4.0 | 4.0 | 4.0 | 4.0 | 4.0 | 4.0 | 4.0 | 4.0 | 4.0 | 4.0 | ... | 4.0 | 4.0 | 4.0 | 4.0 | 4.0 | 4.0 | 4.0 | 4.0 | 4.0 | 4.0 |\n",
       "| 4.0 | 4.0 | 4.0 | 4.0 | 4.0 | 4.0 | 4.0 | 4.0 | 4.0 | 4.0 | ... | 4.0 | 4.0 | 4.0 | 4.0 | 4.0 | 4.0 | 4.0 | 4.0 | 4.0 | 4.0 |\n",
       "| 4.0 | 4.0 | 4.0 | 4.0 | 4.0 | 4.0 | 4.0 | 4.0 | 4.0 | 4.0 | ... | 4.0 | 4.0 | 4.0 | 4.0 | 4.0 | 4.0 | 4.0 | 4.0 | 4.0 | 4.0 |\n",
       "\n"
      ],
      "text/plain": [
       "     [,1] [,2] [,3] [,4] [,5] [,6] [,7] [,8] [,9] [,10] [,11] [,12] [,13] [,14]\n",
       "[1,] 0.5  0.5  0.5  0.5  0.5  0.5  0.5  0.5  0.5  0.5   ...   0.5   0.5   0.5  \n",
       "[2,] 0.5  0.5  0.5  0.5  0.5  0.5  0.5  0.5  0.5  0.5   ...   0.5   0.5   0.5  \n",
       "[3,] 0.5  0.5  0.5  0.5  0.5  0.5  0.5  0.5  0.5  0.5   ...   0.5   0.5   0.5  \n",
       "[4,] 0.5  0.5  0.5  0.5  0.5  0.5  0.5  0.5  0.5  0.5   ...   0.5   0.5   0.5  \n",
       "[5,] 4.0  4.0  4.0  4.0  4.0  4.0  4.0  4.0  4.0  4.0   ...   4.0   4.0   4.0  \n",
       "[6,] 4.0  4.0  4.0  4.0  4.0  4.0  4.0  4.0  4.0  4.0   ...   4.0   4.0   4.0  \n",
       "[7,] 4.0  4.0  4.0  4.0  4.0  4.0  4.0  4.0  4.0  4.0   ...   4.0   4.0   4.0  \n",
       "[8,] 4.0  4.0  4.0  4.0  4.0  4.0  4.0  4.0  4.0  4.0   ...   4.0   4.0   4.0  \n",
       "     [,15] [,16] [,17] [,18] [,19] [,20] [,21]\n",
       "[1,] 0.5   0.5   0.5   0.5   0.5   0.5   0.5  \n",
       "[2,] 0.5   0.5   0.5   0.5   0.5   0.5   0.5  \n",
       "[3,] 0.5   0.5   0.5   0.5   0.5   0.5   0.5  \n",
       "[4,] 0.5   0.5   0.5   0.5   0.5   0.5   0.5  \n",
       "[5,] 4.0   4.0   4.0   4.0   4.0   4.0   4.0  \n",
       "[6,] 4.0   4.0   4.0   4.0   4.0   4.0   4.0  \n",
       "[7,] 4.0   4.0   4.0   4.0   4.0   4.0   4.0  \n",
       "[8,] 4.0   4.0   4.0   4.0   4.0   4.0   4.0  "
      ]
     },
     "metadata": {},
     "output_type": "display_data"
    }
   ],
   "source": [
    "month<-c(rep('Jan', 4), rep('July', 4))\n",
    "month<-matrix(month, nc=num_house, nr=8)\n",
    "month_effect<-c(rep(0.5, 4), rep(4, 4))\n",
    "month_effect<-matrix(month_effect, nc=num_house, nr=8)\n",
    "month\n",
    "month_effect"
   ]
  },
  {
   "cell_type": "markdown",
   "id": "e6223ae4",
   "metadata": {},
   "source": [
    "#### Fixed effect 2: mosquito net (complete randomised)\n",
    "Finally, we have the mosquito net, which is a binary factor. Let us consider a complete randomised design, that mosuqito net can be installed/removed from each house at any time during the experiment. It is a randomised design hence more balanced, but perhaps less realistic. A mosquito net will marginally decrease the log mean count by 0.5. \n",
    "\n",
    "We will discuss other distributions of nets below. "
   ]
  },
  {
   "cell_type": "code",
   "execution_count": 6,
   "id": "f98c325d",
   "metadata": {},
   "outputs": [
    {
     "data": {
      "text/html": [
       "<table>\n",
       "<tbody>\n",
       "\t<tr><td>Yes</td><td>Yes</td><td>Yes</td><td>Yes</td><td>No </td><td>No </td><td>No </td><td>No </td><td>Yes</td><td>Yes</td><td>...</td><td>No </td><td>Yes</td><td>No </td><td>No </td><td>No </td><td>No </td><td>No </td><td>No </td><td>Yes</td><td>Yes</td></tr>\n",
       "\t<tr><td>Yes</td><td>No </td><td>No </td><td>No </td><td>Yes</td><td>No </td><td>Yes</td><td>No </td><td>No </td><td>No </td><td>...</td><td>No </td><td>Yes</td><td>Yes</td><td>Yes</td><td>No </td><td>Yes</td><td>Yes</td><td>No </td><td>Yes</td><td>Yes</td></tr>\n",
       "\t<tr><td>Yes</td><td>No </td><td>No </td><td>Yes</td><td>Yes</td><td>No </td><td>Yes</td><td>No </td><td>No </td><td>No </td><td>...</td><td>No </td><td>Yes</td><td>No </td><td>No </td><td>Yes</td><td>Yes</td><td>Yes</td><td>Yes</td><td>Yes</td><td>No </td></tr>\n",
       "\t<tr><td>Yes</td><td>No </td><td>No </td><td>Yes</td><td>Yes</td><td>No </td><td>No </td><td>Yes</td><td>No </td><td>No </td><td>...</td><td>No </td><td>No </td><td>Yes</td><td>Yes</td><td>No </td><td>No </td><td>No </td><td>Yes</td><td>No </td><td>Yes</td></tr>\n",
       "\t<tr><td>Yes</td><td>No </td><td>Yes</td><td>No </td><td>No </td><td>No </td><td>Yes</td><td>No </td><td>Yes</td><td>No </td><td>...</td><td>Yes</td><td>No </td><td>Yes</td><td>No </td><td>Yes</td><td>No </td><td>No </td><td>Yes</td><td>No </td><td>Yes</td></tr>\n",
       "\t<tr><td>Yes</td><td>Yes</td><td>No </td><td>Yes</td><td>Yes</td><td>Yes</td><td>Yes</td><td>No </td><td>Yes</td><td>Yes</td><td>...</td><td>Yes</td><td>Yes</td><td>No </td><td>Yes</td><td>No </td><td>No </td><td>Yes</td><td>Yes</td><td>Yes</td><td>Yes</td></tr>\n",
       "\t<tr><td>No </td><td>Yes</td><td>Yes</td><td>No </td><td>Yes</td><td>Yes</td><td>No </td><td>Yes</td><td>Yes</td><td>Yes</td><td>...</td><td>No </td><td>No </td><td>No </td><td>Yes</td><td>No </td><td>No </td><td>No </td><td>Yes</td><td>No </td><td>No </td></tr>\n",
       "\t<tr><td>Yes</td><td>Yes</td><td>No </td><td>Yes</td><td>No </td><td>No </td><td>No </td><td>No </td><td>No </td><td>No </td><td>...</td><td>Yes</td><td>No </td><td>Yes</td><td>No </td><td>Yes</td><td>Yes</td><td>Yes</td><td>Yes</td><td>Yes</td><td>Yes</td></tr>\n",
       "</tbody>\n",
       "</table>\n"
      ],
      "text/latex": [
       "\\begin{tabular}{llllllllllllllllllllllllllllllllllllllllllllllllllllllllllllllllllllllllllllllllllllllllllllllllllll}\n",
       "\t Yes & Yes & Yes & Yes & No  & No  & No  & No  & Yes & Yes & ... & No  & Yes & No  & No  & No  & No  & No  & No  & Yes & Yes\\\\\n",
       "\t Yes & No  & No  & No  & Yes & No  & Yes & No  & No  & No  & ... & No  & Yes & Yes & Yes & No  & Yes & Yes & No  & Yes & Yes\\\\\n",
       "\t Yes & No  & No  & Yes & Yes & No  & Yes & No  & No  & No  & ... & No  & Yes & No  & No  & Yes & Yes & Yes & Yes & Yes & No \\\\\n",
       "\t Yes & No  & No  & Yes & Yes & No  & No  & Yes & No  & No  & ... & No  & No  & Yes & Yes & No  & No  & No  & Yes & No  & Yes\\\\\n",
       "\t Yes & No  & Yes & No  & No  & No  & Yes & No  & Yes & No  & ... & Yes & No  & Yes & No  & Yes & No  & No  & Yes & No  & Yes\\\\\n",
       "\t Yes & Yes & No  & Yes & Yes & Yes & Yes & No  & Yes & Yes & ... & Yes & Yes & No  & Yes & No  & No  & Yes & Yes & Yes & Yes\\\\\n",
       "\t No  & Yes & Yes & No  & Yes & Yes & No  & Yes & Yes & Yes & ... & No  & No  & No  & Yes & No  & No  & No  & Yes & No  & No \\\\\n",
       "\t Yes & Yes & No  & Yes & No  & No  & No  & No  & No  & No  & ... & Yes & No  & Yes & No  & Yes & Yes & Yes & Yes & Yes & Yes\\\\\n",
       "\\end{tabular}\n"
      ],
      "text/markdown": [
       "\n",
       "| Yes | Yes | Yes | Yes | No  | No  | No  | No  | Yes | Yes | ... | No  | Yes | No  | No  | No  | No  | No  | No  | Yes | Yes |\n",
       "| Yes | No  | No  | No  | Yes | No  | Yes | No  | No  | No  | ... | No  | Yes | Yes | Yes | No  | Yes | Yes | No  | Yes | Yes |\n",
       "| Yes | No  | No  | Yes | Yes | No  | Yes | No  | No  | No  | ... | No  | Yes | No  | No  | Yes | Yes | Yes | Yes | Yes | No  |\n",
       "| Yes | No  | No  | Yes | Yes | No  | No  | Yes | No  | No  | ... | No  | No  | Yes | Yes | No  | No  | No  | Yes | No  | Yes |\n",
       "| Yes | No  | Yes | No  | No  | No  | Yes | No  | Yes | No  | ... | Yes | No  | Yes | No  | Yes | No  | No  | Yes | No  | Yes |\n",
       "| Yes | Yes | No  | Yes | Yes | Yes | Yes | No  | Yes | Yes | ... | Yes | Yes | No  | Yes | No  | No  | Yes | Yes | Yes | Yes |\n",
       "| No  | Yes | Yes | No  | Yes | Yes | No  | Yes | Yes | Yes | ... | No  | No  | No  | Yes | No  | No  | No  | Yes | No  | No  |\n",
       "| Yes | Yes | No  | Yes | No  | No  | No  | No  | No  | No  | ... | Yes | No  | Yes | No  | Yes | Yes | Yes | Yes | Yes | Yes |\n",
       "\n"
      ],
      "text/plain": [
       "     [,1] [,2] [,3] [,4] [,5] [,6] [,7] [,8] [,9] [,10] [,11] [,12] [,13] [,14]\n",
       "[1,] Yes  Yes  Yes  Yes  No   No   No   No   Yes  Yes   ...   No    Yes   No   \n",
       "[2,] Yes  No   No   No   Yes  No   Yes  No   No   No    ...   No    Yes   Yes  \n",
       "[3,] Yes  No   No   Yes  Yes  No   Yes  No   No   No    ...   No    Yes   No   \n",
       "[4,] Yes  No   No   Yes  Yes  No   No   Yes  No   No    ...   No    No    Yes  \n",
       "[5,] Yes  No   Yes  No   No   No   Yes  No   Yes  No    ...   Yes   No    Yes  \n",
       "[6,] Yes  Yes  No   Yes  Yes  Yes  Yes  No   Yes  Yes   ...   Yes   Yes   No   \n",
       "[7,] No   Yes  Yes  No   Yes  Yes  No   Yes  Yes  Yes   ...   No    No    No   \n",
       "[8,] Yes  Yes  No   Yes  No   No   No   No   No   No    ...   Yes   No    Yes  \n",
       "     [,15] [,16] [,17] [,18] [,19] [,20] [,21]\n",
       "[1,] No    No    No    No    No    Yes   Yes  \n",
       "[2,] Yes   No    Yes   Yes   No    Yes   Yes  \n",
       "[3,] No    Yes   Yes   Yes   Yes   Yes   No   \n",
       "[4,] Yes   No    No    No    Yes   No    Yes  \n",
       "[5,] No    Yes   No    No    Yes   No    Yes  \n",
       "[6,] Yes   No    No    Yes   Yes   Yes   Yes  \n",
       "[7,] Yes   No    No    No    Yes   No    No   \n",
       "[8,] No    Yes   Yes   Yes   Yes   Yes   Yes  "
      ]
     },
     "metadata": {},
     "output_type": "display_data"
    },
    {
     "data": {
      "text/html": [
       "<table>\n",
       "<tbody>\n",
       "\t<tr><td>-0.5</td><td>-0.5</td><td>-0.5</td><td>-0.5</td><td> 0.0</td><td> 0.0</td><td> 0.0</td><td> 0.0</td><td>-0.5</td><td>-0.5</td><td>... </td><td> 0.0</td><td>-0.5</td><td> 0.0</td><td> 0.0</td><td> 0.0</td><td> 0.0</td><td> 0.0</td><td> 0.0</td><td>-0.5</td><td>-0.5</td></tr>\n",
       "\t<tr><td>-0.5</td><td> 0.0</td><td> 0.0</td><td> 0.0</td><td>-0.5</td><td> 0.0</td><td>-0.5</td><td> 0.0</td><td> 0.0</td><td> 0.0</td><td>... </td><td> 0.0</td><td>-0.5</td><td>-0.5</td><td>-0.5</td><td> 0.0</td><td>-0.5</td><td>-0.5</td><td> 0.0</td><td>-0.5</td><td>-0.5</td></tr>\n",
       "\t<tr><td>-0.5</td><td> 0.0</td><td> 0.0</td><td>-0.5</td><td>-0.5</td><td> 0.0</td><td>-0.5</td><td> 0.0</td><td> 0.0</td><td> 0.0</td><td>... </td><td> 0.0</td><td>-0.5</td><td> 0.0</td><td> 0.0</td><td>-0.5</td><td>-0.5</td><td>-0.5</td><td>-0.5</td><td>-0.5</td><td> 0.0</td></tr>\n",
       "\t<tr><td>-0.5</td><td> 0.0</td><td> 0.0</td><td>-0.5</td><td>-0.5</td><td> 0.0</td><td> 0.0</td><td>-0.5</td><td> 0.0</td><td> 0.0</td><td>... </td><td> 0.0</td><td> 0.0</td><td>-0.5</td><td>-0.5</td><td> 0.0</td><td> 0.0</td><td> 0.0</td><td>-0.5</td><td> 0.0</td><td>-0.5</td></tr>\n",
       "\t<tr><td>-0.5</td><td> 0.0</td><td>-0.5</td><td> 0.0</td><td> 0.0</td><td> 0.0</td><td>-0.5</td><td> 0.0</td><td>-0.5</td><td> 0.0</td><td>... </td><td>-0.5</td><td> 0.0</td><td>-0.5</td><td> 0.0</td><td>-0.5</td><td> 0.0</td><td> 0.0</td><td>-0.5</td><td> 0.0</td><td>-0.5</td></tr>\n",
       "\t<tr><td>-0.5</td><td>-0.5</td><td> 0.0</td><td>-0.5</td><td>-0.5</td><td>-0.5</td><td>-0.5</td><td> 0.0</td><td>-0.5</td><td>-0.5</td><td>... </td><td>-0.5</td><td>-0.5</td><td> 0.0</td><td>-0.5</td><td> 0.0</td><td> 0.0</td><td>-0.5</td><td>-0.5</td><td>-0.5</td><td>-0.5</td></tr>\n",
       "\t<tr><td> 0.0</td><td>-0.5</td><td>-0.5</td><td> 0.0</td><td>-0.5</td><td>-0.5</td><td> 0.0</td><td>-0.5</td><td>-0.5</td><td>-0.5</td><td>... </td><td> 0.0</td><td> 0.0</td><td> 0.0</td><td>-0.5</td><td> 0.0</td><td> 0.0</td><td> 0.0</td><td>-0.5</td><td> 0.0</td><td> 0.0</td></tr>\n",
       "\t<tr><td>-0.5</td><td>-0.5</td><td> 0.0</td><td>-0.5</td><td> 0.0</td><td> 0.0</td><td> 0.0</td><td> 0.0</td><td> 0.0</td><td> 0.0</td><td>... </td><td>-0.5</td><td> 0.0</td><td>-0.5</td><td> 0.0</td><td>-0.5</td><td>-0.5</td><td>-0.5</td><td>-0.5</td><td>-0.5</td><td>-0.5</td></tr>\n",
       "</tbody>\n",
       "</table>\n"
      ],
      "text/latex": [
       "\\begin{tabular}{llllllllllllllllllllllllllllllllllllllllllllllllllllllllllllllllllllllllllllllllllllllllllllllllllll}\n",
       "\t -0.5 & -0.5 & -0.5 & -0.5 &  0.0 &  0.0 &  0.0 &  0.0 & -0.5 & -0.5 & ...  &  0.0 & -0.5 &  0.0 &  0.0 &  0.0 &  0.0 &  0.0 &  0.0 & -0.5 & -0.5\\\\\n",
       "\t -0.5 &  0.0 &  0.0 &  0.0 & -0.5 &  0.0 & -0.5 &  0.0 &  0.0 &  0.0 & ...  &  0.0 & -0.5 & -0.5 & -0.5 &  0.0 & -0.5 & -0.5 &  0.0 & -0.5 & -0.5\\\\\n",
       "\t -0.5 &  0.0 &  0.0 & -0.5 & -0.5 &  0.0 & -0.5 &  0.0 &  0.0 &  0.0 & ...  &  0.0 & -0.5 &  0.0 &  0.0 & -0.5 & -0.5 & -0.5 & -0.5 & -0.5 &  0.0\\\\\n",
       "\t -0.5 &  0.0 &  0.0 & -0.5 & -0.5 &  0.0 &  0.0 & -0.5 &  0.0 &  0.0 & ...  &  0.0 &  0.0 & -0.5 & -0.5 &  0.0 &  0.0 &  0.0 & -0.5 &  0.0 & -0.5\\\\\n",
       "\t -0.5 &  0.0 & -0.5 &  0.0 &  0.0 &  0.0 & -0.5 &  0.0 & -0.5 &  0.0 & ...  & -0.5 &  0.0 & -0.5 &  0.0 & -0.5 &  0.0 &  0.0 & -0.5 &  0.0 & -0.5\\\\\n",
       "\t -0.5 & -0.5 &  0.0 & -0.5 & -0.5 & -0.5 & -0.5 &  0.0 & -0.5 & -0.5 & ...  & -0.5 & -0.5 &  0.0 & -0.5 &  0.0 &  0.0 & -0.5 & -0.5 & -0.5 & -0.5\\\\\n",
       "\t  0.0 & -0.5 & -0.5 &  0.0 & -0.5 & -0.5 &  0.0 & -0.5 & -0.5 & -0.5 & ...  &  0.0 &  0.0 &  0.0 & -0.5 &  0.0 &  0.0 &  0.0 & -0.5 &  0.0 &  0.0\\\\\n",
       "\t -0.5 & -0.5 &  0.0 & -0.5 &  0.0 &  0.0 &  0.0 &  0.0 &  0.0 &  0.0 & ...  & -0.5 &  0.0 & -0.5 &  0.0 & -0.5 & -0.5 & -0.5 & -0.5 & -0.5 & -0.5\\\\\n",
       "\\end{tabular}\n"
      ],
      "text/markdown": [
       "\n",
       "| -0.5 | -0.5 | -0.5 | -0.5 |  0.0 |  0.0 |  0.0 |  0.0 | -0.5 | -0.5 | ...  |  0.0 | -0.5 |  0.0 |  0.0 |  0.0 |  0.0 |  0.0 |  0.0 | -0.5 | -0.5 |\n",
       "| -0.5 |  0.0 |  0.0 |  0.0 | -0.5 |  0.0 | -0.5 |  0.0 |  0.0 |  0.0 | ...  |  0.0 | -0.5 | -0.5 | -0.5 |  0.0 | -0.5 | -0.5 |  0.0 | -0.5 | -0.5 |\n",
       "| -0.5 |  0.0 |  0.0 | -0.5 | -0.5 |  0.0 | -0.5 |  0.0 |  0.0 |  0.0 | ...  |  0.0 | -0.5 |  0.0 |  0.0 | -0.5 | -0.5 | -0.5 | -0.5 | -0.5 |  0.0 |\n",
       "| -0.5 |  0.0 |  0.0 | -0.5 | -0.5 |  0.0 |  0.0 | -0.5 |  0.0 |  0.0 | ...  |  0.0 |  0.0 | -0.5 | -0.5 |  0.0 |  0.0 |  0.0 | -0.5 |  0.0 | -0.5 |\n",
       "| -0.5 |  0.0 | -0.5 |  0.0 |  0.0 |  0.0 | -0.5 |  0.0 | -0.5 |  0.0 | ...  | -0.5 |  0.0 | -0.5 |  0.0 | -0.5 |  0.0 |  0.0 | -0.5 |  0.0 | -0.5 |\n",
       "| -0.5 | -0.5 |  0.0 | -0.5 | -0.5 | -0.5 | -0.5 |  0.0 | -0.5 | -0.5 | ...  | -0.5 | -0.5 |  0.0 | -0.5 |  0.0 |  0.0 | -0.5 | -0.5 | -0.5 | -0.5 |\n",
       "|  0.0 | -0.5 | -0.5 |  0.0 | -0.5 | -0.5 |  0.0 | -0.5 | -0.5 | -0.5 | ...  |  0.0 |  0.0 |  0.0 | -0.5 |  0.0 |  0.0 |  0.0 | -0.5 |  0.0 |  0.0 |\n",
       "| -0.5 | -0.5 |  0.0 | -0.5 |  0.0 |  0.0 |  0.0 |  0.0 |  0.0 |  0.0 | ...  | -0.5 |  0.0 | -0.5 |  0.0 | -0.5 | -0.5 | -0.5 | -0.5 | -0.5 | -0.5 |\n",
       "\n"
      ],
      "text/plain": [
       "     [,1] [,2] [,3] [,4] [,5] [,6] [,7] [,8] [,9] [,10] [,11] [,12] [,13] [,14]\n",
       "[1,] -0.5 -0.5 -0.5 -0.5  0.0  0.0  0.0  0.0 -0.5 -0.5  ...    0.0  -0.5   0.0 \n",
       "[2,] -0.5  0.0  0.0  0.0 -0.5  0.0 -0.5  0.0  0.0  0.0  ...    0.0  -0.5  -0.5 \n",
       "[3,] -0.5  0.0  0.0 -0.5 -0.5  0.0 -0.5  0.0  0.0  0.0  ...    0.0  -0.5   0.0 \n",
       "[4,] -0.5  0.0  0.0 -0.5 -0.5  0.0  0.0 -0.5  0.0  0.0  ...    0.0   0.0  -0.5 \n",
       "[5,] -0.5  0.0 -0.5  0.0  0.0  0.0 -0.5  0.0 -0.5  0.0  ...   -0.5   0.0  -0.5 \n",
       "[6,] -0.5 -0.5  0.0 -0.5 -0.5 -0.5 -0.5  0.0 -0.5 -0.5  ...   -0.5  -0.5   0.0 \n",
       "[7,]  0.0 -0.5 -0.5  0.0 -0.5 -0.5  0.0 -0.5 -0.5 -0.5  ...    0.0   0.0   0.0 \n",
       "[8,] -0.5 -0.5  0.0 -0.5  0.0  0.0  0.0  0.0  0.0  0.0  ...   -0.5   0.0  -0.5 \n",
       "     [,15] [,16] [,17] [,18] [,19] [,20] [,21]\n",
       "[1,]  0.0   0.0   0.0   0.0   0.0  -0.5  -0.5 \n",
       "[2,] -0.5   0.0  -0.5  -0.5   0.0  -0.5  -0.5 \n",
       "[3,]  0.0  -0.5  -0.5  -0.5  -0.5  -0.5   0.0 \n",
       "[4,] -0.5   0.0   0.0   0.0  -0.5   0.0  -0.5 \n",
       "[5,]  0.0  -0.5   0.0   0.0  -0.5   0.0  -0.5 \n",
       "[6,] -0.5   0.0   0.0  -0.5  -0.5  -0.5  -0.5 \n",
       "[7,] -0.5   0.0   0.0   0.0  -0.5   0.0   0.0 \n",
       "[8,]  0.0  -0.5  -0.5  -0.5  -0.5  -0.5  -0.5 "
      ]
     },
     "metadata": {},
     "output_type": "display_data"
    }
   ],
   "source": [
    "k<-round(num_house*8/2)\n",
    "mosquito_net<-sample(c(rep('Yes', k), rep('No', num_house*8-k)))\n",
    "mosquito_net<-matrix(mosquito_net, nc=num_house, nr=8, byrow=T)\n",
    "mosquito_net\n",
    "mosquito_net_effect<-(mosquito_net=='Yes')*(-0.5) # EFFECT IS -0.5\n",
    "mosquito_net_effect"
   ]
  },
  {
   "cell_type": "markdown",
   "id": "3640ef90",
   "metadata": {},
   "source": [
    "#### Sample the counts and put everything into a data frame\n",
    "In Poisson glm, the log of lambda is a linear combination of our factors. Let us work out the lambda for each house visit and then we draw Poisson counts from these lambdas"
   ]
  },
  {
   "cell_type": "code",
   "execution_count": 7,
   "id": "87abe84a",
   "metadata": {},
   "outputs": [
    {
     "data": {
      "text/html": [
       "<table>\n",
       "<tbody>\n",
       "\t<tr><td> 0.7818209  </td><td> 1.4782132  </td><td>-1.5583796  </td><td>-0.2180632  </td><td>-1.2292619  </td><td> 1.283105739</td><td>-0.7850257  </td><td>-0.7098085  </td><td>-0.2629123  </td><td>-0.7811265  </td><td>...         </td><td>0.9880065   </td><td> 1.5714329  </td><td>-0.5161941  </td><td>1.24065508  </td><td> 0.67839693 </td><td>-0.3463077  </td><td>-0.4546873  </td><td>-0.2617622  </td><td> 0.1019834  </td><td>-1.4806446  </td></tr>\n",
       "\t<tr><td>-0.9781283  </td><td>-0.1060374  </td><td>-1.1683179  </td><td>-2.1305076  </td><td>-0.2199486  </td><td> 1.244579582</td><td>-0.3931013  </td><td> 0.1604907  </td><td> 0.1548139  </td><td> 0.3925811  </td><td>...         </td><td>0.8167917   </td><td>-0.1074606  </td><td>-1.1003602  </td><td>0.15068141  </td><td>-0.01231467 </td><td>-2.3282912  </td><td>-0.2101530  </td><td>-1.0323218  </td><td>-1.7303508  </td><td> 0.3869040  </td></tr>\n",
       "\t<tr><td> 0.6212946  </td><td> 1.4429986  </td><td> 1.1380589  </td><td>-0.4557291  </td><td> 0.2284076  </td><td>-0.004311342</td><td>-1.2514220  </td><td>-1.4702965  </td><td> 0.2872542  </td><td>-1.1513403  </td><td>...         </td><td>0.0183286   </td><td> 0.5479894  </td><td>-1.4337662  </td><td>0.64803982  </td><td>-0.37278751 </td><td>-1.7222982  </td><td> 0.5089023  </td><td> 1.2818815  </td><td>-0.5524783  </td><td> 0.3000167  </td></tr>\n",
       "\t<tr><td> 0.3870549  </td><td> 1.2677141  </td><td> 0.6526088  </td><td>-1.3063429  </td><td>-1.0123200  </td><td> 1.023550391</td><td>-2.5342075  </td><td>-0.1560631  </td><td> 0.6697668  </td><td> 0.1072972  </td><td>...         </td><td>2.4082128   </td><td> 2.1728712  </td><td>-1.0778023  </td><td>0.06367257  </td><td>-1.08890537 </td><td>-2.1386386  </td><td> 1.6215126  </td><td>-1.0556069  </td><td>-1.1446033  </td><td>-1.0535393  </td></tr>\n",
       "\t<tr><td> 2.9830198  </td><td> 3.6975379  </td><td> 3.9475427  </td><td> 2.4018617  </td><td> 0.5443050  </td><td> 4.986002419</td><td> 1.6759363  </td><td> 3.5791580  </td><td> 4.4621049  </td><td> 4.2707802  </td><td>...         </td><td>5.3363414   </td><td> 5.2416996  </td><td> 0.2050719  </td><td>3.65880275  </td><td> 3.90449132 </td><td> 2.5436932  </td><td> 5.3873421  </td><td> 2.3705292  </td><td> 3.6958533  </td><td> 2.3159049  </td></tr>\n",
       "\t<tr><td> 2.7555755  </td><td> 4.6303215  </td><td> 6.1123337  </td><td> 1.9699056  </td><td> 2.9001245  </td><td> 3.629816629</td><td> 2.5435111  </td><td> 2.7445508  </td><td> 1.8809765  </td><td> 3.2159585  </td><td>...         </td><td>5.7818590   </td><td> 5.8756143  </td><td> 0.8711538  </td><td>2.64200598  </td><td> 5.72712592 </td><td> 3.1053729  </td><td> 5.2559298  </td><td> 2.2259073  </td><td> 2.0697897  </td><td> 3.0299622  </td></tr>\n",
       "\t<tr><td> 3.1687188  </td><td> 1.0485404  </td><td> 2.2435196  </td><td> 4.8088381  </td><td> 3.7991803  </td><td> 5.419042341</td><td> 0.2456549  </td><td> 3.6624051  </td><td> 3.6218037  </td><td> 4.0199955  </td><td>...         </td><td>4.4589167   </td><td> 3.6128137  </td><td> 1.6248611  </td><td>4.27558168  </td><td> 3.74134505 </td><td> 3.3404798  </td><td> 4.8986723  </td><td> 3.5254016  </td><td> 3.6937380  </td><td> 3.6646006  </td></tr>\n",
       "\t<tr><td> 4.2871882  </td><td> 3.1162562  </td><td> 4.0495947  </td><td> 2.7909577  </td><td> 3.2636505  </td><td> 3.656563342</td><td> 2.7463644  </td><td> 4.1239137  </td><td> 3.4402564  </td><td> 3.0974810  </td><td>...         </td><td>6.1620013   </td><td> 3.6400845  </td><td> 0.8178246  </td><td>5.94224514  </td><td> 4.92833401 </td><td> 3.7615401  </td><td> 4.6330418  </td><td> 3.2889985  </td><td> 4.0317970  </td><td> 3.2935031  </td></tr>\n",
       "</tbody>\n",
       "</table>\n"
      ],
      "text/latex": [
       "\\begin{tabular}{llllllllllllllllllllllllllllllllllllllllllllllllllllllllllllllllllllllllllllllllllllllllllllllllllll}\n",
       "\t  0.7818209   &  1.4782132   & -1.5583796   & -0.2180632   & -1.2292619   &  1.283105739 & -0.7850257   & -0.7098085   & -0.2629123   & -0.7811265   & ...          & 0.9880065    &  1.5714329   & -0.5161941   & 1.24065508   &  0.67839693  & -0.3463077   & -0.4546873   & -0.2617622   &  0.1019834   & -1.4806446  \\\\\n",
       "\t -0.9781283   & -0.1060374   & -1.1683179   & -2.1305076   & -0.2199486   &  1.244579582 & -0.3931013   &  0.1604907   &  0.1548139   &  0.3925811   & ...          & 0.8167917    & -0.1074606   & -1.1003602   & 0.15068141   & -0.01231467  & -2.3282912   & -0.2101530   & -1.0323218   & -1.7303508   &  0.3869040  \\\\\n",
       "\t  0.6212946   &  1.4429986   &  1.1380589   & -0.4557291   &  0.2284076   & -0.004311342 & -1.2514220   & -1.4702965   &  0.2872542   & -1.1513403   & ...          & 0.0183286    &  0.5479894   & -1.4337662   & 0.64803982   & -0.37278751  & -1.7222982   &  0.5089023   &  1.2818815   & -0.5524783   &  0.3000167  \\\\\n",
       "\t  0.3870549   &  1.2677141   &  0.6526088   & -1.3063429   & -1.0123200   &  1.023550391 & -2.5342075   & -0.1560631   &  0.6697668   &  0.1072972   & ...          & 2.4082128    &  2.1728712   & -1.0778023   & 0.06367257   & -1.08890537  & -2.1386386   &  1.6215126   & -1.0556069   & -1.1446033   & -1.0535393  \\\\\n",
       "\t  2.9830198   &  3.6975379   &  3.9475427   &  2.4018617   &  0.5443050   &  4.986002419 &  1.6759363   &  3.5791580   &  4.4621049   &  4.2707802   & ...          & 5.3363414    &  5.2416996   &  0.2050719   & 3.65880275   &  3.90449132  &  2.5436932   &  5.3873421   &  2.3705292   &  3.6958533   &  2.3159049  \\\\\n",
       "\t  2.7555755   &  4.6303215   &  6.1123337   &  1.9699056   &  2.9001245   &  3.629816629 &  2.5435111   &  2.7445508   &  1.8809765   &  3.2159585   & ...          & 5.7818590    &  5.8756143   &  0.8711538   & 2.64200598   &  5.72712592  &  3.1053729   &  5.2559298   &  2.2259073   &  2.0697897   &  3.0299622  \\\\\n",
       "\t  3.1687188   &  1.0485404   &  2.2435196   &  4.8088381   &  3.7991803   &  5.419042341 &  0.2456549   &  3.6624051   &  3.6218037   &  4.0199955   & ...          & 4.4589167    &  3.6128137   &  1.6248611   & 4.27558168   &  3.74134505  &  3.3404798   &  4.8986723   &  3.5254016   &  3.6937380   &  3.6646006  \\\\\n",
       "\t  4.2871882   &  3.1162562   &  4.0495947   &  2.7909577   &  3.2636505   &  3.656563342 &  2.7463644   &  4.1239137   &  3.4402564   &  3.0974810   & ...          & 6.1620013    &  3.6400845   &  0.8178246   & 5.94224514   &  4.92833401  &  3.7615401   &  4.6330418   &  3.2889985   &  4.0317970   &  3.2935031  \\\\\n",
       "\\end{tabular}\n"
      ],
      "text/markdown": [
       "\n",
       "|  0.7818209   |  1.4782132   | -1.5583796   | -0.2180632   | -1.2292619   |  1.283105739 | -0.7850257   | -0.7098085   | -0.2629123   | -0.7811265   | ...          | 0.9880065    |  1.5714329   | -0.5161941   | 1.24065508   |  0.67839693  | -0.3463077   | -0.4546873   | -0.2617622   |  0.1019834   | -1.4806446   |\n",
       "| -0.9781283   | -0.1060374   | -1.1683179   | -2.1305076   | -0.2199486   |  1.244579582 | -0.3931013   |  0.1604907   |  0.1548139   |  0.3925811   | ...          | 0.8167917    | -0.1074606   | -1.1003602   | 0.15068141   | -0.01231467  | -2.3282912   | -0.2101530   | -1.0323218   | -1.7303508   |  0.3869040   |\n",
       "|  0.6212946   |  1.4429986   |  1.1380589   | -0.4557291   |  0.2284076   | -0.004311342 | -1.2514220   | -1.4702965   |  0.2872542   | -1.1513403   | ...          | 0.0183286    |  0.5479894   | -1.4337662   | 0.64803982   | -0.37278751  | -1.7222982   |  0.5089023   |  1.2818815   | -0.5524783   |  0.3000167   |\n",
       "|  0.3870549   |  1.2677141   |  0.6526088   | -1.3063429   | -1.0123200   |  1.023550391 | -2.5342075   | -0.1560631   |  0.6697668   |  0.1072972   | ...          | 2.4082128    |  2.1728712   | -1.0778023   | 0.06367257   | -1.08890537  | -2.1386386   |  1.6215126   | -1.0556069   | -1.1446033   | -1.0535393   |\n",
       "|  2.9830198   |  3.6975379   |  3.9475427   |  2.4018617   |  0.5443050   |  4.986002419 |  1.6759363   |  3.5791580   |  4.4621049   |  4.2707802   | ...          | 5.3363414    |  5.2416996   |  0.2050719   | 3.65880275   |  3.90449132  |  2.5436932   |  5.3873421   |  2.3705292   |  3.6958533   |  2.3159049   |\n",
       "|  2.7555755   |  4.6303215   |  6.1123337   |  1.9699056   |  2.9001245   |  3.629816629 |  2.5435111   |  2.7445508   |  1.8809765   |  3.2159585   | ...          | 5.7818590    |  5.8756143   |  0.8711538   | 2.64200598   |  5.72712592  |  3.1053729   |  5.2559298   |  2.2259073   |  2.0697897   |  3.0299622   |\n",
       "|  3.1687188   |  1.0485404   |  2.2435196   |  4.8088381   |  3.7991803   |  5.419042341 |  0.2456549   |  3.6624051   |  3.6218037   |  4.0199955   | ...          | 4.4589167    |  3.6128137   |  1.6248611   | 4.27558168   |  3.74134505  |  3.3404798   |  4.8986723   |  3.5254016   |  3.6937380   |  3.6646006   |\n",
       "|  4.2871882   |  3.1162562   |  4.0495947   |  2.7909577   |  3.2636505   |  3.656563342 |  2.7463644   |  4.1239137   |  3.4402564   |  3.0974810   | ...          | 6.1620013    |  3.6400845   |  0.8178246   | 5.94224514   |  4.92833401  |  3.7615401   |  4.6330418   |  3.2889985   |  4.0317970   |  3.2935031   |\n",
       "\n"
      ],
      "text/plain": [
       "     [,1]       [,2]       [,3]       [,4]       [,5]       [,6]        \n",
       "[1,]  0.7818209  1.4782132 -1.5583796 -0.2180632 -1.2292619  1.283105739\n",
       "[2,] -0.9781283 -0.1060374 -1.1683179 -2.1305076 -0.2199486  1.244579582\n",
       "[3,]  0.6212946  1.4429986  1.1380589 -0.4557291  0.2284076 -0.004311342\n",
       "[4,]  0.3870549  1.2677141  0.6526088 -1.3063429 -1.0123200  1.023550391\n",
       "[5,]  2.9830198  3.6975379  3.9475427  2.4018617  0.5443050  4.986002419\n",
       "[6,]  2.7555755  4.6303215  6.1123337  1.9699056  2.9001245  3.629816629\n",
       "[7,]  3.1687188  1.0485404  2.2435196  4.8088381  3.7991803  5.419042341\n",
       "[8,]  4.2871882  3.1162562  4.0495947  2.7909577  3.2636505  3.656563342\n",
       "     [,7]       [,8]       [,9]       [,10]      [,11] [,12]     [,13]     \n",
       "[1,] -0.7850257 -0.7098085 -0.2629123 -0.7811265 ...   0.9880065  1.5714329\n",
       "[2,] -0.3931013  0.1604907  0.1548139  0.3925811 ...   0.8167917 -0.1074606\n",
       "[3,] -1.2514220 -1.4702965  0.2872542 -1.1513403 ...   0.0183286  0.5479894\n",
       "[4,] -2.5342075 -0.1560631  0.6697668  0.1072972 ...   2.4082128  2.1728712\n",
       "[5,]  1.6759363  3.5791580  4.4621049  4.2707802 ...   5.3363414  5.2416996\n",
       "[6,]  2.5435111  2.7445508  1.8809765  3.2159585 ...   5.7818590  5.8756143\n",
       "[7,]  0.2456549  3.6624051  3.6218037  4.0199955 ...   4.4589167  3.6128137\n",
       "[8,]  2.7463644  4.1239137  3.4402564  3.0974810 ...   6.1620013  3.6400845\n",
       "     [,14]      [,15]      [,16]       [,17]      [,18]      [,19]     \n",
       "[1,] -0.5161941 1.24065508  0.67839693 -0.3463077 -0.4546873 -0.2617622\n",
       "[2,] -1.1003602 0.15068141 -0.01231467 -2.3282912 -0.2101530 -1.0323218\n",
       "[3,] -1.4337662 0.64803982 -0.37278751 -1.7222982  0.5089023  1.2818815\n",
       "[4,] -1.0778023 0.06367257 -1.08890537 -2.1386386  1.6215126 -1.0556069\n",
       "[5,]  0.2050719 3.65880275  3.90449132  2.5436932  5.3873421  2.3705292\n",
       "[6,]  0.8711538 2.64200598  5.72712592  3.1053729  5.2559298  2.2259073\n",
       "[7,]  1.6248611 4.27558168  3.74134505  3.3404798  4.8986723  3.5254016\n",
       "[8,]  0.8178246 5.94224514  4.92833401  3.7615401  4.6330418  3.2889985\n",
       "     [,20]      [,21]     \n",
       "[1,]  0.1019834 -1.4806446\n",
       "[2,] -1.7303508  0.3869040\n",
       "[3,] -0.5524783  0.3000167\n",
       "[4,] -1.1446033 -1.0535393\n",
       "[5,]  3.6958533  2.3159049\n",
       "[6,]  2.0697897  3.0299622\n",
       "[7,]  3.6937380  3.6646006\n",
       "[8,]  4.0317970  3.2935031"
      ]
     },
     "metadata": {},
     "output_type": "display_data"
    }
   ],
   "source": [
    "log_lambda<-house_effect+overdispersion_effect+month_effect+mosquito_net_effect\n",
    "log_lambda\n",
    "mosquito_count<-rpois(length(log_lambda), exp(log_lambda))"
   ]
  },
  {
   "cell_type": "code",
   "execution_count": 8,
   "id": "af8b0424",
   "metadata": {},
   "outputs": [
    {
     "data": {
      "text/html": [
       "<ol class=list-inline>\n",
       "\t<li>800</li>\n",
       "\t<li>4</li>\n",
       "</ol>\n"
      ],
      "text/latex": [
       "\\begin{enumerate*}\n",
       "\\item 800\n",
       "\\item 4\n",
       "\\end{enumerate*}\n"
      ],
      "text/markdown": [
       "1. 800\n",
       "2. 4\n",
       "\n",
       "\n"
      ],
      "text/plain": [
       "[1] 800   4"
      ]
     },
     "metadata": {},
     "output_type": "display_data"
    },
    {
     "data": {
      "text/html": [
       "<table>\n",
       "<thead><tr><th scope=col>mosquito_count</th><th scope=col>house_ID</th><th scope=col>month</th><th scope=col>mosquito_net</th></tr></thead>\n",
       "<tbody>\n",
       "\t<tr><td> 0  </td><td>1   </td><td>Jan </td><td>Yes </td></tr>\n",
       "\t<tr><td> 1  </td><td>1   </td><td>Jan </td><td>Yes </td></tr>\n",
       "\t<tr><td> 1  </td><td>1   </td><td>Jan </td><td>Yes </td></tr>\n",
       "\t<tr><td> 2  </td><td>1   </td><td>Jan </td><td>Yes </td></tr>\n",
       "\t<tr><td>24  </td><td>1   </td><td>July</td><td>Yes </td></tr>\n",
       "\t<tr><td>12  </td><td>1   </td><td>July</td><td>Yes </td></tr>\n",
       "</tbody>\n",
       "</table>\n"
      ],
      "text/latex": [
       "\\begin{tabular}{r|llll}\n",
       " mosquito\\_count & house\\_ID & month & mosquito\\_net\\\\\n",
       "\\hline\n",
       "\t  0   & 1    & Jan  & Yes \\\\\n",
       "\t  1   & 1    & Jan  & Yes \\\\\n",
       "\t  1   & 1    & Jan  & Yes \\\\\n",
       "\t  2   & 1    & Jan  & Yes \\\\\n",
       "\t 24   & 1    & July & Yes \\\\\n",
       "\t 12   & 1    & July & Yes \\\\\n",
       "\\end{tabular}\n"
      ],
      "text/markdown": [
       "\n",
       "| mosquito_count | house_ID | month | mosquito_net |\n",
       "|---|---|---|---|\n",
       "|  0   | 1    | Jan  | Yes  |\n",
       "|  1   | 1    | Jan  | Yes  |\n",
       "|  1   | 1    | Jan  | Yes  |\n",
       "|  2   | 1    | Jan  | Yes  |\n",
       "| 24   | 1    | July | Yes  |\n",
       "| 12   | 1    | July | Yes  |\n",
       "\n"
      ],
      "text/plain": [
       "  mosquito_count house_ID month mosquito_net\n",
       "1  0             1        Jan   Yes         \n",
       "2  1             1        Jan   Yes         \n",
       "3  1             1        Jan   Yes         \n",
       "4  2             1        Jan   Yes         \n",
       "5 24             1        July  Yes         \n",
       "6 12             1        July  Yes         "
      ]
     },
     "metadata": {},
     "output_type": "display_data"
    }
   ],
   "source": [
    "# PUT EVERYTHING INTO A DATA FRAME\n",
    "dat<-data.frame(mosquito_count=as.vector(mosquito_count), \n",
    "                house_ID=as.vector(house_ID), \n",
    "                month=as.vector(month), mosquito_net=as.vector(mosquito_net))\n",
    "# SET VARIABLES AS FACTORS\n",
    "dat$house_ID<-factor(dat$house_ID)\n",
    "dat$month<-factor(dat$month, levels=c('Jan', 'July'))\n",
    "dat$mosquito_net<-factor(dat$mosquito_net, levels=c('No', 'Yes'))\n",
    "dim(dat)\n",
    "head(dat)"
   ]
  },
  {
   "cell_type": "markdown",
   "id": "94363e3c",
   "metadata": {},
   "source": [
    "### Re-estimating the parameters\n",
    "Now we have our (simulated) dataset and let us re-estimate the parameters. \n",
    "\n",
    "This first (wrong) model is without any fixed effects. We are estimating the two variances. "
   ]
  },
  {
   "cell_type": "code",
   "execution_count": 9,
   "id": "a974021b",
   "metadata": {},
   "outputs": [
    {
     "data": {
      "text/plain": [
       "Generalized linear mixed model fit by maximum likelihood (Laplace\n",
       "  Approximation) [glmerMod]\n",
       " Family: poisson  ( log )\n",
       "Formula: mosquito_count ~ (1 | house_ID) + (1 | overdispersion)\n",
       "   Data: dat\n",
       "Control: glmerControl(optimizer = \"bobyqa\", optCtrl = list(maxfun = 2e+05))\n",
       "\n",
       "     AIC      BIC   logLik deviance df.resid \n",
       "  6835.4   6849.5  -3414.7   6829.4      797 \n",
       "\n",
       "Scaled residuals: \n",
       "     Min       1Q   Median       3Q      Max \n",
       "-0.74775 -0.28372 -0.00246  0.04902  0.06058 \n",
       "\n",
       "Random effects:\n",
       " Groups         Name        Variance Std.Dev.\n",
       " overdispersion (Intercept) 4.9498   2.225   \n",
       " house_ID       (Intercept) 0.1096   0.331   \n",
       "Number of obs: 800, groups:  overdispersion, 800; house_ID, 100\n",
       "\n",
       "Fixed effects:\n",
       "            Estimate Std. Error z value Pr(>|z|)    \n",
       "(Intercept)  1.94625    0.08899   21.87   <2e-16 ***\n",
       "---\n",
       "Signif. codes:  0 '***' 0.001 '**' 0.01 '*' 0.05 '.' 0.1 ' ' 1"
      ]
     },
     "metadata": {},
     "output_type": "display_data"
    }
   ],
   "source": [
    "# RANDOM EFFECTS ONLY, NO FIXED EFFECTS\n",
    "overdispersion<-1:nrow(dat)\n",
    "m<-glmer(mosquito_count~(1|house_ID)+(1|overdispersion), \n",
    "        data=dat, family='poisson', \n",
    "                    control=glmerControl(optimizer=\"bobyqa\",optCtrl=list(maxfun=2e5)))\n",
    "summary(m)"
   ]
  },
  {
   "cell_type": "markdown",
   "id": "04031b30",
   "metadata": {},
   "source": [
    "The model significantly over-estimated the overdispersion (obervation level) variance. Next we introduce the first fixed effect, the monthly effect: "
   ]
  },
  {
   "cell_type": "code",
   "execution_count": 10,
   "id": "d0e241cf",
   "metadata": {},
   "outputs": [
    {
     "data": {
      "text/plain": [
       "Generalized linear mixed model fit by maximum likelihood (Laplace\n",
       "  Approximation) [glmerMod]\n",
       " Family: poisson  ( log )\n",
       "Formula: mosquito_count ~ (1 | house_ID) + (1 | overdispersion) + month\n",
       "   Data: dat\n",
       "Control: glmerControl(optimizer = \"bobyqa\", optCtrl = list(maxfun = 2e+05))\n",
       "\n",
       "     AIC      BIC   logLik deviance df.resid \n",
       "  5849.6   5868.4  -2920.8   5841.6      796 \n",
       "\n",
       "Scaled residuals: \n",
       "     Min       1Q   Median       3Q      Max \n",
       "-1.46918 -0.32109 -0.02052  0.09512  1.05961 \n",
       "\n",
       "Random effects:\n",
       " Groups         Name        Variance Std.Dev.\n",
       " overdispersion (Intercept) 0.9353   0.9671  \n",
       " house_ID       (Intercept) 0.6885   0.8298  \n",
       "Number of obs: 800, groups:  overdispersion, 800; house_ID, 100\n",
       "\n",
       "Fixed effects:\n",
       "            Estimate Std. Error z value Pr(>|z|)    \n",
       "(Intercept)  0.18213    0.10790   1.688   0.0914 .  \n",
       "monthJuly    3.57492    0.08426  42.425   <2e-16 ***\n",
       "---\n",
       "Signif. codes:  0 '***' 0.001 '**' 0.01 '*' 0.05 '.' 0.1 ' ' 1\n",
       "\n",
       "Correlation of Fixed Effects:\n",
       "          (Intr)\n",
       "monthJuly -0.517"
      ]
     },
     "metadata": {},
     "output_type": "display_data"
    }
   ],
   "source": [
    "# WITH ONE (MONTH) FIXED EFFECT\n",
    "overdispersion<-1:nrow(dat)\n",
    "m<-glmer(mosquito_count~(1|house_ID)+(1|overdispersion)+month, \n",
    "        data=dat, family='poisson', \n",
    "                    control=glmerControl(optimizer=\"bobyqa\",optCtrl=list(maxfun=2e5)))\n",
    "summary(m)"
   ]
  },
  {
   "cell_type": "markdown",
   "id": "0029ffa9",
   "metadata": {},
   "source": [
    "Now the estimates are more reasonable. The two variance estimates are close to the true values (1 and 0.6). The difference between the two months is estimated correctly as well (true difference = 3.5). \n",
    "\n",
    "Let us add the second fixed effect, the mosquito net. "
   ]
  },
  {
   "cell_type": "code",
   "execution_count": 11,
   "id": "d0e03026",
   "metadata": {},
   "outputs": [
    {
     "data": {
      "text/plain": [
       "Generalized linear mixed model fit by maximum likelihood (Laplace\n",
       "  Approximation) [glmerMod]\n",
       " Family: poisson  ( log )\n",
       "Formula: mosquito_count ~ (1 | house_ID) + (1 | overdispersion) + month +  \n",
       "    mosquito_net\n",
       "   Data: dat\n",
       "Control: glmerControl(optimizer = \"bobyqa\", optCtrl = list(maxfun = 2e+05))\n",
       "\n",
       "     AIC      BIC   logLik deviance df.resid \n",
       "  5823.5   5846.9  -2906.8   5813.5      795 \n",
       "\n",
       "Scaled residuals: \n",
       "     Min       1Q   Median       3Q      Max \n",
       "-1.44322 -0.33076 -0.02312  0.09482  1.20364 \n",
       "\n",
       "Random effects:\n",
       " Groups         Name        Variance Std.Dev.\n",
       " overdispersion (Intercept) 0.8957   0.9464  \n",
       " house_ID       (Intercept) 0.6660   0.8161  \n",
       "Number of obs: 800, groups:  overdispersion, 800; house_ID, 100\n",
       "\n",
       "Fixed effects:\n",
       "                Estimate Std. Error z value Pr(>|z|)    \n",
       "(Intercept)      0.39289    0.11228   3.499 0.000467 ***\n",
       "monthJuly        3.58763    0.08312  43.164  < 2e-16 ***\n",
       "mosquito_netYes -0.43631    0.08182  -5.333 9.67e-08 ***\n",
       "---\n",
       "Signif. codes:  0 '***' 0.001 '**' 0.01 '*' 0.05 '.' 0.1 ' ' 1\n",
       "\n",
       "Correlation of Fixed Effects:\n",
       "            (Intr) mnthJl\n",
       "monthJuly   -0.470       \n",
       "mosqut_ntYs -0.323 -0.064"
      ]
     },
     "metadata": {},
     "output_type": "display_data"
    }
   ],
   "source": [
    "# THE FULL MODEL, WITH BOTH FIXED EFFECTS\n",
    "overdispersion<-1:nrow(dat)\n",
    "m<-glmer(mosquito_count~(1|house_ID)+(1|overdispersion)+month+mosquito_net, \n",
    "        data=dat, family='poisson', \n",
    "                    control=glmerControl(optimizer=\"bobyqa\",optCtrl=list(maxfun=2e5)))\n",
    "summary(m)"
   ]
  },
  {
   "cell_type": "markdown",
   "id": "e7c87714",
   "metadata": {},
   "source": [
    "All parameters estimates are very close to the true values. \n",
    "\n",
    "One can possibly see that under the complete randomised net the effect of mosquito net is actually confounded mostly with overdispersion. Each observation (visit to house) has its own overdispersion effect, as well as its own mosquito net status. Hence in the last model when mosquito net is included, the variance of overdispersion is lowered (from 0.9353 to 0.8957). \n",
    "\n",
    "Now let us look at other ways to distribute mosquito nets. "
   ]
  },
  {
   "cell_type": "markdown",
   "id": "72f4f9b2",
   "metadata": {},
   "source": [
    "### [Extra 1] Permanent mosquito nets\n",
    "Previously I assume mosquito nets can be installed/removed at any time during the experiment. \n",
    "\n",
    "Below I consider a more realistic scenario that mosquito net is permanent, that the absense/precence of mosquito net per house will not change over time. We randomly install mosquito nets to half of the houses. The effect of mosquito net remains the same. "
   ]
  },
  {
   "cell_type": "code",
   "execution_count": 12,
   "id": "d29a73b8",
   "metadata": {},
   "outputs": [
    {
     "data": {
      "text/html": [
       "<table>\n",
       "<tbody>\n",
       "\t<tr><td>Yes</td><td>Yes</td><td>No </td><td>No </td><td>Yes</td><td>Yes</td><td>No </td><td>No </td><td>No </td><td>No </td><td>...</td><td>Yes</td><td>Yes</td><td>No </td><td>Yes</td><td>Yes</td><td>Yes</td><td>Yes</td><td>Yes</td><td>No </td><td>Yes</td></tr>\n",
       "\t<tr><td>Yes</td><td>Yes</td><td>No </td><td>No </td><td>Yes</td><td>Yes</td><td>No </td><td>No </td><td>No </td><td>No </td><td>...</td><td>Yes</td><td>Yes</td><td>No </td><td>Yes</td><td>Yes</td><td>Yes</td><td>Yes</td><td>Yes</td><td>No </td><td>Yes</td></tr>\n",
       "\t<tr><td>Yes</td><td>Yes</td><td>No </td><td>No </td><td>Yes</td><td>Yes</td><td>No </td><td>No </td><td>No </td><td>No </td><td>...</td><td>Yes</td><td>Yes</td><td>No </td><td>Yes</td><td>Yes</td><td>Yes</td><td>Yes</td><td>Yes</td><td>No </td><td>Yes</td></tr>\n",
       "\t<tr><td>Yes</td><td>Yes</td><td>No </td><td>No </td><td>Yes</td><td>Yes</td><td>No </td><td>No </td><td>No </td><td>No </td><td>...</td><td>Yes</td><td>Yes</td><td>No </td><td>Yes</td><td>Yes</td><td>Yes</td><td>Yes</td><td>Yes</td><td>No </td><td>Yes</td></tr>\n",
       "\t<tr><td>Yes</td><td>Yes</td><td>No </td><td>No </td><td>Yes</td><td>Yes</td><td>No </td><td>No </td><td>No </td><td>No </td><td>...</td><td>Yes</td><td>Yes</td><td>No </td><td>Yes</td><td>Yes</td><td>Yes</td><td>Yes</td><td>Yes</td><td>No </td><td>Yes</td></tr>\n",
       "\t<tr><td>Yes</td><td>Yes</td><td>No </td><td>No </td><td>Yes</td><td>Yes</td><td>No </td><td>No </td><td>No </td><td>No </td><td>...</td><td>Yes</td><td>Yes</td><td>No </td><td>Yes</td><td>Yes</td><td>Yes</td><td>Yes</td><td>Yes</td><td>No </td><td>Yes</td></tr>\n",
       "\t<tr><td>Yes</td><td>Yes</td><td>No </td><td>No </td><td>Yes</td><td>Yes</td><td>No </td><td>No </td><td>No </td><td>No </td><td>...</td><td>Yes</td><td>Yes</td><td>No </td><td>Yes</td><td>Yes</td><td>Yes</td><td>Yes</td><td>Yes</td><td>No </td><td>Yes</td></tr>\n",
       "\t<tr><td>Yes</td><td>Yes</td><td>No </td><td>No </td><td>Yes</td><td>Yes</td><td>No </td><td>No </td><td>No </td><td>No </td><td>...</td><td>Yes</td><td>Yes</td><td>No </td><td>Yes</td><td>Yes</td><td>Yes</td><td>Yes</td><td>Yes</td><td>No </td><td>Yes</td></tr>\n",
       "</tbody>\n",
       "</table>\n"
      ],
      "text/latex": [
       "\\begin{tabular}{llllllllllllllllllllllllllllllllllllllllllllllllllllllllllllllllllllllllllllllllllllllllllllllllllll}\n",
       "\t Yes & Yes & No  & No  & Yes & Yes & No  & No  & No  & No  & ... & Yes & Yes & No  & Yes & Yes & Yes & Yes & Yes & No  & Yes\\\\\n",
       "\t Yes & Yes & No  & No  & Yes & Yes & No  & No  & No  & No  & ... & Yes & Yes & No  & Yes & Yes & Yes & Yes & Yes & No  & Yes\\\\\n",
       "\t Yes & Yes & No  & No  & Yes & Yes & No  & No  & No  & No  & ... & Yes & Yes & No  & Yes & Yes & Yes & Yes & Yes & No  & Yes\\\\\n",
       "\t Yes & Yes & No  & No  & Yes & Yes & No  & No  & No  & No  & ... & Yes & Yes & No  & Yes & Yes & Yes & Yes & Yes & No  & Yes\\\\\n",
       "\t Yes & Yes & No  & No  & Yes & Yes & No  & No  & No  & No  & ... & Yes & Yes & No  & Yes & Yes & Yes & Yes & Yes & No  & Yes\\\\\n",
       "\t Yes & Yes & No  & No  & Yes & Yes & No  & No  & No  & No  & ... & Yes & Yes & No  & Yes & Yes & Yes & Yes & Yes & No  & Yes\\\\\n",
       "\t Yes & Yes & No  & No  & Yes & Yes & No  & No  & No  & No  & ... & Yes & Yes & No  & Yes & Yes & Yes & Yes & Yes & No  & Yes\\\\\n",
       "\t Yes & Yes & No  & No  & Yes & Yes & No  & No  & No  & No  & ... & Yes & Yes & No  & Yes & Yes & Yes & Yes & Yes & No  & Yes\\\\\n",
       "\\end{tabular}\n"
      ],
      "text/markdown": [
       "\n",
       "| Yes | Yes | No  | No  | Yes | Yes | No  | No  | No  | No  | ... | Yes | Yes | No  | Yes | Yes | Yes | Yes | Yes | No  | Yes |\n",
       "| Yes | Yes | No  | No  | Yes | Yes | No  | No  | No  | No  | ... | Yes | Yes | No  | Yes | Yes | Yes | Yes | Yes | No  | Yes |\n",
       "| Yes | Yes | No  | No  | Yes | Yes | No  | No  | No  | No  | ... | Yes | Yes | No  | Yes | Yes | Yes | Yes | Yes | No  | Yes |\n",
       "| Yes | Yes | No  | No  | Yes | Yes | No  | No  | No  | No  | ... | Yes | Yes | No  | Yes | Yes | Yes | Yes | Yes | No  | Yes |\n",
       "| Yes | Yes | No  | No  | Yes | Yes | No  | No  | No  | No  | ... | Yes | Yes | No  | Yes | Yes | Yes | Yes | Yes | No  | Yes |\n",
       "| Yes | Yes | No  | No  | Yes | Yes | No  | No  | No  | No  | ... | Yes | Yes | No  | Yes | Yes | Yes | Yes | Yes | No  | Yes |\n",
       "| Yes | Yes | No  | No  | Yes | Yes | No  | No  | No  | No  | ... | Yes | Yes | No  | Yes | Yes | Yes | Yes | Yes | No  | Yes |\n",
       "| Yes | Yes | No  | No  | Yes | Yes | No  | No  | No  | No  | ... | Yes | Yes | No  | Yes | Yes | Yes | Yes | Yes | No  | Yes |\n",
       "\n"
      ],
      "text/plain": [
       "     [,1] [,2] [,3] [,4] [,5] [,6] [,7] [,8] [,9] [,10] [,11] [,12] [,13] [,14]\n",
       "[1,] Yes  Yes  No   No   Yes  Yes  No   No   No   No    ...   Yes   Yes   No   \n",
       "[2,] Yes  Yes  No   No   Yes  Yes  No   No   No   No    ...   Yes   Yes   No   \n",
       "[3,] Yes  Yes  No   No   Yes  Yes  No   No   No   No    ...   Yes   Yes   No   \n",
       "[4,] Yes  Yes  No   No   Yes  Yes  No   No   No   No    ...   Yes   Yes   No   \n",
       "[5,] Yes  Yes  No   No   Yes  Yes  No   No   No   No    ...   Yes   Yes   No   \n",
       "[6,] Yes  Yes  No   No   Yes  Yes  No   No   No   No    ...   Yes   Yes   No   \n",
       "[7,] Yes  Yes  No   No   Yes  Yes  No   No   No   No    ...   Yes   Yes   No   \n",
       "[8,] Yes  Yes  No   No   Yes  Yes  No   No   No   No    ...   Yes   Yes   No   \n",
       "     [,15] [,16] [,17] [,18] [,19] [,20] [,21]\n",
       "[1,] Yes   Yes   Yes   Yes   Yes   No    Yes  \n",
       "[2,] Yes   Yes   Yes   Yes   Yes   No    Yes  \n",
       "[3,] Yes   Yes   Yes   Yes   Yes   No    Yes  \n",
       "[4,] Yes   Yes   Yes   Yes   Yes   No    Yes  \n",
       "[5,] Yes   Yes   Yes   Yes   Yes   No    Yes  \n",
       "[6,] Yes   Yes   Yes   Yes   Yes   No    Yes  \n",
       "[7,] Yes   Yes   Yes   Yes   Yes   No    Yes  \n",
       "[8,] Yes   Yes   Yes   Yes   Yes   No    Yes  "
      ]
     },
     "metadata": {},
     "output_type": "display_data"
    },
    {
     "data": {
      "text/html": [
       "<table>\n",
       "<tbody>\n",
       "\t<tr><td>-0.5</td><td>-0.5</td><td>0   </td><td>0   </td><td>-0.5</td><td>-0.5</td><td>0   </td><td>0   </td><td>0   </td><td>0   </td><td>... </td><td>-0.5</td><td>-0.5</td><td>0   </td><td>-0.5</td><td>-0.5</td><td>-0.5</td><td>-0.5</td><td>-0.5</td><td>0   </td><td>-0.5</td></tr>\n",
       "\t<tr><td>-0.5</td><td>-0.5</td><td>0   </td><td>0   </td><td>-0.5</td><td>-0.5</td><td>0   </td><td>0   </td><td>0   </td><td>0   </td><td>... </td><td>-0.5</td><td>-0.5</td><td>0   </td><td>-0.5</td><td>-0.5</td><td>-0.5</td><td>-0.5</td><td>-0.5</td><td>0   </td><td>-0.5</td></tr>\n",
       "\t<tr><td>-0.5</td><td>-0.5</td><td>0   </td><td>0   </td><td>-0.5</td><td>-0.5</td><td>0   </td><td>0   </td><td>0   </td><td>0   </td><td>... </td><td>-0.5</td><td>-0.5</td><td>0   </td><td>-0.5</td><td>-0.5</td><td>-0.5</td><td>-0.5</td><td>-0.5</td><td>0   </td><td>-0.5</td></tr>\n",
       "\t<tr><td>-0.5</td><td>-0.5</td><td>0   </td><td>0   </td><td>-0.5</td><td>-0.5</td><td>0   </td><td>0   </td><td>0   </td><td>0   </td><td>... </td><td>-0.5</td><td>-0.5</td><td>0   </td><td>-0.5</td><td>-0.5</td><td>-0.5</td><td>-0.5</td><td>-0.5</td><td>0   </td><td>-0.5</td></tr>\n",
       "\t<tr><td>-0.5</td><td>-0.5</td><td>0   </td><td>0   </td><td>-0.5</td><td>-0.5</td><td>0   </td><td>0   </td><td>0   </td><td>0   </td><td>... </td><td>-0.5</td><td>-0.5</td><td>0   </td><td>-0.5</td><td>-0.5</td><td>-0.5</td><td>-0.5</td><td>-0.5</td><td>0   </td><td>-0.5</td></tr>\n",
       "\t<tr><td>-0.5</td><td>-0.5</td><td>0   </td><td>0   </td><td>-0.5</td><td>-0.5</td><td>0   </td><td>0   </td><td>0   </td><td>0   </td><td>... </td><td>-0.5</td><td>-0.5</td><td>0   </td><td>-0.5</td><td>-0.5</td><td>-0.5</td><td>-0.5</td><td>-0.5</td><td>0   </td><td>-0.5</td></tr>\n",
       "\t<tr><td>-0.5</td><td>-0.5</td><td>0   </td><td>0   </td><td>-0.5</td><td>-0.5</td><td>0   </td><td>0   </td><td>0   </td><td>0   </td><td>... </td><td>-0.5</td><td>-0.5</td><td>0   </td><td>-0.5</td><td>-0.5</td><td>-0.5</td><td>-0.5</td><td>-0.5</td><td>0   </td><td>-0.5</td></tr>\n",
       "\t<tr><td>-0.5</td><td>-0.5</td><td>0   </td><td>0   </td><td>-0.5</td><td>-0.5</td><td>0   </td><td>0   </td><td>0   </td><td>0   </td><td>... </td><td>-0.5</td><td>-0.5</td><td>0   </td><td>-0.5</td><td>-0.5</td><td>-0.5</td><td>-0.5</td><td>-0.5</td><td>0   </td><td>-0.5</td></tr>\n",
       "</tbody>\n",
       "</table>\n"
      ],
      "text/latex": [
       "\\begin{tabular}{llllllllllllllllllllllllllllllllllllllllllllllllllllllllllllllllllllllllllllllllllllllllllllllllllll}\n",
       "\t -0.5 & -0.5 & 0    & 0    & -0.5 & -0.5 & 0    & 0    & 0    & 0    & ...  & -0.5 & -0.5 & 0    & -0.5 & -0.5 & -0.5 & -0.5 & -0.5 & 0    & -0.5\\\\\n",
       "\t -0.5 & -0.5 & 0    & 0    & -0.5 & -0.5 & 0    & 0    & 0    & 0    & ...  & -0.5 & -0.5 & 0    & -0.5 & -0.5 & -0.5 & -0.5 & -0.5 & 0    & -0.5\\\\\n",
       "\t -0.5 & -0.5 & 0    & 0    & -0.5 & -0.5 & 0    & 0    & 0    & 0    & ...  & -0.5 & -0.5 & 0    & -0.5 & -0.5 & -0.5 & -0.5 & -0.5 & 0    & -0.5\\\\\n",
       "\t -0.5 & -0.5 & 0    & 0    & -0.5 & -0.5 & 0    & 0    & 0    & 0    & ...  & -0.5 & -0.5 & 0    & -0.5 & -0.5 & -0.5 & -0.5 & -0.5 & 0    & -0.5\\\\\n",
       "\t -0.5 & -0.5 & 0    & 0    & -0.5 & -0.5 & 0    & 0    & 0    & 0    & ...  & -0.5 & -0.5 & 0    & -0.5 & -0.5 & -0.5 & -0.5 & -0.5 & 0    & -0.5\\\\\n",
       "\t -0.5 & -0.5 & 0    & 0    & -0.5 & -0.5 & 0    & 0    & 0    & 0    & ...  & -0.5 & -0.5 & 0    & -0.5 & -0.5 & -0.5 & -0.5 & -0.5 & 0    & -0.5\\\\\n",
       "\t -0.5 & -0.5 & 0    & 0    & -0.5 & -0.5 & 0    & 0    & 0    & 0    & ...  & -0.5 & -0.5 & 0    & -0.5 & -0.5 & -0.5 & -0.5 & -0.5 & 0    & -0.5\\\\\n",
       "\t -0.5 & -0.5 & 0    & 0    & -0.5 & -0.5 & 0    & 0    & 0    & 0    & ...  & -0.5 & -0.5 & 0    & -0.5 & -0.5 & -0.5 & -0.5 & -0.5 & 0    & -0.5\\\\\n",
       "\\end{tabular}\n"
      ],
      "text/markdown": [
       "\n",
       "| -0.5 | -0.5 | 0    | 0    | -0.5 | -0.5 | 0    | 0    | 0    | 0    | ...  | -0.5 | -0.5 | 0    | -0.5 | -0.5 | -0.5 | -0.5 | -0.5 | 0    | -0.5 |\n",
       "| -0.5 | -0.5 | 0    | 0    | -0.5 | -0.5 | 0    | 0    | 0    | 0    | ...  | -0.5 | -0.5 | 0    | -0.5 | -0.5 | -0.5 | -0.5 | -0.5 | 0    | -0.5 |\n",
       "| -0.5 | -0.5 | 0    | 0    | -0.5 | -0.5 | 0    | 0    | 0    | 0    | ...  | -0.5 | -0.5 | 0    | -0.5 | -0.5 | -0.5 | -0.5 | -0.5 | 0    | -0.5 |\n",
       "| -0.5 | -0.5 | 0    | 0    | -0.5 | -0.5 | 0    | 0    | 0    | 0    | ...  | -0.5 | -0.5 | 0    | -0.5 | -0.5 | -0.5 | -0.5 | -0.5 | 0    | -0.5 |\n",
       "| -0.5 | -0.5 | 0    | 0    | -0.5 | -0.5 | 0    | 0    | 0    | 0    | ...  | -0.5 | -0.5 | 0    | -0.5 | -0.5 | -0.5 | -0.5 | -0.5 | 0    | -0.5 |\n",
       "| -0.5 | -0.5 | 0    | 0    | -0.5 | -0.5 | 0    | 0    | 0    | 0    | ...  | -0.5 | -0.5 | 0    | -0.5 | -0.5 | -0.5 | -0.5 | -0.5 | 0    | -0.5 |\n",
       "| -0.5 | -0.5 | 0    | 0    | -0.5 | -0.5 | 0    | 0    | 0    | 0    | ...  | -0.5 | -0.5 | 0    | -0.5 | -0.5 | -0.5 | -0.5 | -0.5 | 0    | -0.5 |\n",
       "| -0.5 | -0.5 | 0    | 0    | -0.5 | -0.5 | 0    | 0    | 0    | 0    | ...  | -0.5 | -0.5 | 0    | -0.5 | -0.5 | -0.5 | -0.5 | -0.5 | 0    | -0.5 |\n",
       "\n"
      ],
      "text/plain": [
       "     [,1] [,2] [,3] [,4] [,5] [,6] [,7] [,8] [,9] [,10] [,11] [,12] [,13] [,14]\n",
       "[1,] -0.5 -0.5 0    0    -0.5 -0.5 0    0    0    0     ...   -0.5  -0.5  0    \n",
       "[2,] -0.5 -0.5 0    0    -0.5 -0.5 0    0    0    0     ...   -0.5  -0.5  0    \n",
       "[3,] -0.5 -0.5 0    0    -0.5 -0.5 0    0    0    0     ...   -0.5  -0.5  0    \n",
       "[4,] -0.5 -0.5 0    0    -0.5 -0.5 0    0    0    0     ...   -0.5  -0.5  0    \n",
       "[5,] -0.5 -0.5 0    0    -0.5 -0.5 0    0    0    0     ...   -0.5  -0.5  0    \n",
       "[6,] -0.5 -0.5 0    0    -0.5 -0.5 0    0    0    0     ...   -0.5  -0.5  0    \n",
       "[7,] -0.5 -0.5 0    0    -0.5 -0.5 0    0    0    0     ...   -0.5  -0.5  0    \n",
       "[8,] -0.5 -0.5 0    0    -0.5 -0.5 0    0    0    0     ...   -0.5  -0.5  0    \n",
       "     [,15] [,16] [,17] [,18] [,19] [,20] [,21]\n",
       "[1,] -0.5  -0.5  -0.5  -0.5  -0.5  0     -0.5 \n",
       "[2,] -0.5  -0.5  -0.5  -0.5  -0.5  0     -0.5 \n",
       "[3,] -0.5  -0.5  -0.5  -0.5  -0.5  0     -0.5 \n",
       "[4,] -0.5  -0.5  -0.5  -0.5  -0.5  0     -0.5 \n",
       "[5,] -0.5  -0.5  -0.5  -0.5  -0.5  0     -0.5 \n",
       "[6,] -0.5  -0.5  -0.5  -0.5  -0.5  0     -0.5 \n",
       "[7,] -0.5  -0.5  -0.5  -0.5  -0.5  0     -0.5 \n",
       "[8,] -0.5  -0.5  -0.5  -0.5  -0.5  0     -0.5 "
      ]
     },
     "metadata": {},
     "output_type": "display_data"
    },
    {
     "data": {
      "text/html": [
       "<ol class=list-inline>\n",
       "\t<li>800</li>\n",
       "\t<li>4</li>\n",
       "</ol>\n"
      ],
      "text/latex": [
       "\\begin{enumerate*}\n",
       "\\item 800\n",
       "\\item 4\n",
       "\\end{enumerate*}\n"
      ],
      "text/markdown": [
       "1. 800\n",
       "2. 4\n",
       "\n",
       "\n"
      ],
      "text/plain": [
       "[1] 800   4"
      ]
     },
     "metadata": {},
     "output_type": "display_data"
    }
   ],
   "source": [
    "# PERMANENT MOSQUITO NET\n",
    "k<-round(num_house/2)\n",
    "mosquito_net<-sample(c(rep('Yes', k), rep('No', num_house-k)))\n",
    "mosquito_net<-matrix(mosquito_net, nc=num_house, nr=8, byrow=T)\n",
    "mosquito_net\n",
    "mosquito_net_effect<-(mosquito_net=='Yes')*(-0.5) # EFFECT IS -0.5\n",
    "mosquito_net_effect\n",
    "# CALCULATE LOG MEAN COUNT\n",
    "log_lambda<-house_effect+overdispersion_effect+month_effect+mosquito_net_effect\n",
    "# SAMEPLE POISSON COUNT\n",
    "mosquito_count<-rpois(length(log_lambda), exp(log_lambda))\n",
    "# PUT EVERYTHING INTO A DATA FRAME\n",
    "dat<-data.frame(mosquito_count=as.vector(mosquito_count), \n",
    "                house_ID=as.vector(house_ID), \n",
    "                month=as.vector(month), mosquito_net=as.vector(mosquito_net))\n",
    "# SET VARIABLES AS FACTORS\n",
    "dat$house_ID<-factor(dat$house_ID)\n",
    "dat$month<-factor(dat$month, levels=c('Jan', 'July'))\n",
    "dat$mosquito_net<-factor(dat$mosquito_net, levels=c('No', 'Yes'))\n",
    "dim(dat)"
   ]
  },
  {
   "cell_type": "markdown",
   "id": "07ea2f9e",
   "metadata": {},
   "source": [
    "As before, I try to estimate the parameters back. I run two models, with and without mosquito nets. "
   ]
  },
  {
   "cell_type": "code",
   "execution_count": 13,
   "id": "9e8dd9c8",
   "metadata": {},
   "outputs": [
    {
     "data": {
      "text/plain": [
       "Generalized linear mixed model fit by maximum likelihood (Laplace\n",
       "  Approximation) [glmerMod]\n",
       " Family: poisson  ( log )\n",
       "Formula: mosquito_count ~ (1 | house_ID) + (1 | overdispersion) + month\n",
       "   Data: dat\n",
       "Control: glmerControl(optimizer = \"bobyqa\", optCtrl = list(maxfun = 2e+05))\n",
       "\n",
       "     AIC      BIC   logLik deviance df.resid \n",
       "  5859.1   5877.9  -2925.6   5851.1      796 \n",
       "\n",
       "Scaled residuals: \n",
       "     Min       1Q   Median       3Q      Max \n",
       "-1.53058 -0.33282 -0.02672  0.09461  1.44283 \n",
       "\n",
       "Random effects:\n",
       " Groups         Name        Variance Std.Dev.\n",
       " overdispersion (Intercept) 0.9248   0.9617  \n",
       " house_ID       (Intercept) 0.6674   0.8169  \n",
       "Number of obs: 800, groups:  overdispersion, 800; house_ID, 100\n",
       "\n",
       "Fixed effects:\n",
       "            Estimate Std. Error z value Pr(>|z|)    \n",
       "(Intercept)  0.21251    0.10678    1.99   0.0466 *  \n",
       "monthJuly    3.55421    0.08393   42.35   <2e-16 ***\n",
       "---\n",
       "Signif. codes:  0 '***' 0.001 '**' 0.01 '*' 0.05 '.' 0.1 ' ' 1\n",
       "\n",
       "Correlation of Fixed Effects:\n",
       "          (Intr)\n",
       "monthJuly -0.521"
      ]
     },
     "metadata": {},
     "output_type": "display_data"
    }
   ],
   "source": [
    "# FIRST MODEL, WITH ONE FIXED EFFECT, MONTH\n",
    "overdispersion<-1:nrow(dat)\n",
    "m<-glmer(mosquito_count~(1|house_ID)+(1|overdispersion)+month, \n",
    "        data=dat, family='poisson', \n",
    "                    control=glmerControl(optimizer=\"bobyqa\",optCtrl=list(maxfun=2e5)))\n",
    "summary(m)"
   ]
  },
  {
   "cell_type": "code",
   "execution_count": 14,
   "id": "de5ee73b",
   "metadata": {},
   "outputs": [
    {
     "data": {
      "text/plain": [
       "Generalized linear mixed model fit by maximum likelihood (Laplace\n",
       "  Approximation) [glmerMod]\n",
       " Family: poisson  ( log )\n",
       "Formula: mosquito_count ~ (1 | house_ID) + (1 | overdispersion) + month +  \n",
       "    mosquito_net\n",
       "   Data: dat\n",
       "Control: glmerControl(optimizer = \"bobyqa\", optCtrl = list(maxfun = 2e+05))\n",
       "\n",
       "     AIC      BIC   logLik deviance df.resid \n",
       "  5856.3   5879.8  -2923.2   5846.3      795 \n",
       "\n",
       "Scaled residuals: \n",
       "     Min       1Q   Median       3Q      Max \n",
       "-1.52172 -0.31751 -0.02471  0.09318  1.38134 \n",
       "\n",
       "Random effects:\n",
       " Groups         Name        Variance Std.Dev.\n",
       " overdispersion (Intercept) 0.9259   0.9622  \n",
       " house_ID       (Intercept) 0.6268   0.7917  \n",
       "Number of obs: 800, groups:  overdispersion, 800; house_ID, 100\n",
       "\n",
       "Fixed effects:\n",
       "                Estimate Std. Error z value Pr(>|z|)    \n",
       "(Intercept)      0.40872    0.13620   3.001  0.00269 ** \n",
       "monthJuly        3.55479    0.08397  42.334  < 2e-16 ***\n",
       "mosquito_netYes -0.39329    0.17707  -2.221  0.02635 *  \n",
       "---\n",
       "Signif. codes:  0 '***' 0.001 '**' 0.01 '*' 0.05 '.' 0.1 ' ' 1\n",
       "\n",
       "Correlation of Fixed Effects:\n",
       "            (Intr) mnthJl\n",
       "monthJuly   -0.397       \n",
       "mosqut_ntYs -0.638 -0.018"
      ]
     },
     "metadata": {},
     "output_type": "display_data"
    }
   ],
   "source": [
    "# SECOND MODEL, WITH BOTH FIXED EFFECTS\n",
    "overdispersion<-1:nrow(dat)\n",
    "m<-glmer(mosquito_count~(1|house_ID)+(1|overdispersion)+month+mosquito_net, \n",
    "        data=dat, family='poisson', \n",
    "                    control=glmerControl(optimizer=\"bobyqa\",optCtrl=list(maxfun=2e5)))\n",
    "summary(m)"
   ]
  },
  {
   "cell_type": "markdown",
   "id": "003566c8",
   "metadata": {},
   "source": [
    "Some key observations: First, we are still able to estimate all fixed effects. In particular, the negative effect of having mosquito nets. Second, unlike the previous example with complete randomised mosquito nets, here the overdisperion is not affected by whether we included mosquito net in model fitting. Including mosquito net in the model only reduces the house variance (from 0.6674 to 0.6268). It is predictable as the mosquito net is now confounding with house (each house has its own net status, rather than per observation). \n",
    "\n",
    "I guess you will say that 0.6268 is the epidemiologically meaningful parameter you wish to obtain. "
   ]
  },
  {
   "cell_type": "markdown",
   "id": "b377ff18",
   "metadata": {},
   "source": [
    "### [Extra 2] Confounding mosquito net\n",
    "Below is an extreme case where we intentionally install mosquito nets to high risk houses. It is a plausible scenario for the government or local officials to distribute mosuqito nets to houses with the highest exposure. It is just a natual thing to do. To model this, I give mosquito nets to houses with positive random effects. "
   ]
  },
  {
   "cell_type": "code",
   "execution_count": 15,
   "id": "a3619bcd",
   "metadata": {},
   "outputs": [
    {
     "data": {
      "text/html": [
       "<table>\n",
       "<tbody>\n",
       "\t<tr><td>Yes</td><td>No </td><td>No </td><td>No </td><td>No </td><td>Yes</td><td>No </td><td>No </td><td>No </td><td>No </td><td>...</td><td>Yes</td><td>Yes</td><td>No </td><td>Yes</td><td>Yes</td><td>No </td><td>Yes</td><td>No </td><td>No </td><td>No </td></tr>\n",
       "\t<tr><td>Yes</td><td>No </td><td>No </td><td>No </td><td>No </td><td>Yes</td><td>No </td><td>No </td><td>No </td><td>No </td><td>...</td><td>Yes</td><td>Yes</td><td>No </td><td>Yes</td><td>Yes</td><td>No </td><td>Yes</td><td>No </td><td>No </td><td>No </td></tr>\n",
       "\t<tr><td>Yes</td><td>No </td><td>No </td><td>No </td><td>No </td><td>Yes</td><td>No </td><td>No </td><td>No </td><td>No </td><td>...</td><td>Yes</td><td>Yes</td><td>No </td><td>Yes</td><td>Yes</td><td>No </td><td>Yes</td><td>No </td><td>No </td><td>No </td></tr>\n",
       "\t<tr><td>Yes</td><td>No </td><td>No </td><td>No </td><td>No </td><td>Yes</td><td>No </td><td>No </td><td>No </td><td>No </td><td>...</td><td>Yes</td><td>Yes</td><td>No </td><td>Yes</td><td>Yes</td><td>No </td><td>Yes</td><td>No </td><td>No </td><td>No </td></tr>\n",
       "\t<tr><td>Yes</td><td>No </td><td>No </td><td>No </td><td>No </td><td>Yes</td><td>No </td><td>No </td><td>No </td><td>No </td><td>...</td><td>Yes</td><td>Yes</td><td>No </td><td>Yes</td><td>Yes</td><td>No </td><td>Yes</td><td>No </td><td>No </td><td>No </td></tr>\n",
       "\t<tr><td>Yes</td><td>No </td><td>No </td><td>No </td><td>No </td><td>Yes</td><td>No </td><td>No </td><td>No </td><td>No </td><td>...</td><td>Yes</td><td>Yes</td><td>No </td><td>Yes</td><td>Yes</td><td>No </td><td>Yes</td><td>No </td><td>No </td><td>No </td></tr>\n",
       "\t<tr><td>Yes</td><td>No </td><td>No </td><td>No </td><td>No </td><td>Yes</td><td>No </td><td>No </td><td>No </td><td>No </td><td>...</td><td>Yes</td><td>Yes</td><td>No </td><td>Yes</td><td>Yes</td><td>No </td><td>Yes</td><td>No </td><td>No </td><td>No </td></tr>\n",
       "\t<tr><td>Yes</td><td>No </td><td>No </td><td>No </td><td>No </td><td>Yes</td><td>No </td><td>No </td><td>No </td><td>No </td><td>...</td><td>Yes</td><td>Yes</td><td>No </td><td>Yes</td><td>Yes</td><td>No </td><td>Yes</td><td>No </td><td>No </td><td>No </td></tr>\n",
       "</tbody>\n",
       "</table>\n"
      ],
      "text/latex": [
       "\\begin{tabular}{llllllllllllllllllllllllllllllllllllllllllllllllllllllllllllllllllllllllllllllllllllllllllllllllllll}\n",
       "\t Yes & No  & No  & No  & No  & Yes & No  & No  & No  & No  & ... & Yes & Yes & No  & Yes & Yes & No  & Yes & No  & No  & No \\\\\n",
       "\t Yes & No  & No  & No  & No  & Yes & No  & No  & No  & No  & ... & Yes & Yes & No  & Yes & Yes & No  & Yes & No  & No  & No \\\\\n",
       "\t Yes & No  & No  & No  & No  & Yes & No  & No  & No  & No  & ... & Yes & Yes & No  & Yes & Yes & No  & Yes & No  & No  & No \\\\\n",
       "\t Yes & No  & No  & No  & No  & Yes & No  & No  & No  & No  & ... & Yes & Yes & No  & Yes & Yes & No  & Yes & No  & No  & No \\\\\n",
       "\t Yes & No  & No  & No  & No  & Yes & No  & No  & No  & No  & ... & Yes & Yes & No  & Yes & Yes & No  & Yes & No  & No  & No \\\\\n",
       "\t Yes & No  & No  & No  & No  & Yes & No  & No  & No  & No  & ... & Yes & Yes & No  & Yes & Yes & No  & Yes & No  & No  & No \\\\\n",
       "\t Yes & No  & No  & No  & No  & Yes & No  & No  & No  & No  & ... & Yes & Yes & No  & Yes & Yes & No  & Yes & No  & No  & No \\\\\n",
       "\t Yes & No  & No  & No  & No  & Yes & No  & No  & No  & No  & ... & Yes & Yes & No  & Yes & Yes & No  & Yes & No  & No  & No \\\\\n",
       "\\end{tabular}\n"
      ],
      "text/markdown": [
       "\n",
       "| Yes | No  | No  | No  | No  | Yes | No  | No  | No  | No  | ... | Yes | Yes | No  | Yes | Yes | No  | Yes | No  | No  | No  |\n",
       "| Yes | No  | No  | No  | No  | Yes | No  | No  | No  | No  | ... | Yes | Yes | No  | Yes | Yes | No  | Yes | No  | No  | No  |\n",
       "| Yes | No  | No  | No  | No  | Yes | No  | No  | No  | No  | ... | Yes | Yes | No  | Yes | Yes | No  | Yes | No  | No  | No  |\n",
       "| Yes | No  | No  | No  | No  | Yes | No  | No  | No  | No  | ... | Yes | Yes | No  | Yes | Yes | No  | Yes | No  | No  | No  |\n",
       "| Yes | No  | No  | No  | No  | Yes | No  | No  | No  | No  | ... | Yes | Yes | No  | Yes | Yes | No  | Yes | No  | No  | No  |\n",
       "| Yes | No  | No  | No  | No  | Yes | No  | No  | No  | No  | ... | Yes | Yes | No  | Yes | Yes | No  | Yes | No  | No  | No  |\n",
       "| Yes | No  | No  | No  | No  | Yes | No  | No  | No  | No  | ... | Yes | Yes | No  | Yes | Yes | No  | Yes | No  | No  | No  |\n",
       "| Yes | No  | No  | No  | No  | Yes | No  | No  | No  | No  | ... | Yes | Yes | No  | Yes | Yes | No  | Yes | No  | No  | No  |\n",
       "\n"
      ],
      "text/plain": [
       "     [,1] [,2] [,3] [,4] [,5] [,6] [,7] [,8] [,9] [,10] [,11] [,12] [,13] [,14]\n",
       "[1,] Yes  No   No   No   No   Yes  No   No   No   No    ...   Yes   Yes   No   \n",
       "[2,] Yes  No   No   No   No   Yes  No   No   No   No    ...   Yes   Yes   No   \n",
       "[3,] Yes  No   No   No   No   Yes  No   No   No   No    ...   Yes   Yes   No   \n",
       "[4,] Yes  No   No   No   No   Yes  No   No   No   No    ...   Yes   Yes   No   \n",
       "[5,] Yes  No   No   No   No   Yes  No   No   No   No    ...   Yes   Yes   No   \n",
       "[6,] Yes  No   No   No   No   Yes  No   No   No   No    ...   Yes   Yes   No   \n",
       "[7,] Yes  No   No   No   No   Yes  No   No   No   No    ...   Yes   Yes   No   \n",
       "[8,] Yes  No   No   No   No   Yes  No   No   No   No    ...   Yes   Yes   No   \n",
       "     [,15] [,16] [,17] [,18] [,19] [,20] [,21]\n",
       "[1,] Yes   Yes   No    Yes   No    No    No   \n",
       "[2,] Yes   Yes   No    Yes   No    No    No   \n",
       "[3,] Yes   Yes   No    Yes   No    No    No   \n",
       "[4,] Yes   Yes   No    Yes   No    No    No   \n",
       "[5,] Yes   Yes   No    Yes   No    No    No   \n",
       "[6,] Yes   Yes   No    Yes   No    No    No   \n",
       "[7,] Yes   Yes   No    Yes   No    No    No   \n",
       "[8,] Yes   Yes   No    Yes   No    No    No   "
      ]
     },
     "metadata": {},
     "output_type": "display_data"
    },
    {
     "data": {
      "text/html": [
       "<table>\n",
       "<tbody>\n",
       "\t<tr><td>-0.5</td><td>0   </td><td>0   </td><td>0   </td><td>0   </td><td>-0.5</td><td>0   </td><td>0   </td><td>0   </td><td>0   </td><td>... </td><td>-0.5</td><td>-0.5</td><td>0   </td><td>-0.5</td><td>-0.5</td><td>0   </td><td>-0.5</td><td>0   </td><td>0   </td><td>0   </td></tr>\n",
       "\t<tr><td>-0.5</td><td>0   </td><td>0   </td><td>0   </td><td>0   </td><td>-0.5</td><td>0   </td><td>0   </td><td>0   </td><td>0   </td><td>... </td><td>-0.5</td><td>-0.5</td><td>0   </td><td>-0.5</td><td>-0.5</td><td>0   </td><td>-0.5</td><td>0   </td><td>0   </td><td>0   </td></tr>\n",
       "\t<tr><td>-0.5</td><td>0   </td><td>0   </td><td>0   </td><td>0   </td><td>-0.5</td><td>0   </td><td>0   </td><td>0   </td><td>0   </td><td>... </td><td>-0.5</td><td>-0.5</td><td>0   </td><td>-0.5</td><td>-0.5</td><td>0   </td><td>-0.5</td><td>0   </td><td>0   </td><td>0   </td></tr>\n",
       "\t<tr><td>-0.5</td><td>0   </td><td>0   </td><td>0   </td><td>0   </td><td>-0.5</td><td>0   </td><td>0   </td><td>0   </td><td>0   </td><td>... </td><td>-0.5</td><td>-0.5</td><td>0   </td><td>-0.5</td><td>-0.5</td><td>0   </td><td>-0.5</td><td>0   </td><td>0   </td><td>0   </td></tr>\n",
       "\t<tr><td>-0.5</td><td>0   </td><td>0   </td><td>0   </td><td>0   </td><td>-0.5</td><td>0   </td><td>0   </td><td>0   </td><td>0   </td><td>... </td><td>-0.5</td><td>-0.5</td><td>0   </td><td>-0.5</td><td>-0.5</td><td>0   </td><td>-0.5</td><td>0   </td><td>0   </td><td>0   </td></tr>\n",
       "\t<tr><td>-0.5</td><td>0   </td><td>0   </td><td>0   </td><td>0   </td><td>-0.5</td><td>0   </td><td>0   </td><td>0   </td><td>0   </td><td>... </td><td>-0.5</td><td>-0.5</td><td>0   </td><td>-0.5</td><td>-0.5</td><td>0   </td><td>-0.5</td><td>0   </td><td>0   </td><td>0   </td></tr>\n",
       "\t<tr><td>-0.5</td><td>0   </td><td>0   </td><td>0   </td><td>0   </td><td>-0.5</td><td>0   </td><td>0   </td><td>0   </td><td>0   </td><td>... </td><td>-0.5</td><td>-0.5</td><td>0   </td><td>-0.5</td><td>-0.5</td><td>0   </td><td>-0.5</td><td>0   </td><td>0   </td><td>0   </td></tr>\n",
       "\t<tr><td>-0.5</td><td>0   </td><td>0   </td><td>0   </td><td>0   </td><td>-0.5</td><td>0   </td><td>0   </td><td>0   </td><td>0   </td><td>... </td><td>-0.5</td><td>-0.5</td><td>0   </td><td>-0.5</td><td>-0.5</td><td>0   </td><td>-0.5</td><td>0   </td><td>0   </td><td>0   </td></tr>\n",
       "</tbody>\n",
       "</table>\n"
      ],
      "text/latex": [
       "\\begin{tabular}{llllllllllllllllllllllllllllllllllllllllllllllllllllllllllllllllllllllllllllllllllllllllllllllllllll}\n",
       "\t -0.5 & 0    & 0    & 0    & 0    & -0.5 & 0    & 0    & 0    & 0    & ...  & -0.5 & -0.5 & 0    & -0.5 & -0.5 & 0    & -0.5 & 0    & 0    & 0   \\\\\n",
       "\t -0.5 & 0    & 0    & 0    & 0    & -0.5 & 0    & 0    & 0    & 0    & ...  & -0.5 & -0.5 & 0    & -0.5 & -0.5 & 0    & -0.5 & 0    & 0    & 0   \\\\\n",
       "\t -0.5 & 0    & 0    & 0    & 0    & -0.5 & 0    & 0    & 0    & 0    & ...  & -0.5 & -0.5 & 0    & -0.5 & -0.5 & 0    & -0.5 & 0    & 0    & 0   \\\\\n",
       "\t -0.5 & 0    & 0    & 0    & 0    & -0.5 & 0    & 0    & 0    & 0    & ...  & -0.5 & -0.5 & 0    & -0.5 & -0.5 & 0    & -0.5 & 0    & 0    & 0   \\\\\n",
       "\t -0.5 & 0    & 0    & 0    & 0    & -0.5 & 0    & 0    & 0    & 0    & ...  & -0.5 & -0.5 & 0    & -0.5 & -0.5 & 0    & -0.5 & 0    & 0    & 0   \\\\\n",
       "\t -0.5 & 0    & 0    & 0    & 0    & -0.5 & 0    & 0    & 0    & 0    & ...  & -0.5 & -0.5 & 0    & -0.5 & -0.5 & 0    & -0.5 & 0    & 0    & 0   \\\\\n",
       "\t -0.5 & 0    & 0    & 0    & 0    & -0.5 & 0    & 0    & 0    & 0    & ...  & -0.5 & -0.5 & 0    & -0.5 & -0.5 & 0    & -0.5 & 0    & 0    & 0   \\\\\n",
       "\t -0.5 & 0    & 0    & 0    & 0    & -0.5 & 0    & 0    & 0    & 0    & ...  & -0.5 & -0.5 & 0    & -0.5 & -0.5 & 0    & -0.5 & 0    & 0    & 0   \\\\\n",
       "\\end{tabular}\n"
      ],
      "text/markdown": [
       "\n",
       "| -0.5 | 0    | 0    | 0    | 0    | -0.5 | 0    | 0    | 0    | 0    | ...  | -0.5 | -0.5 | 0    | -0.5 | -0.5 | 0    | -0.5 | 0    | 0    | 0    |\n",
       "| -0.5 | 0    | 0    | 0    | 0    | -0.5 | 0    | 0    | 0    | 0    | ...  | -0.5 | -0.5 | 0    | -0.5 | -0.5 | 0    | -0.5 | 0    | 0    | 0    |\n",
       "| -0.5 | 0    | 0    | 0    | 0    | -0.5 | 0    | 0    | 0    | 0    | ...  | -0.5 | -0.5 | 0    | -0.5 | -0.5 | 0    | -0.5 | 0    | 0    | 0    |\n",
       "| -0.5 | 0    | 0    | 0    | 0    | -0.5 | 0    | 0    | 0    | 0    | ...  | -0.5 | -0.5 | 0    | -0.5 | -0.5 | 0    | -0.5 | 0    | 0    | 0    |\n",
       "| -0.5 | 0    | 0    | 0    | 0    | -0.5 | 0    | 0    | 0    | 0    | ...  | -0.5 | -0.5 | 0    | -0.5 | -0.5 | 0    | -0.5 | 0    | 0    | 0    |\n",
       "| -0.5 | 0    | 0    | 0    | 0    | -0.5 | 0    | 0    | 0    | 0    | ...  | -0.5 | -0.5 | 0    | -0.5 | -0.5 | 0    | -0.5 | 0    | 0    | 0    |\n",
       "| -0.5 | 0    | 0    | 0    | 0    | -0.5 | 0    | 0    | 0    | 0    | ...  | -0.5 | -0.5 | 0    | -0.5 | -0.5 | 0    | -0.5 | 0    | 0    | 0    |\n",
       "| -0.5 | 0    | 0    | 0    | 0    | -0.5 | 0    | 0    | 0    | 0    | ...  | -0.5 | -0.5 | 0    | -0.5 | -0.5 | 0    | -0.5 | 0    | 0    | 0    |\n",
       "\n"
      ],
      "text/plain": [
       "     [,1] [,2] [,3] [,4] [,5] [,6] [,7] [,8] [,9] [,10] [,11] [,12] [,13] [,14]\n",
       "[1,] -0.5 0    0    0    0    -0.5 0    0    0    0     ...   -0.5  -0.5  0    \n",
       "[2,] -0.5 0    0    0    0    -0.5 0    0    0    0     ...   -0.5  -0.5  0    \n",
       "[3,] -0.5 0    0    0    0    -0.5 0    0    0    0     ...   -0.5  -0.5  0    \n",
       "[4,] -0.5 0    0    0    0    -0.5 0    0    0    0     ...   -0.5  -0.5  0    \n",
       "[5,] -0.5 0    0    0    0    -0.5 0    0    0    0     ...   -0.5  -0.5  0    \n",
       "[6,] -0.5 0    0    0    0    -0.5 0    0    0    0     ...   -0.5  -0.5  0    \n",
       "[7,] -0.5 0    0    0    0    -0.5 0    0    0    0     ...   -0.5  -0.5  0    \n",
       "[8,] -0.5 0    0    0    0    -0.5 0    0    0    0     ...   -0.5  -0.5  0    \n",
       "     [,15] [,16] [,17] [,18] [,19] [,20] [,21]\n",
       "[1,] -0.5  -0.5  0     -0.5  0     0     0    \n",
       "[2,] -0.5  -0.5  0     -0.5  0     0     0    \n",
       "[3,] -0.5  -0.5  0     -0.5  0     0     0    \n",
       "[4,] -0.5  -0.5  0     -0.5  0     0     0    \n",
       "[5,] -0.5  -0.5  0     -0.5  0     0     0    \n",
       "[6,] -0.5  -0.5  0     -0.5  0     0     0    \n",
       "[7,] -0.5  -0.5  0     -0.5  0     0     0    \n",
       "[8,] -0.5  -0.5  0     -0.5  0     0     0    "
      ]
     },
     "metadata": {},
     "output_type": "display_data"
    },
    {
     "data": {
      "text/html": [
       "<table>\n",
       "<tbody>\n",
       "\t<tr><td> 0.7818209 </td><td> 1.9782132 </td><td>-1.0583796 </td><td> 0.28193680</td><td>-1.2292619 </td><td> 0.7831057 </td><td>-0.7850257 </td><td>-0.7098085 </td><td>0.2370877  </td><td>-0.2811265 </td><td>...        </td><td> 0.4880065 </td><td> 1.5714329 </td><td>-0.5161941 </td><td>0.74065508 </td><td> 0.1783969 </td><td>-0.3463077 </td><td>-0.9546873 </td><td>-0.2617622 </td><td> 0.60198342</td><td>-0.9806446 </td></tr>\n",
       "\t<tr><td>-0.9781283 </td><td>-0.1060374 </td><td>-1.1683179 </td><td>-2.13050765</td><td> 0.2800514 </td><td> 0.7445796 </td><td> 0.1068987 </td><td> 0.1604907 </td><td>0.1548139  </td><td> 0.3925811 </td><td>...        </td><td> 0.3167917 </td><td>-0.1074606 </td><td>-0.6003602 </td><td>0.15068141 </td><td>-0.5123147 </td><td>-1.8282912 </td><td>-0.2101530 </td><td>-1.0323218 </td><td>-1.23035082</td><td> 0.8869040 </td></tr>\n",
       "\t<tr><td> 0.6212946 </td><td> 1.4429986 </td><td> 1.1380589 </td><td> 0.04427088</td><td> 0.7284076 </td><td>-0.5043113 </td><td>-0.7514220 </td><td>-1.4702965 </td><td>0.2872542  </td><td>-1.1513403 </td><td>...        </td><td>-0.4816714 </td><td> 0.5479894 </td><td>-1.4337662 </td><td>0.14803982 </td><td>-0.3727875 </td><td>-1.2222982 </td><td> 0.5089023 </td><td> 1.7818815 </td><td>-0.05247828</td><td> 0.3000167 </td></tr>\n",
       "\t<tr><td> 0.3870549 </td><td> 1.2677141 </td><td> 0.6526088 </td><td>-0.80634295</td><td>-0.5123200 </td><td> 0.5235504 </td><td>-2.5342075 </td><td> 0.3439369 </td><td>0.6697668  </td><td> 0.1072972 </td><td>...        </td><td> 1.9082128 </td><td> 1.6728712 </td><td>-0.5778023 </td><td>0.06367257 </td><td>-1.5889054 </td><td>-2.1386386 </td><td> 1.1215126 </td><td>-0.5556069 </td><td>-1.14460331</td><td>-0.5535393 </td></tr>\n",
       "\t<tr><td> 2.9830198 </td><td> 3.6975379 </td><td> 4.4475427 </td><td> 2.40186166</td><td> 0.5443050 </td><td> 4.4860024 </td><td> 2.1759363 </td><td> 3.5791580 </td><td>4.9621049  </td><td> 4.2707802 </td><td>...        </td><td> 5.3363414 </td><td> 4.7416996 </td><td> 0.7050719 </td><td>3.15880275 </td><td> 3.9044913 </td><td> 2.5436932 </td><td> 4.8873421 </td><td> 2.8705292 </td><td> 3.69585333</td><td> 2.8159049 </td></tr>\n",
       "\t<tr><td> 2.7555755 </td><td> 5.1303215 </td><td> 6.1123337 </td><td> 2.46990561</td><td> 3.4001245 </td><td> 3.6298166 </td><td> 3.0435111 </td><td> 2.7445508 </td><td>2.3809765  </td><td> 3.7159585 </td><td>...        </td><td> 5.7818590 </td><td> 5.8756143 </td><td> 0.8711538 </td><td>2.64200598 </td><td> 5.2271259 </td><td> 3.1053729 </td><td> 5.2559298 </td><td> 2.7259073 </td><td> 2.56978966</td><td> 3.5299622 </td></tr>\n",
       "\t<tr><td> 2.6687188 </td><td> 1.5485404 </td><td> 2.7435196 </td><td> 4.80883807</td><td> 4.2991803 </td><td> 5.4190423 </td><td> 0.2456549 </td><td> 4.1624051 </td><td>4.1218037  </td><td> 4.5199955 </td><td>...        </td><td> 3.9589167 </td><td> 3.1128137 </td><td> 1.6248611 </td><td>4.27558168 </td><td> 3.2413451 </td><td> 3.3404798 </td><td> 4.3986723 </td><td> 4.0254016 </td><td> 3.69373804</td><td> 3.6646006 </td></tr>\n",
       "\t<tr><td> 4.2871882 </td><td> 3.6162562 </td><td> 4.0495947 </td><td> 3.29095771</td><td> 3.2636505 </td><td> 3.1565633 </td><td> 2.7463644 </td><td> 4.1239137 </td><td>3.4402564  </td><td> 3.0974810 </td><td>...        </td><td> 6.1620013 </td><td> 3.1400845 </td><td> 1.3178246 </td><td>5.44224514 </td><td> 4.9283340 </td><td> 4.2615401 </td><td> 4.6330418 </td><td> 3.7889985 </td><td> 4.53179697</td><td> 3.7935031 </td></tr>\n",
       "</tbody>\n",
       "</table>\n"
      ],
      "text/latex": [
       "\\begin{tabular}{llllllllllllllllllllllllllllllllllllllllllllllllllllllllllllllllllllllllllllllllllllllllllllllllllll}\n",
       "\t  0.7818209  &  1.9782132  & -1.0583796  &  0.28193680 & -1.2292619  &  0.7831057  & -0.7850257  & -0.7098085  & 0.2370877   & -0.2811265  & ...         &  0.4880065  &  1.5714329  & -0.5161941  & 0.74065508  &  0.1783969  & -0.3463077  & -0.9546873  & -0.2617622  &  0.60198342 & -0.9806446 \\\\\n",
       "\t -0.9781283  & -0.1060374  & -1.1683179  & -2.13050765 &  0.2800514  &  0.7445796  &  0.1068987  &  0.1604907  & 0.1548139   &  0.3925811  & ...         &  0.3167917  & -0.1074606  & -0.6003602  & 0.15068141  & -0.5123147  & -1.8282912  & -0.2101530  & -1.0323218  & -1.23035082 &  0.8869040 \\\\\n",
       "\t  0.6212946  &  1.4429986  &  1.1380589  &  0.04427088 &  0.7284076  & -0.5043113  & -0.7514220  & -1.4702965  & 0.2872542   & -1.1513403  & ...         & -0.4816714  &  0.5479894  & -1.4337662  & 0.14803982  & -0.3727875  & -1.2222982  &  0.5089023  &  1.7818815  & -0.05247828 &  0.3000167 \\\\\n",
       "\t  0.3870549  &  1.2677141  &  0.6526088  & -0.80634295 & -0.5123200  &  0.5235504  & -2.5342075  &  0.3439369  & 0.6697668   &  0.1072972  & ...         &  1.9082128  &  1.6728712  & -0.5778023  & 0.06367257  & -1.5889054  & -2.1386386  &  1.1215126  & -0.5556069  & -1.14460331 & -0.5535393 \\\\\n",
       "\t  2.9830198  &  3.6975379  &  4.4475427  &  2.40186166 &  0.5443050  &  4.4860024  &  2.1759363  &  3.5791580  & 4.9621049   &  4.2707802  & ...         &  5.3363414  &  4.7416996  &  0.7050719  & 3.15880275  &  3.9044913  &  2.5436932  &  4.8873421  &  2.8705292  &  3.69585333 &  2.8159049 \\\\\n",
       "\t  2.7555755  &  5.1303215  &  6.1123337  &  2.46990561 &  3.4001245  &  3.6298166  &  3.0435111  &  2.7445508  & 2.3809765   &  3.7159585  & ...         &  5.7818590  &  5.8756143  &  0.8711538  & 2.64200598  &  5.2271259  &  3.1053729  &  5.2559298  &  2.7259073  &  2.56978966 &  3.5299622 \\\\\n",
       "\t  2.6687188  &  1.5485404  &  2.7435196  &  4.80883807 &  4.2991803  &  5.4190423  &  0.2456549  &  4.1624051  & 4.1218037   &  4.5199955  & ...         &  3.9589167  &  3.1128137  &  1.6248611  & 4.27558168  &  3.2413451  &  3.3404798  &  4.3986723  &  4.0254016  &  3.69373804 &  3.6646006 \\\\\n",
       "\t  4.2871882  &  3.6162562  &  4.0495947  &  3.29095771 &  3.2636505  &  3.1565633  &  2.7463644  &  4.1239137  & 3.4402564   &  3.0974810  & ...         &  6.1620013  &  3.1400845  &  1.3178246  & 5.44224514  &  4.9283340  &  4.2615401  &  4.6330418  &  3.7889985  &  4.53179697 &  3.7935031 \\\\\n",
       "\\end{tabular}\n"
      ],
      "text/markdown": [
       "\n",
       "|  0.7818209  |  1.9782132  | -1.0583796  |  0.28193680 | -1.2292619  |  0.7831057  | -0.7850257  | -0.7098085  | 0.2370877   | -0.2811265  | ...         |  0.4880065  |  1.5714329  | -0.5161941  | 0.74065508  |  0.1783969  | -0.3463077  | -0.9546873  | -0.2617622  |  0.60198342 | -0.9806446  |\n",
       "| -0.9781283  | -0.1060374  | -1.1683179  | -2.13050765 |  0.2800514  |  0.7445796  |  0.1068987  |  0.1604907  | 0.1548139   |  0.3925811  | ...         |  0.3167917  | -0.1074606  | -0.6003602  | 0.15068141  | -0.5123147  | -1.8282912  | -0.2101530  | -1.0323218  | -1.23035082 |  0.8869040  |\n",
       "|  0.6212946  |  1.4429986  |  1.1380589  |  0.04427088 |  0.7284076  | -0.5043113  | -0.7514220  | -1.4702965  | 0.2872542   | -1.1513403  | ...         | -0.4816714  |  0.5479894  | -1.4337662  | 0.14803982  | -0.3727875  | -1.2222982  |  0.5089023  |  1.7818815  | -0.05247828 |  0.3000167  |\n",
       "|  0.3870549  |  1.2677141  |  0.6526088  | -0.80634295 | -0.5123200  |  0.5235504  | -2.5342075  |  0.3439369  | 0.6697668   |  0.1072972  | ...         |  1.9082128  |  1.6728712  | -0.5778023  | 0.06367257  | -1.5889054  | -2.1386386  |  1.1215126  | -0.5556069  | -1.14460331 | -0.5535393  |\n",
       "|  2.9830198  |  3.6975379  |  4.4475427  |  2.40186166 |  0.5443050  |  4.4860024  |  2.1759363  |  3.5791580  | 4.9621049   |  4.2707802  | ...         |  5.3363414  |  4.7416996  |  0.7050719  | 3.15880275  |  3.9044913  |  2.5436932  |  4.8873421  |  2.8705292  |  3.69585333 |  2.8159049  |\n",
       "|  2.7555755  |  5.1303215  |  6.1123337  |  2.46990561 |  3.4001245  |  3.6298166  |  3.0435111  |  2.7445508  | 2.3809765   |  3.7159585  | ...         |  5.7818590  |  5.8756143  |  0.8711538  | 2.64200598  |  5.2271259  |  3.1053729  |  5.2559298  |  2.7259073  |  2.56978966 |  3.5299622  |\n",
       "|  2.6687188  |  1.5485404  |  2.7435196  |  4.80883807 |  4.2991803  |  5.4190423  |  0.2456549  |  4.1624051  | 4.1218037   |  4.5199955  | ...         |  3.9589167  |  3.1128137  |  1.6248611  | 4.27558168  |  3.2413451  |  3.3404798  |  4.3986723  |  4.0254016  |  3.69373804 |  3.6646006  |\n",
       "|  4.2871882  |  3.6162562  |  4.0495947  |  3.29095771 |  3.2636505  |  3.1565633  |  2.7463644  |  4.1239137  | 3.4402564   |  3.0974810  | ...         |  6.1620013  |  3.1400845  |  1.3178246  | 5.44224514  |  4.9283340  |  4.2615401  |  4.6330418  |  3.7889985  |  4.53179697 |  3.7935031  |\n",
       "\n"
      ],
      "text/plain": [
       "     [,1]       [,2]       [,3]       [,4]        [,5]       [,6]      \n",
       "[1,]  0.7818209  1.9782132 -1.0583796  0.28193680 -1.2292619  0.7831057\n",
       "[2,] -0.9781283 -0.1060374 -1.1683179 -2.13050765  0.2800514  0.7445796\n",
       "[3,]  0.6212946  1.4429986  1.1380589  0.04427088  0.7284076 -0.5043113\n",
       "[4,]  0.3870549  1.2677141  0.6526088 -0.80634295 -0.5123200  0.5235504\n",
       "[5,]  2.9830198  3.6975379  4.4475427  2.40186166  0.5443050  4.4860024\n",
       "[6,]  2.7555755  5.1303215  6.1123337  2.46990561  3.4001245  3.6298166\n",
       "[7,]  2.6687188  1.5485404  2.7435196  4.80883807  4.2991803  5.4190423\n",
       "[8,]  4.2871882  3.6162562  4.0495947  3.29095771  3.2636505  3.1565633\n",
       "     [,7]       [,8]       [,9]      [,10]      [,11] [,12]      [,13]     \n",
       "[1,] -0.7850257 -0.7098085 0.2370877 -0.2811265 ...    0.4880065  1.5714329\n",
       "[2,]  0.1068987  0.1604907 0.1548139  0.3925811 ...    0.3167917 -0.1074606\n",
       "[3,] -0.7514220 -1.4702965 0.2872542 -1.1513403 ...   -0.4816714  0.5479894\n",
       "[4,] -2.5342075  0.3439369 0.6697668  0.1072972 ...    1.9082128  1.6728712\n",
       "[5,]  2.1759363  3.5791580 4.9621049  4.2707802 ...    5.3363414  4.7416996\n",
       "[6,]  3.0435111  2.7445508 2.3809765  3.7159585 ...    5.7818590  5.8756143\n",
       "[7,]  0.2456549  4.1624051 4.1218037  4.5199955 ...    3.9589167  3.1128137\n",
       "[8,]  2.7463644  4.1239137 3.4402564  3.0974810 ...    6.1620013  3.1400845\n",
       "     [,14]      [,15]      [,16]      [,17]      [,18]      [,19]     \n",
       "[1,] -0.5161941 0.74065508  0.1783969 -0.3463077 -0.9546873 -0.2617622\n",
       "[2,] -0.6003602 0.15068141 -0.5123147 -1.8282912 -0.2101530 -1.0323218\n",
       "[3,] -1.4337662 0.14803982 -0.3727875 -1.2222982  0.5089023  1.7818815\n",
       "[4,] -0.5778023 0.06367257 -1.5889054 -2.1386386  1.1215126 -0.5556069\n",
       "[5,]  0.7050719 3.15880275  3.9044913  2.5436932  4.8873421  2.8705292\n",
       "[6,]  0.8711538 2.64200598  5.2271259  3.1053729  5.2559298  2.7259073\n",
       "[7,]  1.6248611 4.27558168  3.2413451  3.3404798  4.3986723  4.0254016\n",
       "[8,]  1.3178246 5.44224514  4.9283340  4.2615401  4.6330418  3.7889985\n",
       "     [,20]       [,21]     \n",
       "[1,]  0.60198342 -0.9806446\n",
       "[2,] -1.23035082  0.8869040\n",
       "[3,] -0.05247828  0.3000167\n",
       "[4,] -1.14460331 -0.5535393\n",
       "[5,]  3.69585333  2.8159049\n",
       "[6,]  2.56978966  3.5299622\n",
       "[7,]  3.69373804  3.6646006\n",
       "[8,]  4.53179697  3.7935031"
      ]
     },
     "metadata": {},
     "output_type": "display_data"
    },
    {
     "data": {
      "text/html": [
       "<ol class=list-inline>\n",
       "\t<li>800</li>\n",
       "\t<li>4</li>\n",
       "</ol>\n"
      ],
      "text/latex": [
       "\\begin{enumerate*}\n",
       "\\item 800\n",
       "\\item 4\n",
       "\\end{enumerate*}\n"
      ],
      "text/markdown": [
       "1. 800\n",
       "2. 4\n",
       "\n",
       "\n"
      ],
      "text/plain": [
       "[1] 800   4"
      ]
     },
     "metadata": {},
     "output_type": "display_data"
    }
   ],
   "source": [
    "# CONFOUNDING MOSQUITO NET\n",
    "mosquito_net<-matrix('No', nc=num_house, nr=8)\n",
    "mosquito_net[house_effect>=0]<-'Yes' # IF HOUSE EFFECT >0, GIVE MOSQUITO NET\n",
    "mosquito_net_effect<-(mosquito_net=='Yes')*(-0.5) \n",
    "mosquito_net\n",
    "mosquito_net_effect\n",
    "# CALCULATE LOG MEAN COUNT\n",
    "log_lambda<-house_effect+overdispersion_effect+month_effect+mosquito_net_effect\n",
    "log_lambda\n",
    "mosquito_count<-rpois(length(log_lambda), exp(log_lambda))\n",
    "# PUT EVERYTHING INTO A DATA FRAME\n",
    "dat<-data.frame(mosquito_count=as.vector(mosquito_count), \n",
    "                house_ID=as.vector(house_ID), \n",
    "                month=as.vector(month), mosquito_net=as.vector(mosquito_net))\n",
    "# SET VARIABLES AS FACTORS\n",
    "dat$house_ID<-factor(dat$house_ID)\n",
    "dat$month<-factor(dat$month, levels=c('Jan', 'July'))\n",
    "dat$mosquito_net<-factor(dat$mosquito_net, levels=c('No', 'Yes'))\n",
    "dim(dat)"
   ]
  },
  {
   "cell_type": "markdown",
   "id": "6b291c45",
   "metadata": {},
   "source": [
    "As before, I fit two glms, with and without the mosquito net:"
   ]
  },
  {
   "cell_type": "code",
   "execution_count": 16,
   "id": "8a0dcf86",
   "metadata": {},
   "outputs": [
    {
     "data": {
      "text/plain": [
       "Generalized linear mixed model fit by maximum likelihood (Laplace\n",
       "  Approximation) [glmerMod]\n",
       " Family: poisson  ( log )\n",
       "Formula: mosquito_count ~ (1 | house_ID) + (1 | overdispersion) + month\n",
       "   Data: dat\n",
       "Control: glmerControl(optimizer = \"bobyqa\", optCtrl = list(maxfun = 2e+05))\n",
       "\n",
       "     AIC      BIC   logLik deviance df.resid \n",
       "  5772.6   5791.4  -2882.3   5764.6      796 \n",
       "\n",
       "Scaled residuals: \n",
       "     Min       1Q   Median       3Q      Max \n",
       "-1.50921 -0.29941 -0.01065  0.10740  1.16124 \n",
       "\n",
       "Random effects:\n",
       " Groups         Name        Variance Std.Dev.\n",
       " overdispersion (Intercept) 0.9127   0.9554  \n",
       " house_ID       (Intercept) 0.3694   0.6078  \n",
       "Number of obs: 800, groups:  overdispersion, 800; house_ID, 100\n",
       "\n",
       "Fixed effects:\n",
       "            Estimate Std. Error z value Pr(>|z|)    \n",
       "(Intercept)  0.15958    0.09166   1.741   0.0817 .  \n",
       "monthJuly    3.61986    0.08366  43.270   <2e-16 ***\n",
       "---\n",
       "Signif. codes:  0 '***' 0.001 '**' 0.01 '*' 0.05 '.' 0.1 ' ' 1\n",
       "\n",
       "Correlation of Fixed Effects:\n",
       "          (Intr)\n",
       "monthJuly -0.608"
      ]
     },
     "metadata": {},
     "output_type": "display_data"
    }
   ],
   "source": [
    "# FIRST MODEL, ONE FIXED EFFECT, MONTH\n",
    "overdispersion<-1:nrow(dat)\n",
    "m<-glmer(mosquito_count~(1|house_ID)+(1|overdispersion)+month, \n",
    "        data=dat, family='poisson', \n",
    "                    control=glmerControl(optimizer=\"bobyqa\",optCtrl=list(maxfun=2e5)))\n",
    "summary(m)"
   ]
  },
  {
   "cell_type": "code",
   "execution_count": 17,
   "id": "caba1ae6",
   "metadata": {},
   "outputs": [
    {
     "data": {
      "text/plain": [
       "Generalized linear mixed model fit by maximum likelihood (Laplace\n",
       "  Approximation) [glmerMod]\n",
       " Family: poisson  ( log )\n",
       "Formula: mosquito_count ~ (1 | house_ID) + (1 | overdispersion) + month +  \n",
       "    mosquito_net\n",
       "   Data: dat\n",
       "Control: glmerControl(optimizer = \"bobyqa\", optCtrl = list(maxfun = 2e+05))\n",
       "\n",
       "     AIC      BIC   logLik deviance df.resid \n",
       "  5744.9   5768.3  -2867.5   5734.9      795 \n",
       "\n",
       "Scaled residuals: \n",
       "    Min      1Q  Median      3Q     Max \n",
       "-1.5000 -0.3176 -0.0015  0.1011  1.1292 \n",
       "\n",
       "Random effects:\n",
       " Groups         Name        Variance Std.Dev.\n",
       " overdispersion (Intercept) 0.9159   0.9571  \n",
       " house_ID       (Intercept) 0.2347   0.4844  \n",
       "Number of obs: 800, groups:  overdispersion, 800; house_ID, 100\n",
       "\n",
       "Fixed effects:\n",
       "                Estimate Std. Error z value Pr(>|z|)    \n",
       "(Intercept)     -0.23142    0.10952  -2.113   0.0346 *  \n",
       "monthJuly        3.62138    0.08375  43.238  < 2e-16 ***\n",
       "mosquito_netYes  0.73492    0.12533   5.864 4.52e-09 ***\n",
       "---\n",
       "Signif. codes:  0 '***' 0.001 '**' 0.01 '*' 0.05 '.' 0.1 ' ' 1\n",
       "\n",
       "Correlation of Fixed Effects:\n",
       "            (Intr) mnthJl\n",
       "monthJuly   -0.534       \n",
       "mosqut_ntYs -0.642  0.041"
      ]
     },
     "metadata": {},
     "output_type": "display_data"
    }
   ],
   "source": [
    "# SECOND MODEL, BOTH FIXED EFFECTS\n",
    "overdispersion<-1:nrow(dat)\n",
    "m<-glmer(mosquito_count~(1|house_ID)+(1|overdispersion)+month+mosquito_net, \n",
    "        data=dat, family='poisson', \n",
    "                    control=glmerControl(optimizer=\"bobyqa\",optCtrl=list(maxfun=2e5)))\n",
    "summary(m)"
   ]
  },
  {
   "cell_type": "markdown",
   "id": "08d9d909",
   "metadata": {},
   "source": [
    "Again, the overdisperion estimate is unaffected by mosquito net. It is because mosquito net is confounding with houses but not with house visits. \n",
    "\n",
    "In the first model (without fitting mosquito net) the house variance is smaller than the true value, as mosquito net's negative impact compensates the effect on houses with above-average exposure. But I guess you would argue that this is the number you want. \n",
    "\n",
    "In the second model we got both house variance and the fixed effect of mosquito net wrong. \n",
    "\n",
    "The good thing is that the monthly effect is unaffected by all these. \n",
    "\n",
    "### Conclusion\n",
    "1) If we have completely randomised mosquito net it only affects the overdispersion estimates. \n",
    "2) If we have permanent (but still randomised) mosquito net distribution it affects the house variance. \n",
    "3) If we have targeted mosquito net distribution it may affect both the house variance estimate and the fixed effect estimate of mosquito net. "
   ]
  },
  {
   "cell_type": "markdown",
   "id": "4346eace",
   "metadata": {},
   "source": [
    "Ignore the bits below"
   ]
  },
  {
   "cell_type": "code",
   "execution_count": 18,
   "id": "e99c4dd3",
   "metadata": {},
   "outputs": [
    {
     "data": {
      "text/html": [
       "0.954496734798976"
      ],
      "text/latex": [
       "0.954496734798976"
      ],
      "text/markdown": [
       "0.954496734798976"
      ],
      "text/plain": [
       "[1] 0.9544967"
      ]
     },
     "metadata": {},
     "output_type": "display_data"
    },
    {
     "data": {
      "text/html": [
       "1.01696104500445"
      ],
      "text/latex": [
       "1.01696104500445"
      ],
      "text/markdown": [
       "1.01696104500445"
      ],
      "text/plain": [
       "[1] 1.016961"
      ]
     },
     "metadata": {},
     "output_type": "display_data"
    },
    {
     "data": {
      "text/html": [
       "0.0624643102054706"
      ],
      "text/latex": [
       "0.0624643102054706"
      ],
      "text/markdown": [
       "0.0624643102054706"
      ],
      "text/plain": [
       "[1] 0.06246431"
      ]
     },
     "metadata": {},
     "output_type": "display_data"
    },
    {
     "data": {
      "text/html": [
       "0.688038200323392"
      ],
      "text/latex": [
       "0.688038200323392"
      ],
      "text/markdown": [
       "0.688038200323392"
      ],
      "text/plain": [
       "[1] 0.6880382"
      ]
     },
     "metadata": {},
     "output_type": "display_data"
    },
    {
     "data": {
      "text/html": [
       "0.748537221505256"
      ],
      "text/latex": [
       "0.748537221505256"
      ],
      "text/markdown": [
       "0.748537221505256"
      ],
      "text/plain": [
       "[1] 0.7485372"
      ]
     },
     "metadata": {},
     "output_type": "display_data"
    },
    {
     "data": {
      "text/html": [
       "0.0604990211818646"
      ],
      "text/latex": [
       "0.0604990211818646"
      ],
      "text/markdown": [
       "0.0604990211818646"
      ],
      "text/plain": [
       "[1] 0.06049902"
      ]
     },
     "metadata": {},
     "output_type": "display_data"
    },
    {
     "data": {
      "text/html": [
       "0.0406"
      ],
      "text/latex": [
       "0.0406"
      ],
      "text/markdown": [
       "0.0406"
      ],
      "text/plain": [
       "[1] 0.0406"
      ]
     },
     "metadata": {},
     "output_type": "display_data"
    }
   ],
   "source": [
    "var(as.vector(overdispersion_effect))\n",
    "# ESTIMATE THE REDUCTION OF OVERDISPERSION\n",
    "temp<-rep(NA, 1000)\n",
    "k<-round(num_house*8/2)\n",
    "for (i in 1:length(temp))\n",
    "    {\n",
    "    temp1<-as.vector(overdispersion_effect)+sample(c(rep(0, k), rep(-0.5, num_house*8-k)))\n",
    "    temp[i]<-var(temp1)\n",
    "}\n",
    "mean(temp)\n",
    "mean(temp)-var(as.vector(overdispersion_effect))\n",
    "\n",
    "# ESTIMATE THE REDUCTION OF THE HOUSE EFFECT VARIANCE\n",
    "var(house_effect[1,])\n",
    "temp<-rep(NA, 1000)\n",
    "k<-round(num_house/2)\n",
    "for (i in 1:length(temp))\n",
    "    {\n",
    "    temp1<-house_effect[1,]+sample(c(rep(0, k), rep(-0.5, num_house-k)))\n",
    "    temp[i]<-var(temp1)\n",
    "}\n",
    "mean(temp)\n",
    "mean(temp)-var(house_effect[1,])\n",
    "0.6674-0.6268"
   ]
  }
 ],
 "metadata": {
  "kernelspec": {
   "display_name": "R",
   "language": "R",
   "name": "ir"
  },
  "language_info": {
   "codemirror_mode": "r",
   "file_extension": ".r",
   "mimetype": "text/x-r-source",
   "name": "R",
   "pygments_lexer": "r",
   "version": "3.5.3"
  }
 },
 "nbformat": 4,
 "nbformat_minor": 5
}
