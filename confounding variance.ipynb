{
 "cells": [
  {
   "cell_type": "markdown",
   "id": "95c0c771",
   "metadata": {},
   "source": [
    "## Understanding the variance among houses\n",
    "\n",
    "The variation among houses carries epidemiological meaning, as high variance leads to a higher R0. \n",
    "\n",
    "I hope to understand what we the estimated variance really represents through the simplified example below. The setting is as follows: \n",
    "\n",
    "Let us assume we have 30 houses from the same village. There is variation among the 30 houses. Overdispersion exists. We visit the houses at 8 different occasions, 4 times in month Jan, 4 in month July. Some houses also have mosquito net installed as a potential confounding factor. The mosquito count per visit follows a Poisson distribution with a rate parameter, which is a linear function of these explanatory variables. This model is a simplied version of our Burkina PSC dataset. \n",
    "\n",
    "Further, because it is a simulation, we know the values of the underlying parameters such that we can simulate the dataset. "
   ]
  },
  {
   "cell_type": "code",
   "execution_count": 1,
   "id": "221d627a",
   "metadata": {},
   "outputs": [
    {
     "name": "stderr",
     "output_type": "stream",
     "text": [
      "Loading required package: compiler\n"
     ]
    },
    {
     "data": {
      "text/html": [
       "3"
      ],
      "text/latex": [
       "3"
      ],
      "text/markdown": [
       "3"
      ],
      "text/plain": [
       "[1] 3"
      ]
     },
     "metadata": {},
     "output_type": "display_data"
    },
    {
     "name": "stderr",
     "output_type": "stream",
     "text": [
      "Loading required package: lme4\n",
      "Loading required package: Matrix\n"
     ]
    }
   ],
   "source": [
    "# ALL THE ESSENTIALS\n",
    "require(compiler)\n",
    "enableJIT(3)\n",
    "require(lme4)\n",
    "set.seed(111)"
   ]
  },
  {
   "cell_type": "markdown",
   "id": "a70bb1e6",
   "metadata": {},
   "source": [
    "### Simulating counts with known effects and parameters\n",
    "#### Random effect 1: variation among houses\n",
    "First we sample the intrinsic variation among our 20 houses. The variation follows a normal distribution with mean 0 and variance of 0.6. Note that this number is the epidemiologically meaningful parameter that we wish to estimate. "
   ]
  },
  {
   "cell_type": "code",
   "execution_count": 2,
   "id": "c141946f",
   "metadata": {},
   "outputs": [
    {
     "data": {
      "text/html": [
       "<table>\n",
       "<thead><tr><th scope=col>house_ID</th><th scope=col>house_effect</th></tr></thead>\n",
       "<tbody>\n",
       "\t<tr><td> 1         </td><td> 0.18220118</td></tr>\n",
       "\t<tr><td> 2         </td><td>-0.25618690</td></tr>\n",
       "\t<tr><td> 3         </td><td>-0.24138278</td></tr>\n",
       "\t<tr><td> 4         </td><td>-1.78338928</td></tr>\n",
       "\t<tr><td> 5         </td><td>-0.13236002</td></tr>\n",
       "\t<tr><td> 6         </td><td> 0.10865905</td></tr>\n",
       "\t<tr><td> 7         </td><td>-1.15990170</td></tr>\n",
       "\t<tr><td> 8         </td><td>-0.78248858</td></tr>\n",
       "\t<tr><td> 9         </td><td>-0.73468604</td></tr>\n",
       "\t<tr><td>10         </td><td>-0.38262149</td></tr>\n",
       "\t<tr><td>11         </td><td>-0.13452740</td></tr>\n",
       "\t<tr><td>12         </td><td>-0.31495006</td></tr>\n",
       "\t<tr><td>13         </td><td> 1.42962370</td></tr>\n",
       "\t<tr><td>14         </td><td> 0.30523300</td></tr>\n",
       "\t<tr><td>15         </td><td> 0.61776292</td></tr>\n",
       "\t<tr><td>16         </td><td>-1.21353377</td></tr>\n",
       "\t<tr><td>17         </td><td>-0.06649991</td></tr>\n",
       "\t<tr><td>18         </td><td>-0.27818825</td></tr>\n",
       "\t<tr><td>19         </td><td>-0.92456553</td></tr>\n",
       "\t<tr><td>20         </td><td> 0.28209783</td></tr>\n",
       "\t<tr><td>21         </td><td> 0.28014253</td></tr>\n",
       "\t<tr><td>22         </td><td> 0.26875745</td></tr>\n",
       "\t<tr><td>23         </td><td> 0.14696928</td></tr>\n",
       "\t<tr><td>24         </td><td>-0.12360766</td></tr>\n",
       "\t<tr><td>25         </td><td> 0.25294395</td></tr>\n",
       "\t<tr><td>26         </td><td> 0.46340571</td></tr>\n",
       "\t<tr><td>27         </td><td>-1.42644634</td></tr>\n",
       "\t<tr><td>28         </td><td> 2.10539681</td></tr>\n",
       "\t<tr><td>29         </td><td> 0.14813727</td></tr>\n",
       "\t<tr><td>30         </td><td>-1.00797960</td></tr>\n",
       "\t<tr><td>...</td><td>...</td></tr>\n",
       "\t<tr><td> 71        </td><td> 0.79300639</td></tr>\n",
       "\t<tr><td> 72        </td><td> 0.36880566</td></tr>\n",
       "\t<tr><td> 73        </td><td>-0.51923564</td></tr>\n",
       "\t<tr><td> 74        </td><td> 0.12334237</td></tr>\n",
       "\t<tr><td> 75        </td><td>-0.29645006</td></tr>\n",
       "\t<tr><td> 76        </td><td> 0.72483859</td></tr>\n",
       "\t<tr><td> 77        </td><td>-0.48918279</td></tr>\n",
       "\t<tr><td> 78        </td><td>-0.07614756</td></tr>\n",
       "\t<tr><td> 79        </td><td> 0.79937213</td></tr>\n",
       "\t<tr><td> 80        </td><td> 0.30039512</td></tr>\n",
       "\t<tr><td> 81        </td><td>-0.97299358</td></tr>\n",
       "\t<tr><td> 82        </td><td>-0.60957096</td></tr>\n",
       "\t<tr><td> 83        </td><td> 0.33293059</td></tr>\n",
       "\t<tr><td> 84        </td><td>-0.29157075</td></tr>\n",
       "\t<tr><td> 85        </td><td>-0.94208698</td></tr>\n",
       "\t<tr><td> 86        </td><td> 0.79727571</td></tr>\n",
       "\t<tr><td> 87        </td><td> 0.33338408</td></tr>\n",
       "\t<tr><td> 88        </td><td>-0.96481749</td></tr>\n",
       "\t<tr><td> 89        </td><td>-0.46687148</td></tr>\n",
       "\t<tr><td> 90        </td><td> 0.51128755</td></tr>\n",
       "\t<tr><td> 91        </td><td> 1.58850375</td></tr>\n",
       "\t<tr><td> 92        </td><td> 0.38017838</td></tr>\n",
       "\t<tr><td> 93        </td><td>-1.34119819</td></tr>\n",
       "\t<tr><td> 94        </td><td> 0.55064811</td></tr>\n",
       "\t<tr><td> 95        </td><td> 0.01070718</td></tr>\n",
       "\t<tr><td> 96        </td><td>-1.08524215</td></tr>\n",
       "\t<tr><td> 97        </td><td> 0.97531300</td></tr>\n",
       "\t<tr><td> 98        </td><td>-0.09874366</td></tr>\n",
       "\t<tr><td> 99        </td><td>-0.56498036</td></tr>\n",
       "\t<tr><td>100        </td><td>-0.93831647</td></tr>\n",
       "</tbody>\n",
       "</table>\n"
      ],
      "text/latex": [
       "\\begin{tabular}{ll}\n",
       " house\\_ID & house\\_effect\\\\\n",
       "\\hline\n",
       "\t  1          &  0.18220118\\\\\n",
       "\t  2          & -0.25618690\\\\\n",
       "\t  3          & -0.24138278\\\\\n",
       "\t  4          & -1.78338928\\\\\n",
       "\t  5          & -0.13236002\\\\\n",
       "\t  6          &  0.10865905\\\\\n",
       "\t  7          & -1.15990170\\\\\n",
       "\t  8          & -0.78248858\\\\\n",
       "\t  9          & -0.73468604\\\\\n",
       "\t 10          & -0.38262149\\\\\n",
       "\t 11          & -0.13452740\\\\\n",
       "\t 12          & -0.31495006\\\\\n",
       "\t 13          &  1.42962370\\\\\n",
       "\t 14          &  0.30523300\\\\\n",
       "\t 15          &  0.61776292\\\\\n",
       "\t 16          & -1.21353377\\\\\n",
       "\t 17          & -0.06649991\\\\\n",
       "\t 18          & -0.27818825\\\\\n",
       "\t 19          & -0.92456553\\\\\n",
       "\t 20          &  0.28209783\\\\\n",
       "\t 21          &  0.28014253\\\\\n",
       "\t 22          &  0.26875745\\\\\n",
       "\t 23          &  0.14696928\\\\\n",
       "\t 24          & -0.12360766\\\\\n",
       "\t 25          &  0.25294395\\\\\n",
       "\t 26          &  0.46340571\\\\\n",
       "\t 27          & -1.42644634\\\\\n",
       "\t 28          &  2.10539681\\\\\n",
       "\t 29          &  0.14813727\\\\\n",
       "\t 30          & -1.00797960\\\\\n",
       "\t ... & ...\\\\\n",
       "\t  71         &  0.79300639\\\\\n",
       "\t  72         &  0.36880566\\\\\n",
       "\t  73         & -0.51923564\\\\\n",
       "\t  74         &  0.12334237\\\\\n",
       "\t  75         & -0.29645006\\\\\n",
       "\t  76         &  0.72483859\\\\\n",
       "\t  77         & -0.48918279\\\\\n",
       "\t  78         & -0.07614756\\\\\n",
       "\t  79         &  0.79937213\\\\\n",
       "\t  80         &  0.30039512\\\\\n",
       "\t  81         & -0.97299358\\\\\n",
       "\t  82         & -0.60957096\\\\\n",
       "\t  83         &  0.33293059\\\\\n",
       "\t  84         & -0.29157075\\\\\n",
       "\t  85         & -0.94208698\\\\\n",
       "\t  86         &  0.79727571\\\\\n",
       "\t  87         &  0.33338408\\\\\n",
       "\t  88         & -0.96481749\\\\\n",
       "\t  89         & -0.46687148\\\\\n",
       "\t  90         &  0.51128755\\\\\n",
       "\t  91         &  1.58850375\\\\\n",
       "\t  92         &  0.38017838\\\\\n",
       "\t  93         & -1.34119819\\\\\n",
       "\t  94         &  0.55064811\\\\\n",
       "\t  95         &  0.01070718\\\\\n",
       "\t  96         & -1.08524215\\\\\n",
       "\t  97         &  0.97531300\\\\\n",
       "\t  98         & -0.09874366\\\\\n",
       "\t  99         & -0.56498036\\\\\n",
       "\t 100         & -0.93831647\\\\\n",
       "\\end{tabular}\n"
      ],
      "text/markdown": [
       "\n",
       "| house_ID | house_effect |\n",
       "|---|---|\n",
       "|  1          |  0.18220118 |\n",
       "|  2          | -0.25618690 |\n",
       "|  3          | -0.24138278 |\n",
       "|  4          | -1.78338928 |\n",
       "|  5          | -0.13236002 |\n",
       "|  6          |  0.10865905 |\n",
       "|  7          | -1.15990170 |\n",
       "|  8          | -0.78248858 |\n",
       "|  9          | -0.73468604 |\n",
       "| 10          | -0.38262149 |\n",
       "| 11          | -0.13452740 |\n",
       "| 12          | -0.31495006 |\n",
       "| 13          |  1.42962370 |\n",
       "| 14          |  0.30523300 |\n",
       "| 15          |  0.61776292 |\n",
       "| 16          | -1.21353377 |\n",
       "| 17          | -0.06649991 |\n",
       "| 18          | -0.27818825 |\n",
       "| 19          | -0.92456553 |\n",
       "| 20          |  0.28209783 |\n",
       "| 21          |  0.28014253 |\n",
       "| 22          |  0.26875745 |\n",
       "| 23          |  0.14696928 |\n",
       "| 24          | -0.12360766 |\n",
       "| 25          |  0.25294395 |\n",
       "| 26          |  0.46340571 |\n",
       "| 27          | -1.42644634 |\n",
       "| 28          |  2.10539681 |\n",
       "| 29          |  0.14813727 |\n",
       "| 30          | -1.00797960 |\n",
       "| ... | ... |\n",
       "|  71         |  0.79300639 |\n",
       "|  72         |  0.36880566 |\n",
       "|  73         | -0.51923564 |\n",
       "|  74         |  0.12334237 |\n",
       "|  75         | -0.29645006 |\n",
       "|  76         |  0.72483859 |\n",
       "|  77         | -0.48918279 |\n",
       "|  78         | -0.07614756 |\n",
       "|  79         |  0.79937213 |\n",
       "|  80         |  0.30039512 |\n",
       "|  81         | -0.97299358 |\n",
       "|  82         | -0.60957096 |\n",
       "|  83         |  0.33293059 |\n",
       "|  84         | -0.29157075 |\n",
       "|  85         | -0.94208698 |\n",
       "|  86         |  0.79727571 |\n",
       "|  87         |  0.33338408 |\n",
       "|  88         | -0.96481749 |\n",
       "|  89         | -0.46687148 |\n",
       "|  90         |  0.51128755 |\n",
       "|  91         |  1.58850375 |\n",
       "|  92         |  0.38017838 |\n",
       "|  93         | -1.34119819 |\n",
       "|  94         |  0.55064811 |\n",
       "|  95         |  0.01070718 |\n",
       "|  96         | -1.08524215 |\n",
       "|  97         |  0.97531300 |\n",
       "|  98         | -0.09874366 |\n",
       "|  99         | -0.56498036 |\n",
       "| 100         | -0.93831647 |\n",
       "\n"
      ],
      "text/plain": [
       "      house_ID house_effect\n",
       " [1,]  1        0.18220118 \n",
       " [2,]  2       -0.25618690 \n",
       " [3,]  3       -0.24138278 \n",
       " [4,]  4       -1.78338928 \n",
       " [5,]  5       -0.13236002 \n",
       " [6,]  6        0.10865905 \n",
       " [7,]  7       -1.15990170 \n",
       " [8,]  8       -0.78248858 \n",
       " [9,]  9       -0.73468604 \n",
       "[10,] 10       -0.38262149 \n",
       "[11,] 11       -0.13452740 \n",
       "[12,] 12       -0.31495006 \n",
       "[13,] 13        1.42962370 \n",
       "[14,] 14        0.30523300 \n",
       "[15,] 15        0.61776292 \n",
       "[16,] 16       -1.21353377 \n",
       "[17,] 17       -0.06649991 \n",
       "[18,] 18       -0.27818825 \n",
       "[19,] 19       -0.92456553 \n",
       "[20,] 20        0.28209783 \n",
       "[21,] 21        0.28014253 \n",
       "[22,] 22        0.26875745 \n",
       "[23,] 23        0.14696928 \n",
       "[24,] 24       -0.12360766 \n",
       "[25,] 25        0.25294395 \n",
       "[26,] 26        0.46340571 \n",
       "[27,] 27       -1.42644634 \n",
       "[28,] 28        2.10539681 \n",
       "[29,] 29        0.14813727 \n",
       "[30,] 30       -1.00797960 \n",
       "[31,] ...      ...         \n",
       "[32,]  71       0.79300639 \n",
       "[33,]  72       0.36880566 \n",
       "[34,]  73      -0.51923564 \n",
       "[35,]  74       0.12334237 \n",
       "[36,]  75      -0.29645006 \n",
       "[37,]  76       0.72483859 \n",
       "[38,]  77      -0.48918279 \n",
       "[39,]  78      -0.07614756 \n",
       "[40,]  79       0.79937213 \n",
       "[41,]  80       0.30039512 \n",
       "[42,]  81      -0.97299358 \n",
       "[43,]  82      -0.60957096 \n",
       "[44,]  83       0.33293059 \n",
       "[45,]  84      -0.29157075 \n",
       "[46,]  85      -0.94208698 \n",
       "[47,]  86       0.79727571 \n",
       "[48,]  87       0.33338408 \n",
       "[49,]  88      -0.96481749 \n",
       "[50,]  89      -0.46687148 \n",
       "[51,]  90       0.51128755 \n",
       "[52,]  91       1.58850375 \n",
       "[53,]  92       0.38017838 \n",
       "[54,]  93      -1.34119819 \n",
       "[55,]  94       0.55064811 \n",
       "[56,]  95       0.01070718 \n",
       "[57,]  96      -1.08524215 \n",
       "[58,]  97       0.97531300 \n",
       "[59,]  98      -0.09874366 \n",
       "[60,]  99      -0.56498036 \n",
       "[61,] 100      -0.93831647 "
      ]
     },
     "metadata": {},
     "output_type": "display_data"
    }
   ],
   "source": [
    "# SAMPLE VARIATION AMONG HOUSES\n",
    "num_house<-100\n",
    "house_effect<-rnorm(num_house, mean=0, sd=sqrt(0.6))\n",
    "# ALSO house_ID\n",
    "house_ID<-1:num_house\n",
    "cbind(house_ID, house_effect)"
   ]
  },
  {
   "cell_type": "markdown",
   "id": "274ba8aa",
   "metadata": {},
   "source": [
    "Somes houses have positive effects, driving the expected counts up. As we make multiple (8) visits to the houses, it is better to replicate these number 8 times and arrange them into a matrix, such that each column corresponds to the 8 visits to the same house"
   ]
  },
  {
   "cell_type": "code",
   "execution_count": 3,
   "id": "94a82af7",
   "metadata": {},
   "outputs": [
    {
     "data": {
      "text/html": [
       "<table>\n",
       "<tbody>\n",
       "\t<tr><td>0.1822012  </td><td>-0.2561869 </td><td>-0.2413828 </td><td>-1.783389  </td><td>-0.13236   </td><td>0.108659   </td><td>-1.159902  </td><td>-0.7824886 </td><td>-0.734686  </td><td>-0.3826215 </td><td>...        </td><td>1.588504   </td><td>0.3801784  </td><td>-1.341198  </td><td>0.5506481  </td><td>0.01070718 </td><td>-1.085242  </td><td>0.975313   </td><td>-0.09874366</td><td>-0.5649804 </td><td>-0.9383165 </td></tr>\n",
       "\t<tr><td>0.1822012  </td><td>-0.2561869 </td><td>-0.2413828 </td><td>-1.783389  </td><td>-0.13236   </td><td>0.108659   </td><td>-1.159902  </td><td>-0.7824886 </td><td>-0.734686  </td><td>-0.3826215 </td><td>...        </td><td>1.588504   </td><td>0.3801784  </td><td>-1.341198  </td><td>0.5506481  </td><td>0.01070718 </td><td>-1.085242  </td><td>0.975313   </td><td>-0.09874366</td><td>-0.5649804 </td><td>-0.9383165 </td></tr>\n",
       "\t<tr><td>0.1822012  </td><td>-0.2561869 </td><td>-0.2413828 </td><td>-1.783389  </td><td>-0.13236   </td><td>0.108659   </td><td>-1.159902  </td><td>-0.7824886 </td><td>-0.734686  </td><td>-0.3826215 </td><td>...        </td><td>1.588504   </td><td>0.3801784  </td><td>-1.341198  </td><td>0.5506481  </td><td>0.01070718 </td><td>-1.085242  </td><td>0.975313   </td><td>-0.09874366</td><td>-0.5649804 </td><td>-0.9383165 </td></tr>\n",
       "\t<tr><td>0.1822012  </td><td>-0.2561869 </td><td>-0.2413828 </td><td>-1.783389  </td><td>-0.13236   </td><td>0.108659   </td><td>-1.159902  </td><td>-0.7824886 </td><td>-0.734686  </td><td>-0.3826215 </td><td>...        </td><td>1.588504   </td><td>0.3801784  </td><td>-1.341198  </td><td>0.5506481  </td><td>0.01070718 </td><td>-1.085242  </td><td>0.975313   </td><td>-0.09874366</td><td>-0.5649804 </td><td>-0.9383165 </td></tr>\n",
       "\t<tr><td>0.1822012  </td><td>-0.2561869 </td><td>-0.2413828 </td><td>-1.783389  </td><td>-0.13236   </td><td>0.108659   </td><td>-1.159902  </td><td>-0.7824886 </td><td>-0.734686  </td><td>-0.3826215 </td><td>...        </td><td>1.588504   </td><td>0.3801784  </td><td>-1.341198  </td><td>0.5506481  </td><td>0.01070718 </td><td>-1.085242  </td><td>0.975313   </td><td>-0.09874366</td><td>-0.5649804 </td><td>-0.9383165 </td></tr>\n",
       "\t<tr><td>0.1822012  </td><td>-0.2561869 </td><td>-0.2413828 </td><td>-1.783389  </td><td>-0.13236   </td><td>0.108659   </td><td>-1.159902  </td><td>-0.7824886 </td><td>-0.734686  </td><td>-0.3826215 </td><td>...        </td><td>1.588504   </td><td>0.3801784  </td><td>-1.341198  </td><td>0.5506481  </td><td>0.01070718 </td><td>-1.085242  </td><td>0.975313   </td><td>-0.09874366</td><td>-0.5649804 </td><td>-0.9383165 </td></tr>\n",
       "\t<tr><td>0.1822012  </td><td>-0.2561869 </td><td>-0.2413828 </td><td>-1.783389  </td><td>-0.13236   </td><td>0.108659   </td><td>-1.159902  </td><td>-0.7824886 </td><td>-0.734686  </td><td>-0.3826215 </td><td>...        </td><td>1.588504   </td><td>0.3801784  </td><td>-1.341198  </td><td>0.5506481  </td><td>0.01070718 </td><td>-1.085242  </td><td>0.975313   </td><td>-0.09874366</td><td>-0.5649804 </td><td>-0.9383165 </td></tr>\n",
       "\t<tr><td>0.1822012  </td><td>-0.2561869 </td><td>-0.2413828 </td><td>-1.783389  </td><td>-0.13236   </td><td>0.108659   </td><td>-1.159902  </td><td>-0.7824886 </td><td>-0.734686  </td><td>-0.3826215 </td><td>...        </td><td>1.588504   </td><td>0.3801784  </td><td>-1.341198  </td><td>0.5506481  </td><td>0.01070718 </td><td>-1.085242  </td><td>0.975313   </td><td>-0.09874366</td><td>-0.5649804 </td><td>-0.9383165 </td></tr>\n",
       "</tbody>\n",
       "</table>\n"
      ],
      "text/latex": [
       "\\begin{tabular}{llllllllllllllllllllllllllllllllllllllllllllllllllllllllllllllllllllllllllllllllllllllllllllllllllll}\n",
       "\t 0.1822012   & -0.2561869  & -0.2413828  & -1.783389   & -0.13236    & 0.108659    & -1.159902   & -0.7824886  & -0.734686   & -0.3826215  & ...         & 1.588504    & 0.3801784   & -1.341198   & 0.5506481   & 0.01070718  & -1.085242   & 0.975313    & -0.09874366 & -0.5649804  & -0.9383165 \\\\\n",
       "\t 0.1822012   & -0.2561869  & -0.2413828  & -1.783389   & -0.13236    & 0.108659    & -1.159902   & -0.7824886  & -0.734686   & -0.3826215  & ...         & 1.588504    & 0.3801784   & -1.341198   & 0.5506481   & 0.01070718  & -1.085242   & 0.975313    & -0.09874366 & -0.5649804  & -0.9383165 \\\\\n",
       "\t 0.1822012   & -0.2561869  & -0.2413828  & -1.783389   & -0.13236    & 0.108659    & -1.159902   & -0.7824886  & -0.734686   & -0.3826215  & ...         & 1.588504    & 0.3801784   & -1.341198   & 0.5506481   & 0.01070718  & -1.085242   & 0.975313    & -0.09874366 & -0.5649804  & -0.9383165 \\\\\n",
       "\t 0.1822012   & -0.2561869  & -0.2413828  & -1.783389   & -0.13236    & 0.108659    & -1.159902   & -0.7824886  & -0.734686   & -0.3826215  & ...         & 1.588504    & 0.3801784   & -1.341198   & 0.5506481   & 0.01070718  & -1.085242   & 0.975313    & -0.09874366 & -0.5649804  & -0.9383165 \\\\\n",
       "\t 0.1822012   & -0.2561869  & -0.2413828  & -1.783389   & -0.13236    & 0.108659    & -1.159902   & -0.7824886  & -0.734686   & -0.3826215  & ...         & 1.588504    & 0.3801784   & -1.341198   & 0.5506481   & 0.01070718  & -1.085242   & 0.975313    & -0.09874366 & -0.5649804  & -0.9383165 \\\\\n",
       "\t 0.1822012   & -0.2561869  & -0.2413828  & -1.783389   & -0.13236    & 0.108659    & -1.159902   & -0.7824886  & -0.734686   & -0.3826215  & ...         & 1.588504    & 0.3801784   & -1.341198   & 0.5506481   & 0.01070718  & -1.085242   & 0.975313    & -0.09874366 & -0.5649804  & -0.9383165 \\\\\n",
       "\t 0.1822012   & -0.2561869  & -0.2413828  & -1.783389   & -0.13236    & 0.108659    & -1.159902   & -0.7824886  & -0.734686   & -0.3826215  & ...         & 1.588504    & 0.3801784   & -1.341198   & 0.5506481   & 0.01070718  & -1.085242   & 0.975313    & -0.09874366 & -0.5649804  & -0.9383165 \\\\\n",
       "\t 0.1822012   & -0.2561869  & -0.2413828  & -1.783389   & -0.13236    & 0.108659    & -1.159902   & -0.7824886  & -0.734686   & -0.3826215  & ...         & 1.588504    & 0.3801784   & -1.341198   & 0.5506481   & 0.01070718  & -1.085242   & 0.975313    & -0.09874366 & -0.5649804  & -0.9383165 \\\\\n",
       "\\end{tabular}\n"
      ],
      "text/markdown": [
       "\n",
       "| 0.1822012   | -0.2561869  | -0.2413828  | -1.783389   | -0.13236    | 0.108659    | -1.159902   | -0.7824886  | -0.734686   | -0.3826215  | ...         | 1.588504    | 0.3801784   | -1.341198   | 0.5506481   | 0.01070718  | -1.085242   | 0.975313    | -0.09874366 | -0.5649804  | -0.9383165  |\n",
       "| 0.1822012   | -0.2561869  | -0.2413828  | -1.783389   | -0.13236    | 0.108659    | -1.159902   | -0.7824886  | -0.734686   | -0.3826215  | ...         | 1.588504    | 0.3801784   | -1.341198   | 0.5506481   | 0.01070718  | -1.085242   | 0.975313    | -0.09874366 | -0.5649804  | -0.9383165  |\n",
       "| 0.1822012   | -0.2561869  | -0.2413828  | -1.783389   | -0.13236    | 0.108659    | -1.159902   | -0.7824886  | -0.734686   | -0.3826215  | ...         | 1.588504    | 0.3801784   | -1.341198   | 0.5506481   | 0.01070718  | -1.085242   | 0.975313    | -0.09874366 | -0.5649804  | -0.9383165  |\n",
       "| 0.1822012   | -0.2561869  | -0.2413828  | -1.783389   | -0.13236    | 0.108659    | -1.159902   | -0.7824886  | -0.734686   | -0.3826215  | ...         | 1.588504    | 0.3801784   | -1.341198   | 0.5506481   | 0.01070718  | -1.085242   | 0.975313    | -0.09874366 | -0.5649804  | -0.9383165  |\n",
       "| 0.1822012   | -0.2561869  | -0.2413828  | -1.783389   | -0.13236    | 0.108659    | -1.159902   | -0.7824886  | -0.734686   | -0.3826215  | ...         | 1.588504    | 0.3801784   | -1.341198   | 0.5506481   | 0.01070718  | -1.085242   | 0.975313    | -0.09874366 | -0.5649804  | -0.9383165  |\n",
       "| 0.1822012   | -0.2561869  | -0.2413828  | -1.783389   | -0.13236    | 0.108659    | -1.159902   | -0.7824886  | -0.734686   | -0.3826215  | ...         | 1.588504    | 0.3801784   | -1.341198   | 0.5506481   | 0.01070718  | -1.085242   | 0.975313    | -0.09874366 | -0.5649804  | -0.9383165  |\n",
       "| 0.1822012   | -0.2561869  | -0.2413828  | -1.783389   | -0.13236    | 0.108659    | -1.159902   | -0.7824886  | -0.734686   | -0.3826215  | ...         | 1.588504    | 0.3801784   | -1.341198   | 0.5506481   | 0.01070718  | -1.085242   | 0.975313    | -0.09874366 | -0.5649804  | -0.9383165  |\n",
       "| 0.1822012   | -0.2561869  | -0.2413828  | -1.783389   | -0.13236    | 0.108659    | -1.159902   | -0.7824886  | -0.734686   | -0.3826215  | ...         | 1.588504    | 0.3801784   | -1.341198   | 0.5506481   | 0.01070718  | -1.085242   | 0.975313    | -0.09874366 | -0.5649804  | -0.9383165  |\n",
       "\n"
      ],
      "text/plain": [
       "     [,1]      [,2]       [,3]       [,4]      [,5]     [,6]     [,7]     \n",
       "[1,] 0.1822012 -0.2561869 -0.2413828 -1.783389 -0.13236 0.108659 -1.159902\n",
       "[2,] 0.1822012 -0.2561869 -0.2413828 -1.783389 -0.13236 0.108659 -1.159902\n",
       "[3,] 0.1822012 -0.2561869 -0.2413828 -1.783389 -0.13236 0.108659 -1.159902\n",
       "[4,] 0.1822012 -0.2561869 -0.2413828 -1.783389 -0.13236 0.108659 -1.159902\n",
       "[5,] 0.1822012 -0.2561869 -0.2413828 -1.783389 -0.13236 0.108659 -1.159902\n",
       "[6,] 0.1822012 -0.2561869 -0.2413828 -1.783389 -0.13236 0.108659 -1.159902\n",
       "[7,] 0.1822012 -0.2561869 -0.2413828 -1.783389 -0.13236 0.108659 -1.159902\n",
       "[8,] 0.1822012 -0.2561869 -0.2413828 -1.783389 -0.13236 0.108659 -1.159902\n",
       "     [,8]       [,9]      [,10]      [,11] [,12]    [,13]     [,14]    \n",
       "[1,] -0.7824886 -0.734686 -0.3826215 ...   1.588504 0.3801784 -1.341198\n",
       "[2,] -0.7824886 -0.734686 -0.3826215 ...   1.588504 0.3801784 -1.341198\n",
       "[3,] -0.7824886 -0.734686 -0.3826215 ...   1.588504 0.3801784 -1.341198\n",
       "[4,] -0.7824886 -0.734686 -0.3826215 ...   1.588504 0.3801784 -1.341198\n",
       "[5,] -0.7824886 -0.734686 -0.3826215 ...   1.588504 0.3801784 -1.341198\n",
       "[6,] -0.7824886 -0.734686 -0.3826215 ...   1.588504 0.3801784 -1.341198\n",
       "[7,] -0.7824886 -0.734686 -0.3826215 ...   1.588504 0.3801784 -1.341198\n",
       "[8,] -0.7824886 -0.734686 -0.3826215 ...   1.588504 0.3801784 -1.341198\n",
       "     [,15]     [,16]      [,17]     [,18]    [,19]       [,20]      [,21]     \n",
       "[1,] 0.5506481 0.01070718 -1.085242 0.975313 -0.09874366 -0.5649804 -0.9383165\n",
       "[2,] 0.5506481 0.01070718 -1.085242 0.975313 -0.09874366 -0.5649804 -0.9383165\n",
       "[3,] 0.5506481 0.01070718 -1.085242 0.975313 -0.09874366 -0.5649804 -0.9383165\n",
       "[4,] 0.5506481 0.01070718 -1.085242 0.975313 -0.09874366 -0.5649804 -0.9383165\n",
       "[5,] 0.5506481 0.01070718 -1.085242 0.975313 -0.09874366 -0.5649804 -0.9383165\n",
       "[6,] 0.5506481 0.01070718 -1.085242 0.975313 -0.09874366 -0.5649804 -0.9383165\n",
       "[7,] 0.5506481 0.01070718 -1.085242 0.975313 -0.09874366 -0.5649804 -0.9383165\n",
       "[8,] 0.5506481 0.01070718 -1.085242 0.975313 -0.09874366 -0.5649804 -0.9383165"
      ]
     },
     "metadata": {},
     "output_type": "display_data"
    },
    {
     "data": {
      "text/html": [
       "<table>\n",
       "<tbody>\n",
       "\t<tr><td>1  </td><td>2  </td><td>3  </td><td>4  </td><td>5  </td><td>6  </td><td>7  </td><td>8  </td><td>9  </td><td>10 </td><td>...</td><td>91 </td><td>92 </td><td>93 </td><td>94 </td><td>95 </td><td>96 </td><td>97 </td><td>98 </td><td>99 </td><td>100</td></tr>\n",
       "\t<tr><td>1  </td><td>2  </td><td>3  </td><td>4  </td><td>5  </td><td>6  </td><td>7  </td><td>8  </td><td>9  </td><td>10 </td><td>...</td><td>91 </td><td>92 </td><td>93 </td><td>94 </td><td>95 </td><td>96 </td><td>97 </td><td>98 </td><td>99 </td><td>100</td></tr>\n",
       "\t<tr><td>1  </td><td>2  </td><td>3  </td><td>4  </td><td>5  </td><td>6  </td><td>7  </td><td>8  </td><td>9  </td><td>10 </td><td>...</td><td>91 </td><td>92 </td><td>93 </td><td>94 </td><td>95 </td><td>96 </td><td>97 </td><td>98 </td><td>99 </td><td>100</td></tr>\n",
       "\t<tr><td>1  </td><td>2  </td><td>3  </td><td>4  </td><td>5  </td><td>6  </td><td>7  </td><td>8  </td><td>9  </td><td>10 </td><td>...</td><td>91 </td><td>92 </td><td>93 </td><td>94 </td><td>95 </td><td>96 </td><td>97 </td><td>98 </td><td>99 </td><td>100</td></tr>\n",
       "\t<tr><td>1  </td><td>2  </td><td>3  </td><td>4  </td><td>5  </td><td>6  </td><td>7  </td><td>8  </td><td>9  </td><td>10 </td><td>...</td><td>91 </td><td>92 </td><td>93 </td><td>94 </td><td>95 </td><td>96 </td><td>97 </td><td>98 </td><td>99 </td><td>100</td></tr>\n",
       "\t<tr><td>1  </td><td>2  </td><td>3  </td><td>4  </td><td>5  </td><td>6  </td><td>7  </td><td>8  </td><td>9  </td><td>10 </td><td>...</td><td>91 </td><td>92 </td><td>93 </td><td>94 </td><td>95 </td><td>96 </td><td>97 </td><td>98 </td><td>99 </td><td>100</td></tr>\n",
       "\t<tr><td>1  </td><td>2  </td><td>3  </td><td>4  </td><td>5  </td><td>6  </td><td>7  </td><td>8  </td><td>9  </td><td>10 </td><td>...</td><td>91 </td><td>92 </td><td>93 </td><td>94 </td><td>95 </td><td>96 </td><td>97 </td><td>98 </td><td>99 </td><td>100</td></tr>\n",
       "\t<tr><td>1  </td><td>2  </td><td>3  </td><td>4  </td><td>5  </td><td>6  </td><td>7  </td><td>8  </td><td>9  </td><td>10 </td><td>...</td><td>91 </td><td>92 </td><td>93 </td><td>94 </td><td>95 </td><td>96 </td><td>97 </td><td>98 </td><td>99 </td><td>100</td></tr>\n",
       "</tbody>\n",
       "</table>\n"
      ],
      "text/latex": [
       "\\begin{tabular}{llllllllllllllllllllllllllllllllllllllllllllllllllllllllllllllllllllllllllllllllllllllllllllllllllll}\n",
       "\t 1   & 2   & 3   & 4   & 5   & 6   & 7   & 8   & 9   & 10  & ... & 91  & 92  & 93  & 94  & 95  & 96  & 97  & 98  & 99  & 100\\\\\n",
       "\t 1   & 2   & 3   & 4   & 5   & 6   & 7   & 8   & 9   & 10  & ... & 91  & 92  & 93  & 94  & 95  & 96  & 97  & 98  & 99  & 100\\\\\n",
       "\t 1   & 2   & 3   & 4   & 5   & 6   & 7   & 8   & 9   & 10  & ... & 91  & 92  & 93  & 94  & 95  & 96  & 97  & 98  & 99  & 100\\\\\n",
       "\t 1   & 2   & 3   & 4   & 5   & 6   & 7   & 8   & 9   & 10  & ... & 91  & 92  & 93  & 94  & 95  & 96  & 97  & 98  & 99  & 100\\\\\n",
       "\t 1   & 2   & 3   & 4   & 5   & 6   & 7   & 8   & 9   & 10  & ... & 91  & 92  & 93  & 94  & 95  & 96  & 97  & 98  & 99  & 100\\\\\n",
       "\t 1   & 2   & 3   & 4   & 5   & 6   & 7   & 8   & 9   & 10  & ... & 91  & 92  & 93  & 94  & 95  & 96  & 97  & 98  & 99  & 100\\\\\n",
       "\t 1   & 2   & 3   & 4   & 5   & 6   & 7   & 8   & 9   & 10  & ... & 91  & 92  & 93  & 94  & 95  & 96  & 97  & 98  & 99  & 100\\\\\n",
       "\t 1   & 2   & 3   & 4   & 5   & 6   & 7   & 8   & 9   & 10  & ... & 91  & 92  & 93  & 94  & 95  & 96  & 97  & 98  & 99  & 100\\\\\n",
       "\\end{tabular}\n"
      ],
      "text/markdown": [
       "\n",
       "| 1   | 2   | 3   | 4   | 5   | 6   | 7   | 8   | 9   | 10  | ... | 91  | 92  | 93  | 94  | 95  | 96  | 97  | 98  | 99  | 100 |\n",
       "| 1   | 2   | 3   | 4   | 5   | 6   | 7   | 8   | 9   | 10  | ... | 91  | 92  | 93  | 94  | 95  | 96  | 97  | 98  | 99  | 100 |\n",
       "| 1   | 2   | 3   | 4   | 5   | 6   | 7   | 8   | 9   | 10  | ... | 91  | 92  | 93  | 94  | 95  | 96  | 97  | 98  | 99  | 100 |\n",
       "| 1   | 2   | 3   | 4   | 5   | 6   | 7   | 8   | 9   | 10  | ... | 91  | 92  | 93  | 94  | 95  | 96  | 97  | 98  | 99  | 100 |\n",
       "| 1   | 2   | 3   | 4   | 5   | 6   | 7   | 8   | 9   | 10  | ... | 91  | 92  | 93  | 94  | 95  | 96  | 97  | 98  | 99  | 100 |\n",
       "| 1   | 2   | 3   | 4   | 5   | 6   | 7   | 8   | 9   | 10  | ... | 91  | 92  | 93  | 94  | 95  | 96  | 97  | 98  | 99  | 100 |\n",
       "| 1   | 2   | 3   | 4   | 5   | 6   | 7   | 8   | 9   | 10  | ... | 91  | 92  | 93  | 94  | 95  | 96  | 97  | 98  | 99  | 100 |\n",
       "| 1   | 2   | 3   | 4   | 5   | 6   | 7   | 8   | 9   | 10  | ... | 91  | 92  | 93  | 94  | 95  | 96  | 97  | 98  | 99  | 100 |\n",
       "\n"
      ],
      "text/plain": [
       "     [,1] [,2] [,3] [,4] [,5] [,6] [,7] [,8] [,9] [,10] [,11] [,12] [,13] [,14]\n",
       "[1,] 1    2    3    4    5    6    7    8    9    10    ...   91    92    93   \n",
       "[2,] 1    2    3    4    5    6    7    8    9    10    ...   91    92    93   \n",
       "[3,] 1    2    3    4    5    6    7    8    9    10    ...   91    92    93   \n",
       "[4,] 1    2    3    4    5    6    7    8    9    10    ...   91    92    93   \n",
       "[5,] 1    2    3    4    5    6    7    8    9    10    ...   91    92    93   \n",
       "[6,] 1    2    3    4    5    6    7    8    9    10    ...   91    92    93   \n",
       "[7,] 1    2    3    4    5    6    7    8    9    10    ...   91    92    93   \n",
       "[8,] 1    2    3    4    5    6    7    8    9    10    ...   91    92    93   \n",
       "     [,15] [,16] [,17] [,18] [,19] [,20] [,21]\n",
       "[1,] 94    95    96    97    98    99    100  \n",
       "[2,] 94    95    96    97    98    99    100  \n",
       "[3,] 94    95    96    97    98    99    100  \n",
       "[4,] 94    95    96    97    98    99    100  \n",
       "[5,] 94    95    96    97    98    99    100  \n",
       "[6,] 94    95    96    97    98    99    100  \n",
       "[7,] 94    95    96    97    98    99    100  \n",
       "[8,] 94    95    96    97    98    99    100  "
      ]
     },
     "metadata": {},
     "output_type": "display_data"
    }
   ],
   "source": [
    "# EACH COLUMN IS A HOUSE\n",
    "house_effect<-matrix(house_effect, nc=num_house, nr=8, byrow=T)\n",
    "house_ID<-matrix(house_ID, nc=num_house, nr=8, byrow=T)\n",
    "house_effect\n",
    "house_ID"
   ]
  },
  {
   "cell_type": "markdown",
   "id": "b8e41176",
   "metadata": {},
   "source": [
    "### Random effect 2: overdispersion\n",
    "Overdispersion can be introduced as observation level random effects. Variance is 1. "
   ]
  },
  {
   "cell_type": "code",
   "execution_count": 4,
   "id": "c8c3730c",
   "metadata": {},
   "outputs": [],
   "source": [
    "overdispersion_effect<-rnorm(num_house*8, mean=0, sd=1)"
   ]
  },
  {
   "cell_type": "markdown",
   "id": "0253cd2a",
   "metadata": {},
   "source": [
    "Let us also define the other fixed effects. \n",
    "\n",
    "#### Fixed effect 1: monthly variation\n",
    "For further simply the problem we assume our samples are done in two months: Jan and July, representing the two seasons. For Jan, the effect is 0.5. For July, the effect is 4. The difference is 3.5"
   ]
  },
  {
   "cell_type": "code",
   "execution_count": 5,
   "id": "1002f1c8",
   "metadata": {},
   "outputs": [
    {
     "data": {
      "text/html": [
       "<table>\n",
       "<tbody>\n",
       "\t<tr><td>Jan </td><td>Jan </td><td>Jan </td><td>Jan </td><td>Jan </td><td>Jan </td><td>Jan </td><td>Jan </td><td>Jan </td><td>Jan </td><td>... </td><td>Jan </td><td>Jan </td><td>Jan </td><td>Jan </td><td>Jan </td><td>Jan </td><td>Jan </td><td>Jan </td><td>Jan </td><td>Jan </td></tr>\n",
       "\t<tr><td>Jan </td><td>Jan </td><td>Jan </td><td>Jan </td><td>Jan </td><td>Jan </td><td>Jan </td><td>Jan </td><td>Jan </td><td>Jan </td><td>... </td><td>Jan </td><td>Jan </td><td>Jan </td><td>Jan </td><td>Jan </td><td>Jan </td><td>Jan </td><td>Jan </td><td>Jan </td><td>Jan </td></tr>\n",
       "\t<tr><td>Jan </td><td>Jan </td><td>Jan </td><td>Jan </td><td>Jan </td><td>Jan </td><td>Jan </td><td>Jan </td><td>Jan </td><td>Jan </td><td>... </td><td>Jan </td><td>Jan </td><td>Jan </td><td>Jan </td><td>Jan </td><td>Jan </td><td>Jan </td><td>Jan </td><td>Jan </td><td>Jan </td></tr>\n",
       "\t<tr><td>Jan </td><td>Jan </td><td>Jan </td><td>Jan </td><td>Jan </td><td>Jan </td><td>Jan </td><td>Jan </td><td>Jan </td><td>Jan </td><td>... </td><td>Jan </td><td>Jan </td><td>Jan </td><td>Jan </td><td>Jan </td><td>Jan </td><td>Jan </td><td>Jan </td><td>Jan </td><td>Jan </td></tr>\n",
       "\t<tr><td>July</td><td>July</td><td>July</td><td>July</td><td>July</td><td>July</td><td>July</td><td>July</td><td>July</td><td>July</td><td>... </td><td>July</td><td>July</td><td>July</td><td>July</td><td>July</td><td>July</td><td>July</td><td>July</td><td>July</td><td>July</td></tr>\n",
       "\t<tr><td>July</td><td>July</td><td>July</td><td>July</td><td>July</td><td>July</td><td>July</td><td>July</td><td>July</td><td>July</td><td>... </td><td>July</td><td>July</td><td>July</td><td>July</td><td>July</td><td>July</td><td>July</td><td>July</td><td>July</td><td>July</td></tr>\n",
       "\t<tr><td>July</td><td>July</td><td>July</td><td>July</td><td>July</td><td>July</td><td>July</td><td>July</td><td>July</td><td>July</td><td>... </td><td>July</td><td>July</td><td>July</td><td>July</td><td>July</td><td>July</td><td>July</td><td>July</td><td>July</td><td>July</td></tr>\n",
       "\t<tr><td>July</td><td>July</td><td>July</td><td>July</td><td>July</td><td>July</td><td>July</td><td>July</td><td>July</td><td>July</td><td>... </td><td>July</td><td>July</td><td>July</td><td>July</td><td>July</td><td>July</td><td>July</td><td>July</td><td>July</td><td>July</td></tr>\n",
       "</tbody>\n",
       "</table>\n"
      ],
      "text/latex": [
       "\\begin{tabular}{llllllllllllllllllllllllllllllllllllllllllllllllllllllllllllllllllllllllllllllllllllllllllllllllllll}\n",
       "\t Jan  & Jan  & Jan  & Jan  & Jan  & Jan  & Jan  & Jan  & Jan  & Jan  & ...  & Jan  & Jan  & Jan  & Jan  & Jan  & Jan  & Jan  & Jan  & Jan  & Jan \\\\\n",
       "\t Jan  & Jan  & Jan  & Jan  & Jan  & Jan  & Jan  & Jan  & Jan  & Jan  & ...  & Jan  & Jan  & Jan  & Jan  & Jan  & Jan  & Jan  & Jan  & Jan  & Jan \\\\\n",
       "\t Jan  & Jan  & Jan  & Jan  & Jan  & Jan  & Jan  & Jan  & Jan  & Jan  & ...  & Jan  & Jan  & Jan  & Jan  & Jan  & Jan  & Jan  & Jan  & Jan  & Jan \\\\\n",
       "\t Jan  & Jan  & Jan  & Jan  & Jan  & Jan  & Jan  & Jan  & Jan  & Jan  & ...  & Jan  & Jan  & Jan  & Jan  & Jan  & Jan  & Jan  & Jan  & Jan  & Jan \\\\\n",
       "\t July & July & July & July & July & July & July & July & July & July & ...  & July & July & July & July & July & July & July & July & July & July\\\\\n",
       "\t July & July & July & July & July & July & July & July & July & July & ...  & July & July & July & July & July & July & July & July & July & July\\\\\n",
       "\t July & July & July & July & July & July & July & July & July & July & ...  & July & July & July & July & July & July & July & July & July & July\\\\\n",
       "\t July & July & July & July & July & July & July & July & July & July & ...  & July & July & July & July & July & July & July & July & July & July\\\\\n",
       "\\end{tabular}\n"
      ],
      "text/markdown": [
       "\n",
       "| Jan  | Jan  | Jan  | Jan  | Jan  | Jan  | Jan  | Jan  | Jan  | Jan  | ...  | Jan  | Jan  | Jan  | Jan  | Jan  | Jan  | Jan  | Jan  | Jan  | Jan  |\n",
       "| Jan  | Jan  | Jan  | Jan  | Jan  | Jan  | Jan  | Jan  | Jan  | Jan  | ...  | Jan  | Jan  | Jan  | Jan  | Jan  | Jan  | Jan  | Jan  | Jan  | Jan  |\n",
       "| Jan  | Jan  | Jan  | Jan  | Jan  | Jan  | Jan  | Jan  | Jan  | Jan  | ...  | Jan  | Jan  | Jan  | Jan  | Jan  | Jan  | Jan  | Jan  | Jan  | Jan  |\n",
       "| Jan  | Jan  | Jan  | Jan  | Jan  | Jan  | Jan  | Jan  | Jan  | Jan  | ...  | Jan  | Jan  | Jan  | Jan  | Jan  | Jan  | Jan  | Jan  | Jan  | Jan  |\n",
       "| July | July | July | July | July | July | July | July | July | July | ...  | July | July | July | July | July | July | July | July | July | July |\n",
       "| July | July | July | July | July | July | July | July | July | July | ...  | July | July | July | July | July | July | July | July | July | July |\n",
       "| July | July | July | July | July | July | July | July | July | July | ...  | July | July | July | July | July | July | July | July | July | July |\n",
       "| July | July | July | July | July | July | July | July | July | July | ...  | July | July | July | July | July | July | July | July | July | July |\n",
       "\n"
      ],
      "text/plain": [
       "     [,1] [,2] [,3] [,4] [,5] [,6] [,7] [,8] [,9] [,10] [,11] [,12] [,13] [,14]\n",
       "[1,] Jan  Jan  Jan  Jan  Jan  Jan  Jan  Jan  Jan  Jan   ...   Jan   Jan   Jan  \n",
       "[2,] Jan  Jan  Jan  Jan  Jan  Jan  Jan  Jan  Jan  Jan   ...   Jan   Jan   Jan  \n",
       "[3,] Jan  Jan  Jan  Jan  Jan  Jan  Jan  Jan  Jan  Jan   ...   Jan   Jan   Jan  \n",
       "[4,] Jan  Jan  Jan  Jan  Jan  Jan  Jan  Jan  Jan  Jan   ...   Jan   Jan   Jan  \n",
       "[5,] July July July July July July July July July July  ...   July  July  July \n",
       "[6,] July July July July July July July July July July  ...   July  July  July \n",
       "[7,] July July July July July July July July July July  ...   July  July  July \n",
       "[8,] July July July July July July July July July July  ...   July  July  July \n",
       "     [,15] [,16] [,17] [,18] [,19] [,20] [,21]\n",
       "[1,] Jan   Jan   Jan   Jan   Jan   Jan   Jan  \n",
       "[2,] Jan   Jan   Jan   Jan   Jan   Jan   Jan  \n",
       "[3,] Jan   Jan   Jan   Jan   Jan   Jan   Jan  \n",
       "[4,] Jan   Jan   Jan   Jan   Jan   Jan   Jan  \n",
       "[5,] July  July  July  July  July  July  July \n",
       "[6,] July  July  July  July  July  July  July \n",
       "[7,] July  July  July  July  July  July  July \n",
       "[8,] July  July  July  July  July  July  July "
      ]
     },
     "metadata": {},
     "output_type": "display_data"
    },
    {
     "data": {
      "text/html": [
       "<table>\n",
       "<tbody>\n",
       "\t<tr><td>0.5</td><td>0.5</td><td>0.5</td><td>0.5</td><td>0.5</td><td>0.5</td><td>0.5</td><td>0.5</td><td>0.5</td><td>0.5</td><td>...</td><td>0.5</td><td>0.5</td><td>0.5</td><td>0.5</td><td>0.5</td><td>0.5</td><td>0.5</td><td>0.5</td><td>0.5</td><td>0.5</td></tr>\n",
       "\t<tr><td>0.5</td><td>0.5</td><td>0.5</td><td>0.5</td><td>0.5</td><td>0.5</td><td>0.5</td><td>0.5</td><td>0.5</td><td>0.5</td><td>...</td><td>0.5</td><td>0.5</td><td>0.5</td><td>0.5</td><td>0.5</td><td>0.5</td><td>0.5</td><td>0.5</td><td>0.5</td><td>0.5</td></tr>\n",
       "\t<tr><td>0.5</td><td>0.5</td><td>0.5</td><td>0.5</td><td>0.5</td><td>0.5</td><td>0.5</td><td>0.5</td><td>0.5</td><td>0.5</td><td>...</td><td>0.5</td><td>0.5</td><td>0.5</td><td>0.5</td><td>0.5</td><td>0.5</td><td>0.5</td><td>0.5</td><td>0.5</td><td>0.5</td></tr>\n",
       "\t<tr><td>0.5</td><td>0.5</td><td>0.5</td><td>0.5</td><td>0.5</td><td>0.5</td><td>0.5</td><td>0.5</td><td>0.5</td><td>0.5</td><td>...</td><td>0.5</td><td>0.5</td><td>0.5</td><td>0.5</td><td>0.5</td><td>0.5</td><td>0.5</td><td>0.5</td><td>0.5</td><td>0.5</td></tr>\n",
       "\t<tr><td>4.0</td><td>4.0</td><td>4.0</td><td>4.0</td><td>4.0</td><td>4.0</td><td>4.0</td><td>4.0</td><td>4.0</td><td>4.0</td><td>...</td><td>4.0</td><td>4.0</td><td>4.0</td><td>4.0</td><td>4.0</td><td>4.0</td><td>4.0</td><td>4.0</td><td>4.0</td><td>4.0</td></tr>\n",
       "\t<tr><td>4.0</td><td>4.0</td><td>4.0</td><td>4.0</td><td>4.0</td><td>4.0</td><td>4.0</td><td>4.0</td><td>4.0</td><td>4.0</td><td>...</td><td>4.0</td><td>4.0</td><td>4.0</td><td>4.0</td><td>4.0</td><td>4.0</td><td>4.0</td><td>4.0</td><td>4.0</td><td>4.0</td></tr>\n",
       "\t<tr><td>4.0</td><td>4.0</td><td>4.0</td><td>4.0</td><td>4.0</td><td>4.0</td><td>4.0</td><td>4.0</td><td>4.0</td><td>4.0</td><td>...</td><td>4.0</td><td>4.0</td><td>4.0</td><td>4.0</td><td>4.0</td><td>4.0</td><td>4.0</td><td>4.0</td><td>4.0</td><td>4.0</td></tr>\n",
       "\t<tr><td>4.0</td><td>4.0</td><td>4.0</td><td>4.0</td><td>4.0</td><td>4.0</td><td>4.0</td><td>4.0</td><td>4.0</td><td>4.0</td><td>...</td><td>4.0</td><td>4.0</td><td>4.0</td><td>4.0</td><td>4.0</td><td>4.0</td><td>4.0</td><td>4.0</td><td>4.0</td><td>4.0</td></tr>\n",
       "</tbody>\n",
       "</table>\n"
      ],
      "text/latex": [
       "\\begin{tabular}{llllllllllllllllllllllllllllllllllllllllllllllllllllllllllllllllllllllllllllllllllllllllllllllllllll}\n",
       "\t 0.5 & 0.5 & 0.5 & 0.5 & 0.5 & 0.5 & 0.5 & 0.5 & 0.5 & 0.5 & ... & 0.5 & 0.5 & 0.5 & 0.5 & 0.5 & 0.5 & 0.5 & 0.5 & 0.5 & 0.5\\\\\n",
       "\t 0.5 & 0.5 & 0.5 & 0.5 & 0.5 & 0.5 & 0.5 & 0.5 & 0.5 & 0.5 & ... & 0.5 & 0.5 & 0.5 & 0.5 & 0.5 & 0.5 & 0.5 & 0.5 & 0.5 & 0.5\\\\\n",
       "\t 0.5 & 0.5 & 0.5 & 0.5 & 0.5 & 0.5 & 0.5 & 0.5 & 0.5 & 0.5 & ... & 0.5 & 0.5 & 0.5 & 0.5 & 0.5 & 0.5 & 0.5 & 0.5 & 0.5 & 0.5\\\\\n",
       "\t 0.5 & 0.5 & 0.5 & 0.5 & 0.5 & 0.5 & 0.5 & 0.5 & 0.5 & 0.5 & ... & 0.5 & 0.5 & 0.5 & 0.5 & 0.5 & 0.5 & 0.5 & 0.5 & 0.5 & 0.5\\\\\n",
       "\t 4.0 & 4.0 & 4.0 & 4.0 & 4.0 & 4.0 & 4.0 & 4.0 & 4.0 & 4.0 & ... & 4.0 & 4.0 & 4.0 & 4.0 & 4.0 & 4.0 & 4.0 & 4.0 & 4.0 & 4.0\\\\\n",
       "\t 4.0 & 4.0 & 4.0 & 4.0 & 4.0 & 4.0 & 4.0 & 4.0 & 4.0 & 4.0 & ... & 4.0 & 4.0 & 4.0 & 4.0 & 4.0 & 4.0 & 4.0 & 4.0 & 4.0 & 4.0\\\\\n",
       "\t 4.0 & 4.0 & 4.0 & 4.0 & 4.0 & 4.0 & 4.0 & 4.0 & 4.0 & 4.0 & ... & 4.0 & 4.0 & 4.0 & 4.0 & 4.0 & 4.0 & 4.0 & 4.0 & 4.0 & 4.0\\\\\n",
       "\t 4.0 & 4.0 & 4.0 & 4.0 & 4.0 & 4.0 & 4.0 & 4.0 & 4.0 & 4.0 & ... & 4.0 & 4.0 & 4.0 & 4.0 & 4.0 & 4.0 & 4.0 & 4.0 & 4.0 & 4.0\\\\\n",
       "\\end{tabular}\n"
      ],
      "text/markdown": [
       "\n",
       "| 0.5 | 0.5 | 0.5 | 0.5 | 0.5 | 0.5 | 0.5 | 0.5 | 0.5 | 0.5 | ... | 0.5 | 0.5 | 0.5 | 0.5 | 0.5 | 0.5 | 0.5 | 0.5 | 0.5 | 0.5 |\n",
       "| 0.5 | 0.5 | 0.5 | 0.5 | 0.5 | 0.5 | 0.5 | 0.5 | 0.5 | 0.5 | ... | 0.5 | 0.5 | 0.5 | 0.5 | 0.5 | 0.5 | 0.5 | 0.5 | 0.5 | 0.5 |\n",
       "| 0.5 | 0.5 | 0.5 | 0.5 | 0.5 | 0.5 | 0.5 | 0.5 | 0.5 | 0.5 | ... | 0.5 | 0.5 | 0.5 | 0.5 | 0.5 | 0.5 | 0.5 | 0.5 | 0.5 | 0.5 |\n",
       "| 0.5 | 0.5 | 0.5 | 0.5 | 0.5 | 0.5 | 0.5 | 0.5 | 0.5 | 0.5 | ... | 0.5 | 0.5 | 0.5 | 0.5 | 0.5 | 0.5 | 0.5 | 0.5 | 0.5 | 0.5 |\n",
       "| 4.0 | 4.0 | 4.0 | 4.0 | 4.0 | 4.0 | 4.0 | 4.0 | 4.0 | 4.0 | ... | 4.0 | 4.0 | 4.0 | 4.0 | 4.0 | 4.0 | 4.0 | 4.0 | 4.0 | 4.0 |\n",
       "| 4.0 | 4.0 | 4.0 | 4.0 | 4.0 | 4.0 | 4.0 | 4.0 | 4.0 | 4.0 | ... | 4.0 | 4.0 | 4.0 | 4.0 | 4.0 | 4.0 | 4.0 | 4.0 | 4.0 | 4.0 |\n",
       "| 4.0 | 4.0 | 4.0 | 4.0 | 4.0 | 4.0 | 4.0 | 4.0 | 4.0 | 4.0 | ... | 4.0 | 4.0 | 4.0 | 4.0 | 4.0 | 4.0 | 4.0 | 4.0 | 4.0 | 4.0 |\n",
       "| 4.0 | 4.0 | 4.0 | 4.0 | 4.0 | 4.0 | 4.0 | 4.0 | 4.0 | 4.0 | ... | 4.0 | 4.0 | 4.0 | 4.0 | 4.0 | 4.0 | 4.0 | 4.0 | 4.0 | 4.0 |\n",
       "\n"
      ],
      "text/plain": [
       "     [,1] [,2] [,3] [,4] [,5] [,6] [,7] [,8] [,9] [,10] [,11] [,12] [,13] [,14]\n",
       "[1,] 0.5  0.5  0.5  0.5  0.5  0.5  0.5  0.5  0.5  0.5   ...   0.5   0.5   0.5  \n",
       "[2,] 0.5  0.5  0.5  0.5  0.5  0.5  0.5  0.5  0.5  0.5   ...   0.5   0.5   0.5  \n",
       "[3,] 0.5  0.5  0.5  0.5  0.5  0.5  0.5  0.5  0.5  0.5   ...   0.5   0.5   0.5  \n",
       "[4,] 0.5  0.5  0.5  0.5  0.5  0.5  0.5  0.5  0.5  0.5   ...   0.5   0.5   0.5  \n",
       "[5,] 4.0  4.0  4.0  4.0  4.0  4.0  4.0  4.0  4.0  4.0   ...   4.0   4.0   4.0  \n",
       "[6,] 4.0  4.0  4.0  4.0  4.0  4.0  4.0  4.0  4.0  4.0   ...   4.0   4.0   4.0  \n",
       "[7,] 4.0  4.0  4.0  4.0  4.0  4.0  4.0  4.0  4.0  4.0   ...   4.0   4.0   4.0  \n",
       "[8,] 4.0  4.0  4.0  4.0  4.0  4.0  4.0  4.0  4.0  4.0   ...   4.0   4.0   4.0  \n",
       "     [,15] [,16] [,17] [,18] [,19] [,20] [,21]\n",
       "[1,] 0.5   0.5   0.5   0.5   0.5   0.5   0.5  \n",
       "[2,] 0.5   0.5   0.5   0.5   0.5   0.5   0.5  \n",
       "[3,] 0.5   0.5   0.5   0.5   0.5   0.5   0.5  \n",
       "[4,] 0.5   0.5   0.5   0.5   0.5   0.5   0.5  \n",
       "[5,] 4.0   4.0   4.0   4.0   4.0   4.0   4.0  \n",
       "[6,] 4.0   4.0   4.0   4.0   4.0   4.0   4.0  \n",
       "[7,] 4.0   4.0   4.0   4.0   4.0   4.0   4.0  \n",
       "[8,] 4.0   4.0   4.0   4.0   4.0   4.0   4.0  "
      ]
     },
     "metadata": {},
     "output_type": "display_data"
    }
   ],
   "source": [
    "month<-c(rep('Jan', 4), rep('July', 4))\n",
    "month<-matrix(month, nc=num_house, nr=8)\n",
    "month_effect<-c(rep(0.5, 4), rep(4, 4))\n",
    "month_effect<-matrix(month_effect, nc=num_house, nr=8)\n",
    "month\n",
    "month_effect"
   ]
  },
  {
   "cell_type": "markdown",
   "id": "e6223ae4",
   "metadata": {},
   "source": [
    "#### Fixed effect 2: mosquito net\n",
    "Finally, we have the mosquito net, which is a binary factor. Let us consider a complete randomised design, that mosuqito net can be installed/removed from each house during the experiment. A mosquito net will marginally decrease the log mean count by 0.5. "
   ]
  },
  {
   "cell_type": "code",
   "execution_count": 6,
   "id": "f98c325d",
   "metadata": {},
   "outputs": [
    {
     "data": {
      "text/html": [
       "<table>\n",
       "<tbody>\n",
       "\t<tr><td>Yes</td><td>Yes</td><td>Yes</td><td>No </td><td>Yes</td><td>Yes</td><td>Yes</td><td>No </td><td>No </td><td>No </td><td>...</td><td>No </td><td>Yes</td><td>No </td><td>Yes</td><td>No </td><td>Yes</td><td>Yes</td><td>Yes</td><td>No </td><td>No </td></tr>\n",
       "\t<tr><td>Yes</td><td>Yes</td><td>No </td><td>No </td><td>Yes</td><td>Yes</td><td>No </td><td>No </td><td>Yes</td><td>No </td><td>...</td><td>Yes</td><td>No </td><td>Yes</td><td>Yes</td><td>No </td><td>Yes</td><td>Yes</td><td>Yes</td><td>No </td><td>Yes</td></tr>\n",
       "\t<tr><td>Yes</td><td>No </td><td>No </td><td>No </td><td>No </td><td>Yes</td><td>Yes</td><td>Yes</td><td>No </td><td>Yes</td><td>...</td><td>Yes</td><td>No </td><td>No </td><td>Yes</td><td>Yes</td><td>No </td><td>No </td><td>No </td><td>Yes</td><td>No </td></tr>\n",
       "\t<tr><td>Yes</td><td>No </td><td>No </td><td>No </td><td>Yes</td><td>Yes</td><td>Yes</td><td>Yes</td><td>No </td><td>No </td><td>...</td><td>No </td><td>No </td><td>Yes</td><td>Yes</td><td>No </td><td>No </td><td>No </td><td>Yes</td><td>No </td><td>No </td></tr>\n",
       "\t<tr><td>No </td><td>No </td><td>No </td><td>No </td><td>No </td><td>No </td><td>No </td><td>Yes</td><td>Yes</td><td>Yes</td><td>...</td><td>No </td><td>No </td><td>Yes</td><td>Yes</td><td>No </td><td>No </td><td>No </td><td>Yes</td><td>Yes</td><td>No </td></tr>\n",
       "\t<tr><td>No </td><td>No </td><td>Yes</td><td>Yes</td><td>Yes</td><td>No </td><td>No </td><td>No </td><td>No </td><td>No </td><td>...</td><td>Yes</td><td>No </td><td>No </td><td>No </td><td>Yes</td><td>No </td><td>Yes</td><td>No </td><td>Yes</td><td>No </td></tr>\n",
       "\t<tr><td>No </td><td>No </td><td>Yes</td><td>No </td><td>No </td><td>Yes</td><td>Yes</td><td>No </td><td>No </td><td>Yes</td><td>...</td><td>No </td><td>No </td><td>Yes</td><td>Yes</td><td>No </td><td>Yes</td><td>No </td><td>No </td><td>Yes</td><td>No </td></tr>\n",
       "\t<tr><td>No </td><td>Yes</td><td>No </td><td>No </td><td>No </td><td>No </td><td>Yes</td><td>Yes</td><td>Yes</td><td>No </td><td>...</td><td>Yes</td><td>Yes</td><td>Yes</td><td>No </td><td>Yes</td><td>Yes</td><td>Yes</td><td>Yes</td><td>No </td><td>No </td></tr>\n",
       "</tbody>\n",
       "</table>\n"
      ],
      "text/latex": [
       "\\begin{tabular}{llllllllllllllllllllllllllllllllllllllllllllllllllllllllllllllllllllllllllllllllllllllllllllllllllll}\n",
       "\t Yes & Yes & Yes & No  & Yes & Yes & Yes & No  & No  & No  & ... & No  & Yes & No  & Yes & No  & Yes & Yes & Yes & No  & No \\\\\n",
       "\t Yes & Yes & No  & No  & Yes & Yes & No  & No  & Yes & No  & ... & Yes & No  & Yes & Yes & No  & Yes & Yes & Yes & No  & Yes\\\\\n",
       "\t Yes & No  & No  & No  & No  & Yes & Yes & Yes & No  & Yes & ... & Yes & No  & No  & Yes & Yes & No  & No  & No  & Yes & No \\\\\n",
       "\t Yes & No  & No  & No  & Yes & Yes & Yes & Yes & No  & No  & ... & No  & No  & Yes & Yes & No  & No  & No  & Yes & No  & No \\\\\n",
       "\t No  & No  & No  & No  & No  & No  & No  & Yes & Yes & Yes & ... & No  & No  & Yes & Yes & No  & No  & No  & Yes & Yes & No \\\\\n",
       "\t No  & No  & Yes & Yes & Yes & No  & No  & No  & No  & No  & ... & Yes & No  & No  & No  & Yes & No  & Yes & No  & Yes & No \\\\\n",
       "\t No  & No  & Yes & No  & No  & Yes & Yes & No  & No  & Yes & ... & No  & No  & Yes & Yes & No  & Yes & No  & No  & Yes & No \\\\\n",
       "\t No  & Yes & No  & No  & No  & No  & Yes & Yes & Yes & No  & ... & Yes & Yes & Yes & No  & Yes & Yes & Yes & Yes & No  & No \\\\\n",
       "\\end{tabular}\n"
      ],
      "text/markdown": [
       "\n",
       "| Yes | Yes | Yes | No  | Yes | Yes | Yes | No  | No  | No  | ... | No  | Yes | No  | Yes | No  | Yes | Yes | Yes | No  | No  |\n",
       "| Yes | Yes | No  | No  | Yes | Yes | No  | No  | Yes | No  | ... | Yes | No  | Yes | Yes | No  | Yes | Yes | Yes | No  | Yes |\n",
       "| Yes | No  | No  | No  | No  | Yes | Yes | Yes | No  | Yes | ... | Yes | No  | No  | Yes | Yes | No  | No  | No  | Yes | No  |\n",
       "| Yes | No  | No  | No  | Yes | Yes | Yes | Yes | No  | No  | ... | No  | No  | Yes | Yes | No  | No  | No  | Yes | No  | No  |\n",
       "| No  | No  | No  | No  | No  | No  | No  | Yes | Yes | Yes | ... | No  | No  | Yes | Yes | No  | No  | No  | Yes | Yes | No  |\n",
       "| No  | No  | Yes | Yes | Yes | No  | No  | No  | No  | No  | ... | Yes | No  | No  | No  | Yes | No  | Yes | No  | Yes | No  |\n",
       "| No  | No  | Yes | No  | No  | Yes | Yes | No  | No  | Yes | ... | No  | No  | Yes | Yes | No  | Yes | No  | No  | Yes | No  |\n",
       "| No  | Yes | No  | No  | No  | No  | Yes | Yes | Yes | No  | ... | Yes | Yes | Yes | No  | Yes | Yes | Yes | Yes | No  | No  |\n",
       "\n"
      ],
      "text/plain": [
       "     [,1] [,2] [,3] [,4] [,5] [,6] [,7] [,8] [,9] [,10] [,11] [,12] [,13] [,14]\n",
       "[1,] Yes  Yes  Yes  No   Yes  Yes  Yes  No   No   No    ...   No    Yes   No   \n",
       "[2,] Yes  Yes  No   No   Yes  Yes  No   No   Yes  No    ...   Yes   No    Yes  \n",
       "[3,] Yes  No   No   No   No   Yes  Yes  Yes  No   Yes   ...   Yes   No    No   \n",
       "[4,] Yes  No   No   No   Yes  Yes  Yes  Yes  No   No    ...   No    No    Yes  \n",
       "[5,] No   No   No   No   No   No   No   Yes  Yes  Yes   ...   No    No    Yes  \n",
       "[6,] No   No   Yes  Yes  Yes  No   No   No   No   No    ...   Yes   No    No   \n",
       "[7,] No   No   Yes  No   No   Yes  Yes  No   No   Yes   ...   No    No    Yes  \n",
       "[8,] No   Yes  No   No   No   No   Yes  Yes  Yes  No    ...   Yes   Yes   Yes  \n",
       "     [,15] [,16] [,17] [,18] [,19] [,20] [,21]\n",
       "[1,] Yes   No    Yes   Yes   Yes   No    No   \n",
       "[2,] Yes   No    Yes   Yes   Yes   No    Yes  \n",
       "[3,] Yes   Yes   No    No    No    Yes   No   \n",
       "[4,] Yes   No    No    No    Yes   No    No   \n",
       "[5,] Yes   No    No    No    Yes   Yes   No   \n",
       "[6,] No    Yes   No    Yes   No    Yes   No   \n",
       "[7,] Yes   No    Yes   No    No    Yes   No   \n",
       "[8,] No    Yes   Yes   Yes   Yes   No    No   "
      ]
     },
     "metadata": {},
     "output_type": "display_data"
    },
    {
     "data": {
      "text/html": [
       "<table>\n",
       "<tbody>\n",
       "\t<tr><td>-0.5</td><td>-0.5</td><td>-0.5</td><td> 0.0</td><td>-0.5</td><td>-0.5</td><td>-0.5</td><td> 0.0</td><td> 0.0</td><td> 0.0</td><td>... </td><td> 0.0</td><td>-0.5</td><td> 0.0</td><td>-0.5</td><td> 0.0</td><td>-0.5</td><td>-0.5</td><td>-0.5</td><td> 0.0</td><td> 0.0</td></tr>\n",
       "\t<tr><td>-0.5</td><td>-0.5</td><td> 0.0</td><td> 0.0</td><td>-0.5</td><td>-0.5</td><td> 0.0</td><td> 0.0</td><td>-0.5</td><td> 0.0</td><td>... </td><td>-0.5</td><td> 0.0</td><td>-0.5</td><td>-0.5</td><td> 0.0</td><td>-0.5</td><td>-0.5</td><td>-0.5</td><td> 0.0</td><td>-0.5</td></tr>\n",
       "\t<tr><td>-0.5</td><td> 0.0</td><td> 0.0</td><td> 0.0</td><td> 0.0</td><td>-0.5</td><td>-0.5</td><td>-0.5</td><td> 0.0</td><td>-0.5</td><td>... </td><td>-0.5</td><td> 0.0</td><td> 0.0</td><td>-0.5</td><td>-0.5</td><td> 0.0</td><td> 0.0</td><td> 0.0</td><td>-0.5</td><td> 0.0</td></tr>\n",
       "\t<tr><td>-0.5</td><td> 0.0</td><td> 0.0</td><td> 0.0</td><td>-0.5</td><td>-0.5</td><td>-0.5</td><td>-0.5</td><td> 0.0</td><td> 0.0</td><td>... </td><td> 0.0</td><td> 0.0</td><td>-0.5</td><td>-0.5</td><td> 0.0</td><td> 0.0</td><td> 0.0</td><td>-0.5</td><td> 0.0</td><td> 0.0</td></tr>\n",
       "\t<tr><td> 0.0</td><td> 0.0</td><td> 0.0</td><td> 0.0</td><td> 0.0</td><td> 0.0</td><td> 0.0</td><td>-0.5</td><td>-0.5</td><td>-0.5</td><td>... </td><td> 0.0</td><td> 0.0</td><td>-0.5</td><td>-0.5</td><td> 0.0</td><td> 0.0</td><td> 0.0</td><td>-0.5</td><td>-0.5</td><td> 0.0</td></tr>\n",
       "\t<tr><td> 0.0</td><td> 0.0</td><td>-0.5</td><td>-0.5</td><td>-0.5</td><td> 0.0</td><td> 0.0</td><td> 0.0</td><td> 0.0</td><td> 0.0</td><td>... </td><td>-0.5</td><td> 0.0</td><td> 0.0</td><td> 0.0</td><td>-0.5</td><td> 0.0</td><td>-0.5</td><td> 0.0</td><td>-0.5</td><td> 0.0</td></tr>\n",
       "\t<tr><td> 0.0</td><td> 0.0</td><td>-0.5</td><td> 0.0</td><td> 0.0</td><td>-0.5</td><td>-0.5</td><td> 0.0</td><td> 0.0</td><td>-0.5</td><td>... </td><td> 0.0</td><td> 0.0</td><td>-0.5</td><td>-0.5</td><td> 0.0</td><td>-0.5</td><td> 0.0</td><td> 0.0</td><td>-0.5</td><td> 0.0</td></tr>\n",
       "\t<tr><td> 0.0</td><td>-0.5</td><td> 0.0</td><td> 0.0</td><td> 0.0</td><td> 0.0</td><td>-0.5</td><td>-0.5</td><td>-0.5</td><td> 0.0</td><td>... </td><td>-0.5</td><td>-0.5</td><td>-0.5</td><td> 0.0</td><td>-0.5</td><td>-0.5</td><td>-0.5</td><td>-0.5</td><td> 0.0</td><td> 0.0</td></tr>\n",
       "</tbody>\n",
       "</table>\n"
      ],
      "text/latex": [
       "\\begin{tabular}{llllllllllllllllllllllllllllllllllllllllllllllllllllllllllllllllllllllllllllllllllllllllllllllllllll}\n",
       "\t -0.5 & -0.5 & -0.5 &  0.0 & -0.5 & -0.5 & -0.5 &  0.0 &  0.0 &  0.0 & ...  &  0.0 & -0.5 &  0.0 & -0.5 &  0.0 & -0.5 & -0.5 & -0.5 &  0.0 &  0.0\\\\\n",
       "\t -0.5 & -0.5 &  0.0 &  0.0 & -0.5 & -0.5 &  0.0 &  0.0 & -0.5 &  0.0 & ...  & -0.5 &  0.0 & -0.5 & -0.5 &  0.0 & -0.5 & -0.5 & -0.5 &  0.0 & -0.5\\\\\n",
       "\t -0.5 &  0.0 &  0.0 &  0.0 &  0.0 & -0.5 & -0.5 & -0.5 &  0.0 & -0.5 & ...  & -0.5 &  0.0 &  0.0 & -0.5 & -0.5 &  0.0 &  0.0 &  0.0 & -0.5 &  0.0\\\\\n",
       "\t -0.5 &  0.0 &  0.0 &  0.0 & -0.5 & -0.5 & -0.5 & -0.5 &  0.0 &  0.0 & ...  &  0.0 &  0.0 & -0.5 & -0.5 &  0.0 &  0.0 &  0.0 & -0.5 &  0.0 &  0.0\\\\\n",
       "\t  0.0 &  0.0 &  0.0 &  0.0 &  0.0 &  0.0 &  0.0 & -0.5 & -0.5 & -0.5 & ...  &  0.0 &  0.0 & -0.5 & -0.5 &  0.0 &  0.0 &  0.0 & -0.5 & -0.5 &  0.0\\\\\n",
       "\t  0.0 &  0.0 & -0.5 & -0.5 & -0.5 &  0.0 &  0.0 &  0.0 &  0.0 &  0.0 & ...  & -0.5 &  0.0 &  0.0 &  0.0 & -0.5 &  0.0 & -0.5 &  0.0 & -0.5 &  0.0\\\\\n",
       "\t  0.0 &  0.0 & -0.5 &  0.0 &  0.0 & -0.5 & -0.5 &  0.0 &  0.0 & -0.5 & ...  &  0.0 &  0.0 & -0.5 & -0.5 &  0.0 & -0.5 &  0.0 &  0.0 & -0.5 &  0.0\\\\\n",
       "\t  0.0 & -0.5 &  0.0 &  0.0 &  0.0 &  0.0 & -0.5 & -0.5 & -0.5 &  0.0 & ...  & -0.5 & -0.5 & -0.5 &  0.0 & -0.5 & -0.5 & -0.5 & -0.5 &  0.0 &  0.0\\\\\n",
       "\\end{tabular}\n"
      ],
      "text/markdown": [
       "\n",
       "| -0.5 | -0.5 | -0.5 |  0.0 | -0.5 | -0.5 | -0.5 |  0.0 |  0.0 |  0.0 | ...  |  0.0 | -0.5 |  0.0 | -0.5 |  0.0 | -0.5 | -0.5 | -0.5 |  0.0 |  0.0 |\n",
       "| -0.5 | -0.5 |  0.0 |  0.0 | -0.5 | -0.5 |  0.0 |  0.0 | -0.5 |  0.0 | ...  | -0.5 |  0.0 | -0.5 | -0.5 |  0.0 | -0.5 | -0.5 | -0.5 |  0.0 | -0.5 |\n",
       "| -0.5 |  0.0 |  0.0 |  0.0 |  0.0 | -0.5 | -0.5 | -0.5 |  0.0 | -0.5 | ...  | -0.5 |  0.0 |  0.0 | -0.5 | -0.5 |  0.0 |  0.0 |  0.0 | -0.5 |  0.0 |\n",
       "| -0.5 |  0.0 |  0.0 |  0.0 | -0.5 | -0.5 | -0.5 | -0.5 |  0.0 |  0.0 | ...  |  0.0 |  0.0 | -0.5 | -0.5 |  0.0 |  0.0 |  0.0 | -0.5 |  0.0 |  0.0 |\n",
       "|  0.0 |  0.0 |  0.0 |  0.0 |  0.0 |  0.0 |  0.0 | -0.5 | -0.5 | -0.5 | ...  |  0.0 |  0.0 | -0.5 | -0.5 |  0.0 |  0.0 |  0.0 | -0.5 | -0.5 |  0.0 |\n",
       "|  0.0 |  0.0 | -0.5 | -0.5 | -0.5 |  0.0 |  0.0 |  0.0 |  0.0 |  0.0 | ...  | -0.5 |  0.0 |  0.0 |  0.0 | -0.5 |  0.0 | -0.5 |  0.0 | -0.5 |  0.0 |\n",
       "|  0.0 |  0.0 | -0.5 |  0.0 |  0.0 | -0.5 | -0.5 |  0.0 |  0.0 | -0.5 | ...  |  0.0 |  0.0 | -0.5 | -0.5 |  0.0 | -0.5 |  0.0 |  0.0 | -0.5 |  0.0 |\n",
       "|  0.0 | -0.5 |  0.0 |  0.0 |  0.0 |  0.0 | -0.5 | -0.5 | -0.5 |  0.0 | ...  | -0.5 | -0.5 | -0.5 |  0.0 | -0.5 | -0.5 | -0.5 | -0.5 |  0.0 |  0.0 |\n",
       "\n"
      ],
      "text/plain": [
       "     [,1] [,2] [,3] [,4] [,5] [,6] [,7] [,8] [,9] [,10] [,11] [,12] [,13] [,14]\n",
       "[1,] -0.5 -0.5 -0.5  0.0 -0.5 -0.5 -0.5  0.0  0.0  0.0  ...    0.0  -0.5   0.0 \n",
       "[2,] -0.5 -0.5  0.0  0.0 -0.5 -0.5  0.0  0.0 -0.5  0.0  ...   -0.5   0.0  -0.5 \n",
       "[3,] -0.5  0.0  0.0  0.0  0.0 -0.5 -0.5 -0.5  0.0 -0.5  ...   -0.5   0.0   0.0 \n",
       "[4,] -0.5  0.0  0.0  0.0 -0.5 -0.5 -0.5 -0.5  0.0  0.0  ...    0.0   0.0  -0.5 \n",
       "[5,]  0.0  0.0  0.0  0.0  0.0  0.0  0.0 -0.5 -0.5 -0.5  ...    0.0   0.0  -0.5 \n",
       "[6,]  0.0  0.0 -0.5 -0.5 -0.5  0.0  0.0  0.0  0.0  0.0  ...   -0.5   0.0   0.0 \n",
       "[7,]  0.0  0.0 -0.5  0.0  0.0 -0.5 -0.5  0.0  0.0 -0.5  ...    0.0   0.0  -0.5 \n",
       "[8,]  0.0 -0.5  0.0  0.0  0.0  0.0 -0.5 -0.5 -0.5  0.0  ...   -0.5  -0.5  -0.5 \n",
       "     [,15] [,16] [,17] [,18] [,19] [,20] [,21]\n",
       "[1,] -0.5   0.0  -0.5  -0.5  -0.5   0.0   0.0 \n",
       "[2,] -0.5   0.0  -0.5  -0.5  -0.5   0.0  -0.5 \n",
       "[3,] -0.5  -0.5   0.0   0.0   0.0  -0.5   0.0 \n",
       "[4,] -0.5   0.0   0.0   0.0  -0.5   0.0   0.0 \n",
       "[5,] -0.5   0.0   0.0   0.0  -0.5  -0.5   0.0 \n",
       "[6,]  0.0  -0.5   0.0  -0.5   0.0  -0.5   0.0 \n",
       "[7,] -0.5   0.0  -0.5   0.0   0.0  -0.5   0.0 \n",
       "[8,]  0.0  -0.5  -0.5  -0.5  -0.5   0.0   0.0 "
      ]
     },
     "metadata": {},
     "output_type": "display_data"
    }
   ],
   "source": [
    "#k<-round(num_house/2)\n",
    "#mosquito_net<-sample(c(rep('Yes', k), rep('No', num_house-k)))\n",
    "#mosquito_net<-matrix(mosquito_net, nc=num_house, nr=8, byrow=T)\n",
    "mosquito_net<-matrix(sample(c('Yes', 'No'), size=num_house*8, replace=T), nr=8)\n",
    "mosquito_net\n",
    "mosquito_net_effect<-(mosquito_net=='Yes')*(-0.5) # EFFECT IS -0.5\n",
    "mosquito_net_effect"
   ]
  },
  {
   "cell_type": "markdown",
   "id": "3640ef90",
   "metadata": {},
   "source": [
    "#### Sample the counts and put everything into a data frame\n",
    "In Poisson glm, the log of lambda is a linear combination of our factors. Let us work out the lambda for each house visit and then we draw Poisson counts from these lambdas"
   ]
  },
  {
   "cell_type": "code",
   "execution_count": 7,
   "id": "87abe84a",
   "metadata": {},
   "outputs": [
    {
     "data": {
      "text/html": [
       "<table>\n",
       "<tbody>\n",
       "\t<tr><td> 0.7818209 </td><td> 1.4782132 </td><td>-1.5583796 </td><td> 0.28193680</td><td>-1.7292619 </td><td> 0.7831057 </td><td>-1.2850257 </td><td>-0.7098085 </td><td> 0.2370877 </td><td>-0.2811265 </td><td>...        </td><td> 0.9880065 </td><td>1.5714329  </td><td>-0.5161941 </td><td>0.74065508 </td><td> 0.67839693</td><td>-0.8463077 </td><td>-0.9546873 </td><td>-0.7617622 </td><td> 0.6019834 </td><td>-0.9806446 </td></tr>\n",
       "\t<tr><td>-0.9781283 </td><td>-0.6060374 </td><td>-1.1683179 </td><td>-2.13050765</td><td>-0.2199486 </td><td> 0.7445796 </td><td> 0.1068987 </td><td> 0.1604907 </td><td>-0.3451861 </td><td> 0.3925811 </td><td>...        </td><td> 0.3167917 </td><td>0.3925394  </td><td>-1.1003602 </td><td>0.15068141 </td><td>-0.01231467</td><td>-2.3282912 </td><td>-0.2101530 </td><td>-1.5323218 </td><td>-1.2303508 </td><td> 0.3869040 </td></tr>\n",
       "\t<tr><td> 0.6212946 </td><td> 1.4429986 </td><td> 1.1380589 </td><td> 0.04427088</td><td> 0.7284076 </td><td>-0.5043113 </td><td>-1.2514220 </td><td>-1.9702965 </td><td> 0.2872542 </td><td>-1.6513403 </td><td>...        </td><td>-0.4816714 </td><td>1.0479894  </td><td>-1.4337662 </td><td>0.14803982 </td><td>-0.37278751</td><td>-1.2222982 </td><td> 1.0089023 </td><td> 1.7818815 </td><td>-0.5524783 </td><td> 0.3000167 </td></tr>\n",
       "\t<tr><td> 0.3870549 </td><td> 1.2677141 </td><td> 0.6526088 </td><td>-0.80634295</td><td>-1.0123200 </td><td> 0.5235504 </td><td>-3.0342075 </td><td>-0.1560631 </td><td> 0.6697668 </td><td> 0.1072972 </td><td>...        </td><td> 2.4082128 </td><td>2.1728712  </td><td>-1.0778023 </td><td>0.06367257 </td><td>-1.08890537</td><td>-2.1386386 </td><td> 1.6215126 </td><td>-1.0556069 </td><td>-1.1446033 </td><td>-0.5535393 </td></tr>\n",
       "\t<tr><td> 3.4830198 </td><td> 3.6975379 </td><td> 4.4475427 </td><td> 2.40186166</td><td> 0.5443050 </td><td> 4.9860024 </td><td> 2.1759363 </td><td> 3.0791580 </td><td> 4.4621049 </td><td> 3.7707802 </td><td>...        </td><td> 5.8363414 </td><td>5.2416996  </td><td> 0.2050719 </td><td>3.15880275 </td><td> 4.40449132</td><td> 2.5436932 </td><td> 5.3873421 </td><td> 2.3705292 </td><td> 3.1958533 </td><td> 2.8159049 </td></tr>\n",
       "\t<tr><td> 3.2555755 </td><td> 5.1303215 </td><td> 5.6123337 </td><td> 1.96990561</td><td> 2.9001245 </td><td> 4.1298166 </td><td> 3.0435111 </td><td> 2.7445508 </td><td> 2.3809765 </td><td> 3.7159585 </td><td>...        </td><td> 5.7818590 </td><td>6.3756143  </td><td> 0.8711538 </td><td>3.14200598 </td><td> 5.22712592</td><td> 3.1053729 </td><td> 5.2559298 </td><td> 2.7259073 </td><td> 2.0697897 </td><td> 3.5299622 </td></tr>\n",
       "\t<tr><td> 3.1687188 </td><td> 1.5485404 </td><td> 2.2435196 </td><td> 4.80883807</td><td> 4.2991803 </td><td> 5.4190423 </td><td>-0.2543451 </td><td> 4.1624051 </td><td> 4.1218037 </td><td> 4.0199955 </td><td>...        </td><td> 4.4589167 </td><td>3.6128137  </td><td> 1.1248611 </td><td>4.27558168 </td><td> 3.74134505</td><td> 2.8404798 </td><td> 4.8986723 </td><td> 4.0254016 </td><td> 3.1937380 </td><td> 3.6646006 </td></tr>\n",
       "\t<tr><td> 4.7871882 </td><td> 3.1162562 </td><td> 4.0495947 </td><td> 3.29095771</td><td> 3.2636505 </td><td> 3.6565633 </td><td> 2.2463644 </td><td> 3.6239137 </td><td> 2.9402564 </td><td> 3.0974810 </td><td>...        </td><td> 6.1620013 </td><td>3.1400845  </td><td> 0.8178246 </td><td>5.94224514 </td><td> 4.92833401</td><td> 3.7615401 </td><td> 4.6330418 </td><td> 3.2889985 </td><td> 4.5317970 </td><td> 3.7935031 </td></tr>\n",
       "</tbody>\n",
       "</table>\n"
      ],
      "text/latex": [
       "\\begin{tabular}{llllllllllllllllllllllllllllllllllllllllllllllllllllllllllllllllllllllllllllllllllllllllllllllllllll}\n",
       "\t  0.7818209  &  1.4782132  & -1.5583796  &  0.28193680 & -1.7292619  &  0.7831057  & -1.2850257  & -0.7098085  &  0.2370877  & -0.2811265  & ...         &  0.9880065  & 1.5714329   & -0.5161941  & 0.74065508  &  0.67839693 & -0.8463077  & -0.9546873  & -0.7617622  &  0.6019834  & -0.9806446 \\\\\n",
       "\t -0.9781283  & -0.6060374  & -1.1683179  & -2.13050765 & -0.2199486  &  0.7445796  &  0.1068987  &  0.1604907  & -0.3451861  &  0.3925811  & ...         &  0.3167917  & 0.3925394   & -1.1003602  & 0.15068141  & -0.01231467 & -2.3282912  & -0.2101530  & -1.5323218  & -1.2303508  &  0.3869040 \\\\\n",
       "\t  0.6212946  &  1.4429986  &  1.1380589  &  0.04427088 &  0.7284076  & -0.5043113  & -1.2514220  & -1.9702965  &  0.2872542  & -1.6513403  & ...         & -0.4816714  & 1.0479894   & -1.4337662  & 0.14803982  & -0.37278751 & -1.2222982  &  1.0089023  &  1.7818815  & -0.5524783  &  0.3000167 \\\\\n",
       "\t  0.3870549  &  1.2677141  &  0.6526088  & -0.80634295 & -1.0123200  &  0.5235504  & -3.0342075  & -0.1560631  &  0.6697668  &  0.1072972  & ...         &  2.4082128  & 2.1728712   & -1.0778023  & 0.06367257  & -1.08890537 & -2.1386386  &  1.6215126  & -1.0556069  & -1.1446033  & -0.5535393 \\\\\n",
       "\t  3.4830198  &  3.6975379  &  4.4475427  &  2.40186166 &  0.5443050  &  4.9860024  &  2.1759363  &  3.0791580  &  4.4621049  &  3.7707802  & ...         &  5.8363414  & 5.2416996   &  0.2050719  & 3.15880275  &  4.40449132 &  2.5436932  &  5.3873421  &  2.3705292  &  3.1958533  &  2.8159049 \\\\\n",
       "\t  3.2555755  &  5.1303215  &  5.6123337  &  1.96990561 &  2.9001245  &  4.1298166  &  3.0435111  &  2.7445508  &  2.3809765  &  3.7159585  & ...         &  5.7818590  & 6.3756143   &  0.8711538  & 3.14200598  &  5.22712592 &  3.1053729  &  5.2559298  &  2.7259073  &  2.0697897  &  3.5299622 \\\\\n",
       "\t  3.1687188  &  1.5485404  &  2.2435196  &  4.80883807 &  4.2991803  &  5.4190423  & -0.2543451  &  4.1624051  &  4.1218037  &  4.0199955  & ...         &  4.4589167  & 3.6128137   &  1.1248611  & 4.27558168  &  3.74134505 &  2.8404798  &  4.8986723  &  4.0254016  &  3.1937380  &  3.6646006 \\\\\n",
       "\t  4.7871882  &  3.1162562  &  4.0495947  &  3.29095771 &  3.2636505  &  3.6565633  &  2.2463644  &  3.6239137  &  2.9402564  &  3.0974810  & ...         &  6.1620013  & 3.1400845   &  0.8178246  & 5.94224514  &  4.92833401 &  3.7615401  &  4.6330418  &  3.2889985  &  4.5317970  &  3.7935031 \\\\\n",
       "\\end{tabular}\n"
      ],
      "text/markdown": [
       "\n",
       "|  0.7818209  |  1.4782132  | -1.5583796  |  0.28193680 | -1.7292619  |  0.7831057  | -1.2850257  | -0.7098085  |  0.2370877  | -0.2811265  | ...         |  0.9880065  | 1.5714329   | -0.5161941  | 0.74065508  |  0.67839693 | -0.8463077  | -0.9546873  | -0.7617622  |  0.6019834  | -0.9806446  |\n",
       "| -0.9781283  | -0.6060374  | -1.1683179  | -2.13050765 | -0.2199486  |  0.7445796  |  0.1068987  |  0.1604907  | -0.3451861  |  0.3925811  | ...         |  0.3167917  | 0.3925394   | -1.1003602  | 0.15068141  | -0.01231467 | -2.3282912  | -0.2101530  | -1.5323218  | -1.2303508  |  0.3869040  |\n",
       "|  0.6212946  |  1.4429986  |  1.1380589  |  0.04427088 |  0.7284076  | -0.5043113  | -1.2514220  | -1.9702965  |  0.2872542  | -1.6513403  | ...         | -0.4816714  | 1.0479894   | -1.4337662  | 0.14803982  | -0.37278751 | -1.2222982  |  1.0089023  |  1.7818815  | -0.5524783  |  0.3000167  |\n",
       "|  0.3870549  |  1.2677141  |  0.6526088  | -0.80634295 | -1.0123200  |  0.5235504  | -3.0342075  | -0.1560631  |  0.6697668  |  0.1072972  | ...         |  2.4082128  | 2.1728712   | -1.0778023  | 0.06367257  | -1.08890537 | -2.1386386  |  1.6215126  | -1.0556069  | -1.1446033  | -0.5535393  |\n",
       "|  3.4830198  |  3.6975379  |  4.4475427  |  2.40186166 |  0.5443050  |  4.9860024  |  2.1759363  |  3.0791580  |  4.4621049  |  3.7707802  | ...         |  5.8363414  | 5.2416996   |  0.2050719  | 3.15880275  |  4.40449132 |  2.5436932  |  5.3873421  |  2.3705292  |  3.1958533  |  2.8159049  |\n",
       "|  3.2555755  |  5.1303215  |  5.6123337  |  1.96990561 |  2.9001245  |  4.1298166  |  3.0435111  |  2.7445508  |  2.3809765  |  3.7159585  | ...         |  5.7818590  | 6.3756143   |  0.8711538  | 3.14200598  |  5.22712592 |  3.1053729  |  5.2559298  |  2.7259073  |  2.0697897  |  3.5299622  |\n",
       "|  3.1687188  |  1.5485404  |  2.2435196  |  4.80883807 |  4.2991803  |  5.4190423  | -0.2543451  |  4.1624051  |  4.1218037  |  4.0199955  | ...         |  4.4589167  | 3.6128137   |  1.1248611  | 4.27558168  |  3.74134505 |  2.8404798  |  4.8986723  |  4.0254016  |  3.1937380  |  3.6646006  |\n",
       "|  4.7871882  |  3.1162562  |  4.0495947  |  3.29095771 |  3.2636505  |  3.6565633  |  2.2463644  |  3.6239137  |  2.9402564  |  3.0974810  | ...         |  6.1620013  | 3.1400845   |  0.8178246  | 5.94224514  |  4.92833401 |  3.7615401  |  4.6330418  |  3.2889985  |  4.5317970  |  3.7935031  |\n",
       "\n"
      ],
      "text/plain": [
       "     [,1]       [,2]       [,3]       [,4]        [,5]       [,6]      \n",
       "[1,]  0.7818209  1.4782132 -1.5583796  0.28193680 -1.7292619  0.7831057\n",
       "[2,] -0.9781283 -0.6060374 -1.1683179 -2.13050765 -0.2199486  0.7445796\n",
       "[3,]  0.6212946  1.4429986  1.1380589  0.04427088  0.7284076 -0.5043113\n",
       "[4,]  0.3870549  1.2677141  0.6526088 -0.80634295 -1.0123200  0.5235504\n",
       "[5,]  3.4830198  3.6975379  4.4475427  2.40186166  0.5443050  4.9860024\n",
       "[6,]  3.2555755  5.1303215  5.6123337  1.96990561  2.9001245  4.1298166\n",
       "[7,]  3.1687188  1.5485404  2.2435196  4.80883807  4.2991803  5.4190423\n",
       "[8,]  4.7871882  3.1162562  4.0495947  3.29095771  3.2636505  3.6565633\n",
       "     [,7]       [,8]       [,9]       [,10]      [,11] [,12]      [,13]    \n",
       "[1,] -1.2850257 -0.7098085  0.2370877 -0.2811265 ...    0.9880065 1.5714329\n",
       "[2,]  0.1068987  0.1604907 -0.3451861  0.3925811 ...    0.3167917 0.3925394\n",
       "[3,] -1.2514220 -1.9702965  0.2872542 -1.6513403 ...   -0.4816714 1.0479894\n",
       "[4,] -3.0342075 -0.1560631  0.6697668  0.1072972 ...    2.4082128 2.1728712\n",
       "[5,]  2.1759363  3.0791580  4.4621049  3.7707802 ...    5.8363414 5.2416996\n",
       "[6,]  3.0435111  2.7445508  2.3809765  3.7159585 ...    5.7818590 6.3756143\n",
       "[7,] -0.2543451  4.1624051  4.1218037  4.0199955 ...    4.4589167 3.6128137\n",
       "[8,]  2.2463644  3.6239137  2.9402564  3.0974810 ...    6.1620013 3.1400845\n",
       "     [,14]      [,15]      [,16]       [,17]      [,18]      [,19]     \n",
       "[1,] -0.5161941 0.74065508  0.67839693 -0.8463077 -0.9546873 -0.7617622\n",
       "[2,] -1.1003602 0.15068141 -0.01231467 -2.3282912 -0.2101530 -1.5323218\n",
       "[3,] -1.4337662 0.14803982 -0.37278751 -1.2222982  1.0089023  1.7818815\n",
       "[4,] -1.0778023 0.06367257 -1.08890537 -2.1386386  1.6215126 -1.0556069\n",
       "[5,]  0.2050719 3.15880275  4.40449132  2.5436932  5.3873421  2.3705292\n",
       "[6,]  0.8711538 3.14200598  5.22712592  3.1053729  5.2559298  2.7259073\n",
       "[7,]  1.1248611 4.27558168  3.74134505  2.8404798  4.8986723  4.0254016\n",
       "[8,]  0.8178246 5.94224514  4.92833401  3.7615401  4.6330418  3.2889985\n",
       "     [,20]      [,21]     \n",
       "[1,]  0.6019834 -0.9806446\n",
       "[2,] -1.2303508  0.3869040\n",
       "[3,] -0.5524783  0.3000167\n",
       "[4,] -1.1446033 -0.5535393\n",
       "[5,]  3.1958533  2.8159049\n",
       "[6,]  2.0697897  3.5299622\n",
       "[7,]  3.1937380  3.6646006\n",
       "[8,]  4.5317970  3.7935031"
      ]
     },
     "metadata": {},
     "output_type": "display_data"
    }
   ],
   "source": [
    "log_lambda<-house_effect+overdispersion_effect+month_effect+mosquito_net_effect\n",
    "log_lambda\n",
    "mosquito_count<-rpois(length(log_lambda), exp(log_lambda))"
   ]
  },
  {
   "cell_type": "code",
   "execution_count": 8,
   "id": "af8b0424",
   "metadata": {},
   "outputs": [
    {
     "data": {
      "text/html": [
       "<ol class=list-inline>\n",
       "\t<li>800</li>\n",
       "\t<li>4</li>\n",
       "</ol>\n"
      ],
      "text/latex": [
       "\\begin{enumerate*}\n",
       "\\item 800\n",
       "\\item 4\n",
       "\\end{enumerate*}\n"
      ],
      "text/markdown": [
       "1. 800\n",
       "2. 4\n",
       "\n",
       "\n"
      ],
      "text/plain": [
       "[1] 800   4"
      ]
     },
     "metadata": {},
     "output_type": "display_data"
    },
    {
     "data": {
      "text/html": [
       "<table>\n",
       "<thead><tr><th scope=col>mosquito_count</th><th scope=col>house_ID</th><th scope=col>month</th><th scope=col>mosquito_net</th></tr></thead>\n",
       "<tbody>\n",
       "\t<tr><td> 0  </td><td>1   </td><td>Jan </td><td>Yes </td></tr>\n",
       "\t<tr><td> 1  </td><td>1   </td><td>Jan </td><td>Yes </td></tr>\n",
       "\t<tr><td> 1  </td><td>1   </td><td>Jan </td><td>Yes </td></tr>\n",
       "\t<tr><td> 2  </td><td>1   </td><td>Jan </td><td>Yes </td></tr>\n",
       "\t<tr><td>38  </td><td>1   </td><td>July</td><td>No  </td></tr>\n",
       "\t<tr><td>21  </td><td>1   </td><td>July</td><td>No  </td></tr>\n",
       "</tbody>\n",
       "</table>\n"
      ],
      "text/latex": [
       "\\begin{tabular}{r|llll}\n",
       " mosquito\\_count & house\\_ID & month & mosquito\\_net\\\\\n",
       "\\hline\n",
       "\t  0   & 1    & Jan  & Yes \\\\\n",
       "\t  1   & 1    & Jan  & Yes \\\\\n",
       "\t  1   & 1    & Jan  & Yes \\\\\n",
       "\t  2   & 1    & Jan  & Yes \\\\\n",
       "\t 38   & 1    & July & No  \\\\\n",
       "\t 21   & 1    & July & No  \\\\\n",
       "\\end{tabular}\n"
      ],
      "text/markdown": [
       "\n",
       "| mosquito_count | house_ID | month | mosquito_net |\n",
       "|---|---|---|---|\n",
       "|  0   | 1    | Jan  | Yes  |\n",
       "|  1   | 1    | Jan  | Yes  |\n",
       "|  1   | 1    | Jan  | Yes  |\n",
       "|  2   | 1    | Jan  | Yes  |\n",
       "| 38   | 1    | July | No   |\n",
       "| 21   | 1    | July | No   |\n",
       "\n"
      ],
      "text/plain": [
       "  mosquito_count house_ID month mosquito_net\n",
       "1  0             1        Jan   Yes         \n",
       "2  1             1        Jan   Yes         \n",
       "3  1             1        Jan   Yes         \n",
       "4  2             1        Jan   Yes         \n",
       "5 38             1        July  No          \n",
       "6 21             1        July  No          "
      ]
     },
     "metadata": {},
     "output_type": "display_data"
    }
   ],
   "source": [
    "# PUT EVERYTHING INTO A DATA FRAME\n",
    "dat<-data.frame(mosquito_count=as.vector(mosquito_count), \n",
    "                house_ID=as.vector(house_ID), \n",
    "                month=as.vector(month), mosquito_net=as.vector(mosquito_net))\n",
    "# SET VARIABLES AS FACTORS\n",
    "dat$house_ID<-factor(dat$house_ID)\n",
    "dat$month<-factor(dat$month, levels=c('Jan', 'July'))\n",
    "dat$mosquito_net<-factor(dat$mosquito_net, levels=c('No', 'Yes'))\n",
    "dim(dat)\n",
    "head(dat)"
   ]
  },
  {
   "cell_type": "markdown",
   "id": "94363e3c",
   "metadata": {},
   "source": [
    "### Re-estimating the parameters\n",
    "Now we have our (simulated) dataset and let us re-estimate the parameters. \n",
    "\n",
    "This first model is without any fixed effects. We "
   ]
  },
  {
   "cell_type": "code",
   "execution_count": 9,
   "id": "a974021b",
   "metadata": {},
   "outputs": [
    {
     "data": {
      "text/plain": [
       "Generalized linear mixed model fit by maximum likelihood (Laplace\n",
       "  Approximation) [glmerMod]\n",
       " Family: poisson  ( log )\n",
       "Formula: mosquito_count ~ (1 | house_ID) + (1 | overdispersion)\n",
       "   Data: dat\n",
       "Control: glmerControl(optimizer = \"bobyqa\", optCtrl = list(maxfun = 2e+05))\n",
       "\n",
       "     AIC      BIC   logLik deviance df.resid \n",
       "  6869.9   6883.9  -3431.9   6863.9      797 \n",
       "\n",
       "Scaled residuals: \n",
       "     Min       1Q   Median       3Q      Max \n",
       "-0.75928 -0.29023  0.00023  0.04850  0.06084 \n",
       "\n",
       "Random effects:\n",
       " Groups         Name        Variance Std.Dev.\n",
       " overdispersion (Intercept) 4.9380   2.2222  \n",
       " house_ID       (Intercept) 0.1407   0.3751  \n",
       "Number of obs: 800, groups:  overdispersion, 800; house_ID, 100\n",
       "\n",
       "Fixed effects:\n",
       "            Estimate Std. Error z value Pr(>|z|)    \n",
       "(Intercept)  1.96756    0.09063   21.71   <2e-16 ***\n",
       "---\n",
       "Signif. codes:  0 '***' 0.001 '**' 0.01 '*' 0.05 '.' 0.1 ' ' 1"
      ]
     },
     "metadata": {},
     "output_type": "display_data"
    }
   ],
   "source": [
    "# RANDOM EFFECTS ONLY\n",
    "overdispersion<-1:nrow(dat)\n",
    "m<-glmer(mosquito_count~(1|house_ID)+(1|overdispersion), \n",
    "        data=dat, family='poisson', \n",
    "                    control=glmerControl(optimizer=\"bobyqa\",optCtrl=list(maxfun=2e5)))\n",
    "summary(m)"
   ]
  },
  {
   "cell_type": "markdown",
   "id": "04031b30",
   "metadata": {},
   "source": [
    "The model significantly over-estimated the overdispersion (obervation level) variance. Next we introduce the first fixed effect: "
   ]
  },
  {
   "cell_type": "code",
   "execution_count": 10,
   "id": "d0e241cf",
   "metadata": {},
   "outputs": [
    {
     "data": {
      "text/plain": [
       "Generalized linear mixed model fit by maximum likelihood (Laplace\n",
       "  Approximation) [glmerMod]\n",
       " Family: poisson  ( log )\n",
       "Formula: mosquito_count ~ (1 | house_ID) + (1 | overdispersion) + month\n",
       "   Data: dat\n",
       "Control: glmerControl(optimizer = \"bobyqa\", optCtrl = list(maxfun = 2e+05))\n",
       "\n",
       "     AIC      BIC   logLik deviance df.resid \n",
       "  5864.9   5883.6  -2928.4   5856.9      796 \n",
       "\n",
       "Scaled residuals: \n",
       "     Min       1Q   Median       3Q      Max \n",
       "-1.48230 -0.29804 -0.02508  0.08751  1.27156 \n",
       "\n",
       "Random effects:\n",
       " Groups         Name        Variance Std.Dev.\n",
       " overdispersion (Intercept) 0.9080   0.9529  \n",
       " house_ID       (Intercept) 0.7252   0.8516  \n",
       "Number of obs: 800, groups:  overdispersion, 800; house_ID, 100\n",
       "\n",
       "Fixed effects:\n",
       "            Estimate Std. Error z value Pr(>|z|)    \n",
       "(Intercept)   0.2024     0.1092   1.854   0.0638 .  \n",
       "monthJuly     3.5791     0.0833  42.967   <2e-16 ***\n",
       "---\n",
       "Signif. codes:  0 '***' 0.001 '**' 0.01 '*' 0.05 '.' 0.1 ' ' 1\n",
       "\n",
       "Correlation of Fixed Effects:\n",
       "          (Intr)\n",
       "monthJuly -0.507"
      ]
     },
     "metadata": {},
     "output_type": "display_data"
    }
   ],
   "source": [
    "# WITH MONTH\n",
    "overdispersion<-1:nrow(dat)\n",
    "m<-glmer(mosquito_count~(1|house_ID)+(1|overdispersion)+month, \n",
    "        data=dat, family='poisson', \n",
    "                    control=glmerControl(optimizer=\"bobyqa\",optCtrl=list(maxfun=2e5)))\n",
    "summary(m)"
   ]
  },
  {
   "cell_type": "markdown",
   "id": "0029ffa9",
   "metadata": {},
   "source": [
    "Now the estimates are more reasonable. The two variance estimates are close to the true values (1 and 0.6). The difference between the two months is estimated correctly as well (true difference = 3.5). \n",
    "\n",
    "Let us add the second fixed effect, the mosquito net. "
   ]
  },
  {
   "cell_type": "code",
   "execution_count": 11,
   "id": "d0e03026",
   "metadata": {},
   "outputs": [
    {
     "data": {
      "text/plain": [
       "Generalized linear mixed model fit by maximum likelihood (Laplace\n",
       "  Approximation) [glmerMod]\n",
       " Family: poisson  ( log )\n",
       "Formula: mosquito_count ~ (1 | house_ID) + (1 | overdispersion) + month +  \n",
       "    mosquito_net\n",
       "   Data: dat\n",
       "Control: glmerControl(optimizer = \"bobyqa\", optCtrl = list(maxfun = 2e+05))\n",
       "\n",
       "     AIC      BIC   logLik deviance df.resid \n",
       "  5840.1   5863.5  -2915.0   5830.1      795 \n",
       "\n",
       "Scaled residuals: \n",
       "     Min       1Q   Median       3Q      Max \n",
       "-1.44820 -0.31145 -0.03464  0.09025  1.11285 \n",
       "\n",
       "Random effects:\n",
       " Groups         Name        Variance Std.Dev.\n",
       " overdispersion (Intercept) 0.8695   0.9325  \n",
       " house_ID       (Intercept) 0.7028   0.8384  \n",
       "Number of obs: 800, groups:  overdispersion, 800; house_ID, 100\n",
       "\n",
       "Fixed effects:\n",
       "                Estimate Std. Error z value Pr(>|z|)    \n",
       "(Intercept)      0.41520    0.11392   3.645 0.000268 ***\n",
       "monthJuly        3.57218    0.08197  43.581  < 2e-16 ***\n",
       "mosquito_netYes -0.42316    0.08115  -5.215 1.84e-07 ***\n",
       "---\n",
       "Signif. codes:  0 '***' 0.001 '**' 0.01 '*' 0.05 '.' 0.1 ' ' 1\n",
       "\n",
       "Correlation of Fixed Effects:\n",
       "            (Intr) mnthJl\n",
       "monthJuly   -0.474       \n",
       "mosqut_ntYs -0.330 -0.020"
      ]
     },
     "metadata": {},
     "output_type": "display_data"
    }
   ],
   "source": [
    "# THE FULL MODEL\n",
    "overdispersion<-1:nrow(dat)\n",
    "m<-glmer(mosquito_count~(1|house_ID)+(1|overdispersion)+month+mosquito_net, \n",
    "        data=dat, family='poisson', \n",
    "                    control=glmerControl(optimizer=\"bobyqa\",optCtrl=list(maxfun=2e5)))\n",
    "summary(m)"
   ]
  },
  {
   "cell_type": "markdown",
   "id": "e7c87714",
   "metadata": {},
   "source": [
    "All parameters were estimated correctly. "
   ]
  },
  {
   "cell_type": "markdown",
   "id": "72f4f9b2",
   "metadata": {},
   "source": [
    "### [Extra 1] Permanent mosquito nets\n",
    "Previously I assume mosquito nets can be installed/removed at any time during the experiment. This is a more balanced experimental design, but is less realistic. \n",
    "\n",
    "Below I consider a more realistic scenario that mosquito net is permanent, that the absense/precence of mosquito net per house will not change over time. We randomly install mosquito nets to half of the houses. "
   ]
  },
  {
   "cell_type": "code",
   "execution_count": 12,
   "id": "d29a73b8",
   "metadata": {},
   "outputs": [
    {
     "data": {
      "text/html": [
       "<table>\n",
       "<tbody>\n",
       "\t<tr><td>Yes</td><td>No </td><td>No </td><td>Yes</td><td>No </td><td>No </td><td>No </td><td>Yes</td><td>Yes</td><td>No </td><td>...</td><td>No </td><td>No </td><td>No </td><td>No </td><td>No </td><td>Yes</td><td>Yes</td><td>No </td><td>Yes</td><td>No </td></tr>\n",
       "\t<tr><td>Yes</td><td>No </td><td>No </td><td>Yes</td><td>No </td><td>No </td><td>No </td><td>Yes</td><td>Yes</td><td>No </td><td>...</td><td>No </td><td>No </td><td>No </td><td>No </td><td>No </td><td>Yes</td><td>Yes</td><td>No </td><td>Yes</td><td>No </td></tr>\n",
       "\t<tr><td>Yes</td><td>No </td><td>No </td><td>Yes</td><td>No </td><td>No </td><td>No </td><td>Yes</td><td>Yes</td><td>No </td><td>...</td><td>No </td><td>No </td><td>No </td><td>No </td><td>No </td><td>Yes</td><td>Yes</td><td>No </td><td>Yes</td><td>No </td></tr>\n",
       "\t<tr><td>Yes</td><td>No </td><td>No </td><td>Yes</td><td>No </td><td>No </td><td>No </td><td>Yes</td><td>Yes</td><td>No </td><td>...</td><td>No </td><td>No </td><td>No </td><td>No </td><td>No </td><td>Yes</td><td>Yes</td><td>No </td><td>Yes</td><td>No </td></tr>\n",
       "\t<tr><td>Yes</td><td>No </td><td>No </td><td>Yes</td><td>No </td><td>No </td><td>No </td><td>Yes</td><td>Yes</td><td>No </td><td>...</td><td>No </td><td>No </td><td>No </td><td>No </td><td>No </td><td>Yes</td><td>Yes</td><td>No </td><td>Yes</td><td>No </td></tr>\n",
       "\t<tr><td>Yes</td><td>No </td><td>No </td><td>Yes</td><td>No </td><td>No </td><td>No </td><td>Yes</td><td>Yes</td><td>No </td><td>...</td><td>No </td><td>No </td><td>No </td><td>No </td><td>No </td><td>Yes</td><td>Yes</td><td>No </td><td>Yes</td><td>No </td></tr>\n",
       "\t<tr><td>Yes</td><td>No </td><td>No </td><td>Yes</td><td>No </td><td>No </td><td>No </td><td>Yes</td><td>Yes</td><td>No </td><td>...</td><td>No </td><td>No </td><td>No </td><td>No </td><td>No </td><td>Yes</td><td>Yes</td><td>No </td><td>Yes</td><td>No </td></tr>\n",
       "\t<tr><td>Yes</td><td>No </td><td>No </td><td>Yes</td><td>No </td><td>No </td><td>No </td><td>Yes</td><td>Yes</td><td>No </td><td>...</td><td>No </td><td>No </td><td>No </td><td>No </td><td>No </td><td>Yes</td><td>Yes</td><td>No </td><td>Yes</td><td>No </td></tr>\n",
       "</tbody>\n",
       "</table>\n"
      ],
      "text/latex": [
       "\\begin{tabular}{llllllllllllllllllllllllllllllllllllllllllllllllllllllllllllllllllllllllllllllllllllllllllllllllllll}\n",
       "\t Yes & No  & No  & Yes & No  & No  & No  & Yes & Yes & No  & ... & No  & No  & No  & No  & No  & Yes & Yes & No  & Yes & No \\\\\n",
       "\t Yes & No  & No  & Yes & No  & No  & No  & Yes & Yes & No  & ... & No  & No  & No  & No  & No  & Yes & Yes & No  & Yes & No \\\\\n",
       "\t Yes & No  & No  & Yes & No  & No  & No  & Yes & Yes & No  & ... & No  & No  & No  & No  & No  & Yes & Yes & No  & Yes & No \\\\\n",
       "\t Yes & No  & No  & Yes & No  & No  & No  & Yes & Yes & No  & ... & No  & No  & No  & No  & No  & Yes & Yes & No  & Yes & No \\\\\n",
       "\t Yes & No  & No  & Yes & No  & No  & No  & Yes & Yes & No  & ... & No  & No  & No  & No  & No  & Yes & Yes & No  & Yes & No \\\\\n",
       "\t Yes & No  & No  & Yes & No  & No  & No  & Yes & Yes & No  & ... & No  & No  & No  & No  & No  & Yes & Yes & No  & Yes & No \\\\\n",
       "\t Yes & No  & No  & Yes & No  & No  & No  & Yes & Yes & No  & ... & No  & No  & No  & No  & No  & Yes & Yes & No  & Yes & No \\\\\n",
       "\t Yes & No  & No  & Yes & No  & No  & No  & Yes & Yes & No  & ... & No  & No  & No  & No  & No  & Yes & Yes & No  & Yes & No \\\\\n",
       "\\end{tabular}\n"
      ],
      "text/markdown": [
       "\n",
       "| Yes | No  | No  | Yes | No  | No  | No  | Yes | Yes | No  | ... | No  | No  | No  | No  | No  | Yes | Yes | No  | Yes | No  |\n",
       "| Yes | No  | No  | Yes | No  | No  | No  | Yes | Yes | No  | ... | No  | No  | No  | No  | No  | Yes | Yes | No  | Yes | No  |\n",
       "| Yes | No  | No  | Yes | No  | No  | No  | Yes | Yes | No  | ... | No  | No  | No  | No  | No  | Yes | Yes | No  | Yes | No  |\n",
       "| Yes | No  | No  | Yes | No  | No  | No  | Yes | Yes | No  | ... | No  | No  | No  | No  | No  | Yes | Yes | No  | Yes | No  |\n",
       "| Yes | No  | No  | Yes | No  | No  | No  | Yes | Yes | No  | ... | No  | No  | No  | No  | No  | Yes | Yes | No  | Yes | No  |\n",
       "| Yes | No  | No  | Yes | No  | No  | No  | Yes | Yes | No  | ... | No  | No  | No  | No  | No  | Yes | Yes | No  | Yes | No  |\n",
       "| Yes | No  | No  | Yes | No  | No  | No  | Yes | Yes | No  | ... | No  | No  | No  | No  | No  | Yes | Yes | No  | Yes | No  |\n",
       "| Yes | No  | No  | Yes | No  | No  | No  | Yes | Yes | No  | ... | No  | No  | No  | No  | No  | Yes | Yes | No  | Yes | No  |\n",
       "\n"
      ],
      "text/plain": [
       "     [,1] [,2] [,3] [,4] [,5] [,6] [,7] [,8] [,9] [,10] [,11] [,12] [,13] [,14]\n",
       "[1,] Yes  No   No   Yes  No   No   No   Yes  Yes  No    ...   No    No    No   \n",
       "[2,] Yes  No   No   Yes  No   No   No   Yes  Yes  No    ...   No    No    No   \n",
       "[3,] Yes  No   No   Yes  No   No   No   Yes  Yes  No    ...   No    No    No   \n",
       "[4,] Yes  No   No   Yes  No   No   No   Yes  Yes  No    ...   No    No    No   \n",
       "[5,] Yes  No   No   Yes  No   No   No   Yes  Yes  No    ...   No    No    No   \n",
       "[6,] Yes  No   No   Yes  No   No   No   Yes  Yes  No    ...   No    No    No   \n",
       "[7,] Yes  No   No   Yes  No   No   No   Yes  Yes  No    ...   No    No    No   \n",
       "[8,] Yes  No   No   Yes  No   No   No   Yes  Yes  No    ...   No    No    No   \n",
       "     [,15] [,16] [,17] [,18] [,19] [,20] [,21]\n",
       "[1,] No    No    Yes   Yes   No    Yes   No   \n",
       "[2,] No    No    Yes   Yes   No    Yes   No   \n",
       "[3,] No    No    Yes   Yes   No    Yes   No   \n",
       "[4,] No    No    Yes   Yes   No    Yes   No   \n",
       "[5,] No    No    Yes   Yes   No    Yes   No   \n",
       "[6,] No    No    Yes   Yes   No    Yes   No   \n",
       "[7,] No    No    Yes   Yes   No    Yes   No   \n",
       "[8,] No    No    Yes   Yes   No    Yes   No   "
      ]
     },
     "metadata": {},
     "output_type": "display_data"
    },
    {
     "data": {
      "text/html": [
       "<table>\n",
       "<tbody>\n",
       "\t<tr><td>-0.5</td><td>0   </td><td>0   </td><td>-0.5</td><td>0   </td><td>0   </td><td>0   </td><td>-0.5</td><td>-0.5</td><td>0   </td><td>... </td><td>0   </td><td>0   </td><td>0   </td><td>0   </td><td>0   </td><td>-0.5</td><td>-0.5</td><td>0   </td><td>-0.5</td><td>0   </td></tr>\n",
       "\t<tr><td>-0.5</td><td>0   </td><td>0   </td><td>-0.5</td><td>0   </td><td>0   </td><td>0   </td><td>-0.5</td><td>-0.5</td><td>0   </td><td>... </td><td>0   </td><td>0   </td><td>0   </td><td>0   </td><td>0   </td><td>-0.5</td><td>-0.5</td><td>0   </td><td>-0.5</td><td>0   </td></tr>\n",
       "\t<tr><td>-0.5</td><td>0   </td><td>0   </td><td>-0.5</td><td>0   </td><td>0   </td><td>0   </td><td>-0.5</td><td>-0.5</td><td>0   </td><td>... </td><td>0   </td><td>0   </td><td>0   </td><td>0   </td><td>0   </td><td>-0.5</td><td>-0.5</td><td>0   </td><td>-0.5</td><td>0   </td></tr>\n",
       "\t<tr><td>-0.5</td><td>0   </td><td>0   </td><td>-0.5</td><td>0   </td><td>0   </td><td>0   </td><td>-0.5</td><td>-0.5</td><td>0   </td><td>... </td><td>0   </td><td>0   </td><td>0   </td><td>0   </td><td>0   </td><td>-0.5</td><td>-0.5</td><td>0   </td><td>-0.5</td><td>0   </td></tr>\n",
       "\t<tr><td>-0.5</td><td>0   </td><td>0   </td><td>-0.5</td><td>0   </td><td>0   </td><td>0   </td><td>-0.5</td><td>-0.5</td><td>0   </td><td>... </td><td>0   </td><td>0   </td><td>0   </td><td>0   </td><td>0   </td><td>-0.5</td><td>-0.5</td><td>0   </td><td>-0.5</td><td>0   </td></tr>\n",
       "\t<tr><td>-0.5</td><td>0   </td><td>0   </td><td>-0.5</td><td>0   </td><td>0   </td><td>0   </td><td>-0.5</td><td>-0.5</td><td>0   </td><td>... </td><td>0   </td><td>0   </td><td>0   </td><td>0   </td><td>0   </td><td>-0.5</td><td>-0.5</td><td>0   </td><td>-0.5</td><td>0   </td></tr>\n",
       "\t<tr><td>-0.5</td><td>0   </td><td>0   </td><td>-0.5</td><td>0   </td><td>0   </td><td>0   </td><td>-0.5</td><td>-0.5</td><td>0   </td><td>... </td><td>0   </td><td>0   </td><td>0   </td><td>0   </td><td>0   </td><td>-0.5</td><td>-0.5</td><td>0   </td><td>-0.5</td><td>0   </td></tr>\n",
       "\t<tr><td>-0.5</td><td>0   </td><td>0   </td><td>-0.5</td><td>0   </td><td>0   </td><td>0   </td><td>-0.5</td><td>-0.5</td><td>0   </td><td>... </td><td>0   </td><td>0   </td><td>0   </td><td>0   </td><td>0   </td><td>-0.5</td><td>-0.5</td><td>0   </td><td>-0.5</td><td>0   </td></tr>\n",
       "</tbody>\n",
       "</table>\n"
      ],
      "text/latex": [
       "\\begin{tabular}{llllllllllllllllllllllllllllllllllllllllllllllllllllllllllllllllllllllllllllllllllllllllllllllllllll}\n",
       "\t -0.5 & 0    & 0    & -0.5 & 0    & 0    & 0    & -0.5 & -0.5 & 0    & ...  & 0    & 0    & 0    & 0    & 0    & -0.5 & -0.5 & 0    & -0.5 & 0   \\\\\n",
       "\t -0.5 & 0    & 0    & -0.5 & 0    & 0    & 0    & -0.5 & -0.5 & 0    & ...  & 0    & 0    & 0    & 0    & 0    & -0.5 & -0.5 & 0    & -0.5 & 0   \\\\\n",
       "\t -0.5 & 0    & 0    & -0.5 & 0    & 0    & 0    & -0.5 & -0.5 & 0    & ...  & 0    & 0    & 0    & 0    & 0    & -0.5 & -0.5 & 0    & -0.5 & 0   \\\\\n",
       "\t -0.5 & 0    & 0    & -0.5 & 0    & 0    & 0    & -0.5 & -0.5 & 0    & ...  & 0    & 0    & 0    & 0    & 0    & -0.5 & -0.5 & 0    & -0.5 & 0   \\\\\n",
       "\t -0.5 & 0    & 0    & -0.5 & 0    & 0    & 0    & -0.5 & -0.5 & 0    & ...  & 0    & 0    & 0    & 0    & 0    & -0.5 & -0.5 & 0    & -0.5 & 0   \\\\\n",
       "\t -0.5 & 0    & 0    & -0.5 & 0    & 0    & 0    & -0.5 & -0.5 & 0    & ...  & 0    & 0    & 0    & 0    & 0    & -0.5 & -0.5 & 0    & -0.5 & 0   \\\\\n",
       "\t -0.5 & 0    & 0    & -0.5 & 0    & 0    & 0    & -0.5 & -0.5 & 0    & ...  & 0    & 0    & 0    & 0    & 0    & -0.5 & -0.5 & 0    & -0.5 & 0   \\\\\n",
       "\t -0.5 & 0    & 0    & -0.5 & 0    & 0    & 0    & -0.5 & -0.5 & 0    & ...  & 0    & 0    & 0    & 0    & 0    & -0.5 & -0.5 & 0    & -0.5 & 0   \\\\\n",
       "\\end{tabular}\n"
      ],
      "text/markdown": [
       "\n",
       "| -0.5 | 0    | 0    | -0.5 | 0    | 0    | 0    | -0.5 | -0.5 | 0    | ...  | 0    | 0    | 0    | 0    | 0    | -0.5 | -0.5 | 0    | -0.5 | 0    |\n",
       "| -0.5 | 0    | 0    | -0.5 | 0    | 0    | 0    | -0.5 | -0.5 | 0    | ...  | 0    | 0    | 0    | 0    | 0    | -0.5 | -0.5 | 0    | -0.5 | 0    |\n",
       "| -0.5 | 0    | 0    | -0.5 | 0    | 0    | 0    | -0.5 | -0.5 | 0    | ...  | 0    | 0    | 0    | 0    | 0    | -0.5 | -0.5 | 0    | -0.5 | 0    |\n",
       "| -0.5 | 0    | 0    | -0.5 | 0    | 0    | 0    | -0.5 | -0.5 | 0    | ...  | 0    | 0    | 0    | 0    | 0    | -0.5 | -0.5 | 0    | -0.5 | 0    |\n",
       "| -0.5 | 0    | 0    | -0.5 | 0    | 0    | 0    | -0.5 | -0.5 | 0    | ...  | 0    | 0    | 0    | 0    | 0    | -0.5 | -0.5 | 0    | -0.5 | 0    |\n",
       "| -0.5 | 0    | 0    | -0.5 | 0    | 0    | 0    | -0.5 | -0.5 | 0    | ...  | 0    | 0    | 0    | 0    | 0    | -0.5 | -0.5 | 0    | -0.5 | 0    |\n",
       "| -0.5 | 0    | 0    | -0.5 | 0    | 0    | 0    | -0.5 | -0.5 | 0    | ...  | 0    | 0    | 0    | 0    | 0    | -0.5 | -0.5 | 0    | -0.5 | 0    |\n",
       "| -0.5 | 0    | 0    | -0.5 | 0    | 0    | 0    | -0.5 | -0.5 | 0    | ...  | 0    | 0    | 0    | 0    | 0    | -0.5 | -0.5 | 0    | -0.5 | 0    |\n",
       "\n"
      ],
      "text/plain": [
       "     [,1] [,2] [,3] [,4] [,5] [,6] [,7] [,8] [,9] [,10] [,11] [,12] [,13] [,14]\n",
       "[1,] -0.5 0    0    -0.5 0    0    0    -0.5 -0.5 0     ...   0     0     0    \n",
       "[2,] -0.5 0    0    -0.5 0    0    0    -0.5 -0.5 0     ...   0     0     0    \n",
       "[3,] -0.5 0    0    -0.5 0    0    0    -0.5 -0.5 0     ...   0     0     0    \n",
       "[4,] -0.5 0    0    -0.5 0    0    0    -0.5 -0.5 0     ...   0     0     0    \n",
       "[5,] -0.5 0    0    -0.5 0    0    0    -0.5 -0.5 0     ...   0     0     0    \n",
       "[6,] -0.5 0    0    -0.5 0    0    0    -0.5 -0.5 0     ...   0     0     0    \n",
       "[7,] -0.5 0    0    -0.5 0    0    0    -0.5 -0.5 0     ...   0     0     0    \n",
       "[8,] -0.5 0    0    -0.5 0    0    0    -0.5 -0.5 0     ...   0     0     0    \n",
       "     [,15] [,16] [,17] [,18] [,19] [,20] [,21]\n",
       "[1,] 0     0     -0.5  -0.5  0     -0.5  0    \n",
       "[2,] 0     0     -0.5  -0.5  0     -0.5  0    \n",
       "[3,] 0     0     -0.5  -0.5  0     -0.5  0    \n",
       "[4,] 0     0     -0.5  -0.5  0     -0.5  0    \n",
       "[5,] 0     0     -0.5  -0.5  0     -0.5  0    \n",
       "[6,] 0     0     -0.5  -0.5  0     -0.5  0    \n",
       "[7,] 0     0     -0.5  -0.5  0     -0.5  0    \n",
       "[8,] 0     0     -0.5  -0.5  0     -0.5  0    "
      ]
     },
     "metadata": {},
     "output_type": "display_data"
    },
    {
     "data": {
      "text/html": [
       "<table>\n",
       "<tbody>\n",
       "\t<tr><td> 0.7818209  </td><td> 1.9782132  </td><td>-1.0583796  </td><td>-0.2180632  </td><td>-1.2292619  </td><td> 1.283105739</td><td>-0.7850257  </td><td>-1.2098085  </td><td>-0.2629123  </td><td>-0.2811265  </td><td>...         </td><td>0.9880065   </td><td>2.0714329   </td><td>-0.5161941  </td><td>1.2406551   </td><td> 0.67839693 </td><td>-0.8463077  </td><td>-0.9546873  </td><td>-0.2617622  </td><td> 0.1019834  </td><td>-0.9806446  </td></tr>\n",
       "\t<tr><td>-0.9781283  </td><td>-0.1060374  </td><td>-1.1683179  </td><td>-2.6305076  </td><td> 0.2800514  </td><td> 1.244579582</td><td> 0.1068987  </td><td>-0.3395093  </td><td>-0.3451861  </td><td> 0.3925811  </td><td>...         </td><td>0.8167917   </td><td>0.3925394   </td><td>-0.6003602  </td><td>0.6506814   </td><td>-0.01231467 </td><td>-2.3282912  </td><td>-0.2101530  </td><td>-1.0323218  </td><td>-1.7303508  </td><td> 0.8869040  </td></tr>\n",
       "\t<tr><td> 0.6212946  </td><td> 1.4429986  </td><td> 1.1380589  </td><td>-0.4557291  </td><td> 0.7284076  </td><td>-0.004311342</td><td>-0.7514220  </td><td>-1.9702965  </td><td>-0.2127458  </td><td>-1.1513403  </td><td>...         </td><td>0.0183286   </td><td>1.0479894   </td><td>-1.4337662  </td><td>0.6480398   </td><td> 0.12721249 </td><td>-1.7222982  </td><td> 0.5089023  </td><td> 1.7818815  </td><td>-0.5524783  </td><td> 0.3000167  </td></tr>\n",
       "\t<tr><td> 0.3870549  </td><td> 1.2677141  </td><td> 0.6526088  </td><td>-1.3063429  </td><td>-0.5123200  </td><td> 1.023550391</td><td>-2.5342075  </td><td>-0.1560631  </td><td> 0.1697668  </td><td> 0.1072972  </td><td>...         </td><td>2.4082128   </td><td>2.1728712   </td><td>-0.5778023  </td><td>0.5636726   </td><td>-1.08890537 </td><td>-2.6386386  </td><td> 1.1215126  </td><td>-0.5556069  </td><td>-1.6446033  </td><td>-0.5535393  </td></tr>\n",
       "\t<tr><td> 2.9830198  </td><td> 3.6975379  </td><td> 4.4475427  </td><td> 1.9018617  </td><td> 0.5443050  </td><td> 4.986002419</td><td> 2.1759363  </td><td> 3.0791580  </td><td> 4.4621049  </td><td> 4.2707802  </td><td>...         </td><td>5.8363414   </td><td>5.2416996   </td><td> 0.7050719  </td><td>3.6588027   </td><td> 4.40449132 </td><td> 2.0436932  </td><td> 4.8873421  </td><td> 2.8705292  </td><td> 3.1958533  </td><td> 2.8159049  </td></tr>\n",
       "\t<tr><td> 2.7555755  </td><td> 5.1303215  </td><td> 6.1123337  </td><td> 1.9699056  </td><td> 3.4001245  </td><td> 4.129816629</td><td> 3.0435111  </td><td> 2.2445508  </td><td> 1.8809765  </td><td> 3.7159585  </td><td>...         </td><td>6.2818590   </td><td>6.3756143   </td><td> 0.8711538  </td><td>3.1420060   </td><td> 5.72712592 </td><td> 2.6053729  </td><td> 5.2559298  </td><td> 2.7259073  </td><td> 2.0697897  </td><td> 3.5299622  </td></tr>\n",
       "\t<tr><td> 2.6687188  </td><td> 1.5485404  </td><td> 2.7435196  </td><td> 4.3088381  </td><td> 4.2991803  </td><td> 5.919042341</td><td> 0.2456549  </td><td> 3.6624051  </td><td> 3.6218037  </td><td> 4.5199955  </td><td>...         </td><td>4.4589167   </td><td>3.6128137   </td><td> 1.6248611  </td><td>4.7755817   </td><td> 3.74134505 </td><td> 2.8404798  </td><td> 4.3986723  </td><td> 4.0254016  </td><td> 3.1937380  </td><td> 3.6646006  </td></tr>\n",
       "\t<tr><td> 4.2871882  </td><td> 3.6162562  </td><td> 4.0495947  </td><td> 2.7909577  </td><td> 3.2636505  </td><td> 3.656563342</td><td> 2.7463644  </td><td> 3.6239137  </td><td> 2.9402564  </td><td> 3.0974810  </td><td>...         </td><td>6.6620013   </td><td>3.6400845   </td><td> 1.3178246  </td><td>5.9422451   </td><td> 5.42833401 </td><td> 3.7615401  </td><td> 4.6330418  </td><td> 3.7889985  </td><td> 4.0317970  </td><td> 3.7935031  </td></tr>\n",
       "</tbody>\n",
       "</table>\n"
      ],
      "text/latex": [
       "\\begin{tabular}{llllllllllllllllllllllllllllllllllllllllllllllllllllllllllllllllllllllllllllllllllllllllllllllllllll}\n",
       "\t  0.7818209   &  1.9782132   & -1.0583796   & -0.2180632   & -1.2292619   &  1.283105739 & -0.7850257   & -1.2098085   & -0.2629123   & -0.2811265   & ...          & 0.9880065    & 2.0714329    & -0.5161941   & 1.2406551    &  0.67839693  & -0.8463077   & -0.9546873   & -0.2617622   &  0.1019834   & -0.9806446  \\\\\n",
       "\t -0.9781283   & -0.1060374   & -1.1683179   & -2.6305076   &  0.2800514   &  1.244579582 &  0.1068987   & -0.3395093   & -0.3451861   &  0.3925811   & ...          & 0.8167917    & 0.3925394    & -0.6003602   & 0.6506814    & -0.01231467  & -2.3282912   & -0.2101530   & -1.0323218   & -1.7303508   &  0.8869040  \\\\\n",
       "\t  0.6212946   &  1.4429986   &  1.1380589   & -0.4557291   &  0.7284076   & -0.004311342 & -0.7514220   & -1.9702965   & -0.2127458   & -1.1513403   & ...          & 0.0183286    & 1.0479894    & -1.4337662   & 0.6480398    &  0.12721249  & -1.7222982   &  0.5089023   &  1.7818815   & -0.5524783   &  0.3000167  \\\\\n",
       "\t  0.3870549   &  1.2677141   &  0.6526088   & -1.3063429   & -0.5123200   &  1.023550391 & -2.5342075   & -0.1560631   &  0.1697668   &  0.1072972   & ...          & 2.4082128    & 2.1728712    & -0.5778023   & 0.5636726    & -1.08890537  & -2.6386386   &  1.1215126   & -0.5556069   & -1.6446033   & -0.5535393  \\\\\n",
       "\t  2.9830198   &  3.6975379   &  4.4475427   &  1.9018617   &  0.5443050   &  4.986002419 &  2.1759363   &  3.0791580   &  4.4621049   &  4.2707802   & ...          & 5.8363414    & 5.2416996    &  0.7050719   & 3.6588027    &  4.40449132  &  2.0436932   &  4.8873421   &  2.8705292   &  3.1958533   &  2.8159049  \\\\\n",
       "\t  2.7555755   &  5.1303215   &  6.1123337   &  1.9699056   &  3.4001245   &  4.129816629 &  3.0435111   &  2.2445508   &  1.8809765   &  3.7159585   & ...          & 6.2818590    & 6.3756143    &  0.8711538   & 3.1420060    &  5.72712592  &  2.6053729   &  5.2559298   &  2.7259073   &  2.0697897   &  3.5299622  \\\\\n",
       "\t  2.6687188   &  1.5485404   &  2.7435196   &  4.3088381   &  4.2991803   &  5.919042341 &  0.2456549   &  3.6624051   &  3.6218037   &  4.5199955   & ...          & 4.4589167    & 3.6128137    &  1.6248611   & 4.7755817    &  3.74134505  &  2.8404798   &  4.3986723   &  4.0254016   &  3.1937380   &  3.6646006  \\\\\n",
       "\t  4.2871882   &  3.6162562   &  4.0495947   &  2.7909577   &  3.2636505   &  3.656563342 &  2.7463644   &  3.6239137   &  2.9402564   &  3.0974810   & ...          & 6.6620013    & 3.6400845    &  1.3178246   & 5.9422451    &  5.42833401  &  3.7615401   &  4.6330418   &  3.7889985   &  4.0317970   &  3.7935031  \\\\\n",
       "\\end{tabular}\n"
      ],
      "text/markdown": [
       "\n",
       "|  0.7818209   |  1.9782132   | -1.0583796   | -0.2180632   | -1.2292619   |  1.283105739 | -0.7850257   | -1.2098085   | -0.2629123   | -0.2811265   | ...          | 0.9880065    | 2.0714329    | -0.5161941   | 1.2406551    |  0.67839693  | -0.8463077   | -0.9546873   | -0.2617622   |  0.1019834   | -0.9806446   |\n",
       "| -0.9781283   | -0.1060374   | -1.1683179   | -2.6305076   |  0.2800514   |  1.244579582 |  0.1068987   | -0.3395093   | -0.3451861   |  0.3925811   | ...          | 0.8167917    | 0.3925394    | -0.6003602   | 0.6506814    | -0.01231467  | -2.3282912   | -0.2101530   | -1.0323218   | -1.7303508   |  0.8869040   |\n",
       "|  0.6212946   |  1.4429986   |  1.1380589   | -0.4557291   |  0.7284076   | -0.004311342 | -0.7514220   | -1.9702965   | -0.2127458   | -1.1513403   | ...          | 0.0183286    | 1.0479894    | -1.4337662   | 0.6480398    |  0.12721249  | -1.7222982   |  0.5089023   |  1.7818815   | -0.5524783   |  0.3000167   |\n",
       "|  0.3870549   |  1.2677141   |  0.6526088   | -1.3063429   | -0.5123200   |  1.023550391 | -2.5342075   | -0.1560631   |  0.1697668   |  0.1072972   | ...          | 2.4082128    | 2.1728712    | -0.5778023   | 0.5636726    | -1.08890537  | -2.6386386   |  1.1215126   | -0.5556069   | -1.6446033   | -0.5535393   |\n",
       "|  2.9830198   |  3.6975379   |  4.4475427   |  1.9018617   |  0.5443050   |  4.986002419 |  2.1759363   |  3.0791580   |  4.4621049   |  4.2707802   | ...          | 5.8363414    | 5.2416996    |  0.7050719   | 3.6588027    |  4.40449132  |  2.0436932   |  4.8873421   |  2.8705292   |  3.1958533   |  2.8159049   |\n",
       "|  2.7555755   |  5.1303215   |  6.1123337   |  1.9699056   |  3.4001245   |  4.129816629 |  3.0435111   |  2.2445508   |  1.8809765   |  3.7159585   | ...          | 6.2818590    | 6.3756143    |  0.8711538   | 3.1420060    |  5.72712592  |  2.6053729   |  5.2559298   |  2.7259073   |  2.0697897   |  3.5299622   |\n",
       "|  2.6687188   |  1.5485404   |  2.7435196   |  4.3088381   |  4.2991803   |  5.919042341 |  0.2456549   |  3.6624051   |  3.6218037   |  4.5199955   | ...          | 4.4589167    | 3.6128137    |  1.6248611   | 4.7755817    |  3.74134505  |  2.8404798   |  4.3986723   |  4.0254016   |  3.1937380   |  3.6646006   |\n",
       "|  4.2871882   |  3.6162562   |  4.0495947   |  2.7909577   |  3.2636505   |  3.656563342 |  2.7463644   |  3.6239137   |  2.9402564   |  3.0974810   | ...          | 6.6620013    | 3.6400845    |  1.3178246   | 5.9422451    |  5.42833401  |  3.7615401   |  4.6330418   |  3.7889985   |  4.0317970   |  3.7935031   |\n",
       "\n"
      ],
      "text/plain": [
       "     [,1]       [,2]       [,3]       [,4]       [,5]       [,6]        \n",
       "[1,]  0.7818209  1.9782132 -1.0583796 -0.2180632 -1.2292619  1.283105739\n",
       "[2,] -0.9781283 -0.1060374 -1.1683179 -2.6305076  0.2800514  1.244579582\n",
       "[3,]  0.6212946  1.4429986  1.1380589 -0.4557291  0.7284076 -0.004311342\n",
       "[4,]  0.3870549  1.2677141  0.6526088 -1.3063429 -0.5123200  1.023550391\n",
       "[5,]  2.9830198  3.6975379  4.4475427  1.9018617  0.5443050  4.986002419\n",
       "[6,]  2.7555755  5.1303215  6.1123337  1.9699056  3.4001245  4.129816629\n",
       "[7,]  2.6687188  1.5485404  2.7435196  4.3088381  4.2991803  5.919042341\n",
       "[8,]  4.2871882  3.6162562  4.0495947  2.7909577  3.2636505  3.656563342\n",
       "     [,7]       [,8]       [,9]       [,10]      [,11] [,12]     [,13]    \n",
       "[1,] -0.7850257 -1.2098085 -0.2629123 -0.2811265 ...   0.9880065 2.0714329\n",
       "[2,]  0.1068987 -0.3395093 -0.3451861  0.3925811 ...   0.8167917 0.3925394\n",
       "[3,] -0.7514220 -1.9702965 -0.2127458 -1.1513403 ...   0.0183286 1.0479894\n",
       "[4,] -2.5342075 -0.1560631  0.1697668  0.1072972 ...   2.4082128 2.1728712\n",
       "[5,]  2.1759363  3.0791580  4.4621049  4.2707802 ...   5.8363414 5.2416996\n",
       "[6,]  3.0435111  2.2445508  1.8809765  3.7159585 ...   6.2818590 6.3756143\n",
       "[7,]  0.2456549  3.6624051  3.6218037  4.5199955 ...   4.4589167 3.6128137\n",
       "[8,]  2.7463644  3.6239137  2.9402564  3.0974810 ...   6.6620013 3.6400845\n",
       "     [,14]      [,15]     [,16]       [,17]      [,18]      [,19]     \n",
       "[1,] -0.5161941 1.2406551  0.67839693 -0.8463077 -0.9546873 -0.2617622\n",
       "[2,] -0.6003602 0.6506814 -0.01231467 -2.3282912 -0.2101530 -1.0323218\n",
       "[3,] -1.4337662 0.6480398  0.12721249 -1.7222982  0.5089023  1.7818815\n",
       "[4,] -0.5778023 0.5636726 -1.08890537 -2.6386386  1.1215126 -0.5556069\n",
       "[5,]  0.7050719 3.6588027  4.40449132  2.0436932  4.8873421  2.8705292\n",
       "[6,]  0.8711538 3.1420060  5.72712592  2.6053729  5.2559298  2.7259073\n",
       "[7,]  1.6248611 4.7755817  3.74134505  2.8404798  4.3986723  4.0254016\n",
       "[8,]  1.3178246 5.9422451  5.42833401  3.7615401  4.6330418  3.7889985\n",
       "     [,20]      [,21]     \n",
       "[1,]  0.1019834 -0.9806446\n",
       "[2,] -1.7303508  0.8869040\n",
       "[3,] -0.5524783  0.3000167\n",
       "[4,] -1.6446033 -0.5535393\n",
       "[5,]  3.1958533  2.8159049\n",
       "[6,]  2.0697897  3.5299622\n",
       "[7,]  3.1937380  3.6646006\n",
       "[8,]  4.0317970  3.7935031"
      ]
     },
     "metadata": {},
     "output_type": "display_data"
    },
    {
     "data": {
      "text/html": [
       "<ol class=list-inline>\n",
       "\t<li>800</li>\n",
       "\t<li>4</li>\n",
       "</ol>\n"
      ],
      "text/latex": [
       "\\begin{enumerate*}\n",
       "\\item 800\n",
       "\\item 4\n",
       "\\end{enumerate*}\n"
      ],
      "text/markdown": [
       "1. 800\n",
       "2. 4\n",
       "\n",
       "\n"
      ],
      "text/plain": [
       "[1] 800   4"
      ]
     },
     "metadata": {},
     "output_type": "display_data"
    }
   ],
   "source": [
    "# PERMANENT MOSQUITO NET\n",
    "k<-round(num_house/2)\n",
    "mosquito_net<-sample(c(rep('Yes', k), rep('No', num_house-k)))\n",
    "mosquito_net<-matrix(mosquito_net, nc=num_house, nr=8, byrow=T)\n",
    "mosquito_net\n",
    "mosquito_net_effect<-(mosquito_net=='Yes')*(-0.5) # EFFECT IS -0.5\n",
    "mosquito_net_effect\n",
    "# CALCULATE LOG MEAN COUNT\n",
    "log_lambda<-house_effect+overdispersion_effect+month_effect+mosquito_net_effect\n",
    "# SAMEPLE POISSON COUNT\n",
    "mosquito_count<-rpois(length(log_lambda), exp(log_lambda))\n",
    "# PUT EVERYTHING INTO A DATA FRAME\n",
    "dat<-data.frame(mosquito_count=as.vector(mosquito_count), \n",
    "                house_ID=as.vector(house_ID), \n",
    "                month=as.vector(month), mosquito_net=as.vector(mosquito_net))\n",
    "# SET VARIABLES AS FACTORS\n",
    "dat$house_ID<-factor(dat$house_ID)\n",
    "dat$month<-factor(dat$month, levels=c('Jan', 'July'))\n",
    "dat$mosquito_net<-factor(dat$mosquito_net, levels=c('No', 'Yes'))\n",
    "dim(dat)"
   ]
  },
  {
   "cell_type": "code",
   "execution_count": 13,
   "id": "9e8dd9c8",
   "metadata": {},
   "outputs": [
    {
     "data": {
      "text/plain": [
       "Generalized linear mixed model fit by maximum likelihood (Laplace\n",
       "  Approximation) [glmerMod]\n",
       " Family: poisson  ( log )\n",
       "Formula: mosquito_count ~ (1 | house_ID) + (1 | overdispersion) + month +  \n",
       "    mosquito_net\n",
       "   Data: dat\n",
       "Control: glmerControl(optimizer = \"bobyqa\", optCtrl = list(maxfun = 2e+05))\n",
       "\n",
       "     AIC      BIC   logLik deviance df.resid \n",
       "  5865.8   5889.2  -2927.9   5855.8      795 \n",
       "\n",
       "Scaled residuals: \n",
       "     Min       1Q   Median       3Q      Max \n",
       "-1.16166 -0.32925 -0.01778  0.10307  1.14891 \n",
       "\n",
       "Random effects:\n",
       " Groups         Name        Variance Std.Dev.\n",
       " overdispersion (Intercept) 0.8899   0.9434  \n",
       " house_ID       (Intercept) 0.6162   0.7850  \n",
       "Number of obs: 800, groups:  overdispersion, 800; house_ID, 100\n",
       "\n",
       "Fixed effects:\n",
       "                Estimate Std. Error z value Pr(>|z|)    \n",
       "(Intercept)      0.48643    0.13406   3.628 0.000285 ***\n",
       "monthJuly        3.52748    0.08214  42.942  < 2e-16 ***\n",
       "mosquito_netYes -0.47403    0.17524  -2.705 0.006829 ** \n",
       "---\n",
       "Signif. codes:  0 '***' 0.001 '**' 0.01 '*' 0.05 '.' 0.1 ' ' 1\n",
       "\n",
       "Correlation of Fixed Effects:\n",
       "            (Intr) mnthJl\n",
       "monthJuly   -0.389       \n",
       "mosqut_ntYs -0.637 -0.025"
      ]
     },
     "metadata": {},
     "output_type": "display_data"
    }
   ],
   "source": [
    "# ESTIMATE PARAMETERS \n",
    "overdispersion<-1:nrow(dat)\n",
    "m<-glmer(mosquito_count~(1|house_ID)+(1|overdispersion)+month+mosquito_net, \n",
    "        data=dat, family='poisson', \n",
    "                    control=glmerControl(optimizer=\"bobyqa\",optCtrl=list(maxfun=2e5)))\n",
    "summary(m)"
   ]
  },
  {
   "cell_type": "markdown",
   "id": "b377ff18",
   "metadata": {},
   "source": [
    "The parameter estimates are still ok. \n",
    "\n",
    "### [Extra 2] Confounding mosquito net\n",
    "Below is an extreme case where we intentionally install mosquito nets to high risk houses. It is a plausible scenario for government or locals to distribution mosuqito nets to houses with highest exposure. It is just a natual thing to do. To model this, I give mosquito nets to houses with positive random effects. "
   ]
  },
  {
   "cell_type": "code",
   "execution_count": 14,
   "id": "a3619bcd",
   "metadata": {},
   "outputs": [
    {
     "data": {
      "text/html": [
       "<table>\n",
       "<tbody>\n",
       "\t<tr><td>Yes</td><td>No </td><td>No </td><td>No </td><td>No </td><td>Yes</td><td>No </td><td>No </td><td>No </td><td>No </td><td>...</td><td>Yes</td><td>Yes</td><td>No </td><td>Yes</td><td>Yes</td><td>No </td><td>Yes</td><td>No </td><td>No </td><td>No </td></tr>\n",
       "\t<tr><td>Yes</td><td>No </td><td>No </td><td>No </td><td>No </td><td>Yes</td><td>No </td><td>No </td><td>No </td><td>No </td><td>...</td><td>Yes</td><td>Yes</td><td>No </td><td>Yes</td><td>Yes</td><td>No </td><td>Yes</td><td>No </td><td>No </td><td>No </td></tr>\n",
       "\t<tr><td>Yes</td><td>No </td><td>No </td><td>No </td><td>No </td><td>Yes</td><td>No </td><td>No </td><td>No </td><td>No </td><td>...</td><td>Yes</td><td>Yes</td><td>No </td><td>Yes</td><td>Yes</td><td>No </td><td>Yes</td><td>No </td><td>No </td><td>No </td></tr>\n",
       "\t<tr><td>Yes</td><td>No </td><td>No </td><td>No </td><td>No </td><td>Yes</td><td>No </td><td>No </td><td>No </td><td>No </td><td>...</td><td>Yes</td><td>Yes</td><td>No </td><td>Yes</td><td>Yes</td><td>No </td><td>Yes</td><td>No </td><td>No </td><td>No </td></tr>\n",
       "\t<tr><td>Yes</td><td>No </td><td>No </td><td>No </td><td>No </td><td>Yes</td><td>No </td><td>No </td><td>No </td><td>No </td><td>...</td><td>Yes</td><td>Yes</td><td>No </td><td>Yes</td><td>Yes</td><td>No </td><td>Yes</td><td>No </td><td>No </td><td>No </td></tr>\n",
       "\t<tr><td>Yes</td><td>No </td><td>No </td><td>No </td><td>No </td><td>Yes</td><td>No </td><td>No </td><td>No </td><td>No </td><td>...</td><td>Yes</td><td>Yes</td><td>No </td><td>Yes</td><td>Yes</td><td>No </td><td>Yes</td><td>No </td><td>No </td><td>No </td></tr>\n",
       "\t<tr><td>Yes</td><td>No </td><td>No </td><td>No </td><td>No </td><td>Yes</td><td>No </td><td>No </td><td>No </td><td>No </td><td>...</td><td>Yes</td><td>Yes</td><td>No </td><td>Yes</td><td>Yes</td><td>No </td><td>Yes</td><td>No </td><td>No </td><td>No </td></tr>\n",
       "\t<tr><td>Yes</td><td>No </td><td>No </td><td>No </td><td>No </td><td>Yes</td><td>No </td><td>No </td><td>No </td><td>No </td><td>...</td><td>Yes</td><td>Yes</td><td>No </td><td>Yes</td><td>Yes</td><td>No </td><td>Yes</td><td>No </td><td>No </td><td>No </td></tr>\n",
       "</tbody>\n",
       "</table>\n"
      ],
      "text/latex": [
       "\\begin{tabular}{llllllllllllllllllllllllllllllllllllllllllllllllllllllllllllllllllllllllllllllllllllllllllllllllllll}\n",
       "\t Yes & No  & No  & No  & No  & Yes & No  & No  & No  & No  & ... & Yes & Yes & No  & Yes & Yes & No  & Yes & No  & No  & No \\\\\n",
       "\t Yes & No  & No  & No  & No  & Yes & No  & No  & No  & No  & ... & Yes & Yes & No  & Yes & Yes & No  & Yes & No  & No  & No \\\\\n",
       "\t Yes & No  & No  & No  & No  & Yes & No  & No  & No  & No  & ... & Yes & Yes & No  & Yes & Yes & No  & Yes & No  & No  & No \\\\\n",
       "\t Yes & No  & No  & No  & No  & Yes & No  & No  & No  & No  & ... & Yes & Yes & No  & Yes & Yes & No  & Yes & No  & No  & No \\\\\n",
       "\t Yes & No  & No  & No  & No  & Yes & No  & No  & No  & No  & ... & Yes & Yes & No  & Yes & Yes & No  & Yes & No  & No  & No \\\\\n",
       "\t Yes & No  & No  & No  & No  & Yes & No  & No  & No  & No  & ... & Yes & Yes & No  & Yes & Yes & No  & Yes & No  & No  & No \\\\\n",
       "\t Yes & No  & No  & No  & No  & Yes & No  & No  & No  & No  & ... & Yes & Yes & No  & Yes & Yes & No  & Yes & No  & No  & No \\\\\n",
       "\t Yes & No  & No  & No  & No  & Yes & No  & No  & No  & No  & ... & Yes & Yes & No  & Yes & Yes & No  & Yes & No  & No  & No \\\\\n",
       "\\end{tabular}\n"
      ],
      "text/markdown": [
       "\n",
       "| Yes | No  | No  | No  | No  | Yes | No  | No  | No  | No  | ... | Yes | Yes | No  | Yes | Yes | No  | Yes | No  | No  | No  |\n",
       "| Yes | No  | No  | No  | No  | Yes | No  | No  | No  | No  | ... | Yes | Yes | No  | Yes | Yes | No  | Yes | No  | No  | No  |\n",
       "| Yes | No  | No  | No  | No  | Yes | No  | No  | No  | No  | ... | Yes | Yes | No  | Yes | Yes | No  | Yes | No  | No  | No  |\n",
       "| Yes | No  | No  | No  | No  | Yes | No  | No  | No  | No  | ... | Yes | Yes | No  | Yes | Yes | No  | Yes | No  | No  | No  |\n",
       "| Yes | No  | No  | No  | No  | Yes | No  | No  | No  | No  | ... | Yes | Yes | No  | Yes | Yes | No  | Yes | No  | No  | No  |\n",
       "| Yes | No  | No  | No  | No  | Yes | No  | No  | No  | No  | ... | Yes | Yes | No  | Yes | Yes | No  | Yes | No  | No  | No  |\n",
       "| Yes | No  | No  | No  | No  | Yes | No  | No  | No  | No  | ... | Yes | Yes | No  | Yes | Yes | No  | Yes | No  | No  | No  |\n",
       "| Yes | No  | No  | No  | No  | Yes | No  | No  | No  | No  | ... | Yes | Yes | No  | Yes | Yes | No  | Yes | No  | No  | No  |\n",
       "\n"
      ],
      "text/plain": [
       "     [,1] [,2] [,3] [,4] [,5] [,6] [,7] [,8] [,9] [,10] [,11] [,12] [,13] [,14]\n",
       "[1,] Yes  No   No   No   No   Yes  No   No   No   No    ...   Yes   Yes   No   \n",
       "[2,] Yes  No   No   No   No   Yes  No   No   No   No    ...   Yes   Yes   No   \n",
       "[3,] Yes  No   No   No   No   Yes  No   No   No   No    ...   Yes   Yes   No   \n",
       "[4,] Yes  No   No   No   No   Yes  No   No   No   No    ...   Yes   Yes   No   \n",
       "[5,] Yes  No   No   No   No   Yes  No   No   No   No    ...   Yes   Yes   No   \n",
       "[6,] Yes  No   No   No   No   Yes  No   No   No   No    ...   Yes   Yes   No   \n",
       "[7,] Yes  No   No   No   No   Yes  No   No   No   No    ...   Yes   Yes   No   \n",
       "[8,] Yes  No   No   No   No   Yes  No   No   No   No    ...   Yes   Yes   No   \n",
       "     [,15] [,16] [,17] [,18] [,19] [,20] [,21]\n",
       "[1,] Yes   Yes   No    Yes   No    No    No   \n",
       "[2,] Yes   Yes   No    Yes   No    No    No   \n",
       "[3,] Yes   Yes   No    Yes   No    No    No   \n",
       "[4,] Yes   Yes   No    Yes   No    No    No   \n",
       "[5,] Yes   Yes   No    Yes   No    No    No   \n",
       "[6,] Yes   Yes   No    Yes   No    No    No   \n",
       "[7,] Yes   Yes   No    Yes   No    No    No   \n",
       "[8,] Yes   Yes   No    Yes   No    No    No   "
      ]
     },
     "metadata": {},
     "output_type": "display_data"
    },
    {
     "data": {
      "text/html": [
       "<table>\n",
       "<tbody>\n",
       "\t<tr><td>-0.5</td><td>0   </td><td>0   </td><td>0   </td><td>0   </td><td>-0.5</td><td>0   </td><td>0   </td><td>0   </td><td>0   </td><td>... </td><td>-0.5</td><td>-0.5</td><td>0   </td><td>-0.5</td><td>-0.5</td><td>0   </td><td>-0.5</td><td>0   </td><td>0   </td><td>0   </td></tr>\n",
       "\t<tr><td>-0.5</td><td>0   </td><td>0   </td><td>0   </td><td>0   </td><td>-0.5</td><td>0   </td><td>0   </td><td>0   </td><td>0   </td><td>... </td><td>-0.5</td><td>-0.5</td><td>0   </td><td>-0.5</td><td>-0.5</td><td>0   </td><td>-0.5</td><td>0   </td><td>0   </td><td>0   </td></tr>\n",
       "\t<tr><td>-0.5</td><td>0   </td><td>0   </td><td>0   </td><td>0   </td><td>-0.5</td><td>0   </td><td>0   </td><td>0   </td><td>0   </td><td>... </td><td>-0.5</td><td>-0.5</td><td>0   </td><td>-0.5</td><td>-0.5</td><td>0   </td><td>-0.5</td><td>0   </td><td>0   </td><td>0   </td></tr>\n",
       "\t<tr><td>-0.5</td><td>0   </td><td>0   </td><td>0   </td><td>0   </td><td>-0.5</td><td>0   </td><td>0   </td><td>0   </td><td>0   </td><td>... </td><td>-0.5</td><td>-0.5</td><td>0   </td><td>-0.5</td><td>-0.5</td><td>0   </td><td>-0.5</td><td>0   </td><td>0   </td><td>0   </td></tr>\n",
       "\t<tr><td>-0.5</td><td>0   </td><td>0   </td><td>0   </td><td>0   </td><td>-0.5</td><td>0   </td><td>0   </td><td>0   </td><td>0   </td><td>... </td><td>-0.5</td><td>-0.5</td><td>0   </td><td>-0.5</td><td>-0.5</td><td>0   </td><td>-0.5</td><td>0   </td><td>0   </td><td>0   </td></tr>\n",
       "\t<tr><td>-0.5</td><td>0   </td><td>0   </td><td>0   </td><td>0   </td><td>-0.5</td><td>0   </td><td>0   </td><td>0   </td><td>0   </td><td>... </td><td>-0.5</td><td>-0.5</td><td>0   </td><td>-0.5</td><td>-0.5</td><td>0   </td><td>-0.5</td><td>0   </td><td>0   </td><td>0   </td></tr>\n",
       "\t<tr><td>-0.5</td><td>0   </td><td>0   </td><td>0   </td><td>0   </td><td>-0.5</td><td>0   </td><td>0   </td><td>0   </td><td>0   </td><td>... </td><td>-0.5</td><td>-0.5</td><td>0   </td><td>-0.5</td><td>-0.5</td><td>0   </td><td>-0.5</td><td>0   </td><td>0   </td><td>0   </td></tr>\n",
       "\t<tr><td>-0.5</td><td>0   </td><td>0   </td><td>0   </td><td>0   </td><td>-0.5</td><td>0   </td><td>0   </td><td>0   </td><td>0   </td><td>... </td><td>-0.5</td><td>-0.5</td><td>0   </td><td>-0.5</td><td>-0.5</td><td>0   </td><td>-0.5</td><td>0   </td><td>0   </td><td>0   </td></tr>\n",
       "</tbody>\n",
       "</table>\n"
      ],
      "text/latex": [
       "\\begin{tabular}{llllllllllllllllllllllllllllllllllllllllllllllllllllllllllllllllllllllllllllllllllllllllllllllllllll}\n",
       "\t -0.5 & 0    & 0    & 0    & 0    & -0.5 & 0    & 0    & 0    & 0    & ...  & -0.5 & -0.5 & 0    & -0.5 & -0.5 & 0    & -0.5 & 0    & 0    & 0   \\\\\n",
       "\t -0.5 & 0    & 0    & 0    & 0    & -0.5 & 0    & 0    & 0    & 0    & ...  & -0.5 & -0.5 & 0    & -0.5 & -0.5 & 0    & -0.5 & 0    & 0    & 0   \\\\\n",
       "\t -0.5 & 0    & 0    & 0    & 0    & -0.5 & 0    & 0    & 0    & 0    & ...  & -0.5 & -0.5 & 0    & -0.5 & -0.5 & 0    & -0.5 & 0    & 0    & 0   \\\\\n",
       "\t -0.5 & 0    & 0    & 0    & 0    & -0.5 & 0    & 0    & 0    & 0    & ...  & -0.5 & -0.5 & 0    & -0.5 & -0.5 & 0    & -0.5 & 0    & 0    & 0   \\\\\n",
       "\t -0.5 & 0    & 0    & 0    & 0    & -0.5 & 0    & 0    & 0    & 0    & ...  & -0.5 & -0.5 & 0    & -0.5 & -0.5 & 0    & -0.5 & 0    & 0    & 0   \\\\\n",
       "\t -0.5 & 0    & 0    & 0    & 0    & -0.5 & 0    & 0    & 0    & 0    & ...  & -0.5 & -0.5 & 0    & -0.5 & -0.5 & 0    & -0.5 & 0    & 0    & 0   \\\\\n",
       "\t -0.5 & 0    & 0    & 0    & 0    & -0.5 & 0    & 0    & 0    & 0    & ...  & -0.5 & -0.5 & 0    & -0.5 & -0.5 & 0    & -0.5 & 0    & 0    & 0   \\\\\n",
       "\t -0.5 & 0    & 0    & 0    & 0    & -0.5 & 0    & 0    & 0    & 0    & ...  & -0.5 & -0.5 & 0    & -0.5 & -0.5 & 0    & -0.5 & 0    & 0    & 0   \\\\\n",
       "\\end{tabular}\n"
      ],
      "text/markdown": [
       "\n",
       "| -0.5 | 0    | 0    | 0    | 0    | -0.5 | 0    | 0    | 0    | 0    | ...  | -0.5 | -0.5 | 0    | -0.5 | -0.5 | 0    | -0.5 | 0    | 0    | 0    |\n",
       "| -0.5 | 0    | 0    | 0    | 0    | -0.5 | 0    | 0    | 0    | 0    | ...  | -0.5 | -0.5 | 0    | -0.5 | -0.5 | 0    | -0.5 | 0    | 0    | 0    |\n",
       "| -0.5 | 0    | 0    | 0    | 0    | -0.5 | 0    | 0    | 0    | 0    | ...  | -0.5 | -0.5 | 0    | -0.5 | -0.5 | 0    | -0.5 | 0    | 0    | 0    |\n",
       "| -0.5 | 0    | 0    | 0    | 0    | -0.5 | 0    | 0    | 0    | 0    | ...  | -0.5 | -0.5 | 0    | -0.5 | -0.5 | 0    | -0.5 | 0    | 0    | 0    |\n",
       "| -0.5 | 0    | 0    | 0    | 0    | -0.5 | 0    | 0    | 0    | 0    | ...  | -0.5 | -0.5 | 0    | -0.5 | -0.5 | 0    | -0.5 | 0    | 0    | 0    |\n",
       "| -0.5 | 0    | 0    | 0    | 0    | -0.5 | 0    | 0    | 0    | 0    | ...  | -0.5 | -0.5 | 0    | -0.5 | -0.5 | 0    | -0.5 | 0    | 0    | 0    |\n",
       "| -0.5 | 0    | 0    | 0    | 0    | -0.5 | 0    | 0    | 0    | 0    | ...  | -0.5 | -0.5 | 0    | -0.5 | -0.5 | 0    | -0.5 | 0    | 0    | 0    |\n",
       "| -0.5 | 0    | 0    | 0    | 0    | -0.5 | 0    | 0    | 0    | 0    | ...  | -0.5 | -0.5 | 0    | -0.5 | -0.5 | 0    | -0.5 | 0    | 0    | 0    |\n",
       "\n"
      ],
      "text/plain": [
       "     [,1] [,2] [,3] [,4] [,5] [,6] [,7] [,8] [,9] [,10] [,11] [,12] [,13] [,14]\n",
       "[1,] -0.5 0    0    0    0    -0.5 0    0    0    0     ...   -0.5  -0.5  0    \n",
       "[2,] -0.5 0    0    0    0    -0.5 0    0    0    0     ...   -0.5  -0.5  0    \n",
       "[3,] -0.5 0    0    0    0    -0.5 0    0    0    0     ...   -0.5  -0.5  0    \n",
       "[4,] -0.5 0    0    0    0    -0.5 0    0    0    0     ...   -0.5  -0.5  0    \n",
       "[5,] -0.5 0    0    0    0    -0.5 0    0    0    0     ...   -0.5  -0.5  0    \n",
       "[6,] -0.5 0    0    0    0    -0.5 0    0    0    0     ...   -0.5  -0.5  0    \n",
       "[7,] -0.5 0    0    0    0    -0.5 0    0    0    0     ...   -0.5  -0.5  0    \n",
       "[8,] -0.5 0    0    0    0    -0.5 0    0    0    0     ...   -0.5  -0.5  0    \n",
       "     [,15] [,16] [,17] [,18] [,19] [,20] [,21]\n",
       "[1,] -0.5  -0.5  0     -0.5  0     0     0    \n",
       "[2,] -0.5  -0.5  0     -0.5  0     0     0    \n",
       "[3,] -0.5  -0.5  0     -0.5  0     0     0    \n",
       "[4,] -0.5  -0.5  0     -0.5  0     0     0    \n",
       "[5,] -0.5  -0.5  0     -0.5  0     0     0    \n",
       "[6,] -0.5  -0.5  0     -0.5  0     0     0    \n",
       "[7,] -0.5  -0.5  0     -0.5  0     0     0    \n",
       "[8,] -0.5  -0.5  0     -0.5  0     0     0    "
      ]
     },
     "metadata": {},
     "output_type": "display_data"
    },
    {
     "data": {
      "text/html": [
       "<table>\n",
       "<tbody>\n",
       "\t<tr><td> 0.7818209 </td><td> 1.9782132 </td><td>-1.0583796 </td><td> 0.28193680</td><td>-1.2292619 </td><td> 0.7831057 </td><td>-0.7850257 </td><td>-0.7098085 </td><td>0.2370877  </td><td>-0.2811265 </td><td>...        </td><td> 0.4880065 </td><td> 1.5714329 </td><td>-0.5161941 </td><td>0.74065508 </td><td> 0.1783969 </td><td>-0.3463077 </td><td>-0.9546873 </td><td>-0.2617622 </td><td> 0.60198342</td><td>-0.9806446 </td></tr>\n",
       "\t<tr><td>-0.9781283 </td><td>-0.1060374 </td><td>-1.1683179 </td><td>-2.13050765</td><td> 0.2800514 </td><td> 0.7445796 </td><td> 0.1068987 </td><td> 0.1604907 </td><td>0.1548139  </td><td> 0.3925811 </td><td>...        </td><td> 0.3167917 </td><td>-0.1074606 </td><td>-0.6003602 </td><td>0.15068141 </td><td>-0.5123147 </td><td>-1.8282912 </td><td>-0.2101530 </td><td>-1.0323218 </td><td>-1.23035082</td><td> 0.8869040 </td></tr>\n",
       "\t<tr><td> 0.6212946 </td><td> 1.4429986 </td><td> 1.1380589 </td><td> 0.04427088</td><td> 0.7284076 </td><td>-0.5043113 </td><td>-0.7514220 </td><td>-1.4702965 </td><td>0.2872542  </td><td>-1.1513403 </td><td>...        </td><td>-0.4816714 </td><td> 0.5479894 </td><td>-1.4337662 </td><td>0.14803982 </td><td>-0.3727875 </td><td>-1.2222982 </td><td> 0.5089023 </td><td> 1.7818815 </td><td>-0.05247828</td><td> 0.3000167 </td></tr>\n",
       "\t<tr><td> 0.3870549 </td><td> 1.2677141 </td><td> 0.6526088 </td><td>-0.80634295</td><td>-0.5123200 </td><td> 0.5235504 </td><td>-2.5342075 </td><td> 0.3439369 </td><td>0.6697668  </td><td> 0.1072972 </td><td>...        </td><td> 1.9082128 </td><td> 1.6728712 </td><td>-0.5778023 </td><td>0.06367257 </td><td>-1.5889054 </td><td>-2.1386386 </td><td> 1.1215126 </td><td>-0.5556069 </td><td>-1.14460331</td><td>-0.5535393 </td></tr>\n",
       "\t<tr><td> 2.9830198 </td><td> 3.6975379 </td><td> 4.4475427 </td><td> 2.40186166</td><td> 0.5443050 </td><td> 4.4860024 </td><td> 2.1759363 </td><td> 3.5791580 </td><td>4.9621049  </td><td> 4.2707802 </td><td>...        </td><td> 5.3363414 </td><td> 4.7416996 </td><td> 0.7050719 </td><td>3.15880275 </td><td> 3.9044913 </td><td> 2.5436932 </td><td> 4.8873421 </td><td> 2.8705292 </td><td> 3.69585333</td><td> 2.8159049 </td></tr>\n",
       "\t<tr><td> 2.7555755 </td><td> 5.1303215 </td><td> 6.1123337 </td><td> 2.46990561</td><td> 3.4001245 </td><td> 3.6298166 </td><td> 3.0435111 </td><td> 2.7445508 </td><td>2.3809765  </td><td> 3.7159585 </td><td>...        </td><td> 5.7818590 </td><td> 5.8756143 </td><td> 0.8711538 </td><td>2.64200598 </td><td> 5.2271259 </td><td> 3.1053729 </td><td> 5.2559298 </td><td> 2.7259073 </td><td> 2.56978966</td><td> 3.5299622 </td></tr>\n",
       "\t<tr><td> 2.6687188 </td><td> 1.5485404 </td><td> 2.7435196 </td><td> 4.80883807</td><td> 4.2991803 </td><td> 5.4190423 </td><td> 0.2456549 </td><td> 4.1624051 </td><td>4.1218037  </td><td> 4.5199955 </td><td>...        </td><td> 3.9589167 </td><td> 3.1128137 </td><td> 1.6248611 </td><td>4.27558168 </td><td> 3.2413451 </td><td> 3.3404798 </td><td> 4.3986723 </td><td> 4.0254016 </td><td> 3.69373804</td><td> 3.6646006 </td></tr>\n",
       "\t<tr><td> 4.2871882 </td><td> 3.6162562 </td><td> 4.0495947 </td><td> 3.29095771</td><td> 3.2636505 </td><td> 3.1565633 </td><td> 2.7463644 </td><td> 4.1239137 </td><td>3.4402564  </td><td> 3.0974810 </td><td>...        </td><td> 6.1620013 </td><td> 3.1400845 </td><td> 1.3178246 </td><td>5.44224514 </td><td> 4.9283340 </td><td> 4.2615401 </td><td> 4.6330418 </td><td> 3.7889985 </td><td> 4.53179697</td><td> 3.7935031 </td></tr>\n",
       "</tbody>\n",
       "</table>\n"
      ],
      "text/latex": [
       "\\begin{tabular}{llllllllllllllllllllllllllllllllllllllllllllllllllllllllllllllllllllllllllllllllllllllllllllllllllll}\n",
       "\t  0.7818209  &  1.9782132  & -1.0583796  &  0.28193680 & -1.2292619  &  0.7831057  & -0.7850257  & -0.7098085  & 0.2370877   & -0.2811265  & ...         &  0.4880065  &  1.5714329  & -0.5161941  & 0.74065508  &  0.1783969  & -0.3463077  & -0.9546873  & -0.2617622  &  0.60198342 & -0.9806446 \\\\\n",
       "\t -0.9781283  & -0.1060374  & -1.1683179  & -2.13050765 &  0.2800514  &  0.7445796  &  0.1068987  &  0.1604907  & 0.1548139   &  0.3925811  & ...         &  0.3167917  & -0.1074606  & -0.6003602  & 0.15068141  & -0.5123147  & -1.8282912  & -0.2101530  & -1.0323218  & -1.23035082 &  0.8869040 \\\\\n",
       "\t  0.6212946  &  1.4429986  &  1.1380589  &  0.04427088 &  0.7284076  & -0.5043113  & -0.7514220  & -1.4702965  & 0.2872542   & -1.1513403  & ...         & -0.4816714  &  0.5479894  & -1.4337662  & 0.14803982  & -0.3727875  & -1.2222982  &  0.5089023  &  1.7818815  & -0.05247828 &  0.3000167 \\\\\n",
       "\t  0.3870549  &  1.2677141  &  0.6526088  & -0.80634295 & -0.5123200  &  0.5235504  & -2.5342075  &  0.3439369  & 0.6697668   &  0.1072972  & ...         &  1.9082128  &  1.6728712  & -0.5778023  & 0.06367257  & -1.5889054  & -2.1386386  &  1.1215126  & -0.5556069  & -1.14460331 & -0.5535393 \\\\\n",
       "\t  2.9830198  &  3.6975379  &  4.4475427  &  2.40186166 &  0.5443050  &  4.4860024  &  2.1759363  &  3.5791580  & 4.9621049   &  4.2707802  & ...         &  5.3363414  &  4.7416996  &  0.7050719  & 3.15880275  &  3.9044913  &  2.5436932  &  4.8873421  &  2.8705292  &  3.69585333 &  2.8159049 \\\\\n",
       "\t  2.7555755  &  5.1303215  &  6.1123337  &  2.46990561 &  3.4001245  &  3.6298166  &  3.0435111  &  2.7445508  & 2.3809765   &  3.7159585  & ...         &  5.7818590  &  5.8756143  &  0.8711538  & 2.64200598  &  5.2271259  &  3.1053729  &  5.2559298  &  2.7259073  &  2.56978966 &  3.5299622 \\\\\n",
       "\t  2.6687188  &  1.5485404  &  2.7435196  &  4.80883807 &  4.2991803  &  5.4190423  &  0.2456549  &  4.1624051  & 4.1218037   &  4.5199955  & ...         &  3.9589167  &  3.1128137  &  1.6248611  & 4.27558168  &  3.2413451  &  3.3404798  &  4.3986723  &  4.0254016  &  3.69373804 &  3.6646006 \\\\\n",
       "\t  4.2871882  &  3.6162562  &  4.0495947  &  3.29095771 &  3.2636505  &  3.1565633  &  2.7463644  &  4.1239137  & 3.4402564   &  3.0974810  & ...         &  6.1620013  &  3.1400845  &  1.3178246  & 5.44224514  &  4.9283340  &  4.2615401  &  4.6330418  &  3.7889985  &  4.53179697 &  3.7935031 \\\\\n",
       "\\end{tabular}\n"
      ],
      "text/markdown": [
       "\n",
       "|  0.7818209  |  1.9782132  | -1.0583796  |  0.28193680 | -1.2292619  |  0.7831057  | -0.7850257  | -0.7098085  | 0.2370877   | -0.2811265  | ...         |  0.4880065  |  1.5714329  | -0.5161941  | 0.74065508  |  0.1783969  | -0.3463077  | -0.9546873  | -0.2617622  |  0.60198342 | -0.9806446  |\n",
       "| -0.9781283  | -0.1060374  | -1.1683179  | -2.13050765 |  0.2800514  |  0.7445796  |  0.1068987  |  0.1604907  | 0.1548139   |  0.3925811  | ...         |  0.3167917  | -0.1074606  | -0.6003602  | 0.15068141  | -0.5123147  | -1.8282912  | -0.2101530  | -1.0323218  | -1.23035082 |  0.8869040  |\n",
       "|  0.6212946  |  1.4429986  |  1.1380589  |  0.04427088 |  0.7284076  | -0.5043113  | -0.7514220  | -1.4702965  | 0.2872542   | -1.1513403  | ...         | -0.4816714  |  0.5479894  | -1.4337662  | 0.14803982  | -0.3727875  | -1.2222982  |  0.5089023  |  1.7818815  | -0.05247828 |  0.3000167  |\n",
       "|  0.3870549  |  1.2677141  |  0.6526088  | -0.80634295 | -0.5123200  |  0.5235504  | -2.5342075  |  0.3439369  | 0.6697668   |  0.1072972  | ...         |  1.9082128  |  1.6728712  | -0.5778023  | 0.06367257  | -1.5889054  | -2.1386386  |  1.1215126  | -0.5556069  | -1.14460331 | -0.5535393  |\n",
       "|  2.9830198  |  3.6975379  |  4.4475427  |  2.40186166 |  0.5443050  |  4.4860024  |  2.1759363  |  3.5791580  | 4.9621049   |  4.2707802  | ...         |  5.3363414  |  4.7416996  |  0.7050719  | 3.15880275  |  3.9044913  |  2.5436932  |  4.8873421  |  2.8705292  |  3.69585333 |  2.8159049  |\n",
       "|  2.7555755  |  5.1303215  |  6.1123337  |  2.46990561 |  3.4001245  |  3.6298166  |  3.0435111  |  2.7445508  | 2.3809765   |  3.7159585  | ...         |  5.7818590  |  5.8756143  |  0.8711538  | 2.64200598  |  5.2271259  |  3.1053729  |  5.2559298  |  2.7259073  |  2.56978966 |  3.5299622  |\n",
       "|  2.6687188  |  1.5485404  |  2.7435196  |  4.80883807 |  4.2991803  |  5.4190423  |  0.2456549  |  4.1624051  | 4.1218037   |  4.5199955  | ...         |  3.9589167  |  3.1128137  |  1.6248611  | 4.27558168  |  3.2413451  |  3.3404798  |  4.3986723  |  4.0254016  |  3.69373804 |  3.6646006  |\n",
       "|  4.2871882  |  3.6162562  |  4.0495947  |  3.29095771 |  3.2636505  |  3.1565633  |  2.7463644  |  4.1239137  | 3.4402564   |  3.0974810  | ...         |  6.1620013  |  3.1400845  |  1.3178246  | 5.44224514  |  4.9283340  |  4.2615401  |  4.6330418  |  3.7889985  |  4.53179697 |  3.7935031  |\n",
       "\n"
      ],
      "text/plain": [
       "     [,1]       [,2]       [,3]       [,4]        [,5]       [,6]      \n",
       "[1,]  0.7818209  1.9782132 -1.0583796  0.28193680 -1.2292619  0.7831057\n",
       "[2,] -0.9781283 -0.1060374 -1.1683179 -2.13050765  0.2800514  0.7445796\n",
       "[3,]  0.6212946  1.4429986  1.1380589  0.04427088  0.7284076 -0.5043113\n",
       "[4,]  0.3870549  1.2677141  0.6526088 -0.80634295 -0.5123200  0.5235504\n",
       "[5,]  2.9830198  3.6975379  4.4475427  2.40186166  0.5443050  4.4860024\n",
       "[6,]  2.7555755  5.1303215  6.1123337  2.46990561  3.4001245  3.6298166\n",
       "[7,]  2.6687188  1.5485404  2.7435196  4.80883807  4.2991803  5.4190423\n",
       "[8,]  4.2871882  3.6162562  4.0495947  3.29095771  3.2636505  3.1565633\n",
       "     [,7]       [,8]       [,9]      [,10]      [,11] [,12]      [,13]     \n",
       "[1,] -0.7850257 -0.7098085 0.2370877 -0.2811265 ...    0.4880065  1.5714329\n",
       "[2,]  0.1068987  0.1604907 0.1548139  0.3925811 ...    0.3167917 -0.1074606\n",
       "[3,] -0.7514220 -1.4702965 0.2872542 -1.1513403 ...   -0.4816714  0.5479894\n",
       "[4,] -2.5342075  0.3439369 0.6697668  0.1072972 ...    1.9082128  1.6728712\n",
       "[5,]  2.1759363  3.5791580 4.9621049  4.2707802 ...    5.3363414  4.7416996\n",
       "[6,]  3.0435111  2.7445508 2.3809765  3.7159585 ...    5.7818590  5.8756143\n",
       "[7,]  0.2456549  4.1624051 4.1218037  4.5199955 ...    3.9589167  3.1128137\n",
       "[8,]  2.7463644  4.1239137 3.4402564  3.0974810 ...    6.1620013  3.1400845\n",
       "     [,14]      [,15]      [,16]      [,17]      [,18]      [,19]     \n",
       "[1,] -0.5161941 0.74065508  0.1783969 -0.3463077 -0.9546873 -0.2617622\n",
       "[2,] -0.6003602 0.15068141 -0.5123147 -1.8282912 -0.2101530 -1.0323218\n",
       "[3,] -1.4337662 0.14803982 -0.3727875 -1.2222982  0.5089023  1.7818815\n",
       "[4,] -0.5778023 0.06367257 -1.5889054 -2.1386386  1.1215126 -0.5556069\n",
       "[5,]  0.7050719 3.15880275  3.9044913  2.5436932  4.8873421  2.8705292\n",
       "[6,]  0.8711538 2.64200598  5.2271259  3.1053729  5.2559298  2.7259073\n",
       "[7,]  1.6248611 4.27558168  3.2413451  3.3404798  4.3986723  4.0254016\n",
       "[8,]  1.3178246 5.44224514  4.9283340  4.2615401  4.6330418  3.7889985\n",
       "     [,20]       [,21]     \n",
       "[1,]  0.60198342 -0.9806446\n",
       "[2,] -1.23035082  0.8869040\n",
       "[3,] -0.05247828  0.3000167\n",
       "[4,] -1.14460331 -0.5535393\n",
       "[5,]  3.69585333  2.8159049\n",
       "[6,]  2.56978966  3.5299622\n",
       "[7,]  3.69373804  3.6646006\n",
       "[8,]  4.53179697  3.7935031"
      ]
     },
     "metadata": {},
     "output_type": "display_data"
    },
    {
     "data": {
      "text/html": [
       "<ol class=list-inline>\n",
       "\t<li>800</li>\n",
       "\t<li>4</li>\n",
       "</ol>\n"
      ],
      "text/latex": [
       "\\begin{enumerate*}\n",
       "\\item 800\n",
       "\\item 4\n",
       "\\end{enumerate*}\n"
      ],
      "text/markdown": [
       "1. 800\n",
       "2. 4\n",
       "\n",
       "\n"
      ],
      "text/plain": [
       "[1] 800   4"
      ]
     },
     "metadata": {},
     "output_type": "display_data"
    }
   ],
   "source": [
    "# CONFOUNDING MOSQUITO NET\n",
    "mosquito_net<-matrix('No', nc=num_house, nr=8)\n",
    "mosquito_net[house_effect>=0]<-'Yes' # IF HOUSE EFFECT >0, GIVE MOSQUITO NET\n",
    "mosquito_net_effect<-(mosquito_net=='Yes')*(-0.5) \n",
    "mosquito_net\n",
    "mosquito_net_effect\n",
    "# CALCULATE LOG MEAN COUNT\n",
    "log_lambda<-house_effect+overdispersion_effect+month_effect+mosquito_net_effect\n",
    "log_lambda\n",
    "mosquito_count<-rpois(length(log_lambda), exp(log_lambda))\n",
    "# PUT EVERYTHING INTO A DATA FRAME\n",
    "dat<-data.frame(mosquito_count=as.vector(mosquito_count), \n",
    "                house_ID=as.vector(house_ID), \n",
    "                month=as.vector(month), mosquito_net=as.vector(mosquito_net))\n",
    "# SET VARIABLES AS FACTORS\n",
    "dat$house_ID<-factor(dat$house_ID)\n",
    "dat$month<-factor(dat$month, levels=c('Jan', 'July'))\n",
    "dat$mosquito_net<-factor(dat$mosquito_net, levels=c('No', 'Yes'))\n",
    "dim(dat)"
   ]
  },
  {
   "cell_type": "code",
   "execution_count": 15,
   "id": "8a0dcf86",
   "metadata": {},
   "outputs": [
    {
     "data": {
      "text/plain": [
       "Generalized linear mixed model fit by maximum likelihood (Laplace\n",
       "  Approximation) [glmerMod]\n",
       " Family: poisson  ( log )\n",
       "Formula: mosquito_count ~ (1 | house_ID) + (1 | overdispersion) + month +  \n",
       "    mosquito_net\n",
       "   Data: dat\n",
       "Control: glmerControl(optimizer = \"bobyqa\", optCtrl = list(maxfun = 2e+05))\n",
       "\n",
       "     AIC      BIC   logLik deviance df.resid \n",
       "  5757.5   5780.9  -2873.7   5747.5      795 \n",
       "\n",
       "Scaled residuals: \n",
       "     Min       1Q   Median       3Q      Max \n",
       "-1.18689 -0.31374 -0.00347  0.10315  1.11023 \n",
       "\n",
       "Random effects:\n",
       " Groups         Name        Variance Std.Dev.\n",
       " overdispersion (Intercept) 0.9114   0.9547  \n",
       " house_ID       (Intercept) 0.2341   0.4838  \n",
       "Number of obs: 800, groups:  overdispersion, 800; house_ID, 100\n",
       "\n",
       "Fixed effects:\n",
       "                Estimate Std. Error z value Pr(>|z|)    \n",
       "(Intercept)     -0.19579    0.10883  -1.799    0.072 .  \n",
       "monthJuly        3.58777    0.08321  43.118  < 2e-16 ***\n",
       "mosquito_netYes  0.72474    0.12499   5.798  6.7e-09 ***\n",
       "---\n",
       "Signif. codes:  0 '***' 0.001 '**' 0.01 '*' 0.05 '.' 0.1 ' ' 1\n",
       "\n",
       "Correlation of Fixed Effects:\n",
       "            (Intr) mnthJl\n",
       "monthJuly   -0.530       \n",
       "mosqut_ntYs -0.642  0.038"
      ]
     },
     "metadata": {},
     "output_type": "display_data"
    }
   ],
   "source": [
    "# FIT MODEL\n",
    "overdispersion<-1:nrow(dat)\n",
    "m<-glmer(mosquito_count~(1|house_ID)+(1|overdispersion)+month+mosquito_net, \n",
    "        data=dat, family='poisson', \n",
    "                    control=glmerControl(optimizer=\"bobyqa\",optCtrl=list(maxfun=2e5)))\n",
    "summary(m)"
   ]
  },
  {
   "cell_type": "markdown",
   "id": "08d9d909",
   "metadata": {},
   "source": [
    "The house variance is severly under-estimated because of the confounding factor. The mosquito net effect estimate is completely wrong as well. "
   ]
  }
 ],
 "metadata": {
  "kernelspec": {
   "display_name": "R",
   "language": "R",
   "name": "ir"
  },
  "language_info": {
   "codemirror_mode": "r",
   "file_extension": ".r",
   "mimetype": "text/x-r-source",
   "name": "R",
   "pygments_lexer": "r",
   "version": "3.5.3"
  }
 },
 "nbformat": 4,
 "nbformat_minor": 5
}
