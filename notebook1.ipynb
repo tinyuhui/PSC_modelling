{
 "cells": [
  {
   "cell_type": "markdown",
   "id": "78660495",
   "metadata": {},
   "source": [
    "## Notebook 1. \n",
    "\n",
    "This notebook is about the modelling of female mosquito counts (2 species combined) without weather information. The input dataset is the polished PSC per house count dataset across 6 years and 4 villages in Burkina Faso. We made ~3300 house visits hence this is the number of rows in the dataset. \n",
    "\n",
    "There are several things we want to know: 1) whether there is a difference in the rate of capturing female mosquitoes among the villages, 2) the strength of monthly variation or seasonality, 3) the strength of yearly variation (good year vs bad year), 4) the variation among individual houses (we had random houses and fixed houses so all the counts are not independent), 5) and whether other covariates (e.g. presence of humans and mosquito nets) have any impacts on the rates. \n",
    "\n",
    "The main model I use is Poisson glm, as our response variable is mosquito count. You may also find quasi-Poisson and negative binomial glm throughout this notebook. These glms are also valid under some scenarios. \n",
    "\n",
    "[Poisson distribution and glm] Let $ Y_i $ be the observed count during the i-th house visit (i-th row of the dataset). Here we assume $ Y_i\\sim Poisson(\\lambda_i) $, where $ \\lambda_i $ is the rate parameter specifically for the i-th row of the dataset. Therefore, each row of observation (count) will have its own rate parameter. So what is $ \\lambda_i $? The key here is to model each $\\lambda_i$ with our explanatory variables (e.g. which village, which month, which year, number of persons at home etc.), with a log-link. Hence, $log(\\lambda_i)=a+b1*x1_i+b2*x2_i+...$\n",
    "\n",
    "The codes are in R. "
   ]
  },
  {
   "cell_type": "code",
   "execution_count": 1,
   "id": "19885f6d",
   "metadata": {},
   "outputs": [
    {
     "name": "stderr",
     "output_type": "stream",
     "text": [
      "Loading required package: compiler\n"
     ]
    },
    {
     "data": {
      "text/html": [
       "3"
      ],
      "text/latex": [
       "3"
      ],
      "text/markdown": [
       "3"
      ],
      "text/plain": [
       "[1] 3"
      ]
     },
     "metadata": {},
     "output_type": "display_data"
    },
    {
     "name": "stderr",
     "output_type": "stream",
     "text": [
      "Loading required package: lme4\n",
      "Loading required package: Matrix\n",
      "Loading required package: lmerTest\n",
      "\n",
      "Attaching package: 'lmerTest'\n",
      "\n",
      "The following object is masked from 'package:lme4':\n",
      "\n",
      "    lmer\n",
      "\n",
      "The following object is masked from 'package:stats':\n",
      "\n",
      "    step\n",
      "\n",
      "Loading required package: MASS\n"
     ]
    },
    {
     "data": {
      "text/html": [
       "<ol class=list-inline>\n",
       "\t<li>'BV_weather'</li>\n",
       "\t<li>'dat1'</li>\n",
       "\t<li>'PL_weather'</li>\n",
       "\t<li>'SK_weather'</li>\n",
       "</ol>\n"
      ],
      "text/latex": [
       "\\begin{enumerate*}\n",
       "\\item 'BV\\_weather'\n",
       "\\item 'dat1'\n",
       "\\item 'PL\\_weather'\n",
       "\\item 'SK\\_weather'\n",
       "\\end{enumerate*}\n"
      ],
      "text/markdown": [
       "1. 'BV_weather'\n",
       "2. 'dat1'\n",
       "3. 'PL_weather'\n",
       "4. 'SK_weather'\n",
       "\n",
       "\n"
      ],
      "text/plain": [
       "[1] \"BV_weather\" \"dat1\"       \"PL_weather\" \"SK_weather\""
      ]
     },
     "metadata": {},
     "output_type": "display_data"
    }
   ],
   "source": [
    "# LOAD R PACKAGES\n",
    "require(compiler)\n",
    "enableJIT(3)\n",
    "setMKLthreads(23)\n",
    "require(lme4)\n",
    "require(lmerTest)\n",
    "require(MASS)\n",
    "\n",
    "# LOAD DATASET dat1\n",
    "#setwd('variance/Florian')\n",
    "load('Per house data PSC 2012 to 2019 polish2.RData')\n",
    "load('BF_weather.RData')\n",
    "ls()"
   ]
  },
  {
   "cell_type": "markdown",
   "id": "922ec4c6",
   "metadata": {},
   "source": [
    "### Descriptive statistics\n",
    "It would be nice to run some summaries and descriptive statistics to get a feel of the dataset. "
   ]
  },
  {
   "cell_type": "code",
   "execution_count": 2,
   "id": "cd44267e",
   "metadata": {
    "scrolled": true
   },
   "outputs": [
    {
     "name": "stdout",
     "output_type": "stream",
     "text": [
      "overall summary of count"
     ]
    },
    {
     "data": {
      "text/plain": [
       "   Min. 1st Qu.  Median    Mean 3rd Qu.    Max.    NA's \n",
       "  0.000   0.000   2.000   9.309   9.000 333.000      29 "
      ]
     },
     "metadata": {},
     "output_type": "display_data"
    },
    {
     "name": "stdout",
     "output_type": "stream",
     "text": [
      "mean count per month"
     ]
    },
    {
     "data": {
      "text/plain": [
       "dat1$month.assigned: 1\n",
       "[1] 0.07643312\n",
       "------------------------------------------------------------ \n",
       "dat1$month.assigned: 2\n",
       "[1] 0.9890909\n",
       "------------------------------------------------------------ \n",
       "dat1$month.assigned: 3\n",
       "[1] 3.179039\n",
       "------------------------------------------------------------ \n",
       "dat1$month.assigned: 4\n",
       "[1] 5.808383\n",
       "------------------------------------------------------------ \n",
       "dat1$month.assigned: 5\n",
       "[1] 16.57831\n",
       "------------------------------------------------------------ \n",
       "dat1$month.assigned: 6\n",
       "[1] 9.812139\n",
       "------------------------------------------------------------ \n",
       "dat1$month.assigned: 7\n",
       "[1] 15.21667\n",
       "------------------------------------------------------------ \n",
       "dat1$month.assigned: 8\n",
       "[1] 14.49857\n",
       "------------------------------------------------------------ \n",
       "dat1$month.assigned: 9\n",
       "[1] 26.59649\n",
       "------------------------------------------------------------ \n",
       "dat1$month.assigned: 10\n",
       "[1] 15.98261\n",
       "------------------------------------------------------------ \n",
       "dat1$month.assigned: 11\n",
       "[1] 3.921397\n",
       "------------------------------------------------------------ \n",
       "dat1$month.assigned: 12\n",
       "[1] 0.742029"
      ]
     },
     "metadata": {},
     "output_type": "display_data"
    },
    {
     "name": "stdout",
     "output_type": "stream",
     "text": [
      "mean count per year"
     ]
    },
    {
     "data": {
      "text/plain": [
       "dat1$year.assigned: 2012\n",
       "[1] 20.18\n",
       "------------------------------------------------------------ \n",
       "dat1$year.assigned: 2013\n",
       "[1] 10.54603\n",
       "------------------------------------------------------------ \n",
       "dat1$year.assigned: 2014\n",
       "[1] 4.966587\n",
       "------------------------------------------------------------ \n",
       "dat1$year.assigned: 2017\n",
       "[1] 8.006803\n",
       "------------------------------------------------------------ \n",
       "dat1$year.assigned: 2018\n",
       "[1] 7.076142\n",
       "------------------------------------------------------------ \n",
       "dat1$year.assigned: 2019\n",
       "[1] 7.104505"
      ]
     },
     "metadata": {},
     "output_type": "display_data"
    },
    {
     "name": "stdout",
     "output_type": "stream",
     "text": [
      "mean count per village"
     ]
    },
    {
     "data": {
      "text/plain": [
       "dat1$village: Bana market\n",
       "[1] 9.841727\n",
       "------------------------------------------------------------ \n",
       "dat1$village: Bana village\n",
       "[1] 12.51009\n",
       "------------------------------------------------------------ \n",
       "dat1$village: Pala\n",
       "[1] 8.112821\n",
       "------------------------------------------------------------ \n",
       "dat1$village: Souroukoudingan\n",
       "[1] 5.540291"
      ]
     },
     "metadata": {},
     "output_type": "display_data"
    }
   ],
   "source": [
    "# SOME DESCRIPTIVE STATISTICS ON THE RESPONSE VARIABLE, THAT IS, FEMALE MOSQUITO COUNT\n",
    "cat('overall summary of count')\n",
    "summary(dat1$count.f)\n",
    "cat('mean count per month')\n",
    "by(dat1$count.f, dat1$month.assigned, mean, na.rm=T)\n",
    "cat('mean count per year')\n",
    "by(dat1$count.f, dat1$year.assigned, mean, na.rm=T)\n",
    "cat('mean count per village')\n",
    "by(dat1$count.f, dat1$village, mean, na.rm=T)"
   ]
  },
  {
   "cell_type": "code",
   "execution_count": 3,
   "id": "61ea02db",
   "metadata": {
    "scrolled": true
   },
   "outputs": [
    {
     "data": {
      "image/png": "[encoded data removed]",
      "text/plain": [
       "Plot with title \"historgram of female mosquito count per house visit\""
      ]
     },
     "metadata": {},
     "output_type": "display_data"
    }
   ],
   "source": [
    "# HISTOGRAM OF THE RESPONSE\n",
    "hist(dat1$count.f, main='historgram of female mosquito count per house visit')"
   ]
  },
  {
   "cell_type": "code",
   "execution_count": 4,
   "id": "187a4634",
   "metadata": {
    "scrolled": true
   },
   "outputs": [
    {
     "name": "stdout",
     "output_type": "stream",
     "text": [
      "number of unqiue days of data collection"
     ]
    },
    {
     "data": {
      "text/html": [
       "164"
      ],
      "text/latex": [
       "164"
      ],
      "text/markdown": [
       "164"
      ],
      "text/plain": [
       "[1] 164"
      ]
     },
     "metadata": {},
     "output_type": "display_data"
    },
    {
     "name": "stdout",
     "output_type": "stream",
     "text": [
      "number of unique houses we visited"
     ]
    },
    {
     "data": {
      "text/html": [
       "386"
      ],
      "text/latex": [
       "386"
      ],
      "text/markdown": [
       "386"
      ],
      "text/plain": [
       "[1] 386"
      ]
     },
     "metadata": {},
     "output_type": "display_data"
    },
    {
     "name": "stdout",
     "output_type": "stream",
     "text": [
      "summary of mosquito.net"
     ]
    },
    {
     "data": {
      "text/plain": [
       "dat1$village: Bana market\n",
       "  No  Yes NA's \n",
       "  40  509    9 \n",
       "------------------------------------------------------------ \n",
       "dat1$village: Bana village\n",
       "  No  Yes NA's \n",
       "  61 1014   29 \n",
       "------------------------------------------------------------ \n",
       "dat1$village: Pala\n",
       "  No  Yes NA's \n",
       " 178  594    8 \n",
       "------------------------------------------------------------ \n",
       "dat1$village: Souroukoudingan\n",
       "  No  Yes NA's \n",
       "  42  717   11 "
      ]
     },
     "metadata": {},
     "output_type": "display_data"
    },
    {
     "name": "stdout",
     "output_type": "stream",
     "text": [
      "summary of number of persons in house"
     ]
    },
    {
     "data": {
      "text/plain": [
       "   Min. 1st Qu.  Median    Mean 3rd Qu.    Max.    NA's \n",
       "  0.000   2.000   3.000   3.154   4.000  16.000      61 "
      ]
     },
     "metadata": {},
     "output_type": "display_data"
    }
   ],
   "source": [
    "# DESCRIPTIVE STATS ON SOME EXPLANATORY VARIABLES AS WELL\n",
    "cat('number of unqiue days of data collection')\n",
    "length(unique(dat1$date.collection))\n",
    "cat('number of unique houses we visited')\n",
    "length(unique(dat1$site.id))\n",
    "cat('summary of mosquito.net')\n",
    "by(dat1$mosquito.net, dat1$village, summary)\n",
    "cat('summary of number of persons in house')\n",
    "summary(dat1$num.persons)"
   ]
  },
  {
   "cell_type": "code",
   "execution_count": 5,
   "id": "b7fe7363",
   "metadata": {},
   "outputs": [
    {
     "data": {
      "text/html": [
       "<ol class=list-inline>\n",
       "\t<li>'village'</li>\n",
       "\t<li>'month.assigned'</li>\n",
       "\t<li>'year.assigned'</li>\n",
       "\t<li>'monthyear.assigned'</li>\n",
       "\t<li>'day'</li>\n",
       "\t<li>'month'</li>\n",
       "\t<li>'year'</li>\n",
       "\t<li>'date.collection'</li>\n",
       "\t<li>'site.id'</li>\n",
       "\t<li>'longitude'</li>\n",
       "\t<li>'latitude'</li>\n",
       "\t<li>'room.id'</li>\n",
       "\t<li>'num.persons'</li>\n",
       "\t<li>'num.persons.remark'</li>\n",
       "\t<li>'mosquito.net'</li>\n",
       "\t<li>'permanence'</li>\n",
       "\t<li>'count.m'</li>\n",
       "\t<li>'genotyped.m'</li>\n",
       "\t<li>'col.m'</li>\n",
       "\t<li>'gam.m'</li>\n",
       "\t<li>'arab.m'</li>\n",
       "\t<li>'count.f'</li>\n",
       "\t<li>'genotyped.f'</li>\n",
       "\t<li>'col.f'</li>\n",
       "\t<li>'gam.f'</li>\n",
       "\t<li>'arab.f'</li>\n",
       "</ol>\n"
      ],
      "text/latex": [
       "\\begin{enumerate*}\n",
       "\\item 'village'\n",
       "\\item 'month.assigned'\n",
       "\\item 'year.assigned'\n",
       "\\item 'monthyear.assigned'\n",
       "\\item 'day'\n",
       "\\item 'month'\n",
       "\\item 'year'\n",
       "\\item 'date.collection'\n",
       "\\item 'site.id'\n",
       "\\item 'longitude'\n",
       "\\item 'latitude'\n",
       "\\item 'room.id'\n",
       "\\item 'num.persons'\n",
       "\\item 'num.persons.remark'\n",
       "\\item 'mosquito.net'\n",
       "\\item 'permanence'\n",
       "\\item 'count.m'\n",
       "\\item 'genotyped.m'\n",
       "\\item 'col.m'\n",
       "\\item 'gam.m'\n",
       "\\item 'arab.m'\n",
       "\\item 'count.f'\n",
       "\\item 'genotyped.f'\n",
       "\\item 'col.f'\n",
       "\\item 'gam.f'\n",
       "\\item 'arab.f'\n",
       "\\end{enumerate*}\n"
      ],
      "text/markdown": [
       "1. 'village'\n",
       "2. 'month.assigned'\n",
       "3. 'year.assigned'\n",
       "4. 'monthyear.assigned'\n",
       "5. 'day'\n",
       "6. 'month'\n",
       "7. 'year'\n",
       "8. 'date.collection'\n",
       "9. 'site.id'\n",
       "10. 'longitude'\n",
       "11. 'latitude'\n",
       "12. 'room.id'\n",
       "13. 'num.persons'\n",
       "14. 'num.persons.remark'\n",
       "15. 'mosquito.net'\n",
       "16. 'permanence'\n",
       "17. 'count.m'\n",
       "18. 'genotyped.m'\n",
       "19. 'col.m'\n",
       "20. 'gam.m'\n",
       "21. 'arab.m'\n",
       "22. 'count.f'\n",
       "23. 'genotyped.f'\n",
       "24. 'col.f'\n",
       "25. 'gam.f'\n",
       "26. 'arab.f'\n",
       "\n",
       "\n"
      ],
      "text/plain": [
       " [1] \"village\"            \"month.assigned\"     \"year.assigned\"     \n",
       " [4] \"monthyear.assigned\" \"day\"                \"month\"             \n",
       " [7] \"year\"               \"date.collection\"    \"site.id\"           \n",
       "[10] \"longitude\"          \"latitude\"           \"room.id\"           \n",
       "[13] \"num.persons\"        \"num.persons.remark\" \"mosquito.net\"      \n",
       "[16] \"permanence\"         \"count.m\"            \"genotyped.m\"       \n",
       "[19] \"col.m\"              \"gam.m\"              \"arab.m\"            \n",
       "[22] \"count.f\"            \"genotyped.f\"        \"col.f\"             \n",
       "[25] \"gam.f\"              \"arab.f\"            "
      ]
     },
     "metadata": {},
     "output_type": "display_data"
    }
   ],
   "source": [
    "# WHAT ARE THE NAMES OF THE VARIABLES?\n",
    "names(dat1)"
   ]
  },
  {
   "cell_type": "markdown",
   "id": "92532166",
   "metadata": {},
   "source": [
    "The dataset has been polished and slightly re-formatted. Some variables have been renamed. Let me explain what each column means: \n",
    "1) village: factor, with 4 levels (Bana market, Bana village, Pala, Souroukoudingan). \n",
    "\n",
    "2) month.assigned: factor, with 12 levels. One level per month. The (assigned) month for the sampling date. \n",
    "\n",
    "3) year.assigned: factor, with 6 levels. One level per year. The (assigned) year for the sampling date. \n",
    "\n",
    "4-6) day, month, year: the day/month/year of the sampling date. \n",
    "\n",
    "7) date.collection: same information as above but all in one variable. Sometimes month-end samples were counted towards next month's so we have the assigned month and year above. In R's Date format. \n",
    "\n",
    "8) site.id: factor, unique ID for the house. \n",
    "\n",
    "9-10) longitude and lattitude of the house. Numberic.\n",
    "\n",
    "11) room.id: room ID within a house, factor. \n",
    "\n",
    "12) num.persons: number of persons in the house. Integer, numberic, NA. \n",
    "\n",
    "13) num.persons.remark: in the original dataset there are some special remarks on num.persons (e.g. sick, dead, etc.) so I decided to put it here in a separate column. Character/factor. \n",
    "\n",
    "14) mosquito.net: whether mosquito.net is found in the house. Yes/No/NA, factor. \n",
    "\n",
    "15) permanence: I don't know what it is. \n",
    "\n",
    "16 and onwards): those are the mosquito counts found per house visit. Integer, NA. \n",
    "\n",
    "\n",
    "Of course you can run many more summary statistics, with R or with JMP. I hope by now you have got some understanding on the dataset. There are some interesting points (apparently): 1) huge monthly variation, that you almost got no mosquito in Dec and Jan, 2) year 2012 had the highest mean mosquito count (why?), 3) there are some differences among the villages. \n",
    "\n",
    "### Modelling (from simple to \"less simple)\n",
    "The next steps are to fit some glms to see whether these apparent variations are just randomness, or they are genuine factors. We start from the most basic model. \n",
    "\n",
    "[Model 1A, 1B, 1C]\n",
    "\n",
    "All three models belong to model 1 because they include only one explanatory variable: village. This variable is a factor with 4 levels (4 different villages). "
   ]
  },
  {
   "cell_type": "code",
   "execution_count": 6,
   "id": "b483301d",
   "metadata": {
    "scrolled": true
   },
   "outputs": [
    {
     "name": "stdout",
     "output_type": "stream",
     "text": [
      "model 1A, quasi-poisson glm"
     ]
    },
    {
     "data": {
      "text/plain": [
       "\n",
       "Call:\n",
       "glm(formula = count.f ~ village, family = \"quasipoisson\", data = dat1)\n",
       "\n",
       "Deviance Residuals: \n",
       "   Min      1Q  Median      3Q     Max  \n",
       "-5.002  -4.028  -2.574   0.138  39.301  \n",
       "\n",
       "Coefficients:\n",
       "                       Estimate Std. Error t value Pr(>|t|)    \n",
       "(Intercept)             2.28663    0.08748  26.139  < 2e-16 ***\n",
       "villageBana village     0.23990    0.10355   2.317   0.0206 *  \n",
       "villagePala            -0.19319    0.11946  -1.617   0.1059    \n",
       "villageSouroukoudingan -0.57458    0.13280  -4.327 1.56e-05 ***\n",
       "---\n",
       "Signif. codes:  0 '***' 0.001 '**' 0.01 '*' 0.05 '.' 0.1 ' ' 1\n",
       "\n",
       "(Dispersion parameter for quasipoisson family taken to be 41.87499)\n",
       "\n",
       "    Null deviance: 71117  on 3182  degrees of freedom\n",
       "Residual deviance: 68540  on 3179  degrees of freedom\n",
       "  (29 observations deleted due to missingness)\n",
       "AIC: NA\n",
       "\n",
       "Number of Fisher Scoring iterations: 6\n"
      ]
     },
     "metadata": {},
     "output_type": "display_data"
    },
    {
     "name": "stdout",
     "output_type": "stream",
     "text": [
      "model 1B, poisson glm with observation-level random effect"
     ]
    },
    {
     "data": {
      "text/plain": [
       "Generalized linear mixed model fit by maximum likelihood (Laplace\n",
       "  Approximation) [glmerMod]\n",
       " Family: poisson  ( log )\n",
       "Formula: count.f ~ (1 | overdispersion) + village\n",
       "   Data: dat1\n",
       "Control: glmerControl(optimizer = \"bobyqa\", optCtrl = list(maxfun = 2e+05))\n",
       "\n",
       "     AIC      BIC   logLik deviance df.resid \n",
       " 18788.5  18818.8  -9389.2  18778.5     3178 \n",
       "\n",
       "Scaled residuals: \n",
       "     Min       1Q   Median       3Q      Max \n",
       "-0.69135 -0.59727 -0.01653  0.12636  0.18989 \n",
       "\n",
       "Random effects:\n",
       " Groups         Name        Variance Std.Dev.\n",
       " overdispersion (Intercept) 3.484    1.867   \n",
       "Number of obs: 3183, groups:  overdispersion, 3183\n",
       "\n",
       "Fixed effects:\n",
       "                       Estimate Std. Error z value Pr(>|z|)    \n",
       "(Intercept)             0.78675    0.08935   8.805  < 2e-16 ***\n",
       "villageBana village     0.14038    0.10793   1.301    0.193    \n",
       "villagePala             0.12003    0.11461   1.047    0.295    \n",
       "villageSouroukoudingan -0.57461    0.11789  -4.874 1.09e-06 ***\n",
       "---\n",
       "Signif. codes:  0 '***' 0.001 '**' 0.01 '*' 0.05 '.' 0.1 ' ' 1\n",
       "\n",
       "Correlation of Fixed Effects:\n",
       "            (Intr) vllgBv vllgPl\n",
       "villgBnvllg -0.805              \n",
       "villagePala -0.761  0.627       \n",
       "vllgSrkdngn -0.731  0.609  0.573"
      ]
     },
     "metadata": {},
     "output_type": "display_data"
    },
    {
     "name": "stdout",
     "output_type": "stream",
     "text": [
      "model 1C, negative binomial"
     ]
    },
    {
     "data": {
      "text/plain": [
       "\n",
       "Call:\n",
       "glm.nb(formula = count.f ~ village, data = dat1, init.theta = 0.3301848995, \n",
       "    link = log)\n",
       "\n",
       "Deviance Residuals: \n",
       "    Min       1Q   Median       3Q      Max  \n",
       "-1.5548  -1.3786  -0.6313   0.0219   3.8131  \n",
       "\n",
       "Coefficients:\n",
       "                       Estimate Std. Error z value Pr(>|z|)    \n",
       "(Intercept)             2.28663    0.07503  30.475  < 2e-16 ***\n",
       "villageBana village     0.23990    0.09210   2.605  0.00919 ** \n",
       "villagePala            -0.19319    0.09834  -1.964  0.04948 *  \n",
       "villageSouroukoudingan -0.57458    0.09934  -5.784  7.3e-09 ***\n",
       "---\n",
       "Signif. codes:  0 '***' 0.001 '**' 0.01 '*' 0.05 '.' 0.1 ' ' 1\n",
       "\n",
       "(Dispersion parameter for Negative Binomial(0.3302) family taken to be 1)\n",
       "\n",
       "    Null deviance: 3528.2  on 3182  degrees of freedom\n",
       "Residual deviance: 3434.7  on 3179  degrees of freedom\n",
       "  (29 observations deleted due to missingness)\n",
       "AIC: 18694\n",
       "\n",
       "Number of Fisher Scoring iterations: 1\n",
       "\n",
       "\n",
       "              Theta:  0.33018 \n",
       "          Std. Err.:  0.00902 \n",
       "\n",
       " 2 x log-likelihood:  -18683.50600 "
      ]
     },
     "metadata": {},
     "output_type": "display_data"
    }
   ],
   "source": [
    "# MODEL 1A. \n",
    "# JUST ON count.f (FEMALE MOSQUITO COUNTS) AGAINST village\n",
    "# I CALLED ALL MODELS m WHICH IS A VERY BAD PRACTICE. YOU SHOULD NOT DO THIS. \n",
    "cat('model 1A, quasi-poisson glm')\n",
    "m<-glm(count.f~village, family='quasipoisson', data=dat1)\n",
    "summary(m)\n",
    "\n",
    "# MODEL 1B\n",
    "cat('model 1B, poisson glm with observation-level random effect')\n",
    "overdispersion<-1:nrow(dat1)\n",
    "m<-glmer(count.f~(1|overdispersion)+village, family='poisson', data=dat1, \n",
    "         control=glmerControl(optimizer=\"bobyqa\",optCtrl=list(maxfun=2e5)))\n",
    "summary(m)\n",
    "\n",
    "# MODEL 1C\n",
    "cat('model 1C, negative binomial')\n",
    "m<-glm.nb(count.f~village, data=dat1)\n",
    "summary(m)"
   ]
  },
  {
   "cell_type": "markdown",
   "id": "632368da",
   "metadata": {},
   "source": [
    "Note: The (Intercept) is Bana market, and the subsequent point estimates (and p-values) are the differences with Bana market. For example, when we look at the output from model 1A, the log of rate $\\lambda$ for Bana market is 2.28663, thus the mean count is $e^{2.28663}=9.84$, same as what the descriptive statistic table reported. \n",
    "\n",
    "Also note that here over-dispersion is handled by three different ways: quasi-, obervation-level random effect, and a negative binomial distribution. As seen from model 1A the over-dispersion parameter is 41.875 which is huge. \n",
    "\n",
    "Note: in negative binomial glm.nb(), R returns $\\theta$, and that $E(Y)=\\mu$ and $var(Y)=\\mu+\\mu^2/\\theta$. So often that $1/\\theta$ is considered as the over-dispersion rate. \n",
    "\n",
    "Don't pay too much attention to the results as we are not using this simple model. \n",
    "\n",
    "As said, some crucial sources of variations are the monthly and yearly variation, and so as that among houses. Some houses are just naturally more like to attract mosquitoes. In model 2 below, we are adding these explantory variables and see if we can increase the explanatory power. month.assigned is a 12-level fixed effect and the remaining two are random effects. "
   ]
  },
  {
   "cell_type": "code",
   "execution_count": 7,
   "id": "a2939318",
   "metadata": {
    "scrolled": true
   },
   "outputs": [
    {
     "name": "stderr",
     "output_type": "stream",
     "text": [
      "\n",
      "Correlation matrix not shown by default, as p = 15 > 12.\n",
      "Use print(obj, correlation=TRUE)  or\n",
      "    vcov(obj)        if you need it\n",
      "\n"
     ]
    },
    {
     "data": {
      "text/plain": [
       "Generalized linear mixed model fit by maximum likelihood (Laplace\n",
       "  Approximation) [glmerMod]\n",
       " Family: poisson  ( log )\n",
       "Formula: \n",
       "count.f ~ (1 | year.assigned) + (1 | site.id) + (1 | overdispersion) +  \n",
       "    month.assigned + village\n",
       "   Data: dat1\n",
       "Control: glmerControl(optimizer = \"bobyqa\", optCtrl = list(maxfun = 2e+05))\n",
       "\n",
       "     AIC      BIC   logLik deviance df.resid \n",
       " 16781.3  16890.5  -8372.7  16745.3     3165 \n",
       "\n",
       "Scaled residuals: \n",
       "    Min      1Q  Median      3Q     Max \n",
       "-1.3245 -0.4465 -0.1113  0.1278  3.6898 \n",
       "\n",
       "Random effects:\n",
       " Groups         Name        Variance Std.Dev.\n",
       " overdispersion (Intercept) 1.4123   1.1884  \n",
       " site.id        (Intercept) 0.4277   0.6540  \n",
       " year.assigned  (Intercept) 0.1666   0.4082  \n",
       "Number of obs: 3183, groups:  \n",
       "overdispersion, 3183; site.id, 386; year.assigned, 6\n",
       "\n",
       "Fixed effects:\n",
       "                       Estimate Std. Error z value Pr(>|z|)    \n",
       "(Intercept)            -3.27919    0.41593  -7.884 3.17e-15 ***\n",
       "month.assigned2         2.55423    0.34492   7.405 1.31e-13 ***\n",
       "month.assigned3         3.60029    0.34023  10.582  < 2e-16 ***\n",
       "month.assigned4         4.45619    0.33467  13.315  < 2e-16 ***\n",
       "month.assigned5         5.52219    0.34034  16.226  < 2e-16 ***\n",
       "month.assigned6         4.88936    0.33375  14.650  < 2e-16 ***\n",
       "month.assigned7         4.96076    0.34329  14.451  < 2e-16 ***\n",
       "month.assigned8         4.94440    0.33604  14.714  < 2e-16 ***\n",
       "month.assigned9         5.51321    0.33956  16.236  < 2e-16 ***\n",
       "month.assigned10        5.28563    0.33568  15.746  < 2e-16 ***\n",
       "month.assigned11        3.44365    0.34376  10.018  < 2e-16 ***\n",
       "month.assigned12        1.72560    0.34763   4.964 6.91e-07 ***\n",
       "villageBana village     0.31329    0.21576   1.452  0.14650    \n",
       "villagePala             0.08009    0.22046   0.363  0.71638    \n",
       "villageSouroukoudingan -0.61976    0.22292  -2.780  0.00543 ** \n",
       "---\n",
       "Signif. codes:  0 '***' 0.001 '**' 0.01 '*' 0.05 '.' 0.1 ' ' 1"
      ]
     },
     "metadata": {},
     "output_type": "display_data"
    }
   ],
   "source": [
    "# MODEL 2. ADD month.assigned\n",
    "overdispersion<-1:nrow(dat1)\n",
    "m<-glmer(count.f~(1|year.assigned)+(1|site.id)+(1|overdispersion)+month.assigned+village, \n",
    "             family='poisson', data=dat1, \n",
    "             control=glmerControl(optimizer=\"bobyqa\",optCtrl=list(maxfun=2e5)))\n",
    "summary(m)\n",
    "# EXTRACT MAXIMISED LOG-LIKELIHOOD\n",
    "#as.numeric(summary(m)$logLik)"
   ]
  },
  {
   "cell_type": "markdown",
   "id": "457c182e",
   "metadata": {},
   "source": [
    "Random effects are some explanatory variables (mainly factors) we are not interested in, but we still want to include in our models. For example, we know there will be differences among the 386 houses we visited, but we do not know (and we are not interested in) how they differ. As a result we do not need to estimate one parameter for each of 386 houses - instead we simply estimate the variance among these 386 houses. \n",
    "\n",
    "In the summary of Model 2 you will first find the variance estimates for the random effects, then the estimates of the fixed effects. As village is a 4-level variable and month.assigned is a 12-level variable there will be 15 estimates. The (Intercept) is the estimate for the combination of (village=Bana market) && (month.assigned=1). \n",
    "\n",
    "We may not need all 12 levels to model monthly variation as some months may share the same mosquito exposure. For example, it is possible that month 7 and 8 share the same exposure and we can group both together to save 1 parameter. It can be done via pairwise comparisons (contrasts), but I am not doing it here. My goal right now is to include as many explanatory variables to the model as possible. \n",
    "\n",
    "Model 3 futher adds two more variables: mosquito.net and num.persons. mosquito.net is a binary variable with only two choices: Yes/No. There are NAs, unfortunately. num.persons is a more tricky because it can be continuous. "
   ]
  },
  {
   "cell_type": "code",
   "execution_count": 8,
   "id": "b9575f7e",
   "metadata": {},
   "outputs": [
    {
     "name": "stderr",
     "output_type": "stream",
     "text": [
      "\n",
      "Correlation matrix not shown by default, as p = 17 > 12.\n",
      "Use print(obj, correlation=TRUE)  or\n",
      "    vcov(obj)        if you need it\n",
      "\n"
     ]
    },
    {
     "data": {
      "text/plain": [
       "Generalized linear mixed model fit by maximum likelihood (Laplace\n",
       "  Approximation) [glmerMod]\n",
       " Family: poisson  ( log )\n",
       "Formula: \n",
       "count.f ~ (1 | year.assigned) + (1 | site.id) + (1 | overdispersion) +  \n",
       "    month.assigned + village + mosquito.net + num.persons\n",
       "   Data: dat1\n",
       "Control: glmerControl(optimizer = \"bobyqa\", optCtrl = list(maxfun = 2e+05))\n",
       "\n",
       "     AIC      BIC   logLik deviance df.resid \n",
       " 16463.0  16584.0  -8211.5  16423.0     3113 \n",
       "\n",
       "Scaled residuals: \n",
       "    Min      1Q  Median      3Q     Max \n",
       "-1.2926 -0.4529 -0.1146  0.1288  3.5846 \n",
       "\n",
       "Random effects:\n",
       " Groups         Name        Variance Std.Dev.\n",
       " overdispersion (Intercept) 1.4054   1.1855  \n",
       " site.id        (Intercept) 0.3614   0.6012  \n",
       " year.assigned  (Intercept) 0.1514   0.3891  \n",
       "Number of obs: 3133, groups:  \n",
       "overdispersion, 3133; site.id, 383; year.assigned, 6\n",
       "\n",
       "Fixed effects:\n",
       "                        Estimate Std. Error z value Pr(>|z|)    \n",
       "(Intercept)            -3.413124   0.417747  -8.170 3.08e-16 ***\n",
       "month.assigned2         2.527040   0.343970   7.347 2.03e-13 ***\n",
       "month.assigned3         3.581047   0.339310  10.554  < 2e-16 ***\n",
       "month.assigned4         4.397775   0.333617  13.182  < 2e-16 ***\n",
       "month.assigned5         5.505783   0.339199  16.232  < 2e-16 ***\n",
       "month.assigned6         4.846993   0.332749  14.567  < 2e-16 ***\n",
       "month.assigned7         4.891212   0.342409  14.285  < 2e-16 ***\n",
       "month.assigned8         4.891925   0.335576  14.578  < 2e-16 ***\n",
       "month.assigned9         5.501048   0.338930  16.231  < 2e-16 ***\n",
       "month.assigned10        5.271319   0.334661  15.751  < 2e-16 ***\n",
       "month.assigned11        3.431028   0.343000  10.003  < 2e-16 ***\n",
       "month.assigned12        1.699299   0.346811   4.900 9.59e-07 ***\n",
       "villageBana village     0.334145   0.202759   1.648   0.0994 .  \n",
       "villagePala            -0.006099   0.207816  -0.029   0.9766    \n",
       "villageSouroukoudingan -0.646839   0.209329  -3.090   0.0020 ** \n",
       "mosquito.netYes        -0.181012   0.091494  -1.978   0.0479 *  \n",
       "num.persons             0.114829   0.019021   6.037 1.57e-09 ***\n",
       "---\n",
       "Signif. codes:  0 '***' 0.001 '**' 0.01 '*' 0.05 '.' 0.1 ' ' 1"
      ]
     },
     "metadata": {},
     "output_type": "display_data"
    }
   ],
   "source": [
    "# MODEL 3. ADD modquito.net AND num.persons \n",
    "# num.persons AS A CONTINUOUS VARIABLE\n",
    "overdispersion<-1:nrow(dat1)\n",
    "m<-glmer(count.f~(1|year.assigned)+(1|site.id)+(1|overdispersion)+month.assigned+village+mosquito.net+num.persons, \n",
    "             family='poisson', data=dat1, \n",
    "             control=glmerControl(optimizer=\"bobyqa\",optCtrl=list(maxfun=2e5)))\n",
    "summary(m)"
   ]
  },
  {
   "cell_type": "markdown",
   "id": "db5d4b6f",
   "metadata": {},
   "source": [
    "You may now try to performa an ANOVA for model comparison (skipped, I just used eyeball test on the maximised log-likelihood values). \n",
    "\n",
    "Model 3 looks ok, but I have one comment: num.persons is treated as a continuous variable and I don't think its effect is linear on the count rates. In models 4A and 4B below I transform num.persons into 2-level and 3-level factor level. In 4A the two levels are whether persons is present at the house (Yes/No, binary). In 4B I classify num.persons into 3 levels (None, Low, Hi). The cutoff between Low and Hi (<=3) is based on the summary table above (median of num.persons is 3, and mean is about 3.15). "
   ]
  },
  {
   "cell_type": "code",
   "execution_count": 3,
   "id": "d9f44cbc",
   "metadata": {
    "scrolled": true
   },
   "outputs": [
    {
     "name": "stderr",
     "output_type": "stream",
     "text": [
      "\n",
      "Correlation matrix not shown by default, as p = 17 > 12.\n",
      "Use print(obj, correlation=TRUE)  or\n",
      "    vcov(obj)        if you need it\n",
      "\n"
     ]
    },
    {
     "data": {
      "text/plain": [
       "Generalized linear mixed model fit by maximum likelihood (Laplace\n",
       "  Approximation) [glmerMod]\n",
       " Family: poisson  ( log )\n",
       "Formula: \n",
       "count.f ~ (1 | year.assigned) + (1 | site.id) + (1 | overdispersion) +  \n",
       "    month.assigned + village + mosquito.net + persons.here\n",
       "   Data: dat1\n",
       "Control: glmerControl(optimizer = \"bobyqa\", optCtrl = list(maxfun = 2e+05))\n",
       "\n",
       "     AIC      BIC   logLik deviance df.resid \n",
       " 16489.6  16610.6  -8224.8  16449.6     3113 \n",
       "\n",
       "Scaled residuals: \n",
       "    Min      1Q  Median      3Q     Max \n",
       "-1.3148 -0.4517 -0.1149  0.1300  3.6234 \n",
       "\n",
       "Random effects:\n",
       " Groups         Name        Variance Std.Dev.\n",
       " overdispersion (Intercept) 1.4160   1.1900  \n",
       " site.id        (Intercept) 0.4012   0.6334  \n",
       " year.assigned  (Intercept) 0.1599   0.3999  \n",
       "Number of obs: 3133, groups:  \n",
       "overdispersion, 3133; site.id, 383; year.assigned, 6\n",
       "\n",
       "Fixed effects:\n",
       "                       Estimate Std. Error z value Pr(>|z|)    \n",
       "(Intercept)            -4.46055    0.61332  -7.273 3.52e-13 ***\n",
       "month.assigned2         2.56234    0.34470   7.433 1.06e-13 ***\n",
       "month.assigned3         3.59944    0.34002  10.586  < 2e-16 ***\n",
       "month.assigned4         4.43448    0.33432  13.264  < 2e-16 ***\n",
       "month.assigned5         5.52171    0.34002  16.239  < 2e-16 ***\n",
       "month.assigned6         4.88081    0.33344  14.638  < 2e-16 ***\n",
       "month.assigned7         4.95458    0.34307  14.442  < 2e-16 ***\n",
       "month.assigned8         4.92493    0.33628  14.645  < 2e-16 ***\n",
       "month.assigned9         5.53249    0.33968  16.287  < 2e-16 ***\n",
       "month.assigned10        5.29050    0.33535  15.776  < 2e-16 ***\n",
       "month.assigned11        3.43873    0.34373  10.004  < 2e-16 ***\n",
       "month.assigned12        1.72688    0.34747   4.970 6.70e-07 ***\n",
       "villageBana village     0.31898    0.21120   1.510  0.13095    \n",
       "villagePala             0.05887    0.21594   0.273  0.78513    \n",
       "villageSouroukoudingan -0.60536    0.21777  -2.780  0.00544 ** \n",
       "mosquito.netYes        -0.19816    0.09336  -2.122  0.03380 *  \n",
       "persons.hereTRUE        1.36978    0.45921   2.983  0.00286 ** \n",
       "---\n",
       "Signif. codes:  0 '***' 0.001 '**' 0.01 '*' 0.05 '.' 0.1 ' ' 1"
      ]
     },
     "metadata": {},
     "output_type": "display_data"
    }
   ],
   "source": [
    "# MODEL 4A\n",
    "# TURNING num.persons INTO A BINARY FACTOR (PERSONS Yes/No)\n",
    "# I CREATE A NEW VARIABLE CALLED persons.here, WHICH IS APPENED TO dat1 (OPTIONAL)\n",
    "dat1$persons.here<-(dat1$num.persons>0)\n",
    "overdispersion<-1:nrow(dat1)\n",
    "m<-glmer(count.f~(1|year.assigned)+(1|site.id)+(1|overdispersion)+month.assigned+village+mosquito.net+persons.here, \n",
    "             family='poisson', data=dat1, \n",
    "             control=glmerControl(optimizer=\"bobyqa\",optCtrl=list(maxfun=2e5)))\n",
    "summary(m)"
   ]
  },
  {
   "cell_type": "code",
   "execution_count": 19,
   "id": "bcfd9d92",
   "metadata": {
    "scrolled": true
   },
   "outputs": [
    {
     "name": "stderr",
     "output_type": "stream",
     "text": [
      "\n",
      "Correlation matrix not shown by default, as p = 18 > 12.\n",
      "Use print(obj, correlation=TRUE)  or\n",
      "    vcov(obj)        if you need it\n",
      "\n"
     ]
    },
    {
     "data": {
      "text/plain": [
       "Generalized linear mixed model fit by maximum likelihood (Laplace\n",
       "  Approximation) [glmerMod]\n",
       " Family: poisson  ( log )\n",
       "Formula: \n",
       "count.f ~ (1 | year.assigned) + (1 | site.id) + (1 | overdispersion) +  \n",
       "    month.assigned + village + mosquito.net + persons.status\n",
       "   Data: dat1\n",
       "Control: glmerControl(optimizer = \"bobyqa\", optCtrl = list(maxfun = 2e+05))\n",
       "\n",
       "     AIC      BIC   logLik deviance df.resid \n",
       " 16444.2  16571.2  -8201.1  16402.2     3112 \n",
       "\n",
       "Scaled residuals: \n",
       "    Min      1Q  Median      3Q     Max \n",
       "-1.3091 -0.4580 -0.1129  0.1310  3.6367 \n",
       "\n",
       "Random effects:\n",
       " Groups         Name        Variance Std.Dev.\n",
       " overdispersion (Intercept) 1.3951   1.1811  \n",
       " site.id        (Intercept) 0.3539   0.5949  \n",
       " year.assigned  (Intercept) 0.1467   0.3830  \n",
       "Number of obs: 3133, groups:  \n",
       "overdispersion, 3133; site.id, 383; year.assigned, 6\n",
       "\n",
       "Fixed effects:\n",
       "                       Estimate Std. Error z value Pr(>|z|)    \n",
       "(Intercept)            -4.41513    0.60436  -7.305 2.76e-13 ***\n",
       "month.assigned2         2.54856    0.34425   7.403 1.33e-13 ***\n",
       "month.assigned3         3.59476    0.33964  10.584  < 2e-16 ***\n",
       "month.assigned4         4.40009    0.33397  13.175  < 2e-16 ***\n",
       "month.assigned5         5.52816    0.33958  16.279  < 2e-16 ***\n",
       "month.assigned6         4.85096    0.33307  14.564  < 2e-16 ***\n",
       "month.assigned7         4.92864    0.34259  14.386  < 2e-16 ***\n",
       "month.assigned8         4.90790    0.33588  14.612  < 2e-16 ***\n",
       "month.assigned9         5.52794    0.33923  16.295  < 2e-16 ***\n",
       "month.assigned10        5.29906    0.33500  15.818  < 2e-16 ***\n",
       "month.assigned11        3.46387    0.34329  10.090  < 2e-16 ***\n",
       "month.assigned12        1.71713    0.34709   4.947 7.53e-07 ***\n",
       "villageBana village     0.33943    0.20108   1.688 0.091397 .  \n",
       "villagePala            -0.01830    0.20599  -0.089 0.929202    \n",
       "villageSouroukoudingan -0.63112    0.20748  -3.042 0.002351 ** \n",
       "mosquito.netYes        -0.22834    0.09261  -2.466 0.013676 *  \n",
       "persons.statusLow       1.22343    0.45444   2.692 0.007098 ** \n",
       "persons.statusHi        1.68978    0.45636   3.703 0.000213 ***\n",
       "---\n",
       "Signif. codes:  0 '***' 0.001 '**' 0.01 '*' 0.05 '.' 0.1 ' ' 1"
      ]
     },
     "metadata": {},
     "output_type": "display_data"
    }
   ],
   "source": [
    "# MODEL 4B\n",
    "# THREE LEVELS OF PERSONS: None, Low, Hi. \n",
    "dat1$persons.status<-dat1$num.persons\n",
    "dat1$persons.status[dat1$num.persons>3]<-'Hi'\n",
    "dat1$persons.status[dat1$num.persons<=3]<-'Low'\n",
    "dat1$persons.status[dat1$num.persons==0]<-'None'\n",
    "dat1$persons.status<-factor(dat1$persons.status, levels=c('None', 'Low', 'Hi'))\n",
    "overdispersion<-1:nrow(dat1)\n",
    "m_4B<-glmer(count.f~(1|year.assigned)+(1|site.id)+(1|overdispersion)+month.assigned+village+mosquito.net+persons.status, \n",
    "             family='poisson', data=dat1, \n",
    "             control=glmerControl(optimizer=\"bobyqa\",optCtrl=list(maxfun=2e5)))\n",
    "summary(m_4B)"
   ]
  },
  {
   "cell_type": "markdown",
   "id": "4b40aa4a",
   "metadata": {},
   "source": [
    "So model 4B seems better than model 3 and 4A so let's stick this 3-level factor on human's presence. Below model 4C is just the same model as 4B but with negative binomial glm (optional). Their results are extremely similar, but negative binomial glm takes 10x longer to run. "
   ]
  },
  {
   "cell_type": "code",
   "execution_count": 15,
   "id": "adfb832d",
   "metadata": {
    "scrolled": true
   },
   "outputs": [
    {
     "name": "stderr",
     "output_type": "stream",
     "text": [
      "Warning message in checkConv(attr(opt, \"derivs\"), opt$par, ctrl = control$checkConv, :\n",
      "\"Model failed to converge with max|grad| = 1.00683 (tol = 0.001, component 1)\"Warning message in checkConv(attr(opt, \"derivs\"), opt$par, ctrl = control$checkConv, :\n",
      "\"Model is nearly unidentifiable: very large eigenvalue\n",
      " - Rescale variables?\"Warning message in checkConv(attr(opt, \"derivs\"), opt$par, ctrl = control$checkConv, :\n",
      "\"Model failed to converge with max|grad| = 0.0213079 (tol = 0.001, component 1)\"\n",
      "Correlation matrix not shown by default, as p = 18 > 12.\n",
      "Use print(obj, correlation=TRUE)  or\n",
      "    vcov(obj)        if you need it\n",
      "\n"
     ]
    },
    {
     "data": {
      "text/plain": [
       "Generalized linear mixed model fit by maximum likelihood (Laplace\n",
       "  Approximation) [glmerMod]\n",
       " Family: Negative Binomial(0.7899)  ( log )\n",
       "Formula: count.f ~ (1 | year.assigned) + (1 | site.id) + month.assigned +  \n",
       "    village + mosquito.net + persons.status\n",
       "   Data: dat1\n",
       "Control: glmerControl(optimizer = \"bobyqa\", optCtrl = list(maxfun = 2e+05))\n",
       "\n",
       "     AIC      BIC   logLik deviance df.resid \n",
       " 16390.8  16517.9  -8174.4  16348.8     3112 \n",
       "\n",
       "Scaled residuals: \n",
       "    Min      1Q  Median      3Q     Max \n",
       "-0.8788 -0.6366 -0.3598  0.2575  9.2303 \n",
       "\n",
       "Random effects:\n",
       " Groups        Name        Variance Std.Dev.\n",
       " site.id       (Intercept) 0.3427   0.5854  \n",
       " year.assigned (Intercept) 0.1566   0.3957  \n",
       "Number of obs: 3133, groups:  site.id, 383; year.assigned, 6\n",
       "\n",
       "Fixed effects:\n",
       "                       Estimate Std. Error z value Pr(>|z|)    \n",
       "(Intercept)            -3.73156    0.56650  -6.587 4.49e-11 ***\n",
       "month.assigned2         2.58300    0.32672   7.906 2.66e-15 ***\n",
       "month.assigned3         3.55662    0.32328  11.002  < 2e-16 ***\n",
       "month.assigned4         4.32424    0.31781  13.606  < 2e-16 ***\n",
       "month.assigned5         5.44818    0.32402  16.815  < 2e-16 ***\n",
       "month.assigned6         4.84438    0.31733  15.266  < 2e-16 ***\n",
       "month.assigned7         4.86216    0.32665  14.885  < 2e-16 ***\n",
       "month.assigned8         4.89562    0.32045  15.278  < 2e-16 ***\n",
       "month.assigned9         5.40586    0.32357  16.707  < 2e-16 ***\n",
       "month.assigned10        5.23412    0.32009  16.352  < 2e-16 ***\n",
       "month.assigned11        3.45864    0.32694  10.579  < 2e-16 ***\n",
       "month.assigned12        1.75791    0.32969   5.332 9.71e-08 ***\n",
       "villageBana village     0.31292    0.19304   1.621 0.105006    \n",
       "villagePala             0.01696    0.20045   0.085 0.932589    \n",
       "villageSouroukoudingan -0.69122    0.20020  -3.453 0.000555 ***\n",
       "mosquito.netYes        -0.26316    0.08920  -2.950 0.003177 ** \n",
       "persons.statusLow       1.21878    0.41396   2.944 0.003238 ** \n",
       "persons.statusHi        1.64838    0.41543   3.968 7.25e-05 ***\n",
       "---\n",
       "Signif. codes:  0 '***' 0.001 '**' 0.01 '*' 0.05 '.' 0.1 ' ' 1"
      ]
     },
     "metadata": {},
     "output_type": "display_data"
    }
   ],
   "source": [
    "# 4C JUST THE SAME AS 4B BUT USING NEGATIVE BINOMIAL. \n",
    "m_4C<-glmer.nb(count.f~(1|year.assigned)+(1|site.id)+month.assigned+village+mosquito.net+persons.status, \n",
    "             data=dat1, \n",
    "             control=glmerControl(optimizer=\"bobyqa\",optCtrl=list(maxfun=2e5)))\n",
    "summary(m_4C)"
   ]
  },
  {
   "cell_type": "markdown",
   "id": "98512a5c",
   "metadata": {},
   "source": [
    "So far, we have been assuming that the effects are additive. It may be true for some variables, such as num.persons and mosquito.net (I believe, not tested), but I suspect that it may not be the case for month.assigned and village, that the interaction may exist. \n",
    "\n",
    "For example, from the output of model 4B we can work out the log rate of the 2nd month of Souroukoudinga under the additive model (-4.415+2.549-0.631, assuming all other factors are at default level, and ignoring the random effect for simplicity). With intereaction terms we are able to model if there is anything special happening to the 2nd month of Souroukoudinga. The drawback is that there are many more parameters need to be estimated. In fact the number of paramters for the full interaction model will be about (4 village levels x 12 month.assigned levels)=48. Remember in the additive model we only need about 4+12=16 parameters. "
   ]
  },
  {
   "cell_type": "code",
   "execution_count": 20,
   "id": "38eb5ae0",
   "metadata": {
    "scrolled": true
   },
   "outputs": [
    {
     "name": "stderr",
     "output_type": "stream",
     "text": [
      "\n",
      "Correlation matrix not shown by default, as p = 51 > 12.\n",
      "Use print(obj, correlation=TRUE)  or\n",
      "    vcov(obj)        if you need it\n",
      "\n"
     ]
    },
    {
     "data": {
      "text/plain": [
       "Generalized linear mixed model fit by maximum likelihood (Laplace\n",
       "  Approximation) [glmerMod]\n",
       " Family: poisson  ( log )\n",
       "Formula: \n",
       "count.f ~ (1 | year.assigned) + (1 | site.id) + (1 | overdispersion) +  \n",
       "    month.assigned * village + mosquito.net + persons.status\n",
       "   Data: dat1\n",
       "Control: glmerControl(optimizer = \"bobyqa\", optCtrl = list(maxfun = 2e+05))\n",
       "\n",
       "     AIC      BIC   logLik deviance df.resid \n",
       " 16246.4  16573.1  -8069.2  16138.4     3079 \n",
       "\n",
       "Scaled residuals: \n",
       "    Min      1Q  Median      3Q     Max \n",
       "-1.3859 -0.4312 -0.1184  0.1370  4.4419 \n",
       "\n",
       "Random effects:\n",
       " Groups         Name        Variance Std.Dev.\n",
       " overdispersion (Intercept) 1.2453   1.1159  \n",
       " site.id        (Intercept) 0.3395   0.5827  \n",
       " year.assigned  (Intercept) 0.1536   0.3919  \n",
       "Number of obs: 3133, groups:  \n",
       "overdispersion, 3133; site.id, 383; year.assigned, 6\n",
       "\n",
       "Fixed effects:\n",
       "                                          Estimate Std. Error z value Pr(>|z|)\n",
       "(Intercept)                              -4.609421   0.891313  -5.171 2.32e-07\n",
       "month.assigned2                           2.482628   0.805692   3.081 0.002061\n",
       "month.assigned3                           4.078703   0.771431   5.287 1.24e-07\n",
       "month.assigned4                           4.587663   0.770915   5.951 2.67e-09\n",
       "month.assigned5                           5.539040   0.762761   7.262 3.82e-13\n",
       "month.assigned6                           5.526540   0.762351   7.249 4.19e-13\n",
       "month.assigned7                           5.061266   0.769196   6.580 4.71e-11\n",
       "month.assigned8                           5.113205   0.763313   6.699 2.10e-11\n",
       "month.assigned9                           5.810587   0.761499   7.630 2.34e-14\n",
       "month.assigned10                          5.615700   0.761476   7.375 1.65e-13\n",
       "month.assigned11                          3.679952   0.771118   4.772 1.82e-06\n",
       "month.assigned12                          1.648812   0.805301   2.047 0.040614\n",
       "villageBana village                       0.538383   0.884050   0.609 0.542527\n",
       "villagePala                               1.176102   0.981386   1.198 0.230758\n",
       "villageSouroukoudingan                  -13.006499   6.152313  -2.114 0.034508\n",
       "mosquito.netYes                          -0.090030   0.090113  -0.999 0.317757\n",
       "persons.statusLow                         1.059514   0.441141   2.402 0.016316\n",
       "persons.statusHi                          1.517982   0.443096   3.426 0.000613\n",
       "month.assigned2:villageBana village      -0.654426   0.951558  -0.688 0.491615\n",
       "month.assigned3:villageBana village      -0.360218   0.901716  -0.399 0.689539\n",
       "month.assigned4:villageBana village       0.226061   0.899916   0.251 0.801658\n",
       "month.assigned5:villageBana village       0.034343   0.895055   0.038 0.969393\n",
       "month.assigned6:villageBana village      -0.328723   0.892197  -0.368 0.712543\n",
       "month.assigned7:villageBana village      -0.039068   0.900948  -0.043 0.965412\n",
       "month.assigned8:villageBana village      -0.050292   0.894097  -0.056 0.955144\n",
       "month.assigned9:villageBana village      -0.009459   0.891652  -0.011 0.991536\n",
       "month.assigned10:villageBana village     -0.432159   0.891039  -0.485 0.627673\n",
       "month.assigned11:villageBana village     -0.694321   0.904490  -0.768 0.442702\n",
       "month.assigned12:villageBana village     -0.367281   0.946863  -0.388 0.698095\n",
       "month.assigned2:villagePala               0.135404   1.026819   0.132 0.895089\n",
       "month.assigned3:villagePala              -1.677063   1.011724  -1.658 0.097392\n",
       "month.assigned4:villagePala              -0.695016   0.993920  -0.699 0.484385\n",
       "month.assigned5:villagePala              -0.283428   1.012412  -0.280 0.779514\n",
       "month.assigned6:villagePala              -2.254917   0.988397  -2.281 0.022526\n",
       "month.assigned7:villagePala              -1.497777   1.003997  -1.492 0.135748\n",
       "month.assigned8:villagePala              -1.658551   0.988488  -1.678 0.093373\n",
       "month.assigned9:villagePala              -1.723758   0.997998  -1.727 0.084129\n",
       "month.assigned10:villagePala             -1.321623   0.985323  -1.341 0.179820\n",
       "month.assigned11:villagePala             -0.684938   1.006976  -0.680 0.496382\n",
       "month.assigned12:villagePala             -0.371002   1.027355  -0.361 0.718007\n",
       "month.assigned2:villageSouroukoudingan   11.798617   6.167323   1.913 0.055737\n",
       "month.assigned3:villageSouroukoudingan   12.057029   6.154770   1.959 0.050116\n",
       "month.assigned4:villageSouroukoudingan   11.070957   6.155764   1.798 0.072103\n",
       "month.assigned5:villageSouroukoudingan   12.573902   6.158305   2.042 0.041173\n",
       "month.assigned6:villageSouroukoudingan   12.063477   6.152953   1.961 0.049926\n",
       "month.assigned7:villageSouroukoudingan   13.096669   6.157799   2.127 0.033433\n",
       "month.assigned8:villageSouroukoudingan   12.831925   6.153704   2.085 0.037048\n",
       "month.assigned9:villageSouroukoudingan   12.225937   6.153681   1.987 0.046948\n",
       "month.assigned10:villageSouroukoudingan  12.473111   6.154390   2.027 0.042693\n",
       "month.assigned11:villageSouroukoudingan  13.061350   6.156665   2.121 0.033880\n",
       "month.assigned12:villageSouroukoudingan  12.811520   6.159265   2.080 0.037522\n",
       "                                           \n",
       "(Intercept)                             ***\n",
       "month.assigned2                         ** \n",
       "month.assigned3                         ***\n",
       "month.assigned4                         ***\n",
       "month.assigned5                         ***\n",
       "month.assigned6                         ***\n",
       "month.assigned7                         ***\n",
       "month.assigned8                         ***\n",
       "month.assigned9                         ***\n",
       "month.assigned10                        ***\n",
       "month.assigned11                        ***\n",
       "month.assigned12                        *  \n",
       "villageBana village                        \n",
       "villagePala                                \n",
       "villageSouroukoudingan                  *  \n",
       "mosquito.netYes                            \n",
       "persons.statusLow                       *  \n",
       "persons.statusHi                        ***\n",
       "month.assigned2:villageBana village        \n",
       "month.assigned3:villageBana village        \n",
       "month.assigned4:villageBana village        \n",
       "month.assigned5:villageBana village        \n",
       "month.assigned6:villageBana village        \n",
       "month.assigned7:villageBana village        \n",
       "month.assigned8:villageBana village        \n",
       "month.assigned9:villageBana village        \n",
       "month.assigned10:villageBana village       \n",
       "month.assigned11:villageBana village       \n",
       "month.assigned12:villageBana village       \n",
       "month.assigned2:villagePala                \n",
       "month.assigned3:villagePala             .  \n",
       "month.assigned4:villagePala                \n",
       "month.assigned5:villagePala                \n",
       "month.assigned6:villagePala             *  \n",
       "month.assigned7:villagePala                \n",
       "month.assigned8:villagePala             .  \n",
       "month.assigned9:villagePala             .  \n",
       "month.assigned10:villagePala               \n",
       "month.assigned11:villagePala               \n",
       "month.assigned12:villagePala               \n",
       "month.assigned2:villageSouroukoudingan  .  \n",
       "month.assigned3:villageSouroukoudingan  .  \n",
       "month.assigned4:villageSouroukoudingan  .  \n",
       "month.assigned5:villageSouroukoudingan  *  \n",
       "month.assigned6:villageSouroukoudingan  *  \n",
       "month.assigned7:villageSouroukoudingan  *  \n",
       "month.assigned8:villageSouroukoudingan  *  \n",
       "month.assigned9:villageSouroukoudingan  *  \n",
       "month.assigned10:villageSouroukoudingan *  \n",
       "month.assigned11:villageSouroukoudingan *  \n",
       "month.assigned12:villageSouroukoudingan *  \n",
       "---\n",
       "Signif. codes:  0 '***' 0.001 '**' 0.01 '*' 0.05 '.' 0.1 ' ' 1"
      ]
     },
     "metadata": {},
     "output_type": "display_data"
    }
   ],
   "source": [
    "# MODEL 5. ADD INTERACTION BETWEEN month.assigned AND village (~4*12=48 PARAMETERS)\n",
    "overdispersion<-1:nrow(dat1)\n",
    "m_5<-glmer(count.f~(1|year.assigned)+(1|site.id)+(1|overdispersion)+month.assigned*village+mosquito.net+persons.status, \n",
    "             family='poisson', data=dat1, \n",
    "             control=glmerControl(optimizer=\"bobyqa\",optCtrl=list(maxfun=2e5)))\n",
    "summary(m_5)"
   ]
  },
  {
   "cell_type": "code",
   "execution_count": 21,
   "id": "82b55e2c",
   "metadata": {},
   "outputs": [
    {
     "data": {
      "text/html": [
       "<table>\n",
       "<thead><tr><th></th><th scope=col>Df</th><th scope=col>AIC</th><th scope=col>BIC</th><th scope=col>logLik</th><th scope=col>deviance</th><th scope=col>Chisq</th><th scope=col>Chi Df</th><th scope=col>Pr(&gt;Chisq)</th></tr></thead>\n",
       "<tbody>\n",
       "\t<tr><th scope=row>m_4B</th><td>21          </td><td>16444.16    </td><td>16571.21    </td><td>-8201.081   </td><td>16402.16    </td><td>      NA    </td><td>NA          </td><td>          NA</td></tr>\n",
       "\t<tr><th scope=row>m_5</th><td>54          </td><td>16246.42    </td><td>16573.11    </td><td>-8069.210   </td><td>16138.42    </td><td>263.7415    </td><td>33          </td><td>8.515382e-38</td></tr>\n",
       "</tbody>\n",
       "</table>\n"
      ],
      "text/latex": [
       "\\begin{tabular}{r|llllllll}\n",
       "  & Df & AIC & BIC & logLik & deviance & Chisq & Chi Df & Pr(>Chisq)\\\\\n",
       "\\hline\n",
       "\tm\\_4B & 21           & 16444.16     & 16571.21     & -8201.081    & 16402.16     &       NA     & NA           &           NA\\\\\n",
       "\tm\\_5 & 54           & 16246.42     & 16573.11     & -8069.210    & 16138.42     & 263.7415     & 33           & 8.515382e-38\\\\\n",
       "\\end{tabular}\n"
      ],
      "text/markdown": [
       "\n",
       "| <!--/--> | Df | AIC | BIC | logLik | deviance | Chisq | Chi Df | Pr(>Chisq) |\n",
       "|---|---|---|---|---|---|---|---|---|\n",
       "| m_4B | 21           | 16444.16     | 16571.21     | -8201.081    | 16402.16     |       NA     | NA           |           NA |\n",
       "| m_5 | 54           | 16246.42     | 16573.11     | -8069.210    | 16138.42     | 263.7415     | 33           | 8.515382e-38 |\n",
       "\n"
      ],
      "text/plain": [
       "     Df AIC      BIC      logLik    deviance Chisq    Chi Df Pr(>Chisq)  \n",
       "m_4B 21 16444.16 16571.21 -8201.081 16402.16       NA NA               NA\n",
       "m_5  54 16246.42 16573.11 -8069.210 16138.42 263.7415 33     8.515382e-38"
      ]
     },
     "metadata": {},
     "output_type": "display_data"
    }
   ],
   "source": [
    "# AN ANOVA TO LOOK FOR \n",
    "anova(m_4B, m_5,  test='LRT')"
   ]
  },
  {
   "cell_type": "markdown",
   "id": "f839dafd",
   "metadata": {},
   "source": [
    "In this complicated output we can see that some interaction terms are significant (mainly those related to Souroukoudinga). We can go on simplifying the model by running many stepwise and pairwise comparisons, but I chose to pause here. One way to visualise the interaction is to plot the mean monthly count for each village on the same graph. If the lines are parallel then there is no interaction. "
   ]
  },
  {
   "cell_type": "code",
   "execution_count": 16,
   "id": "9b0f285d",
   "metadata": {
    "scrolled": true
   },
   "outputs": [
    {
     "name": "stdout",
     "output_type": "stream",
     "text": [
      "mean monthly count per village"
     ]
    },
    {
     "data": {
      "text/html": [
       "<table>\n",
       "<thead><tr><th scope=col>month.assigned</th><th scope=col>Bana market</th><th scope=col>Bana village</th><th scope=col>Pala</th><th scope=col>Souroukoudingan</th></tr></thead>\n",
       "<tbody>\n",
       "\t<tr><td>1                 </td><td>0.05              </td><td>0.0779220779220779</td><td>0.2               </td><td>0                 </td></tr>\n",
       "\t<tr><td>2                 </td><td>0.525             </td><td>0.441558441558442 </td><td>2.5375            </td><td>0.179487179487179 </td></tr>\n",
       "\t<tr><td>3                 </td><td>3.26086956521739  </td><td>3.99029126213592  </td><td>2.9               </td><td>1.275             </td></tr>\n",
       "\t<tr><td>4                 </td><td>5.025             </td><td>8.5959595959596   </td><td>8.12              </td><td>0.8               </td></tr>\n",
       "\t<tr><td>5                 </td><td>15.4081632653061  </td><td>17.8181818181818  </td><td>25.45             </td><td>5.8               </td></tr>\n",
       "\t<tr><td>6                 </td><td>12.7551020408163  </td><td>18.3814432989691  </td><td>5.35              </td><td>4.52              </td></tr>\n",
       "\t<tr><td>7                 </td><td>13.775            </td><td>17.8428571428571  </td><td>12.45             </td><td>14.7              </td></tr>\n",
       "\t<tr><td>8                 </td><td>14.5              </td><td>24.3434343434343  </td><td>7.84              </td><td>11.41             </td></tr>\n",
       "\t<tr><td>9                 </td><td>23.12             </td><td>34.3061224489796  </td><td>21.35             </td><td>17.3              </td></tr>\n",
       "\t<tr><td>10                </td><td>20.4807692307692  </td><td>19.659793814433   </td><td>15.44             </td><td>10.3958333333333  </td></tr>\n",
       "\t<tr><td>11                </td><td>4                 </td><td>2.05050505050505  </td><td>7.875             </td><td>4.5               </td></tr>\n",
       "\t<tr><td>12                </td><td>0.42              </td><td>0.494845360824742 </td><td>1.54              </td><td>0.336734693877551 </td></tr>\n",
       "</tbody>\n",
       "</table>\n"
      ],
      "text/latex": [
       "\\begin{tabular}{r|lllll}\n",
       " month.assigned & Bana market & Bana village & Pala & Souroukoudingan\\\\\n",
       "\\hline\n",
       "\t 1                  & 0.05               & 0.0779220779220779 & 0.2                & 0                 \\\\\n",
       "\t 2                  & 0.525              & 0.441558441558442  & 2.5375             & 0.179487179487179 \\\\\n",
       "\t 3                  & 3.26086956521739   & 3.99029126213592   & 2.9                & 1.275             \\\\\n",
       "\t 4                  & 5.025              & 8.5959595959596    & 8.12               & 0.8               \\\\\n",
       "\t 5                  & 15.4081632653061   & 17.8181818181818   & 25.45              & 5.8               \\\\\n",
       "\t 6                  & 12.7551020408163   & 18.3814432989691   & 5.35               & 4.52              \\\\\n",
       "\t 7                  & 13.775             & 17.8428571428571   & 12.45              & 14.7              \\\\\n",
       "\t 8                  & 14.5               & 24.3434343434343   & 7.84               & 11.41             \\\\\n",
       "\t 9                  & 23.12              & 34.3061224489796   & 21.35              & 17.3              \\\\\n",
       "\t 10                 & 20.4807692307692   & 19.659793814433    & 15.44              & 10.3958333333333  \\\\\n",
       "\t 11                 & 4                  & 2.05050505050505   & 7.875              & 4.5               \\\\\n",
       "\t 12                 & 0.42               & 0.494845360824742  & 1.54               & 0.336734693877551 \\\\\n",
       "\\end{tabular}\n"
      ],
      "text/markdown": [
       "\n",
       "| month.assigned | Bana market | Bana village | Pala | Souroukoudingan |\n",
       "|---|---|---|---|---|\n",
       "| 1                  | 0.05               | 0.0779220779220779 | 0.2                | 0                  |\n",
       "| 2                  | 0.525              | 0.441558441558442  | 2.5375             | 0.179487179487179  |\n",
       "| 3                  | 3.26086956521739   | 3.99029126213592   | 2.9                | 1.275              |\n",
       "| 4                  | 5.025              | 8.5959595959596    | 8.12               | 0.8                |\n",
       "| 5                  | 15.4081632653061   | 17.8181818181818   | 25.45              | 5.8                |\n",
       "| 6                  | 12.7551020408163   | 18.3814432989691   | 5.35               | 4.52               |\n",
       "| 7                  | 13.775             | 17.8428571428571   | 12.45              | 14.7               |\n",
       "| 8                  | 14.5               | 24.3434343434343   | 7.84               | 11.41              |\n",
       "| 9                  | 23.12              | 34.3061224489796   | 21.35              | 17.3               |\n",
       "| 10                 | 20.4807692307692   | 19.659793814433    | 15.44              | 10.3958333333333   |\n",
       "| 11                 | 4                  | 2.05050505050505   | 7.875              | 4.5                |\n",
       "| 12                 | 0.42               | 0.494845360824742  | 1.54               | 0.336734693877551  |\n",
       "\n"
      ],
      "text/plain": [
       "   month.assigned Bana market      Bana village       Pala   Souroukoudingan  \n",
       "1  1              0.05             0.0779220779220779 0.2    0                \n",
       "2  2              0.525            0.441558441558442  2.5375 0.179487179487179\n",
       "3  3              3.26086956521739 3.99029126213592   2.9    1.275            \n",
       "4  4              5.025            8.5959595959596    8.12   0.8              \n",
       "5  5              15.4081632653061 17.8181818181818   25.45  5.8              \n",
       "6  6              12.7551020408163 18.3814432989691   5.35   4.52             \n",
       "7  7              13.775           17.8428571428571   12.45  14.7             \n",
       "8  8              14.5             24.3434343434343   7.84   11.41            \n",
       "9  9              23.12            34.3061224489796   21.35  17.3             \n",
       "10 10             20.4807692307692 19.659793814433    15.44  10.3958333333333 \n",
       "11 11             4                2.05050505050505   7.875  4.5              \n",
       "12 12             0.42             0.494845360824742  1.54   0.336734693877551"
      ]
     },
     "metadata": {},
     "output_type": "display_data"
    },
    {
     "data": {
      "image/png": "[encoded data removed]",
      "text/plain": [
       "Plot with title \"mean monthly count per village\""
      ]
     },
     "metadata": {},
     "output_type": "display_data"
    }
   ],
   "source": [
    "cat('mean monthly count per village')\n",
    "cbind(month.assigned=levels(dat1$month.assigned), tapply(dat1$count.f, list(dat1$month.assigned, dat1$village), mean, na.rm=T))\n",
    "matplot(tapply(dat1$count.f, list(dat1$month.assigned, dat1$village), mean, na.rm=T), \n",
    "        type='l', xlab='month.assigned', ylab='mean count', main='mean monthly count per village')\n",
    "legend('topleft', legend=levels(dat1$village), col=1:4, lty=1:4)"
   ]
  },
  {
   "cell_type": "markdown",
   "id": "a93195b7",
   "metadata": {},
   "source": [
    "Model 5 appears to be a good candidate model for female mosquito counts, given what we have in our dataset. Further simplification may be required. \n",
    "\n",
    "In notebook 2 I will perform the same analysis but with wet season data only. "
   ]
  }
 ],
 "metadata": {
  "kernelspec": {
   "display_name": "R",
   "language": "R",
   "name": "ir"
  },
  "language_info": {
   "codemirror_mode": "r",
   "file_extension": ".r",
   "mimetype": "text/x-r-source",
   "name": "R",
   "pygments_lexer": "r",
   "version": "3.5.3"
  }
 },
 "nbformat": 4,
 "nbformat_minor": 5
}
