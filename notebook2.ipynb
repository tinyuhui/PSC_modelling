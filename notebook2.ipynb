{
 "cells": [
  {
   "cell_type": "markdown",
   "id": "243c3b65",
   "metadata": {},
   "source": [
    "## Notebook 2. \n",
    "\n",
    "We will perform the same modelling as in Notebook 1 but using only the counts during the wet season (May - October). This is because we are likely to conduct our releases during the wet season hence we should focus more on this duration. Another reason is that including the dry season counts (with many 0 entires) may have bad impact on the models we built. "
   ]
  },
  {
   "cell_type": "code",
   "execution_count": 1,
   "id": "ea96d14b",
   "metadata": {},
   "outputs": [
    {
     "name": "stderr",
     "output_type": "stream",
     "text": [
      "Loading required package: compiler\n"
     ]
    },
    {
     "data": {
      "text/html": [
       "3"
      ],
      "text/latex": [
       "3"
      ],
      "text/markdown": [
       "3"
      ],
      "text/plain": [
       "[1] 3"
      ]
     },
     "metadata": {},
     "output_type": "display_data"
    },
    {
     "name": "stderr",
     "output_type": "stream",
     "text": [
      "Loading required package: lme4\n",
      "Loading required package: Matrix\n",
      "Loading required package: lmerTest\n",
      "\n",
      "Attaching package: 'lmerTest'\n",
      "\n",
      "The following object is masked from 'package:lme4':\n",
      "\n",
      "    lmer\n",
      "\n",
      "The following object is masked from 'package:stats':\n",
      "\n",
      "    step\n",
      "\n",
      "Loading required package: MASS\n"
     ]
    },
    {
     "data": {
      "text/html": [
       "'dat1'"
      ],
      "text/latex": [
       "'dat1'"
      ],
      "text/markdown": [
       "'dat1'"
      ],
      "text/plain": [
       "[1] \"dat1\""
      ]
     },
     "metadata": {},
     "output_type": "display_data"
    },
    {
     "data": {
      "text/html": [
       "<ol class=list-inline>\n",
       "\t<li>3212</li>\n",
       "\t<li>26</li>\n",
       "</ol>\n"
      ],
      "text/latex": [
       "\\begin{enumerate*}\n",
       "\\item 3212\n",
       "\\item 26\n",
       "\\end{enumerate*}\n"
      ],
      "text/markdown": [
       "1. 3212\n",
       "2. 26\n",
       "\n",
       "\n"
      ],
      "text/plain": [
       "[1] 3212   26"
      ]
     },
     "metadata": {},
     "output_type": "display_data"
    }
   ],
   "source": [
    "# LOAD R PACKAGES\n",
    "require(compiler)\n",
    "enableJIT(3)\n",
    "setMKLthreads(22)\n",
    "require(lme4)\n",
    "require(lmerTest)\n",
    "require(MASS)\n",
    "\n",
    "# LOAD DATASET dat1\n",
    "#setwd('variance/Florian')\n",
    "load('Per house data PSC 2012 to 2019 polish2.RData')\n",
    "ls()\n",
    "dim(dat1)"
   ]
  },
  {
   "cell_type": "code",
   "execution_count": 2,
   "id": "583b6a57",
   "metadata": {},
   "outputs": [
    {
     "data": {
      "text/html": [
       "<ol class=list-inline>\n",
       "\t<li>1626</li>\n",
       "\t<li>26</li>\n",
       "</ol>\n"
      ],
      "text/latex": [
       "\\begin{enumerate*}\n",
       "\\item 1626\n",
       "\\item 26\n",
       "\\end{enumerate*}\n"
      ],
      "text/markdown": [
       "1. 1626\n",
       "2. 26\n",
       "\n",
       "\n"
      ],
      "text/plain": [
       "[1] 1626   26"
      ]
     },
     "metadata": {},
     "output_type": "display_data"
    },
    {
     "data": {
      "text/html": [
       "<table>\n",
       "<thead><tr><th scope=col>village</th><th scope=col>month.assigned</th><th scope=col>year.assigned</th><th scope=col>monthyear.assigned</th><th scope=col>day</th><th scope=col>month</th><th scope=col>year</th><th scope=col>date.collection</th><th scope=col>site.id</th><th scope=col>longitude</th><th scope=col>...</th><th scope=col>count.m</th><th scope=col>genotyped.m</th><th scope=col>col.m</th><th scope=col>gam.m</th><th scope=col>arab.m</th><th scope=col>count.f</th><th scope=col>genotyped.f</th><th scope=col>col.f</th><th scope=col>gam.f</th><th scope=col>arab.f</th></tr></thead>\n",
       "<tbody>\n",
       "\t<tr><td>Bana market </td><td>7           </td><td>2012        </td><td>07/2012     </td><td>28          </td><td>7           </td><td>2012        </td><td>2012-07-28  </td><td>BF.BM.02.001</td><td>-4.471190   </td><td>...         </td><td>1           </td><td>NA          </td><td>NA          </td><td>NA          </td><td>NA          </td><td> 7          </td><td>NA          </td><td>NA          </td><td>NA          </td><td>NA          </td></tr>\n",
       "\t<tr><td>Bana market </td><td>7           </td><td>2012        </td><td>07/2012     </td><td>28          </td><td>7           </td><td>2012        </td><td>2012-07-28  </td><td>BF.BM.03.001</td><td>-4.471004   </td><td>...         </td><td>0           </td><td>NA          </td><td>NA          </td><td>NA          </td><td>NA          </td><td> 6          </td><td>NA          </td><td>NA          </td><td>NA          </td><td>NA          </td></tr>\n",
       "\t<tr><td>Bana market </td><td>7           </td><td>2012        </td><td>07/2012     </td><td>28          </td><td>7           </td><td>2012        </td><td>2012-07-28  </td><td>BF.BM.13.001</td><td>-4.470798   </td><td>...         </td><td>0           </td><td>NA          </td><td>NA          </td><td>NA          </td><td>NA          </td><td>12          </td><td>NA          </td><td>NA          </td><td>NA          </td><td>NA          </td></tr>\n",
       "\t<tr><td>Bana market </td><td>7           </td><td>2012        </td><td>07/2012     </td><td>28          </td><td>7           </td><td>2012        </td><td>2012-07-28  </td><td>BF.BM.16.001</td><td>-4.482247   </td><td>...         </td><td>2           </td><td>NA          </td><td>NA          </td><td>NA          </td><td>NA          </td><td>25          </td><td>NA          </td><td>NA          </td><td>NA          </td><td>NA          </td></tr>\n",
       "\t<tr><td>Bana market </td><td>7           </td><td>2012        </td><td>07/2012     </td><td>28          </td><td>7           </td><td>2012        </td><td>2012-07-28  </td><td>BF.BM.27.001</td><td>-4.485166   </td><td>...         </td><td>3           </td><td>NA          </td><td>NA          </td><td>NA          </td><td>NA          </td><td>40          </td><td>NA          </td><td>NA          </td><td>NA          </td><td>NA          </td></tr>\n",
       "\t<tr><td>Bana market </td><td>7           </td><td>2012        </td><td>07/2012     </td><td>28          </td><td>7           </td><td>2012        </td><td>2012-07-28  </td><td>BF.BM.31.001</td><td>-4.482649   </td><td>...         </td><td>2           </td><td>NA          </td><td>NA          </td><td>NA          </td><td>NA          </td><td>14          </td><td>NA          </td><td>NA          </td><td>NA          </td><td>NA          </td></tr>\n",
       "</tbody>\n",
       "</table>\n"
      ],
      "text/latex": [
       "\\begin{tabular}{r|llllllllllllllllllllllllll}\n",
       " village & month.assigned & year.assigned & monthyear.assigned & day & month & year & date.collection & site.id & longitude & ... & count.m & genotyped.m & col.m & gam.m & arab.m & count.f & genotyped.f & col.f & gam.f & arab.f\\\\\n",
       "\\hline\n",
       "\t Bana market  & 7            & 2012         & 07/2012      & 28           & 7            & 2012         & 2012-07-28   & BF.BM.02.001 & -4.471190    & ...          & 1            & NA           & NA           & NA           & NA           &  7           & NA           & NA           & NA           & NA          \\\\\n",
       "\t Bana market  & 7            & 2012         & 07/2012      & 28           & 7            & 2012         & 2012-07-28   & BF.BM.03.001 & -4.471004    & ...          & 0            & NA           & NA           & NA           & NA           &  6           & NA           & NA           & NA           & NA          \\\\\n",
       "\t Bana market  & 7            & 2012         & 07/2012      & 28           & 7            & 2012         & 2012-07-28   & BF.BM.13.001 & -4.470798    & ...          & 0            & NA           & NA           & NA           & NA           & 12           & NA           & NA           & NA           & NA          \\\\\n",
       "\t Bana market  & 7            & 2012         & 07/2012      & 28           & 7            & 2012         & 2012-07-28   & BF.BM.16.001 & -4.482247    & ...          & 2            & NA           & NA           & NA           & NA           & 25           & NA           & NA           & NA           & NA          \\\\\n",
       "\t Bana market  & 7            & 2012         & 07/2012      & 28           & 7            & 2012         & 2012-07-28   & BF.BM.27.001 & -4.485166    & ...          & 3            & NA           & NA           & NA           & NA           & 40           & NA           & NA           & NA           & NA          \\\\\n",
       "\t Bana market  & 7            & 2012         & 07/2012      & 28           & 7            & 2012         & 2012-07-28   & BF.BM.31.001 & -4.482649    & ...          & 2            & NA           & NA           & NA           & NA           & 14           & NA           & NA           & NA           & NA          \\\\\n",
       "\\end{tabular}\n"
      ],
      "text/markdown": [
       "\n",
       "| village | month.assigned | year.assigned | monthyear.assigned | day | month | year | date.collection | site.id | longitude | ... | count.m | genotyped.m | col.m | gam.m | arab.m | count.f | genotyped.f | col.f | gam.f | arab.f |\n",
       "|---|---|---|---|---|---|---|---|---|---|---|---|---|---|---|---|---|---|---|---|---|\n",
       "| Bana market  | 7            | 2012         | 07/2012      | 28           | 7            | 2012         | 2012-07-28   | BF.BM.02.001 | -4.471190    | ...          | 1            | NA           | NA           | NA           | NA           |  7           | NA           | NA           | NA           | NA           |\n",
       "| Bana market  | 7            | 2012         | 07/2012      | 28           | 7            | 2012         | 2012-07-28   | BF.BM.03.001 | -4.471004    | ...          | 0            | NA           | NA           | NA           | NA           |  6           | NA           | NA           | NA           | NA           |\n",
       "| Bana market  | 7            | 2012         | 07/2012      | 28           | 7            | 2012         | 2012-07-28   | BF.BM.13.001 | -4.470798    | ...          | 0            | NA           | NA           | NA           | NA           | 12           | NA           | NA           | NA           | NA           |\n",
       "| Bana market  | 7            | 2012         | 07/2012      | 28           | 7            | 2012         | 2012-07-28   | BF.BM.16.001 | -4.482247    | ...          | 2            | NA           | NA           | NA           | NA           | 25           | NA           | NA           | NA           | NA           |\n",
       "| Bana market  | 7            | 2012         | 07/2012      | 28           | 7            | 2012         | 2012-07-28   | BF.BM.27.001 | -4.485166    | ...          | 3            | NA           | NA           | NA           | NA           | 40           | NA           | NA           | NA           | NA           |\n",
       "| Bana market  | 7            | 2012         | 07/2012      | 28           | 7            | 2012         | 2012-07-28   | BF.BM.31.001 | -4.482649    | ...          | 2            | NA           | NA           | NA           | NA           | 14           | NA           | NA           | NA           | NA           |\n",
       "\n"
      ],
      "text/plain": [
       "  village     month.assigned year.assigned monthyear.assigned day month year\n",
       "1 Bana market 7              2012          07/2012            28  7     2012\n",
       "2 Bana market 7              2012          07/2012            28  7     2012\n",
       "3 Bana market 7              2012          07/2012            28  7     2012\n",
       "4 Bana market 7              2012          07/2012            28  7     2012\n",
       "5 Bana market 7              2012          07/2012            28  7     2012\n",
       "6 Bana market 7              2012          07/2012            28  7     2012\n",
       "  date.collection site.id      longitude ... count.m genotyped.m col.m gam.m\n",
       "1 2012-07-28      BF.BM.02.001 -4.471190 ... 1       NA          NA    NA   \n",
       "2 2012-07-28      BF.BM.03.001 -4.471004 ... 0       NA          NA    NA   \n",
       "3 2012-07-28      BF.BM.13.001 -4.470798 ... 0       NA          NA    NA   \n",
       "4 2012-07-28      BF.BM.16.001 -4.482247 ... 2       NA          NA    NA   \n",
       "5 2012-07-28      BF.BM.27.001 -4.485166 ... 3       NA          NA    NA   \n",
       "6 2012-07-28      BF.BM.31.001 -4.482649 ... 2       NA          NA    NA   \n",
       "  arab.m count.f genotyped.f col.f gam.f arab.f\n",
       "1 NA      7      NA          NA    NA    NA    \n",
       "2 NA      6      NA          NA    NA    NA    \n",
       "3 NA     12      NA          NA    NA    NA    \n",
       "4 NA     25      NA          NA    NA    NA    \n",
       "5 NA     40      NA          NA    NA    NA    \n",
       "6 NA     14      NA          NA    NA    NA    "
      ]
     },
     "metadata": {},
     "output_type": "display_data"
    }
   ],
   "source": [
    "# SUBSET (MAY-OCTOBER ONLY)\n",
    "dat1<-dat1[dat1$month.assigned %in% 5:10,]\n",
    "# dat1 GOT OVER-WRITTEN SO YOU NEED TO BE CAREFUL. \n",
    "dim(dat1)\n",
    "# LOOK AT THE FIRST FEW ROWS OF THE COUNT DATA\n",
    "head(dat1)"
   ]
  },
  {
   "cell_type": "markdown",
   "id": "d0ddabba",
   "metadata": {},
   "source": [
    "Obviously choosing only wet season counts will reduce the number of data points (from 3212 to 1626 rows). It has no impact on the number of columns (variables). We can run some descriptive stats like we did before. \n",
    "\n",
    "### Descriptive statistics"
   ]
  },
  {
   "cell_type": "code",
   "execution_count": 3,
   "id": "518642b2",
   "metadata": {},
   "outputs": [
    {
     "name": "stdout",
     "output_type": "stream",
     "text": [
      "overall summary of count"
     ]
    },
    {
     "data": {
      "text/plain": [
       "   Min. 1st Qu.  Median    Mean 3rd Qu.    Max.    NA's \n",
       "   0.00    2.00    6.00   15.81   17.00  333.00      12 "
      ]
     },
     "metadata": {},
     "output_type": "display_data"
    },
    {
     "name": "stdout",
     "output_type": "stream",
     "text": [
      "mean count per month"
     ]
    },
    {
     "data": {
      "text/plain": [
       "dat1$month.assigned: 1\n",
       "[1] NA\n",
       "------------------------------------------------------------ \n",
       "dat1$month.assigned: 2\n",
       "[1] NA\n",
       "------------------------------------------------------------ \n",
       "dat1$month.assigned: 3\n",
       "[1] NA\n",
       "------------------------------------------------------------ \n",
       "dat1$month.assigned: 4\n",
       "[1] NA\n",
       "------------------------------------------------------------ \n",
       "dat1$month.assigned: 5\n",
       "[1] 16.57831\n",
       "------------------------------------------------------------ \n",
       "dat1$month.assigned: 6\n",
       "[1] 9.812139\n",
       "------------------------------------------------------------ \n",
       "dat1$month.assigned: 7\n",
       "[1] 15.21667\n",
       "------------------------------------------------------------ \n",
       "dat1$month.assigned: 8\n",
       "[1] 14.49857\n",
       "------------------------------------------------------------ \n",
       "dat1$month.assigned: 9\n",
       "[1] 26.59649\n",
       "------------------------------------------------------------ \n",
       "dat1$month.assigned: 10\n",
       "[1] 15.98261\n",
       "------------------------------------------------------------ \n",
       "dat1$month.assigned: 11\n",
       "[1] NA\n",
       "------------------------------------------------------------ \n",
       "dat1$month.assigned: 12\n",
       "[1] NA"
      ]
     },
     "metadata": {},
     "output_type": "display_data"
    },
    {
     "name": "stdout",
     "output_type": "stream",
     "text": [
      "mean count per year"
     ]
    },
    {
     "data": {
      "text/plain": [
       "dat1$year.assigned: 2012\n",
       "[1] 28.27308\n",
       "------------------------------------------------------------ \n",
       "dat1$year.assigned: 2013\n",
       "[1] 16.19429\n",
       "------------------------------------------------------------ \n",
       "dat1$year.assigned: 2014\n",
       "[1] 9.402878\n",
       "------------------------------------------------------------ \n",
       "dat1$year.assigned: 2017\n",
       "[1] 13.15132\n",
       "------------------------------------------------------------ \n",
       "dat1$year.assigned: 2018\n",
       "[1] 12.84746\n",
       "------------------------------------------------------------ \n",
       "dat1$year.assigned: 2019\n",
       "[1] 12.81955"
      ]
     },
     "metadata": {},
     "output_type": "display_data"
    },
    {
     "name": "stdout",
     "output_type": "stream",
     "text": [
      "mean count per village"
     ]
    },
    {
     "data": {
      "text/plain": [
       "dat1$village: Bana market\n",
       "[1] 16.81724\n",
       "------------------------------------------------------------ \n",
       "dat1$village: Bana village\n",
       "[1] 22.45911\n",
       "------------------------------------------------------------ \n",
       "dat1$village: Pala\n",
       "[1] 11.81\n",
       "------------------------------------------------------------ \n",
       "dat1$village: Souroukoudingan\n",
       "[1] 9.948187"
      ]
     },
     "metadata": {},
     "output_type": "display_data"
    }
   ],
   "source": [
    "# SOME DESCRIPTIVE STATISTICS ON THE RESPONSE VARIABLE, THAT IS, FEMALE MOSQUITO COUNT\n",
    "cat('overall summary of count')\n",
    "summary(dat1$count.f)\n",
    "cat('mean count per month')\n",
    "by(dat1$count.f, dat1$month.assigned, mean, na.rm=T)\n",
    "cat('mean count per year')\n",
    "by(dat1$count.f, dat1$year.assigned, mean, na.rm=T)\n",
    "cat('mean count per village')\n",
    "by(dat1$count.f, dat1$village, mean, na.rm=T)"
   ]
  },
  {
   "cell_type": "code",
   "execution_count": 4,
   "id": "28056e11",
   "metadata": {},
   "outputs": [
    {
     "data": {
      "image/png": "[encoded data removed]",
      "text/plain": [
       "Plot with title \"historgram of female mosquito count per house visit\""
      ]
     },
     "metadata": {},
     "output_type": "display_data"
    }
   ],
   "source": [
    "# HISTOGRAM OF THE RESPONSE\n",
    "hist(dat1$count.f, main='historgram of female mosquito count per house visit')"
   ]
  },
  {
   "cell_type": "code",
   "execution_count": 5,
   "id": "6309819a",
   "metadata": {},
   "outputs": [
    {
     "name": "stdout",
     "output_type": "stream",
     "text": [
      "number of unqiue days of data collection"
     ]
    },
    {
     "data": {
      "text/html": [
       "81"
      ],
      "text/latex": [
       "81"
      ],
      "text/markdown": [
       "81"
      ],
      "text/plain": [
       "[1] 81"
      ]
     },
     "metadata": {},
     "output_type": "display_data"
    },
    {
     "name": "stdout",
     "output_type": "stream",
     "text": [
      "number of unique houses we visited"
     ]
    },
    {
     "data": {
      "text/html": [
       "284"
      ],
      "text/latex": [
       "284"
      ],
      "text/markdown": [
       "284"
      ],
      "text/plain": [
       "[1] 284"
      ]
     },
     "metadata": {},
     "output_type": "display_data"
    },
    {
     "name": "stdout",
     "output_type": "stream",
     "text": [
      "summary of mosquito.net"
     ]
    },
    {
     "data": {
      "text/plain": [
       "dat1$village: Bana market\n",
       "  No  Yes NA's \n",
       "  25  263    4 \n",
       "------------------------------------------------------------ \n",
       "dat1$village: Bana village\n",
       "  No  Yes NA's \n",
       "  34  491   19 \n",
       "------------------------------------------------------------ \n",
       "dat1$village: Pala\n",
       "  No  Yes NA's \n",
       "  75  321    4 \n",
       "------------------------------------------------------------ \n",
       "dat1$village: Souroukoudingan\n",
       "  No  Yes NA's \n",
       "  27  360    3 "
      ]
     },
     "metadata": {},
     "output_type": "display_data"
    },
    {
     "name": "stdout",
     "output_type": "stream",
     "text": [
      "summary of number of persons in house"
     ]
    },
    {
     "data": {
      "text/plain": [
       "   Min. 1st Qu.  Median    Mean 3rd Qu.    Max.    NA's \n",
       "  0.000   2.000   3.000   3.182   4.000  16.000      38 "
      ]
     },
     "metadata": {},
     "output_type": "display_data"
    }
   ],
   "source": [
    "# DESCRIPTIVE STATS ON SOME EXPLANATORY VARIABLES AS WELL\n",
    "cat('number of unqiue days of data collection')\n",
    "length(unique(dat1$date.collection))\n",
    "cat('number of unique houses we visited')\n",
    "length(unique(dat1$site.id))\n",
    "cat('summary of mosquito.net')\n",
    "by(dat1$mosquito.net, dat1$village, summary)\n",
    "cat('summary of number of persons in house')\n",
    "summary(dat1$num.persons)"
   ]
  },
  {
   "cell_type": "markdown",
   "id": "602af24e",
   "metadata": {},
   "source": [
    "The mean counts are of course higher when we only include data points from the wet season. \n",
    "\n",
    "### Modelling\n",
    "\n",
    "#### Model 3 and 4B\n",
    "Let us go straight to model 3 and 4B in Notebook 1. Model 3 is the poisson glm models with month.assigned x village. Model 4B has mosquito.net and persons.status as well. All random effects are here to stay. "
   ]
  },
  {
   "cell_type": "code",
   "execution_count": 6,
   "id": "5c051adc",
   "metadata": {},
   "outputs": [
    {
     "name": "stderr",
     "output_type": "stream",
     "text": [
      "\n",
      "Correlation matrix not shown by default, as p = 24 > 12.\n",
      "Use print(obj, correlation=TRUE)  or\n",
      "    vcov(obj)        if you need it\n",
      "\n"
     ]
    },
    {
     "data": {
      "text/plain": [
       "Generalized linear mixed model fit by maximum likelihood (Laplace\n",
       "  Approximation) [glmerMod]\n",
       " Family: poisson  ( log )\n",
       "Formula: \n",
       "count.f ~ (1 | year.assigned) + (1 | site.id) + (1 | overdispersion) +  \n",
       "    month.assigned * village\n",
       "   Data: dat1\n",
       "Control: glmerControl(optimizer = \"bobyqa\", optCtrl = list(maxfun = 2e+05))\n",
       "\n",
       "     AIC      BIC   logLik deviance df.resid \n",
       " 11479.6  11625.0  -5712.8  11425.6     1587 \n",
       "\n",
       "Scaled residuals: \n",
       "     Min       1Q   Median       3Q      Max \n",
       "-1.42272 -0.32400 -0.01219  0.12854  0.56574 \n",
       "\n",
       "Random effects:\n",
       " Groups         Name        Variance Std.Dev.\n",
       " overdispersion (Intercept) 1.2481   1.1172  \n",
       " site.id        (Intercept) 0.4658   0.6825  \n",
       " year.assigned  (Intercept) 0.1259   0.3548  \n",
       "Number of obs: 1614, groups:  \n",
       "overdispersion, 1614; site.id, 284; year.assigned, 6\n",
       "\n",
       "Fixed effects:\n",
       "                                        Estimate Std. Error z value Pr(>|z|)\n",
       "(Intercept)                              1.98491    0.30832   6.438 1.21e-10\n",
       "month.assigned6                         -0.01767    0.24614  -0.072 0.942774\n",
       "month.assigned7                         -0.37128    0.26503  -1.401 0.161251\n",
       "month.assigned8                         -0.29178    0.24840  -1.175 0.240141\n",
       "month.assigned9                          0.36745    0.24536   1.498 0.134243\n",
       "month.assigned10                         0.14321    0.24402   0.587 0.557301\n",
       "villageBana village                      0.45979    0.31777   1.447 0.147915\n",
       "villagePala                              0.89775    0.40789   2.201 0.027737\n",
       "villageSouroukoudingan                  -0.42000    0.42068  -0.998 0.318095\n",
       "month.assigned6:villageBana village     -0.30550    0.31127  -0.981 0.326352\n",
       "month.assigned7:villageBana village     -0.13878    0.33215  -0.418 0.676068\n",
       "month.assigned8:villageBana village     -0.12930    0.30743  -0.421 0.674050\n",
       "month.assigned9:villageBana village     -0.14012    0.30676  -0.457 0.647832\n",
       "month.assigned10:villageBana village    -0.47458    0.30700  -1.546 0.122140\n",
       "month.assigned6:villagePala             -1.91845    0.40410  -4.748 2.06e-06\n",
       "month.assigned7:villagePala             -1.20454    0.43961  -2.740 0.006144\n",
       "month.assigned8:villagePala             -1.41077    0.40266  -3.504 0.000459\n",
       "month.assigned9:villagePala             -1.38270    0.42723  -3.236 0.001210\n",
       "month.assigned10:villagePala            -1.02696    0.39773  -2.582 0.009822\n",
       "month.assigned6:villageSouroukoudingan  -0.41850    0.41950  -0.998 0.318468\n",
       "month.assigned7:villageSouroukoudingan   0.63776    0.46764   1.364 0.172632\n",
       "month.assigned8:villageSouroukoudingan   0.19997    0.41765   0.479 0.632084\n",
       "month.assigned9:villageSouroukoudingan  -0.34698    0.44201  -0.785 0.432448\n",
       "month.assigned10:villageSouroukoudingan -0.17025    0.41388  -0.411 0.680805\n",
       "                                           \n",
       "(Intercept)                             ***\n",
       "month.assigned6                            \n",
       "month.assigned7                            \n",
       "month.assigned8                            \n",
       "month.assigned9                            \n",
       "month.assigned10                           \n",
       "villageBana village                        \n",
       "villagePala                             *  \n",
       "villageSouroukoudingan                     \n",
       "month.assigned6:villageBana village        \n",
       "month.assigned7:villageBana village        \n",
       "month.assigned8:villageBana village        \n",
       "month.assigned9:villageBana village        \n",
       "month.assigned10:villageBana village       \n",
       "month.assigned6:villagePala             ***\n",
       "month.assigned7:villagePala             ** \n",
       "month.assigned8:villagePala             ***\n",
       "month.assigned9:villagePala             ** \n",
       "month.assigned10:villagePala            ** \n",
       "month.assigned6:villageSouroukoudingan     \n",
       "month.assigned7:villageSouroukoudingan     \n",
       "month.assigned8:villageSouroukoudingan     \n",
       "month.assigned9:villageSouroukoudingan     \n",
       "month.assigned10:villageSouroukoudingan    \n",
       "---\n",
       "Signif. codes:  0 '***' 0.001 '**' 0.01 '*' 0.05 '.' 0.1 ' ' 1"
      ]
     },
     "metadata": {},
     "output_type": "display_data"
    }
   ],
   "source": [
    "# MODEL 3\n",
    "overdispersion<-1:nrow(dat1)\n",
    "m_3<-glmer(count.f~(1|year.assigned)+(1|site.id)+(1|overdispersion)+month.assigned*village, \n",
    "             family='poisson', data=dat1, \n",
    "             control=glmerControl(optimizer=\"bobyqa\",optCtrl=list(maxfun=2e5)))\n",
    "summary(m_3)"
   ]
  },
  {
   "cell_type": "code",
   "execution_count": 7,
   "id": "0bd081fc",
   "metadata": {},
   "outputs": [
    {
     "name": "stderr",
     "output_type": "stream",
     "text": [
      "\n",
      "Correlation matrix not shown by default, as p = 27 > 12.\n",
      "Use print(obj, correlation=TRUE)  or\n",
      "    vcov(obj)        if you need it\n",
      "\n"
     ]
    },
    {
     "data": {
      "text/plain": [
       "Generalized linear mixed model fit by maximum likelihood (Laplace\n",
       "  Approximation) [glmerMod]\n",
       " Family: poisson  ( log )\n",
       "Formula: \n",
       "count.f ~ (1 | year.assigned) + (1 | site.id) + (1 | overdispersion) +  \n",
       "    month.assigned * village + mosquito.net + persons.status\n",
       "   Data: dat1\n",
       "Control: glmerControl(optimizer = \"bobyqa\", optCtrl = list(maxfun = 2e+05))\n",
       "\n",
       "     AIC      BIC   logLik deviance df.resid \n",
       " 11207.0  11367.9  -5573.5  11147.0     1551 \n",
       "\n",
       "Scaled residuals: \n",
       "     Min       1Q   Median       3Q      Max \n",
       "-1.39317 -0.32426 -0.01092  0.12816  0.58715 \n",
       "\n",
       "Random effects:\n",
       " Groups         Name        Variance Std.Dev.\n",
       " overdispersion (Intercept) 1.2350   1.1113  \n",
       " site.id        (Intercept) 0.4070   0.6380  \n",
       " year.assigned  (Intercept) 0.1096   0.3311  \n",
       "Number of obs: 1581, groups:  \n",
       "overdispersion, 1581; site.id, 278; year.assigned, 6\n",
       "\n",
       "Fixed effects:\n",
       "                                        Estimate Std. Error z value Pr(>|z|)\n",
       "(Intercept)                              1.22601    0.56217   2.181 0.029192\n",
       "month.assigned6                         -0.04604    0.24534  -0.188 0.851140\n",
       "month.assigned7                         -0.42929    0.26652  -1.611 0.107240\n",
       "month.assigned8                         -0.39309    0.24938  -1.576 0.114960\n",
       "month.assigned9                          0.30660    0.24450   1.254 0.209849\n",
       "month.assigned10                         0.11901    0.24435   0.487 0.626211\n",
       "villageBana village                      0.47147    0.30765   1.532 0.125406\n",
       "villagePala                              0.82009    0.40160   2.042 0.041143\n",
       "villageSouroukoudingan                  -0.48871    0.41142  -1.188 0.234890\n",
       "mosquito.netYes                         -0.10593    0.11435  -0.926 0.354235\n",
       "persons.statusLow                        0.75988    0.49127   1.547 0.121922\n",
       "persons.statusHi                         1.20639    0.49323   2.446 0.014449\n",
       "month.assigned6:villageBana village     -0.30950    0.31071  -0.996 0.319207\n",
       "month.assigned7:villageBana village     -0.08866    0.33254  -0.267 0.789774\n",
       "month.assigned8:villageBana village     -0.05509    0.31044  -0.177 0.859144\n",
       "month.assigned9:villageBana village     -0.04533    0.30917  -0.147 0.883429\n",
       "month.assigned10:villageBana village    -0.45058    0.30655  -1.470 0.141604\n",
       "month.assigned6:villagePala             -1.93265    0.40375  -4.787  1.7e-06\n",
       "month.assigned7:villagePala             -1.13137    0.44084  -2.566 0.010275\n",
       "month.assigned8:villagePala             -1.33605    0.40406  -3.307 0.000944\n",
       "month.assigned9:villagePala             -1.31845    0.42803  -3.080 0.002068\n",
       "month.assigned10:villagePala            -1.00811    0.39671  -2.541 0.011047\n",
       "month.assigned6:villageSouroukoudingan  -0.41779    0.41651  -1.003 0.315819\n",
       "month.assigned7:villageSouroukoudingan   0.58778    0.46522   1.263 0.206431\n",
       "month.assigned8:villageSouroukoudingan   0.30679    0.41580   0.738 0.460625\n",
       "month.assigned9:villageSouroukoudingan  -0.23816    0.43948  -0.542 0.587875\n",
       "month.assigned10:villageSouroukoudingan -0.06921    0.41190  -0.168 0.866564\n",
       "                                           \n",
       "(Intercept)                             *  \n",
       "month.assigned6                            \n",
       "month.assigned7                            \n",
       "month.assigned8                            \n",
       "month.assigned9                            \n",
       "month.assigned10                           \n",
       "villageBana village                        \n",
       "villagePala                             *  \n",
       "villageSouroukoudingan                     \n",
       "mosquito.netYes                            \n",
       "persons.statusLow                          \n",
       "persons.statusHi                        *  \n",
       "month.assigned6:villageBana village        \n",
       "month.assigned7:villageBana village        \n",
       "month.assigned8:villageBana village        \n",
       "month.assigned9:villageBana village        \n",
       "month.assigned10:villageBana village       \n",
       "month.assigned6:villagePala             ***\n",
       "month.assigned7:villagePala             *  \n",
       "month.assigned8:villagePala             ***\n",
       "month.assigned9:villagePala             ** \n",
       "month.assigned10:villagePala            *  \n",
       "month.assigned6:villageSouroukoudingan     \n",
       "month.assigned7:villageSouroukoudingan     \n",
       "month.assigned8:villageSouroukoudingan     \n",
       "month.assigned9:villageSouroukoudingan     \n",
       "month.assigned10:villageSouroukoudingan    \n",
       "---\n",
       "Signif. codes:  0 '***' 0.001 '**' 0.01 '*' 0.05 '.' 0.1 ' ' 1"
      ]
     },
     "metadata": {},
     "output_type": "display_data"
    }
   ],
   "source": [
    "# MODEL 4B\n",
    "# THREE LEVELS OF PERSONS: None, Low, Hi. \n",
    "dat1$persons.status<-dat1$num.persons\n",
    "dat1$persons.status[dat1$num.persons>3]<-'Hi'\n",
    "dat1$persons.status[dat1$num.persons<=3]<-'Low'\n",
    "dat1$persons.status[dat1$num.persons==0]<-'None'\n",
    "dat1$persons.status<-factor(dat1$persons.status, levels=c('None', 'Low', 'Hi'))\n",
    "overdispersion<-1:nrow(dat1)\n",
    "m_4B<-glmer(count.f~(1|year.assigned)+(1|site.id)+(1|overdispersion)+month.assigned*village+mosquito.net+persons.status, \n",
    "             family='poisson', data=dat1, \n",
    "             control=glmerControl(optimizer=\"bobyqa\",optCtrl=list(maxfun=2e5)))\n",
    "summary(m_4B, correlation=FALSE)"
   ]
  },
  {
   "cell_type": "markdown",
   "id": "7b4e5b0f",
   "metadata": {},
   "source": [
    "Again, we need to look at what happened to the counts from Pala, month 05. \n",
    "\n",
    "#### Model 5 using male count as covariate\n",
    "Another possible covariate I want to explore is the male mosquito count observed during the same house visit. I believe the female and male counts are (positively) correlated, and hope that knowing the male counts may give information on the female counts. Note that in an earlier exercise we know that the male counts are usually much lower. I use log(dat$count.m+1) as the covariate. I use log(x+1) as the \"plus one\" is to avoid log(0) while transforming. \n",
    "\n",
    "Just before fitting a model I want to plot a scatter plot between the male and female counts (in log scale). "
   ]
  },
  {
   "cell_type": "code",
   "execution_count": 8,
   "id": "ccf65da4",
   "metadata": {},
   "outputs": [
    {
     "data": {
      "text/html": [
       "0.579966571390992"
      ],
      "text/latex": [
       "0.579966571390992"
      ],
      "text/markdown": [
       "0.579966571390992"
      ],
      "text/plain": [
       "[1] 0.5799666"
      ]
     },
     "metadata": {},
     "output_type": "display_data"
    },
    {
     "data": {
      "image/png": "[encoded data removed]",
      "text/plain": [
       "plot without title"
      ]
     },
     "metadata": {},
     "output_type": "display_data"
    }
   ],
   "source": [
    "# SCATTER PLOT OF (LOG) FEMALE AGAINST MALE COUNT\n",
    "plot(log(dat1$count.m+1), log(dat1$count.f+1), xlab='log male count', ylab='log female count')\n",
    "# CORRELATION COEFFICIENT\n",
    "cor(log(dat1$count.m+1), log(dat1$count.f+1), use='pairwise')"
   ]
  },
  {
   "cell_type": "markdown",
   "id": "e090693c",
   "metadata": {},
   "source": [
    "The plot and the correlation coefficient (+0.58) confirm the positive relationship between the two log counts. Now, let's build model 5 with this additional covariate: "
   ]
  },
  {
   "cell_type": "code",
   "execution_count": 9,
   "id": "c1a9b8d9",
   "metadata": {
    "scrolled": false
   },
   "outputs": [
    {
     "name": "stderr",
     "output_type": "stream",
     "text": [
      "\n",
      "Correlation matrix not shown by default, as p = 28 > 12.\n",
      "Use print(obj, correlation=TRUE)  or\n",
      "    vcov(obj)        if you need it\n",
      "\n"
     ]
    },
    {
     "data": {
      "text/plain": [
       "Generalized linear mixed model fit by maximum likelihood (Laplace\n",
       "  Approximation) [glmerMod]\n",
       " Family: poisson  ( log )\n",
       "Formula: \n",
       "count.f ~ (1 | year.assigned) + (1 | site.id) + (1 | overdispersion) +  \n",
       "    month.assigned * village + mosquito.net + persons.status +      log.count.m\n",
       "   Data: dat1\n",
       "Control: glmerControl(optimizer = \"bobyqa\", optCtrl = list(maxfun = 2e+05))\n",
       "\n",
       "     AIC      BIC   logLik deviance df.resid \n",
       " 10713.8  10880.1  -5325.9  10651.8     1550 \n",
       "\n",
       "Scaled residuals: \n",
       "     Min       1Q   Median       3Q      Max \n",
       "-1.45851 -0.35726 -0.02856  0.16034  0.72388 \n",
       "\n",
       "Random effects:\n",
       " Groups         Name        Variance Std.Dev.\n",
       " overdispersion (Intercept) 0.87693  0.9364  \n",
       " site.id        (Intercept) 0.17834  0.4223  \n",
       " year.assigned  (Intercept) 0.02924  0.1710  \n",
       "Number of obs: 1581, groups:  \n",
       "overdispersion, 1581; site.id, 278; year.assigned, 6\n",
       "\n",
       "Fixed effects:\n",
       "                                        Estimate Std. Error z value Pr(>|z|)\n",
       "(Intercept)                              0.63352    0.46690   1.357  0.17483\n",
       "month.assigned6                          0.05302    0.21191   0.250  0.80242\n",
       "month.assigned7                         -0.25957    0.23048  -1.126  0.26007\n",
       "month.assigned8                         -0.18850    0.21557  -0.874  0.38189\n",
       "month.assigned9                          0.23873    0.21021   1.136  0.25609\n",
       "month.assigned10                        -0.02951    0.21075  -0.140  0.88863\n",
       "villageBana village                      0.22489    0.23908   0.941  0.34688\n",
       "villagePala                             -0.16444    0.32392  -0.508  0.61169\n",
       "villageSouroukoudingan                  -0.87391    0.33508  -2.608  0.00911\n",
       "mosquito.netYes                         -0.10731    0.09715  -1.105  0.26933\n",
       "persons.statusLow                        0.79015    0.42473   1.860  0.06284\n",
       "persons.statusHi                         1.30711    0.42671   3.063  0.00219\n",
       "log.count.m                              0.68388    0.02868  23.845  < 2e-16\n",
       "month.assigned6:villageBana village     -0.26436    0.26678  -0.991  0.32172\n",
       "month.assigned7:villageBana village     -0.11041    0.28644  -0.385  0.69991\n",
       "month.assigned8:villageBana village     -0.21479    0.26781  -0.802  0.42254\n",
       "month.assigned9:villageBana village      0.09468    0.26443   0.358  0.72031\n",
       "month.assigned10:villageBana village    -0.28236    0.26333  -1.072  0.28361\n",
       "month.assigned6:villagePala             -1.01446    0.34519  -2.939  0.00329\n",
       "month.assigned7:villagePala             -0.27320    0.37636  -0.726  0.46790\n",
       "month.assigned8:villagePala             -0.30724    0.34574  -0.889  0.37420\n",
       "month.assigned9:villagePala             -0.12890    0.36540  -0.353  0.72427\n",
       "month.assigned10:villagePala            -0.17839    0.33800  -0.528  0.59766\n",
       "month.assigned6:villageSouroukoudingan   0.04942    0.35759   0.138  0.89008\n",
       "month.assigned7:villageSouroukoudingan   1.07767    0.39768   2.710  0.00673\n",
       "month.assigned8:villageSouroukoudingan   0.55053    0.35676   1.543  0.12280\n",
       "month.assigned9:villageSouroukoudingan   0.17926    0.37652   0.476  0.63401\n",
       "month.assigned10:villageSouroukoudingan  0.30286    0.35357   0.857  0.39168\n",
       "                                           \n",
       "(Intercept)                                \n",
       "month.assigned6                            \n",
       "month.assigned7                            \n",
       "month.assigned8                            \n",
       "month.assigned9                            \n",
       "month.assigned10                           \n",
       "villageBana village                        \n",
       "villagePala                                \n",
       "villageSouroukoudingan                  ** \n",
       "mosquito.netYes                            \n",
       "persons.statusLow                       .  \n",
       "persons.statusHi                        ** \n",
       "log.count.m                             ***\n",
       "month.assigned6:villageBana village        \n",
       "month.assigned7:villageBana village        \n",
       "month.assigned8:villageBana village        \n",
       "month.assigned9:villageBana village        \n",
       "month.assigned10:villageBana village       \n",
       "month.assigned6:villagePala             ** \n",
       "month.assigned7:villagePala                \n",
       "month.assigned8:villagePala                \n",
       "month.assigned9:villagePala                \n",
       "month.assigned10:villagePala               \n",
       "month.assigned6:villageSouroukoudingan     \n",
       "month.assigned7:villageSouroukoudingan  ** \n",
       "month.assigned8:villageSouroukoudingan     \n",
       "month.assigned9:villageSouroukoudingan     \n",
       "month.assigned10:villageSouroukoudingan    \n",
       "---\n",
       "Signif. codes:  0 '***' 0.001 '**' 0.01 '*' 0.05 '.' 0.1 ' ' 1"
      ]
     },
     "metadata": {},
     "output_type": "display_data"
    }
   ],
   "source": [
    "# MODEL 5, ADD LOG OF MALE COUNT AS COVARIATE\n",
    "# I ALSO CHECKED (NOT SHOWN) THAT THE INTERACTION TERM IS TO STAY\n",
    "overdispersion<-1:nrow(dat1)\n",
    "log.count.m<-log(dat1$count.m+1)\n",
    "m_5<-glmer(count.f~(1|year.assigned)+(1|site.id)+(1|overdispersion)+month.assigned*village+mosquito.net+persons.status+log.count.m, \n",
    "             family='poisson', data=dat1, \n",
    "             control=glmerControl(optimizer=\"bobyqa\",optCtrl=list(maxfun=2e5)))\n",
    "summary(m_5)"
   ]
  },
  {
   "cell_type": "markdown",
   "id": "6f1f9087",
   "metadata": {},
   "source": [
    "We can see that the log male count from the same house visit is highly significant. It reduces the variances of all 3 random effects, and it almost removes yearly effect. \n",
    "\n",
    "Our releases intend to reduce the number of female mosquitoes (coluzzii in particular) but will not impact the male's population. If this is assumption is correct then having male count as a covariate can increase the power to detect the difference pre- and post-intervention. \n",
    "\n",
    "In the meeting some suggested that the two variables are so closely related and we should study the ratio between the two (through binomial glm for example). In Notebook 4 I will do some modelling on proportions. My feeling is the ratio (or the reduction in ratio) is not as sensitive as the count. One reason is that the male/female ratio is heavily skewed, and that any changes in the ratio will be difficult to be detected. \n",
    "\n",
    "### Conclusion\n",
    "The variance estimates of the random effects are quite consistent thoughout. Over-dispersion remains the largest component, followed by site.id (individual house effect) and yearly effect. Including male mosquito count as covariate reduces all the variance estimates, which will be useful in power analysis. \n",
    "\n",
    "For the main effects, more persons within a house increases the rate. Mosquito net decreases the rate but only by a little (not quite significant). For the villages, Souroukoudingan has the lowest rate and this effect is significant. The interaction between village and month.asigned exists. The significance of the terms are quite sensitive to which subset you choose to analyse. \n",
    "\n",
    "The next step is to use Models 5 or 6 to simulate some mosquito counts, and see if they are close to what we observed. \n",
    "\n",
    "The next notebook tries to incorporate weather station info to the analysis. "
   ]
  }
 ],
 "metadata": {
  "kernelspec": {
   "display_name": "R",
   "language": "R",
   "name": "ir"
  },
  "language_info": {
   "codemirror_mode": "r",
   "file_extension": ".r",
   "mimetype": "text/x-r-source",
   "name": "R",
   "pygments_lexer": "r",
   "version": "3.5.3"
  }
 },
 "nbformat": 4,
 "nbformat_minor": 5
}
