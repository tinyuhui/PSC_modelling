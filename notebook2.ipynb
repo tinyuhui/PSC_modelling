{
 "cells": [
  {
   "cell_type": "markdown",
   "id": "243c3b65",
   "metadata": {},
   "source": [
    "## Notebook 2. \n",
    "\n",
    "We will perform the same modelling as in Notebook 1 but using only the counts during the wet season (May - October). This is because we are likely to conduct our releases during the wet season hence we should focus more on this duration. Another reason is that including the dry season counts (with many 0 entires) may have bad impact on the models we built. "
   ]
  },
  {
   "cell_type": "code",
   "execution_count": 1,
   "id": "ea96d14b",
   "metadata": {},
   "outputs": [
    {
     "name": "stderr",
     "output_type": "stream",
     "text": [
      "Loading required package: compiler\n"
     ]
    },
    {
     "data": {
      "text/html": [
       "3"
      ],
      "text/latex": [
       "3"
      ],
      "text/markdown": [
       "3"
      ],
      "text/plain": [
       "[1] 3"
      ]
     },
     "metadata": {},
     "output_type": "display_data"
    },
    {
     "name": "stderr",
     "output_type": "stream",
     "text": [
      "Loading required package: lme4\n",
      "Loading required package: Matrix\n",
      "Loading required package: lmerTest\n",
      "\n",
      "Attaching package: 'lmerTest'\n",
      "\n",
      "The following object is masked from 'package:lme4':\n",
      "\n",
      "    lmer\n",
      "\n",
      "The following object is masked from 'package:stats':\n",
      "\n",
      "    step\n",
      "\n",
      "Loading required package: MASS\n"
     ]
    },
    {
     "data": {
      "text/html": [
       "<ol class=list-inline>\n",
       "\t<li>'BV_weather'</li>\n",
       "\t<li>'dat1'</li>\n",
       "\t<li>'PL_weather'</li>\n",
       "\t<li>'SK_weather'</li>\n",
       "</ol>\n"
      ],
      "text/latex": [
       "\\begin{enumerate*}\n",
       "\\item 'BV\\_weather'\n",
       "\\item 'dat1'\n",
       "\\item 'PL\\_weather'\n",
       "\\item 'SK\\_weather'\n",
       "\\end{enumerate*}\n"
      ],
      "text/markdown": [
       "1. 'BV_weather'\n",
       "2. 'dat1'\n",
       "3. 'PL_weather'\n",
       "4. 'SK_weather'\n",
       "\n",
       "\n"
      ],
      "text/plain": [
       "[1] \"BV_weather\" \"dat1\"       \"PL_weather\" \"SK_weather\""
      ]
     },
     "metadata": {},
     "output_type": "display_data"
    },
    {
     "data": {
      "text/html": [
       "<ol class=list-inline>\n",
       "\t<li>3212</li>\n",
       "\t<li>26</li>\n",
       "</ol>\n"
      ],
      "text/latex": [
       "\\begin{enumerate*}\n",
       "\\item 3212\n",
       "\\item 26\n",
       "\\end{enumerate*}\n"
      ],
      "text/markdown": [
       "1. 3212\n",
       "2. 26\n",
       "\n",
       "\n"
      ],
      "text/plain": [
       "[1] 3212   26"
      ]
     },
     "metadata": {},
     "output_type": "display_data"
    }
   ],
   "source": [
    "# LOAD R PACKAGES\n",
    "require(compiler)\n",
    "enableJIT(3)\n",
    "setMKLthreads(22)\n",
    "require(lme4)\n",
    "require(lmerTest)\n",
    "require(MASS)\n",
    "\n",
    "# LOAD DATASET dat1\n",
    "#setwd('variance/Florian')\n",
    "load('Per house data PSC 2012 to 2019 polish2.RData')\n",
    "load('BF_weather.RData')\n",
    "ls()\n",
    "dim(dat1)"
   ]
  },
  {
   "cell_type": "code",
   "execution_count": 4,
   "id": "583b6a57",
   "metadata": {},
   "outputs": [
    {
     "data": {
      "text/html": [
       "<ol class=list-inline>\n",
       "\t<li>1626</li>\n",
       "\t<li>26</li>\n",
       "</ol>\n"
      ],
      "text/latex": [
       "\\begin{enumerate*}\n",
       "\\item 1626\n",
       "\\item 26\n",
       "\\end{enumerate*}\n"
      ],
      "text/markdown": [
       "1. 1626\n",
       "2. 26\n",
       "\n",
       "\n"
      ],
      "text/plain": [
       "[1] 1626   26"
      ]
     },
     "metadata": {},
     "output_type": "display_data"
    },
    {
     "data": {
      "text/html": [
       "<table>\n",
       "<thead><tr><th scope=col>village</th><th scope=col>month.assigned</th><th scope=col>year.assigned</th><th scope=col>monthyear.assigned</th><th scope=col>day</th><th scope=col>month</th><th scope=col>year</th><th scope=col>date.collection</th><th scope=col>site.id</th><th scope=col>longitude</th><th scope=col>...</th><th scope=col>count.m</th><th scope=col>genotyped.m</th><th scope=col>col.m</th><th scope=col>gam.m</th><th scope=col>arab.m</th><th scope=col>count.f</th><th scope=col>genotyped.f</th><th scope=col>col.f</th><th scope=col>gam.f</th><th scope=col>arab.f</th></tr></thead>\n",
       "<tbody>\n",
       "\t<tr><td>Bana market </td><td>7           </td><td>2012        </td><td>07/2012     </td><td>28          </td><td>7           </td><td>2012        </td><td>2012-07-28  </td><td>BF.BM.02.001</td><td>-4.471190   </td><td>...         </td><td>1           </td><td>NA          </td><td>NA          </td><td>NA          </td><td>NA          </td><td> 7          </td><td>NA          </td><td>NA          </td><td>NA          </td><td>NA          </td></tr>\n",
       "\t<tr><td>Bana market </td><td>7           </td><td>2012        </td><td>07/2012     </td><td>28          </td><td>7           </td><td>2012        </td><td>2012-07-28  </td><td>BF.BM.03.001</td><td>-4.471004   </td><td>...         </td><td>0           </td><td>NA          </td><td>NA          </td><td>NA          </td><td>NA          </td><td> 6          </td><td>NA          </td><td>NA          </td><td>NA          </td><td>NA          </td></tr>\n",
       "\t<tr><td>Bana market </td><td>7           </td><td>2012        </td><td>07/2012     </td><td>28          </td><td>7           </td><td>2012        </td><td>2012-07-28  </td><td>BF.BM.13.001</td><td>-4.470798   </td><td>...         </td><td>0           </td><td>NA          </td><td>NA          </td><td>NA          </td><td>NA          </td><td>12          </td><td>NA          </td><td>NA          </td><td>NA          </td><td>NA          </td></tr>\n",
       "\t<tr><td>Bana market </td><td>7           </td><td>2012        </td><td>07/2012     </td><td>28          </td><td>7           </td><td>2012        </td><td>2012-07-28  </td><td>BF.BM.16.001</td><td>-4.482247   </td><td>...         </td><td>2           </td><td>NA          </td><td>NA          </td><td>NA          </td><td>NA          </td><td>25          </td><td>NA          </td><td>NA          </td><td>NA          </td><td>NA          </td></tr>\n",
       "\t<tr><td>Bana market </td><td>7           </td><td>2012        </td><td>07/2012     </td><td>28          </td><td>7           </td><td>2012        </td><td>2012-07-28  </td><td>BF.BM.27.001</td><td>-4.485166   </td><td>...         </td><td>3           </td><td>NA          </td><td>NA          </td><td>NA          </td><td>NA          </td><td>40          </td><td>NA          </td><td>NA          </td><td>NA          </td><td>NA          </td></tr>\n",
       "\t<tr><td>Bana market </td><td>7           </td><td>2012        </td><td>07/2012     </td><td>28          </td><td>7           </td><td>2012        </td><td>2012-07-28  </td><td>BF.BM.31.001</td><td>-4.482649   </td><td>...         </td><td>2           </td><td>NA          </td><td>NA          </td><td>NA          </td><td>NA          </td><td>14          </td><td>NA          </td><td>NA          </td><td>NA          </td><td>NA          </td></tr>\n",
       "</tbody>\n",
       "</table>\n"
      ],
      "text/latex": [
       "\\begin{tabular}{r|llllllllllllllllllllllllll}\n",
       " village & month.assigned & year.assigned & monthyear.assigned & day & month & year & date.collection & site.id & longitude & ... & count.m & genotyped.m & col.m & gam.m & arab.m & count.f & genotyped.f & col.f & gam.f & arab.f\\\\\n",
       "\\hline\n",
       "\t Bana market  & 7            & 2012         & 07/2012      & 28           & 7            & 2012         & 2012-07-28   & BF.BM.02.001 & -4.471190    & ...          & 1            & NA           & NA           & NA           & NA           &  7           & NA           & NA           & NA           & NA          \\\\\n",
       "\t Bana market  & 7            & 2012         & 07/2012      & 28           & 7            & 2012         & 2012-07-28   & BF.BM.03.001 & -4.471004    & ...          & 0            & NA           & NA           & NA           & NA           &  6           & NA           & NA           & NA           & NA          \\\\\n",
       "\t Bana market  & 7            & 2012         & 07/2012      & 28           & 7            & 2012         & 2012-07-28   & BF.BM.13.001 & -4.470798    & ...          & 0            & NA           & NA           & NA           & NA           & 12           & NA           & NA           & NA           & NA          \\\\\n",
       "\t Bana market  & 7            & 2012         & 07/2012      & 28           & 7            & 2012         & 2012-07-28   & BF.BM.16.001 & -4.482247    & ...          & 2            & NA           & NA           & NA           & NA           & 25           & NA           & NA           & NA           & NA          \\\\\n",
       "\t Bana market  & 7            & 2012         & 07/2012      & 28           & 7            & 2012         & 2012-07-28   & BF.BM.27.001 & -4.485166    & ...          & 3            & NA           & NA           & NA           & NA           & 40           & NA           & NA           & NA           & NA          \\\\\n",
       "\t Bana market  & 7            & 2012         & 07/2012      & 28           & 7            & 2012         & 2012-07-28   & BF.BM.31.001 & -4.482649    & ...          & 2            & NA           & NA           & NA           & NA           & 14           & NA           & NA           & NA           & NA          \\\\\n",
       "\\end{tabular}\n"
      ],
      "text/markdown": [
       "\n",
       "| village | month.assigned | year.assigned | monthyear.assigned | day | month | year | date.collection | site.id | longitude | ... | count.m | genotyped.m | col.m | gam.m | arab.m | count.f | genotyped.f | col.f | gam.f | arab.f |\n",
       "|---|---|---|---|---|---|---|---|---|---|---|---|---|---|---|---|---|---|---|---|---|\n",
       "| Bana market  | 7            | 2012         | 07/2012      | 28           | 7            | 2012         | 2012-07-28   | BF.BM.02.001 | -4.471190    | ...          | 1            | NA           | NA           | NA           | NA           |  7           | NA           | NA           | NA           | NA           |\n",
       "| Bana market  | 7            | 2012         | 07/2012      | 28           | 7            | 2012         | 2012-07-28   | BF.BM.03.001 | -4.471004    | ...          | 0            | NA           | NA           | NA           | NA           |  6           | NA           | NA           | NA           | NA           |\n",
       "| Bana market  | 7            | 2012         | 07/2012      | 28           | 7            | 2012         | 2012-07-28   | BF.BM.13.001 | -4.470798    | ...          | 0            | NA           | NA           | NA           | NA           | 12           | NA           | NA           | NA           | NA           |\n",
       "| Bana market  | 7            | 2012         | 07/2012      | 28           | 7            | 2012         | 2012-07-28   | BF.BM.16.001 | -4.482247    | ...          | 2            | NA           | NA           | NA           | NA           | 25           | NA           | NA           | NA           | NA           |\n",
       "| Bana market  | 7            | 2012         | 07/2012      | 28           | 7            | 2012         | 2012-07-28   | BF.BM.27.001 | -4.485166    | ...          | 3            | NA           | NA           | NA           | NA           | 40           | NA           | NA           | NA           | NA           |\n",
       "| Bana market  | 7            | 2012         | 07/2012      | 28           | 7            | 2012         | 2012-07-28   | BF.BM.31.001 | -4.482649    | ...          | 2            | NA           | NA           | NA           | NA           | 14           | NA           | NA           | NA           | NA           |\n",
       "\n"
      ],
      "text/plain": [
       "  village     month.assigned year.assigned monthyear.assigned day month year\n",
       "1 Bana market 7              2012          07/2012            28  7     2012\n",
       "2 Bana market 7              2012          07/2012            28  7     2012\n",
       "3 Bana market 7              2012          07/2012            28  7     2012\n",
       "4 Bana market 7              2012          07/2012            28  7     2012\n",
       "5 Bana market 7              2012          07/2012            28  7     2012\n",
       "6 Bana market 7              2012          07/2012            28  7     2012\n",
       "  date.collection site.id      longitude ... count.m genotyped.m col.m gam.m\n",
       "1 2012-07-28      BF.BM.02.001 -4.471190 ... 1       NA          NA    NA   \n",
       "2 2012-07-28      BF.BM.03.001 -4.471004 ... 0       NA          NA    NA   \n",
       "3 2012-07-28      BF.BM.13.001 -4.470798 ... 0       NA          NA    NA   \n",
       "4 2012-07-28      BF.BM.16.001 -4.482247 ... 2       NA          NA    NA   \n",
       "5 2012-07-28      BF.BM.27.001 -4.485166 ... 3       NA          NA    NA   \n",
       "6 2012-07-28      BF.BM.31.001 -4.482649 ... 2       NA          NA    NA   \n",
       "  arab.m count.f genotyped.f col.f gam.f arab.f\n",
       "1 NA      7      NA          NA    NA    NA    \n",
       "2 NA      6      NA          NA    NA    NA    \n",
       "3 NA     12      NA          NA    NA    NA    \n",
       "4 NA     25      NA          NA    NA    NA    \n",
       "5 NA     40      NA          NA    NA    NA    \n",
       "6 NA     14      NA          NA    NA    NA    "
      ]
     },
     "metadata": {},
     "output_type": "display_data"
    }
   ],
   "source": [
    "# SUBSET (MAY-OCTOBER ONLY)\n",
    "dat1<-dat1[dat1$month.assigned %in% 5:10,]\n",
    "# dat1 GOT OVER-WRITTEN SO YOU NEED TO BE CAREFUL. \n",
    "dim(dat1)\n",
    "# LOOK AT THE FIRST FEW ROWS OF THE COUNT DATA\n",
    "head(dat1)"
   ]
  },
  {
   "cell_type": "markdown",
   "id": "f5cd2625",
   "metadata": {},
   "source": [
    "Let us look at the variables in the weather info:"
   ]
  },
  {
   "cell_type": "code",
   "execution_count": 3,
   "id": "95cd6cc9",
   "metadata": {},
   "outputs": [
    {
     "data": {
      "text/html": [
       "<table>\n",
       "<thead><tr><th scope=col>date</th><th scope=col>meantemp.c</th><th scope=col>maxtemp.c</th><th scope=col>mintemp.c</th><th scope=col>humidity.percent</th><th scope=col>winddir.deg</th><th scope=col>windspeed.kmhr</th><th scope=col>gustspeed.kmhr</th><th scope=col>rain.mm</th><th scope=col>sun.wma2</th></tr></thead>\n",
       "<tbody>\n",
       "\t<tr><td>2014-07-31</td><td>27.79938  </td><td>32.742    </td><td>24.098    </td><td>78.11377  </td><td>204.6935  </td><td>0.6704348 </td><td>3.153841  </td><td>0.0       </td><td>224.0761  </td></tr>\n",
       "\t<tr><td>2014-08-01</td><td>26.46952  </td><td>32.536    </td><td>22.633    </td><td>83.48438  </td><td>191.1722  </td><td>1.6741667 </td><td>6.360660  </td><td>5.4       </td><td>206.9358  </td></tr>\n",
       "\t<tr><td>2014-08-02</td><td>26.09427  </td><td>31.459    </td><td>21.628    </td><td>80.71215  </td><td>188.3132  </td><td>0.9368403 </td><td>5.585556  </td><td>0.0       </td><td>236.3309  </td></tr>\n",
       "\t<tr><td>2014-08-03</td><td>25.43908  </td><td>31.689    </td><td>21.676    </td><td>83.75208  </td><td>187.1885  </td><td>1.1211806 </td><td>5.052535  </td><td>0.2       </td><td>199.4365  </td></tr>\n",
       "\t<tr><td>2014-08-04</td><td>25.57674  </td><td>30.874    </td><td>23.136    </td><td>85.59410  </td><td>207.0135  </td><td>1.0736111 </td><td>5.181632  </td><td>1.0       </td><td>158.8788  </td></tr>\n",
       "\t<tr><td>2014-08-05</td><td>25.20164  </td><td>31.663    </td><td>22.417    </td><td>86.57118  </td><td>217.7208  </td><td>0.9179167 </td><td>5.496701  </td><td>2.2       </td><td>215.0361  </td></tr>\n",
       "</tbody>\n",
       "</table>\n"
      ],
      "text/latex": [
       "\\begin{tabular}{r|llllllllll}\n",
       " date & meantemp.c & maxtemp.c & mintemp.c & humidity.percent & winddir.deg & windspeed.kmhr & gustspeed.kmhr & rain.mm & sun.wma2\\\\\n",
       "\\hline\n",
       "\t 2014-07-31 & 27.79938   & 32.742     & 24.098     & 78.11377   & 204.6935   & 0.6704348  & 3.153841   & 0.0        & 224.0761  \\\\\n",
       "\t 2014-08-01 & 26.46952   & 32.536     & 22.633     & 83.48438   & 191.1722   & 1.6741667  & 6.360660   & 5.4        & 206.9358  \\\\\n",
       "\t 2014-08-02 & 26.09427   & 31.459     & 21.628     & 80.71215   & 188.3132   & 0.9368403  & 5.585556   & 0.0        & 236.3309  \\\\\n",
       "\t 2014-08-03 & 25.43908   & 31.689     & 21.676     & 83.75208   & 187.1885   & 1.1211806  & 5.052535   & 0.2        & 199.4365  \\\\\n",
       "\t 2014-08-04 & 25.57674   & 30.874     & 23.136     & 85.59410   & 207.0135   & 1.0736111  & 5.181632   & 1.0        & 158.8788  \\\\\n",
       "\t 2014-08-05 & 25.20164   & 31.663     & 22.417     & 86.57118   & 217.7208   & 0.9179167  & 5.496701   & 2.2        & 215.0361  \\\\\n",
       "\\end{tabular}\n"
      ],
      "text/markdown": [
       "\n",
       "| date | meantemp.c | maxtemp.c | mintemp.c | humidity.percent | winddir.deg | windspeed.kmhr | gustspeed.kmhr | rain.mm | sun.wma2 |\n",
       "|---|---|---|---|---|---|---|---|---|---|\n",
       "| 2014-07-31 | 27.79938   | 32.742     | 24.098     | 78.11377   | 204.6935   | 0.6704348  | 3.153841   | 0.0        | 224.0761   |\n",
       "| 2014-08-01 | 26.46952   | 32.536     | 22.633     | 83.48438   | 191.1722   | 1.6741667  | 6.360660   | 5.4        | 206.9358   |\n",
       "| 2014-08-02 | 26.09427   | 31.459     | 21.628     | 80.71215   | 188.3132   | 0.9368403  | 5.585556   | 0.0        | 236.3309   |\n",
       "| 2014-08-03 | 25.43908   | 31.689     | 21.676     | 83.75208   | 187.1885   | 1.1211806  | 5.052535   | 0.2        | 199.4365   |\n",
       "| 2014-08-04 | 25.57674   | 30.874     | 23.136     | 85.59410   | 207.0135   | 1.0736111  | 5.181632   | 1.0        | 158.8788   |\n",
       "| 2014-08-05 | 25.20164   | 31.663     | 22.417     | 86.57118   | 217.7208   | 0.9179167  | 5.496701   | 2.2        | 215.0361   |\n",
       "\n"
      ],
      "text/plain": [
       "  date       meantemp.c maxtemp.c mintemp.c humidity.percent winddir.deg\n",
       "1 2014-07-31 27.79938   32.742    24.098    78.11377         204.6935   \n",
       "2 2014-08-01 26.46952   32.536    22.633    83.48438         191.1722   \n",
       "3 2014-08-02 26.09427   31.459    21.628    80.71215         188.3132   \n",
       "4 2014-08-03 25.43908   31.689    21.676    83.75208         187.1885   \n",
       "5 2014-08-04 25.57674   30.874    23.136    85.59410         207.0135   \n",
       "6 2014-08-05 25.20164   31.663    22.417    86.57118         217.7208   \n",
       "  windspeed.kmhr gustspeed.kmhr rain.mm sun.wma2\n",
       "1 0.6704348      3.153841       0.0     224.0761\n",
       "2 1.6741667      6.360660       5.4     206.9358\n",
       "3 0.9368403      5.585556       0.0     236.3309\n",
       "4 1.1211806      5.052535       0.2     199.4365\n",
       "5 1.0736111      5.181632       1.0     158.8788\n",
       "6 0.9179167      5.496701       2.2     215.0361"
      ]
     },
     "metadata": {},
     "output_type": "display_data"
    },
    {
     "data": {
      "text/html": [
       "<ol class=list-inline>\n",
       "\t<li>'date'</li>\n",
       "\t<li>'meantemp.c'</li>\n",
       "\t<li>'maxtemp.c'</li>\n",
       "\t<li>'mintemp.c'</li>\n",
       "\t<li>'humidity.percent'</li>\n",
       "\t<li>'winddir.deg'</li>\n",
       "\t<li>'windspeed.kmhr'</li>\n",
       "\t<li>'gustspeed.kmhr'</li>\n",
       "\t<li>'rain.mm'</li>\n",
       "\t<li>'sun.wma2'</li>\n",
       "</ol>\n"
      ],
      "text/latex": [
       "\\begin{enumerate*}\n",
       "\\item 'date'\n",
       "\\item 'meantemp.c'\n",
       "\\item 'maxtemp.c'\n",
       "\\item 'mintemp.c'\n",
       "\\item 'humidity.percent'\n",
       "\\item 'winddir.deg'\n",
       "\\item 'windspeed.kmhr'\n",
       "\\item 'gustspeed.kmhr'\n",
       "\\item 'rain.mm'\n",
       "\\item 'sun.wma2'\n",
       "\\end{enumerate*}\n"
      ],
      "text/markdown": [
       "1. 'date'\n",
       "2. 'meantemp.c'\n",
       "3. 'maxtemp.c'\n",
       "4. 'mintemp.c'\n",
       "5. 'humidity.percent'\n",
       "6. 'winddir.deg'\n",
       "7. 'windspeed.kmhr'\n",
       "8. 'gustspeed.kmhr'\n",
       "9. 'rain.mm'\n",
       "10. 'sun.wma2'\n",
       "\n",
       "\n"
      ],
      "text/plain": [
       " [1] \"date\"             \"meantemp.c\"       \"maxtemp.c\"        \"mintemp.c\"       \n",
       " [5] \"humidity.percent\" \"winddir.deg\"      \"windspeed.kmhr\"   \"gustspeed.kmhr\"  \n",
       " [9] \"rain.mm\"          \"sun.wma2\"        "
      ]
     },
     "metadata": {},
     "output_type": "display_data"
    }
   ],
   "source": [
    "# LOOK AT THE FIRST FEW COLUMNS OF WEATHER INFO\n",
    "head(BV_weather)\n",
    "# VARIABLE NAMES\n",
    "names(BV_weather)"
   ]
  },
  {
   "cell_type": "markdown",
   "id": "d0ddabba",
   "metadata": {},
   "source": [
    "Obviously choosing only wet season counts will reduce the number of data points (from 3212 to 1626 rows). It has no impact on the number of columns (variables). We can run some descriptive stats like we did before. \n",
    "\n",
    "### Descriptive statistics"
   ]
  },
  {
   "cell_type": "code",
   "execution_count": 5,
   "id": "518642b2",
   "metadata": {},
   "outputs": [
    {
     "name": "stdout",
     "output_type": "stream",
     "text": [
      "overall summary of count"
     ]
    },
    {
     "data": {
      "text/plain": [
       "   Min. 1st Qu.  Median    Mean 3rd Qu.    Max.    NA's \n",
       "   0.00    2.00    6.00   15.81   17.00  333.00      12 "
      ]
     },
     "metadata": {},
     "output_type": "display_data"
    },
    {
     "name": "stdout",
     "output_type": "stream",
     "text": [
      "mean count per month"
     ]
    },
    {
     "data": {
      "text/plain": [
       "dat1$month.assigned: 1\n",
       "[1] NA\n",
       "------------------------------------------------------------ \n",
       "dat1$month.assigned: 2\n",
       "[1] NA\n",
       "------------------------------------------------------------ \n",
       "dat1$month.assigned: 3\n",
       "[1] NA\n",
       "------------------------------------------------------------ \n",
       "dat1$month.assigned: 4\n",
       "[1] NA\n",
       "------------------------------------------------------------ \n",
       "dat1$month.assigned: 5\n",
       "[1] 16.57831\n",
       "------------------------------------------------------------ \n",
       "dat1$month.assigned: 6\n",
       "[1] 9.812139\n",
       "------------------------------------------------------------ \n",
       "dat1$month.assigned: 7\n",
       "[1] 15.21667\n",
       "------------------------------------------------------------ \n",
       "dat1$month.assigned: 8\n",
       "[1] 14.49857\n",
       "------------------------------------------------------------ \n",
       "dat1$month.assigned: 9\n",
       "[1] 26.59649\n",
       "------------------------------------------------------------ \n",
       "dat1$month.assigned: 10\n",
       "[1] 15.98261\n",
       "------------------------------------------------------------ \n",
       "dat1$month.assigned: 11\n",
       "[1] NA\n",
       "------------------------------------------------------------ \n",
       "dat1$month.assigned: 12\n",
       "[1] NA"
      ]
     },
     "metadata": {},
     "output_type": "display_data"
    },
    {
     "name": "stdout",
     "output_type": "stream",
     "text": [
      "mean count per year"
     ]
    },
    {
     "data": {
      "text/plain": [
       "dat1$year.assigned: 2012\n",
       "[1] 28.27308\n",
       "------------------------------------------------------------ \n",
       "dat1$year.assigned: 2013\n",
       "[1] 16.19429\n",
       "------------------------------------------------------------ \n",
       "dat1$year.assigned: 2014\n",
       "[1] 9.402878\n",
       "------------------------------------------------------------ \n",
       "dat1$year.assigned: 2017\n",
       "[1] 13.15132\n",
       "------------------------------------------------------------ \n",
       "dat1$year.assigned: 2018\n",
       "[1] 12.84746\n",
       "------------------------------------------------------------ \n",
       "dat1$year.assigned: 2019\n",
       "[1] 12.81955"
      ]
     },
     "metadata": {},
     "output_type": "display_data"
    },
    {
     "name": "stdout",
     "output_type": "stream",
     "text": [
      "mean count per village"
     ]
    },
    {
     "data": {
      "text/plain": [
       "dat1$village: Bana market\n",
       "[1] 16.81724\n",
       "------------------------------------------------------------ \n",
       "dat1$village: Bana village\n",
       "[1] 22.45911\n",
       "------------------------------------------------------------ \n",
       "dat1$village: Pala\n",
       "[1] 11.81\n",
       "------------------------------------------------------------ \n",
       "dat1$village: Souroukoudingan\n",
       "[1] 9.948187"
      ]
     },
     "metadata": {},
     "output_type": "display_data"
    }
   ],
   "source": [
    "# SOME DESCRIPTIVE STATISTICS ON THE RESPONSE VARIABLE, THAT IS, FEMALE MOSQUITO COUNT\n",
    "cat('overall summary of count')\n",
    "summary(dat1$count.f)\n",
    "cat('mean count per month')\n",
    "by(dat1$count.f, dat1$month.assigned, mean, na.rm=T)\n",
    "cat('mean count per year')\n",
    "by(dat1$count.f, dat1$year.assigned, mean, na.rm=T)\n",
    "cat('mean count per village')\n",
    "by(dat1$count.f, dat1$village, mean, na.rm=T)"
   ]
  },
  {
   "cell_type": "code",
   "execution_count": 6,
   "id": "28056e11",
   "metadata": {},
   "outputs": [
    {
     "data": {
      "image/png": "[encoded data removed]",
      "text/plain": [
       "Plot with title \"historgram of female mosquito count per house visit\""
      ]
     },
     "metadata": {},
     "output_type": "display_data"
    }
   ],
   "source": [
    "# HISTOGRAM OF THE RESPONSE\n",
    "hist(dat1$count.f, main='historgram of female mosquito count per house visit')"
   ]
  },
  {
   "cell_type": "code",
   "execution_count": 7,
   "id": "6309819a",
   "metadata": {},
   "outputs": [
    {
     "name": "stdout",
     "output_type": "stream",
     "text": [
      "number of unqiue days of data collection"
     ]
    },
    {
     "data": {
      "text/html": [
       "81"
      ],
      "text/latex": [
       "81"
      ],
      "text/markdown": [
       "81"
      ],
      "text/plain": [
       "[1] 81"
      ]
     },
     "metadata": {},
     "output_type": "display_data"
    },
    {
     "name": "stdout",
     "output_type": "stream",
     "text": [
      "number of unique houses we visited"
     ]
    },
    {
     "data": {
      "text/html": [
       "284"
      ],
      "text/latex": [
       "284"
      ],
      "text/markdown": [
       "284"
      ],
      "text/plain": [
       "[1] 284"
      ]
     },
     "metadata": {},
     "output_type": "display_data"
    },
    {
     "name": "stdout",
     "output_type": "stream",
     "text": [
      "summary of mosquito.net"
     ]
    },
    {
     "data": {
      "text/plain": [
       "dat1$village: Bana market\n",
       "  No  Yes NA's \n",
       "  25  263    4 \n",
       "------------------------------------------------------------ \n",
       "dat1$village: Bana village\n",
       "  No  Yes NA's \n",
       "  34  491   19 \n",
       "------------------------------------------------------------ \n",
       "dat1$village: Pala\n",
       "  No  Yes NA's \n",
       "  75  321    4 \n",
       "------------------------------------------------------------ \n",
       "dat1$village: Souroukoudingan\n",
       "  No  Yes NA's \n",
       "  27  360    3 "
      ]
     },
     "metadata": {},
     "output_type": "display_data"
    },
    {
     "name": "stdout",
     "output_type": "stream",
     "text": [
      "summary of number of persons in house"
     ]
    },
    {
     "data": {
      "text/plain": [
       "   Min. 1st Qu.  Median    Mean 3rd Qu.    Max.    NA's \n",
       "  0.000   2.000   3.000   3.182   4.000  16.000      38 "
      ]
     },
     "metadata": {},
     "output_type": "display_data"
    }
   ],
   "source": [
    "# DESCRIPTIVE STATS ON SOME EXPLANATORY VARIABLES AS WELL\n",
    "cat('number of unqiue days of data collection')\n",
    "length(unique(dat1$date.collection))\n",
    "cat('number of unique houses we visited')\n",
    "length(unique(dat1$site.id))\n",
    "cat('summary of mosquito.net')\n",
    "by(dat1$mosquito.net, dat1$village, summary)\n",
    "cat('summary of number of persons in house')\n",
    "summary(dat1$num.persons)"
   ]
  },
  {
   "cell_type": "markdown",
   "id": "602af24e",
   "metadata": {},
   "source": [
    "The mean counts are of course higher when we only include data points from the wet season. \n",
    "\n",
    "### Modelling\n",
    "\n",
    "#### Model 4B and 5\n",
    "Let us go straight to models 4B and 5 in Notebook 1. They are the poisson glm models with month.assigned, village, mosquito.ne, persons.status as fixed effects, and year.assigned, site.id, overdisperson as random effects. In model 5 we include the interaction between month.assigned and village. "
   ]
  },
  {
   "cell_type": "code",
   "execution_count": 8,
   "id": "5c051adc",
   "metadata": {},
   "outputs": [
    {
     "data": {
      "text/plain": [
       "Generalized linear mixed model fit by maximum likelihood (Laplace\n",
       "  Approximation) [glmerMod]\n",
       " Family: poisson  ( log )\n",
       "Formula: \n",
       "count.f ~ (1 | year.assigned) + (1 | site.id) + (1 | overdispersion) +  \n",
       "    month.assigned + village + mosquito.net + persons.status\n",
       "   Data: dat1\n",
       "Control: glmerControl(optimizer = \"bobyqa\", optCtrl = list(maxfun = 2e+05))\n",
       "\n",
       "     AIC      BIC   logLik deviance df.resid \n",
       " 11225.1  11305.6  -5597.6  11195.1     1566 \n",
       "\n",
       "Scaled residuals: \n",
       "     Min       1Q   Median       3Q      Max \n",
       "-1.34973 -0.33402 -0.00801  0.12757  0.54228 \n",
       "\n",
       "Random effects:\n",
       " Groups         Name        Variance Std.Dev.\n",
       " overdispersion (Intercept) 1.28413  1.1332  \n",
       " site.id        (Intercept) 0.41523  0.6444  \n",
       " year.assigned  (Intercept) 0.09817  0.3133  \n",
       "Number of obs: 1581, groups:  \n",
       "overdispersion, 1581; site.id, 278; year.assigned, 6\n",
       "\n",
       "Fixed effects:\n",
       "                       Estimate Std. Error z value Pr(>|z|)    \n",
       "(Intercept)             1.37251    0.55238   2.485 0.012966 *  \n",
       "month.assigned6        -0.60617    0.12600  -4.811  1.5e-06 ***\n",
       "month.assigned7        -0.45015    0.15216  -2.958 0.003093 ** \n",
       "month.assigned8        -0.47895    0.13457  -3.559 0.000372 ***\n",
       "month.assigned9         0.12444    0.14428   0.862 0.388422    \n",
       "month.assigned10       -0.08939    0.13404  -0.667 0.504812    \n",
       "villageBana village     0.31406    0.22944   1.369 0.171055    \n",
       "villagePala            -0.44300    0.23383  -1.895 0.058152 .  \n",
       "villageSouroukoudingan -0.46454    0.23407  -1.985 0.047185 *  \n",
       "mosquito.netYes        -0.18677    0.11424  -1.635 0.102066    \n",
       "persons.statusLow       0.88305    0.49861   1.771 0.076554 .  \n",
       "persons.statusHi        1.32730    0.50032   2.653 0.007981 ** \n",
       "---\n",
       "Signif. codes:  0 '***' 0.001 '**' 0.01 '*' 0.05 '.' 0.1 ' ' 1"
      ]
     },
     "metadata": {},
     "output_type": "display_data"
    }
   ],
   "source": [
    "# MODEL 4B\n",
    "# THREE LEVELS OF PERSONS: None, Low, Hi. \n",
    "dat1$persons.status<-dat1$num.persons\n",
    "dat1$persons.status[dat1$num.persons>3]<-'Hi'\n",
    "dat1$persons.status[dat1$num.persons<=3]<-'Low'\n",
    "dat1$persons.status[dat1$num.persons==0]<-'None'\n",
    "dat1$persons.status<-factor(dat1$persons.status, levels=c('None', 'Low', 'Hi'))\n",
    "overdispersion<-1:nrow(dat1)\n",
    "m_4B<-glmer(count.f~(1|year.assigned)+(1|site.id)+(1|overdispersion)+month.assigned+village+mosquito.net+persons.status, \n",
    "             family='poisson', data=dat1, \n",
    "             control=glmerControl(optimizer=\"bobyqa\",optCtrl=list(maxfun=2e5)))\n",
    "summary(m_4B, correlation=FALSE)"
   ]
  },
  {
   "cell_type": "code",
   "execution_count": 9,
   "id": "0bd081fc",
   "metadata": {},
   "outputs": [
    {
     "name": "stderr",
     "output_type": "stream",
     "text": [
      "\n",
      "Correlation matrix not shown by default, as p = 27 > 12.\n",
      "Use print(obj, correlation=TRUE)  or\n",
      "    vcov(obj)        if you need it\n",
      "\n"
     ]
    },
    {
     "data": {
      "text/plain": [
       "Generalized linear mixed model fit by maximum likelihood (Laplace\n",
       "  Approximation) [glmerMod]\n",
       " Family: poisson  ( log )\n",
       "Formula: \n",
       "count.f ~ (1 | year.assigned) + (1 | site.id) + (1 | overdispersion) +  \n",
       "    month.assigned * village + mosquito.net + persons.status\n",
       "   Data: dat1\n",
       "Control: glmerControl(optimizer = \"bobyqa\", optCtrl = list(maxfun = 2e+05))\n",
       "\n",
       "     AIC      BIC   logLik deviance df.resid \n",
       " 11207.0  11367.9  -5573.5  11147.0     1551 \n",
       "\n",
       "Scaled residuals: \n",
       "     Min       1Q   Median       3Q      Max \n",
       "-1.39317 -0.32426 -0.01092  0.12816  0.58715 \n",
       "\n",
       "Random effects:\n",
       " Groups         Name        Variance Std.Dev.\n",
       " overdispersion (Intercept) 1.2350   1.1113  \n",
       " site.id        (Intercept) 0.4070   0.6380  \n",
       " year.assigned  (Intercept) 0.1096   0.3311  \n",
       "Number of obs: 1581, groups:  \n",
       "overdispersion, 1581; site.id, 278; year.assigned, 6\n",
       "\n",
       "Fixed effects:\n",
       "                                        Estimate Std. Error z value Pr(>|z|)\n",
       "(Intercept)                              1.22601    0.56217   2.181 0.029192\n",
       "month.assigned6                         -0.04604    0.24534  -0.188 0.851140\n",
       "month.assigned7                         -0.42929    0.26652  -1.611 0.107240\n",
       "month.assigned8                         -0.39309    0.24938  -1.576 0.114960\n",
       "month.assigned9                          0.30660    0.24450   1.254 0.209849\n",
       "month.assigned10                         0.11901    0.24435   0.487 0.626211\n",
       "villageBana village                      0.47147    0.30765   1.532 0.125406\n",
       "villagePala                              0.82009    0.40160   2.042 0.041143\n",
       "villageSouroukoudingan                  -0.48871    0.41142  -1.188 0.234890\n",
       "mosquito.netYes                         -0.10593    0.11435  -0.926 0.354235\n",
       "persons.statusLow                        0.75988    0.49127   1.547 0.121922\n",
       "persons.statusHi                         1.20639    0.49323   2.446 0.014449\n",
       "month.assigned6:villageBana village     -0.30950    0.31071  -0.996 0.319207\n",
       "month.assigned7:villageBana village     -0.08866    0.33254  -0.267 0.789774\n",
       "month.assigned8:villageBana village     -0.05509    0.31044  -0.177 0.859144\n",
       "month.assigned9:villageBana village     -0.04533    0.30917  -0.147 0.883429\n",
       "month.assigned10:villageBana village    -0.45058    0.30655  -1.470 0.141604\n",
       "month.assigned6:villagePala             -1.93265    0.40375  -4.787  1.7e-06\n",
       "month.assigned7:villagePala             -1.13137    0.44084  -2.566 0.010275\n",
       "month.assigned8:villagePala             -1.33605    0.40406  -3.307 0.000944\n",
       "month.assigned9:villagePala             -1.31845    0.42803  -3.080 0.002068\n",
       "month.assigned10:villagePala            -1.00811    0.39671  -2.541 0.011047\n",
       "month.assigned6:villageSouroukoudingan  -0.41779    0.41651  -1.003 0.315819\n",
       "month.assigned7:villageSouroukoudingan   0.58778    0.46522   1.263 0.206431\n",
       "month.assigned8:villageSouroukoudingan   0.30679    0.41580   0.738 0.460625\n",
       "month.assigned9:villageSouroukoudingan  -0.23816    0.43948  -0.542 0.587875\n",
       "month.assigned10:villageSouroukoudingan -0.06921    0.41190  -0.168 0.866564\n",
       "                                           \n",
       "(Intercept)                             *  \n",
       "month.assigned6                            \n",
       "month.assigned7                            \n",
       "month.assigned8                            \n",
       "month.assigned9                            \n",
       "month.assigned10                           \n",
       "villageBana village                        \n",
       "villagePala                             *  \n",
       "villageSouroukoudingan                     \n",
       "mosquito.netYes                            \n",
       "persons.statusLow                          \n",
       "persons.statusHi                        *  \n",
       "month.assigned6:villageBana village        \n",
       "month.assigned7:villageBana village        \n",
       "month.assigned8:villageBana village        \n",
       "month.assigned9:villageBana village        \n",
       "month.assigned10:villageBana village       \n",
       "month.assigned6:villagePala             ***\n",
       "month.assigned7:villagePala             *  \n",
       "month.assigned8:villagePala             ***\n",
       "month.assigned9:villagePala             ** \n",
       "month.assigned10:villagePala            *  \n",
       "month.assigned6:villageSouroukoudingan     \n",
       "month.assigned7:villageSouroukoudingan     \n",
       "month.assigned8:villageSouroukoudingan     \n",
       "month.assigned9:villageSouroukoudingan     \n",
       "month.assigned10:villageSouroukoudingan    \n",
       "---\n",
       "Signif. codes:  0 '***' 0.001 '**' 0.01 '*' 0.05 '.' 0.1 ' ' 1"
      ]
     },
     "metadata": {},
     "output_type": "display_data"
    }
   ],
   "source": [
    "# MODEL 5. ADD INTERACTION BETWEEN village AND month.assigned\n",
    "overdispersion<-1:nrow(dat1)\n",
    "m_5<-glmer(count.f~(1|year.assigned)+(1|site.id)+(1|overdispersion)+month.assigned*village+mosquito.net+persons.status, \n",
    "             family='poisson', data=dat1, \n",
    "             control=glmerControl(optimizer=\"bobyqa\",optCtrl=list(maxfun=2e5)))\n",
    "summary(m_5, correlation=FALSE)"
   ]
  },
  {
   "cell_type": "markdown",
   "id": "fa6f575a",
   "metadata": {},
   "source": [
    "We can run an ANOVA to compare model 4B and 5. "
   ]
  },
  {
   "cell_type": "code",
   "execution_count": 10,
   "id": "981a0e90",
   "metadata": {},
   "outputs": [
    {
     "data": {
      "text/html": [
       "<table>\n",
       "<thead><tr><th></th><th scope=col>Df</th><th scope=col>AIC</th><th scope=col>BIC</th><th scope=col>logLik</th><th scope=col>deviance</th><th scope=col>Chisq</th><th scope=col>Chi Df</th><th scope=col>Pr(&gt;Chisq)</th></tr></thead>\n",
       "<tbody>\n",
       "\t<tr><th scope=row>m_4B</th><td>15          </td><td>11225.10    </td><td>11305.59    </td><td>-5597.550   </td><td>11195.10    </td><td>      NA    </td><td>NA          </td><td>          NA</td></tr>\n",
       "\t<tr><th scope=row>m_5</th><td>30          </td><td>11206.97    </td><td>11367.94    </td><td>-5573.483   </td><td>11146.97    </td><td>48.13393    </td><td>15          </td><td>2.419603e-05</td></tr>\n",
       "</tbody>\n",
       "</table>\n"
      ],
      "text/latex": [
       "\\begin{tabular}{r|llllllll}\n",
       "  & Df & AIC & BIC & logLik & deviance & Chisq & Chi Df & Pr(>Chisq)\\\\\n",
       "\\hline\n",
       "\tm\\_4B & 15           & 11225.10     & 11305.59     & -5597.550    & 11195.10     &       NA     & NA           &           NA\\\\\n",
       "\tm\\_5 & 30           & 11206.97     & 11367.94     & -5573.483    & 11146.97     & 48.13393     & 15           & 2.419603e-05\\\\\n",
       "\\end{tabular}\n"
      ],
      "text/markdown": [
       "\n",
       "| <!--/--> | Df | AIC | BIC | logLik | deviance | Chisq | Chi Df | Pr(>Chisq) |\n",
       "|---|---|---|---|---|---|---|---|---|\n",
       "| m_4B | 15           | 11225.10     | 11305.59     | -5597.550    | 11195.10     |       NA     | NA           |           NA |\n",
       "| m_5 | 30           | 11206.97     | 11367.94     | -5573.483    | 11146.97     | 48.13393     | 15           | 2.419603e-05 |\n",
       "\n"
      ],
      "text/plain": [
       "     Df AIC      BIC      logLik    deviance Chisq    Chi Df Pr(>Chisq)  \n",
       "m_4B 15 11225.10 11305.59 -5597.550 11195.10       NA NA               NA\n",
       "m_5  30 11206.97 11367.94 -5573.483 11146.97 48.13393 15     2.419603e-05"
      ]
     },
     "metadata": {},
     "output_type": "display_data"
    }
   ],
   "source": [
    "anova(m_4B, m_5, test='LRT')"
   ]
  },
  {
   "cell_type": "markdown",
   "id": "89dea7d3",
   "metadata": {},
   "source": [
    "The ANOVA suggests that model 5 with interaction has a better fit, that it is worth spending 15 additional degrees of freedom (parameters) for a higher explanatory power. Further pairwise/stepwise comparisons can help pick up the significant interaction terms. \n",
    "\n",
    "The variance estimates are similar to we we obtained in Notebook 1 with all the counts. \n",
    "\n",
    "As before, we can visualise the interaction by looking at the parallelness of the mean month counts. "
   ]
  },
  {
   "cell_type": "code",
   "execution_count": 11,
   "id": "c3a247ad",
   "metadata": {},
   "outputs": [
    {
     "name": "stdout",
     "output_type": "stream",
     "text": [
      "mean monthly count per village"
     ]
    },
    {
     "data": {
      "image/png": "[encoded data removed]",
      "text/plain": [
       "Plot with title \"mean monthly count per village\""
      ]
     },
     "metadata": {},
     "output_type": "display_data"
    }
   ],
   "source": [
    "cat('mean monthly count per village')\n",
    "#cbind(month.assigned=levels(dat1$month.assigned), tapply(dat1$count.f, list(dat1$month.assigned, dat1$village), mean, na.rm=T))\n",
    "matplot(tapply(dat1$count.f, list(dat1$month.assigned, dat1$village), mean, na.rm=T), \n",
    "        type='l', xlim=c(5,10), xlab='month.assigned', ylab='mean count', main='mean monthly count per village')\n",
    "legend('topleft', legend=levels(dat1$village), col=1:4, lty=1:4)"
   ]
  },
  {
   "cell_type": "markdown",
   "id": "7b4e5b0f",
   "metadata": {},
   "source": [
    "Again, we want to look at what happened to the counts from Pala, month 05. \n",
    "\n",
    "#### Model 6 using male count as covariate\n",
    "Another possible covariate I want to explore is the male mosquito count observed during the same house visit. I suppose the female and male counts are (positively) correlated, and that knowing the male counts may give some information on the female counts. Note that in an earlier exercise we know that the male counts are usually much lower. I use log(dat$count.m+1) as the covariate. The \"plus one\" is to avoid log(0) while transforming, and using the log male count to model the log female rate seems legit. \n",
    "\n",
    "Before fitting a model I want to plot a scatter plot between the male and female counts (in log scale). "
   ]
  },
  {
   "cell_type": "code",
   "execution_count": 12,
   "id": "aa965145",
   "metadata": {},
   "outputs": [
    {
     "data": {
      "text/html": [
       "0.579966571390992"
      ],
      "text/latex": [
       "0.579966571390992"
      ],
      "text/markdown": [
       "0.579966571390992"
      ],
      "text/plain": [
       "[1] 0.5799666"
      ]
     },
     "metadata": {},
     "output_type": "display_data"
    },
    {
     "data": {
      "image/png": "[encoded data removed]",
      "text/plain": [
       "plot without title"
      ]
     },
     "metadata": {},
     "output_type": "display_data"
    }
   ],
   "source": [
    "# SCATTER PLOT OF (LOG) FEMALE AGAINST MALE COUNT\n",
    "plot(log(dat1$count.m+1), log(dat1$count.f+1), xlab='log male count', ylab='log female count')\n",
    "# CORRELATION COEFFICIENT\n",
    "cor(log(dat1$count.m+1), log(dat1$count.f+1), use='pairwise')"
   ]
  },
  {
   "cell_type": "markdown",
   "id": "7dd14131",
   "metadata": {},
   "source": [
    "The plot and the correlation coefficient (of +0.58) confirm the positive correlation between the two log counts. Now, let's build Model 6: "
   ]
  },
  {
   "cell_type": "code",
   "execution_count": 13,
   "id": "c1a9b8d9",
   "metadata": {
    "scrolled": false
   },
   "outputs": [
    {
     "name": "stderr",
     "output_type": "stream",
     "text": [
      "\n",
      "Correlation matrix not shown by default, as p = 28 > 12.\n",
      "Use print(obj, correlation=TRUE)  or\n",
      "    vcov(obj)        if you need it\n",
      "\n"
     ]
    },
    {
     "data": {
      "text/plain": [
       "Generalized linear mixed model fit by maximum likelihood (Laplace\n",
       "  Approximation) [glmerMod]\n",
       " Family: poisson  ( log )\n",
       "Formula: \n",
       "count.f ~ (1 | year.assigned) + (1 | site.id) + (1 | overdispersion) +  \n",
       "    month.assigned * village + mosquito.net + persons.status +      log.count.m\n",
       "   Data: dat1\n",
       "Control: glmerControl(optimizer = \"bobyqa\", optCtrl = list(maxfun = 2e+05))\n",
       "\n",
       "     AIC      BIC   logLik deviance df.resid \n",
       " 10713.8  10880.1  -5325.9  10651.8     1550 \n",
       "\n",
       "Scaled residuals: \n",
       "     Min       1Q   Median       3Q      Max \n",
       "-1.45851 -0.35726 -0.02856  0.16034  0.72388 \n",
       "\n",
       "Random effects:\n",
       " Groups         Name        Variance Std.Dev.\n",
       " overdispersion (Intercept) 0.87693  0.9364  \n",
       " site.id        (Intercept) 0.17834  0.4223  \n",
       " year.assigned  (Intercept) 0.02924  0.1710  \n",
       "Number of obs: 1581, groups:  \n",
       "overdispersion, 1581; site.id, 278; year.assigned, 6\n",
       "\n",
       "Fixed effects:\n",
       "                                        Estimate Std. Error z value Pr(>|z|)\n",
       "(Intercept)                              0.63352    0.46690   1.357  0.17483\n",
       "month.assigned6                          0.05302    0.21191   0.250  0.80242\n",
       "month.assigned7                         -0.25957    0.23048  -1.126  0.26007\n",
       "month.assigned8                         -0.18850    0.21557  -0.874  0.38189\n",
       "month.assigned9                          0.23873    0.21021   1.136  0.25609\n",
       "month.assigned10                        -0.02951    0.21075  -0.140  0.88863\n",
       "villageBana village                      0.22489    0.23908   0.941  0.34688\n",
       "villagePala                             -0.16444    0.32392  -0.508  0.61169\n",
       "villageSouroukoudingan                  -0.87391    0.33508  -2.608  0.00911\n",
       "mosquito.netYes                         -0.10731    0.09715  -1.105  0.26933\n",
       "persons.statusLow                        0.79015    0.42473   1.860  0.06284\n",
       "persons.statusHi                         1.30711    0.42671   3.063  0.00219\n",
       "log.count.m                              0.68388    0.02868  23.845  < 2e-16\n",
       "month.assigned6:villageBana village     -0.26436    0.26678  -0.991  0.32172\n",
       "month.assigned7:villageBana village     -0.11041    0.28644  -0.385  0.69991\n",
       "month.assigned8:villageBana village     -0.21479    0.26781  -0.802  0.42254\n",
       "month.assigned9:villageBana village      0.09468    0.26443   0.358  0.72031\n",
       "month.assigned10:villageBana village    -0.28236    0.26333  -1.072  0.28361\n",
       "month.assigned6:villagePala             -1.01446    0.34519  -2.939  0.00329\n",
       "month.assigned7:villagePala             -0.27320    0.37636  -0.726  0.46790\n",
       "month.assigned8:villagePala             -0.30724    0.34574  -0.889  0.37420\n",
       "month.assigned9:villagePala             -0.12890    0.36540  -0.353  0.72427\n",
       "month.assigned10:villagePala            -0.17839    0.33800  -0.528  0.59766\n",
       "month.assigned6:villageSouroukoudingan   0.04942    0.35759   0.138  0.89008\n",
       "month.assigned7:villageSouroukoudingan   1.07767    0.39768   2.710  0.00673\n",
       "month.assigned8:villageSouroukoudingan   0.55053    0.35676   1.543  0.12280\n",
       "month.assigned9:villageSouroukoudingan   0.17926    0.37652   0.476  0.63401\n",
       "month.assigned10:villageSouroukoudingan  0.30286    0.35357   0.857  0.39168\n",
       "                                           \n",
       "(Intercept)                                \n",
       "month.assigned6                            \n",
       "month.assigned7                            \n",
       "month.assigned8                            \n",
       "month.assigned9                            \n",
       "month.assigned10                           \n",
       "villageBana village                        \n",
       "villagePala                                \n",
       "villageSouroukoudingan                  ** \n",
       "mosquito.netYes                            \n",
       "persons.statusLow                       .  \n",
       "persons.statusHi                        ** \n",
       "log.count.m                             ***\n",
       "month.assigned6:villageBana village        \n",
       "month.assigned7:villageBana village        \n",
       "month.assigned8:villageBana village        \n",
       "month.assigned9:villageBana village        \n",
       "month.assigned10:villageBana village       \n",
       "month.assigned6:villagePala             ** \n",
       "month.assigned7:villagePala                \n",
       "month.assigned8:villagePala                \n",
       "month.assigned9:villagePala                \n",
       "month.assigned10:villagePala               \n",
       "month.assigned6:villageSouroukoudingan     \n",
       "month.assigned7:villageSouroukoudingan  ** \n",
       "month.assigned8:villageSouroukoudingan     \n",
       "month.assigned9:villageSouroukoudingan     \n",
       "month.assigned10:villageSouroukoudingan    \n",
       "---\n",
       "Signif. codes:  0 '***' 0.001 '**' 0.01 '*' 0.05 '.' 0.1 ' ' 1"
      ]
     },
     "metadata": {},
     "output_type": "display_data"
    }
   ],
   "source": [
    "# MODEL 6, ADD LOG OF MALE COUNT AS COVARIATE\n",
    "# I ALSO CHECKED (NOT SHOWN) THAT THE INTERACTION TERM IS TO STAY\n",
    "overdispersion<-1:nrow(dat1)\n",
    "log.count.m<-log(dat1$count.m+1)\n",
    "m_6<-glmer(count.f~(1|year.assigned)+(1|site.id)+(1|overdispersion)+month.assigned*village+mosquito.net+persons.status+log.count.m, \n",
    "             family='poisson', data=dat1, \n",
    "             control=glmerControl(optimizer=\"bobyqa\",optCtrl=list(maxfun=2e5)))\n",
    "summary(m_6)"
   ]
  },
  {
   "cell_type": "markdown",
   "id": "6f1f9087",
   "metadata": {},
   "source": [
    "We can see that the log male count from the same house visit is a useful covariate. It reduces the variances of all 3 random effects. In other words, good/bad year and houses are partially represented by this covariate. \n",
    "\n",
    "\n",
    "\n",
    "### Conclusion\n",
    "The variance estimates of the random effects are quite consistent thoughout. Over-dispersion remains the largest components, followed by site.id (individual house effect) and yearly effect. Including male mosquito count as covariate reduces all the variance estimates, which will be useful in power analysis. \n",
    "\n",
    "For the main effects, more persons within a house increases the rate. Mosquito net decreases the rate but only by a little (not quite significant). For the villages, Souroukoudingan has the lowest rate and this effect is significant. The interaction between village and month.asigned exists. The significance of the terms are quite sensitive to which subset you choose to analyse. \n",
    "\n",
    "The next step is to use Models 5 or 6 to simulate some mosquito counts, and see if they are close to what we observed. \n",
    "\n",
    "The next notebook tries to incorporate weather station info to the analysis. "
   ]
  }
 ],
 "metadata": {
  "kernelspec": {
   "display_name": "R",
   "language": "R",
   "name": "ir"
  },
  "language_info": {
   "codemirror_mode": "r",
   "file_extension": ".r",
   "mimetype": "text/x-r-source",
   "name": "R",
   "pygments_lexer": "r",
   "version": "3.5.3"
  }
 },
 "nbformat": 4,
 "nbformat_minor": 5
}
