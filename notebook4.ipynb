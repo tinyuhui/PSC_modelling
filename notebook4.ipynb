{
 "cells": [
  {
   "cell_type": "markdown",
   "id": "bf990433",
   "metadata": {},
   "source": [
    "## Notebook 4\n",
    "This notebook looks at proportions. In the dataset we have multiple count response variables hence we can study the ratios between them. These include the ratio between male and female mosquitoes, and between coluzzii female and gambiae female (when such info is available). \n",
    "\n",
    "In the previous notebooks we have been using Poisson glm to model counts. Here for proportions (i.e. we need a pair of counts to form a response) we will be using binomial glm. One aim is to see whether the proportion remains constant over time and space. \n",
    "\n",
    "Only on wet season data (May - October). "
   ]
  },
  {
   "cell_type": "code",
   "execution_count": 21,
   "id": "f516bb57",
   "metadata": {},
   "outputs": [
    {
     "data": {
      "text/html": [
       "3"
      ],
      "text/latex": [
       "3"
      ],
      "text/markdown": [
       "3"
      ],
      "text/plain": [
       "[1] 3"
      ]
     },
     "metadata": {},
     "output_type": "display_data"
    },
    {
     "name": "stdout",
     "output_type": "stream",
     "text": [
      "\n",
      "Number of threads at maximum: no change has been made.\n",
      "\n"
     ]
    },
    {
     "data": {
      "text/html": [
       "<ol class=list-inline>\n",
       "\t<li>'BV_weather'</li>\n",
       "\t<li>'dat1'</li>\n",
       "\t<li>'female.proportion'</li>\n",
       "\t<li>'m_1'</li>\n",
       "\t<li>'m_2'</li>\n",
       "\t<li>'m_3a'</li>\n",
       "\t<li>'overdispersion'</li>\n",
       "\t<li>'PL_weather'</li>\n",
       "\t<li>'SK_weather'</li>\n",
       "</ol>\n"
      ],
      "text/latex": [
       "\\begin{enumerate*}\n",
       "\\item 'BV\\_weather'\n",
       "\\item 'dat1'\n",
       "\\item 'female.proportion'\n",
       "\\item 'm\\_1'\n",
       "\\item 'm\\_2'\n",
       "\\item 'm\\_3a'\n",
       "\\item 'overdispersion'\n",
       "\\item 'PL\\_weather'\n",
       "\\item 'SK\\_weather'\n",
       "\\end{enumerate*}\n"
      ],
      "text/markdown": [
       "1. 'BV_weather'\n",
       "2. 'dat1'\n",
       "3. 'female.proportion'\n",
       "4. 'm_1'\n",
       "5. 'm_2'\n",
       "6. 'm_3a'\n",
       "7. 'overdispersion'\n",
       "8. 'PL_weather'\n",
       "9. 'SK_weather'\n",
       "\n",
       "\n"
      ],
      "text/plain": [
       "[1] \"BV_weather\"        \"dat1\"              \"female.proportion\"\n",
       "[4] \"m_1\"               \"m_2\"               \"m_3a\"             \n",
       "[7] \"overdispersion\"    \"PL_weather\"        \"SK_weather\"       "
      ]
     },
     "metadata": {},
     "output_type": "display_data"
    }
   ],
   "source": [
    "# LOAD R PACKAGES\n",
    "require(compiler)\n",
    "enableJIT(3)\n",
    "setMKLthreads(22)\n",
    "require(lme4)\n",
    "require(lmerTest)\n",
    "require(MASS)\n",
    "\n",
    "# LOAD DATASET dat1\n",
    "#setwd('variance/Florian')\n",
    "load('Per house data PSC 2012 to 2019 polish2.RData')\n",
    "load('BF_weather.RData')\n",
    "ls()"
   ]
  },
  {
   "cell_type": "code",
   "execution_count": 22,
   "id": "5194f8c8",
   "metadata": {},
   "outputs": [
    {
     "data": {
      "text/html": [
       "<ol class=list-inline>\n",
       "\t<li>1626</li>\n",
       "\t<li>27</li>\n",
       "</ol>\n"
      ],
      "text/latex": [
       "\\begin{enumerate*}\n",
       "\\item 1626\n",
       "\\item 27\n",
       "\\end{enumerate*}\n"
      ],
      "text/markdown": [
       "1. 1626\n",
       "2. 27\n",
       "\n",
       "\n"
      ],
      "text/plain": [
       "[1] 1626   27"
      ]
     },
     "metadata": {},
     "output_type": "display_data"
    }
   ],
   "source": [
    "# SUBSET\n",
    "dat1<-dat1[dat1$month.assigned %in% 5:10,]\n",
    "# TRANSFORM num.persons\n",
    "dat1$persons.status<-dat1$num.persons\n",
    "dat1$persons.status[dat1$num.persons>3]<-'Hi'\n",
    "dat1$persons.status[dat1$num.persons<=3]<-'Low'\n",
    "dat1$persons.status[dat1$num.persons==0]<-'None'\n",
    "dat1$persons.status<-factor(dat1$persons.status, levels=c('None', 'Low', 'Hi'))\n",
    "dim(dat1)"
   ]
  },
  {
   "cell_type": "markdown",
   "id": "62ed9778",
   "metadata": {},
   "source": [
    "### male vs female\n",
    "We can use 100% of the dataset to analyse the ratio between male vs female collected during a house visit. Let us run some descriptive stats on the proportion of females:"
   ]
  },
  {
   "cell_type": "code",
   "execution_count": 23,
   "id": "94612034",
   "metadata": {},
   "outputs": [
    {
     "name": "stdout",
     "output_type": "stream",
     "text": [
      "female proportion by village: "
     ]
    },
    {
     "data": {
      "text/plain": [
       "dat1$village: Bana market\n",
       "[1] 0.8616874\n",
       "------------------------------------------------------------ \n",
       "dat1$village: Bana village\n",
       "[1] 0.8347233\n",
       "------------------------------------------------------------ \n",
       "dat1$village: Pala\n",
       "[1] 0.7714175\n",
       "------------------------------------------------------------ \n",
       "dat1$village: Souroukoudingan\n",
       "[1] 0.7992017"
      ]
     },
     "metadata": {},
     "output_type": "display_data"
    },
    {
     "name": "stdout",
     "output_type": "stream",
     "text": [
      "female proportion by month: "
     ]
    },
    {
     "data": {
      "text/plain": [
       "dat1$month.assigned: 1\n",
       "[1] NA\n",
       "------------------------------------------------------------ \n",
       "dat1$month.assigned: 2\n",
       "[1] NA\n",
       "------------------------------------------------------------ \n",
       "dat1$month.assigned: 3\n",
       "[1] NA\n",
       "------------------------------------------------------------ \n",
       "dat1$month.assigned: 4\n",
       "[1] NA\n",
       "------------------------------------------------------------ \n",
       "dat1$month.assigned: 5\n",
       "[1] 0.8288299\n",
       "------------------------------------------------------------ \n",
       "dat1$month.assigned: 6\n",
       "[1] 0.803896\n",
       "------------------------------------------------------------ \n",
       "dat1$month.assigned: 7\n",
       "[1] 0.8376873\n",
       "------------------------------------------------------------ \n",
       "dat1$month.assigned: 8\n",
       "[1] 0.8215945\n",
       "------------------------------------------------------------ \n",
       "dat1$month.assigned: 9\n",
       "[1] 0.8577249\n",
       "------------------------------------------------------------ \n",
       "dat1$month.assigned: 10\n",
       "[1] 0.7764326\n",
       "------------------------------------------------------------ \n",
       "dat1$month.assigned: 11\n",
       "[1] NA\n",
       "------------------------------------------------------------ \n",
       "dat1$month.assigned: 12\n",
       "[1] NA"
      ]
     },
     "metadata": {},
     "output_type": "display_data"
    },
    {
     "name": "stdout",
     "output_type": "stream",
     "text": [
      "Total female mosquitoes caught:  25524 \n",
      "Total male mosquitoes caught:  6483 \n"
     ]
    }
   ],
   "source": [
    "# DESCRIPTIVE STATS ON FEMALE PROPORTION\n",
    "female.proportion<-dat1$count.f/(dat1$count.f+dat1$count.m)\n",
    "cat('female proportion by village: ')\n",
    "by(female.proportion, dat1$village, mean, na.rm=T)\n",
    "cat('female proportion by month: ')\n",
    "by(female.proportion, dat1$month.assigned, mean, na.rm=T)\n",
    "cat(paste(c('Total female mosquitoes caught: ', sum(dat1$count.f, na.rm=T), '\\n')))\n",
    "cat(paste(c('Total male mosquitoes caught: ', sum(dat1$count.m, na.rm=T), '\\n')))"
   ]
  },
  {
   "cell_type": "markdown",
   "id": "e5f191da",
   "metadata": {},
   "source": [
    "As expected we collected more females than males. The overall female proportion is about 78%. Such proportion is higher for some villages and for some months. We need to build some models to test whether these effects are statistically significant. "
   ]
  },
  {
   "cell_type": "code",
   "execution_count": 24,
   "id": "132bf9f6",
   "metadata": {},
   "outputs": [
    {
     "name": "stderr",
     "output_type": "stream",
     "text": [
      "boundary (singular) fit: see ?isSingular\n"
     ]
    },
    {
     "data": {
      "text/plain": [
       "Generalized linear mixed model fit by maximum likelihood (Laplace\n",
       "  Approximation) [glmerMod]\n",
       " Family: binomial  ( logit )\n",
       "Formula: cbind(count.f, count.m) ~ (1 | site.id) + (1 | year.assigned) +  \n",
       "    (1 | overdispersion) + village\n",
       "   Data: dat1\n",
       "Control: glmerControl(optimizer = \"bobyqa\", optCtrl = list(maxfun = 2e+05))\n",
       "\n",
       "     AIC      BIC   logLik deviance df.resid \n",
       "  5627.6   5665.3  -2806.8   5613.6     1607 \n",
       "\n",
       "Scaled residuals: \n",
       "     Min       1Q   Median       3Q      Max \n",
       "-2.06234 -0.21984  0.03681  0.50223  1.32506 \n",
       "\n",
       "Random effects:\n",
       " Groups         Name        Variance Std.Dev.\n",
       " overdispersion (Intercept) 1.2971   1.1389  \n",
       " site.id        (Intercept) 0.4881   0.6987  \n",
       " year.assigned  (Intercept) 0.0000   0.0000  \n",
       "Number of obs: 1614, groups:  \n",
       "overdispersion, 1614; site.id, 284; year.assigned, 6\n",
       "\n",
       "Fixed effects:\n",
       "                       Estimate Std. Error z value Pr(>|z|)    \n",
       "(Intercept)              2.3183     0.2358   9.834  < 2e-16 ***\n",
       "villageBana village     -0.2600     0.2612  -0.996  0.31942    \n",
       "villagePala             -0.7535     0.2679  -2.813  0.00492 ** \n",
       "villageSouroukoudingan  -0.6409     0.2686  -2.386  0.01702 *  \n",
       "---\n",
       "Signif. codes:  0 '***' 0.001 '**' 0.01 '*' 0.05 '.' 0.1 ' ' 1\n",
       "\n",
       "Correlation of Fixed Effects:\n",
       "            (Intr) vllgBv vllgPl\n",
       "villgBnvllg -0.898              \n",
       "villagePala -0.875  0.791       \n",
       "vllgSrkdngn -0.871  0.787  0.767\n",
       "convergence code: 0\n",
       "boundary (singular) fit: see ?isSingular\n"
      ]
     },
     "metadata": {},
     "output_type": "display_data"
    }
   ],
   "source": [
    "# MODEL 1. VILLAGE PLUS RANDOM EFFECTS\n",
    "overdispersion<-1:nrow(dat1)\n",
    "m_1<-glmer(cbind(count.f, count.m)~(1|site.id)+(1|year.assigned)+(1|overdispersion)+village, \n",
    "            data=dat1, family='binomial', \n",
    "            control=glmerControl(optimizer=\"bobyqa\",optCtrl=list(maxfun=2e5)))\n",
    "summary(m_1)"
   ]
  },
  {
   "cell_type": "markdown",
   "id": "289d7e20",
   "metadata": {},
   "source": [
    "There is a warning on singularity. This is caused the zero variance estimate for the yearly effect (year.assigned). Let us remove the term and refit the same model:"
   ]
  },
  {
   "cell_type": "code",
   "execution_count": 16,
   "id": "0161c5f2",
   "metadata": {},
   "outputs": [
    {
     "data": {
      "text/plain": [
       "Generalized linear mixed model fit by maximum likelihood (Laplace\n",
       "  Approximation) [glmerMod]\n",
       " Family: binomial  ( logit )\n",
       "Formula: cbind(count.f, count.m) ~ (1 | site.id) + (1 | overdispersion) +  \n",
       "    village\n",
       "   Data: dat1\n",
       "Control: glmerControl(optimizer = \"bobyqa\", optCtrl = list(maxfun = 2e+05))\n",
       "\n",
       "     AIC      BIC   logLik deviance df.resid \n",
       "  5625.6   5657.9  -2806.8   5613.6     1608 \n",
       "\n",
       "Scaled residuals: \n",
       "     Min       1Q   Median       3Q      Max \n",
       "-2.06234 -0.21984  0.03681  0.50223  1.32506 \n",
       "\n",
       "Random effects:\n",
       " Groups         Name        Variance Std.Dev.\n",
       " overdispersion (Intercept) 1.2971   1.1389  \n",
       " site.id        (Intercept) 0.4881   0.6987  \n",
       "Number of obs: 1614, groups:  overdispersion, 1614; site.id, 284\n",
       "\n",
       "Fixed effects:\n",
       "                       Estimate Std. Error z value Pr(>|z|)    \n",
       "(Intercept)              2.3183     0.2358   9.834  < 2e-16 ***\n",
       "villageBana village     -0.2600     0.2612  -0.996  0.31942    \n",
       "villagePala             -0.7535     0.2679  -2.813  0.00492 ** \n",
       "villageSouroukoudingan  -0.6409     0.2686  -2.386  0.01701 *  \n",
       "---\n",
       "Signif. codes:  0 '***' 0.001 '**' 0.01 '*' 0.05 '.' 0.1 ' ' 1\n",
       "\n",
       "Correlation of Fixed Effects:\n",
       "            (Intr) vllgBv vllgPl\n",
       "villgBnvllg -0.898              \n",
       "villagePala -0.875  0.791       \n",
       "vllgSrkdngn -0.871  0.787  0.767"
      ]
     },
     "metadata": {},
     "output_type": "display_data"
    }
   ],
   "source": [
    "# MODEL 1, REFIT, REMOVE YEARLY EFFECT\n",
    "overdispersion<-1:nrow(dat1)\n",
    "m_1<-glmer(cbind(count.f, count.m)~(1|site.id)+(1|overdispersion)+village, \n",
    "            data=dat1, family='binomial', \n",
    "            control=glmerControl(optimizer=\"bobyqa\",optCtrl=list(maxfun=2e5)))\n",
    "summary(m_1)"
   ]
  },
  {
   "cell_type": "markdown",
   "id": "e45585c0",
   "metadata": {},
   "source": [
    "Now the warning message has gone, and that all the parameter estimates and maximised log-likelihood are just as same as before. It will be interesting to understand why yearly effect gets \"cancelled out\" when working on ratios. \n",
    "\n",
    "Model 2 includes month.assigned as well: "
   ]
  },
  {
   "cell_type": "code",
   "execution_count": 17,
   "id": "453bd10b",
   "metadata": {},
   "outputs": [
    {
     "data": {
      "text/plain": [
       "Generalized linear mixed model fit by maximum likelihood (Laplace\n",
       "  Approximation) [glmerMod]\n",
       " Family: binomial  ( logit )\n",
       "Formula: cbind(count.f, count.m) ~ (1 | site.id) + (1 | overdispersion) +  \n",
       "    village + month.assigned\n",
       "   Data: dat1\n",
       "Control: glmerControl(optimizer = \"bobyqa\", optCtrl = list(maxfun = 2e+05))\n",
       "\n",
       "     AIC      BIC   logLik deviance df.resid \n",
       "  5609.0   5668.2  -2793.5   5587.0     1603 \n",
       "\n",
       "Scaled residuals: \n",
       "     Min       1Q   Median       3Q      Max \n",
       "-2.16846 -0.21526  0.04689  0.50296  1.32398 \n",
       "\n",
       "Random effects:\n",
       " Groups         Name        Variance Std.Dev.\n",
       " overdispersion (Intercept) 1.2598   1.1224  \n",
       " site.id        (Intercept) 0.4924   0.7017  \n",
       "Number of obs: 1614, groups:  overdispersion, 1614; site.id, 284\n",
       "\n",
       "Fixed effects:\n",
       "                       Estimate Std. Error z value Pr(>|z|)    \n",
       "(Intercept)              2.1694     0.2624   8.269  < 2e-16 ***\n",
       "villageBana village     -0.2741     0.2616  -1.048  0.29474    \n",
       "villagePala             -0.7160     0.2688  -2.664  0.00772 ** \n",
       "villageSouroukoudingan  -0.6157     0.2696  -2.284  0.02238 *  \n",
       "month.assigned6          0.1403     0.1615   0.869  0.38501    \n",
       "month.assigned7          0.2860     0.1795   1.593  0.11116    \n",
       "month.assigned8          0.2802     0.1599   1.752  0.07970 .  \n",
       "month.assigned9          0.4128     0.1641   2.515  0.01189 *  \n",
       "month.assigned10        -0.1948     0.1541  -1.264  0.20612    \n",
       "---\n",
       "Signif. codes:  0 '***' 0.001 '**' 0.01 '*' 0.05 '.' 0.1 ' ' 1"
      ]
     },
     "metadata": {},
     "output_type": "display_data"
    }
   ],
   "source": [
    "# MODEL 2. VILLAGE AND MONTH\n",
    "m_2<-glmer(cbind(count.f, count.m)~(1|site.id)+(1|overdispersion)+village+month.assigned, \n",
    "            data=dat1, family='binomial', \n",
    "            control=glmerControl(optimizer=\"bobyqa\",optCtrl=list(maxfun=2e5)))\n",
    "summary(m_2, correlation=FALSE)"
   ]
  },
  {
   "cell_type": "code",
   "execution_count": 25,
   "id": "a68c49cc",
   "metadata": {},
   "outputs": [
    {
     "name": "stderr",
     "output_type": "stream",
     "text": [
      "\n",
      "Correlation matrix not shown by default, as p = 27 > 12.\n",
      "Use print(obj, correlation=TRUE)  or\n",
      "    vcov(obj)        if you need it\n",
      "\n"
     ]
    },
    {
     "data": {
      "text/plain": [
       "Generalized linear mixed model fit by maximum likelihood (Laplace\n",
       "  Approximation) [glmerMod]\n",
       " Family: binomial  ( logit )\n",
       "Formula: cbind(count.f, count.m) ~ (1 | site.id) + (1 | overdispersion) +  \n",
       "    village * month.assigned + persons.status + mosquito.net\n",
       "   Data: dat1\n",
       "Control: glmerControl(optimizer = \"bobyqa\", optCtrl = list(maxfun = 2e+05))\n",
       "\n",
       "     AIC      BIC   logLik deviance df.resid \n",
       "  5462.6   5618.2  -2702.3   5404.6     1552 \n",
       "\n",
       "Scaled residuals: \n",
       "     Min       1Q   Median       3Q      Max \n",
       "-2.34421 -0.21388  0.05654  0.51737  1.37152 \n",
       "\n",
       "Random effects:\n",
       " Groups         Name        Variance Std.Dev.\n",
       " overdispersion (Intercept) 1.1425   1.0689  \n",
       " site.id        (Intercept) 0.4963   0.7045  \n",
       "Number of obs: 1581, groups:  overdispersion, 1581; site.id, 278\n",
       "\n",
       "Fixed effects:\n",
       "                                        Estimate Std. Error z value Pr(>|z|)   \n",
       "(Intercept)                              1.57746    0.74735   2.111   0.0348 * \n",
       "villageBana village                     -0.23448    0.38421  -0.610   0.5417   \n",
       "villagePala                             -1.37598    0.45139  -3.048   0.0023 **\n",
       "villageSouroukoudingan                  -1.46146    0.49581  -2.948   0.0032 **\n",
       "month.assigned6                          0.23243    0.34480   0.674   0.5003   \n",
       "month.assigned7                          0.05404    0.37106   0.146   0.8842   \n",
       "month.assigned8                          0.16285    0.35121   0.464   0.6429   \n",
       "month.assigned9                         -0.10603    0.32153  -0.330   0.7416   \n",
       "month.assigned10                        -0.48141    0.31876  -1.510   0.1310   \n",
       "persons.statusLow                        0.60868    0.68157   0.893   0.3718   \n",
       "persons.statusHi                         1.25466    0.68337   1.836   0.0664 . \n",
       "mosquito.netYes                         -0.03062    0.14667  -0.209   0.8346   \n",
       "villageBana village:month.assigned6     -0.25735    0.42560  -0.605   0.5454   \n",
       "villagePala:month.assigned6             -0.14043    0.48710  -0.288   0.7731   \n",
       "villageSouroukoudingan:month.assigned6   0.63691    0.53842   1.183   0.2368   \n",
       "villageBana village:month.assigned7     -0.11748    0.45779  -0.257   0.7975   \n",
       "villagePala:month.assigned7              0.29527    0.53464   0.552   0.5808   \n",
       "villageSouroukoudingan:month.assigned7   1.38676    0.60568   2.290   0.0220 * \n",
       "villageBana village:month.assigned8     -0.46243    0.42701  -1.083   0.2788   \n",
       "villagePala:month.assigned8              0.89726    0.50031   1.793   0.0729 . \n",
       "villageSouroukoudingan:month.assigned8   0.71479    0.53641   1.333   0.1827   \n",
       "villageBana village:month.assigned9      0.44879    0.40525   1.107   0.2681   \n",
       "villagePala:month.assigned9              1.19841    0.50239   2.385   0.0171 * \n",
       "villageSouroukoudingan:month.assigned9   0.72887    0.54240   1.344   0.1790   \n",
       "villageBana village:month.assigned10     0.18271    0.40052   0.456   0.6483   \n",
       "villagePala:month.assigned10             0.72424    0.45664   1.586   0.1127   \n",
       "villageSouroukoudingan:month.assigned10  0.83602    0.50811   1.645   0.0999 . \n",
       "---\n",
       "Signif. codes:  0 '***' 0.001 '**' 0.01 '*' 0.05 '.' 0.1 ' ' 1"
      ]
     },
     "metadata": {},
     "output_type": "display_data"
    }
   ],
   "source": [
    "# MODEL 3. THROW EVERYTHINGS IN. \n",
    "m_3a<-glmer(cbind(count.f, count.m)~(1|site.id)+(1|overdispersion)+village*month.assigned\n",
    "            +persons.status+mosquito.net, \n",
    "            data=dat1, family='binomial', \n",
    "            control=glmerControl(optimizer=\"bobyqa\",optCtrl=list(maxfun=2e5)))\n",
    "summary(m_3a, correlation=FALSE)"
   ]
  },
  {
   "cell_type": "markdown",
   "id": "89cb2d34",
   "metadata": {},
   "source": [
    "### coluzzii vs gambiae"
   ]
  },
  {
   "cell_type": "code",
   "execution_count": 7,
   "id": "52358e34",
   "metadata": {},
   "outputs": [
    {
     "data": {
      "text/html": [
       "<ol class=list-inline>\n",
       "\t<li>876</li>\n",
       "\t<li>27</li>\n",
       "</ol>\n"
      ],
      "text/latex": [
       "\\begin{enumerate*}\n",
       "\\item 876\n",
       "\\item 27\n",
       "\\end{enumerate*}\n"
      ],
      "text/markdown": [
       "1. 876\n",
       "2. 27\n",
       "\n",
       "\n"
      ],
      "text/plain": [
       "[1] 876  27"
      ]
     },
     "metadata": {},
     "output_type": "display_data"
    },
    {
     "data": {
      "text/html": [
       "<ol class=list-inline>\n",
       "\t<li>'village'</li>\n",
       "\t<li>'month.assigned'</li>\n",
       "\t<li>'year.assigned'</li>\n",
       "\t<li>'monthyear.assigned'</li>\n",
       "\t<li>'day'</li>\n",
       "\t<li>'month'</li>\n",
       "\t<li>'year'</li>\n",
       "\t<li>'date.collection'</li>\n",
       "\t<li>'site.id'</li>\n",
       "\t<li>'longitude'</li>\n",
       "\t<li>'latitude'</li>\n",
       "\t<li>'room.id'</li>\n",
       "\t<li>'num.persons'</li>\n",
       "\t<li>'num.persons.remark'</li>\n",
       "\t<li>'mosquito.net'</li>\n",
       "\t<li>'permanence'</li>\n",
       "\t<li>'count.m'</li>\n",
       "\t<li>'genotyped.m'</li>\n",
       "\t<li>'col.m'</li>\n",
       "\t<li>'gam.m'</li>\n",
       "\t<li>'arab.m'</li>\n",
       "\t<li>'count.f'</li>\n",
       "\t<li>'genotyped.f'</li>\n",
       "\t<li>'col.f'</li>\n",
       "\t<li>'gam.f'</li>\n",
       "\t<li>'arab.f'</li>\n",
       "\t<li>'persons.status'</li>\n",
       "</ol>\n"
      ],
      "text/latex": [
       "\\begin{enumerate*}\n",
       "\\item 'village'\n",
       "\\item 'month.assigned'\n",
       "\\item 'year.assigned'\n",
       "\\item 'monthyear.assigned'\n",
       "\\item 'day'\n",
       "\\item 'month'\n",
       "\\item 'year'\n",
       "\\item 'date.collection'\n",
       "\\item 'site.id'\n",
       "\\item 'longitude'\n",
       "\\item 'latitude'\n",
       "\\item 'room.id'\n",
       "\\item 'num.persons'\n",
       "\\item 'num.persons.remark'\n",
       "\\item 'mosquito.net'\n",
       "\\item 'permanence'\n",
       "\\item 'count.m'\n",
       "\\item 'genotyped.m'\n",
       "\\item 'col.m'\n",
       "\\item 'gam.m'\n",
       "\\item 'arab.m'\n",
       "\\item 'count.f'\n",
       "\\item 'genotyped.f'\n",
       "\\item 'col.f'\n",
       "\\item 'gam.f'\n",
       "\\item 'arab.f'\n",
       "\\item 'persons.status'\n",
       "\\end{enumerate*}\n"
      ],
      "text/markdown": [
       "1. 'village'\n",
       "2. 'month.assigned'\n",
       "3. 'year.assigned'\n",
       "4. 'monthyear.assigned'\n",
       "5. 'day'\n",
       "6. 'month'\n",
       "7. 'year'\n",
       "8. 'date.collection'\n",
       "9. 'site.id'\n",
       "10. 'longitude'\n",
       "11. 'latitude'\n",
       "12. 'room.id'\n",
       "13. 'num.persons'\n",
       "14. 'num.persons.remark'\n",
       "15. 'mosquito.net'\n",
       "16. 'permanence'\n",
       "17. 'count.m'\n",
       "18. 'genotyped.m'\n",
       "19. 'col.m'\n",
       "20. 'gam.m'\n",
       "21. 'arab.m'\n",
       "22. 'count.f'\n",
       "23. 'genotyped.f'\n",
       "24. 'col.f'\n",
       "25. 'gam.f'\n",
       "26. 'arab.f'\n",
       "27. 'persons.status'\n",
       "\n",
       "\n"
      ],
      "text/plain": [
       " [1] \"village\"            \"month.assigned\"     \"year.assigned\"     \n",
       " [4] \"monthyear.assigned\" \"day\"                \"month\"             \n",
       " [7] \"year\"               \"date.collection\"    \"site.id\"           \n",
       "[10] \"longitude\"          \"latitude\"           \"room.id\"           \n",
       "[13] \"num.persons\"        \"num.persons.remark\" \"mosquito.net\"      \n",
       "[16] \"permanence\"         \"count.m\"            \"genotyped.m\"       \n",
       "[19] \"col.m\"              \"gam.m\"              \"arab.m\"            \n",
       "[22] \"count.f\"            \"genotyped.f\"        \"col.f\"             \n",
       "[25] \"gam.f\"              \"arab.f\"             \"persons.status\"    "
      ]
     },
     "metadata": {},
     "output_type": "display_data"
    }
   ],
   "source": [
    "# SUBSET (2017-2019)\n",
    "dat2<-dat1[dat1$year.assigned %in% 2017:2019,]\n",
    "dim(dat2)"
   ]
  },
  {
   "cell_type": "code",
   "execution_count": 8,
   "id": "e7e01646",
   "metadata": {},
   "outputs": [
    {
     "data": {
      "text/plain": [
       "dat1$village: Bana market\n",
       "[1] 0.9157716\n",
       "------------------------------------------------------------ \n",
       "dat1$village: Bana village\n",
       "[1] 0.9172278\n",
       "------------------------------------------------------------ \n",
       "dat1$village: Pala\n",
       "[1] 0.2774607\n",
       "------------------------------------------------------------ \n",
       "dat1$village: Souroukoudingan\n",
       "[1] 0.6235339"
      ]
     },
     "metadata": {},
     "output_type": "display_data"
    },
    {
     "data": {
      "text/plain": [
       "dat1$month.assigned: 1\n",
       "[1] NA\n",
       "------------------------------------------------------------ \n",
       "dat1$month.assigned: 2\n",
       "[1] NA\n",
       "------------------------------------------------------------ \n",
       "dat1$month.assigned: 3\n",
       "[1] NA\n",
       "------------------------------------------------------------ \n",
       "dat1$month.assigned: 4\n",
       "[1] NA\n",
       "------------------------------------------------------------ \n",
       "dat1$month.assigned: 5\n",
       "[1] 0.9792023\n",
       "------------------------------------------------------------ \n",
       "dat1$month.assigned: 6\n",
       "[1] 0.6047952\n",
       "------------------------------------------------------------ \n",
       "dat1$month.assigned: 7\n",
       "[1] 0.8558036\n",
       "------------------------------------------------------------ \n",
       "dat1$month.assigned: 8\n",
       "[1] 0.6601493\n",
       "------------------------------------------------------------ \n",
       "dat1$month.assigned: 9\n",
       "[1] 0.9415679\n",
       "------------------------------------------------------------ \n",
       "dat1$month.assigned: 10\n",
       "[1] 0.717817\n",
       "------------------------------------------------------------ \n",
       "dat1$month.assigned: 11\n",
       "[1] NA\n",
       "------------------------------------------------------------ \n",
       "dat1$month.assigned: 12\n",
       "[1] NA"
      ]
     },
     "metadata": {},
     "output_type": "display_data"
    }
   ],
   "source": [
    "# DESCRIPTIVE STATS ON THE PROPORTIONS (VERY ROUGH)\n",
    "col.f.proportion<-dat1$col.f/(dat1$col.f+dat1$gam.f)\n",
    "by(col.f.proportion, dat1$village, mean, na.rm=T)\n",
    "by(col.f.proportion, dat1$month.assigned, mean, na.rm=T)"
   ]
  },
  {
   "cell_type": "code",
   "execution_count": 9,
   "id": "63eef7fa",
   "metadata": {},
   "outputs": [
    {
     "name": "stderr",
     "output_type": "stream",
     "text": [
      "fixed-effect model matrix is rank deficient so dropping 6 columns / coefficients\n",
      "\n",
      "Correlation matrix not shown by default, as p = 18 > 12.\n",
      "Use print(obj, correlation=TRUE)  or\n",
      "    vcov(obj)        if you need it\n",
      "\n"
     ]
    },
    {
     "data": {
      "text/plain": [
       "Generalized linear mixed model fit by maximum likelihood (Laplace\n",
       "  Approximation) [glmerMod]\n",
       " Family: binomial  ( logit )\n",
       "Formula: cbind(col.f, gam.f) ~ (1 | overdispersion) + village * month.assigned\n",
       "   Data: dat1\n",
       "Control: glmerControl(optimizer = \"bobyqa\", optCtrl = list(maxfun = 2e+05))\n",
       "\n",
       "     AIC      BIC   logLik deviance df.resid \n",
       "  1252.0   1337.6   -607.0   1214.0      648 \n",
       "\n",
       "Scaled residuals: \n",
       "    Min      1Q  Median      3Q     Max \n",
       "-5.7353 -0.3886  0.2219  0.5028  2.3862 \n",
       "\n",
       "Random effects:\n",
       " Groups         Name        Variance Std.Dev.\n",
       " overdispersion (Intercept) 0.5168   0.7189  \n",
       "Number of obs: 667, groups:  overdispersion, 667\n",
       "\n",
       "Fixed effects:\n",
       "                                       Estimate Std. Error z value Pr(>|z|)    \n",
       "(Intercept)                             3.99488    0.42990   9.293  < 2e-16 ***\n",
       "villageBana village                     1.07057    0.84117   1.273  0.20312    \n",
       "villagePala                            -3.34558    0.40588  -8.243  < 2e-16 ***\n",
       "villageSouroukoudingan                 -1.34709    0.41718  -3.229  0.00124 ** \n",
       "month.assigned6                        -1.34928    0.53516  -2.521  0.01169 *  \n",
       "month.assigned7                        -1.21351    0.60858  -1.994  0.04615 *  \n",
       "month.assigned8                        -2.22809    0.50293  -4.430 9.41e-06 ***\n",
       "month.assigned9                        -0.96016    0.56223  -1.708  0.08768 .  \n",
       "month.assigned10                       -1.40317    0.54573  -2.571  0.01014 *  \n",
       "villageBana village:month.assigned6    -0.56810    0.96723  -0.587  0.55697    \n",
       "villagePala:month.assigned6            -1.47906    0.60134  -2.460  0.01391 *  \n",
       "villageSouroukoudingan:month.assigned6 -1.26652    0.56277  -2.251  0.02442 *  \n",
       "villageBana village:month.assigned7    -2.29572    0.98577  -2.329  0.01987 *  \n",
       "villageBana village:month.assigned8    -0.99398    0.91340  -1.088  0.27650    \n",
       "villagePala:month.assigned8             0.46907    0.53478   0.877  0.38041    \n",
       "villageSouroukoudingan:month.assigned8 -0.04841    0.53183  -0.091  0.92747    \n",
       "villageBana village:month.assigned9    -0.93420    0.97858  -0.955  0.33976    \n",
       "villageBana village:month.assigned10   -1.14325    0.95209  -1.201  0.22984    \n",
       "---\n",
       "Signif. codes:  0 '***' 0.001 '**' 0.01 '*' 0.05 '.' 0.1 ' ' 1\n",
       "fit warnings:\n",
       "fixed-effect model matrix is rank deficient so dropping 6 columns / coefficients"
      ]
     },
     "metadata": {},
     "output_type": "display_data"
    }
   ],
   "source": [
    "overdispersion<-1:nrow(dat1)\n",
    "m_0<-glmer(cbind(col.f, gam.f)~(1|overdispersion)+village*month.assigned, \n",
    "         data=dat1, family='binomial', \n",
    "         control=glmerControl(optimizer=\"bobyqa\",optCtrl=list(maxfun=2e5)))\n",
    "summary(m_0)"
   ]
  },
  {
   "cell_type": "code",
   "execution_count": 10,
   "id": "9d5c2b6c",
   "metadata": {},
   "outputs": [
    {
     "name": "stderr",
     "output_type": "stream",
     "text": [
      "fixed-effect model matrix is rank deficient so dropping 6 columns / coefficients\n",
      "\n",
      "Correlation matrix not shown by default, as p = 19 > 12.\n",
      "Use print(obj, correlation=TRUE)  or\n",
      "    vcov(obj)        if you need it\n",
      "\n"
     ]
    },
    {
     "data": {
      "text/plain": [
       "Generalized linear mixed model fit by maximum likelihood (Laplace\n",
       "  Approximation) [glmerMod]\n",
       " Family: binomial  ( logit )\n",
       "Formula: \n",
       "cbind(col.f, gam.f) ~ (1 | overdispersion) + village * month.assigned +  \n",
       "    mosquito.net\n",
       "   Data: dat1\n",
       "Control: glmerControl(optimizer = \"bobyqa\", optCtrl = list(maxfun = 2e+05))\n",
       "\n",
       "     AIC      BIC   logLik deviance df.resid \n",
       "  1231.6   1321.4   -595.8   1191.6      639 \n",
       "\n",
       "Scaled residuals: \n",
       "    Min      1Q  Median      3Q     Max \n",
       "-5.6993 -0.3741  0.2246  0.4806  2.3666 \n",
       "\n",
       "Random effects:\n",
       " Groups         Name        Variance Std.Dev.\n",
       " overdispersion (Intercept) 0.5422   0.7363  \n",
       "Number of obs: 659, groups:  overdispersion, 659\n",
       "\n",
       "Fixed effects:\n",
       "                                       Estimate Std. Error z value Pr(>|z|)    \n",
       "(Intercept)                             3.98691    0.48806   8.169 3.11e-16 ***\n",
       "villageBana village                     1.07029    0.84318   1.269  0.20432    \n",
       "villagePala                            -3.49189    0.43127  -8.097 5.64e-16 ***\n",
       "villageSouroukoudingan                 -1.49123    0.43943  -3.394  0.00069 ***\n",
       "month.assigned6                        -1.34874    0.53892  -2.503  0.01233 *  \n",
       "month.assigned7                        -1.22941    0.63402  -1.939  0.05249 .  \n",
       "month.assigned8                        -2.28394    0.51194  -4.461 8.15e-06 ***\n",
       "month.assigned9                        -0.96339    0.56581  -1.703  0.08863 .  \n",
       "month.assigned10                       -1.26378    0.56341  -2.243  0.02489 *  \n",
       "mosquito.netYes                         0.01973    0.23278   0.085  0.93244    \n",
       "villageBana village:month.assigned6    -0.58590    0.97090  -0.603  0.54621    \n",
       "villagePala:month.assigned6            -1.34893    0.61912  -2.179  0.02935 *  \n",
       "villageSouroukoudingan:month.assigned6 -1.13336    0.58149  -1.949  0.05129 .  \n",
       "villageBana village:month.assigned7    -2.28134    1.00316  -2.274  0.02296 *  \n",
       "villageBana village:month.assigned8    -0.89743    0.92279  -0.973  0.33079    \n",
       "villagePala:month.assigned8             0.67312    0.56281   1.196  0.23169    \n",
       "villageSouroukoudingan:month.assigned8  0.14639    0.55660   0.263  0.79254    \n",
       "villageBana village:month.assigned9    -0.93459    0.98231  -0.951  0.34139    \n",
       "villageBana village:month.assigned10   -1.28277    0.96377  -1.331  0.18319    \n",
       "---\n",
       "Signif. codes:  0 '***' 0.001 '**' 0.01 '*' 0.05 '.' 0.1 ' ' 1\n",
       "fit warnings:\n",
       "fixed-effect model matrix is rank deficient so dropping 6 columns / coefficients"
      ]
     },
     "metadata": {},
     "output_type": "display_data"
    }
   ],
   "source": [
    "m_1<-glmer(cbind(col.f, gam.f)~(1|overdispersion)+village*month.assigned+mosquito.net, \n",
    "         data=dat1, family='binomial', \n",
    "         control=glmerControl(optimizer=\"bobyqa\",optCtrl=list(maxfun=2e5)))\n",
    "summary(m_1)"
   ]
  },
  {
   "cell_type": "code",
   "execution_count": 26,
   "id": "58d34b41",
   "metadata": {},
   "outputs": [
    {
     "name": "stderr",
     "output_type": "stream",
     "text": [
      "fixed-effect model matrix is rank deficient so dropping 6 columns / coefficients\n",
      "\n",
      "Correlation matrix not shown by default, as p = 20 > 12.\n",
      "Use print(obj, correlation=TRUE)  or\n",
      "    vcov(obj)        if you need it\n",
      "\n"
     ]
    },
    {
     "data": {
      "text/plain": [
       "Generalized linear mixed model fit by maximum likelihood (Laplace\n",
       "  Approximation) [glmerMod]\n",
       " Family: binomial  ( logit )\n",
       "Formula: \n",
       "cbind(col.f, gam.f) ~ (1 | overdispersion) + village * month.assigned +  \n",
       "    persons.status\n",
       "   Data: dat1\n",
       "Control: glmerControl(optimizer = \"bobyqa\", optCtrl = list(maxfun = 2e+05))\n",
       "\n",
       "     AIC      BIC   logLik deviance df.resid \n",
       "  1228.3   1322.4   -593.2   1186.3      632 \n",
       "\n",
       "Scaled residuals: \n",
       "    Min      1Q  Median      3Q     Max \n",
       "-5.7369 -0.3861  0.2182  0.4784  2.3890 \n",
       "\n",
       "Random effects:\n",
       " Groups         Name        Variance Std.Dev.\n",
       " overdispersion (Intercept) 0.53     0.728   \n",
       "Number of obs: 653, groups:  overdispersion, 653\n",
       "\n",
       "Fixed effects:\n",
       "                                       Estimate Std. Error z value Pr(>|z|)    \n",
       "(Intercept)                              3.5790     0.8641   4.142 3.44e-05 ***\n",
       "villageBana village                      1.0743     0.8424   1.275 0.202239    \n",
       "villagePala                             -3.4854     0.4277  -8.148 3.69e-16 ***\n",
       "villageSouroukoudingan                  -1.4717     0.4387  -3.355 0.000794 ***\n",
       "month.assigned6                         -1.3481     0.5372  -2.509 0.012094 *  \n",
       "month.assigned7                         -1.2298     0.6314  -1.948 0.051466 .  \n",
       "month.assigned8                         -2.2824     0.5102  -4.474 7.68e-06 ***\n",
       "month.assigned9                         -0.9588     0.5645  -1.698 0.089421 .  \n",
       "month.assigned10                        -1.2621     0.5618  -2.247 0.024667 *  \n",
       "persons.statusLow                        0.4292     0.7501   0.572 0.567186    \n",
       "persons.statusHi                         0.4004     0.7566   0.529 0.596637    \n",
       "villageBana village:month.assigned6     -0.5908     0.9696  -0.609 0.542360    \n",
       "villagePala:month.assigned6             -1.3387     0.6172  -2.169 0.030096 *  \n",
       "villageSouroukoudingan:month.assigned6  -1.1421     0.5801  -1.969 0.048985 *  \n",
       "villageBana village:month.assigned7     -2.2746     1.0014  -2.272 0.023113 *  \n",
       "villageBana village:month.assigned8     -0.9927     0.9226  -1.076 0.281933    \n",
       "villagePala:month.assigned8              0.6458     0.5587   1.156 0.247718    \n",
       "villageSouroukoudingan:month.assigned8   0.1334     0.5554   0.240 0.810141    \n",
       "villageBana village:month.assigned9     -0.9395     0.9811  -0.958 0.338285    \n",
       "villageBana village:month.assigned10    -1.2665     0.9641  -1.314 0.188951    \n",
       "---\n",
       "Signif. codes:  0 '***' 0.001 '**' 0.01 '*' 0.05 '.' 0.1 ' ' 1\n",
       "fit warnings:\n",
       "fixed-effect model matrix is rank deficient so dropping 6 columns / coefficients"
      ]
     },
     "metadata": {},
     "output_type": "display_data"
    }
   ],
   "source": [
    "m_2<-glmer(cbind(col.f, gam.f)~(1|overdispersion)+village*month.assigned+persons.status, \n",
    "         data=dat1, family='binomial', \n",
    "         control=glmerControl(optimizer=\"bobyqa\",optCtrl=list(maxfun=2e5)))\n",
    "summary(m_2)"
   ]
  },
  {
   "cell_type": "markdown",
   "id": "f5f3dad6",
   "metadata": {},
   "source": [
    "Persons and mosquito net does not affect the ratio of coluzzii and gambiae. Different month x village combinations have different ratio. \n",
    "\n",
    "Note that we did not genotype all mosquitoes we collected. It is worth thinking how we can combine the two models (Poisson count glm for the combined counts and then the binomial glm for the proportion) for power analysis. \n",
    "\n",
    "One simple solution is to use the implied coluzzi and gambiae counts (count.f * proportion). This is quite good when genotyped.f is similar to count.f. \n",
    "\n",
    "Another method is to build a complex hierachical model. The observed female counts follow a Poisson distribution, and that the observed female coluzzii count follows another hypergeometric distribution (sample without replacement). Then we can build a probabilistic model on how many coluzzii there are in the sampled pool. "
   ]
  },
  {
   "cell_type": "markdown",
   "id": "63f601e7",
   "metadata": {},
   "source": [
    "### male vs female"
   ]
  },
  {
   "cell_type": "code",
   "execution_count": null,
   "id": "12520bce",
   "metadata": {},
   "outputs": [],
   "source": []
  }
 ],
 "metadata": {
  "kernelspec": {
   "display_name": "R",
   "language": "R",
   "name": "ir"
  },
  "language_info": {
   "codemirror_mode": "r",
   "file_extension": ".r",
   "mimetype": "text/x-r-source",
   "name": "R",
   "pygments_lexer": "r",
   "version": "3.5.3"
  }
 },
 "nbformat": 4,
 "nbformat_minor": 5
}
