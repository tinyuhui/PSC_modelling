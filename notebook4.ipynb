{
 "cells": [
  {
   "cell_type": "markdown",
   "id": "bf990433",
   "metadata": {},
   "source": [
    "## Notebook 4\n",
    "\n",
    "Binomial proportions. In the latter half of the dataset there are genotypic counts. This notebook tries to model the proportion between coluzzii and gambiae, and see if there is any variation among villages and months. \n",
    "\n",
    "The subset we are using are counts from 2017-2019, wet season only (25% of the dataset). "
   ]
  },
  {
   "cell_type": "code",
   "execution_count": 22,
   "id": "f516bb57",
   "metadata": {},
   "outputs": [
    {
     "data": {
      "text/html": [
       "3"
      ],
      "text/latex": [
       "3"
      ],
      "text/markdown": [
       "3"
      ],
      "text/plain": [
       "[1] 3"
      ]
     },
     "metadata": {},
     "output_type": "display_data"
    },
    {
     "data": {
      "text/html": [
       "<ol class=list-inline>\n",
       "\t<li>'BV_weather'</li>\n",
       "\t<li>'col.f.proportion'</li>\n",
       "\t<li>'dat1'</li>\n",
       "\t<li>'m'</li>\n",
       "\t<li>'m_0'</li>\n",
       "\t<li>'m_1'</li>\n",
       "\t<li>'m1'</li>\n",
       "\t<li>'m2'</li>\n",
       "\t<li>'overdispersion'</li>\n",
       "\t<li>'PL_weather'</li>\n",
       "\t<li>'SK_weather'</li>\n",
       "</ol>\n"
      ],
      "text/latex": [
       "\\begin{enumerate*}\n",
       "\\item 'BV\\_weather'\n",
       "\\item 'col.f.proportion'\n",
       "\\item 'dat1'\n",
       "\\item 'm'\n",
       "\\item 'm\\_0'\n",
       "\\item 'm\\_1'\n",
       "\\item 'm1'\n",
       "\\item 'm2'\n",
       "\\item 'overdispersion'\n",
       "\\item 'PL\\_weather'\n",
       "\\item 'SK\\_weather'\n",
       "\\end{enumerate*}\n"
      ],
      "text/markdown": [
       "1. 'BV_weather'\n",
       "2. 'col.f.proportion'\n",
       "3. 'dat1'\n",
       "4. 'm'\n",
       "5. 'm_0'\n",
       "6. 'm_1'\n",
       "7. 'm1'\n",
       "8. 'm2'\n",
       "9. 'overdispersion'\n",
       "10. 'PL_weather'\n",
       "11. 'SK_weather'\n",
       "\n",
       "\n"
      ],
      "text/plain": [
       " [1] \"BV_weather\"       \"col.f.proportion\" \"dat1\"             \"m\"               \n",
       " [5] \"m_0\"              \"m_1\"              \"m1\"               \"m2\"              \n",
       " [9] \"overdispersion\"   \"PL_weather\"       \"SK_weather\"      "
      ]
     },
     "metadata": {},
     "output_type": "display_data"
    }
   ],
   "source": [
    "# LOAD R PACKAGES\n",
    "require(compiler)\n",
    "enableJIT(3)\n",
    "setMKLthreads(22)\n",
    "require(lme4)\n",
    "require(lmerTest)\n",
    "require(MASS)\n",
    "\n",
    "# LOAD DATASET dat1\n",
    "#setwd('variance/Florian')\n",
    "load('Per house data PSC 2012 to 2019 polish2.RData')\n",
    "load('BF_weather.RData')\n",
    "ls()"
   ]
  },
  {
   "cell_type": "code",
   "execution_count": 23,
   "id": "52358e34",
   "metadata": {},
   "outputs": [
    {
     "data": {
      "text/html": [
       "<ol class=list-inline>\n",
       "\t<li>876</li>\n",
       "\t<li>26</li>\n",
       "</ol>\n"
      ],
      "text/latex": [
       "\\begin{enumerate*}\n",
       "\\item 876\n",
       "\\item 26\n",
       "\\end{enumerate*}\n"
      ],
      "text/markdown": [
       "1. 876\n",
       "2. 26\n",
       "\n",
       "\n"
      ],
      "text/plain": [
       "[1] 876  26"
      ]
     },
     "metadata": {},
     "output_type": "display_data"
    },
    {
     "data": {
      "text/html": [
       "<ol class=list-inline>\n",
       "\t<li>'village'</li>\n",
       "\t<li>'month.assigned'</li>\n",
       "\t<li>'year.assigned'</li>\n",
       "\t<li>'monthyear.assigned'</li>\n",
       "\t<li>'day'</li>\n",
       "\t<li>'month'</li>\n",
       "\t<li>'year'</li>\n",
       "\t<li>'date.collection'</li>\n",
       "\t<li>'site.id'</li>\n",
       "\t<li>'longitude'</li>\n",
       "\t<li>'latitude'</li>\n",
       "\t<li>'room.id'</li>\n",
       "\t<li>'num.persons'</li>\n",
       "\t<li>'num.persons.remark'</li>\n",
       "\t<li>'mosquito.net'</li>\n",
       "\t<li>'permanence'</li>\n",
       "\t<li>'count.m'</li>\n",
       "\t<li>'genotyped.m'</li>\n",
       "\t<li>'col.m'</li>\n",
       "\t<li>'gam.m'</li>\n",
       "\t<li>'arab.m'</li>\n",
       "\t<li>'count.f'</li>\n",
       "\t<li>'genotyped.f'</li>\n",
       "\t<li>'col.f'</li>\n",
       "\t<li>'gam.f'</li>\n",
       "\t<li>'arab.f'</li>\n",
       "</ol>\n"
      ],
      "text/latex": [
       "\\begin{enumerate*}\n",
       "\\item 'village'\n",
       "\\item 'month.assigned'\n",
       "\\item 'year.assigned'\n",
       "\\item 'monthyear.assigned'\n",
       "\\item 'day'\n",
       "\\item 'month'\n",
       "\\item 'year'\n",
       "\\item 'date.collection'\n",
       "\\item 'site.id'\n",
       "\\item 'longitude'\n",
       "\\item 'latitude'\n",
       "\\item 'room.id'\n",
       "\\item 'num.persons'\n",
       "\\item 'num.persons.remark'\n",
       "\\item 'mosquito.net'\n",
       "\\item 'permanence'\n",
       "\\item 'count.m'\n",
       "\\item 'genotyped.m'\n",
       "\\item 'col.m'\n",
       "\\item 'gam.m'\n",
       "\\item 'arab.m'\n",
       "\\item 'count.f'\n",
       "\\item 'genotyped.f'\n",
       "\\item 'col.f'\n",
       "\\item 'gam.f'\n",
       "\\item 'arab.f'\n",
       "\\end{enumerate*}\n"
      ],
      "text/markdown": [
       "1. 'village'\n",
       "2. 'month.assigned'\n",
       "3. 'year.assigned'\n",
       "4. 'monthyear.assigned'\n",
       "5. 'day'\n",
       "6. 'month'\n",
       "7. 'year'\n",
       "8. 'date.collection'\n",
       "9. 'site.id'\n",
       "10. 'longitude'\n",
       "11. 'latitude'\n",
       "12. 'room.id'\n",
       "13. 'num.persons'\n",
       "14. 'num.persons.remark'\n",
       "15. 'mosquito.net'\n",
       "16. 'permanence'\n",
       "17. 'count.m'\n",
       "18. 'genotyped.m'\n",
       "19. 'col.m'\n",
       "20. 'gam.m'\n",
       "21. 'arab.m'\n",
       "22. 'count.f'\n",
       "23. 'genotyped.f'\n",
       "24. 'col.f'\n",
       "25. 'gam.f'\n",
       "26. 'arab.f'\n",
       "\n",
       "\n"
      ],
      "text/plain": [
       " [1] \"village\"            \"month.assigned\"     \"year.assigned\"     \n",
       " [4] \"monthyear.assigned\" \"day\"                \"month\"             \n",
       " [7] \"year\"               \"date.collection\"    \"site.id\"           \n",
       "[10] \"longitude\"          \"latitude\"           \"room.id\"           \n",
       "[13] \"num.persons\"        \"num.persons.remark\" \"mosquito.net\"      \n",
       "[16] \"permanence\"         \"count.m\"            \"genotyped.m\"       \n",
       "[19] \"col.m\"              \"gam.m\"              \"arab.m\"            \n",
       "[22] \"count.f\"            \"genotyped.f\"        \"col.f\"             \n",
       "[25] \"gam.f\"              \"arab.f\"            "
      ]
     },
     "metadata": {},
     "output_type": "display_data"
    }
   ],
   "source": [
    "# SUBSET (2017-2019)\n",
    "dat1<-dat1[dat1$year.assigned %in% 2017:2019,]\n",
    "# SUBSET (WET SEASON MAY - OCT)\n",
    "dat1<-dat1[dat1$month.assigned %in% 5:10,]\n",
    "dim(dat1)\n",
    "names(dat1)\n",
    "# TRANSFORM num.persons\n",
    "persons.status<-dat1$num.persons\n",
    "persons.status[dat1$num.persons>3]<-'Hi'\n",
    "persons.status[dat1$num.persons<=3]<-'Low'\n",
    "persons.status[dat1$num.persons==0]<-'None'"
   ]
  },
  {
   "cell_type": "code",
   "execution_count": 24,
   "id": "e7e01646",
   "metadata": {},
   "outputs": [
    {
     "data": {
      "text/plain": [
       "dat1$village: Bana market\n",
       "[1] 0.9157716\n",
       "------------------------------------------------------------ \n",
       "dat1$village: Bana village\n",
       "[1] 0.9172278\n",
       "------------------------------------------------------------ \n",
       "dat1$village: Pala\n",
       "[1] 0.2774607\n",
       "------------------------------------------------------------ \n",
       "dat1$village: Souroukoudingan\n",
       "[1] 0.6235339"
      ]
     },
     "metadata": {},
     "output_type": "display_data"
    },
    {
     "data": {
      "text/plain": [
       "dat1$month.assigned: 1\n",
       "[1] NA\n",
       "------------------------------------------------------------ \n",
       "dat1$month.assigned: 2\n",
       "[1] NA\n",
       "------------------------------------------------------------ \n",
       "dat1$month.assigned: 3\n",
       "[1] NA\n",
       "------------------------------------------------------------ \n",
       "dat1$month.assigned: 4\n",
       "[1] NA\n",
       "------------------------------------------------------------ \n",
       "dat1$month.assigned: 5\n",
       "[1] 0.9792023\n",
       "------------------------------------------------------------ \n",
       "dat1$month.assigned: 6\n",
       "[1] 0.6047952\n",
       "------------------------------------------------------------ \n",
       "dat1$month.assigned: 7\n",
       "[1] 0.8558036\n",
       "------------------------------------------------------------ \n",
       "dat1$month.assigned: 8\n",
       "[1] 0.6601493\n",
       "------------------------------------------------------------ \n",
       "dat1$month.assigned: 9\n",
       "[1] 0.9415679\n",
       "------------------------------------------------------------ \n",
       "dat1$month.assigned: 10\n",
       "[1] 0.717817\n",
       "------------------------------------------------------------ \n",
       "dat1$month.assigned: 11\n",
       "[1] NA\n",
       "------------------------------------------------------------ \n",
       "dat1$month.assigned: 12\n",
       "[1] NA"
      ]
     },
     "metadata": {},
     "output_type": "display_data"
    }
   ],
   "source": [
    "# DESCRIPTIVE STATS ON THE PROPORTIONS (VERY ROUGH)\n",
    "col.f.proportion<-dat1$col.f/(dat1$col.f+dat1$gam.f)\n",
    "by(col.f.proportion, dat1$village, mean, na.rm=T)\n",
    "by(col.f.proportion, dat1$month.assigned, mean, na.rm=T)"
   ]
  },
  {
   "cell_type": "code",
   "execution_count": 25,
   "id": "63eef7fa",
   "metadata": {},
   "outputs": [
    {
     "name": "stderr",
     "output_type": "stream",
     "text": [
      "fixed-effect model matrix is rank deficient so dropping 6 columns / coefficients\n",
      "\n",
      "Correlation matrix not shown by default, as p = 18 > 12.\n",
      "Use print(obj, correlation=TRUE)  or\n",
      "    vcov(obj)        if you need it\n",
      "\n"
     ]
    },
    {
     "data": {
      "text/plain": [
       "Generalized linear mixed model fit by maximum likelihood (Laplace\n",
       "  Approximation) [glmerMod]\n",
       " Family: binomial  ( logit )\n",
       "Formula: cbind(col.f, gam.f) ~ (1 | overdispersion) + village * month.assigned\n",
       "   Data: dat1\n",
       "Control: glmerControl(optimizer = \"bobyqa\", optCtrl = list(maxfun = 2e+05))\n",
       "\n",
       "     AIC      BIC   logLik deviance df.resid \n",
       "  1252.0   1337.6   -607.0   1214.0      648 \n",
       "\n",
       "Scaled residuals: \n",
       "    Min      1Q  Median      3Q     Max \n",
       "-5.7353 -0.3886  0.2219  0.5028  2.3862 \n",
       "\n",
       "Random effects:\n",
       " Groups         Name        Variance Std.Dev.\n",
       " overdispersion (Intercept) 0.5168   0.7189  \n",
       "Number of obs: 667, groups:  overdispersion, 667\n",
       "\n",
       "Fixed effects:\n",
       "                                       Estimate Std. Error z value Pr(>|z|)    \n",
       "(Intercept)                             3.99488    0.42990   9.293  < 2e-16 ***\n",
       "villageBana village                     1.07057    0.84117   1.273  0.20312    \n",
       "villagePala                            -3.34558    0.40588  -8.243  < 2e-16 ***\n",
       "villageSouroukoudingan                 -1.34709    0.41718  -3.229  0.00124 ** \n",
       "month.assigned6                        -1.34928    0.53516  -2.521  0.01169 *  \n",
       "month.assigned7                        -1.21351    0.60858  -1.994  0.04615 *  \n",
       "month.assigned8                        -2.22809    0.50293  -4.430 9.41e-06 ***\n",
       "month.assigned9                        -0.96016    0.56223  -1.708  0.08768 .  \n",
       "month.assigned10                       -1.40317    0.54573  -2.571  0.01014 *  \n",
       "villageBana village:month.assigned6    -0.56810    0.96723  -0.587  0.55697    \n",
       "villagePala:month.assigned6            -1.47906    0.60134  -2.460  0.01391 *  \n",
       "villageSouroukoudingan:month.assigned6 -1.26652    0.56277  -2.251  0.02442 *  \n",
       "villageBana village:month.assigned7    -2.29572    0.98577  -2.329  0.01987 *  \n",
       "villageBana village:month.assigned8    -0.99398    0.91340  -1.088  0.27650    \n",
       "villagePala:month.assigned8             0.46907    0.53478   0.877  0.38041    \n",
       "villageSouroukoudingan:month.assigned8 -0.04841    0.53183  -0.091  0.92747    \n",
       "villageBana village:month.assigned9    -0.93420    0.97858  -0.955  0.33976    \n",
       "villageBana village:month.assigned10   -1.14325    0.95209  -1.201  0.22984    \n",
       "---\n",
       "Signif. codes:  0 '***' 0.001 '**' 0.01 '*' 0.05 '.' 0.1 ' ' 1\n",
       "fit warnings:\n",
       "fixed-effect model matrix is rank deficient so dropping 6 columns / coefficients"
      ]
     },
     "metadata": {},
     "output_type": "display_data"
    }
   ],
   "source": [
    "overdispersion<-1:nrow(dat1)\n",
    "m_0<-glmer(cbind(col.f, gam.f)~(1|overdispersion)+village*month.assigned, \n",
    "         data=dat1, family='binomial', \n",
    "         control=glmerControl(optimizer=\"bobyqa\",optCtrl=list(maxfun=2e5)))\n",
    "summary(m_0)"
   ]
  },
  {
   "cell_type": "code",
   "execution_count": 26,
   "id": "9d5c2b6c",
   "metadata": {},
   "outputs": [
    {
     "name": "stderr",
     "output_type": "stream",
     "text": [
      "fixed-effect model matrix is rank deficient so dropping 6 columns / coefficients\n",
      "\n",
      "Correlation matrix not shown by default, as p = 19 > 12.\n",
      "Use print(obj, correlation=TRUE)  or\n",
      "    vcov(obj)        if you need it\n",
      "\n"
     ]
    },
    {
     "data": {
      "text/plain": [
       "Generalized linear mixed model fit by maximum likelihood (Laplace\n",
       "  Approximation) [glmerMod]\n",
       " Family: binomial  ( logit )\n",
       "Formula: \n",
       "cbind(col.f, gam.f) ~ (1 | overdispersion) + village * month.assigned +  \n",
       "    mosquito.net\n",
       "   Data: dat1\n",
       "Control: glmerControl(optimizer = \"bobyqa\", optCtrl = list(maxfun = 2e+05))\n",
       "\n",
       "     AIC      BIC   logLik deviance df.resid \n",
       "  1231.6   1321.4   -595.8   1191.6      639 \n",
       "\n",
       "Scaled residuals: \n",
       "    Min      1Q  Median      3Q     Max \n",
       "-5.6993 -0.3741  0.2246  0.4806  2.3666 \n",
       "\n",
       "Random effects:\n",
       " Groups         Name        Variance Std.Dev.\n",
       " overdispersion (Intercept) 0.5422   0.7363  \n",
       "Number of obs: 659, groups:  overdispersion, 659\n",
       "\n",
       "Fixed effects:\n",
       "                                       Estimate Std. Error z value Pr(>|z|)    \n",
       "(Intercept)                             3.98691    0.48806   8.169 3.11e-16 ***\n",
       "villageBana village                     1.07029    0.84318   1.269  0.20432    \n",
       "villagePala                            -3.49189    0.43127  -8.097 5.64e-16 ***\n",
       "villageSouroukoudingan                 -1.49123    0.43943  -3.394  0.00069 ***\n",
       "month.assigned6                        -1.34874    0.53892  -2.503  0.01233 *  \n",
       "month.assigned7                        -1.22941    0.63402  -1.939  0.05249 .  \n",
       "month.assigned8                        -2.28394    0.51194  -4.461 8.15e-06 ***\n",
       "month.assigned9                        -0.96339    0.56581  -1.703  0.08863 .  \n",
       "month.assigned10                       -1.26378    0.56341  -2.243  0.02489 *  \n",
       "mosquito.netYes                         0.01973    0.23278   0.085  0.93244    \n",
       "villageBana village:month.assigned6    -0.58590    0.97090  -0.603  0.54621    \n",
       "villagePala:month.assigned6            -1.34893    0.61912  -2.179  0.02935 *  \n",
       "villageSouroukoudingan:month.assigned6 -1.13336    0.58149  -1.949  0.05129 .  \n",
       "villageBana village:month.assigned7    -2.28134    1.00316  -2.274  0.02296 *  \n",
       "villageBana village:month.assigned8    -0.89743    0.92279  -0.973  0.33079    \n",
       "villagePala:month.assigned8             0.67312    0.56281   1.196  0.23169    \n",
       "villageSouroukoudingan:month.assigned8  0.14639    0.55660   0.263  0.79254    \n",
       "villageBana village:month.assigned9    -0.93459    0.98231  -0.951  0.34139    \n",
       "villageBana village:month.assigned10   -1.28277    0.96377  -1.331  0.18319    \n",
       "---\n",
       "Signif. codes:  0 '***' 0.001 '**' 0.01 '*' 0.05 '.' 0.1 ' ' 1\n",
       "fit warnings:\n",
       "fixed-effect model matrix is rank deficient so dropping 6 columns / coefficients"
      ]
     },
     "metadata": {},
     "output_type": "display_data"
    }
   ],
   "source": [
    "m_1<-glmer(cbind(col.f, gam.f)~(1|overdispersion)+village*month.assigned+mosquito.net, \n",
    "         data=dat1, family='binomial', \n",
    "         control=glmerControl(optimizer=\"bobyqa\",optCtrl=list(maxfun=2e5)))\n",
    "summary(m_1)"
   ]
  },
  {
   "cell_type": "code",
   "execution_count": 27,
   "id": "58d34b41",
   "metadata": {},
   "outputs": [
    {
     "name": "stderr",
     "output_type": "stream",
     "text": [
      "fixed-effect model matrix is rank deficient so dropping 6 columns / coefficients\n",
      "\n",
      "Correlation matrix not shown by default, as p = 20 > 12.\n",
      "Use print(obj, correlation=TRUE)  or\n",
      "    vcov(obj)        if you need it\n",
      "\n"
     ]
    },
    {
     "data": {
      "text/plain": [
       "Generalized linear mixed model fit by maximum likelihood (Laplace\n",
       "  Approximation) [glmerMod]\n",
       " Family: binomial  ( logit )\n",
       "Formula: \n",
       "cbind(col.f, gam.f) ~ (1 | overdispersion) + village * month.assigned +  \n",
       "    persons.status\n",
       "   Data: dat1\n",
       "Control: glmerControl(optimizer = \"bobyqa\", optCtrl = list(maxfun = 2e+05))\n",
       "\n",
       "     AIC      BIC   logLik deviance df.resid \n",
       "  1228.3   1322.4   -593.2   1186.3      632 \n",
       "\n",
       "Scaled residuals: \n",
       "    Min      1Q  Median      3Q     Max \n",
       "-5.7369 -0.3861  0.2182  0.4784  2.3890 \n",
       "\n",
       "Random effects:\n",
       " Groups         Name        Variance Std.Dev.\n",
       " overdispersion (Intercept) 0.53     0.728   \n",
       "Number of obs: 653, groups:  overdispersion, 653\n",
       "\n",
       "Fixed effects:\n",
       "                                       Estimate Std. Error z value Pr(>|z|)    \n",
       "(Intercept)                             3.97943    0.44295   8.984  < 2e-16 ***\n",
       "villageBana village                     1.07423    0.84234   1.275 0.202205    \n",
       "villagePala                            -3.48540    0.42773  -8.149 3.68e-16 ***\n",
       "villageSouroukoudingan                 -1.47166    0.43867  -3.355 0.000794 ***\n",
       "month.assigned6                        -1.34809    0.53719  -2.510 0.012090 *  \n",
       "month.assigned7                        -1.22976    0.63141  -1.948 0.051458 .  \n",
       "month.assigned8                        -2.28245    0.51016  -4.474 7.68e-06 ***\n",
       "month.assigned9                        -0.95885    0.56452  -1.699 0.089410 .  \n",
       "month.assigned10                       -1.26212    0.56177  -2.247 0.024661 *  \n",
       "persons.statusLow                       0.02877    0.14184   0.203 0.839255    \n",
       "persons.statusNone                     -0.40046    0.75661  -0.529 0.596616    \n",
       "villageBana village:month.assigned6    -0.59073    0.96956  -0.609 0.542343    \n",
       "villagePala:month.assigned6            -1.33866    0.61721  -2.169 0.030091 *  \n",
       "villageSouroukoudingan:month.assigned6 -1.14211    0.58011  -1.969 0.048980 *  \n",
       "villageBana village:month.assigned7    -2.27460    1.00127  -2.272 0.023104 *  \n",
       "villageBana village:month.assigned8    -0.99270    0.92254  -1.076 0.281902    \n",
       "villagePala:month.assigned8             0.64579    0.55868   1.156 0.247716    \n",
       "villageSouroukoudingan:month.assigned8  0.13343    0.55543   0.240 0.810149    \n",
       "villageBana village:month.assigned9    -0.93948    0.98107  -0.958 0.338259    \n",
       "villageBana village:month.assigned10   -1.26650    0.96401  -1.314 0.188922    \n",
       "---\n",
       "Signif. codes:  0 '***' 0.001 '**' 0.01 '*' 0.05 '.' 0.1 ' ' 1\n",
       "fit warnings:\n",
       "fixed-effect model matrix is rank deficient so dropping 6 columns / coefficients"
      ]
     },
     "metadata": {},
     "output_type": "display_data"
    }
   ],
   "source": [
    "m_2<-glmer(cbind(col.f, gam.f)~(1|overdispersion)+village*month.assigned+persons.status, \n",
    "         data=dat1, family='binomial', \n",
    "         control=glmerControl(optimizer=\"bobyqa\",optCtrl=list(maxfun=2e5)))\n",
    "summary(m_2)"
   ]
  },
  {
   "cell_type": "markdown",
   "id": "f5f3dad6",
   "metadata": {},
   "source": [
    "Persons and mosquito net does not affect the ratio of coluzzii and gambiae. Different month x village combinations have different ratio. \n",
    "\n",
    "Note that we did not genotype all mosquitoes we collected. It is worth thinking how we can combine the two models (Poisson count glm for the combined counts and then the binomial glm for the proportion) for power analysis. \n",
    "\n",
    "One simple solution is to use the implied coluzzi and gambiae counts (count.f * proportion). This is quite good when genotyped.f is similar to count.f. \n",
    "\n",
    "Another method is to build a complex hierachical model. The observed female counts follow a Poisson distribution, and that the observed female coluzzii count follows another hypergeometric distribution (sample without replacement). Then we can build a probabilistic model on how many coluzzii there are in the sampled pool. "
   ]
  },
  {
   "cell_type": "code",
   "execution_count": null,
   "id": "b3737d27",
   "metadata": {},
   "outputs": [],
   "source": []
  }
 ],
 "metadata": {
  "kernelspec": {
   "display_name": "R",
   "language": "R",
   "name": "ir"
  },
  "language_info": {
   "codemirror_mode": "r",
   "file_extension": ".r",
   "mimetype": "text/x-r-source",
   "name": "R",
   "pygments_lexer": "r",
   "version": "3.5.3"
  }
 },
 "nbformat": 4,
 "nbformat_minor": 5
}
