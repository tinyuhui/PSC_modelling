{
 "cells": [
  {
   "cell_type": "markdown",
   "id": "d9640b08",
   "metadata": {},
   "source": [
    "### Spatial variation of house effect\n",
    "Previously I fitted a Poisson mixed effect model with village and month as fixed effects as well as mosquito nets and number of residents. The random effects are observational-level overdispersion, yearly and among-house variations. Some analyses were run only on the wet season counts (response is the female count, both species combined). \n",
    "\n",
    "To further investigate the house effect and its spatial clustering (if any) I wanted to fit a similar model by changing it to a fixed effect with about 300 levels (houses). This also meant to estimate 300 additional parameters for each house rather than one overall variance estimate. The computer did not like this task and I was stuck. \n",
    "\n",
    "After some research I discovered a method to extract the approximate house effect from the existing mixed effect model. I am still reading about this. Since the house effect is the difference between the house mean and the overall mean (after controlling for other factors), it is possible to work it back by comparing the fitted and observed data points. Hence R calls it the \"conditional mode\". \n",
    "\n",
    "I think it is a good middle ground for our task. "
   ]
  },
  {
   "cell_type": "code",
   "execution_count": 6,
   "id": "63336d3a",
   "metadata": {},
   "outputs": [
    {
     "data": {
      "text/html": [
       "3"
      ],
      "text/latex": [
       "3"
      ],
      "text/markdown": [
       "3"
      ],
      "text/plain": [
       "[1] 3"
      ]
     },
     "metadata": {},
     "output_type": "display_data"
    },
    {
     "data": {
      "text/html": [
       "<ol class=list-inline>\n",
       "\t<li>'dat1'</li>\n",
       "\t<li>'m_4C'</li>\n",
       "\t<li>'overdispersion'</li>\n",
       "</ol>\n"
      ],
      "text/latex": [
       "\\begin{enumerate*}\n",
       "\\item 'dat1'\n",
       "\\item 'm\\_4C'\n",
       "\\item 'overdispersion'\n",
       "\\end{enumerate*}\n"
      ],
      "text/markdown": [
       "1. 'dat1'\n",
       "2. 'm_4C'\n",
       "3. 'overdispersion'\n",
       "\n",
       "\n"
      ],
      "text/plain": [
       "[1] \"dat1\"           \"m_4C\"           \"overdispersion\""
      ]
     },
     "metadata": {},
     "output_type": "display_data"
    }
   ],
   "source": [
    "# LOAD R PACKAGES\n",
    "require(compiler)\n",
    "enableJIT(3)\n",
    "setMKLthreads(20)\n",
    "require(lme4)\n",
    "require(lmerTest)\n",
    "require(MASS)\n",
    "\n",
    "# LOAD DATASET dat1\n",
    "#setwd('variance/Florian')\n",
    "load('Per house data PSC 2012 to 2019 polish2.RData')\n",
    "#load('BF_weather.RData')\n",
    "ls()"
   ]
  },
  {
   "cell_type": "code",
   "execution_count": 7,
   "id": "e863f40b",
   "metadata": {},
   "outputs": [
    {
     "data": {
      "text/html": [
       "<ol class=list-inline>\n",
       "\t<li>'village'</li>\n",
       "\t<li>'month.assigned'</li>\n",
       "\t<li>'year.assigned'</li>\n",
       "\t<li>'monthyear.assigned'</li>\n",
       "\t<li>'day'</li>\n",
       "\t<li>'month'</li>\n",
       "\t<li>'year'</li>\n",
       "\t<li>'date.collection'</li>\n",
       "\t<li>'site.id'</li>\n",
       "\t<li>'longitude'</li>\n",
       "\t<li>'latitude'</li>\n",
       "\t<li>'room.id'</li>\n",
       "\t<li>'num.persons'</li>\n",
       "\t<li>'num.persons.remark'</li>\n",
       "\t<li>'mosquito.net'</li>\n",
       "\t<li>'permanence'</li>\n",
       "\t<li>'count.m'</li>\n",
       "\t<li>'genotyped.m'</li>\n",
       "\t<li>'col.m'</li>\n",
       "\t<li>'gam.m'</li>\n",
       "\t<li>'arab.m'</li>\n",
       "\t<li>'count.f'</li>\n",
       "\t<li>'genotyped.f'</li>\n",
       "\t<li>'col.f'</li>\n",
       "\t<li>'gam.f'</li>\n",
       "\t<li>'arab.f'</li>\n",
       "</ol>\n"
      ],
      "text/latex": [
       "\\begin{enumerate*}\n",
       "\\item 'village'\n",
       "\\item 'month.assigned'\n",
       "\\item 'year.assigned'\n",
       "\\item 'monthyear.assigned'\n",
       "\\item 'day'\n",
       "\\item 'month'\n",
       "\\item 'year'\n",
       "\\item 'date.collection'\n",
       "\\item 'site.id'\n",
       "\\item 'longitude'\n",
       "\\item 'latitude'\n",
       "\\item 'room.id'\n",
       "\\item 'num.persons'\n",
       "\\item 'num.persons.remark'\n",
       "\\item 'mosquito.net'\n",
       "\\item 'permanence'\n",
       "\\item 'count.m'\n",
       "\\item 'genotyped.m'\n",
       "\\item 'col.m'\n",
       "\\item 'gam.m'\n",
       "\\item 'arab.m'\n",
       "\\item 'count.f'\n",
       "\\item 'genotyped.f'\n",
       "\\item 'col.f'\n",
       "\\item 'gam.f'\n",
       "\\item 'arab.f'\n",
       "\\end{enumerate*}\n"
      ],
      "text/markdown": [
       "1. 'village'\n",
       "2. 'month.assigned'\n",
       "3. 'year.assigned'\n",
       "4. 'monthyear.assigned'\n",
       "5. 'day'\n",
       "6. 'month'\n",
       "7. 'year'\n",
       "8. 'date.collection'\n",
       "9. 'site.id'\n",
       "10. 'longitude'\n",
       "11. 'latitude'\n",
       "12. 'room.id'\n",
       "13. 'num.persons'\n",
       "14. 'num.persons.remark'\n",
       "15. 'mosquito.net'\n",
       "16. 'permanence'\n",
       "17. 'count.m'\n",
       "18. 'genotyped.m'\n",
       "19. 'col.m'\n",
       "20. 'gam.m'\n",
       "21. 'arab.m'\n",
       "22. 'count.f'\n",
       "23. 'genotyped.f'\n",
       "24. 'col.f'\n",
       "25. 'gam.f'\n",
       "26. 'arab.f'\n",
       "\n",
       "\n"
      ],
      "text/plain": [
       " [1] \"village\"            \"month.assigned\"     \"year.assigned\"     \n",
       " [4] \"monthyear.assigned\" \"day\"                \"month\"             \n",
       " [7] \"year\"               \"date.collection\"    \"site.id\"           \n",
       "[10] \"longitude\"          \"latitude\"           \"room.id\"           \n",
       "[13] \"num.persons\"        \"num.persons.remark\" \"mosquito.net\"      \n",
       "[16] \"permanence\"         \"count.m\"            \"genotyped.m\"       \n",
       "[19] \"col.m\"              \"gam.m\"              \"arab.m\"            \n",
       "[22] \"count.f\"            \"genotyped.f\"        \"col.f\"             \n",
       "[25] \"gam.f\"              \"arab.f\"            "
      ]
     },
     "metadata": {},
     "output_type": "display_data"
    },
    {
     "ename": "ERROR",
     "evalue": "Error in eval(expr, envir, enclos): object 'BV_weather' not found\n",
     "output_type": "error",
     "traceback": [
      "Error in eval(expr, envir, enclos): object 'BV_weather' not found\nTraceback:\n"
     ]
    }
   ],
   "source": [
    "names(dat1)\n",
    "names(BV_weather)"
   ]
  },
  {
   "cell_type": "code",
   "execution_count": 8,
   "id": "39781438",
   "metadata": {},
   "outputs": [],
   "source": [
    "# THREE LEVELS OF PERSONS: None, Low, Hi\n",
    "dat1$persons.status<-dat1$num.persons\n",
    "dat1$persons.status[dat1$num.persons>3]<-'Hi'\n",
    "dat1$persons.status[dat1$num.persons<=3]<-'Low'\n",
    "dat1$persons.status[dat1$num.persons==0]<-'None'\n",
    "dat1$persons.status<-factor(dat1$persons.status, levels=c('None', 'Low', 'Hi'))\n",
    "overdispersion<-1:nrow(dat1)"
   ]
  },
  {
   "cell_type": "code",
   "execution_count": 9,
   "id": "1f681224",
   "metadata": {},
   "outputs": [],
   "source": [
    "#m_4C<-glmer(count.f~(1|year.assigned)+(1|site.id)+(1|overdispersion)+month.assigned*village+mosquito.net+persons.status, \n",
    "#             family='poisson', data=dat1, \n",
    "#             control=glmerControl(optimizer=\"bobyqa\", optCtrl=list(maxfun=3e4)))\n",
    "#m_4C<-glmer(count.f~(1|year.assigned)+(1|site.id)+(1|overdispersion)+month.assigned*village+mosquito.net+persons.status, \n",
    "#             family='poisson', data=dat1, \n",
    "#             control=glmerControl(optimizer=\"bobyqa\"))\n",
    "#summary(m_4C)"
   ]
  },
  {
   "cell_type": "code",
   "execution_count": 10,
   "id": "00809650",
   "metadata": {},
   "outputs": [
    {
     "data": {
      "text/html": [
       "<ol class=list-inline>\n",
       "\t<li>'dat1'</li>\n",
       "\t<li>'m_4C'</li>\n",
       "\t<li>'overdispersion'</li>\n",
       "</ol>\n"
      ],
      "text/latex": [
       "\\begin{enumerate*}\n",
       "\\item 'dat1'\n",
       "\\item 'm\\_4C'\n",
       "\\item 'overdispersion'\n",
       "\\end{enumerate*}\n"
      ],
      "text/markdown": [
       "1. 'dat1'\n",
       "2. 'm_4C'\n",
       "3. 'overdispersion'\n",
       "\n",
       "\n"
      ],
      "text/plain": [
       "[1] \"dat1\"           \"m_4C\"           \"overdispersion\""
      ]
     },
     "metadata": {},
     "output_type": "display_data"
    }
   ],
   "source": [
    "load('m_4C.RData')\n",
    "ls()"
   ]
  },
  {
   "cell_type": "code",
   "execution_count": 11,
   "id": "3d9ffbce",
   "metadata": {},
   "outputs": [
    {
     "name": "stderr",
     "output_type": "stream",
     "text": [
      "\n",
      "Correlation matrix not shown by default, as p = 51 > 12.\n",
      "Use print(obj, correlation=TRUE)  or\n",
      "    vcov(obj)        if you need it\n",
      "\n"
     ]
    },
    {
     "data": {
      "text/plain": [
       "Generalized linear mixed model fit by maximum likelihood (Laplace\n",
       "  Approximation) [glmerMod]\n",
       " Family: poisson  ( log )\n",
       "Formula: \n",
       "count.f ~ (1 | year.assigned) + (1 | site.id) + (1 | overdispersion) +  \n",
       "    month.assigned * village + mosquito.net + persons.status\n",
       "   Data: dat1\n",
       "Control: glmerControl(optimizer = \"bobyqa\", optCtrl = list(maxfun = 2e+05))\n",
       "\n",
       "     AIC      BIC   logLik deviance df.resid \n",
       " 16246.4  16573.1  -8069.2  16138.4     3079 \n",
       "\n",
       "Scaled residuals: \n",
       "    Min      1Q  Median      3Q     Max \n",
       "-1.3859 -0.4312 -0.1184  0.1370  4.4419 \n",
       "\n",
       "Random effects:\n",
       " Groups         Name        Variance Std.Dev.\n",
       " overdispersion (Intercept) 1.2453   1.1159  \n",
       " site.id        (Intercept) 0.3395   0.5827  \n",
       " year.assigned  (Intercept) 0.1536   0.3919  \n",
       "Number of obs: 3133, groups:  \n",
       "overdispersion, 3133; site.id, 383; year.assigned, 6\n",
       "\n",
       "Fixed effects:\n",
       "                                          Estimate Std. Error z value Pr(>|z|)\n",
       "(Intercept)                              -4.609421   0.891313  -5.171 2.32e-07\n",
       "month.assigned2                           2.482628   0.805692   3.081 0.002061\n",
       "month.assigned3                           4.078703   0.771431   5.287 1.24e-07\n",
       "month.assigned4                           4.587663   0.770915   5.951 2.67e-09\n",
       "month.assigned5                           5.539040   0.762761   7.262 3.82e-13\n",
       "month.assigned6                           5.526540   0.762351   7.249 4.19e-13\n",
       "month.assigned7                           5.061266   0.769196   6.580 4.71e-11\n",
       "month.assigned8                           5.113205   0.763313   6.699 2.10e-11\n",
       "month.assigned9                           5.810587   0.761499   7.630 2.34e-14\n",
       "month.assigned10                          5.615700   0.761476   7.375 1.65e-13\n",
       "month.assigned11                          3.679952   0.771118   4.772 1.82e-06\n",
       "month.assigned12                          1.648812   0.805301   2.047 0.040614\n",
       "villageBana village                       0.538383   0.884050   0.609 0.542527\n",
       "villagePala                               1.176102   0.981386   1.198 0.230758\n",
       "villageSouroukoudingan                  -13.006499   6.152313  -2.114 0.034508\n",
       "mosquito.netYes                          -0.090030   0.090113  -0.999 0.317757\n",
       "persons.statusLow                         1.059514   0.441141   2.402 0.016316\n",
       "persons.statusHi                          1.517982   0.443096   3.426 0.000613\n",
       "month.assigned2:villageBana village      -0.654426   0.951558  -0.688 0.491615\n",
       "month.assigned3:villageBana village      -0.360218   0.901716  -0.399 0.689539\n",
       "month.assigned4:villageBana village       0.226061   0.899916   0.251 0.801658\n",
       "month.assigned5:villageBana village       0.034343   0.895055   0.038 0.969393\n",
       "month.assigned6:villageBana village      -0.328723   0.892197  -0.368 0.712543\n",
       "month.assigned7:villageBana village      -0.039068   0.900948  -0.043 0.965412\n",
       "month.assigned8:villageBana village      -0.050292   0.894097  -0.056 0.955144\n",
       "month.assigned9:villageBana village      -0.009459   0.891652  -0.011 0.991536\n",
       "month.assigned10:villageBana village     -0.432159   0.891039  -0.485 0.627673\n",
       "month.assigned11:villageBana village     -0.694321   0.904490  -0.768 0.442702\n",
       "month.assigned12:villageBana village     -0.367281   0.946863  -0.388 0.698095\n",
       "month.assigned2:villagePala               0.135404   1.026819   0.132 0.895089\n",
       "month.assigned3:villagePala              -1.677063   1.011724  -1.658 0.097392\n",
       "month.assigned4:villagePala              -0.695016   0.993920  -0.699 0.484385\n",
       "month.assigned5:villagePala              -0.283428   1.012412  -0.280 0.779514\n",
       "month.assigned6:villagePala              -2.254917   0.988397  -2.281 0.022526\n",
       "month.assigned7:villagePala              -1.497777   1.003997  -1.492 0.135748\n",
       "month.assigned8:villagePala              -1.658551   0.988488  -1.678 0.093373\n",
       "month.assigned9:villagePala              -1.723758   0.997998  -1.727 0.084129\n",
       "month.assigned10:villagePala             -1.321623   0.985323  -1.341 0.179820\n",
       "month.assigned11:villagePala             -0.684938   1.006976  -0.680 0.496382\n",
       "month.assigned12:villagePala             -0.371002   1.027355  -0.361 0.718007\n",
       "month.assigned2:villageSouroukoudingan   11.798617   6.167323   1.913 0.055737\n",
       "month.assigned3:villageSouroukoudingan   12.057029   6.154770   1.959 0.050116\n",
       "month.assigned4:villageSouroukoudingan   11.070957   6.155764   1.798 0.072103\n",
       "month.assigned5:villageSouroukoudingan   12.573902   6.158305   2.042 0.041173\n",
       "month.assigned6:villageSouroukoudingan   12.063477   6.152953   1.961 0.049926\n",
       "month.assigned7:villageSouroukoudingan   13.096669   6.157799   2.127 0.033433\n",
       "month.assigned8:villageSouroukoudingan   12.831925   6.153704   2.085 0.037048\n",
       "month.assigned9:villageSouroukoudingan   12.225937   6.153681   1.987 0.046948\n",
       "month.assigned10:villageSouroukoudingan  12.473111   6.154390   2.027 0.042693\n",
       "month.assigned11:villageSouroukoudingan  13.061350   6.156665   2.121 0.033880\n",
       "month.assigned12:villageSouroukoudingan  12.811520   6.159265   2.080 0.037522\n",
       "                                           \n",
       "(Intercept)                             ***\n",
       "month.assigned2                         ** \n",
       "month.assigned3                         ***\n",
       "month.assigned4                         ***\n",
       "month.assigned5                         ***\n",
       "month.assigned6                         ***\n",
       "month.assigned7                         ***\n",
       "month.assigned8                         ***\n",
       "month.assigned9                         ***\n",
       "month.assigned10                        ***\n",
       "month.assigned11                        ***\n",
       "month.assigned12                        *  \n",
       "villageBana village                        \n",
       "villagePala                                \n",
       "villageSouroukoudingan                  *  \n",
       "mosquito.netYes                            \n",
       "persons.statusLow                       *  \n",
       "persons.statusHi                        ***\n",
       "month.assigned2:villageBana village        \n",
       "month.assigned3:villageBana village        \n",
       "month.assigned4:villageBana village        \n",
       "month.assigned5:villageBana village        \n",
       "month.assigned6:villageBana village        \n",
       "month.assigned7:villageBana village        \n",
       "month.assigned8:villageBana village        \n",
       "month.assigned9:villageBana village        \n",
       "month.assigned10:villageBana village       \n",
       "month.assigned11:villageBana village       \n",
       "month.assigned12:villageBana village       \n",
       "month.assigned2:villagePala                \n",
       "month.assigned3:villagePala             .  \n",
       "month.assigned4:villagePala                \n",
       "month.assigned5:villagePala                \n",
       "month.assigned6:villagePala             *  \n",
       "month.assigned7:villagePala                \n",
       "month.assigned8:villagePala             .  \n",
       "month.assigned9:villagePala             .  \n",
       "month.assigned10:villagePala               \n",
       "month.assigned11:villagePala               \n",
       "month.assigned12:villagePala               \n",
       "month.assigned2:villageSouroukoudingan  .  \n",
       "month.assigned3:villageSouroukoudingan  .  \n",
       "month.assigned4:villageSouroukoudingan  .  \n",
       "month.assigned5:villageSouroukoudingan  *  \n",
       "month.assigned6:villageSouroukoudingan  *  \n",
       "month.assigned7:villageSouroukoudingan  *  \n",
       "month.assigned8:villageSouroukoudingan  *  \n",
       "month.assigned9:villageSouroukoudingan  *  \n",
       "month.assigned10:villageSouroukoudingan *  \n",
       "month.assigned11:villageSouroukoudingan *  \n",
       "month.assigned12:villageSouroukoudingan *  \n",
       "---\n",
       "Signif. codes:  0 '***' 0.001 '**' 0.01 '*' 0.05 '.' 0.1 ' ' 1"
      ]
     },
     "metadata": {},
     "output_type": "display_data"
    }
   ],
   "source": [
    "summary(m_4C)"
   ]
  },
  {
   "cell_type": "code",
   "execution_count": 12,
   "id": "aa236a22",
   "metadata": {},
   "outputs": [
    {
     "data": {
      "text/html": [
       "383"
      ],
      "text/latex": [
       "383"
      ],
      "text/markdown": [
       "383"
      ],
      "text/plain": [
       "[1] 383"
      ]
     },
     "metadata": {},
     "output_type": "display_data"
    },
    {
     "data": {
      "text/html": [
       "386"
      ],
      "text/latex": [
       "386"
      ],
      "text/markdown": [
       "386"
      ],
      "text/plain": [
       "[1] 386"
      ]
     },
     "metadata": {},
     "output_type": "display_data"
    },
    {
     "data": {
      "text/html": [
       "<ol class=list-inline>\n",
       "\t<li>383</li>\n",
       "\t<li>4</li>\n",
       "</ol>\n"
      ],
      "text/latex": [
       "\\begin{enumerate*}\n",
       "\\item 383\n",
       "\\item 4\n",
       "\\end{enumerate*}\n"
      ],
      "text/markdown": [
       "1. 383\n",
       "2. 4\n",
       "\n",
       "\n"
      ],
      "text/plain": [
       "[1] 383   4"
      ]
     },
     "metadata": {},
     "output_type": "display_data"
    },
    {
     "data": {
      "text/html": [
       "<table>\n",
       "<thead><tr><th scope=col>site.id</th><th scope=col>effect</th><th scope=col>longitude</th><th scope=col>latitude</th></tr></thead>\n",
       "<tbody>\n",
       "\t<tr><td>BF.BM.02.001 </td><td>-0.13506934  </td><td>-4.471190    </td><td>11.23421     </td></tr>\n",
       "\t<tr><td>BF.BM.03.001 </td><td>-0.57141247  </td><td>-4.471004    </td><td>11.23479     </td></tr>\n",
       "\t<tr><td>BF.BM.121.001</td><td> 1.16913064  </td><td>-4.472744    </td><td>11.23510     </td></tr>\n",
       "\t<tr><td>BF.BM.13.001 </td><td> 0.57456159  </td><td>-4.470798    </td><td>11.23368     </td></tr>\n",
       "\t<tr><td>BF.BM.16.001 </td><td>-0.15918438  </td><td>-4.482247    </td><td>11.24220     </td></tr>\n",
       "\t<tr><td>BF.BM.26.001 </td><td> 0.08437413  </td><td>-4.484353    </td><td>11.24241     </td></tr>\n",
       "</tbody>\n",
       "</table>\n"
      ],
      "text/latex": [
       "\\begin{tabular}{r|llll}\n",
       " site.id & effect & longitude & latitude\\\\\n",
       "\\hline\n",
       "\t BF.BM.02.001  & -0.13506934   & -4.471190     & 11.23421     \\\\\n",
       "\t BF.BM.03.001  & -0.57141247   & -4.471004     & 11.23479     \\\\\n",
       "\t BF.BM.121.001 &  1.16913064   & -4.472744     & 11.23510     \\\\\n",
       "\t BF.BM.13.001  &  0.57456159   & -4.470798     & 11.23368     \\\\\n",
       "\t BF.BM.16.001  & -0.15918438   & -4.482247     & 11.24220     \\\\\n",
       "\t BF.BM.26.001  &  0.08437413   & -4.484353     & 11.24241     \\\\\n",
       "\\end{tabular}\n"
      ],
      "text/markdown": [
       "\n",
       "| site.id | effect | longitude | latitude |\n",
       "|---|---|---|---|\n",
       "| BF.BM.02.001  | -0.13506934   | -4.471190     | 11.23421      |\n",
       "| BF.BM.03.001  | -0.57141247   | -4.471004     | 11.23479      |\n",
       "| BF.BM.121.001 |  1.16913064   | -4.472744     | 11.23510      |\n",
       "| BF.BM.13.001  |  0.57456159   | -4.470798     | 11.23368      |\n",
       "| BF.BM.16.001  | -0.15918438   | -4.482247     | 11.24220      |\n",
       "| BF.BM.26.001  |  0.08437413   | -4.484353     | 11.24241      |\n",
       "\n"
      ],
      "text/plain": [
       "  site.id       effect      longitude latitude\n",
       "1 BF.BM.02.001  -0.13506934 -4.471190 11.23421\n",
       "2 BF.BM.03.001  -0.57141247 -4.471004 11.23479\n",
       "3 BF.BM.121.001  1.16913064 -4.472744 11.23510\n",
       "4 BF.BM.13.001   0.57456159 -4.470798 11.23368\n",
       "5 BF.BM.16.001  -0.15918438 -4.482247 11.24220\n",
       "6 BF.BM.26.001   0.08437413 -4.484353 11.24241"
      ]
     },
     "metadata": {},
     "output_type": "display_data"
    }
   ],
   "source": [
    "# PUT ESTIMATED RANDOM EFFECTS INTO A DATA FRAME\n",
    "s<-ranef(m_4C)$site.id\n",
    "site.id.effect<-data.frame(site.id=rownames(s), effect=unlist(s), row.names=NULL)\n",
    "nrow(site.id.effect)\n",
    "\n",
    "# EXTRACT LAT LONG INFO (MANY DUPLICATED)\n",
    "s1<-dat1[!duplicated(dat1[,9:11]), 9:11]\n",
    "nrow(s1)\n",
    "\n",
    "# MERGE LAT AND LONG\n",
    "s2<-merge(site.id.effect, s1, by='site.id', all.x=T)\n",
    "dim(s2)\n",
    "head(s2)\n",
    "rm(s); rm(s1);"
   ]
  },
  {
   "cell_type": "markdown",
   "id": "cec1f044",
   "metadata": {},
   "source": [
    "#### Extracting \"conditional mode\" for each house\n",
    "The function ranef() extracts the \"conditional mode\" for individual house effect. it also returns overdispersion and yearly effect as well but they are not our focus. I then append these estimates with coordinates info. \n",
    "\n",
    "Below I plot the histrogram of these house effect and it certainly looks like a bell curve. It is because the mixed effect model assumes normality on the random components (and if I fit it as a fixed effect then no assumption is made on these 300 house levels). I believe I am still able to preserve the order and relative strengh of the house effect. "
   ]
  },
  {
   "cell_type": "code",
   "execution_count": 13,
   "id": "8170a212",
   "metadata": {},
   "outputs": [
    {
     "data": {
      "text/plain": [
       "     Min.   1st Qu.    Median      Mean   3rd Qu.      Max. \n",
       "-1.051553 -0.208136 -0.012997  0.004665  0.218529  1.187922 "
      ]
     },
     "metadata": {},
     "output_type": "display_data"
    },
    {
     "data": {
      "image/png": "[encoded data removed]",
      "text/plain": [
       "Plot with title \"histogram of house effect (conditional mode)\""
      ]
     },
     "metadata": {},
     "output_type": "display_data"
    }
   ],
   "source": [
    "hist(s2$effect, xlab='house effect', main='histogram of house effect (conditional mode)')\n",
    "# OVERALL SUMMARY ON HOUSE EFFECT\n",
    "summary(s2$effect)"
   ]
  },
  {
   "cell_type": "markdown",
   "id": "d2aea66a",
   "metadata": {},
   "source": [
    "#### Heatmap\n",
    "After studying the summary of the house effect I decide to assign them into 51 bins (for colouring) with equal width of 0.05. A heatmap (and some zoom-ins) is produced. Each dot is a house, and the more red the higher effect the house has. "
   ]
  },
  {
   "cell_type": "code",
   "execution_count": 15,
   "id": "b80c93b0",
   "metadata": {},
   "outputs": [
    {
     "data": {
      "text/html": [
       "49"
      ],
      "text/latex": [
       "49"
      ],
      "text/markdown": [
       "49"
      ],
      "text/plain": [
       "[1] 49"
      ]
     },
     "metadata": {},
     "output_type": "display_data"
    },
    {
     "data": {
      "text/html": [
       "41"
      ],
      "text/latex": [
       "41"
      ],
      "text/markdown": [
       "41"
      ],
      "text/plain": [
       "[1] 41"
      ]
     },
     "metadata": {},
     "output_type": "display_data"
    },
    {
     "data": {
      "text/html": [
       "-0.751408170653912"
      ],
      "text/latex": [
       "-0.751408170653912"
      ],
      "text/markdown": [
       "-0.751408170653912"
      ],
      "text/plain": [
       "[1] -0.7514082"
      ]
     },
     "metadata": {},
     "output_type": "display_data"
    }
   ],
   "source": [
    "bounds<-seq(-1.15, 1.25, 0.05)\n",
    "length(bounds)\n",
    "# ASSIGN EFFECTS INTO BINS\n",
    "# PUT EFFECTS INTO BINS\n",
    "bins<-cut(s2$effect, breaks=bounds, labels=F)\n",
    "# LARGE EFFECT SMALL BINS NUMBER AND MORE RED\n",
    "bins<-length(bounds)-bins\n",
    "#bins\n",
    "bins[57]\n",
    "s2$effect[57]"
   ]
  },
  {
   "cell_type": "code",
   "execution_count": 16,
   "id": "f4e1426c",
   "metadata": {},
   "outputs": [],
   "source": [
    "# RANK THE HOUSE EFFECT IN DESCENDING ORDER AND ASSIGN COLOUR CODE (LARGE IS RED)\n",
    "colour_map<-heat.colors(length(bounds))\n",
    "s2$col<-colour_map[bins]\n",
    "rm(bins); rm(bounds);"
   ]
  },
  {
   "cell_type": "code",
   "execution_count": 17,
   "id": "3e768de9",
   "metadata": {},
   "outputs": [
    {
     "data": {
      "image/png": "[encoded data removed]",
      "text/plain": [
       "Plot with title \"Heatmap of house effect (red means higher)\""
      ]
     },
     "metadata": {},
     "output_type": "display_data"
    }
   ],
   "source": [
    "# TOPRIGHT IS SOUROU, THEN BANA M, BANA V, BOTTOM IS PALA\n",
    "# ACCORDING TO GOOGLE MAP\n",
    "plot(x=s2$long, y=s2$latitude, pch=16, col=s2$col, \n",
    "    main='Heatmap of house effect (red means higher)')\n",
    "text(-4.53, 11.23, 'Sourou')\n",
    "text(-4.46, 11.244, 'Bana M')\n",
    "text(-4.47, 11.227, 'Bana V')\n",
    "text(-4.25, 11.16, 'Pala')"
   ]
  },
  {
   "cell_type": "code",
   "execution_count": 18,
   "id": "1726c71f",
   "metadata": {},
   "outputs": [
    {
     "data": {
      "image/png": "[encoded data removed]",
      "text/plain": [
       "plot without title"
      ]
     },
     "metadata": {},
     "output_type": "display_data"
    }
   ],
   "source": [
    "# ZOOM IN\n",
    "par(mfrow=c(2,2))\n",
    "#\n",
    "plot(x=s2$long, y=s2$latitude, \n",
    "     xlim=c(-4.539, -4.539+0.009), ylim=c(11.232,11.232+0.009),\n",
    "     pch=16, col=s2$col)\n",
    "legend('topright', legend='Sourou')\n",
    "#\n",
    "plot(x=s2$long, y=s2$latitude, \n",
    "     xlim=c(-4.486, -4.486+0.006), ylim=c(11.238,11.238+0.006),\n",
    "     pch=16, col=s2$col)\n",
    "legend('topright', legend='Bana M')\n",
    "# \n",
    "plot(x=s2$long, y=s2$latitude, \n",
    "     xlim=c(-4.475, -4.475+0.009), ylim=c(11.229,11.229+0.009),\n",
    "     pch=16, col=s2$col)\n",
    "legend('topright', legend='Bana V')\n",
    "#\n",
    "plot(x=s2$long, y=s2$latitude, \n",
    "     xlim=c(-4.236, -4.236+0.008), ylim=c(11.147, 11.147+0.008),\n",
    "     pch=16, col=s2$col)\n",
    "legend('topright', legend='Pala')"
   ]
  },
  {
   "cell_type": "markdown",
   "id": "ec03a832",
   "metadata": {},
   "source": [
    "##### All data points vs wet season only\n",
    "The scatterplot below compares the house effects when using all data points and using wet season count only. The calculation is not shown here but you expect a very high correlation. "
   ]
  },
  {
   "cell_type": "code",
   "execution_count": 22,
   "id": "5e296522",
   "metadata": {},
   "outputs": [
    {
     "data": {
      "text/html": [
       "<table>\n",
       "<thead><tr><th scope=col>site.id</th><th scope=col>effect.x</th><th scope=col>effect.y</th></tr></thead>\n",
       "<tbody>\n",
       "\t<tr><td>BF.BM.02.001 </td><td> 0.01698915  </td><td>-0.1350693   </td></tr>\n",
       "\t<tr><td>BF.BM.02.001 </td><td> 0.01698915  </td><td>-0.1350693   </td></tr>\n",
       "\t<tr><td>BF.BM.03.001 </td><td>-0.44719364  </td><td>-0.5714125   </td></tr>\n",
       "\t<tr><td>BF.BM.03.001 </td><td>-0.44719364  </td><td>-0.5714125   </td></tr>\n",
       "\t<tr><td>BF.BM.121.001</td><td> 1.22519805  </td><td> 1.1691306   </td></tr>\n",
       "\t<tr><td>BF.BM.13.001 </td><td> 0.75194327  </td><td> 0.5745616   </td></tr>\n",
       "</tbody>\n",
       "</table>\n"
      ],
      "text/latex": [
       "\\begin{tabular}{r|lll}\n",
       " site.id & effect.x & effect.y\\\\\n",
       "\\hline\n",
       "\t BF.BM.02.001  &  0.01698915   & -0.1350693   \\\\\n",
       "\t BF.BM.02.001  &  0.01698915   & -0.1350693   \\\\\n",
       "\t BF.BM.03.001  & -0.44719364   & -0.5714125   \\\\\n",
       "\t BF.BM.03.001  & -0.44719364   & -0.5714125   \\\\\n",
       "\t BF.BM.121.001 &  1.22519805   &  1.1691306   \\\\\n",
       "\t BF.BM.13.001  &  0.75194327   &  0.5745616   \\\\\n",
       "\\end{tabular}\n"
      ],
      "text/markdown": [
       "\n",
       "| site.id | effect.x | effect.y |\n",
       "|---|---|---|\n",
       "| BF.BM.02.001  |  0.01698915   | -0.1350693    |\n",
       "| BF.BM.02.001  |  0.01698915   | -0.1350693    |\n",
       "| BF.BM.03.001  | -0.44719364   | -0.5714125    |\n",
       "| BF.BM.03.001  | -0.44719364   | -0.5714125    |\n",
       "| BF.BM.121.001 |  1.22519805   |  1.1691306    |\n",
       "| BF.BM.13.001  |  0.75194327   |  0.5745616    |\n",
       "\n"
      ],
      "text/plain": [
       "  site.id       effect.x    effect.y  \n",
       "1 BF.BM.02.001   0.01698915 -0.1350693\n",
       "2 BF.BM.02.001   0.01698915 -0.1350693\n",
       "3 BF.BM.03.001  -0.44719364 -0.5714125\n",
       "4 BF.BM.03.001  -0.44719364 -0.5714125\n",
       "5 BF.BM.121.001  1.22519805  1.1691306\n",
       "6 BF.BM.13.001   0.75194327  0.5745616"
      ]
     },
     "metadata": {},
     "output_type": "display_data"
    },
    {
     "data": {
      "image/png": "[encoded data removed]",
      "text/plain": [
       "plot without title"
      ]
     },
     "metadata": {},
     "output_type": "display_data"
    }
   ],
   "source": [
    "# CORR BETWEEN THE TWO?\n",
    "s<-merge(s2[,1:2], s2_all[,1:2], by='site.id', all=T)\n",
    "head(s)\n",
    "plot(s$effect.x, s$effect.y, xlab='wet only house effect', ylab='dry+wet house effect')"
   ]
  },
  {
   "cell_type": "markdown",
   "id": "a28e0a53",
   "metadata": {},
   "source": [
    "##### Randomisation test of house effect\n",
    "Randomisation is a simple and intuitive way to see whether the observed pattern is different from \"null\". Here I calculate all pairwise abs(diff of house effect) and distance (based on lat and long), and plot one against another. \n",
    "\n",
    "If there is spatial clustering then those house pairs with shorter distance will have similar house effects hence smaller absolute differences. Hence the plot will have a positive slope. The null is expected to have a slope of 0. \n",
    "\n",
    "The histogram is the \"null distribution\" generated by randomisation, and the red vertical line indicates the observed slope. "
   ]
  },
  {
   "cell_type": "code",
   "execution_count": 19,
   "id": "81b3e8f0",
   "metadata": {},
   "outputs": [
    {
     "name": "stderr",
     "output_type": "stream",
     "text": [
      "Loading required package: inline\n"
     ]
    }
   ],
   "source": [
    "require(inline)\n",
    "body<-\"\n",
    "    int len=LENGTH(effect);\n",
    "    SEXP r=PROTECT(allocMatrix(REALSXP, len, len));\n",
    "    double *h_effect; h_effect=REAL(effect);\n",
    "    double *h_r; h_r=REAL(r);\n",
    "    for (int i=0; i<len; i++)\n",
    "    {\n",
    "        for (int j=i; j<len; j++)\n",
    "        {\n",
    "            double temp_r=fabs(h_effect[j]-h_effect[i]);\n",
    "            h_r[i*len+j]=temp_r;\n",
    "            h_r[j*len+i]=temp_r;\n",
    "        }\n",
    "    }\n",
    "    UNPROTECT(1);\n",
    "    return r;\n",
    "\"\n",
    "cal_effect<-cfunction(sig=c(effect='numeric'),  \n",
    "                          body=body, includes='#include <math.h>', \n",
    "                          language='C', convention='.Call')\n",
    "# DISTANCE MATRIX\n",
    "body<-\"\n",
    "    int len=LENGTH(lat);\n",
    "    SEXP dist=PROTECT(allocMatrix(REALSXP, len, len));\n",
    "    double *h_lat; double *h_lon; \n",
    "    h_lat=REAL(lat); h_lon=REAL(lon); \n",
    "    double *h_dist; h_dist=REAL(dist);\n",
    "    for (int i=0; i<len; i++)\n",
    "    {\n",
    "        for (int j=i; j<len; j++)\n",
    "        {\n",
    "            double temp_dist=(h_lat[j]-h_lat[i])*(h_lat[j]-h_lat[i])+(h_lon[j]-h_lon[i])*(h_lon[j]-h_lon[i]);\n",
    "            temp_dist=sqrt(temp_dist);\n",
    "            h_dist[i*len+j]=temp_dist;\n",
    "            h_dist[j*len+i]=temp_dist;\n",
    "        }\n",
    "    }\n",
    "    UNPROTECT(1);\n",
    "    return dist;\n",
    "\"\n",
    "cal_dist<-cfunction(sig=c(lat='numeric', lon='numeric'),  \n",
    "                          body=body, \n",
    "                          language='C', convention='.Call')"
   ]
  },
  {
   "cell_type": "code",
   "execution_count": 20,
   "id": "0b753cfa",
   "metadata": {},
   "outputs": [],
   "source": [
    "randomisation_test<-function(s2, village='BV', times=1000)\n",
    "{\n",
    "    f1<-function(temp_s2)\n",
    "    {\n",
    "        temp_r<-cal_effect(temp_s2$effect)\n",
    "        temp_r<-temp_r[lower.tri(temp_r, diag=F)]\n",
    "        temp_r<-as.vector(temp_r)\n",
    "        temp_dist<-cal_dist(temp_s2$lat, temp_s2$lon)\n",
    "        temp_dist<-temp_dist[lower.tri(temp_dist, diag=F)]\n",
    "        temp_dist<-as.vector(temp_dist)\n",
    "        m<-lm(temp_r~temp_dist)\n",
    "        return(m$coef[2])\n",
    "    }\n",
    "    # CHOOSE VILLAGE\n",
    "    temp<-substr(s2$site.id, 4, 5)\n",
    "    temp_s2<-s2[temp==village,]\n",
    "    # THE OBSERVED\n",
    "    obs<-f1(temp_s2)\n",
    "    # RANDOMISE\n",
    "    ran<-rep(NA, times)\n",
    "    for (i in 1:times)\n",
    "    {\n",
    "        new_s2<-data.frame(effect=sample(temp_s2$effect), lat=temp_s2$lat, long=temp_s2$long)\n",
    "        ran[i]<-f1(new_s2)\n",
    "    }\n",
    "    return(list(obs=obs, ran=ran))\n",
    "}"
   ]
  },
  {
   "cell_type": "code",
   "execution_count": 25,
   "id": "785f8a4c",
   "metadata": {},
   "outputs": [
    {
     "data": {
      "image/png": "[encoded data removed]",
      "text/plain": [
       "Plot with title \"Randomisation test, Pala\""
      ]
     },
     "metadata": {},
     "output_type": "display_data"
    }
   ],
   "source": [
    "par(mfrow=c(2,2))\n",
    "spatial_SK<-randomisation_test(s2, village='SK', times=1000)\n",
    "hist(spatial_SK$ran, main='Randomisation test, Sourou')\n",
    "abline(v=spatial_SK$obs, col='red')\n",
    "\n",
    "spatial_BM<-randomisation_test(s2, village='BM', times=1000)\n",
    "hist(spatial_BM$ran, main='Randomisation test, Bana M')\n",
    "abline(v=spatial_BM$obs, col='red')\n",
    "\n",
    "spatial_BV<-randomisation_test(s2, village='BV', times=1000)\n",
    "hist(spatial_BV$ran, main='Randomisation test, Bana V')\n",
    "abline(v=spatial_BV$obs, col='red')\n",
    "\n",
    "spatial_PL<-randomisation_test(s2, village='PL', times=1000)\n",
    "hist(spatial_PL$ran, main='Randomisation test, Pala')\n",
    "abline(v=spatial_PL$obs, col='red')"
   ]
  },
  {
   "cell_type": "markdown",
   "id": "fa9154ab",
   "metadata": {},
   "source": [
    "I think the randomisation tests also suggest there are no strong spatial correlation in our house effects. The null distribution of Bana M is a bit strange perhaps due to the small house number in the region. \n",
    "\n",
    "##### Moran I test\n",
    "Another way to test for spatial (auto-)correlation is via the Moran's I test. I have been following the tutorial here: \n",
    "https://hughst.github.io/week-4/\n",
    "\n",
    "And luckily there is an R package for this test. "
   ]
  },
  {
   "cell_type": "code",
   "execution_count": 26,
   "id": "30f8e461",
   "metadata": {},
   "outputs": [
    {
     "name": "stderr",
     "output_type": "stream",
     "text": [
      "Loading required package: ape\n"
     ]
    }
   ],
   "source": [
    "require(ape)\n",
    "\n",
    "moran<-function(s2, village='BV')\n",
    "{\n",
    "    temp_s2<-s2[substr(s2$site.id, 4, 5)==village,]\n",
    "    temp<-is.na(temp_s2)\n",
    "    temp<-apply(temp, 1, sum)\n",
    "    temp_s2<-temp_s2[temp==0,]\n",
    "    temp_dist<-cal_dist(temp_s2$lat, temp_s2$lon)\n",
    "    # INVERT DIST. IF INVERTED DIST =Inf (DIST=0) THEN CODED AS 0\n",
    "    temp_dist_inv<-1/temp_dist\n",
    "    temp_dist_inv[temp_dist_inv==Inf]<-0\n",
    "    return(Moran.I(temp_s2$effect, temp_dist_inv, na.rm=T))\n",
    "}"
   ]
  },
  {
   "cell_type": "code",
   "execution_count": 27,
   "id": "96462adb",
   "metadata": {},
   "outputs": [
    {
     "data": {
      "text/html": [
       "<dl>\n",
       "\t<dt>$observed</dt>\n",
       "\t\t<dd>-0.00105627010510133</dd>\n",
       "\t<dt>$expected</dt>\n",
       "\t\t<dd>-0.0087719298245614</dd>\n",
       "\t<dt>$sd</dt>\n",
       "\t\t<dd>0.021695377063576</dd>\n",
       "\t<dt>$p.value</dt>\n",
       "\t\t<dd>0.722113090006405</dd>\n",
       "</dl>\n"
      ],
      "text/latex": [
       "\\begin{description}\n",
       "\\item[\\$observed] -0.00105627010510133\n",
       "\\item[\\$expected] -0.0087719298245614\n",
       "\\item[\\$sd] 0.021695377063576\n",
       "\\item[\\$p.value] 0.722113090006405\n",
       "\\end{description}\n"
      ],
      "text/markdown": [
       "$observed\n",
       ":   -0.00105627010510133\n",
       "$expected\n",
       ":   -0.0087719298245614\n",
       "$sd\n",
       ":   0.021695377063576\n",
       "$p.value\n",
       ":   0.722113090006405\n",
       "\n",
       "\n"
      ],
      "text/plain": [
       "$observed\n",
       "[1] -0.00105627\n",
       "\n",
       "$expected\n",
       "[1] -0.00877193\n",
       "\n",
       "$sd\n",
       "[1] 0.02169538\n",
       "\n",
       "$p.value\n",
       "[1] 0.7221131\n"
      ]
     },
     "metadata": {},
     "output_type": "display_data"
    }
   ],
   "source": [
    "# SOUROU\n",
    "moran(s2, village='SK')"
   ]
  },
  {
   "cell_type": "code",
   "execution_count": 28,
   "id": "19392870",
   "metadata": {},
   "outputs": [
    {
     "data": {
      "text/html": [
       "<dl>\n",
       "\t<dt>$observed</dt>\n",
       "\t\t<dd>-0.0708725404914493</dd>\n",
       "\t<dt>$expected</dt>\n",
       "\t\t<dd>-0.0909090909090909</dd>\n",
       "\t<dt>$sd</dt>\n",
       "\t\t<dd>0.13683649647981</dd>\n",
       "\t<dt>$p.value</dt>\n",
       "\t\t<dd>0.883584355938135</dd>\n",
       "</dl>\n"
      ],
      "text/latex": [
       "\\begin{description}\n",
       "\\item[\\$observed] -0.0708725404914493\n",
       "\\item[\\$expected] -0.0909090909090909\n",
       "\\item[\\$sd] 0.13683649647981\n",
       "\\item[\\$p.value] 0.883584355938135\n",
       "\\end{description}\n"
      ],
      "text/markdown": [
       "$observed\n",
       ":   -0.0708725404914493\n",
       "$expected\n",
       ":   -0.0909090909090909\n",
       "$sd\n",
       ":   0.13683649647981\n",
       "$p.value\n",
       ":   0.883584355938135\n",
       "\n",
       "\n"
      ],
      "text/plain": [
       "$observed\n",
       "[1] -0.07087254\n",
       "\n",
       "$expected\n",
       "[1] -0.09090909\n",
       "\n",
       "$sd\n",
       "[1] 0.1368365\n",
       "\n",
       "$p.value\n",
       "[1] 0.8835844\n"
      ]
     },
     "metadata": {},
     "output_type": "display_data"
    }
   ],
   "source": [
    "# BANA M\n",
    "moran(s2, village='BM')"
   ]
  },
  {
   "cell_type": "code",
   "execution_count": 29,
   "id": "89cb4fbd",
   "metadata": {},
   "outputs": [
    {
     "data": {
      "text/html": [
       "<dl>\n",
       "\t<dt>$observed</dt>\n",
       "\t\t<dd>0.062013179385843</dd>\n",
       "\t<dt>$expected</dt>\n",
       "\t\t<dd>-0.00819672131147541</dd>\n",
       "\t<dt>$sd</dt>\n",
       "\t\t<dd>0.0213818254153827</dd>\n",
       "\t<dt>$p.value</dt>\n",
       "\t\t<dd>0.00102481114449748</dd>\n",
       "</dl>\n"
      ],
      "text/latex": [
       "\\begin{description}\n",
       "\\item[\\$observed] 0.062013179385843\n",
       "\\item[\\$expected] -0.00819672131147541\n",
       "\\item[\\$sd] 0.0213818254153827\n",
       "\\item[\\$p.value] 0.00102481114449748\n",
       "\\end{description}\n"
      ],
      "text/markdown": [
       "$observed\n",
       ":   0.062013179385843\n",
       "$expected\n",
       ":   -0.00819672131147541\n",
       "$sd\n",
       ":   0.0213818254153827\n",
       "$p.value\n",
       ":   0.00102481114449748\n",
       "\n",
       "\n"
      ],
      "text/plain": [
       "$observed\n",
       "[1] 0.06201318\n",
       "\n",
       "$expected\n",
       "[1] -0.008196721\n",
       "\n",
       "$sd\n",
       "[1] 0.02138183\n",
       "\n",
       "$p.value\n",
       "[1] 0.001024811\n"
      ]
     },
     "metadata": {},
     "output_type": "display_data"
    }
   ],
   "source": [
    "# BANA V\n",
    "moran(s2, village='BV')"
   ]
  },
  {
   "cell_type": "code",
   "execution_count": 30,
   "id": "a5a7eb56",
   "metadata": {},
   "outputs": [
    {
     "data": {
      "text/html": [
       "<dl>\n",
       "\t<dt>$observed</dt>\n",
       "\t\t<dd>-0.00451456105318483</dd>\n",
       "\t<dt>$expected</dt>\n",
       "\t\t<dd>-0.00769230769230769</dd>\n",
       "\t<dt>$sd</dt>\n",
       "\t\t<dd>0.0108475681925565</dd>\n",
       "\t<dt>$p.value</dt>\n",
       "\t\t<dd>0.76956378492229</dd>\n",
       "</dl>\n"
      ],
      "text/latex": [
       "\\begin{description}\n",
       "\\item[\\$observed] -0.00451456105318483\n",
       "\\item[\\$expected] -0.00769230769230769\n",
       "\\item[\\$sd] 0.0108475681925565\n",
       "\\item[\\$p.value] 0.76956378492229\n",
       "\\end{description}\n"
      ],
      "text/markdown": [
       "$observed\n",
       ":   -0.00451456105318483\n",
       "$expected\n",
       ":   -0.00769230769230769\n",
       "$sd\n",
       ":   0.0108475681925565\n",
       "$p.value\n",
       ":   0.76956378492229\n",
       "\n",
       "\n"
      ],
      "text/plain": [
       "$observed\n",
       "[1] -0.004514561\n",
       "\n",
       "$expected\n",
       "[1] -0.007692308\n",
       "\n",
       "$sd\n",
       "[1] 0.01084757\n",
       "\n",
       "$p.value\n",
       "[1] 0.7695638\n"
      ]
     },
     "metadata": {},
     "output_type": "display_data"
    }
   ],
   "source": [
    "# PALA\n",
    "moran(s2, village='PL')"
   ]
  },
  {
   "cell_type": "markdown",
   "id": "c2c4c97c",
   "metadata": {},
   "source": [
    "The Moran's I test says Bana V has a significant spatial correlation. "
   ]
  }
 ],
 "metadata": {
  "kernelspec": {
   "display_name": "R",
   "language": "R",
   "name": "ir"
  },
  "language_info": {
   "codemirror_mode": "r",
   "file_extension": ".r",
   "mimetype": "text/x-r-source",
   "name": "R",
   "pygments_lexer": "r",
   "version": "3.5.3"
  }
 },
 "nbformat": 4,
 "nbformat_minor": 5
}
