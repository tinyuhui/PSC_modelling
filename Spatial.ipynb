{
 "cells": [
  {
   "cell_type": "markdown",
   "id": "d9640b08",
   "metadata": {},
   "source": [
    "### Spatial variation of house effect\n",
    "Previously I fitted a Poisson mixed effect model with village and month as fixed effects as well as mosquito nets and number of residents. The random effects are observational-level overdispersion, yearly and among-house variations. Some analyses were run only on the wet season counts (response is the female count, both species combined). \n",
    "\n",
    "To further investigate the house effect and its spatial clustering (if any) I wanted to fit a similar model by changing it to a fixed effect with about 300 levels (houses). This also meant to estimate 300 additional parameters for each house rather than one overall variance estimate. The computer did not like this task and I was stuck. \n",
    "\n",
    "After some research I discovered a method to extract the approximate house effect from the existing mixed effect model. I am still reading about this. Since the house effect is the difference between the house mean and the overall mean (after controlling for other factors), it is possible to work it back by comparing the fitted and observed data points. Hence R calls it the \"conditional mode\". \n",
    "\n",
    "I think it is a good middle ground for our task. Again I will work on the wet season count for the moment. "
   ]
  },
  {
   "cell_type": "code",
   "execution_count": 4,
   "id": "63336d3a",
   "metadata": {},
   "outputs": [
    {
     "data": {
      "text/html": [
       "3"
      ],
      "text/latex": [
       "3"
      ],
      "text/markdown": [
       "3"
      ],
      "text/plain": [
       "[1] 3"
      ]
     },
     "metadata": {},
     "output_type": "display_data"
    },
    {
     "data": {
      "text/html": [
       "'dat1'"
      ],
      "text/latex": [
       "'dat1'"
      ],
      "text/markdown": [
       "'dat1'"
      ],
      "text/plain": [
       "[1] \"dat1\""
      ]
     },
     "metadata": {},
     "output_type": "display_data"
    }
   ],
   "source": [
    "# LOAD R PACKAGES\n",
    "require(compiler)\n",
    "enableJIT(3)\n",
    "setMKLthreads(20)\n",
    "require(lme4)\n",
    "require(lmerTest)\n",
    "require(MASS)\n",
    "\n",
    "# LOAD DATASET dat1\n",
    "#setwd('variance/Florian')\n",
    "load('Per house data PSC 2012 to 2019 polish2.RData')\n",
    "#load('BF_weather.RData')\n",
    "ls()"
   ]
  },
  {
   "cell_type": "code",
   "execution_count": 5,
   "id": "e863f40b",
   "metadata": {},
   "outputs": [
    {
     "data": {
      "text/html": [
       "<ol class=list-inline>\n",
       "\t<li>'village'</li>\n",
       "\t<li>'month.assigned'</li>\n",
       "\t<li>'year.assigned'</li>\n",
       "\t<li>'monthyear.assigned'</li>\n",
       "\t<li>'day'</li>\n",
       "\t<li>'month'</li>\n",
       "\t<li>'year'</li>\n",
       "\t<li>'date.collection'</li>\n",
       "\t<li>'site.id'</li>\n",
       "\t<li>'longitude'</li>\n",
       "\t<li>'latitude'</li>\n",
       "\t<li>'room.id'</li>\n",
       "\t<li>'num.persons'</li>\n",
       "\t<li>'num.persons.remark'</li>\n",
       "\t<li>'mosquito.net'</li>\n",
       "\t<li>'permanence'</li>\n",
       "\t<li>'count.m'</li>\n",
       "\t<li>'genotyped.m'</li>\n",
       "\t<li>'col.m'</li>\n",
       "\t<li>'gam.m'</li>\n",
       "\t<li>'arab.m'</li>\n",
       "\t<li>'count.f'</li>\n",
       "\t<li>'genotyped.f'</li>\n",
       "\t<li>'col.f'</li>\n",
       "\t<li>'gam.f'</li>\n",
       "\t<li>'arab.f'</li>\n",
       "</ol>\n"
      ],
      "text/latex": [
       "\\begin{enumerate*}\n",
       "\\item 'village'\n",
       "\\item 'month.assigned'\n",
       "\\item 'year.assigned'\n",
       "\\item 'monthyear.assigned'\n",
       "\\item 'day'\n",
       "\\item 'month'\n",
       "\\item 'year'\n",
       "\\item 'date.collection'\n",
       "\\item 'site.id'\n",
       "\\item 'longitude'\n",
       "\\item 'latitude'\n",
       "\\item 'room.id'\n",
       "\\item 'num.persons'\n",
       "\\item 'num.persons.remark'\n",
       "\\item 'mosquito.net'\n",
       "\\item 'permanence'\n",
       "\\item 'count.m'\n",
       "\\item 'genotyped.m'\n",
       "\\item 'col.m'\n",
       "\\item 'gam.m'\n",
       "\\item 'arab.m'\n",
       "\\item 'count.f'\n",
       "\\item 'genotyped.f'\n",
       "\\item 'col.f'\n",
       "\\item 'gam.f'\n",
       "\\item 'arab.f'\n",
       "\\end{enumerate*}\n"
      ],
      "text/markdown": [
       "1. 'village'\n",
       "2. 'month.assigned'\n",
       "3. 'year.assigned'\n",
       "4. 'monthyear.assigned'\n",
       "5. 'day'\n",
       "6. 'month'\n",
       "7. 'year'\n",
       "8. 'date.collection'\n",
       "9. 'site.id'\n",
       "10. 'longitude'\n",
       "11. 'latitude'\n",
       "12. 'room.id'\n",
       "13. 'num.persons'\n",
       "14. 'num.persons.remark'\n",
       "15. 'mosquito.net'\n",
       "16. 'permanence'\n",
       "17. 'count.m'\n",
       "18. 'genotyped.m'\n",
       "19. 'col.m'\n",
       "20. 'gam.m'\n",
       "21. 'arab.m'\n",
       "22. 'count.f'\n",
       "23. 'genotyped.f'\n",
       "24. 'col.f'\n",
       "25. 'gam.f'\n",
       "26. 'arab.f'\n",
       "\n",
       "\n"
      ],
      "text/plain": [
       " [1] \"village\"            \"month.assigned\"     \"year.assigned\"     \n",
       " [4] \"monthyear.assigned\" \"day\"                \"month\"             \n",
       " [7] \"year\"               \"date.collection\"    \"site.id\"           \n",
       "[10] \"longitude\"          \"latitude\"           \"room.id\"           \n",
       "[13] \"num.persons\"        \"num.persons.remark\" \"mosquito.net\"      \n",
       "[16] \"permanence\"         \"count.m\"            \"genotyped.m\"       \n",
       "[19] \"col.m\"              \"gam.m\"              \"arab.m\"            \n",
       "[22] \"count.f\"            \"genotyped.f\"        \"col.f\"             \n",
       "[25] \"gam.f\"              \"arab.f\"            "
      ]
     },
     "metadata": {},
     "output_type": "display_data"
    },
    {
     "ename": "ERROR",
     "evalue": "Error in eval(expr, envir, enclos): object 'BV_weather' not found\n",
     "output_type": "error",
     "traceback": [
      "Error in eval(expr, envir, enclos): object 'BV_weather' not found\nTraceback:\n"
     ]
    }
   ],
   "source": [
    "names(dat1)\n",
    "names(BV_weather)"
   ]
  },
  {
   "cell_type": "code",
   "execution_count": 6,
   "id": "2a07391d",
   "metadata": {},
   "outputs": [
    {
     "data": {
      "text/html": [
       "<ol class=list-inline>\n",
       "\t<li>1626</li>\n",
       "\t<li>26</li>\n",
       "</ol>\n"
      ],
      "text/latex": [
       "\\begin{enumerate*}\n",
       "\\item 1626\n",
       "\\item 26\n",
       "\\end{enumerate*}\n"
      ],
      "text/markdown": [
       "1. 1626\n",
       "2. 26\n",
       "\n",
       "\n"
      ],
      "text/plain": [
       "[1] 1626   26"
      ]
     },
     "metadata": {},
     "output_type": "display_data"
    }
   ],
   "source": [
    "# SUBSET (MAY-OCTOBER ONLY)\n",
    "dat1<-dat1[dat1$month.assigned %in% 5:10,]\n",
    "# dat1 GOT OVER-WRITTEN SO YOU NEED TO BE CAREFUL. \n",
    "dim(dat1)"
   ]
  },
  {
   "cell_type": "code",
   "execution_count": 7,
   "id": "39781438",
   "metadata": {},
   "outputs": [],
   "source": [
    "# THREE LEVELS OF PERSONS: None, Low, Hi\n",
    "dat1$persons.status<-dat1$num.persons\n",
    "dat1$persons.status[dat1$num.persons>3]<-'Hi'\n",
    "dat1$persons.status[dat1$num.persons<=3]<-'Low'\n",
    "dat1$persons.status[dat1$num.persons==0]<-'None'\n",
    "dat1$persons.status<-factor(dat1$persons.status, levels=c('None', 'Low', 'Hi'))\n",
    "overdispersion<-1:nrow(dat1)"
   ]
  },
  {
   "cell_type": "code",
   "execution_count": 8,
   "id": "1f681224",
   "metadata": {},
   "outputs": [
    {
     "name": "stderr",
     "output_type": "stream",
     "text": [
      "\n",
      "Correlation matrix not shown by default, as p = 27 > 12.\n",
      "Use print(obj, correlation=TRUE)  or\n",
      "    vcov(obj)        if you need it\n",
      "\n"
     ]
    },
    {
     "data": {
      "text/plain": [
       "Generalized linear mixed model fit by maximum likelihood (Laplace\n",
       "  Approximation) [glmerMod]\n",
       " Family: poisson  ( log )\n",
       "Formula: \n",
       "count.f ~ (1 | year.assigned) + (1 | site.id) + (1 | overdispersion) +  \n",
       "    month.assigned * village + mosquito.net + persons.status\n",
       "   Data: dat1\n",
       "Control: glmerControl(optimizer = \"bobyqa\", optCtrl = list(maxfun = 30000))\n",
       "\n",
       "     AIC      BIC   logLik deviance df.resid \n",
       " 11207.0  11367.9  -5573.5  11147.0     1551 \n",
       "\n",
       "Scaled residuals: \n",
       "     Min       1Q   Median       3Q      Max \n",
       "-1.39317 -0.32426 -0.01092  0.12816  0.58715 \n",
       "\n",
       "Random effects:\n",
       " Groups         Name        Variance Std.Dev.\n",
       " overdispersion (Intercept) 1.2350   1.1113  \n",
       " site.id        (Intercept) 0.4070   0.6380  \n",
       " year.assigned  (Intercept) 0.1096   0.3311  \n",
       "Number of obs: 1581, groups:  \n",
       "overdispersion, 1581; site.id, 278; year.assigned, 6\n",
       "\n",
       "Fixed effects:\n",
       "                                        Estimate Std. Error z value Pr(>|z|)\n",
       "(Intercept)                              1.22601    0.56217   2.181 0.029192\n",
       "month.assigned6                         -0.04604    0.24534  -0.188 0.851140\n",
       "month.assigned7                         -0.42929    0.26652  -1.611 0.107240\n",
       "month.assigned8                         -0.39309    0.24938  -1.576 0.114960\n",
       "month.assigned9                          0.30660    0.24450   1.254 0.209849\n",
       "month.assigned10                         0.11901    0.24435   0.487 0.626211\n",
       "villageBana village                      0.47147    0.30765   1.532 0.125406\n",
       "villagePala                              0.82009    0.40160   2.042 0.041143\n",
       "villageSouroukoudingan                  -0.48871    0.41142  -1.188 0.234890\n",
       "mosquito.netYes                         -0.10593    0.11435  -0.926 0.354235\n",
       "persons.statusLow                        0.75988    0.49127   1.547 0.121922\n",
       "persons.statusHi                         1.20639    0.49323   2.446 0.014449\n",
       "month.assigned6:villageBana village     -0.30950    0.31071  -0.996 0.319207\n",
       "month.assigned7:villageBana village     -0.08866    0.33254  -0.267 0.789774\n",
       "month.assigned8:villageBana village     -0.05509    0.31044  -0.177 0.859144\n",
       "month.assigned9:villageBana village     -0.04533    0.30917  -0.147 0.883429\n",
       "month.assigned10:villageBana village    -0.45058    0.30655  -1.470 0.141604\n",
       "month.assigned6:villagePala             -1.93265    0.40375  -4.787  1.7e-06\n",
       "month.assigned7:villagePala             -1.13137    0.44084  -2.566 0.010275\n",
       "month.assigned8:villagePala             -1.33605    0.40406  -3.307 0.000944\n",
       "month.assigned9:villagePala             -1.31845    0.42803  -3.080 0.002068\n",
       "month.assigned10:villagePala            -1.00811    0.39671  -2.541 0.011047\n",
       "month.assigned6:villageSouroukoudingan  -0.41779    0.41651  -1.003 0.315819\n",
       "month.assigned7:villageSouroukoudingan   0.58778    0.46522   1.263 0.206431\n",
       "month.assigned8:villageSouroukoudingan   0.30679    0.41580   0.738 0.460625\n",
       "month.assigned9:villageSouroukoudingan  -0.23816    0.43948  -0.542 0.587875\n",
       "month.assigned10:villageSouroukoudingan -0.06921    0.41190  -0.168 0.866564\n",
       "                                           \n",
       "(Intercept)                             *  \n",
       "month.assigned6                            \n",
       "month.assigned7                            \n",
       "month.assigned8                            \n",
       "month.assigned9                            \n",
       "month.assigned10                           \n",
       "villageBana village                        \n",
       "villagePala                             *  \n",
       "villageSouroukoudingan                     \n",
       "mosquito.netYes                            \n",
       "persons.statusLow                          \n",
       "persons.statusHi                        *  \n",
       "month.assigned6:villageBana village        \n",
       "month.assigned7:villageBana village        \n",
       "month.assigned8:villageBana village        \n",
       "month.assigned9:villageBana village        \n",
       "month.assigned10:villageBana village       \n",
       "month.assigned6:villagePala             ***\n",
       "month.assigned7:villagePala             *  \n",
       "month.assigned8:villagePala             ***\n",
       "month.assigned9:villagePala             ** \n",
       "month.assigned10:villagePala            *  \n",
       "month.assigned6:villageSouroukoudingan     \n",
       "month.assigned7:villageSouroukoudingan     \n",
       "month.assigned8:villageSouroukoudingan     \n",
       "month.assigned9:villageSouroukoudingan     \n",
       "month.assigned10:villageSouroukoudingan    \n",
       "---\n",
       "Signif. codes:  0 '***' 0.001 '**' 0.01 '*' 0.05 '.' 0.1 ' ' 1"
      ]
     },
     "metadata": {},
     "output_type": "display_data"
    }
   ],
   "source": [
    "m_4C<-glmer(count.f~(1|year.assigned)+(1|site.id)+(1|overdispersion)+month.assigned*village+mosquito.net+persons.status, \n",
    "             family='poisson', data=dat1, \n",
    "             control=glmerControl(optimizer=\"bobyqa\", optCtrl=list(maxfun=3e4)))\n",
    "#m_4C<-glmer(count.f~(1|year.assigned)+(1|site.id)+(1|overdispersion)+month.assigned*village+mosquito.net+persons.status, \n",
    "#             family='poisson', data=dat1, \n",
    "#             control=glmerControl(optimizer=\"bobyqa\"))\n",
    "summary(m_4C)"
   ]
  },
  {
   "cell_type": "code",
   "execution_count": 9,
   "id": "aa236a22",
   "metadata": {},
   "outputs": [
    {
     "data": {
      "text/html": [
       "278"
      ],
      "text/latex": [
       "278"
      ],
      "text/markdown": [
       "278"
      ],
      "text/plain": [
       "[1] 278"
      ]
     },
     "metadata": {},
     "output_type": "display_data"
    },
    {
     "data": {
      "text/html": [
       "284"
      ],
      "text/latex": [
       "284"
      ],
      "text/markdown": [
       "284"
      ],
      "text/plain": [
       "[1] 284"
      ]
     },
     "metadata": {},
     "output_type": "display_data"
    },
    {
     "data": {
      "text/html": [
       "<ol class=list-inline>\n",
       "\t<li>278</li>\n",
       "\t<li>5</li>\n",
       "</ol>\n"
      ],
      "text/latex": [
       "\\begin{enumerate*}\n",
       "\\item 278\n",
       "\\item 5\n",
       "\\end{enumerate*}\n"
      ],
      "text/markdown": [
       "1. 278\n",
       "2. 5\n",
       "\n",
       "\n"
      ],
      "text/plain": [
       "[1] 278   5"
      ]
     },
     "metadata": {},
     "output_type": "display_data"
    },
    {
     "data": {
      "text/html": [
       "<table>\n",
       "<thead><tr><th scope=col>site.id</th><th scope=col>effect</th><th scope=col>village</th><th scope=col>longitude</th><th scope=col>latitude</th></tr></thead>\n",
       "<tbody>\n",
       "\t<tr><td>BF.BM.02.001 </td><td> 0.01698915  </td><td>Bana market  </td><td>-4.471190    </td><td>11.23421     </td></tr>\n",
       "\t<tr><td>BF.BM.03.001 </td><td>-0.44719364  </td><td>Bana market  </td><td>-4.471004    </td><td>11.23479     </td></tr>\n",
       "\t<tr><td>BF.BM.121.001</td><td> 1.22519805  </td><td>Bana market  </td><td>-4.472744    </td><td>11.23510     </td></tr>\n",
       "\t<tr><td>BF.BM.13.001 </td><td> 0.75194327  </td><td>Bana market  </td><td>-4.470798    </td><td>11.23368     </td></tr>\n",
       "\t<tr><td>BF.BM.16.001 </td><td>-0.27463114  </td><td>Bana market  </td><td>-4.482247    </td><td>11.24220     </td></tr>\n",
       "\t<tr><td>BF.BM.26.001 </td><td> 0.12425372  </td><td>Bana market  </td><td>-4.484353    </td><td>11.24241     </td></tr>\n",
       "</tbody>\n",
       "</table>\n"
      ],
      "text/latex": [
       "\\begin{tabular}{r|lllll}\n",
       " site.id & effect & village & longitude & latitude\\\\\n",
       "\\hline\n",
       "\t BF.BM.02.001  &  0.01698915   & Bana market   & -4.471190     & 11.23421     \\\\\n",
       "\t BF.BM.03.001  & -0.44719364   & Bana market   & -4.471004     & 11.23479     \\\\\n",
       "\t BF.BM.121.001 &  1.22519805   & Bana market   & -4.472744     & 11.23510     \\\\\n",
       "\t BF.BM.13.001  &  0.75194327   & Bana market   & -4.470798     & 11.23368     \\\\\n",
       "\t BF.BM.16.001  & -0.27463114   & Bana market   & -4.482247     & 11.24220     \\\\\n",
       "\t BF.BM.26.001  &  0.12425372   & Bana market   & -4.484353     & 11.24241     \\\\\n",
       "\\end{tabular}\n"
      ],
      "text/markdown": [
       "\n",
       "| site.id | effect | village | longitude | latitude |\n",
       "|---|---|---|---|---|\n",
       "| BF.BM.02.001  |  0.01698915   | Bana market   | -4.471190     | 11.23421      |\n",
       "| BF.BM.03.001  | -0.44719364   | Bana market   | -4.471004     | 11.23479      |\n",
       "| BF.BM.121.001 |  1.22519805   | Bana market   | -4.472744     | 11.23510      |\n",
       "| BF.BM.13.001  |  0.75194327   | Bana market   | -4.470798     | 11.23368      |\n",
       "| BF.BM.16.001  | -0.27463114   | Bana market   | -4.482247     | 11.24220      |\n",
       "| BF.BM.26.001  |  0.12425372   | Bana market   | -4.484353     | 11.24241      |\n",
       "\n"
      ],
      "text/plain": [
       "  site.id       effect      village     longitude latitude\n",
       "1 BF.BM.02.001   0.01698915 Bana market -4.471190 11.23421\n",
       "2 BF.BM.03.001  -0.44719364 Bana market -4.471004 11.23479\n",
       "3 BF.BM.121.001  1.22519805 Bana market -4.472744 11.23510\n",
       "4 BF.BM.13.001   0.75194327 Bana market -4.470798 11.23368\n",
       "5 BF.BM.16.001  -0.27463114 Bana market -4.482247 11.24220\n",
       "6 BF.BM.26.001   0.12425372 Bana market -4.484353 11.24241"
      ]
     },
     "metadata": {},
     "output_type": "display_data"
    }
   ],
   "source": [
    "# PUT ESTIMATED RANDOM EFFECTS INTO A DATA FRAME\n",
    "s<-ranef(m_4C)$site.id\n",
    "site.id.effect<-data.frame(site.id=rownames(s), effect=unlist(s), row.names=NULL)\n",
    "nrow(site.id.effect)\n",
    "#hist(site.id.effect$effect)\n",
    "#head(site.id.effect)\n",
    "\n",
    "# EXTRACT LAT LONG INFO (MANY DUPLICATED)\n",
    "s1<-dat1[!duplicated(dat1[,c(1,9:11)]), c(1,9:11)]\n",
    "nrow(s1)\n",
    "\n",
    "# MERGE LAT AND LONG\n",
    "s2<-merge(site.id.effect, s1, by='site.id', all.x=T)\n",
    "dim(s2)\n",
    "head(s2)\n",
    "rm(s); rm(s1);"
   ]
  },
  {
   "cell_type": "markdown",
   "id": "cec1f044",
   "metadata": {},
   "source": [
    "#### Extracting \"conditional mode\" for each house\n",
    "The function ranef() extracts the \"conditional mode\" for individual house effect. it also returns overdispersion and yearly effect as well but they are not our focus. I then append these estimates with coordinates info. \n",
    "\n",
    "Below I plot the histrogram of these house effect and it certainly looks like a bell curve. It is because the mixed effect model assumes normality on the random components (and if I fit it as a fixed effect then no assumption is made on these 300 house levels). I believe I am still able to preserve the order and relative strengh of the house effect. "
   ]
  },
  {
   "cell_type": "code",
   "execution_count": 10,
   "id": "8170a212",
   "metadata": {},
   "outputs": [
    {
     "data": {
      "text/plain": [
       "     Min.   1st Qu.    Median      Mean   3rd Qu.      Max. \n",
       "-1.051531 -0.273587  0.000346  0.006330  0.251589  1.302861 "
      ]
     },
     "metadata": {},
     "output_type": "display_data"
    },
    {
     "data": {
      "image/png": "[encoded data removed]",
      "text/plain": [
       "Plot with title \"histogram of house effect (conditional mode)\""
      ]
     },
     "metadata": {},
     "output_type": "display_data"
    }
   ],
   "source": [
    "hist(s2$effect, xlab='house effect', main='histogram of house effect (conditional mode)')\n",
    "# OVERALL SUMMARY ON HOUSE EFFECT\n",
    "summary(s2$effect)"
   ]
  },
  {
   "cell_type": "code",
   "execution_count": 11,
   "id": "7e9213a2",
   "metadata": {},
   "outputs": [
    {
     "data": {
      "text/plain": [
       ": Bana market\n",
       "     Min.   1st Qu.    Median      Mean   3rd Qu.      Max. \n",
       "-0.447194 -0.304189 -0.197098 -0.001108  0.059941  1.225198 \n",
       "------------------------------------------------------------ \n",
       ": Bana village\n",
       "     Min.   1st Qu.    Median      Mean   3rd Qu.      Max. \n",
       "-1.051531 -0.347435  0.004643 -0.004638  0.273471  1.297685 \n",
       "------------------------------------------------------------ \n",
       ": Pala\n",
       "     Min.   1st Qu.    Median      Mean   3rd Qu.      Max. \n",
       "-0.850350 -0.229464 -0.009336  0.011439  0.253926  0.833349 \n",
       "------------------------------------------------------------ \n",
       ": Souroukoudingan\n",
       "    Min.  1st Qu.   Median     Mean  3rd Qu.     Max. \n",
       "-0.86164 -0.24900  0.03665  0.01294  0.24133  1.30286 "
      ]
     },
     "metadata": {},
     "output_type": "display_data"
    }
   ],
   "source": [
    "# HOUSE EFFECT PER VILLAGE, ALL SHOULD HAVE SIMILAR MEAN (IF THE VILLAGE EFFECT IS PROPERLY HANDLED BY THE MAIN FIXED EFFECT)\n",
    "by(s2$effect, list(s2$village), FUN=summary)"
   ]
  },
  {
   "cell_type": "markdown",
   "id": "d2aea66a",
   "metadata": {},
   "source": [
    "#### Heatmap\n",
    "After studying the summary of the house effect I decide to assign them into 51 bins (for colouring) with equal width of 0.05. A heatmap (and some zoom-ins) is produced. Each dot is a house, and the more red the higher effect the house has. "
   ]
  },
  {
   "cell_type": "code",
   "execution_count": 12,
   "id": "b80c93b0",
   "metadata": {},
   "outputs": [
    {
     "data": {
      "text/html": [
       "51"
      ],
      "text/latex": [
       "51"
      ],
      "text/markdown": [
       "51"
      ],
      "text/plain": [
       "[1] 51"
      ]
     },
     "metadata": {},
     "output_type": "display_data"
    },
    {
     "data": {
      "text/html": [
       "49"
      ],
      "text/latex": [
       "49"
      ],
      "text/markdown": [
       "49"
      ],
      "text/plain": [
       "[1] 49"
      ]
     },
     "metadata": {},
     "output_type": "display_data"
    },
    {
     "data": {
      "text/html": [
       "-1.05153129568677"
      ],
      "text/latex": [
       "-1.05153129568677"
      ],
      "text/markdown": [
       "-1.05153129568677"
      ],
      "text/plain": [
       "[1] -1.051531"
      ]
     },
     "metadata": {},
     "output_type": "display_data"
    }
   ],
   "source": [
    "bounds<-seq(-1.15, 1.35, 0.05)\n",
    "length(bounds)\n",
    "# ASSIGN EFFECTS INTO BINS\n",
    "# PUT EFFECTS INTO BINS\n",
    "bins<-cut(s2$effect, breaks=bounds, labels=F)\n",
    "# LARGE EFFECT SMALL BINS NUMBER AND MORE RED\n",
    "bins<-length(bounds)-bins\n",
    "#bins\n",
    "bins[57]\n",
    "s2$effect[57]"
   ]
  },
  {
   "cell_type": "code",
   "execution_count": 13,
   "id": "f4e1426c",
   "metadata": {},
   "outputs": [],
   "source": [
    "# RANK THE HOUSE EFFECT IN DESCENDING ORDER AND ASSIGN COLOUR CODE (LARGE IS RED)\n",
    "colour_map<-heat.colors(length(bounds))\n",
    "s2$col<-colour_map[bins]\n",
    "rm(bins); rm(bounds);"
   ]
  },
  {
   "cell_type": "code",
   "execution_count": 14,
   "id": "3e768de9",
   "metadata": {},
   "outputs": [
    {
     "data": {
      "image/png": "[encoded data removed]",
      "text/plain": [
       "Plot with title \"Heatmap of house effect (red means higher)\""
      ]
     },
     "metadata": {},
     "output_type": "display_data"
    }
   ],
   "source": [
    "# TOPRIGHT IS SOUROU, THEN BANA M, BANA V, BOTTOM IS PALA\n",
    "# ACCORDING TO GOOGLE MAP\n",
    "plot(x=s2$long, y=s2$latitude, pch=16, col=s2$col, \n",
    "    main='Heatmap of house effect (red means higher)')\n",
    "text(-4.53, 11.23, 'Sourou')\n",
    "text(-4.46, 11.244, 'Bana M')\n",
    "text(-4.47, 11.227, 'Bana V')\n",
    "text(-4.25, 11.16, 'Pala')"
   ]
  },
  {
   "cell_type": "code",
   "execution_count": 15,
   "id": "1726c71f",
   "metadata": {},
   "outputs": [
    {
     "data": {
      "image/png": "[encoded data removed]",
      "text/plain": [
       "plot without title"
      ]
     },
     "metadata": {},
     "output_type": "display_data"
    }
   ],
   "source": [
    "# ZOOM IN\n",
    "par(mfrow=c(2,2))\n",
    "#\n",
    "plot(x=s2$long, y=s2$latitude, \n",
    "     xlim=c(-4.539, -4.539+0.009), ylim=c(11.232,11.232+0.009),\n",
    "     pch=16, col=s2$col)\n",
    "legend('topright', legend='Sourou')\n",
    "#\n",
    "plot(x=s2$long, y=s2$latitude, \n",
    "     xlim=c(-4.486, -4.486+0.006), ylim=c(11.238,11.238+0.006),\n",
    "     pch=16, col=s2$col)\n",
    "legend('topright', legend='Bana M')\n",
    "# \n",
    "plot(x=s2$long, y=s2$latitude, \n",
    "     xlim=c(-4.475, -4.475+0.009), ylim=c(11.229,11.229+0.009),\n",
    "     pch=16, col=s2$col)\n",
    "legend('topright', legend='Bana V')\n",
    "#\n",
    "plot(x=s2$long, y=s2$latitude, \n",
    "     xlim=c(-4.236, -4.236+0.008), ylim=c(11.147, 11.147+0.008),\n",
    "     pch=16, col=s2$col)\n",
    "legend('topright', legend='Pala')"
   ]
  },
  {
   "cell_type": "markdown",
   "id": "528f91c0",
   "metadata": {},
   "source": [
    "\n",
    "#### To be continued\n",
    "\n",
    "\n",
    "#### The same heatmap with dry and wet season counts\n",
    "I also decided to run the same analysis but with the whole (dry + wet season) dataset. There are more houses, but the variance among them seemed marginally smaller. \n",
    "\n",
    "And when I plot the (dry + wet) house effect estimates against the estimates above using only the wet season counts, they are highly correlated. "
   ]
  },
  {
   "cell_type": "code",
   "execution_count": 16,
   "id": "e33503f8",
   "metadata": {},
   "outputs": [
    {
     "data": {
      "text/html": [
       "<table>\n",
       "<thead><tr><th></th><th scope=col>used</th><th scope=col>(Mb)</th><th scope=col>gc trigger</th><th scope=col>(Mb)</th><th scope=col>max used</th><th scope=col>(Mb)</th></tr></thead>\n",
       "<tbody>\n",
       "\t<tr><th scope=row>Ncells</th><td>1840747</td><td>98.4   </td><td>3659297</td><td>195.5  </td><td>3659297</td><td>195.5  </td></tr>\n",
       "\t<tr><th scope=row>Vcells</th><td>3492087</td><td>26.7   </td><td>8388608</td><td> 64.0  </td><td>8388036</td><td> 64.0  </td></tr>\n",
       "</tbody>\n",
       "</table>\n"
      ],
      "text/latex": [
       "\\begin{tabular}{r|llllll}\n",
       "  & used & (Mb) & gc trigger & (Mb) & max used & (Mb)\\\\\n",
       "\\hline\n",
       "\tNcells & 1840747 & 98.4    & 3659297 & 195.5   & 3659297 & 195.5  \\\\\n",
       "\tVcells & 3492087 & 26.7    & 8388608 &  64.0   & 8388036 &  64.0  \\\\\n",
       "\\end{tabular}\n"
      ],
      "text/markdown": [
       "\n",
       "| <!--/--> | used | (Mb) | gc trigger | (Mb) | max used | (Mb) |\n",
       "|---|---|---|---|---|---|---|\n",
       "| Ncells | 1840747 | 98.4    | 3659297 | 195.5   | 3659297 | 195.5   |\n",
       "| Vcells | 3492087 | 26.7    | 8388608 |  64.0   | 8388036 |  64.0   |\n",
       "\n"
      ],
      "text/plain": [
       "       used    (Mb) gc trigger (Mb)  max used (Mb) \n",
       "Ncells 1840747 98.4 3659297    195.5 3659297  195.5\n",
       "Vcells 3492087 26.7 8388608     64.0 8388036   64.0"
      ]
     },
     "metadata": {},
     "output_type": "display_data"
    }
   ],
   "source": [
    "rm(dat1); gc(); \n",
    "load('Per house data PSC 2012 to 2019 polish2.RData')\n",
    "# THREE LEVELS OF PERSONS: None, Low, Hi\n",
    "dat1$persons.status<-dat1$num.persons\n",
    "dat1$persons.status[dat1$num.persons>3]<-'Hi'\n",
    "dat1$persons.status[dat1$num.persons<=3]<-'Low'\n",
    "dat1$persons.status[dat1$num.persons==0]<-'None'\n",
    "dat1$persons.status<-factor(dat1$persons.status, levels=c('None', 'Low', 'Hi'))\n",
    "overdispersion<-1:nrow(dat1)\n",
    "\n",
    "# FIT\n",
    "m_4C_all<-glmer(count.f~(1|year.assigned)+(1|site.id)+(1|overdispersion)+month.assigned*village+mosquito.net+persons.status, \n",
    "             family='poisson', data=dat1, \n",
    "             control=glmerControl(optimizer=\"bobyqa\", optCtrl=list(maxfun=3e4)))\n",
    "#summary(m_4C_all)\n"
   ]
  },
  {
   "cell_type": "code",
   "execution_count": 17,
   "id": "66e0d31a",
   "metadata": {},
   "outputs": [
    {
     "data": {
      "text/html": [
       "383"
      ],
      "text/latex": [
       "383"
      ],
      "text/markdown": [
       "383"
      ],
      "text/plain": [
       "[1] 383"
      ]
     },
     "metadata": {},
     "output_type": "display_data"
    },
    {
     "data": {
      "text/html": [
       "390"
      ],
      "text/latex": [
       "390"
      ],
      "text/markdown": [
       "390"
      ],
      "text/plain": [
       "[1] 390"
      ]
     },
     "metadata": {},
     "output_type": "display_data"
    },
    {
     "data": {
      "text/html": [
       "<ol class=list-inline>\n",
       "\t<li>387</li>\n",
       "\t<li>5</li>\n",
       "</ol>\n"
      ],
      "text/latex": [
       "\\begin{enumerate*}\n",
       "\\item 387\n",
       "\\item 5\n",
       "\\end{enumerate*}\n"
      ],
      "text/markdown": [
       "1. 387\n",
       "2. 5\n",
       "\n",
       "\n"
      ],
      "text/plain": [
       "[1] 387   5"
      ]
     },
     "metadata": {},
     "output_type": "display_data"
    },
    {
     "data": {
      "text/html": [
       "<table>\n",
       "<thead><tr><th scope=col>site.id</th><th scope=col>effect</th><th scope=col>village</th><th scope=col>longitude</th><th scope=col>latitude</th></tr></thead>\n",
       "<tbody>\n",
       "\t<tr><td>BF.BM.02.001 </td><td>-0.1350693   </td><td>Bana village </td><td>-4.471190    </td><td>11.23421     </td></tr>\n",
       "\t<tr><td>BF.BM.02.001 </td><td>-0.1350693   </td><td>Bana market  </td><td>-4.471190    </td><td>11.23421     </td></tr>\n",
       "\t<tr><td>BF.BM.03.001 </td><td>-0.5714125   </td><td>Bana market  </td><td>-4.471004    </td><td>11.23479     </td></tr>\n",
       "\t<tr><td>BF.BM.03.001 </td><td>-0.5714125   </td><td>Bana village </td><td>-4.471004    </td><td>11.23479     </td></tr>\n",
       "\t<tr><td>BF.BM.121.001</td><td> 1.1691306   </td><td>Bana market  </td><td>-4.472744    </td><td>11.23510     </td></tr>\n",
       "\t<tr><td>BF.BM.13.001 </td><td> 0.5745616   </td><td>Bana village </td><td>-4.470798    </td><td>11.23368     </td></tr>\n",
       "</tbody>\n",
       "</table>\n"
      ],
      "text/latex": [
       "\\begin{tabular}{r|lllll}\n",
       " site.id & effect & village & longitude & latitude\\\\\n",
       "\\hline\n",
       "\t BF.BM.02.001  & -0.1350693    & Bana village  & -4.471190     & 11.23421     \\\\\n",
       "\t BF.BM.02.001  & -0.1350693    & Bana market   & -4.471190     & 11.23421     \\\\\n",
       "\t BF.BM.03.001  & -0.5714125    & Bana market   & -4.471004     & 11.23479     \\\\\n",
       "\t BF.BM.03.001  & -0.5714125    & Bana village  & -4.471004     & 11.23479     \\\\\n",
       "\t BF.BM.121.001 &  1.1691306    & Bana market   & -4.472744     & 11.23510     \\\\\n",
       "\t BF.BM.13.001  &  0.5745616    & Bana village  & -4.470798     & 11.23368     \\\\\n",
       "\\end{tabular}\n"
      ],
      "text/markdown": [
       "\n",
       "| site.id | effect | village | longitude | latitude |\n",
       "|---|---|---|---|---|\n",
       "| BF.BM.02.001  | -0.1350693    | Bana village  | -4.471190     | 11.23421      |\n",
       "| BF.BM.02.001  | -0.1350693    | Bana market   | -4.471190     | 11.23421      |\n",
       "| BF.BM.03.001  | -0.5714125    | Bana market   | -4.471004     | 11.23479      |\n",
       "| BF.BM.03.001  | -0.5714125    | Bana village  | -4.471004     | 11.23479      |\n",
       "| BF.BM.121.001 |  1.1691306    | Bana market   | -4.472744     | 11.23510      |\n",
       "| BF.BM.13.001  |  0.5745616    | Bana village  | -4.470798     | 11.23368      |\n",
       "\n"
      ],
      "text/plain": [
       "  site.id       effect     village      longitude latitude\n",
       "1 BF.BM.02.001  -0.1350693 Bana village -4.471190 11.23421\n",
       "2 BF.BM.02.001  -0.1350693 Bana market  -4.471190 11.23421\n",
       "3 BF.BM.03.001  -0.5714125 Bana market  -4.471004 11.23479\n",
       "4 BF.BM.03.001  -0.5714125 Bana village -4.471004 11.23479\n",
       "5 BF.BM.121.001  1.1691306 Bana market  -4.472744 11.23510\n",
       "6 BF.BM.13.001   0.5745616 Bana village -4.470798 11.23368"
      ]
     },
     "metadata": {},
     "output_type": "display_data"
    },
    {
     "data": {
      "text/plain": [
       "     Min.   1st Qu.    Median      Mean   3rd Qu.      Max. \n",
       "-1.051553 -0.208136 -0.013590  0.003865  0.218529  1.187922 "
      ]
     },
     "metadata": {},
     "output_type": "display_data"
    }
   ],
   "source": [
    "# PUT ESTIMATED RANDOM EFFECTS INTO A DATA FRAME\n",
    "s<-ranef(m_4C_all)$site.id\n",
    "site.id.effect<-data.frame(site.id=rownames(s), effect=unlist(s), row.names=NULL)\n",
    "nrow(site.id.effect)\n",
    "#hist(site.id.effect$effect)\n",
    "#head(site.id.effect)\n",
    "\n",
    "# EXTRACT LAT LONG INFO (MANY DUPLICATED)\n",
    "s1<-dat1[!duplicated(dat1[,c(1,9:11)]), c(1,9:11)]\n",
    "nrow(s1)\n",
    "\n",
    "# MERGE LAT AND LONG\n",
    "s2_all<-merge(site.id.effect, s1, by='site.id', all.x=T)\n",
    "dim(s2_all)\n",
    "head(s2_all)\n",
    "rm(s); rm(s1);\n",
    "\n",
    "summary(s2_all$effect)"
   ]
  },
  {
   "cell_type": "code",
   "execution_count": 6,
   "id": "c0a0d097",
   "metadata": {},
   "outputs": [
    {
     "data": {
      "text/html": [
       "47"
      ],
      "text/latex": [
       "47"
      ],
      "text/markdown": [
       "47"
      ],
      "text/plain": [
       "[1] 47"
      ]
     },
     "metadata": {},
     "output_type": "display_data"
    },
    {
     "data": {
      "text/html": [
       "25"
      ],
      "text/latex": [
       "25"
      ],
      "text/markdown": [
       "25"
      ],
      "text/plain": [
       "[1] 25"
      ]
     },
     "metadata": {},
     "output_type": "display_data"
    },
    {
     "data": {
      "text/html": [
       "-0.0233208000986208"
      ],
      "text/latex": [
       "-0.0233208000986208"
      ],
      "text/markdown": [
       "-0.0233208000986208"
      ],
      "text/plain": [
       "[1] -0.0233208"
      ]
     },
     "metadata": {},
     "output_type": "display_data"
    }
   ],
   "source": [
    "bounds<-seq(-1.10, 1.20, 0.05)\n",
    "length(bounds)\n",
    "# ASSIGN EFFECTS INTO BINS\n",
    "# PUT EFFECTS INTO BINS\n",
    "bins<-cut(s2_all$effect, breaks=bounds, labels=F)\n",
    "# LARGE EFFECT SMALL BINS NUMBER AND MORE RED\n",
    "bins<-length(bounds)-bins\n",
    "#bins\n",
    "# RANK THE HOUSE EFFECT IN DESCENDING ORDER AND ASSIGN COLOUR CODE (LARGE IS RED)\n",
    "colour_map<-heat.colors(length(bounds))\n",
    "s2_all$col<-colour_map[bins]\n",
    "rm(bins); rm(bounds);"
   ]
  },
  {
   "cell_type": "code",
   "execution_count": 9,
   "id": "a0048d72",
   "metadata": {},
   "outputs": [
    {
     "data": {
      "image/png": "[encoded data removed]",
      "text/plain": [
       "Plot with title \"Heatmap of house effect, dry+wet season (red means higher)\""
      ]
     },
     "metadata": {},
     "output_type": "display_data"
    }
   ],
   "source": [
    "# TOPRIGHT IS SOUROU, THEN BANA M, BANA V, BOTTOM IS PALA\n",
    "# ACCORDING TO GOOGLE MAP\n",
    "plot(x=s2_all$long, y=s2_all$latitude, pch=16, col=s2$col, \n",
    "    main='Heatmap of house effect, dry+wet season (red means higher)')\n",
    "text(-4.53, 11.23, 'Sourou')\n",
    "text(-4.46, 11.244, 'Bana M')\n",
    "text(-4.47, 11.227, 'Bana V')\n",
    "text(-4.25, 11.16, 'Pala')"
   ]
  },
  {
   "cell_type": "code",
   "execution_count": 10,
   "id": "f7f20eab",
   "metadata": {},
   "outputs": [
    {
     "data": {
      "image/png": "[encoded data removed]",
      "text/plain": [
       "plot without title"
      ]
     },
     "metadata": {},
     "output_type": "display_data"
    }
   ],
   "source": [
    "# ZOOM IN\n",
    "par(mfrow=c(2,2))\n",
    "#\n",
    "plot(x=s2_all$long, y=s2_all$latitude, \n",
    "     xlim=c(-4.539, -4.539+0.009), ylim=c(11.232,11.232+0.009),\n",
    "     pch=16, col=s2_all$col)\n",
    "legend('topright', legend='Sourou')\n",
    "#\n",
    "plot(x=s2_all$long, y=s2_all$latitude, \n",
    "     xlim=c(-4.486, -4.486+0.006), ylim=c(11.238,11.238+0.006),\n",
    "     pch=16, col=s2_all$col)\n",
    "legend('topright', legend='Bana M')\n",
    "# \n",
    "plot(x=s2_all$long, y=s2_all$latitude, \n",
    "     xlim=c(-4.475, -4.475+0.009), ylim=c(11.229,11.229+0.009),\n",
    "     pch=16, col=s2_all$col)\n",
    "legend('topright', legend='Bana V')\n",
    "#\n",
    "plot(x=s2_all$long, y=s2_all$latitude, \n",
    "     xlim=c(-4.236, -4.236+0.008), ylim=c(11.147, 11.147+0.008),\n",
    "     pch=16, col=s2_all$col)\n",
    "legend('topright', legend='Pala')"
   ]
  },
  {
   "cell_type": "code",
   "execution_count": 22,
   "id": "5e296522",
   "metadata": {},
   "outputs": [
    {
     "data": {
      "text/html": [
       "<table>\n",
       "<thead><tr><th scope=col>site.id</th><th scope=col>effect.x</th><th scope=col>effect.y</th></tr></thead>\n",
       "<tbody>\n",
       "\t<tr><td>BF.BM.02.001 </td><td> 0.01698915  </td><td>-0.1350693   </td></tr>\n",
       "\t<tr><td>BF.BM.02.001 </td><td> 0.01698915  </td><td>-0.1350693   </td></tr>\n",
       "\t<tr><td>BF.BM.03.001 </td><td>-0.44719364  </td><td>-0.5714125   </td></tr>\n",
       "\t<tr><td>BF.BM.03.001 </td><td>-0.44719364  </td><td>-0.5714125   </td></tr>\n",
       "\t<tr><td>BF.BM.121.001</td><td> 1.22519805  </td><td> 1.1691306   </td></tr>\n",
       "\t<tr><td>BF.BM.13.001 </td><td> 0.75194327  </td><td> 0.5745616   </td></tr>\n",
       "</tbody>\n",
       "</table>\n"
      ],
      "text/latex": [
       "\\begin{tabular}{r|lll}\n",
       " site.id & effect.x & effect.y\\\\\n",
       "\\hline\n",
       "\t BF.BM.02.001  &  0.01698915   & -0.1350693   \\\\\n",
       "\t BF.BM.02.001  &  0.01698915   & -0.1350693   \\\\\n",
       "\t BF.BM.03.001  & -0.44719364   & -0.5714125   \\\\\n",
       "\t BF.BM.03.001  & -0.44719364   & -0.5714125   \\\\\n",
       "\t BF.BM.121.001 &  1.22519805   &  1.1691306   \\\\\n",
       "\t BF.BM.13.001  &  0.75194327   &  0.5745616   \\\\\n",
       "\\end{tabular}\n"
      ],
      "text/markdown": [
       "\n",
       "| site.id | effect.x | effect.y |\n",
       "|---|---|---|\n",
       "| BF.BM.02.001  |  0.01698915   | -0.1350693    |\n",
       "| BF.BM.02.001  |  0.01698915   | -0.1350693    |\n",
       "| BF.BM.03.001  | -0.44719364   | -0.5714125    |\n",
       "| BF.BM.03.001  | -0.44719364   | -0.5714125    |\n",
       "| BF.BM.121.001 |  1.22519805   |  1.1691306    |\n",
       "| BF.BM.13.001  |  0.75194327   |  0.5745616    |\n",
       "\n"
      ],
      "text/plain": [
       "  site.id       effect.x    effect.y  \n",
       "1 BF.BM.02.001   0.01698915 -0.1350693\n",
       "2 BF.BM.02.001   0.01698915 -0.1350693\n",
       "3 BF.BM.03.001  -0.44719364 -0.5714125\n",
       "4 BF.BM.03.001  -0.44719364 -0.5714125\n",
       "5 BF.BM.121.001  1.22519805  1.1691306\n",
       "6 BF.BM.13.001   0.75194327  0.5745616"
      ]
     },
     "metadata": {},
     "output_type": "display_data"
    },
    {
     "data": {
      "image/png": "[encoded data removed]",
      "text/plain": [
       "plot without title"
      ]
     },
     "metadata": {},
     "output_type": "display_data"
    }
   ],
   "source": [
    "# CORR BETWEEN THE TWO?\n",
    "s<-merge(s2[,1:2], s2_all[,1:2], by='site.id', all=T)\n",
    "head(s)\n",
    "plot(s$effect.x, s$effect.y, xlab='wet only house effect', ylab='dry+wet house effect')"
   ]
  },
  {
   "cell_type": "code",
   "execution_count": null,
   "id": "bda56bcd",
   "metadata": {},
   "outputs": [],
   "source": []
  }
 ],
 "metadata": {
  "kernelspec": {
   "display_name": "R",
   "language": "R",
   "name": "ir"
  },
  "language_info": {
   "codemirror_mode": "r",
   "file_extension": ".r",
   "mimetype": "text/x-r-source",
   "name": "R",
   "pygments_lexer": "r",
   "version": "3.5.3"
  }
 },
 "nbformat": 4,
 "nbformat_minor": 5
}
