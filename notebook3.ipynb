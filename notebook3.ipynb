{
 "cells": [
  {
   "cell_type": "markdown",
   "id": "eea3ed96",
   "metadata": {},
   "source": [
    "## Notebook 3.\n",
    "\n",
    "This notebook aims to incorporate weather station info as covariates to further enrich our models.\n",
    "\n",
    "The preparation of the weather station info was done in a separate notebook. Daily weather variables including min/max/mean temperature, rainfall, wind speed, wind direction, gust speed, humidity, sunlight intensity are captured. We had three weather stations: Bana, Pala, Souroukoudingan. Bana market and Bana village shares the same weather info.\n",
    "\n",
    "Weather station info did not cover the entire duration of the experiment, hence only count data between year 2017 and 2019 are included. Besides, as in notebook 2, we only look at wet season counts (May to October). As a result, the size of this subset is about 1/4 of the entire dataset."
   ]
  },
  {
   "cell_type": "code",
   "execution_count": 1,
   "id": "0b30c5f8",
   "metadata": {},
   "outputs": [
    {
     "name": "stderr",
     "output_type": "stream",
     "text": [
      "Loading required package: compiler\n"
     ]
    },
    {
     "data": {
      "text/html": [
       "3"
      ],
      "text/latex": [
       "3"
      ],
      "text/markdown": [
       "3"
      ],
      "text/plain": [
       "[1] 3"
      ]
     },
     "metadata": {},
     "output_type": "display_data"
    },
    {
     "name": "stderr",
     "output_type": "stream",
     "text": [
      "Loading required package: doParallel\n",
      "Loading required package: foreach\n",
      "Loading required package: iterators\n",
      "Loading required package: parallel\n",
      "Loading required package: lme4\n",
      "Loading required package: Matrix\n",
      "Loading required package: lmerTest\n",
      "\n",
      "Attaching package: 'lmerTest'\n",
      "\n",
      "The following object is masked from 'package:lme4':\n",
      "\n",
      "    lmer\n",
      "\n",
      "The following object is masked from 'package:stats':\n",
      "\n",
      "    step\n",
      "\n",
      "Loading required package: MASS\n"
     ]
    },
    {
     "data": {
      "text/html": [
       "<ol class=list-inline>\n",
       "\t<li>'BV_weather'</li>\n",
       "\t<li>'dat1'</li>\n",
       "\t<li>'PL_weather'</li>\n",
       "\t<li>'SK_weather'</li>\n",
       "</ol>\n"
      ],
      "text/latex": [
       "\\begin{enumerate*}\n",
       "\\item 'BV\\_weather'\n",
       "\\item 'dat1'\n",
       "\\item 'PL\\_weather'\n",
       "\\item 'SK\\_weather'\n",
       "\\end{enumerate*}\n"
      ],
      "text/markdown": [
       "1. 'BV_weather'\n",
       "2. 'dat1'\n",
       "3. 'PL_weather'\n",
       "4. 'SK_weather'\n",
       "\n",
       "\n"
      ],
      "text/plain": [
       "[1] \"BV_weather\" \"dat1\"       \"PL_weather\" \"SK_weather\""
      ]
     },
     "metadata": {},
     "output_type": "display_data"
    }
   ],
   "source": [
    "# LOAD PACKAGES\n",
    "require(compiler)\n",
    "enableJIT(3)\n",
    "require(doParallel)\n",
    "require(lme4)\n",
    "require(lmerTest)\n",
    "require(MASS)\n",
    "setMKLthreads(22)\n",
    "# LOAD DATASET AND WEATHER INFO\n",
    "load('Per house data PSC 2012 to 2019 polish2.RData')\n",
    "load('BF_weather.RData')\n",
    "ls()"
   ]
  },
  {
   "cell_type": "code",
   "execution_count": 2,
   "id": "3e59328b",
   "metadata": {},
   "outputs": [
    {
     "data": {
      "text/html": [
       "<ol class=list-inline>\n",
       "\t<li>'date'</li>\n",
       "\t<li>'meantemp.c'</li>\n",
       "\t<li>'maxtemp.c'</li>\n",
       "\t<li>'mintemp.c'</li>\n",
       "\t<li>'humidity.percent'</li>\n",
       "\t<li>'winddir.deg'</li>\n",
       "\t<li>'windspeed.kmhr'</li>\n",
       "\t<li>'gustspeed.kmhr'</li>\n",
       "\t<li>'rain.mm'</li>\n",
       "\t<li>'sun.wma2'</li>\n",
       "</ol>\n"
      ],
      "text/latex": [
       "\\begin{enumerate*}\n",
       "\\item 'date'\n",
       "\\item 'meantemp.c'\n",
       "\\item 'maxtemp.c'\n",
       "\\item 'mintemp.c'\n",
       "\\item 'humidity.percent'\n",
       "\\item 'winddir.deg'\n",
       "\\item 'windspeed.kmhr'\n",
       "\\item 'gustspeed.kmhr'\n",
       "\\item 'rain.mm'\n",
       "\\item 'sun.wma2'\n",
       "\\end{enumerate*}\n"
      ],
      "text/markdown": [
       "1. 'date'\n",
       "2. 'meantemp.c'\n",
       "3. 'maxtemp.c'\n",
       "4. 'mintemp.c'\n",
       "5. 'humidity.percent'\n",
       "6. 'winddir.deg'\n",
       "7. 'windspeed.kmhr'\n",
       "8. 'gustspeed.kmhr'\n",
       "9. 'rain.mm'\n",
       "10. 'sun.wma2'\n",
       "\n",
       "\n"
      ],
      "text/plain": [
       " [1] \"date\"             \"meantemp.c\"       \"maxtemp.c\"        \"mintemp.c\"       \n",
       " [5] \"humidity.percent\" \"winddir.deg\"      \"windspeed.kmhr\"   \"gustspeed.kmhr\"  \n",
       " [9] \"rain.mm\"          \"sun.wma2\"        "
      ]
     },
     "metadata": {},
     "output_type": "display_data"
    }
   ],
   "source": [
    "# SEE THE VARIABLE NAMES IN TO WEATHER INFO\n",
    "names(SK_weather)"
   ]
  },
  {
   "cell_type": "code",
   "execution_count": 3,
   "id": "2eb62ca2",
   "metadata": {},
   "outputs": [
    {
     "data": {
      "text/html": [
       "<ol class=list-inline>\n",
       "\t<li>876</li>\n",
       "\t<li>26</li>\n",
       "</ol>\n"
      ],
      "text/latex": [
       "\\begin{enumerate*}\n",
       "\\item 876\n",
       "\\item 26\n",
       "\\end{enumerate*}\n"
      ],
      "text/markdown": [
       "1. 876\n",
       "2. 26\n",
       "\n",
       "\n"
      ],
      "text/plain": [
       "[1] 876  26"
      ]
     },
     "metadata": {},
     "output_type": "display_data"
    },
    {
     "data": {
      "text/html": [
       "<ol class=list-inline>\n",
       "\t<li>'village'</li>\n",
       "\t<li>'month.assigned'</li>\n",
       "\t<li>'year.assigned'</li>\n",
       "\t<li>'monthyear.assigned'</li>\n",
       "\t<li>'day'</li>\n",
       "\t<li>'month'</li>\n",
       "\t<li>'year'</li>\n",
       "\t<li>'date.collection'</li>\n",
       "\t<li>'site.id'</li>\n",
       "\t<li>'longitude'</li>\n",
       "\t<li>'latitude'</li>\n",
       "\t<li>'room.id'</li>\n",
       "\t<li>'num.persons'</li>\n",
       "\t<li>'num.persons.remark'</li>\n",
       "\t<li>'mosquito.net'</li>\n",
       "\t<li>'permanence'</li>\n",
       "\t<li>'count.m'</li>\n",
       "\t<li>'genotyped.m'</li>\n",
       "\t<li>'col.m'</li>\n",
       "\t<li>'gam.m'</li>\n",
       "\t<li>'arab.m'</li>\n",
       "\t<li>'count.f'</li>\n",
       "\t<li>'genotyped.f'</li>\n",
       "\t<li>'col.f'</li>\n",
       "\t<li>'gam.f'</li>\n",
       "\t<li>'arab.f'</li>\n",
       "</ol>\n"
      ],
      "text/latex": [
       "\\begin{enumerate*}\n",
       "\\item 'village'\n",
       "\\item 'month.assigned'\n",
       "\\item 'year.assigned'\n",
       "\\item 'monthyear.assigned'\n",
       "\\item 'day'\n",
       "\\item 'month'\n",
       "\\item 'year'\n",
       "\\item 'date.collection'\n",
       "\\item 'site.id'\n",
       "\\item 'longitude'\n",
       "\\item 'latitude'\n",
       "\\item 'room.id'\n",
       "\\item 'num.persons'\n",
       "\\item 'num.persons.remark'\n",
       "\\item 'mosquito.net'\n",
       "\\item 'permanence'\n",
       "\\item 'count.m'\n",
       "\\item 'genotyped.m'\n",
       "\\item 'col.m'\n",
       "\\item 'gam.m'\n",
       "\\item 'arab.m'\n",
       "\\item 'count.f'\n",
       "\\item 'genotyped.f'\n",
       "\\item 'col.f'\n",
       "\\item 'gam.f'\n",
       "\\item 'arab.f'\n",
       "\\end{enumerate*}\n"
      ],
      "text/markdown": [
       "1. 'village'\n",
       "2. 'month.assigned'\n",
       "3. 'year.assigned'\n",
       "4. 'monthyear.assigned'\n",
       "5. 'day'\n",
       "6. 'month'\n",
       "7. 'year'\n",
       "8. 'date.collection'\n",
       "9. 'site.id'\n",
       "10. 'longitude'\n",
       "11. 'latitude'\n",
       "12. 'room.id'\n",
       "13. 'num.persons'\n",
       "14. 'num.persons.remark'\n",
       "15. 'mosquito.net'\n",
       "16. 'permanence'\n",
       "17. 'count.m'\n",
       "18. 'genotyped.m'\n",
       "19. 'col.m'\n",
       "20. 'gam.m'\n",
       "21. 'arab.m'\n",
       "22. 'count.f'\n",
       "23. 'genotyped.f'\n",
       "24. 'col.f'\n",
       "25. 'gam.f'\n",
       "26. 'arab.f'\n",
       "\n",
       "\n"
      ],
      "text/plain": [
       " [1] \"village\"            \"month.assigned\"     \"year.assigned\"     \n",
       " [4] \"monthyear.assigned\" \"day\"                \"month\"             \n",
       " [7] \"year\"               \"date.collection\"    \"site.id\"           \n",
       "[10] \"longitude\"          \"latitude\"           \"room.id\"           \n",
       "[13] \"num.persons\"        \"num.persons.remark\" \"mosquito.net\"      \n",
       "[16] \"permanence\"         \"count.m\"            \"genotyped.m\"       \n",
       "[19] \"col.m\"              \"gam.m\"              \"arab.m\"            \n",
       "[22] \"count.f\"            \"genotyped.f\"        \"col.f\"             \n",
       "[25] \"gam.f\"              \"arab.f\"            "
      ]
     },
     "metadata": {},
     "output_type": "display_data"
    }
   ],
   "source": [
    "# TAKE SUBSET, YEAR 2017-2019 WHEN WEATHER INFO IS AVAILABLE\n",
    "dat2<-dat1[dat1$date.collection>=min(PL_weather$date),]\n",
    "# TAKE SUBSET, WET SEASON COUNTS ONLY (MAY TO OCTOBER ONLY)\n",
    "dat2<-dat2[dat2$month.assigned %in% 5:10,]\n",
    "# DIMENSION OF THE NEW DATASET?\n",
    "dim(dat2)\n",
    "names(dat2)\n",
    "rm(dat1)\n",
    "# TRANSFORM num.persons\n",
    "persons.status<-dat2$num.persons\n",
    "persons.status[dat2$num.persons>3]<-'Hi'\n",
    "persons.status[dat2$num.persons<=3]<-'Low'\n",
    "persons.status[dat2$num.persons==0]<-'None'"
   ]
  },
  {
   "cell_type": "markdown",
   "id": "4a8728d6",
   "metadata": {},
   "source": [
    "Now the dataset has 876 rows, which is about 1/4 of the original size. It is slightly unfortunate but we have to make the most of it. \n",
    "\n",
    "Now I want to fit some \"null\" models without weather info with this new subset. We can then compare how much explanatory power is added when we include weather info in the subsequent models. "
   ]
  },
  {
   "cell_type": "code",
   "execution_count": 4,
   "id": "c9599e53",
   "metadata": {},
   "outputs": [
    {
     "name": "stderr",
     "output_type": "stream",
     "text": [
      "fixed-effect model matrix is rank deficient so dropping 6 columns / coefficients\n",
      "\n",
      "Correlation matrix not shown by default, as p = 21 > 12.\n",
      "Use print(obj, correlation=TRUE)  or\n",
      "    vcov(obj)        if you need it\n",
      "\n"
     ]
    },
    {
     "data": {
      "text/plain": [
       "Generalized linear mixed model fit by maximum likelihood (Laplace\n",
       "  Approximation) [glmerMod]\n",
       " Family: poisson  ( log )\n",
       "Formula: \n",
       "count.f ~ (1 | year.assigned) + (1 | site.id) + (1 | overdispersion) +  \n",
       "    month.assigned * village + mosquito.net + persons.status\n",
       "   Data: dat2\n",
       "Control: glmerControl(optimizer = \"bobyqa\", optCtrl = list(maxfun = 2e+05))\n",
       "\n",
       "     AIC      BIC   logLik deviance df.resid \n",
       "  5641.8   5755.5  -2796.9   5593.8      818 \n",
       "\n",
       "Scaled residuals: \n",
       "     Min       1Q   Median       3Q      Max \n",
       "-1.29902 -0.36065 -0.01151  0.14073  0.61803 \n",
       "\n",
       "Random effects:\n",
       " Groups         Name        Variance Std.Dev.\n",
       " overdispersion (Intercept) 1.195722 1.09349 \n",
       " site.id        (Intercept) 0.632651 0.79539 \n",
       " year.assigned  (Intercept) 0.004086 0.06392 \n",
       "Number of obs: 842, groups:  \n",
       "overdispersion, 842; site.id, 174; year.assigned, 3\n",
       "\n",
       "Fixed effects:\n",
       "                                        Estimate Std. Error z value Pr(>|z|)\n",
       "(Intercept)                             2.334353   0.372946   6.259 3.87e-10\n",
       "month.assigned6                         0.017392   0.290870   0.060 0.952319\n",
       "month.assigned7                        -0.773242   0.345828  -2.236 0.025357\n",
       "month.assigned8                        -0.363413   0.294035  -1.236 0.216478\n",
       "month.assigned9                        -0.001433   0.289196  -0.005 0.996047\n",
       "month.assigned10                       -0.463629   0.290361  -1.597 0.110325\n",
       "villageBana village                     0.375120   0.368749   1.017 0.309021\n",
       "villagePala                             0.132403   0.393422   0.337 0.736463\n",
       "villageSouroukoudingan                 -0.181125   0.397058  -0.456 0.648270\n",
       "mosquito.netYes                        -0.034274   0.175518  -0.195 0.845179\n",
       "persons.statusLow                      -0.402605   0.122672  -3.282 0.001031\n",
       "persons.statusNone                     -1.304661   0.517914  -2.519 0.011767\n",
       "month.assigned6:villageBana village    -0.158757   0.377020  -0.421 0.673694\n",
       "month.assigned7:villageBana village     0.084839   0.432659   0.196 0.844542\n",
       "month.assigned8:villageBana village    -0.287152   0.378448  -0.759 0.447995\n",
       "month.assigned9:villageBana village     0.016880   0.374592   0.045 0.964058\n",
       "month.assigned10:villageBana village   -0.182043   0.376214  -0.484 0.628469\n",
       "month.assigned6:villagePala            -1.505869   0.388994  -3.871 0.000108\n",
       "month.assigned8:villagePala            -0.616797   0.396629  -1.555 0.119922\n",
       "month.assigned6:villageSouroukoudingan -0.909622   0.396342  -2.295 0.021731\n",
       "month.assigned8:villageSouroukoudingan -0.265875   0.405304  -0.656 0.511831\n",
       "                                          \n",
       "(Intercept)                            ***\n",
       "month.assigned6                           \n",
       "month.assigned7                        *  \n",
       "month.assigned8                           \n",
       "month.assigned9                           \n",
       "month.assigned10                          \n",
       "villageBana village                       \n",
       "villagePala                               \n",
       "villageSouroukoudingan                    \n",
       "mosquito.netYes                           \n",
       "persons.statusLow                      ** \n",
       "persons.statusNone                     *  \n",
       "month.assigned6:villageBana village       \n",
       "month.assigned7:villageBana village       \n",
       "month.assigned8:villageBana village       \n",
       "month.assigned9:villageBana village       \n",
       "month.assigned10:villageBana village      \n",
       "month.assigned6:villagePala            ***\n",
       "month.assigned8:villagePala               \n",
       "month.assigned6:villageSouroukoudingan *  \n",
       "month.assigned8:villageSouroukoudingan    \n",
       "---\n",
       "Signif. codes:  0 '***' 0.001 '**' 0.01 '*' 0.05 '.' 0.1 ' ' 1\n",
       "fit warnings:\n",
       "fixed-effect model matrix is rank deficient so dropping 6 columns / coefficients"
      ]
     },
     "metadata": {},
     "output_type": "display_data"
    }
   ],
   "source": [
    "# NULL MODEL WITHOUT WEATHER INFO\n",
    "# THE INTERACTION IS HERE TO STAY (CHECKED)\n",
    "overdispersion<-1:nrow(dat2)\n",
    "m_0A<-glmer(count.f~(1|year.assigned)+(1|site.id)+(1|overdispersion)+month.assigned*village+mosquito.net+persons.status, \n",
    "             family='poisson', data=dat2, \n",
    "             control=glmerControl(optimizer=\"bobyqa\",optCtrl=list(maxfun=2e5)))\n",
    "summary(m_0A, correlation=FALSE)"
   ]
  },
  {
   "cell_type": "markdown",
   "id": "bfad7ccc",
   "metadata": {},
   "source": [
    "There is a warning saying some coefficients have been dropped, and that the summary table is missing several coefficient estimates. It is because some month.assigned x village combinations did not exist in our dataset. Let us have a quick look: "
   ]
  },
  {
   "cell_type": "code",
   "execution_count": 5,
   "id": "eeb2aa10",
   "metadata": {
    "scrolled": true
   },
   "outputs": [
    {
     "data": {
      "text/plain": [
       "interaction(dat2$month.assigned, dat2$village): 1.Bana market\n",
       "[1] NA\n",
       "------------------------------------------------------------ \n",
       "interaction(dat2$month.assigned, dat2$village): 2.Bana market\n",
       "[1] NA\n",
       "------------------------------------------------------------ \n",
       "interaction(dat2$month.assigned, dat2$village): 3.Bana market\n",
       "[1] NA\n",
       "------------------------------------------------------------ \n",
       "interaction(dat2$month.assigned, dat2$village): 4.Bana market\n",
       "[1] NA\n",
       "------------------------------------------------------------ \n",
       "interaction(dat2$month.assigned, dat2$village): 5.Bana market\n",
       "[1] 18.05128\n",
       "------------------------------------------------------------ \n",
       "interaction(dat2$month.assigned, dat2$village): 6.Bana market\n",
       "[1] 16.10345\n",
       "------------------------------------------------------------ \n",
       "interaction(dat2$month.assigned, dat2$village): 7.Bana market\n",
       "[1] 9.6\n",
       "------------------------------------------------------------ \n",
       "interaction(dat2$month.assigned, dat2$village): 8.Bana market\n",
       "[1] 12.5\n",
       "------------------------------------------------------------ \n",
       "interaction(dat2$month.assigned, dat2$village): 9.Bana market\n",
       "[1] 14.93333\n",
       "------------------------------------------------------------ \n",
       "interaction(dat2$month.assigned, dat2$village): 10.Bana market\n",
       "[1] 9.96875\n",
       "------------------------------------------------------------ \n",
       "interaction(dat2$month.assigned, dat2$village): 11.Bana market\n",
       "[1] NA\n",
       "------------------------------------------------------------ \n",
       "interaction(dat2$month.assigned, dat2$village): 12.Bana market\n",
       "[1] NA\n",
       "------------------------------------------------------------ \n",
       "interaction(dat2$month.assigned, dat2$village): 1.Bana village\n",
       "[1] NA\n",
       "------------------------------------------------------------ \n",
       "interaction(dat2$month.assigned, dat2$village): 2.Bana village\n",
       "[1] NA\n",
       "------------------------------------------------------------ \n",
       "interaction(dat2$month.assigned, dat2$village): 3.Bana village\n",
       "[1] NA\n",
       "------------------------------------------------------------ \n",
       "interaction(dat2$month.assigned, dat2$village): 4.Bana village\n",
       "[1] NA\n",
       "------------------------------------------------------------ \n",
       "interaction(dat2$month.assigned, dat2$village): 5.Bana village\n",
       "[1] 21.66667\n",
       "------------------------------------------------------------ \n",
       "interaction(dat2$month.assigned, dat2$village): 6.Bana village\n",
       "[1] 25.37931\n",
       "------------------------------------------------------------ \n",
       "interaction(dat2$month.assigned, dat2$village): 7.Bana village\n",
       "[1] 11.225\n",
       "------------------------------------------------------------ \n",
       "interaction(dat2$month.assigned, dat2$village): 8.Bana village\n",
       "[1] 17.22034\n",
       "------------------------------------------------------------ \n",
       "interaction(dat2$month.assigned, dat2$village): 9.Bana village\n",
       "[1] 23.15517\n",
       "------------------------------------------------------------ \n",
       "interaction(dat2$month.assigned, dat2$village): 10.Bana village\n",
       "[1] 10.64912\n",
       "------------------------------------------------------------ \n",
       "interaction(dat2$month.assigned, dat2$village): 11.Bana village\n",
       "[1] NA\n",
       "------------------------------------------------------------ \n",
       "interaction(dat2$month.assigned, dat2$village): 12.Bana village\n",
       "[1] NA\n",
       "------------------------------------------------------------ \n",
       "interaction(dat2$month.assigned, dat2$village): 1.Pala\n",
       "[1] NA\n",
       "------------------------------------------------------------ \n",
       "interaction(dat2$month.assigned, dat2$village): 2.Pala\n",
       "[1] NA\n",
       "------------------------------------------------------------ \n",
       "interaction(dat2$month.assigned, dat2$village): 3.Pala\n",
       "[1] NA\n",
       "------------------------------------------------------------ \n",
       "interaction(dat2$month.assigned, dat2$village): 4.Pala\n",
       "[1] NA\n",
       "------------------------------------------------------------ \n",
       "interaction(dat2$month.assigned, dat2$village): 5.Pala\n",
       "[1] NA\n",
       "------------------------------------------------------------ \n",
       "interaction(dat2$month.assigned, dat2$village): 6.Pala\n",
       "[1] 5.266667\n",
       "------------------------------------------------------------ \n",
       "interaction(dat2$month.assigned, dat2$village): 7.Pala\n",
       "[1] NA\n",
       "------------------------------------------------------------ \n",
       "interaction(dat2$month.assigned, dat2$village): 8.Pala\n",
       "[1] 7.05\n",
       "------------------------------------------------------------ \n",
       "interaction(dat2$month.assigned, dat2$village): 9.Pala\n",
       "[1] NA\n",
       "------------------------------------------------------------ \n",
       "interaction(dat2$month.assigned, dat2$village): 10.Pala\n",
       "[1] 10.51667\n",
       "------------------------------------------------------------ \n",
       "interaction(dat2$month.assigned, dat2$village): 11.Pala\n",
       "[1] NA\n",
       "------------------------------------------------------------ \n",
       "interaction(dat2$month.assigned, dat2$village): 12.Pala\n",
       "[1] NA\n",
       "------------------------------------------------------------ \n",
       "interaction(dat2$month.assigned, dat2$village): 1.Souroukoudingan\n",
       "[1] NA\n",
       "------------------------------------------------------------ \n",
       "interaction(dat2$month.assigned, dat2$village): 2.Souroukoudingan\n",
       "[1] NA\n",
       "------------------------------------------------------------ \n",
       "interaction(dat2$month.assigned, dat2$village): 3.Souroukoudingan\n",
       "[1] NA\n",
       "------------------------------------------------------------ \n",
       "interaction(dat2$month.assigned, dat2$village): 4.Souroukoudingan\n",
       "[1] NA\n",
       "------------------------------------------------------------ \n",
       "interaction(dat2$month.assigned, dat2$village): 5.Souroukoudingan\n",
       "[1] NA\n",
       "------------------------------------------------------------ \n",
       "interaction(dat2$month.assigned, dat2$village): 6.Souroukoudingan\n",
       "[1] 4.833333\n",
       "------------------------------------------------------------ \n",
       "interaction(dat2$month.assigned, dat2$village): 7.Souroukoudingan\n",
       "[1] NA\n",
       "------------------------------------------------------------ \n",
       "interaction(dat2$month.assigned, dat2$village): 8.Souroukoudingan\n",
       "[1] 8.1\n",
       "------------------------------------------------------------ \n",
       "interaction(dat2$month.assigned, dat2$village): 9.Souroukoudingan\n",
       "[1] NA\n",
       "------------------------------------------------------------ \n",
       "interaction(dat2$month.assigned, dat2$village): 10.Souroukoudingan\n",
       "[1] 7.589286\n",
       "------------------------------------------------------------ \n",
       "interaction(dat2$month.assigned, dat2$village): 11.Souroukoudingan\n",
       "[1] NA\n",
       "------------------------------------------------------------ \n",
       "interaction(dat2$month.assigned, dat2$village): 12.Souroukoudingan\n",
       "[1] NA"
      ]
     },
     "metadata": {},
     "output_type": "display_data"
    }
   ],
   "source": [
    "by(dat2$count.f, interaction(dat2$month.assigned, dat2$village), mean, na.rm=T)"
   ]
  },
  {
   "cell_type": "markdown",
   "id": "58028c11",
   "metadata": {},
   "source": [
    "We can see that in Pala and Souroukoudingan there were no data in months 05, 07, 09. This means we are unable to estimate some interaction terms, as the warning suggested earlier. \n",
    "\n",
    "\n",
    "One main challenge is to append weather into to the count dataset. The idea is to use date.collection (from the count dataset) and date (from the weather info dataset) as the key to merge the two datasets. Furthermore, I want to append weather info about several days before the sampling took place. This can be done easily when the dates are coded properly in R's date format, where arithmetic operations are allowed. Below is the script to do that. "
   ]
  },
  {
   "cell_type": "code",
   "execution_count": 6,
   "id": "a7a93006",
   "metadata": {},
   "outputs": [],
   "source": [
    "# A FUNCTION TO APPEND WEATHER INFO USING DATE. WITH LAGS\n",
    "# ALWAYS GET FROM dat2\n",
    "# YOU CAN IGNORE IT\n",
    "f<-function(lag=0, lag_length=10)\n",
    "{\n",
    "    temp_date<-dat2$date.collection\n",
    "    temp_village<-dat2$village\n",
    "    # ONE PER VILLAGE\n",
    "    temp<-data.frame(matrix(nc=lag_length, nr=length(temp_date)))\n",
    "    temp_rain_SK<-temp; temp_rain_PL<-temp; temp_rain_BV<-temp;\n",
    "    temp_temp_SK<-temp; temp_temp_PL<-temp; temp_temp_BV<-temp;\n",
    "    temp_humid_SK<-temp; temp_humid_PL<-temp; temp_humid_BV<-temp;\n",
    "    temp_wind_SK<-temp; temp_wind_PL<-temp; temp_wind_BV<-temp;\n",
    "    temp_sun_SK<-temp; temp_sun_PL<-temp; temp_sun_BV<-temp;\n",
    "    # THE COMBINED\n",
    "    temp_rain<-temp; temp_temp<-temp; \n",
    "    temp_humid<-temp; temp_wind<-temp;\n",
    "    temp_sun<-temp;\n",
    "    for (i in 1:lag_length)\n",
    "        {\n",
    "        temp<-merge(temp_date-lag-i+1, SK_weather, by=1, all.x=T)\n",
    "        temp_temp_SK[,i]<-temp[,2]\n",
    "        temp_rain_SK[,i]<-temp[,9]\n",
    "        temp_humid_SK[,i]<-temp[,5]\n",
    "        temp_wind_SK[,i]<-temp[,7]\n",
    "        temp_sun_SK[,i]<-temp[,10]\n",
    "        temp<-merge(temp_date-lag-i+1, PL_weather, by=1, all.x=T)\n",
    "        temp_temp_PL[,i]<-temp[,2]\n",
    "        temp_rain_PL[,i]<-temp[,9]\n",
    "        temp_humid_PL[,i]<-temp[,5]\n",
    "        temp_wind_PL[,i]<-temp[,7]\n",
    "        temp_sun_PL[,i]<-temp[,10]\n",
    "        temp<-merge(temp_date-lag-i+1, BV_weather, by=1, all.x=T)\n",
    "        temp_temp_BV[,i]<-temp[,2]\n",
    "        temp_rain_BV[,i]<-temp[,9]\n",
    "        temp_humid_BV[,i]<-temp[,5]\n",
    "        temp_wind_BV[,i]<-temp[,7]\n",
    "        temp_sun_BV[,i]<-temp[,10]\n",
    "        }\n",
    "    # NOW APPEND \n",
    "    SK<-temp_village=='Souroukoudingan'\n",
    "    PL<-temp_village=='Pala'\n",
    "    BV<-temp_village %in% c('Bana village', 'Bana market')\n",
    "    temp_rain[SK,]<-temp_rain_SK[SK,]; temp_rain[PL,]<-temp_rain_PL[PL,]; temp_rain[BV,]<-temp_rain_BV[BV,]; \n",
    "    temp_temp[SK,]<-temp_temp_SK[SK,]; temp_temp[PL,]<-temp_temp_PL[PL,]; temp_temp[BV,]<-temp_temp_BV[BV,]; \n",
    "    temp_humid[SK,]<-temp_humid_SK[SK,]; temp_humid[PL,]<-temp_humid_PL[PL,]; temp_humid[BV,]<-temp_humid_BV[BV,]; \n",
    "    temp_wind[SK,]<-temp_wind_SK[SK,]; temp_wind[PL,]<-temp_wind_PL[PL,]; temp_wind[BV,]<-temp_wind_BV[BV,]; \n",
    "    temp_sun[SK,]<-temp_sun_SK[SK,]; temp_sun[PL,]<-temp_sun_PL[PL,]; temp_sun[BV,]<-temp_sun_BV[BV,]; \n",
    "    \n",
    "    # GIVE COLUMN NAMES\n",
    "    for (i in 1:lag_length)\n",
    "        {\n",
    "        names(temp_rain)[i]<-paste(c('rain.minus.', abs(-lag-i+1)), collapse='')\n",
    "        names(temp_temp)[i]<-paste(c('temp.minus.', abs(-lag-i+1)), collapse='')\n",
    "        names(temp_humid)[i]<-paste(c('humid.minus.', abs(-lag-i+1)), collapse='')\n",
    "        names(temp_wind)[i]<-paste(c('wind.minus.', abs(-lag-i+1)), collapse='')\n",
    "        names(temp_sun)[i]<-paste(c('sun.minus', abs(-lag-i+1)), collapse='')\n",
    "        }\n",
    "    return(cbind(dat2, temp_rain, temp_temp, temp_humid, temp_wind, temp_sun))\n",
    "}\n",
    "f<-cmpfun(f)"
   ]
  },
  {
   "cell_type": "code",
   "execution_count": 7,
   "id": "739948da",
   "metadata": {},
   "outputs": [
    {
     "data": {
      "text/html": [
       "<ol class=list-inline>\n",
       "\t<li>876</li>\n",
       "\t<li>31</li>\n",
       "</ol>\n"
      ],
      "text/latex": [
       "\\begin{enumerate*}\n",
       "\\item 876\n",
       "\\item 31\n",
       "\\end{enumerate*}\n"
      ],
      "text/markdown": [
       "1. 876\n",
       "2. 31\n",
       "\n",
       "\n"
      ],
      "text/plain": [
       "[1] 876  31"
      ]
     },
     "metadata": {},
     "output_type": "display_data"
    },
    {
     "data": {
      "text/html": [
       "<ol class=list-inline>\n",
       "\t<li>'village'</li>\n",
       "\t<li>'month.assigned'</li>\n",
       "\t<li>'year.assigned'</li>\n",
       "\t<li>'monthyear.assigned'</li>\n",
       "\t<li>'day'</li>\n",
       "\t<li>'month'</li>\n",
       "\t<li>'year'</li>\n",
       "\t<li>'date.collection'</li>\n",
       "\t<li>'site.id'</li>\n",
       "\t<li>'longitude'</li>\n",
       "\t<li>'latitude'</li>\n",
       "\t<li>'room.id'</li>\n",
       "\t<li>'num.persons'</li>\n",
       "\t<li>'num.persons.remark'</li>\n",
       "\t<li>'mosquito.net'</li>\n",
       "\t<li>'permanence'</li>\n",
       "\t<li>'count.m'</li>\n",
       "\t<li>'genotyped.m'</li>\n",
       "\t<li>'col.m'</li>\n",
       "\t<li>'gam.m'</li>\n",
       "\t<li>'arab.m'</li>\n",
       "\t<li>'count.f'</li>\n",
       "\t<li>'genotyped.f'</li>\n",
       "\t<li>'col.f'</li>\n",
       "\t<li>'gam.f'</li>\n",
       "\t<li>'arab.f'</li>\n",
       "\t<li>'rain.minus.0'</li>\n",
       "\t<li>'temp.minus.0'</li>\n",
       "\t<li>'humid.minus.0'</li>\n",
       "\t<li>'wind.minus.0'</li>\n",
       "\t<li>'sun.minus0'</li>\n",
       "</ol>\n"
      ],
      "text/latex": [
       "\\begin{enumerate*}\n",
       "\\item 'village'\n",
       "\\item 'month.assigned'\n",
       "\\item 'year.assigned'\n",
       "\\item 'monthyear.assigned'\n",
       "\\item 'day'\n",
       "\\item 'month'\n",
       "\\item 'year'\n",
       "\\item 'date.collection'\n",
       "\\item 'site.id'\n",
       "\\item 'longitude'\n",
       "\\item 'latitude'\n",
       "\\item 'room.id'\n",
       "\\item 'num.persons'\n",
       "\\item 'num.persons.remark'\n",
       "\\item 'mosquito.net'\n",
       "\\item 'permanence'\n",
       "\\item 'count.m'\n",
       "\\item 'genotyped.m'\n",
       "\\item 'col.m'\n",
       "\\item 'gam.m'\n",
       "\\item 'arab.m'\n",
       "\\item 'count.f'\n",
       "\\item 'genotyped.f'\n",
       "\\item 'col.f'\n",
       "\\item 'gam.f'\n",
       "\\item 'arab.f'\n",
       "\\item 'rain.minus.0'\n",
       "\\item 'temp.minus.0'\n",
       "\\item 'humid.minus.0'\n",
       "\\item 'wind.minus.0'\n",
       "\\item 'sun.minus0'\n",
       "\\end{enumerate*}\n"
      ],
      "text/markdown": [
       "1. 'village'\n",
       "2. 'month.assigned'\n",
       "3. 'year.assigned'\n",
       "4. 'monthyear.assigned'\n",
       "5. 'day'\n",
       "6. 'month'\n",
       "7. 'year'\n",
       "8. 'date.collection'\n",
       "9. 'site.id'\n",
       "10. 'longitude'\n",
       "11. 'latitude'\n",
       "12. 'room.id'\n",
       "13. 'num.persons'\n",
       "14. 'num.persons.remark'\n",
       "15. 'mosquito.net'\n",
       "16. 'permanence'\n",
       "17. 'count.m'\n",
       "18. 'genotyped.m'\n",
       "19. 'col.m'\n",
       "20. 'gam.m'\n",
       "21. 'arab.m'\n",
       "22. 'count.f'\n",
       "23. 'genotyped.f'\n",
       "24. 'col.f'\n",
       "25. 'gam.f'\n",
       "26. 'arab.f'\n",
       "27. 'rain.minus.0'\n",
       "28. 'temp.minus.0'\n",
       "29. 'humid.minus.0'\n",
       "30. 'wind.minus.0'\n",
       "31. 'sun.minus0'\n",
       "\n",
       "\n"
      ],
      "text/plain": [
       " [1] \"village\"            \"month.assigned\"     \"year.assigned\"     \n",
       " [4] \"monthyear.assigned\" \"day\"                \"month\"             \n",
       " [7] \"year\"               \"date.collection\"    \"site.id\"           \n",
       "[10] \"longitude\"          \"latitude\"           \"room.id\"           \n",
       "[13] \"num.persons\"        \"num.persons.remark\" \"mosquito.net\"      \n",
       "[16] \"permanence\"         \"count.m\"            \"genotyped.m\"       \n",
       "[19] \"col.m\"              \"gam.m\"              \"arab.m\"            \n",
       "[22] \"count.f\"            \"genotyped.f\"        \"col.f\"             \n",
       "[25] \"gam.f\"              \"arab.f\"             \"rain.minus.0\"      \n",
       "[28] \"temp.minus.0\"       \"humid.minus.0\"      \"wind.minus.0\"      \n",
       "[31] \"sun.minus0\"        "
      ]
     },
     "metadata": {},
     "output_type": "display_data"
    }
   ],
   "source": [
    "# LET'S TRY IT\n",
    "dat3<-f(lag=0, lag_length=1)\n",
    "dim(dat3)\n",
    "names(dat3)"
   ]
  },
  {
   "cell_type": "markdown",
   "id": "9ef62fd6",
   "metadata": {},
   "source": [
    "Now you can see that the count data matrix has more columns (there were 26 columns before). Those additional columns are the weather info. For example, rain.minus.0 is the rainfall on the day of sampling (hence minus.0 day). \n",
    "\n",
    "### With day 0 weather info\n",
    "\n",
    "Let us focus on day 0's weather info. Running some plots may help feel the relationship between the counts and the two weather variables of interest: "
   ]
  },
  {
   "cell_type": "code",
   "execution_count": 8,
   "id": "5a5c74e3",
   "metadata": {},
   "outputs": [
    {
     "data": {
      "image/png": "[encoded data removed]",
      "text/plain": [
       "plot without title"
      ]
     },
     "metadata": {},
     "output_type": "display_data"
    }
   ],
   "source": [
    "par(mfrow=c(2,2))\n",
    "plot(dat3$rain.minus.0, log(dat3$count.f+1), xlab='mean rainfall', ylab='log female count')\n",
    "plot(dat3$temp.minus.0, log(dat3$count.f+1), xlab='mean temperature', ylab='log female count')"
   ]
  },
  {
   "cell_type": "markdown",
   "id": "455286c7",
   "metadata": {},
   "source": [
    "I do not see any obvious trends, but let us build some models with these two weather variables. We build two models here: 1A with linear rainfall and temperature from day 0, 1B with quadratic terms. "
   ]
  },
  {
   "cell_type": "code",
   "execution_count": 11,
   "id": "556a6ac3",
   "metadata": {},
   "outputs": [
    {
     "name": "stderr",
     "output_type": "stream",
     "text": [
      "fixed-effect model matrix is rank deficient so dropping 6 columns / coefficients\n",
      "boundary (singular) fit: see ?isSingular\n",
      "\n",
      "Correlation matrix not shown by default, as p = 23 > 12.\n",
      "Use print(obj, correlation=TRUE)  or\n",
      "    vcov(obj)        if you need it\n",
      "\n"
     ]
    },
    {
     "data": {
      "text/plain": [
       "Generalized linear mixed model fit by maximum likelihood (Laplace\n",
       "  Approximation) [glmerMod]\n",
       " Family: poisson  ( log )\n",
       "Formula: \n",
       "count.f ~ (1 | year.assigned) + (1 | site.id) + (1 | overdispersion) +  \n",
       "    month.assigned * village + mosquito.net + persons.status +  \n",
       "    rain.minus.0 + temp.minus.0\n",
       "   Data: dat3\n",
       "Control: glmerControl(optimizer = \"bobyqa\", optCtrl = list(maxfun = 2e+05))\n",
       "\n",
       "     AIC      BIC   logLik deviance df.resid \n",
       "  5619.6   5742.7  -2783.8   5567.6      816 \n",
       "\n",
       "Scaled residuals: \n",
       "     Min       1Q   Median       3Q      Max \n",
       "-1.32735 -0.38645 -0.00894  0.14145  0.78250 \n",
       "\n",
       "Random effects:\n",
       " Groups         Name        Variance Std.Dev.\n",
       " overdispersion (Intercept) 1.1362   1.0659  \n",
       " site.id        (Intercept) 0.6159   0.7848  \n",
       " year.assigned  (Intercept) 0.0000   0.0000  \n",
       "Number of obs: 842, groups:  \n",
       "overdispersion, 842; site.id, 174; year.assigned, 3\n",
       "\n",
       "Fixed effects:\n",
       "                                       Estimate Std. Error z value Pr(>|z|)    \n",
       "(Intercept)                             2.22996    0.36442   6.119 9.41e-10 ***\n",
       "month.assigned6                         0.01332    0.28887   0.046  0.96322    \n",
       "month.assigned7                        -0.82176    0.33753  -2.435  0.01491 *  \n",
       "month.assigned8                        -0.32304    0.28679  -1.126  0.26000    \n",
       "month.assigned9                         0.11089    0.28245   0.393  0.69461    \n",
       "month.assigned10                       -0.14113    0.28930  -0.488  0.62567    \n",
       "villageBana village                     0.30094    0.36182   0.832  0.40556    \n",
       "villagePala                            -0.02790    0.38798  -0.072  0.94266    \n",
       "villageSouroukoudingan                 -0.70189    0.40803  -1.720  0.08539 .  \n",
       "mosquito.netYes                        -0.01905    0.17215  -0.111  0.91187    \n",
       "persons.statusLow                      -0.40705    0.11937  -3.410  0.00065 ***\n",
       "persons.statusNone                     -1.15310    0.50662  -2.276  0.02284 *  \n",
       "rain.minus.0                            0.08223    0.05236   1.570  0.11631    \n",
       "temp.minus.0                            0.28854    0.05473   5.272 1.35e-07 ***\n",
       "month.assigned6:villageBana village     0.19106    0.37654   0.507  0.61186    \n",
       "month.assigned7:villageBana village     0.15305    0.42325   0.362  0.71765    \n",
       "month.assigned8:villageBana village    -0.09858    0.37062  -0.266  0.79025    \n",
       "month.assigned9:villageBana village     0.24749    0.36895   0.671  0.50236    \n",
       "month.assigned10:villageBana village   -0.15514    0.36819  -0.421  0.67350    \n",
       "month.assigned6:villagePala            -1.22116    0.38423  -3.178  0.00148 ** \n",
       "month.assigned8:villagePala            -0.27967    0.39364  -0.710  0.47741    \n",
       "month.assigned6:villageSouroukoudingan -0.22569    0.42329  -0.533  0.59390    \n",
       "month.assigned8:villageSouroukoudingan  0.02460    0.40343   0.061  0.95137    \n",
       "---\n",
       "Signif. codes:  0 '***' 0.001 '**' 0.01 '*' 0.05 '.' 0.1 ' ' 1\n",
       "fit warnings:\n",
       "fixed-effect model matrix is rank deficient so dropping 6 columns / coefficients\n",
       "convergence code: 0\n",
       "boundary (singular) fit: see ?isSingular\n"
      ]
     },
     "metadata": {},
     "output_type": "display_data"
    }
   ],
   "source": [
    "# MODEL 1A. DAY 0 TEMPERATURE AND RAINFALL, LINEAR\n",
    "dat3<-f(lag=0, lag_length=1)\n",
    "overdispersion<-1:nrow(dat3)\n",
    "dat3$rain.minus.0<-scale(dat3$rain.minus.0) # SCALING\n",
    "dat3$temp.minus.0<-scale(dat3$temp.minus.0)\n",
    "m_1A<-glmer(count.f~(1|year.assigned)+(1|site.id)+(1|overdispersion)+month.assigned*village+mosquito.net+persons.status\n",
    "            +rain.minus.0+temp.minus.0, \n",
    "             family='poisson', data=dat3, \n",
    "             control=glmerControl(optimizer=\"bobyqa\",optCtrl=list(maxfun=2e5)))\n",
    "summary(m_1A, correlation=FALSE)"
   ]
  },
  {
   "cell_type": "code",
   "execution_count": 12,
   "id": "b94b1171",
   "metadata": {},
   "outputs": [
    {
     "name": "stderr",
     "output_type": "stream",
     "text": [
      "fixed-effect model matrix is rank deficient so dropping 6 columns / coefficients\n",
      "boundary (singular) fit: see ?isSingular\n",
      "\n",
      "Correlation matrix not shown by default, as p = 25 > 12.\n",
      "Use print(obj, correlation=TRUE)  or\n",
      "    vcov(obj)        if you need it\n",
      "\n"
     ]
    },
    {
     "data": {
      "text/plain": [
       "Generalized linear mixed model fit by maximum likelihood (Laplace\n",
       "  Approximation) [glmerMod]\n",
       " Family: poisson  ( log )\n",
       "Formula: \n",
       "count.f ~ (1 | year.assigned) + (1 | site.id) + (1 | overdispersion) +  \n",
       "    month.assigned * village + mosquito.net + persons.status +  \n",
       "    rain.minus.0 + I(rain.minus.0^2) + temp.minus.0 + I(temp.minus.0^2)\n",
       "   Data: dat3\n",
       "Control: glmerControl(optimizer = \"bobyqa\", optCtrl = list(maxfun = 2e+05))\n",
       "\n",
       "     AIC      BIC   logLik deviance df.resid \n",
       "  5623.2   5755.8  -2783.6   5567.2      814 \n",
       "\n",
       "Scaled residuals: \n",
       "     Min       1Q   Median       3Q      Max \n",
       "-1.32114 -0.38260 -0.00605  0.14157  0.77649 \n",
       "\n",
       "Random effects:\n",
       " Groups         Name        Variance Std.Dev.\n",
       " overdispersion (Intercept) 1.1346   1.0652  \n",
       " site.id        (Intercept) 0.6175   0.7858  \n",
       " year.assigned  (Intercept) 0.0000   0.0000  \n",
       "Number of obs: 842, groups:  \n",
       "overdispersion, 842; site.id, 174; year.assigned, 3\n",
       "\n",
       "Fixed effects:\n",
       "                                       Estimate Std. Error z value Pr(>|z|)    \n",
       "(Intercept)                             2.25558    0.36722   6.142 8.13e-10 ***\n",
       "month.assigned6                        -0.02326    0.29636  -0.078  0.93745    \n",
       "month.assigned7                        -0.82484    0.33757  -2.444  0.01455 *  \n",
       "month.assigned8                        -0.33398    0.28726  -1.163  0.24496    \n",
       "month.assigned9                         0.09927    0.28304   0.351  0.72579    \n",
       "month.assigned10                       -0.13944    0.28952  -0.482  0.63007    \n",
       "villageBana village                     0.31410    0.36480   0.861  0.38923    \n",
       "villagePala                            -0.02463    0.38826  -0.063  0.94942    \n",
       "villageSouroukoudingan                 -0.75154    0.41618  -1.806  0.07095 .  \n",
       "mosquito.netYes                        -0.01547    0.17223  -0.090  0.92843    \n",
       "persons.statusLow                      -0.40474    0.11941  -3.390  0.00070 ***\n",
       "persons.statusNone                     -1.15388    0.50668  -2.277  0.02277 *  \n",
       "rain.minus.0                            0.14500    0.11360   1.276  0.20180    \n",
       "I(rain.minus.0^2)                      -0.01148    0.02133  -0.538  0.59042    \n",
       "temp.minus.0                            0.29216    0.05730   5.099 3.42e-07 ***\n",
       "I(temp.minus.0^2)                      -0.01187    0.04190  -0.283  0.77692    \n",
       "month.assigned6:villageBana village     0.20240    0.37729   0.536  0.59164    \n",
       "month.assigned7:villageBana village     0.13588    0.42668   0.318  0.75013    \n",
       "month.assigned8:villageBana village    -0.11067    0.37216  -0.297  0.76618    \n",
       "month.assigned9:villageBana village     0.23209    0.36980   0.628  0.53026    \n",
       "month.assigned10:villageBana village   -0.17720    0.37048  -0.478  0.63243    \n",
       "month.assigned6:villagePala            -1.15928    0.39843  -2.910  0.00362 ** \n",
       "month.assigned8:villagePala            -0.27409    0.39397  -0.696  0.48661    \n",
       "month.assigned6:villageSouroukoudingan -0.15521    0.44084  -0.352  0.72477    \n",
       "month.assigned8:villageSouroukoudingan  0.08094    0.41694   0.194  0.84607    \n",
       "---\n",
       "Signif. codes:  0 '***' 0.001 '**' 0.01 '*' 0.05 '.' 0.1 ' ' 1\n",
       "fit warnings:\n",
       "fixed-effect model matrix is rank deficient so dropping 6 columns / coefficients\n",
       "convergence code: 0\n",
       "boundary (singular) fit: see ?isSingular\n"
      ]
     },
     "metadata": {},
     "output_type": "display_data"
    }
   ],
   "source": [
    "# MODEL 1B. DAY 0 TEMPERATURE AND RAINFALL, ADD QUADRATIC VIA I(rain.minus.0^2)\n",
    "dat3<-f(lag=0, lag_length=1)\n",
    "overdispersion<-1:nrow(dat3)\n",
    "dat3$rain.minus.0<-scale(dat3$rain.minus.0) # SCALING\n",
    "dat3$temp.minus.0<-scale(dat3$temp.minus.0)\n",
    "m_1B<-glmer(count.f~(1|year.assigned)+(1|site.id)+(1|overdispersion)+month.assigned*village+mosquito.net+persons.status\n",
    "            +rain.minus.0+I(rain.minus.0^2)+temp.minus.0+I(temp.minus.0^2), \n",
    "             family='poisson', data=dat3, \n",
    "             control=glmerControl(optimizer=\"bobyqa\",optCtrl=list(maxfun=2e5)))\n",
    "summary(m_1B, correlation=FALSE)"
   ]
  },
  {
   "cell_type": "markdown",
   "id": "528196ed",
   "metadata": {},
   "source": [
    "We have three observations here: First, after including day 0's rainfall and temperature we can get rid of the year effect, as its variance is estimated to be 0. Second, day o's temperature seems to a significant covariate. Third, we do not need the quadratic terms. \n",
    "\n",
    "The scaling of variables (scale them to have mean zero and unit variance) is only a mathematical trick to help convergence. \n",
    "\n",
    "### Include lagged rainfall as covariate\n",
    "\n",
    "We now try to build more complex models which use the sum of rainfall in the previous days as a covariate. To be exact, we want to use the sum of rainfall between i and (i+j-1) days ago as the covariate. To find the best values for i and j, we run many glms with different combinations, and choose the one with the highest log-likelihood. "
   ]
  },
  {
   "cell_type": "code",
   "execution_count": 18,
   "id": "2c3943e8",
   "metadata": {},
   "outputs": [
    {
     "name": "stdout",
     "output_type": "stream",
     "text": [
      "The 27-th column is rain.minus.0"
     ]
    },
    {
     "data": {
      "text/html": [
       "<ol class=list-inline>\n",
       "\t<li>30</li>\n",
       "\t<li>21</li>\n",
       "</ol>\n"
      ],
      "text/latex": [
       "\\begin{enumerate*}\n",
       "\\item 30\n",
       "\\item 21\n",
       "\\end{enumerate*}\n"
      ],
      "text/markdown": [
       "1. 30\n",
       "2. 21\n",
       "\n",
       "\n"
      ],
      "text/plain": [
       "[1] 30 21"
      ]
     },
     "metadata": {},
     "output_type": "display_data"
    }
   ],
   "source": [
    "dat3<-f(lag=0, lag_length=75)\n",
    "#dim(dat3)\n",
    "cat(paste('The 27-th column is', names(dat3)[27])) # MAKE SURE THE 27-TH COLUMN IS rain.minus.0\n",
    "cl<-makeCluster(46, outfile='log.txt') # MULTIPLE CPU\n",
    "registerDoParallel(cl)\n",
    "result_rain<-foreach (i=1:30, .combine=rbind, .packages='lme4') %dopar%\n",
    "    {\n",
    "    setMKLthreads(1)\n",
    "    temp_result<-rep(NA, 21)\n",
    "    for (j in 1:length(temp_result))\n",
    "        {\n",
    "        total.rain<-apply(as.matrix(dat3[,(i+27):(i+27+j-1)]), 1, sum, na.rm=T)\n",
    "        total.rain<-scale(total.rain) # SCALE TO CENTRE\n",
    "        dat3$rain.minus.0<-scale(dat3$rain.minus.0)\n",
    "        dat3$temp.minus.0<-scale(dat3$temp.minus.0)\n",
    "        overdispersion<-1:nrow(dat3)\n",
    "        m<-NA #RESET m\n",
    "        m<-glmer(count.f~(1|site.id)+(1|overdispersion)+village*month.assigned+mosquito.net+persons.status\n",
    "             +rain.minus.0+temp.minus.0+total.rain, \n",
    "            data=dat3, family='poisson', \n",
    "            control=glmerControl(optimizer=\"bobyqa\"))\n",
    "        temp_result[j]<-summary(m)$logLik\n",
    "        cat(sprintf(\"%i, %i\\n\", i, j))\n",
    "        }\n",
    "    return(temp_result)\n",
    "    }\n",
    "stopCluster(cl)\n",
    "dim(result_rain)\n",
    "invisible(gc())"
   ]
  },
  {
   "cell_type": "markdown",
   "id": "0a46eadc",
   "metadata": {},
   "source": [
    "It takes a while to run hundreds of glms. Now we plot the maximised log-likelihood against i and j in a 3D plot. We also would like to know which combination of i and j gives the highest log-likelihood. "
   ]
  },
  {
   "cell_type": "code",
   "execution_count": 23,
   "id": "6e939910",
   "metadata": {},
   "outputs": [
    {
     "data": {
      "text/html": [
       "-2776.8470954718"
      ],
      "text/latex": [
       "-2776.8470954718"
      ],
      "text/markdown": [
       "-2776.8470954718"
      ],
      "text/plain": [
       "[1] -2776.847"
      ]
     },
     "metadata": {},
     "output_type": "display_data"
    },
    {
     "data": {
      "text/html": [
       "<table>\n",
       "<thead><tr><th></th><th scope=col>row</th><th scope=col>col</th></tr></thead>\n",
       "<tbody>\n",
       "\t<tr><th scope=row>result.3</th><td>3</td><td>1</td></tr>\n",
       "</tbody>\n",
       "</table>\n"
      ],
      "text/latex": [
       "\\begin{tabular}{r|ll}\n",
       "  & row & col\\\\\n",
       "\\hline\n",
       "\tresult.3 & 3 & 1\\\\\n",
       "\\end{tabular}\n"
      ],
      "text/markdown": [
       "\n",
       "| <!--/--> | row | col |\n",
       "|---|---|---|\n",
       "| result.3 | 3 | 1 |\n",
       "\n"
      ],
      "text/plain": [
       "         row col\n",
       "result.3 3   1  "
      ]
     },
     "metadata": {},
     "output_type": "display_data"
    },
    {
     "data": {
      "image/png": "[encoded data removed]",
      "text/plain": [
       "plot without title"
      ]
     },
     "metadata": {},
     "output_type": "display_data"
    }
   ],
   "source": [
    "persp(1:nrow(result_rain), 1:ncol(result_rain), result_rain, theta=135, phi=30, \n",
    "        xlab='start lag (i)', ylab='number of lags (j)', zlab='maximised log-likelihood (higher the better)')\n",
    "# HIGHEST LOG-LIKE\n",
    "max(result_rain, na.rm=T)\n",
    "# THE VALUE OF i AND j GIVES THE HIGHEST LOG-LIKE\n",
    "which(result_rain==max(result_rain, na.rm=T), arr.ind=TRUE)"
   ]
  },
  {
   "cell_type": "markdown",
   "id": "456bfbbe",
   "metadata": {},
   "source": [
    "The highest log-likelihood is attained when i=3 and j=1 (i.e. the rainfall 3 days ago). \n",
    "\n",
    "Ace suggested to use a Gaussian-like weighted sum for rainfall. "
   ]
  },
  {
   "cell_type": "code",
   "execution_count": 20,
   "id": "b6b32249",
   "metadata": {},
   "outputs": [
    {
     "name": "stdout",
     "output_type": "stream",
     "text": [
      "The 27-th column is rain.minus.0"
     ]
    },
    {
     "data": {
      "text/html": [
       "<ol class=list-inline>\n",
       "\t<li>30</li>\n",
       "\t<li>10</li>\n",
       "</ol>\n"
      ],
      "text/latex": [
       "\\begin{enumerate*}\n",
       "\\item 30\n",
       "\\item 10\n",
       "\\end{enumerate*}\n"
      ],
      "text/markdown": [
       "1. 30\n",
       "2. 10\n",
       "\n",
       "\n"
      ],
      "text/plain": [
       "[1] 30 10"
      ]
     },
     "metadata": {},
     "output_type": "display_data"
    }
   ],
   "source": [
    "dat3<-f(lag=0, lag_length=75)\n",
    "cat(paste('The 27-th column is', names(dat3)[27])) # MAKE SURE THE 27-TH COLUMN IS rain.minus.0\n",
    "cl<-makeCluster(46, outfile='log.txt') # MULTIPLE CPU\n",
    "registerDoParallel(cl)\n",
    "result_rain_gaussian<-foreach (i=1:30, .combine=rbind, .packages='lme4') %dopar%\n",
    "    {\n",
    "    setMKLthreads(1)\n",
    "    sd<-seq(0.4, 4, 0.4) # MAX SD CONSIDERED IS 4\n",
    "    temp_result<-rep(NA, length(sd))\n",
    "    for (j in 1:length(temp_result))\n",
    "        {\n",
    "        # FIGURE OUT THE GAUSSIAN MAX AND MIN, CUT-OFF IS 3*SD\n",
    "        lower<-floor(i-3*sd[j])\n",
    "        if (lower<1) {lower<-1} # CAN'T HAVE NEGATIVE LAGS\n",
    "        upper<-ceiling(i+3*sd[j])\n",
    "        temp<-dnorm(lower:upper, mean=i, sd=sd[j])\n",
    "        weight<-temp/sum(temp) # NORMALISE WEIGHTS, SUM TO ONE\n",
    "        temp.total.rain<-as.matrix(dat3[,(lower+27):(upper+27)])\n",
    "        total.rain<-as.vector(temp.total.rain%*%weight)\n",
    "        total.rain<-scale(total.rain) # SCALE TO CENTRE\n",
    "        dat3$rain.minus.0<-scale(dat3$rain.minus.0)\n",
    "        dat3$temp.minus.0<-scale(dat3$temp.minus.0)\n",
    "        overdispersion<-1:nrow(dat3)\n",
    "        m<-NA\n",
    "        # FAIL CASES OCCUR SO USE TRY\n",
    "        m<-glmer(count.f~(1|site.id)+(1|overdispersion)+village+month.assigned+mosquito.net+persons.status\n",
    "             +rain.minus.0+temp.minus.0+total.rain, \n",
    "            data=dat3, family='poisson', \n",
    "            control=glmerControl(optimizer=\"bobyqa\"))\n",
    "        temp_result[j]<-summary(m)$logLik\n",
    "        cat(sprintf(\"%i, %i\\n\", i, j))\n",
    "        }\n",
    "    return(temp_result)\n",
    "    }\n",
    "stopCluster(cl)\n",
    "dim(result_rain_gaussian)\n",
    "invisible(gc())"
   ]
  },
  {
   "cell_type": "code",
   "execution_count": null,
   "id": "d582dbcd",
   "metadata": {},
   "outputs": [],
   "source": []
  },
  {
   "cell_type": "code",
   "execution_count": 24,
   "id": "5dec0ec5",
   "metadata": {},
   "outputs": [
    {
     "data": {
      "text/html": [
       "-2789.54560418455"
      ],
      "text/latex": [
       "-2789.54560418455"
      ],
      "text/markdown": [
       "-2789.54560418455"
      ],
      "text/plain": [
       "[1] -2789.546"
      ]
     },
     "metadata": {},
     "output_type": "display_data"
    },
    {
     "data": {
      "text/html": [
       "<table>\n",
       "<thead><tr><th></th><th scope=col>row</th><th scope=col>col</th></tr></thead>\n",
       "<tbody>\n",
       "\t<tr><th scope=row>result.16</th><td>16</td><td>1 </td></tr>\n",
       "</tbody>\n",
       "</table>\n"
      ],
      "text/latex": [
       "\\begin{tabular}{r|ll}\n",
       "  & row & col\\\\\n",
       "\\hline\n",
       "\tresult.16 & 16 & 1 \\\\\n",
       "\\end{tabular}\n"
      ],
      "text/markdown": [
       "\n",
       "| <!--/--> | row | col |\n",
       "|---|---|---|\n",
       "| result.16 | 16 | 1  |\n",
       "\n"
      ],
      "text/plain": [
       "          row col\n",
       "result.16 16  1  "
      ]
     },
     "metadata": {},
     "output_type": "display_data"
    },
    {
     "data": {
      "image/png": "[encoded data removed]",
      "text/plain": [
       "plot without title"
      ]
     },
     "metadata": {},
     "output_type": "display_data"
    }
   ],
   "source": [
    "persp(1:nrow(result_rain_gaussian), 1:ncol(result_rain_gaussian), result_rain_gaussian, theta=135, phi=30, \n",
    "        xlab='mean day', ylab='sd day', zlab='maximised log-likelihood (higher the better)')\n",
    "max(result_rain_gaussian, na.rm=T)\n",
    "which(result_rain_gaussian==max(result_rain_gaussian, na.rm=T), arr.ind=TRUE)"
   ]
  },
  {
   "cell_type": "markdown",
   "id": "cd29d6b7",
   "metadata": {},
   "source": [
    "Including past rainfall as a covariate increases explanatory power. Although it is a signficant term I would not say there is a drastic improvement. The results above differ from what I reported before because different subsets of data were used. \n",
    "\n",
    "### Lagged rainfall + log male count"
   ]
  },
  {
   "cell_type": "code",
   "execution_count": 25,
   "id": "0f8f3e9d",
   "metadata": {},
   "outputs": [
    {
     "name": "stdout",
     "output_type": "stream",
     "text": [
      "The 27-th column is rain.minus.0"
     ]
    },
    {
     "data": {
      "text/html": [
       "<ol class=list-inline>\n",
       "\t<li>30</li>\n",
       "\t<li>21</li>\n",
       "</ol>\n"
      ],
      "text/latex": [
       "\\begin{enumerate*}\n",
       "\\item 30\n",
       "\\item 21\n",
       "\\end{enumerate*}\n"
      ],
      "text/markdown": [
       "1. 30\n",
       "2. 21\n",
       "\n",
       "\n"
      ],
      "text/plain": [
       "[1] 30 21"
      ]
     },
     "metadata": {},
     "output_type": "display_data"
    }
   ],
   "source": [
    "dat3<-f(lag=0, lag_length=75)\n",
    "#dim(dat3)\n",
    "cat(paste('The 27-th column is', names(dat3)[27])) # MAKE SURE THE 27-TH COLUMN IS rain.minus.0\n",
    "cl<-makeCluster(46, outfile='log.txt') # MULTIPLE CPU\n",
    "registerDoParallel(cl)\n",
    "result_rain2<-foreach (i=1:30, .combine=rbind, .packages='lme4') %dopar%\n",
    "    {\n",
    "    setMKLthreads(1)\n",
    "    temp_result<-rep(NA, 21)\n",
    "    for (j in 1:length(temp_result))\n",
    "        {\n",
    "        total.rain<-apply(as.matrix(dat3[,(i+27):(i+27+j-1)]), 1, sum, na.rm=T)\n",
    "        total.rain<-scale(total.rain) # SCALE TO CENTRE\n",
    "        dat3$rain.minus.0<-scale(dat3$rain.minus.0)\n",
    "        dat3$temp.minus.0<-scale(dat3$temp.minus.0)\n",
    "        log.count.m<-log(dat3$count.m+1)\n",
    "        overdispersion<-1:nrow(dat3)\n",
    "        m<-NA #RESET m\n",
    "        m<-glmer(count.f~(1|site.id)+(1|overdispersion)+village*month.assigned+mosquito.net+persons.status\n",
    "             +rain.minus.0+temp.minus.0+total.rain+log.count.m, \n",
    "            data=dat3, family='poisson', \n",
    "            control=glmerControl(optimizer=\"bobyqa\"))\n",
    "        temp_result[j]<-summary(m)$logLik\n",
    "        cat(sprintf(\"%i, %i\\n\", i, j))\n",
    "        }\n",
    "    return(temp_result)\n",
    "    }\n",
    "stopCluster(cl)\n",
    "dim(result_rain2)\n",
    "invisible(gc())"
   ]
  },
  {
   "cell_type": "code",
   "execution_count": 26,
   "id": "61ae9eda",
   "metadata": {},
   "outputs": [
    {
     "data": {
      "text/html": [
       "-2643.98117880304"
      ],
      "text/latex": [
       "-2643.98117880304"
      ],
      "text/markdown": [
       "-2643.98117880304"
      ],
      "text/plain": [
       "[1] -2643.981"
      ]
     },
     "metadata": {},
     "output_type": "display_data"
    },
    {
     "data": {
      "text/html": [
       "<table>\n",
       "<thead><tr><th></th><th scope=col>row</th><th scope=col>col</th></tr></thead>\n",
       "<tbody>\n",
       "\t<tr><th scope=row>result.11</th><td>11</td><td>1 </td></tr>\n",
       "</tbody>\n",
       "</table>\n"
      ],
      "text/latex": [
       "\\begin{tabular}{r|ll}\n",
       "  & row & col\\\\\n",
       "\\hline\n",
       "\tresult.11 & 11 & 1 \\\\\n",
       "\\end{tabular}\n"
      ],
      "text/markdown": [
       "\n",
       "| <!--/--> | row | col |\n",
       "|---|---|---|\n",
       "| result.11 | 11 | 1  |\n",
       "\n"
      ],
      "text/plain": [
       "          row col\n",
       "result.11 11  1  "
      ]
     },
     "metadata": {},
     "output_type": "display_data"
    },
    {
     "data": {
      "image/png": "[encoded data removed]",
      "text/plain": [
       "plot without title"
      ]
     },
     "metadata": {},
     "output_type": "display_data"
    }
   ],
   "source": [
    "persp(1:nrow(result_rain2), 1:ncol(result_rain2), result_rain2, theta=135, phi=30, \n",
    "        xlab='start lag (i)', ylab='number of lags (j)', zlab='maximised log-likelihood (higher the better)')\n",
    "# HIGHEST LOG-LIKE\n",
    "max(result_rain2, na.rm=T)\n",
    "# THE VALUE OF i AND j GIVES THE HIGHEST LOG-LIKE\n",
    "which(result_rain2==max(result_rain2, na.rm=T), arr.ind=TRUE)"
   ]
  },
  {
   "cell_type": "markdown",
   "id": "15626d29",
   "metadata": {},
   "source": [
    "A different result is obtained when log male count is also included. It is safe to say that log male count is a more useful covariate as it increases the log-likelihood by 150. "
   ]
  }
 ],
 "metadata": {
  "kernelspec": {
   "display_name": "R",
   "language": "R",
   "name": "ir"
  },
  "language_info": {
   "codemirror_mode": "r",
   "file_extension": ".r",
   "mimetype": "text/x-r-source",
   "name": "R",
   "pygments_lexer": "r",
   "version": "3.5.3"
  }
 },
 "nbformat": 4,
 "nbformat_minor": 5
}
