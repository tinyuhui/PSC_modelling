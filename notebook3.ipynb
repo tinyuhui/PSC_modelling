{
 "cells": [
  {
   "cell_type": "markdown",
   "id": "eea3ed96",
   "metadata": {},
   "source": [
    "## Notebook 3.\n",
    "\n",
    "This notebook aims to incorporate weather info as covariates to further enrich our models.\n",
    "\n",
    "The preparation of the daily weather info was done in a separate notebook. Weather variables including min/max/mean temperature, rainfall, wind speed, wind direction, gust speed, humidity, sunlight intensity are captured. We had three weather stations: Bana, Pala, Souroukoudingan. Bana market and Bana village uses the same weather info.\n",
    "\n",
    "We begin by loading the required datasets and packages into the currect R session. "
   ]
  },
  {
   "cell_type": "code",
   "execution_count": 1,
   "id": "0b30c5f8",
   "metadata": {},
   "outputs": [
    {
     "name": "stderr",
     "output_type": "stream",
     "text": [
      "Loading required package: compiler\n"
     ]
    },
    {
     "data": {
      "text/html": [
       "3"
      ],
      "text/latex": [
       "3"
      ],
      "text/markdown": [
       "3"
      ],
      "text/plain": [
       "[1] 3"
      ]
     },
     "metadata": {},
     "output_type": "display_data"
    },
    {
     "name": "stderr",
     "output_type": "stream",
     "text": [
      "Loading required package: doParallel\n",
      "Loading required package: foreach\n",
      "Loading required package: iterators\n",
      "Loading required package: parallel\n",
      "Loading required package: lme4\n",
      "Loading required package: Matrix\n",
      "Loading required package: lmerTest\n",
      "\n",
      "Attaching package: 'lmerTest'\n",
      "\n",
      "The following object is masked from 'package:lme4':\n",
      "\n",
      "    lmer\n",
      "\n",
      "The following object is masked from 'package:stats':\n",
      "\n",
      "    step\n",
      "\n",
      "Loading required package: MASS\n"
     ]
    },
    {
     "data": {
      "text/html": [
       "<ol class=list-inline>\n",
       "\t<li>'BV_weather'</li>\n",
       "\t<li>'dat1'</li>\n",
       "\t<li>'PL_weather'</li>\n",
       "\t<li>'SK_weather'</li>\n",
       "</ol>\n"
      ],
      "text/latex": [
       "\\begin{enumerate*}\n",
       "\\item 'BV\\_weather'\n",
       "\\item 'dat1'\n",
       "\\item 'PL\\_weather'\n",
       "\\item 'SK\\_weather'\n",
       "\\end{enumerate*}\n"
      ],
      "text/markdown": [
       "1. 'BV_weather'\n",
       "2. 'dat1'\n",
       "3. 'PL_weather'\n",
       "4. 'SK_weather'\n",
       "\n",
       "\n"
      ],
      "text/plain": [
       "[1] \"BV_weather\" \"dat1\"       \"PL_weather\" \"SK_weather\""
      ]
     },
     "metadata": {},
     "output_type": "display_data"
    }
   ],
   "source": [
    "# LOAD PACKAGES\n",
    "require(compiler)\n",
    "enableJIT(3)\n",
    "require(doParallel)\n",
    "require(lme4)\n",
    "require(lmerTest)\n",
    "require(MASS)\n",
    "setMKLthreads(22)\n",
    "# LOAD COUNT DATASET\n",
    "load('Per house data PSC 2012 to 2019 polish2.RData')\n",
    "# LOAD WEATHER INFO DATASETS\n",
    "load('BF_weather.RData')\n",
    "ls()"
   ]
  },
  {
   "cell_type": "code",
   "execution_count": 2,
   "id": "3e59328b",
   "metadata": {},
   "outputs": [
    {
     "data": {
      "text/html": [
       "<table>\n",
       "<thead><tr><th scope=col>date</th><th scope=col>meantemp.c</th><th scope=col>maxtemp.c</th><th scope=col>mintemp.c</th><th scope=col>humidity.percent</th><th scope=col>winddir.deg</th><th scope=col>windspeed.kmhr</th><th scope=col>gustspeed.kmhr</th><th scope=col>rain.mm</th><th scope=col>sun.wma2</th></tr></thead>\n",
       "<tbody>\n",
       "\t<tr><td>2014-07-31</td><td>27.79938  </td><td>32.742    </td><td>24.098    </td><td>78.11377  </td><td>204.6935  </td><td>0.6704348 </td><td>3.153841  </td><td>0.0       </td><td>224.0761  </td></tr>\n",
       "\t<tr><td>2014-08-01</td><td>26.46952  </td><td>32.536    </td><td>22.633    </td><td>83.48438  </td><td>191.1722  </td><td>1.6741667 </td><td>6.360660  </td><td>5.4       </td><td>206.9358  </td></tr>\n",
       "\t<tr><td>2014-08-02</td><td>26.09427  </td><td>31.459    </td><td>21.628    </td><td>80.71215  </td><td>188.3132  </td><td>0.9368403 </td><td>5.585556  </td><td>0.0       </td><td>236.3309  </td></tr>\n",
       "\t<tr><td>2014-08-03</td><td>25.43908  </td><td>31.689    </td><td>21.676    </td><td>83.75208  </td><td>187.1885  </td><td>1.1211806 </td><td>5.052535  </td><td>0.2       </td><td>199.4365  </td></tr>\n",
       "\t<tr><td>2014-08-04</td><td>25.57674  </td><td>30.874    </td><td>23.136    </td><td>85.59410  </td><td>207.0135  </td><td>1.0736111 </td><td>5.181632  </td><td>1.0       </td><td>158.8788  </td></tr>\n",
       "\t<tr><td>2014-08-05</td><td>25.20164  </td><td>31.663    </td><td>22.417    </td><td>86.57118  </td><td>217.7208  </td><td>0.9179167 </td><td>5.496701  </td><td>2.2       </td><td>215.0361  </td></tr>\n",
       "</tbody>\n",
       "</table>\n"
      ],
      "text/latex": [
       "\\begin{tabular}{r|llllllllll}\n",
       " date & meantemp.c & maxtemp.c & mintemp.c & humidity.percent & winddir.deg & windspeed.kmhr & gustspeed.kmhr & rain.mm & sun.wma2\\\\\n",
       "\\hline\n",
       "\t 2014-07-31 & 27.79938   & 32.742     & 24.098     & 78.11377   & 204.6935   & 0.6704348  & 3.153841   & 0.0        & 224.0761  \\\\\n",
       "\t 2014-08-01 & 26.46952   & 32.536     & 22.633     & 83.48438   & 191.1722   & 1.6741667  & 6.360660   & 5.4        & 206.9358  \\\\\n",
       "\t 2014-08-02 & 26.09427   & 31.459     & 21.628     & 80.71215   & 188.3132   & 0.9368403  & 5.585556   & 0.0        & 236.3309  \\\\\n",
       "\t 2014-08-03 & 25.43908   & 31.689     & 21.676     & 83.75208   & 187.1885   & 1.1211806  & 5.052535   & 0.2        & 199.4365  \\\\\n",
       "\t 2014-08-04 & 25.57674   & 30.874     & 23.136     & 85.59410   & 207.0135   & 1.0736111  & 5.181632   & 1.0        & 158.8788  \\\\\n",
       "\t 2014-08-05 & 25.20164   & 31.663     & 22.417     & 86.57118   & 217.7208   & 0.9179167  & 5.496701   & 2.2        & 215.0361  \\\\\n",
       "\\end{tabular}\n"
      ],
      "text/markdown": [
       "\n",
       "| date | meantemp.c | maxtemp.c | mintemp.c | humidity.percent | winddir.deg | windspeed.kmhr | gustspeed.kmhr | rain.mm | sun.wma2 |\n",
       "|---|---|---|---|---|---|---|---|---|---|\n",
       "| 2014-07-31 | 27.79938   | 32.742     | 24.098     | 78.11377   | 204.6935   | 0.6704348  | 3.153841   | 0.0        | 224.0761   |\n",
       "| 2014-08-01 | 26.46952   | 32.536     | 22.633     | 83.48438   | 191.1722   | 1.6741667  | 6.360660   | 5.4        | 206.9358   |\n",
       "| 2014-08-02 | 26.09427   | 31.459     | 21.628     | 80.71215   | 188.3132   | 0.9368403  | 5.585556   | 0.0        | 236.3309   |\n",
       "| 2014-08-03 | 25.43908   | 31.689     | 21.676     | 83.75208   | 187.1885   | 1.1211806  | 5.052535   | 0.2        | 199.4365   |\n",
       "| 2014-08-04 | 25.57674   | 30.874     | 23.136     | 85.59410   | 207.0135   | 1.0736111  | 5.181632   | 1.0        | 158.8788   |\n",
       "| 2014-08-05 | 25.20164   | 31.663     | 22.417     | 86.57118   | 217.7208   | 0.9179167  | 5.496701   | 2.2        | 215.0361   |\n",
       "\n"
      ],
      "text/plain": [
       "  date       meantemp.c maxtemp.c mintemp.c humidity.percent winddir.deg\n",
       "1 2014-07-31 27.79938   32.742    24.098    78.11377         204.6935   \n",
       "2 2014-08-01 26.46952   32.536    22.633    83.48438         191.1722   \n",
       "3 2014-08-02 26.09427   31.459    21.628    80.71215         188.3132   \n",
       "4 2014-08-03 25.43908   31.689    21.676    83.75208         187.1885   \n",
       "5 2014-08-04 25.57674   30.874    23.136    85.59410         207.0135   \n",
       "6 2014-08-05 25.20164   31.663    22.417    86.57118         217.7208   \n",
       "  windspeed.kmhr gustspeed.kmhr rain.mm sun.wma2\n",
       "1 0.6704348      3.153841       0.0     224.0761\n",
       "2 1.6741667      6.360660       5.4     206.9358\n",
       "3 0.9368403      5.585556       0.0     236.3309\n",
       "4 1.1211806      5.052535       0.2     199.4365\n",
       "5 1.0736111      5.181632       1.0     158.8788\n",
       "6 0.9179167      5.496701       2.2     215.0361"
      ]
     },
     "metadata": {},
     "output_type": "display_data"
    },
    {
     "data": {
      "text/html": [
       "<ol class=list-inline>\n",
       "\t<li>'date'</li>\n",
       "\t<li>'meantemp.c'</li>\n",
       "\t<li>'maxtemp.c'</li>\n",
       "\t<li>'mintemp.c'</li>\n",
       "\t<li>'humidity.percent'</li>\n",
       "\t<li>'winddir.deg'</li>\n",
       "\t<li>'windspeed.kmhr'</li>\n",
       "\t<li>'gustspeed.kmhr'</li>\n",
       "\t<li>'rain.mm'</li>\n",
       "\t<li>'sun.wma2'</li>\n",
       "</ol>\n"
      ],
      "text/latex": [
       "\\begin{enumerate*}\n",
       "\\item 'date'\n",
       "\\item 'meantemp.c'\n",
       "\\item 'maxtemp.c'\n",
       "\\item 'mintemp.c'\n",
       "\\item 'humidity.percent'\n",
       "\\item 'winddir.deg'\n",
       "\\item 'windspeed.kmhr'\n",
       "\\item 'gustspeed.kmhr'\n",
       "\\item 'rain.mm'\n",
       "\\item 'sun.wma2'\n",
       "\\end{enumerate*}\n"
      ],
      "text/markdown": [
       "1. 'date'\n",
       "2. 'meantemp.c'\n",
       "3. 'maxtemp.c'\n",
       "4. 'mintemp.c'\n",
       "5. 'humidity.percent'\n",
       "6. 'winddir.deg'\n",
       "7. 'windspeed.kmhr'\n",
       "8. 'gustspeed.kmhr'\n",
       "9. 'rain.mm'\n",
       "10. 'sun.wma2'\n",
       "\n",
       "\n"
      ],
      "text/plain": [
       " [1] \"date\"             \"meantemp.c\"       \"maxtemp.c\"        \"mintemp.c\"       \n",
       " [5] \"humidity.percent\" \"winddir.deg\"      \"windspeed.kmhr\"   \"gustspeed.kmhr\"  \n",
       " [9] \"rain.mm\"          \"sun.wma2\"        "
      ]
     },
     "metadata": {},
     "output_type": "display_data"
    }
   ],
   "source": [
    "# LOOK AT THE FIRST FEW ROWS OF WEATHER INFO\n",
    "head(BV_weather)\n",
    "# VARIABLE NAMES\n",
    "names(BV_weather)"
   ]
  },
  {
   "cell_type": "markdown",
   "id": "1c3f411e",
   "metadata": {},
   "source": [
    "The count dataset is called dat1. This time we also have three weather info files BV_weather, PL_weather, SK_weather, one for each location. \n",
    "\n",
    "The variable names in the weather info are quite self-explanatory. Each row is a day. The first column is date (R-formatted) which will be used as the key for apending weather info to the main count dataset. Basic arithmetic operations such as addition and subtraction are permitted to the date column. All three weather info files have the same columns. \n",
    "\n",
    "Next we take a subset of of the count dataset. This is because weather info is only available to year 2017-2019, and also that we focus on the wet seasons' counts. From the cell below we have 876 rows after subsetting, which is ~1/4 of the original size. It is slightly unfortunate but we have to make the most of it. "
   ]
  },
  {
   "cell_type": "code",
   "execution_count": 3,
   "id": "2eb62ca2",
   "metadata": {},
   "outputs": [
    {
     "data": {
      "text/html": [
       "<ol class=list-inline>\n",
       "\t<li>876</li>\n",
       "\t<li>26</li>\n",
       "</ol>\n"
      ],
      "text/latex": [
       "\\begin{enumerate*}\n",
       "\\item 876\n",
       "\\item 26\n",
       "\\end{enumerate*}\n"
      ],
      "text/markdown": [
       "1. 876\n",
       "2. 26\n",
       "\n",
       "\n"
      ],
      "text/plain": [
       "[1] 876  26"
      ]
     },
     "metadata": {},
     "output_type": "display_data"
    }
   ],
   "source": [
    "# TAKE SUBSET, YEAR 2017-2019 WHEN WEATHER INFO IS AVAILABLE\n",
    "dat2<-dat1[dat1$date.collection>=min(PL_weather$date),]\n",
    "# TAKE SUBSET, WET SEASON COUNTS ONLY (MAY TO OCTOBER ONLY)\n",
    "dat2<-dat2[dat2$month.assigned %in% 5:10,]\n",
    "# DIMENSION OF THE NEW SUBSET?\n",
    "dim(dat2)\n",
    "#names(dat2)\n",
    "rm(dat1)\n",
    "# TRANSFORM num.persons\n",
    "dat2$persons.status<-dat2$num.persons\n",
    "dat2$persons.status[dat2$num.persons>3]<-'Hi'\n",
    "dat2$persons.status[dat2$num.persons<=3]<-'Low'\n",
    "dat2$persons.status[dat2$num.persons==0]<-'None'"
   ]
  },
  {
   "cell_type": "markdown",
   "id": "05f68024",
   "metadata": {},
   "source": [
    "### Time-series plots\n",
    "Let us make some plots to see if there is any obvious relationship between the variables. The first plots are some time-series plots on the daily mean temperature, rainfall, and mean count, all on the same time axis. We have three sets of plots for Bana, Sourou, and Pala:\n",
    "\n",
    "Each dot is the mean female mosquito count from the same day. "
   ]
  },
  {
   "cell_type": "code",
   "execution_count": 4,
   "id": "6fc1b860",
   "metadata": {},
   "outputs": [
    {
     "data": {
      "text/html": [
       "32"
      ],
      "text/latex": [
       "32"
      ],
      "text/markdown": [
       "32"
      ],
      "text/plain": [
       "[1] 32"
      ]
     },
     "metadata": {},
     "output_type": "display_data"
    },
    {
     "data": {
      "image/png": "[encoded data removed]",
      "text/plain": [
       "Plot with title \"Bana\""
      ]
     },
     "metadata": {},
     "output_type": "display_data"
    }
   ],
   "source": [
    "# LOOK AT BANA (MARKET AND VILLAGE)\n",
    "dat3<-dat2[dat2$village %in% c('Bana market', 'Bana village'),]\n",
    "dat3<-dat3[dat3$year.assigned %in% 2017:2019,]\n",
    "#dim(dat3)\n",
    "# CALCULATE THE MEAN COUNT PER DAY\n",
    "date<-unique(dat3$date.collection)\n",
    "date<-as.Date(date, '%d/%m/%Y')\n",
    "mean_count<-rep(NA, length(date))\n",
    "length(date)\n",
    "for (i in 1:length(date)) {mean_count[i]<-mean(dat3$count.f[dat3$date.collection==date[i]], na.rm=T)}\n",
    "temp<-merge(BV_weather[,c(1,2,9)], cbind(date, mean_count), by=1, all.x=T)\n",
    "par(mfrow=c(3,1))\n",
    "plot(temp$date, temp$meantemp.c, xlim=c(17230, 18200), main='Bana', xlab='date', ylab='mean temperature')\n",
    "plot(temp$date, temp$rain.mm, xlim=c(17230, 18200), xlab='date', ylab='rainfall')\n",
    "plot(temp$date, temp$mean_count, xlim=c(17230, 18200), xlab='date', ylab='mean female count')\n",
    "rm(dat3); rm(temp);\n",
    "#min(as.numeric(date))"
   ]
  },
  {
   "cell_type": "code",
   "execution_count": 5,
   "id": "d97c05f6",
   "metadata": {},
   "outputs": [
    {
     "data": {
      "text/html": [
       "<ol class=list-inline>\n",
       "\t<li>180</li>\n",
       "\t<li>27</li>\n",
       "</ol>\n"
      ],
      "text/latex": [
       "\\begin{enumerate*}\n",
       "\\item 180\n",
       "\\item 27\n",
       "\\end{enumerate*}\n"
      ],
      "text/markdown": [
       "1. 180\n",
       "2. 27\n",
       "\n",
       "\n"
      ],
      "text/plain": [
       "[1] 180  27"
      ]
     },
     "metadata": {},
     "output_type": "display_data"
    },
    {
     "data": {
      "text/html": [
       "9"
      ],
      "text/latex": [
       "9"
      ],
      "text/markdown": [
       "9"
      ],
      "text/plain": [
       "[1] 9"
      ]
     },
     "metadata": {},
     "output_type": "display_data"
    },
    {
     "data": {
      "image/png": "[encoded data removed]",
      "text/plain": [
       "Plot with title \"Sourou\""
      ]
     },
     "metadata": {},
     "output_type": "display_data"
    }
   ],
   "source": [
    "# LOOK AT SOUROU DATA\n",
    "dat3<-dat2[dat2$village %in% 'Souroukoudingan',]\n",
    "dat3<-dat3[dat3$year.assigned %in% 2017:2019,]\n",
    "dim(dat3)\n",
    "# CALCULATE THE MEAN COUNT PER DAY\n",
    "date<-unique(dat3$date.collection)\n",
    "date<-as.Date(date, '%d/%m/%Y')\n",
    "mean_count<-rep(NA, length(date))\n",
    "length(date)\n",
    "for (i in 1:length(date)) {mean_count[i]<-mean(dat3$count.f[dat3$date.collection==date[i]], na.rm=T)}\n",
    "temp<-merge(SK_weather[,c(1,2,9)], cbind(date, mean_count), by=1, all.x=T)\n",
    "par(mfrow=c(3,1))\n",
    "plot(temp$date, temp$meantemp.c, xlim=c(17230, 18200), main='Sourou', xlab='date', ylab='mean temperature')\n",
    "plot(temp$date, temp$rain.mm, xlim=c(17230, 18200), xlab='date', ylab='rainfall')\n",
    "plot(temp$date, temp$mean_count, xlim=c(17230, 18200), xlab='date', ylab='mean female count')\n",
    "rm(dat3); rm(temp);\n",
    "#min(as.numeric(date))"
   ]
  },
  {
   "cell_type": "code",
   "execution_count": 6,
   "id": "fa392d15",
   "metadata": {},
   "outputs": [
    {
     "data": {
      "text/html": [
       "14"
      ],
      "text/latex": [
       "14"
      ],
      "text/markdown": [
       "14"
      ],
      "text/plain": [
       "[1] 14"
      ]
     },
     "metadata": {},
     "output_type": "display_data"
    },
    {
     "data": {
      "image/png": "[encoded data removed]",
      "text/plain": [
       "Plot with title \"Pala\""
      ]
     },
     "metadata": {},
     "output_type": "display_data"
    }
   ],
   "source": [
    "# LOOK AT PALA DATA\n",
    "dat3<-dat2[dat2$village %in% 'Pala',]\n",
    "dat3<-dat3[dat3$year.assigned %in% 2017:2019,]\n",
    "#dim(dat3)\n",
    "# CALCULATE THE MEAN COUNT PER DAY\n",
    "date<-unique(dat3$date.collection)\n",
    "date<-as.Date(date, '%d/%m/%Y')\n",
    "mean_count<-rep(NA, length(date))\n",
    "length(date)\n",
    "for (i in 1:length(date)) {mean_count[i]<-mean(dat3$count.f[dat3$date.collection==date[i]], na.rm=T)}\n",
    "temp<-merge(PL_weather[,c(1,2,9)], cbind(date, mean_count), by=1, all.x=T)\n",
    "par(mfrow=c(3,1))\n",
    "plot(temp$date, temp$meantemp.c, xlim=c(17230, 18200), main='Pala', xlab='date', ylab='mean temperature')\n",
    "plot(temp$date, temp$rain.mm, xlim=c(17230, 18200), xlab='date', ylab='rainfall')\n",
    "plot(temp$date, temp$mean_count, xlim=c(17230, 18200), xlab='date', ylab='mean female count')\n",
    "rm(dat3); rm(temp);\n",
    "#min(as.numeric(date))"
   ]
  },
  {
   "cell_type": "markdown",
   "id": "f2d6e372",
   "metadata": {},
   "source": [
    "1) Although there are 876 data points they came from only 55 unique weather conditions (unique day and village combinations). 2) It seems that the count is lower when the temperature reaches its peak at the early wet season. Apart from this I don't see any obvious patterns. 3) Counts from 2017 look different compared to 2018 and 2019. 4) As seen below there is a huge variation in counts even under the same weather condition. \n",
    "\n",
    "Next we want to do some modelling, but before that we need to merge the weather info to the count dataset. We use the date columns as the key for merging. Furthermore, I want to append not weather info not only on the date of sampling but also several days before it. Below is the script to do this. You don't have to read it. "
   ]
  },
  {
   "cell_type": "code",
   "execution_count": 7,
   "id": "7dd9ce13",
   "metadata": {},
   "outputs": [],
   "source": [
    "# A FUNCTION TO APPEND WEATHER INFO USING DATE. WITH LAGS\n",
    "# ALWAYS GET FROM dat2\n",
    "# YOU CAN IGNORE IT\n",
    "f<-function(lag=0, lag_length=10)\n",
    "{\n",
    "    temp_date<-dat2$date.collection\n",
    "    temp_village<-dat2$village\n",
    "    # ONE PER VILLAGE\n",
    "    temp<-data.frame(matrix(nc=lag_length, nr=length(temp_date)))\n",
    "    temp_rain_SK<-temp; temp_rain_PL<-temp; temp_rain_BV<-temp;\n",
    "    temp_temp_SK<-temp; temp_temp_PL<-temp; temp_temp_BV<-temp;\n",
    "    temp_humid_SK<-temp; temp_humid_PL<-temp; temp_humid_BV<-temp;\n",
    "    temp_wind_SK<-temp; temp_wind_PL<-temp; temp_wind_BV<-temp;\n",
    "    temp_sun_SK<-temp; temp_sun_PL<-temp; temp_sun_BV<-temp;\n",
    "    # THE COMBINED\n",
    "    temp_rain<-temp; temp_temp<-temp; \n",
    "    temp_humid<-temp; temp_wind<-temp;\n",
    "    temp_sun<-temp;\n",
    "    for (i in 1:lag_length)\n",
    "        {\n",
    "        temp<-merge(temp_date-lag-i+1, SK_weather, by=1, all.x=T)\n",
    "        temp_temp_SK[,i]<-temp[,2]\n",
    "        temp_rain_SK[,i]<-temp[,9]\n",
    "        temp_humid_SK[,i]<-temp[,5]\n",
    "        temp_wind_SK[,i]<-temp[,7]\n",
    "        temp_sun_SK[,i]<-temp[,10]\n",
    "        temp<-merge(temp_date-lag-i+1, PL_weather, by=1, all.x=T)\n",
    "        temp_temp_PL[,i]<-temp[,2]\n",
    "        temp_rain_PL[,i]<-temp[,9]\n",
    "        temp_humid_PL[,i]<-temp[,5]\n",
    "        temp_wind_PL[,i]<-temp[,7]\n",
    "        temp_sun_PL[,i]<-temp[,10]\n",
    "        temp<-merge(temp_date-lag-i+1, BV_weather, by=1, all.x=T)\n",
    "        temp_temp_BV[,i]<-temp[,2]\n",
    "        temp_rain_BV[,i]<-temp[,9]\n",
    "        temp_humid_BV[,i]<-temp[,5]\n",
    "        temp_wind_BV[,i]<-temp[,7]\n",
    "        temp_sun_BV[,i]<-temp[,10]\n",
    "        }\n",
    "    # NOW APPEND \n",
    "    SK<-temp_village=='Souroukoudingan'\n",
    "    PL<-temp_village=='Pala'\n",
    "    BV<-temp_village %in% c('Bana village', 'Bana market')\n",
    "    temp_rain[SK,]<-temp_rain_SK[SK,]; temp_rain[PL,]<-temp_rain_PL[PL,]; temp_rain[BV,]<-temp_rain_BV[BV,]; \n",
    "    temp_temp[SK,]<-temp_temp_SK[SK,]; temp_temp[PL,]<-temp_temp_PL[PL,]; temp_temp[BV,]<-temp_temp_BV[BV,]; \n",
    "    temp_humid[SK,]<-temp_humid_SK[SK,]; temp_humid[PL,]<-temp_humid_PL[PL,]; temp_humid[BV,]<-temp_humid_BV[BV,]; \n",
    "    temp_wind[SK,]<-temp_wind_SK[SK,]; temp_wind[PL,]<-temp_wind_PL[PL,]; temp_wind[BV,]<-temp_wind_BV[BV,]; \n",
    "    temp_sun[SK,]<-temp_sun_SK[SK,]; temp_sun[PL,]<-temp_sun_PL[PL,]; temp_sun[BV,]<-temp_sun_BV[BV,]; \n",
    "    \n",
    "    # GIVE COLUMN NAMES\n",
    "    for (i in 1:lag_length)\n",
    "        {\n",
    "        names(temp_rain)[i]<-paste(c('rain.minus.', abs(-lag-i+1)), collapse='')\n",
    "        names(temp_temp)[i]<-paste(c('temp.minus.', abs(-lag-i+1)), collapse='')\n",
    "        names(temp_humid)[i]<-paste(c('humid.minus.', abs(-lag-i+1)), collapse='')\n",
    "        names(temp_wind)[i]<-paste(c('wind.minus.', abs(-lag-i+1)), collapse='')\n",
    "        names(temp_sun)[i]<-paste(c('sun.minus', abs(-lag-i+1)), collapse='')\n",
    "        }\n",
    "    return(cbind(dat2, temp_rain, temp_temp, temp_humid, temp_wind, temp_sun))\n",
    "}\n",
    "f<-cmpfun(f)"
   ]
  },
  {
   "cell_type": "code",
   "execution_count": 8,
   "id": "372b8147",
   "metadata": {},
   "outputs": [
    {
     "data": {
      "text/html": [
       "<ol class=list-inline>\n",
       "\t<li>'village'</li>\n",
       "\t<li>'month.assigned'</li>\n",
       "\t<li>'year.assigned'</li>\n",
       "\t<li>'monthyear.assigned'</li>\n",
       "\t<li>'day'</li>\n",
       "\t<li>'month'</li>\n",
       "\t<li>'year'</li>\n",
       "\t<li>'date.collection'</li>\n",
       "\t<li>'site.id'</li>\n",
       "\t<li>'longitude'</li>\n",
       "\t<li>'latitude'</li>\n",
       "\t<li>'room.id'</li>\n",
       "\t<li>'num.persons'</li>\n",
       "\t<li>'num.persons.remark'</li>\n",
       "\t<li>'mosquito.net'</li>\n",
       "\t<li>'permanence'</li>\n",
       "\t<li>'count.m'</li>\n",
       "\t<li>'genotyped.m'</li>\n",
       "\t<li>'col.m'</li>\n",
       "\t<li>'gam.m'</li>\n",
       "\t<li>'arab.m'</li>\n",
       "\t<li>'count.f'</li>\n",
       "\t<li>'genotyped.f'</li>\n",
       "\t<li>'col.f'</li>\n",
       "\t<li>'gam.f'</li>\n",
       "\t<li>'arab.f'</li>\n",
       "\t<li>'persons.status'</li>\n",
       "\t<li>'rain.minus.0'</li>\n",
       "\t<li>'temp.minus.0'</li>\n",
       "\t<li>'humid.minus.0'</li>\n",
       "\t<li>'wind.minus.0'</li>\n",
       "\t<li>'sun.minus0'</li>\n",
       "</ol>\n"
      ],
      "text/latex": [
       "\\begin{enumerate*}\n",
       "\\item 'village'\n",
       "\\item 'month.assigned'\n",
       "\\item 'year.assigned'\n",
       "\\item 'monthyear.assigned'\n",
       "\\item 'day'\n",
       "\\item 'month'\n",
       "\\item 'year'\n",
       "\\item 'date.collection'\n",
       "\\item 'site.id'\n",
       "\\item 'longitude'\n",
       "\\item 'latitude'\n",
       "\\item 'room.id'\n",
       "\\item 'num.persons'\n",
       "\\item 'num.persons.remark'\n",
       "\\item 'mosquito.net'\n",
       "\\item 'permanence'\n",
       "\\item 'count.m'\n",
       "\\item 'genotyped.m'\n",
       "\\item 'col.m'\n",
       "\\item 'gam.m'\n",
       "\\item 'arab.m'\n",
       "\\item 'count.f'\n",
       "\\item 'genotyped.f'\n",
       "\\item 'col.f'\n",
       "\\item 'gam.f'\n",
       "\\item 'arab.f'\n",
       "\\item 'persons.status'\n",
       "\\item 'rain.minus.0'\n",
       "\\item 'temp.minus.0'\n",
       "\\item 'humid.minus.0'\n",
       "\\item 'wind.minus.0'\n",
       "\\item 'sun.minus0'\n",
       "\\end{enumerate*}\n"
      ],
      "text/markdown": [
       "1. 'village'\n",
       "2. 'month.assigned'\n",
       "3. 'year.assigned'\n",
       "4. 'monthyear.assigned'\n",
       "5. 'day'\n",
       "6. 'month'\n",
       "7. 'year'\n",
       "8. 'date.collection'\n",
       "9. 'site.id'\n",
       "10. 'longitude'\n",
       "11. 'latitude'\n",
       "12. 'room.id'\n",
       "13. 'num.persons'\n",
       "14. 'num.persons.remark'\n",
       "15. 'mosquito.net'\n",
       "16. 'permanence'\n",
       "17. 'count.m'\n",
       "18. 'genotyped.m'\n",
       "19. 'col.m'\n",
       "20. 'gam.m'\n",
       "21. 'arab.m'\n",
       "22. 'count.f'\n",
       "23. 'genotyped.f'\n",
       "24. 'col.f'\n",
       "25. 'gam.f'\n",
       "26. 'arab.f'\n",
       "27. 'persons.status'\n",
       "28. 'rain.minus.0'\n",
       "29. 'temp.minus.0'\n",
       "30. 'humid.minus.0'\n",
       "31. 'wind.minus.0'\n",
       "32. 'sun.minus0'\n",
       "\n",
       "\n"
      ],
      "text/plain": [
       " [1] \"village\"            \"month.assigned\"     \"year.assigned\"     \n",
       " [4] \"monthyear.assigned\" \"day\"                \"month\"             \n",
       " [7] \"year\"               \"date.collection\"    \"site.id\"           \n",
       "[10] \"longitude\"          \"latitude\"           \"room.id\"           \n",
       "[13] \"num.persons\"        \"num.persons.remark\" \"mosquito.net\"      \n",
       "[16] \"permanence\"         \"count.m\"            \"genotyped.m\"       \n",
       "[19] \"col.m\"              \"gam.m\"              \"arab.m\"            \n",
       "[22] \"count.f\"            \"genotyped.f\"        \"col.f\"             \n",
       "[25] \"gam.f\"              \"arab.f\"             \"persons.status\"    \n",
       "[28] \"rain.minus.0\"       \"temp.minus.0\"       \"humid.minus.0\"     \n",
       "[31] \"wind.minus.0\"       \"sun.minus0\"        "
      ]
     },
     "metadata": {},
     "output_type": "display_data"
    }
   ],
   "source": [
    "# LET'S TRY IT\n",
    "names(f(lag=0, lag_length=1))"
   ]
  },
  {
   "cell_type": "markdown",
   "id": "a77e8f89",
   "metadata": {},
   "source": [
    "Weather info variables are appended to the original count dataset. For example, rain.minus.0 is the rainfall on the day of sampling (hence with suffices minus.0 day). We can add past weather info by changing the arguments of the function f(). \n",
    "\n",
    "### plots with day 0 weather info only\n",
    "Let us focus on day 0's weather info. Running some plots may help feel the relationship between the counts and the two weather variables of interest: "
   ]
  },
  {
   "cell_type": "code",
   "execution_count": 9,
   "id": "d8a57792",
   "metadata": {},
   "outputs": [
    {
     "data": {
      "text/html": [
       "-0.0334833407902441"
      ],
      "text/latex": [
       "-0.0334833407902441"
      ],
      "text/markdown": [
       "-0.0334833407902441"
      ],
      "text/plain": [
       "[1] -0.03348334"
      ]
     },
     "metadata": {},
     "output_type": "display_data"
    },
    {
     "data": {
      "text/html": [
       "0.101420523183728"
      ],
      "text/latex": [
       "0.101420523183728"
      ],
      "text/markdown": [
       "0.101420523183728"
      ],
      "text/plain": [
       "[1] 0.1014205"
      ]
     },
     "metadata": {},
     "output_type": "display_data"
    },
    {
     "data": {
      "image/png": "[encoded data removed]",
      "text/plain": [
       "plot without title"
      ]
     },
     "metadata": {},
     "output_type": "display_data"
    }
   ],
   "source": [
    "dat3<-f(lag=0, lag_length=1)\n",
    "par(mfrow=c(2,1))\n",
    "# PLOT EACH LOG FEMALE COUNT AGAINST A WEATHER VARIABLE\n",
    "plot(dat3$rain.minus.0, log(dat3$count.f+1), xlab='day 0 rainfall', ylab='log female count')\n",
    "plot(dat3$temp.minus.0, log(dat3$count.f+1), xlab='day 0 temperature', ylab='log female count')\n",
    "# CORRELATION COEFFICIENT (WEAK)\n",
    "cor(dat3$rain.minus.0, log(dat3$count.f+1), use='pairwise')\n",
    "cor(dat3$temp.minus.0, log(dat3$count.f+1), use='pairwise')"
   ]
  },
  {
   "cell_type": "markdown",
   "id": "80254efc",
   "metadata": {},
   "source": [
    "Again I do not see any obvious trends, but it seems there is a weak correlation between log female count and temperature. Let us build some models with these two weather variables. We build two models here: 1A with linear rainfall and temperature from day 0, 1B with quadratic terms. \n",
    "\n",
    "### model 1. With day 0 temperature and rainfall"
   ]
  },
  {
   "cell_type": "code",
   "execution_count": 10,
   "id": "d74f50a5",
   "metadata": {},
   "outputs": [
    {
     "name": "stderr",
     "output_type": "stream",
     "text": [
      "boundary (singular) fit: see ?isSingular\n"
     ]
    },
    {
     "data": {
      "text/plain": [
       "Generalized linear mixed model fit by maximum likelihood (Laplace\n",
       "  Approximation) [glmerMod]\n",
       " Family: poisson  ( log )\n",
       "Formula: \n",
       "count.f ~ (1 | year.assigned) + (1 | site.id) + (1 | overdispersion) +  \n",
       "    mosquito.net + persons.status + rain.minus.0 + temp.minus.0\n",
       "   Data: dat3\n",
       "Control: glmerControl(optimizer = \"bobyqa\", optCtrl = list(maxfun = 2e+05))\n",
       "\n",
       "     AIC      BIC   logLik deviance df.resid \n",
       "  5668.4   5711.0  -2825.2   5650.4      833 \n",
       "\n",
       "Scaled residuals: \n",
       "     Min       1Q   Median       3Q      Max \n",
       "-1.30607 -0.35956 -0.01262  0.14205  0.53442 \n",
       "\n",
       "Random effects:\n",
       " Groups         Name        Variance Std.Dev.\n",
       " overdispersion (Intercept) 1.2472   1.117   \n",
       " site.id        (Intercept) 0.8372   0.915   \n",
       " year.assigned  (Intercept) 0.0000   0.000   \n",
       "Number of obs: 842, groups:  \n",
       "overdispersion, 842; site.id, 174; year.assigned, 3\n",
       "\n",
       "Fixed effects:\n",
       "                   Estimate Std. Error z value Pr(>|z|)    \n",
       "(Intercept)         1.70405    0.19982   8.528  < 2e-16 ***\n",
       "mosquito.netYes     0.09696    0.17725   0.547   0.5844    \n",
       "persons.statusLow  -0.23948    0.12250  -1.955   0.0506 .  \n",
       "persons.statusNone -0.87778    0.52837  -1.661   0.0967 .  \n",
       "rain.minus.0        0.02358    0.04941   0.477   0.6332    \n",
       "temp.minus.0        0.20401    0.04831   4.223 2.41e-05 ***\n",
       "---\n",
       "Signif. codes:  0 '***' 0.001 '**' 0.01 '*' 0.05 '.' 0.1 ' ' 1\n",
       "convergence code: 0\n",
       "boundary (singular) fit: see ?isSingular\n"
      ]
     },
     "metadata": {},
     "output_type": "display_data"
    }
   ],
   "source": [
    "# MODEL 1A. DAY 0 TEMPERATURE AND RAINFALL, LINEAR\n",
    "dat3<-f(lag=0, lag_length=1)\n",
    "overdispersion<-1:nrow(dat3)\n",
    "dat3$rain.minus.0<-scale(dat3$rain.minus.0) # SCALING\n",
    "dat3$temp.minus.0<-scale(dat3$temp.minus.0)\n",
    "m_1A<-glmer(count.f~(1|year.assigned)+(1|site.id)+(1|overdispersion)+mosquito.net+persons.status\n",
    "            +rain.minus.0+temp.minus.0, \n",
    "             family='poisson', data=dat3, \n",
    "             control=glmerControl(optimizer=\"bobyqa\",optCtrl=list(maxfun=2e5)))\n",
    "summary(m_1A, correlation=FALSE)"
   ]
  },
  {
   "cell_type": "code",
   "execution_count": 11,
   "id": "26da501d",
   "metadata": {},
   "outputs": [
    {
     "data": {
      "text/plain": [
       "Generalized linear mixed model fit by maximum likelihood (Laplace\n",
       "  Approximation) [glmerMod]\n",
       " Family: poisson  ( log )\n",
       "Formula: \n",
       "count.f ~ (1 | year.assigned) + (1 | site.id) + (1 | overdispersion) +  \n",
       "    mosquito.net + persons.status + rain.minus.0 + I(rain.minus.0^2) +  \n",
       "    temp.minus.0 + I(temp.minus.0^2)\n",
       "   Data: dat3\n",
       "Control: glmerControl(optimizer = \"bobyqa\", optCtrl = list(maxfun = 2e+05))\n",
       "\n",
       "     AIC      BIC   logLik deviance df.resid \n",
       "  5668.2   5720.3  -2823.1   5646.2      831 \n",
       "\n",
       "Scaled residuals: \n",
       "     Min       1Q   Median       3Q      Max \n",
       "-1.31675 -0.35550 -0.01144  0.14330  0.47555 \n",
       "\n",
       "Random effects:\n",
       " Groups         Name        Variance  Std.Dev.\n",
       " overdispersion (Intercept) 1.2313087 1.10964 \n",
       " site.id        (Intercept) 0.8429662 0.91813 \n",
       " year.assigned  (Intercept) 0.0003555 0.01886 \n",
       "Number of obs: 842, groups:  \n",
       "overdispersion, 842; site.id, 174; year.assigned, 3\n",
       "\n",
       "Fixed effects:\n",
       "                   Estimate Std. Error z value Pr(>|z|)    \n",
       "(Intercept)         1.72467    0.20383   8.461  < 2e-16 ***\n",
       "mosquito.netYes     0.09291    0.17657   0.526  0.59875    \n",
       "persons.statusLow  -0.24738    0.12326  -2.007  0.04475 *  \n",
       "persons.statusNone -0.93428    0.52886  -1.767  0.07730 .  \n",
       "rain.minus.0        0.16140    0.10279   1.570  0.11636    \n",
       "I(rain.minus.0^2)  -0.04151    0.02100  -1.977  0.04808 *  \n",
       "temp.minus.0        0.18930    0.05305   3.568  0.00036 ***\n",
       "I(temp.minus.0^2)   0.03055    0.04015   0.761  0.44682    \n",
       "---\n",
       "Signif. codes:  0 '***' 0.001 '**' 0.01 '*' 0.05 '.' 0.1 ' ' 1"
      ]
     },
     "metadata": {},
     "output_type": "display_data"
    }
   ],
   "source": [
    "# MODEL 1B. DAY 0 TEMPERATURE AND RAINFALL, ADD QUADRATIC VIA I(rain.minus.0^2)\n",
    "dat3<-f(lag=0, lag_length=1)\n",
    "overdispersion<-1:nrow(dat3)\n",
    "dat3$rain.minus.0<-scale(dat3$rain.minus.0) # SCALING\n",
    "dat3$temp.minus.0<-scale(dat3$temp.minus.0)\n",
    "m_1B<-glmer(count.f~(1|year.assigned)+(1|site.id)+(1|overdispersion)+mosquito.net+persons.status\n",
    "            +rain.minus.0+I(rain.minus.0^2)+temp.minus.0+I(temp.minus.0^2), \n",
    "             family='poisson', data=dat3, \n",
    "             control=glmerControl(optimizer=\"bobyqa\",optCtrl=list(maxfun=2e5)))\n",
    "summary(m_1B, correlation=FALSE)"
   ]
  },
  {
   "cell_type": "markdown",
   "id": "4ce6f317",
   "metadata": {},
   "source": [
    "We have three observations here: First, after including day 0's rainfall and temperature we can get rid of the year effect, as its variance is estimated to be 0. Second, day o's temperature seems to a significant covariate. \n",
    "\n",
    "The scaling of variables is nothing but a mathematical trick for faster convergence. \n"
   ]
  },
  {
   "cell_type": "code",
   "execution_count": 12,
   "id": "0cdad4f7",
   "metadata": {},
   "outputs": [
    {
     "data": {
      "image/png": "[encoded data removed]",
      "text/plain": [
       "Plot with title \"corr between log female count and temperature\""
      ]
     },
     "metadata": {},
     "output_type": "display_data"
    }
   ],
   "source": [
    "dat3<-f(lag=0, lag_length=75)\n",
    "# names(dat3)[c(28, 75)] \n",
    "corr_temp<-rep(NA, 30)\n",
    "corr_rain<-rep(NA, 30)\n",
    "for (i in 1:30)\n",
    "    {\n",
    "    corr_rain[i]<-cor(dat3[,28+i-1], log(dat3$count.f+1), use='pairwise')\n",
    "    corr_temp[i]<-cor(dat3[,28+75+i-1], log(dat3$count.f+1), use='pairwise')\n",
    "}\n",
    "par(mfrow=c(2,1))\n",
    "plot(0:29, corr_rain, xlab='lag (minus) days', ylab='corr coefficient', main='corr between log female count and rainfall')\n",
    "abline(h=0, col='red', lty=2)\n",
    "plot(0:29, corr_temp, xlab='lag (minus) days', ylab='corr coefficient', main='corr between log female count and temperature')\n",
    "abline(h=0, col='red', lty=2)"
   ]
  },
  {
   "cell_type": "markdown",
   "id": "4d5ba9ef",
   "metadata": {},
   "source": [
    "### Include lagged rainfall as covariate\n",
    "\n",
    "We now try to build more complex models which use the sum of rainfall in the previous days as a covariate. To be exact, we want to use the sum of rainfall between i and (i+j-1) days ago as the covariate. To find the best values for i and j, we run many glms with different combinations, and choose the one with the highest log-likelihood. "
   ]
  },
  {
   "cell_type": "code",
   "execution_count": 11,
   "id": "1e14f98e",
   "metadata": {},
   "outputs": [
    {
     "name": "stdout",
     "output_type": "stream",
     "text": [
      "The 28-th column is rain.minus.0"
     ]
    },
    {
     "data": {
      "text/html": [
       "<ol class=list-inline>\n",
       "\t<li>30</li>\n",
       "\t<li>21</li>\n",
       "</ol>\n"
      ],
      "text/latex": [
       "\\begin{enumerate*}\n",
       "\\item 30\n",
       "\\item 21\n",
       "\\end{enumerate*}\n"
      ],
      "text/markdown": [
       "1. 30\n",
       "2. 21\n",
       "\n",
       "\n"
      ],
      "text/plain": [
       "[1] 30 21"
      ]
     },
     "metadata": {},
     "output_type": "display_data"
    }
   ],
   "source": [
    "dat3<-f(lag=0, lag_length=75)\n",
    "#dim(dat3)\n",
    "cat(paste('The 28-th column is', names(dat3)[28])) # MAKE SURE THE 28-TH COLUMN IS rain.minus.0\n",
    "cl<-makeCluster(46, outfile='log.txt') # MULTIPLE CPU\n",
    "registerDoParallel(cl)\n",
    "result_rain<-foreach (i=1:30, .combine=rbind, .packages='lme4') %dopar%\n",
    "    {\n",
    "    setMKLthreads(1)\n",
    "    temp_result<-rep(NA, 21)\n",
    "    for (j in 1:length(temp_result))\n",
    "        {\n",
    "        total.rain<-apply(as.matrix(dat3[,(i+28):(i+28+j-1)]), 1, mean, na.rm=T)\n",
    "        total.rain<-scale(total.rain) # SCALE TO CENTRE\n",
    "        dat3$rain.minus.0<-scale(dat3$rain.minus.0)\n",
    "        dat3$temp.minus.0<-scale(dat3$temp.minus.0)\n",
    "        overdispersion<-1:nrow(dat3)\n",
    "        m<-NA #RESET m\n",
    "        m<-glmer(count.f~(1|site.id)+(1|overdispersion)+mosquito.net+persons.status\n",
    "             +rain.minus.0+I(rain.minus.0^2)+temp.minus.0+total.rain, \n",
    "            data=dat3, family='poisson', \n",
    "            control=glmerControl(optimizer=\"bobyqa\"))\n",
    "        temp_result[j]<-summary(m)$logLik\n",
    "        cat(sprintf(\"%i, %i\\n\", i, j))\n",
    "        }\n",
    "    return(temp_result)\n",
    "    }\n",
    "stopCluster(cl)\n",
    "dim(result_rain)\n",
    "invisible(gc())"
   ]
  },
  {
   "cell_type": "code",
   "execution_count": 12,
   "id": "6047f0ab",
   "metadata": {},
   "outputs": [
    {
     "data": {
      "text/html": [
       "-2813.91671511753"
      ],
      "text/latex": [
       "-2813.91671511753"
      ],
      "text/markdown": [
       "-2813.91671511753"
      ],
      "text/plain": [
       "[1] -2813.917"
      ]
     },
     "metadata": {},
     "output_type": "display_data"
    },
    {
     "data": {
      "text/html": [
       "<table>\n",
       "<thead><tr><th></th><th scope=col>row</th><th scope=col>col</th></tr></thead>\n",
       "<tbody>\n",
       "\t<tr><th scope=row>result.3</th><td>3</td><td>1</td></tr>\n",
       "</tbody>\n",
       "</table>\n"
      ],
      "text/latex": [
       "\\begin{tabular}{r|ll}\n",
       "  & row & col\\\\\n",
       "\\hline\n",
       "\tresult.3 & 3 & 1\\\\\n",
       "\\end{tabular}\n"
      ],
      "text/markdown": [
       "\n",
       "| <!--/--> | row | col |\n",
       "|---|---|---|\n",
       "| result.3 | 3 | 1 |\n",
       "\n"
      ],
      "text/plain": [
       "         row col\n",
       "result.3 3   1  "
      ]
     },
     "metadata": {},
     "output_type": "display_data"
    },
    {
     "data": {
      "image/png": "[encoded data removed]",
      "text/plain": [
       "plot without title"
      ]
     },
     "metadata": {},
     "output_type": "display_data"
    }
   ],
   "source": [
    "persp(1:nrow(result_rain), 1:ncol(result_rain), result_rain, theta=135, phi=30, \n",
    "        xlab='start lag (i)', ylab='number of lags (j)', zlab='maximised log-likelihood (higher the better)')\n",
    "# HIGHEST LOG-LIKE\n",
    "max(result_rain, na.rm=T)\n",
    "# THE VALUE OF i AND j GIVES THE HIGHEST LOG-LIKE\n",
    "which(result_rain==max(result_rain, na.rm=T), arr.ind=TRUE)"
   ]
  },
  {
   "cell_type": "markdown",
   "id": "8c8f3766",
   "metadata": {},
   "source": [
    "It takes a while to run hundreds of glms. Now we plot the maximised log-likelihood against i and j in a 3D plot. We also would like to know which combination of i and j gives the highest log-likelihood. \n",
    "\n",
    "The best fit is when i=3 and j=1 (i.e. the rainfall 3 days ago). I am not convinced. \n",
    "\n",
    "Ace suggested to use a Gaussian-like weighted sum for rainfall. "
   ]
  },
  {
   "cell_type": "code",
   "execution_count": 14,
   "id": "791f75fc",
   "metadata": {},
   "outputs": [
    {
     "name": "stdout",
     "output_type": "stream",
     "text": [
      "The 28-th column is rain.minus.0"
     ]
    },
    {
     "data": {
      "text/html": [
       "<ol class=list-inline>\n",
       "\t<li>30</li>\n",
       "\t<li>10</li>\n",
       "</ol>\n"
      ],
      "text/latex": [
       "\\begin{enumerate*}\n",
       "\\item 30\n",
       "\\item 10\n",
       "\\end{enumerate*}\n"
      ],
      "text/markdown": [
       "1. 30\n",
       "2. 10\n",
       "\n",
       "\n"
      ],
      "text/plain": [
       "[1] 30 10"
      ]
     },
     "metadata": {},
     "output_type": "display_data"
    }
   ],
   "source": [
    "dat3<-f(lag=0, lag_length=75)\n",
    "cat(paste('The 28-th column is', names(dat3)[28])) # MAKE SURE THE 28-TH COLUMN IS rain.minus.0\n",
    "cl<-makeCluster(46, outfile='log.txt') # MULTIPLE CPU\n",
    "registerDoParallel(cl)\n",
    "result_rain_gaussian<-foreach (i=1:30, .combine=rbind, .packages='lme4') %dopar%\n",
    "    {\n",
    "    setMKLthreads(1)\n",
    "    sd<-seq(0.4, 4, 0.4) # MAX SD CONSIDERED IS 4\n",
    "    temp_result<-rep(NA, length(sd))\n",
    "    for (j in 1:length(temp_result))\n",
    "        {\n",
    "        # FIGURE OUT THE GAUSSIAN MAX AND MIN, CUT-OFF IS 3*SD\n",
    "        lower<-floor(i-3*sd[j])\n",
    "        if (lower<1) {lower<-1} # CAN'T HAVE NEGATIVE LAGS\n",
    "        upper<-ceiling(i+3*sd[j])\n",
    "        temp<-dnorm(lower:upper, mean=i, sd=sd[j])\n",
    "        weight<-temp/sum(temp) # NORMALISE WEIGHTS, SUM TO ONE\n",
    "        temp.total.rain<-as.matrix(dat3[,(lower+28):(upper+28)])\n",
    "        total.rain<-as.vector(temp.total.rain%*%weight)\n",
    "        total.rain<-scale(total.rain) # SCALE TO CENTRE\n",
    "        dat3$rain.minus.0<-scale(dat3$rain.minus.0)\n",
    "        dat3$temp.minus.0<-scale(dat3$temp.minus.0)\n",
    "        overdispersion<-1:nrow(dat3)\n",
    "        m<-NA # RESET\n",
    "        m<-glmer(count.f~(1|site.id)+(1|overdispersion)+village+month.assigned+mosquito.net+persons.status\n",
    "             +rain.minus.0+temp.minus.0+total.rain, \n",
    "            data=dat3, family='poisson', \n",
    "            control=glmerControl(optimizer=\"bobyqa\"))\n",
    "        temp_result[j]<-summary(m)$logLik\n",
    "        cat(sprintf(\"%i, %i\\n\", i, j))\n",
    "        }\n",
    "    return(temp_result)\n",
    "    }\n",
    "stopCluster(cl)\n",
    "dim(result_rain_gaussian)\n",
    "invisible(gc())"
   ]
  },
  {
   "cell_type": "code",
   "execution_count": 15,
   "id": "d30a1d2a",
   "metadata": {},
   "outputs": [
    {
     "data": {
      "text/html": [
       "-2789.54560418455"
      ],
      "text/latex": [
       "-2789.54560418455"
      ],
      "text/markdown": [
       "-2789.54560418455"
      ],
      "text/plain": [
       "[1] -2789.546"
      ]
     },
     "metadata": {},
     "output_type": "display_data"
    },
    {
     "data": {
      "text/html": [
       "<table>\n",
       "<thead><tr><th></th><th scope=col>row</th><th scope=col>col</th></tr></thead>\n",
       "<tbody>\n",
       "\t<tr><th scope=row>result.16</th><td>16</td><td>1 </td></tr>\n",
       "</tbody>\n",
       "</table>\n"
      ],
      "text/latex": [
       "\\begin{tabular}{r|ll}\n",
       "  & row & col\\\\\n",
       "\\hline\n",
       "\tresult.16 & 16 & 1 \\\\\n",
       "\\end{tabular}\n"
      ],
      "text/markdown": [
       "\n",
       "| <!--/--> | row | col |\n",
       "|---|---|---|\n",
       "| result.16 | 16 | 1  |\n",
       "\n"
      ],
      "text/plain": [
       "          row col\n",
       "result.16 16  1  "
      ]
     },
     "metadata": {},
     "output_type": "display_data"
    },
    {
     "data": {
      "image/png": "[encoded data removed]",
      "text/plain": [
       "plot without title"
      ]
     },
     "metadata": {},
     "output_type": "display_data"
    }
   ],
   "source": [
    "persp(1:nrow(result_rain_gaussian), 1:ncol(result_rain_gaussian), result_rain_gaussian, theta=135, phi=30, \n",
    "        xlab='mean day', ylab='sd day', zlab='maximised log-likelihood (higher the better)')\n",
    "max(result_rain_gaussian, na.rm=T)\n",
    "which(result_rain_gaussian==max(result_rain_gaussian, na.rm=T), arr.ind=TRUE)"
   ]
  },
  {
   "cell_type": "markdown",
   "id": "f17dddc8",
   "metadata": {},
   "source": [
    "This suggests that the best fit is when mean day=16 with the smallest sd=0.4. Also noticed the second highest peak is around day=3 which gives the same estimate as the previous model. \n",
    "\n",
    "No definitive answer. Maybe I should run a poisson regression on the mean count. "
   ]
  },
  {
   "cell_type": "code",
   "execution_count": 10,
   "id": "4cc31f0c",
   "metadata": {},
   "outputs": [
    {
     "data": {
      "text/html": [
       "32"
      ],
      "text/latex": [
       "32"
      ],
      "text/markdown": [
       "32"
      ],
      "text/plain": [
       "[1] 32"
      ]
     },
     "metadata": {},
     "output_type": "display_data"
    },
    {
     "data": {
      "text/html": [
       "9"
      ],
      "text/latex": [
       "9"
      ],
      "text/markdown": [
       "9"
      ],
      "text/plain": [
       "[1] 9"
      ]
     },
     "metadata": {},
     "output_type": "display_data"
    },
    {
     "data": {
      "text/html": [
       "14"
      ],
      "text/latex": [
       "14"
      ],
      "text/markdown": [
       "14"
      ],
      "text/plain": [
       "[1] 14"
      ]
     },
     "metadata": {},
     "output_type": "display_data"
    },
    {
     "data": {
      "text/html": [
       "<ol class=list-inline>\n",
       "\t<li>55</li>\n",
       "\t<li>402</li>\n",
       "</ol>\n"
      ],
      "text/latex": [
       "\\begin{enumerate*}\n",
       "\\item 55\n",
       "\\item 402\n",
       "\\end{enumerate*}\n"
      ],
      "text/markdown": [
       "1. 55\n",
       "2. 402\n",
       "\n",
       "\n"
      ],
      "text/plain": [
       "[1]  55 402"
      ]
     },
     "metadata": {},
     "output_type": "display_data"
    }
   ],
   "source": [
    "# CREATE A DATA FRAME WHOSE RESPONSE IS THE MEAN COUNT ON THE SAME DAY\n",
    "dat3<-f(lag=0, lag_length=75)\n",
    "dat4<-data.frame(matrix(nc=ncol(dat3), nr=55)) # 55 UNIQUE WEATHER CONDITIONS\n",
    "names(dat4)<-names(dat3)\n",
    "# BANA\n",
    "temp<-dat3[dat3$village %in% c('Bana market', 'Bana village'),]\n",
    "temp1<-unique(temp$date.collection)\n",
    "length(temp1)\n",
    "i<-1\n",
    "for (j in 1:length(temp1))\n",
    "    {\n",
    "    temp2<-temp[temp$date.collection==temp1[j],]\n",
    "    dat4[i,]<-temp2[1,]\n",
    "    dat4$count.f[i]<-mean(temp2$count.f, na.rm=T)\n",
    "    i<-i+1\n",
    "    }\n",
    "rm(temp); rm(temp1);\n",
    "# SOUROU\n",
    "temp<-dat3[dat3$village %in% 'Souroukoudingan',]\n",
    "temp1<-unique(temp$date.collection)\n",
    "length(temp1)\n",
    "for (j in 1:length(temp1))\n",
    "    {\n",
    "    temp2<-temp[temp$date.collection==temp1[j],]\n",
    "    dat4[i,]<-temp2[1,]\n",
    "    dat4$count.f[i]<-mean(temp2$count.f, na.rm=T)\n",
    "    i<-i+1\n",
    "    }\n",
    "rm(temp); rm(temp1);\n",
    "# PALA\n",
    "temp<-dat3[dat3$village %in% 'Pala',]\n",
    "temp1<-unique(temp$date.collection)\n",
    "length(temp1)\n",
    "for (j in 1:length(temp1))\n",
    "    {\n",
    "    temp2<-temp[temp$date.collection==temp1[j],]\n",
    "    dat4[i,]<-temp2[1,]\n",
    "    dat4$count.f[i]<-mean(temp2$count.f, na.rm=T)\n",
    "    i<-i+1\n",
    "    }\n",
    "dim(dat4)\n",
    "rm(temp); rm(temp1); rm(temp2); rm(i); invisible(gc());"
   ]
  },
  {
   "cell_type": "code",
   "execution_count": 49,
   "id": "9065d9db",
   "metadata": {},
   "outputs": [
    {
     "name": "stdout",
     "output_type": "stream",
     "text": [
      "The 28-th column is rain.minus.0"
     ]
    },
    {
     "data": {
      "text/html": [
       "<ol class=list-inline>\n",
       "\t<li>30</li>\n",
       "\t<li>10</li>\n",
       "</ol>\n"
      ],
      "text/latex": [
       "\\begin{enumerate*}\n",
       "\\item 30\n",
       "\\item 10\n",
       "\\end{enumerate*}\n"
      ],
      "text/markdown": [
       "1. 30\n",
       "2. 10\n",
       "\n",
       "\n"
      ],
      "text/plain": [
       "[1] 30 10"
      ]
     },
     "metadata": {},
     "output_type": "display_data"
    }
   ],
   "source": [
    "# RUN A SIMPLE GLM ON MEAN COUNT\n",
    "cat(paste('The 28-th column is', names(dat4)[28])) # MAKE SURE THE 28-TH COLUMN IS rain.minus.0\n",
    "cl<-makeCluster(46, outfile='log.txt') # MULTIPLE CPU\n",
    "registerDoParallel(cl)\n",
    "result_rain_combined<-foreach (i=1:30, .combine=rbind, .packages='lme4') %dopar%\n",
    "    {\n",
    "    setMKLthreads(1)\n",
    "    sd<-seq(0.4, 4, 0.4) # MAX SD CONSIDERED IS 4\n",
    "    temp_result<-rep(NA, length(sd))\n",
    "    for (j in 1:length(temp_result))\n",
    "        {\n",
    "        # FIGURE OUT THE GAUSSIAN MAX AND MIN, CUT-OFF IS 3*SD\n",
    "        lower<-floor(i-3*sd[j])\n",
    "        if (lower<1) {lower<-1} # CAN'T HAVE NEGATIVE LAGS\n",
    "        upper<-ceiling(i+3*sd[j])\n",
    "        temp<-dnorm(lower:upper, mean=i, sd=sd[j])\n",
    "        weight<-temp/sum(temp) # NORMALISE WEIGHTS, SUM TO ONE\n",
    "        temp.total.rain<-as.matrix(dat4[,(lower+28):(upper+28)])\n",
    "        total.rain<-as.vector(temp.total.rain%*%weight)\n",
    "        overdispersion<-1:nrow(dat4)\n",
    "        m<-NA #RESET m\n",
    "        #m<-glm(count.f~rain.minus.0+I(rain.minus.0^2)+temp.minus.0+total.rain, \n",
    "        #    data=dat4, family='quasipoisson')\n",
    "        #temp_result[j]<-summary(m)$deviance\n",
    "        m<-glmer(count.f~(1|overdispersion)+rain.minus.0+temp.minus.0+total.rain\n",
    "        temp_result[j]<-summary(m)$LogLik\n",
    "        cat(sprintf(\"%i, %i\\n\", i, j))\n",
    "        }\n",
    "    return(temp_result)\n",
    "    }\n",
    "stopCluster(cl)\n",
    "dim(result_rain_combined)\n",
    "invisible(gc())"
   ]
  },
  {
   "cell_type": "code",
   "execution_count": 43,
   "id": "a2eac039",
   "metadata": {},
   "outputs": [
    {
     "data": {
      "text/plain": [
       "\n",
       "Call:\n",
       "glm(formula = count.f ~ rain.minus.0 + I(rain.minus.0^2) + temp.minus.0 + \n",
       "    total.rain, family = \"quasipoisson\", data = dat4)\n",
       "\n",
       "Deviance Residuals: \n",
       "    Min       1Q   Median       3Q      Max  \n",
       "-4.6047  -1.7261  -0.2839   0.6632   5.2075  \n",
       "\n",
       "Coefficients:\n",
       "                  Estimate Std. Error t value Pr(>|t|)    \n",
       "(Intercept)        2.43837    0.11648  20.935   <2e-16 ***\n",
       "rain.minus.0      -0.18167    0.24806  -0.732   0.4674    \n",
       "I(rain.minus.0^2)  0.05076    0.06190   0.820   0.4160    \n",
       "temp.minus.0       0.23949    0.11600   2.064   0.0442 *  \n",
       "total.rain         0.26000    0.11255   2.310   0.0250 *  \n",
       "---\n",
       "Signif. codes:  0 '***' 0.001 '**' 0.01 '*' 0.05 '.' 0.1 ' ' 1\n",
       "\n",
       "(Dispersion parameter for quasipoisson family taken to be 5.860177)\n",
       "\n",
       "    Null deviance: 313.55  on 54  degrees of freedom\n",
       "Residual deviance: 276.88  on 50  degrees of freedom\n",
       "AIC: NA\n",
       "\n",
       "Number of Fisher Scoring iterations: 5\n"
      ]
     },
     "metadata": {},
     "output_type": "display_data"
    }
   ],
   "source": [
    "        i<-3; j<-1;\n",
    "        total.rain<-apply(as.matrix(dat4[,(i+28):(i+28+j-1)]), 1, mean, na.rm=T)\n",
    "        total.rain<-scale(total.rain) # SCALE TO CENTRE\n",
    "        dat4$rain.minus.0<-scale(dat4$rain.minus.0)\n",
    "        dat4$temp.minus.0<-scale(dat4$temp.minus.0)\n",
    "        overdispersion<-1:nrow(dat4)\n",
    "        m<-NA #RESET m\n",
    "        m<-glm(count.f~rain.minus.0+I(rain.minus.0^2)+temp.minus.0+total.rain, \n",
    "            family='quasipoisson',\n",
    "            data=dat4)\n",
    "summary(m)"
   ]
  },
  {
   "cell_type": "code",
   "execution_count": 51,
   "id": "aa992bfb",
   "metadata": {},
   "outputs": [
    {
     "data": {
      "text/html": [
       "267.668816652717"
      ],
      "text/latex": [
       "267.668816652717"
      ],
      "text/markdown": [
       "267.668816652717"
      ],
      "text/plain": [
       "[1] 267.6688"
      ]
     },
     "metadata": {},
     "output_type": "display_data"
    },
    {
     "data": {
      "text/html": [
       "<table>\n",
       "<thead><tr><th></th><th scope=col>row</th><th scope=col>col</th></tr></thead>\n",
       "<tbody>\n",
       "\t<tr><th scope=row>result.21</th><td>21</td><td>1 </td></tr>\n",
       "</tbody>\n",
       "</table>\n"
      ],
      "text/latex": [
       "\\begin{tabular}{r|ll}\n",
       "  & row & col\\\\\n",
       "\\hline\n",
       "\tresult.21 & 21 & 1 \\\\\n",
       "\\end{tabular}\n"
      ],
      "text/markdown": [
       "\n",
       "| <!--/--> | row | col |\n",
       "|---|---|---|\n",
       "| result.21 | 21 | 1  |\n",
       "\n"
      ],
      "text/plain": [
       "          row col\n",
       "result.21 21  1  "
      ]
     },
     "metadata": {},
     "output_type": "display_data"
    },
    {
     "data": {
      "image/png": "[encoded data removed]",
      "text/plain": [
       "plot without title"
      ]
     },
     "metadata": {},
     "output_type": "display_data"
    }
   ],
   "source": [
    "persp(1:nrow(result_rain_combined), 1:ncol(result_rain_combined), result_rain_combined, theta=135, phi=30, \n",
    "        xlab='start lag (i)', ylab='number of lags (j)', zlab='residual deviance (smaller the better)')\n",
    "# HIGHEST LOG-LIKE\n",
    "min(result_rain_combined, na.rm=T)\n",
    "which(result_rain_combined==min(result_rain_combined, na.rm=T), arr.ind=TRUE)"
   ]
  },
  {
   "cell_type": "markdown",
   "id": "4a8728d6",
   "metadata": {},
   "source": [
    "### Model 0, the null models (no weather info)\n",
    "Now I want to fit some \"null\" models without weather info with this new subset. We can then compare how much additional explanatory power is brought by weather info. "
   ]
  },
  {
   "cell_type": "code",
   "execution_count": 4,
   "id": "c9599e53",
   "metadata": {},
   "outputs": [
    {
     "name": "stderr",
     "output_type": "stream",
     "text": [
      "fixed-effect model matrix is rank deficient so dropping 6 columns / coefficients\n",
      "\n",
      "Correlation matrix not shown by default, as p = 18 > 12.\n",
      "Use print(obj, correlation=TRUE)  or\n",
      "    vcov(obj)        if you need it\n",
      "\n"
     ]
    },
    {
     "data": {
      "text/plain": [
       "Generalized linear mixed model fit by maximum likelihood (Laplace\n",
       "  Approximation) [glmerMod]\n",
       " Family: poisson  ( log )\n",
       "Formula: \n",
       "count.f ~ (1 | year.assigned) + (1 | site.id) + (1 | overdispersion) +  \n",
       "    month.assigned * village\n",
       "   Data: dat2\n",
       "Control: glmerControl(optimizer = \"bobyqa\", optCtrl = list(maxfun = 2e+05))\n",
       "\n",
       "     AIC      BIC   logLik deviance df.resid \n",
       "  5799.7   5899.7  -2878.8   5757.7      844 \n",
       "\n",
       "Scaled residuals: \n",
       "     Min       1Q   Median       3Q      Max \n",
       "-1.35436 -0.35868 -0.00172  0.13043  0.59194 \n",
       "\n",
       "Random effects:\n",
       " Groups         Name        Variance Std.Dev.\n",
       " overdispersion (Intercept) 1.221289 1.10512 \n",
       " site.id        (Intercept) 0.691682 0.83167 \n",
       " year.assigned  (Intercept) 0.002556 0.05056 \n",
       "Number of obs: 865, groups:  \n",
       "overdispersion, 865; site.id, 181; year.assigned, 3\n",
       "\n",
       "Fixed effects:\n",
       "                                       Estimate Std. Error z value Pr(>|z|)    \n",
       "(Intercept)                             1.94773    0.32422   6.007 1.88e-09 ***\n",
       "month.assigned6                         0.03866    0.29331   0.132 0.895143    \n",
       "month.assigned7                        -0.69677    0.34055  -2.046 0.040752 *  \n",
       "month.assigned8                        -0.26992    0.29260  -0.923 0.356265    \n",
       "month.assigned9                         0.04638    0.29148   0.159 0.873578    \n",
       "month.assigned10                       -0.43593    0.28957  -1.505 0.132200    \n",
       "villageBana village                     0.38748    0.37810   1.025 0.305456    \n",
       "villagePala                             0.21801    0.39815   0.548 0.584008    \n",
       "villageSouroukoudingan                 -0.21135    0.40398  -0.523 0.600848    \n",
       "month.assigned6:villageBana village    -0.20126    0.37832  -0.532 0.594737    \n",
       "month.assigned7:villageBana village    -0.01153    0.42972  -0.027 0.978602    \n",
       "month.assigned8:villageBana village    -0.29100    0.37064  -0.785 0.432372    \n",
       "month.assigned9:villageBana village    -0.10664    0.37666  -0.283 0.777078    \n",
       "month.assigned10:villageBana village   -0.24374    0.37683  -0.647 0.517751    \n",
       "month.assigned6:villagePala            -1.46518    0.38959  -3.761 0.000169 ***\n",
       "month.assigned8:villagePala            -0.67356    0.39344  -1.712 0.086904 .  \n",
       "month.assigned6:villageSouroukoudingan -0.81110    0.39731  -2.041 0.041203 *  \n",
       "month.assigned8:villageSouroukoudingan -0.24172    0.40415  -0.598 0.549773    \n",
       "---\n",
       "Signif. codes:  0 '***' 0.001 '**' 0.01 '*' 0.05 '.' 0.1 ' ' 1\n",
       "fit warnings:\n",
       "fixed-effect model matrix is rank deficient so dropping 6 columns / coefficients"
      ]
     },
     "metadata": {},
     "output_type": "display_data"
    },
    {
     "name": "stderr",
     "output_type": "stream",
     "text": [
      "fixed-effect model matrix is rank deficient so dropping 6 columns / coefficients\n",
      "\n",
      "Correlation matrix not shown by default, as p = 21 > 12.\n",
      "Use print(obj, correlation=TRUE)  or\n",
      "    vcov(obj)        if you need it\n",
      "\n"
     ]
    },
    {
     "data": {
      "text/plain": [
       "Generalized linear mixed model fit by maximum likelihood (Laplace\n",
       "  Approximation) [glmerMod]\n",
       " Family: poisson  ( log )\n",
       "Formula: \n",
       "count.f ~ (1 | year.assigned) + (1 | site.id) + (1 | overdispersion) +  \n",
       "    month.assigned * village + mosquito.net + persons.status\n",
       "   Data: dat2\n",
       "Control: glmerControl(optimizer = \"bobyqa\", optCtrl = list(maxfun = 2e+05))\n",
       "\n",
       "     AIC      BIC   logLik deviance df.resid \n",
       "  5641.8   5755.5  -2796.9   5593.8      818 \n",
       "\n",
       "Scaled residuals: \n",
       "     Min       1Q   Median       3Q      Max \n",
       "-1.29902 -0.36065 -0.01151  0.14073  0.61803 \n",
       "\n",
       "Random effects:\n",
       " Groups         Name        Variance Std.Dev.\n",
       " overdispersion (Intercept) 1.195722 1.09349 \n",
       " site.id        (Intercept) 0.632651 0.79539 \n",
       " year.assigned  (Intercept) 0.004086 0.06392 \n",
       "Number of obs: 842, groups:  \n",
       "overdispersion, 842; site.id, 174; year.assigned, 3\n",
       "\n",
       "Fixed effects:\n",
       "                                        Estimate Std. Error z value Pr(>|z|)\n",
       "(Intercept)                             2.334353   0.372946   6.259 3.87e-10\n",
       "month.assigned6                         0.017392   0.290870   0.060 0.952319\n",
       "month.assigned7                        -0.773242   0.345828  -2.236 0.025357\n",
       "month.assigned8                        -0.363413   0.294035  -1.236 0.216478\n",
       "month.assigned9                        -0.001433   0.289196  -0.005 0.996047\n",
       "month.assigned10                       -0.463629   0.290361  -1.597 0.110325\n",
       "villageBana village                     0.375120   0.368749   1.017 0.309021\n",
       "villagePala                             0.132403   0.393422   0.337 0.736463\n",
       "villageSouroukoudingan                 -0.181125   0.397058  -0.456 0.648270\n",
       "mosquito.netYes                        -0.034274   0.175518  -0.195 0.845179\n",
       "persons.statusLow                      -0.402605   0.122672  -3.282 0.001031\n",
       "persons.statusNone                     -1.304661   0.517914  -2.519 0.011767\n",
       "month.assigned6:villageBana village    -0.158757   0.377020  -0.421 0.673694\n",
       "month.assigned7:villageBana village     0.084839   0.432659   0.196 0.844542\n",
       "month.assigned8:villageBana village    -0.287152   0.378448  -0.759 0.447995\n",
       "month.assigned9:villageBana village     0.016880   0.374592   0.045 0.964058\n",
       "month.assigned10:villageBana village   -0.182043   0.376214  -0.484 0.628469\n",
       "month.assigned6:villagePala            -1.505869   0.388994  -3.871 0.000108\n",
       "month.assigned8:villagePala            -0.616797   0.396629  -1.555 0.119922\n",
       "month.assigned6:villageSouroukoudingan -0.909622   0.396342  -2.295 0.021731\n",
       "month.assigned8:villageSouroukoudingan -0.265875   0.405304  -0.656 0.511831\n",
       "                                          \n",
       "(Intercept)                            ***\n",
       "month.assigned6                           \n",
       "month.assigned7                        *  \n",
       "month.assigned8                           \n",
       "month.assigned9                           \n",
       "month.assigned10                          \n",
       "villageBana village                       \n",
       "villagePala                               \n",
       "villageSouroukoudingan                    \n",
       "mosquito.netYes                           \n",
       "persons.statusLow                      ** \n",
       "persons.statusNone                     *  \n",
       "month.assigned6:villageBana village       \n",
       "month.assigned7:villageBana village       \n",
       "month.assigned8:villageBana village       \n",
       "month.assigned9:villageBana village       \n",
       "month.assigned10:villageBana village      \n",
       "month.assigned6:villagePala            ***\n",
       "month.assigned8:villagePala               \n",
       "month.assigned6:villageSouroukoudingan *  \n",
       "month.assigned8:villageSouroukoudingan    \n",
       "---\n",
       "Signif. codes:  0 '***' 0.001 '**' 0.01 '*' 0.05 '.' 0.1 ' ' 1\n",
       "fit warnings:\n",
       "fixed-effect model matrix is rank deficient so dropping 6 columns / coefficients"
      ]
     },
     "metadata": {},
     "output_type": "display_data"
    }
   ],
   "source": [
    "# NULL MODEL WITHOUT WEATHER INFO \n",
    "# JUST month.assigned AND VILLAGE. THE INTERACTION IS HERE TO STAY (CHECKED)\n",
    "overdispersion<-1:nrow(dat2)\n",
    "m_0A<-glmer(count.f~(1|year.assigned)+(1|site.id)+(1|overdispersion)+month.assigned*village, \n",
    "             family='poisson', data=dat2, \n",
    "             control=glmerControl(optimizer=\"bobyqa\",optCtrl=list(maxfun=2e5)))\n",
    "summary(m_0A, correlation=FALSE)\n",
    "\n",
    "# WITH mosquito.net AND persons.status\n",
    "m_0B<-glmer(count.f~(1|year.assigned)+(1|site.id)+(1|overdispersion)+month.assigned*village+mosquito.net+persons.status, \n",
    "             family='poisson', data=dat2, \n",
    "             control=glmerControl(optimizer=\"bobyqa\",optCtrl=list(maxfun=2e5)))\n",
    "summary(m_0B, correlation=FALSE)"
   ]
  },
  {
   "cell_type": "code",
   "execution_count": 5,
   "id": "cfd1ff92",
   "metadata": {},
   "outputs": [
    {
     "data": {
      "text/plain": [
       "Generalized linear mixed model fit by maximum likelihood (Laplace\n",
       "  Approximation) [glmerMod]\n",
       " Family: poisson  ( log )\n",
       "Formula: count.f ~ (1 | year.assigned) + (1 | site.id) + (1 | overdispersion)\n",
       "   Data: dat2\n",
       "Control: glmerControl(optimizer = \"bobyqa\", optCtrl = list(maxfun = 2e+05))\n",
       "\n",
       "     AIC      BIC   logLik deviance df.resid \n",
       "  5830.2   5849.2  -2911.1   5822.2      861 \n",
       "\n",
       "Scaled residuals: \n",
       "     Min       1Q   Median       3Q      Max \n",
       "-1.33201 -0.35521 -0.01319  0.13043  0.44071 \n",
       "\n",
       "Random effects:\n",
       " Groups         Name        Variance Std.Dev.\n",
       " overdispersion (Intercept) 1.318308 1.14818 \n",
       " site.id        (Intercept) 0.829408 0.91072 \n",
       " year.assigned  (Intercept) 0.003627 0.06022 \n",
       "Number of obs: 865, groups:  \n",
       "overdispersion, 865; site.id, 181; year.assigned, 3\n",
       "\n",
       "Fixed effects:\n",
       "            Estimate Std. Error z value Pr(>|z|)    \n",
       "(Intercept)  1.59409    0.09393   16.97   <2e-16 ***\n",
       "---\n",
       "Signif. codes:  0 '***' 0.001 '**' 0.01 '*' 0.05 '.' 0.1 ' ' 1"
      ]
     },
     "metadata": {},
     "output_type": "display_data"
    },
    {
     "data": {
      "text/html": [
       "<table>\n",
       "<thead><tr><th></th><th scope=col>Df</th><th scope=col>AIC</th><th scope=col>BIC</th><th scope=col>logLik</th><th scope=col>deviance</th><th scope=col>Chisq</th><th scope=col>Chi Df</th><th scope=col>Pr(&gt;Chisq)</th></tr></thead>\n",
       "<tbody>\n",
       "\t<tr><th scope=row>m_0</th><td> 4          </td><td>5830.182    </td><td>5849.233    </td><td>-2911.091   </td><td>5822.182    </td><td>      NA    </td><td>NA          </td><td>          NA</td></tr>\n",
       "\t<tr><th scope=row>m_0A</th><td>21          </td><td>5799.687    </td><td>5899.704    </td><td>-2878.844   </td><td>5757.687    </td><td>64.49518    </td><td>17          </td><td>1.869544e-07</td></tr>\n",
       "</tbody>\n",
       "</table>\n"
      ],
      "text/latex": [
       "\\begin{tabular}{r|llllllll}\n",
       "  & Df & AIC & BIC & logLik & deviance & Chisq & Chi Df & Pr(>Chisq)\\\\\n",
       "\\hline\n",
       "\tm\\_0 &  4           & 5830.182     & 5849.233     & -2911.091    & 5822.182     &       NA     & NA           &           NA\\\\\n",
       "\tm\\_0A & 21           & 5799.687     & 5899.704     & -2878.844    & 5757.687     & 64.49518     & 17           & 1.869544e-07\\\\\n",
       "\\end{tabular}\n"
      ],
      "text/markdown": [
       "\n",
       "| <!--/--> | Df | AIC | BIC | logLik | deviance | Chisq | Chi Df | Pr(>Chisq) |\n",
       "|---|---|---|---|---|---|---|---|---|\n",
       "| m_0 |  4           | 5830.182     | 5849.233     | -2911.091    | 5822.182     |       NA     | NA           |           NA |\n",
       "| m_0A | 21           | 5799.687     | 5899.704     | -2878.844    | 5757.687     | 64.49518     | 17           | 1.869544e-07 |\n",
       "\n"
      ],
      "text/plain": [
       "     Df AIC      BIC      logLik    deviance Chisq    Chi Df Pr(>Chisq)  \n",
       "m_0   4 5830.182 5849.233 -2911.091 5822.182       NA NA               NA\n",
       "m_0A 21 5799.687 5899.704 -2878.844 5757.687 64.49518 17     1.869544e-07"
      ]
     },
     "metadata": {},
     "output_type": "display_data"
    },
    {
     "ename": "ERROR",
     "evalue": "Error in anova.merMod(m_0A, m_0B): models were not all fitted to the same size of dataset\n",
     "output_type": "error",
     "traceback": [
      "Error in anova.merMod(m_0A, m_0B): models were not all fitted to the same size of dataset\nTraceback:\n",
      "1. anova(m_0A, m_0B)",
      "2. anova.merMod(m_0A, m_0B)",
      "3. stop(\"models were not all fitted to the same size of dataset\")"
     ]
    }
   ],
   "source": [
    "m_0<-glmer(count.f~(1|year.assigned)+(1|site.id)+(1|overdispersion), \n",
    "             family='poisson', data=dat2, \n",
    "             control=glmerControl(optimizer=\"bobyqa\",optCtrl=list(maxfun=2e5)))\n",
    "summary(m_0, correlation=FALSE)\n",
    "anova(m_0, m_0A)\n",
    "anova(m_0A, m_0B)"
   ]
  },
  {
   "cell_type": "markdown",
   "id": "bfad7ccc",
   "metadata": {},
   "source": [
    "There is a warning saying some coefficients have been dropped, and that the summary table is missing several coefficient estimates. It is because some month.assigned x village combinations did not exist in our dataset. Let us have a quick look: "
   ]
  },
  {
   "cell_type": "code",
   "execution_count": 9,
   "id": "eeb2aa10",
   "metadata": {
    "scrolled": true
   },
   "outputs": [
    {
     "data": {
      "text/plain": [
       "interaction(dat2$month.assigned, dat2$village): 1.Bana market\n",
       "[1] NA\n",
       "------------------------------------------------------------ \n",
       "interaction(dat2$month.assigned, dat2$village): 2.Bana market\n",
       "[1] NA\n",
       "------------------------------------------------------------ \n",
       "interaction(dat2$month.assigned, dat2$village): 3.Bana market\n",
       "[1] NA\n",
       "------------------------------------------------------------ \n",
       "interaction(dat2$month.assigned, dat2$village): 4.Bana market\n",
       "[1] NA\n",
       "------------------------------------------------------------ \n",
       "interaction(dat2$month.assigned, dat2$village): 5.Bana market\n",
       "[1] 18.05128\n",
       "------------------------------------------------------------ \n",
       "interaction(dat2$month.assigned, dat2$village): 6.Bana market\n",
       "[1] 16.10345\n",
       "------------------------------------------------------------ \n",
       "interaction(dat2$month.assigned, dat2$village): 7.Bana market\n",
       "[1] 9.6\n",
       "------------------------------------------------------------ \n",
       "interaction(dat2$month.assigned, dat2$village): 8.Bana market\n",
       "[1] 12.5\n",
       "------------------------------------------------------------ \n",
       "interaction(dat2$month.assigned, dat2$village): 9.Bana market\n",
       "[1] 14.93333\n",
       "------------------------------------------------------------ \n",
       "interaction(dat2$month.assigned, dat2$village): 10.Bana market\n",
       "[1] 9.96875\n",
       "------------------------------------------------------------ \n",
       "interaction(dat2$month.assigned, dat2$village): 11.Bana market\n",
       "[1] NA\n",
       "------------------------------------------------------------ \n",
       "interaction(dat2$month.assigned, dat2$village): 12.Bana market\n",
       "[1] NA\n",
       "------------------------------------------------------------ \n",
       "interaction(dat2$month.assigned, dat2$village): 1.Bana village\n",
       "[1] NA\n",
       "------------------------------------------------------------ \n",
       "interaction(dat2$month.assigned, dat2$village): 2.Bana village\n",
       "[1] NA\n",
       "------------------------------------------------------------ \n",
       "interaction(dat2$month.assigned, dat2$village): 3.Bana village\n",
       "[1] NA\n",
       "------------------------------------------------------------ \n",
       "interaction(dat2$month.assigned, dat2$village): 4.Bana village\n",
       "[1] NA\n",
       "------------------------------------------------------------ \n",
       "interaction(dat2$month.assigned, dat2$village): 5.Bana village\n",
       "[1] 21.66667\n",
       "------------------------------------------------------------ \n",
       "interaction(dat2$month.assigned, dat2$village): 6.Bana village\n",
       "[1] 25.37931\n",
       "------------------------------------------------------------ \n",
       "interaction(dat2$month.assigned, dat2$village): 7.Bana village\n",
       "[1] 11.225\n",
       "------------------------------------------------------------ \n",
       "interaction(dat2$month.assigned, dat2$village): 8.Bana village\n",
       "[1] 17.22034\n",
       "------------------------------------------------------------ \n",
       "interaction(dat2$month.assigned, dat2$village): 9.Bana village\n",
       "[1] 23.15517\n",
       "------------------------------------------------------------ \n",
       "interaction(dat2$month.assigned, dat2$village): 10.Bana village\n",
       "[1] 10.64912\n",
       "------------------------------------------------------------ \n",
       "interaction(dat2$month.assigned, dat2$village): 11.Bana village\n",
       "[1] NA\n",
       "------------------------------------------------------------ \n",
       "interaction(dat2$month.assigned, dat2$village): 12.Bana village\n",
       "[1] NA\n",
       "------------------------------------------------------------ \n",
       "interaction(dat2$month.assigned, dat2$village): 1.Pala\n",
       "[1] NA\n",
       "------------------------------------------------------------ \n",
       "interaction(dat2$month.assigned, dat2$village): 2.Pala\n",
       "[1] NA\n",
       "------------------------------------------------------------ \n",
       "interaction(dat2$month.assigned, dat2$village): 3.Pala\n",
       "[1] NA\n",
       "------------------------------------------------------------ \n",
       "interaction(dat2$month.assigned, dat2$village): 4.Pala\n",
       "[1] NA\n",
       "------------------------------------------------------------ \n",
       "interaction(dat2$month.assigned, dat2$village): 5.Pala\n",
       "[1] NA\n",
       "------------------------------------------------------------ \n",
       "interaction(dat2$month.assigned, dat2$village): 6.Pala\n",
       "[1] 5.266667\n",
       "------------------------------------------------------------ \n",
       "interaction(dat2$month.assigned, dat2$village): 7.Pala\n",
       "[1] NA\n",
       "------------------------------------------------------------ \n",
       "interaction(dat2$month.assigned, dat2$village): 8.Pala\n",
       "[1] 7.05\n",
       "------------------------------------------------------------ \n",
       "interaction(dat2$month.assigned, dat2$village): 9.Pala\n",
       "[1] NA\n",
       "------------------------------------------------------------ \n",
       "interaction(dat2$month.assigned, dat2$village): 10.Pala\n",
       "[1] 10.51667\n",
       "------------------------------------------------------------ \n",
       "interaction(dat2$month.assigned, dat2$village): 11.Pala\n",
       "[1] NA\n",
       "------------------------------------------------------------ \n",
       "interaction(dat2$month.assigned, dat2$village): 12.Pala\n",
       "[1] NA\n",
       "------------------------------------------------------------ \n",
       "interaction(dat2$month.assigned, dat2$village): 1.Souroukoudingan\n",
       "[1] NA\n",
       "------------------------------------------------------------ \n",
       "interaction(dat2$month.assigned, dat2$village): 2.Souroukoudingan\n",
       "[1] NA\n",
       "------------------------------------------------------------ \n",
       "interaction(dat2$month.assigned, dat2$village): 3.Souroukoudingan\n",
       "[1] NA\n",
       "------------------------------------------------------------ \n",
       "interaction(dat2$month.assigned, dat2$village): 4.Souroukoudingan\n",
       "[1] NA\n",
       "------------------------------------------------------------ \n",
       "interaction(dat2$month.assigned, dat2$village): 5.Souroukoudingan\n",
       "[1] NA\n",
       "------------------------------------------------------------ \n",
       "interaction(dat2$month.assigned, dat2$village): 6.Souroukoudingan\n",
       "[1] 4.833333\n",
       "------------------------------------------------------------ \n",
       "interaction(dat2$month.assigned, dat2$village): 7.Souroukoudingan\n",
       "[1] NA\n",
       "------------------------------------------------------------ \n",
       "interaction(dat2$month.assigned, dat2$village): 8.Souroukoudingan\n",
       "[1] 8.1\n",
       "------------------------------------------------------------ \n",
       "interaction(dat2$month.assigned, dat2$village): 9.Souroukoudingan\n",
       "[1] NA\n",
       "------------------------------------------------------------ \n",
       "interaction(dat2$month.assigned, dat2$village): 10.Souroukoudingan\n",
       "[1] 7.589286\n",
       "------------------------------------------------------------ \n",
       "interaction(dat2$month.assigned, dat2$village): 11.Souroukoudingan\n",
       "[1] NA\n",
       "------------------------------------------------------------ \n",
       "interaction(dat2$month.assigned, dat2$village): 12.Souroukoudingan\n",
       "[1] NA"
      ]
     },
     "metadata": {},
     "output_type": "display_data"
    }
   ],
   "source": [
    "by(dat2$count.f, interaction(dat2$month.assigned, dat2$village), mean, na.rm=T)"
   ]
  },
  {
   "cell_type": "markdown",
   "id": "58028c11",
   "metadata": {},
   "source": [
    "We can see that in Pala and Souroukoudingan there were no data in months 05, 07, 09. This means we are unable to estimate some interaction terms, as the warning suggested earlier. "
   ]
  },
  {
   "cell_type": "code",
   "execution_count": 23,
   "id": "5dec0ec5",
   "metadata": {},
   "outputs": [
    {
     "data": {
      "text/html": [
       "-2789.54560418455"
      ],
      "text/latex": [
       "-2789.54560418455"
      ],
      "text/markdown": [
       "-2789.54560418455"
      ],
      "text/plain": [
       "[1] -2789.546"
      ]
     },
     "metadata": {},
     "output_type": "display_data"
    },
    {
     "data": {
      "text/html": [
       "<table>\n",
       "<thead><tr><th></th><th scope=col>row</th><th scope=col>col</th></tr></thead>\n",
       "<tbody>\n",
       "\t<tr><th scope=row>result.16</th><td>16</td><td>1 </td></tr>\n",
       "</tbody>\n",
       "</table>\n"
      ],
      "text/latex": [
       "\\begin{tabular}{r|ll}\n",
       "  & row & col\\\\\n",
       "\\hline\n",
       "\tresult.16 & 16 & 1 \\\\\n",
       "\\end{tabular}\n"
      ],
      "text/markdown": [
       "\n",
       "| <!--/--> | row | col |\n",
       "|---|---|---|\n",
       "| result.16 | 16 | 1  |\n",
       "\n"
      ],
      "text/plain": [
       "          row col\n",
       "result.16 16  1  "
      ]
     },
     "metadata": {},
     "output_type": "display_data"
    },
    {
     "data": {
      "image/png": "[encoded data removed]",
      "text/plain": [
       "plot without title"
      ]
     },
     "metadata": {},
     "output_type": "display_data"
    }
   ],
   "source": [
    "persp(1:nrow(result_rain_gaussian), 1:ncol(result_rain_gaussian), result_rain_gaussian, theta=135, phi=30, \n",
    "        xlab='mean day', ylab='sd day', zlab='maximised log-likelihood (higher the better)')\n",
    "max(result_rain_gaussian, na.rm=T)\n",
    "which(result_rain_gaussian==max(result_rain_gaussian, na.rm=T), arr.ind=TRUE)"
   ]
  },
  {
   "cell_type": "markdown",
   "id": "cd29d6b7",
   "metadata": {},
   "source": [
    "Including past rainfall as a covariate increases explanatory power. Although it is a signficant term I would not say there is a drastic improvement. The results above differ from what I reported before because different subsets of data were used. \n",
    "\n",
    "### Lagged rainfall + log male count"
   ]
  },
  {
   "cell_type": "code",
   "execution_count": 25,
   "id": "0f8f3e9d",
   "metadata": {},
   "outputs": [
    {
     "name": "stdout",
     "output_type": "stream",
     "text": [
      "The 27-th column is rain.minus.0"
     ]
    },
    {
     "data": {
      "text/html": [
       "<ol class=list-inline>\n",
       "\t<li>30</li>\n",
       "\t<li>21</li>\n",
       "</ol>\n"
      ],
      "text/latex": [
       "\\begin{enumerate*}\n",
       "\\item 30\n",
       "\\item 21\n",
       "\\end{enumerate*}\n"
      ],
      "text/markdown": [
       "1. 30\n",
       "2. 21\n",
       "\n",
       "\n"
      ],
      "text/plain": [
       "[1] 30 21"
      ]
     },
     "metadata": {},
     "output_type": "display_data"
    }
   ],
   "source": [
    "dat3<-f(lag=0, lag_length=75)\n",
    "#dim(dat3)\n",
    "cat(paste('The 27-th column is', names(dat3)[27])) # MAKE SURE THE 27-TH COLUMN IS rain.minus.0\n",
    "cl<-makeCluster(46, outfile='log.txt') # MULTIPLE CPU\n",
    "registerDoParallel(cl)\n",
    "result_rain2<-foreach (i=1:30, .combine=rbind, .packages='lme4') %dopar%\n",
    "    {\n",
    "    setMKLthreads(1)\n",
    "    temp_result<-rep(NA, 21)\n",
    "    for (j in 1:length(temp_result))\n",
    "        {\n",
    "        total.rain<-apply(as.matrix(dat3[,(i+27):(i+27+j-1)]), 1, sum, na.rm=T)\n",
    "        total.rain<-scale(total.rain) # SCALE TO CENTRE\n",
    "        dat3$rain.minus.0<-scale(dat3$rain.minus.0)\n",
    "        dat3$temp.minus.0<-scale(dat3$temp.minus.0)\n",
    "        log.count.m<-log(dat3$count.m+1)\n",
    "        overdispersion<-1:nrow(dat3)\n",
    "        m<-NA #RESET m\n",
    "        m<-glmer(count.f~(1|site.id)+(1|overdispersion)+village*month.assigned+mosquito.net+persons.status\n",
    "             +rain.minus.0+temp.minus.0+total.rain+log.count.m, \n",
    "            data=dat3, family='poisson', \n",
    "            control=glmerControl(optimizer=\"bobyqa\"))\n",
    "        temp_result[j]<-summary(m)$logLik\n",
    "        cat(sprintf(\"%i, %i\\n\", i, j))\n",
    "        }\n",
    "    return(temp_result)\n",
    "    }\n",
    "stopCluster(cl)\n",
    "dim(result_rain2)\n",
    "invisible(gc())"
   ]
  },
  {
   "cell_type": "code",
   "execution_count": 26,
   "id": "61ae9eda",
   "metadata": {},
   "outputs": [
    {
     "data": {
      "text/html": [
       "-2643.98117880304"
      ],
      "text/latex": [
       "-2643.98117880304"
      ],
      "text/markdown": [
       "-2643.98117880304"
      ],
      "text/plain": [
       "[1] -2643.981"
      ]
     },
     "metadata": {},
     "output_type": "display_data"
    },
    {
     "data": {
      "text/html": [
       "<table>\n",
       "<thead><tr><th></th><th scope=col>row</th><th scope=col>col</th></tr></thead>\n",
       "<tbody>\n",
       "\t<tr><th scope=row>result.11</th><td>11</td><td>1 </td></tr>\n",
       "</tbody>\n",
       "</table>\n"
      ],
      "text/latex": [
       "\\begin{tabular}{r|ll}\n",
       "  & row & col\\\\\n",
       "\\hline\n",
       "\tresult.11 & 11 & 1 \\\\\n",
       "\\end{tabular}\n"
      ],
      "text/markdown": [
       "\n",
       "| <!--/--> | row | col |\n",
       "|---|---|---|\n",
       "| result.11 | 11 | 1  |\n",
       "\n"
      ],
      "text/plain": [
       "          row col\n",
       "result.11 11  1  "
      ]
     },
     "metadata": {},
     "output_type": "display_data"
    },
    {
     "data": {
      "image/png": "[encoded data removed]",
      "text/plain": [
       "plot without title"
      ]
     },
     "metadata": {},
     "output_type": "display_data"
    }
   ],
   "source": [
    "persp(1:nrow(result_rain2), 1:ncol(result_rain2), result_rain2, theta=135, phi=30, \n",
    "        xlab='start lag (i)', ylab='number of lags (j)', zlab='maximised log-likelihood (higher the better)')\n",
    "# HIGHEST LOG-LIKE\n",
    "max(result_rain2, na.rm=T)\n",
    "# THE VALUE OF i AND j GIVES THE HIGHEST LOG-LIKE\n",
    "which(result_rain2==max(result_rain2, na.rm=T), arr.ind=TRUE)"
   ]
  },
  {
   "cell_type": "markdown",
   "id": "15626d29",
   "metadata": {},
   "source": [
    "A different result is obtained when log male count is also included. It is safe to say that log male count is a more useful covariate as it increases the log-likelihood by 150. "
   ]
  }
 ],
 "metadata": {
  "kernelspec": {
   "display_name": "R",
   "language": "R",
   "name": "ir"
  },
  "language_info": {
   "codemirror_mode": "r",
   "file_extension": ".r",
   "mimetype": "text/x-r-source",
   "name": "R",
   "pygments_lexer": "r",
   "version": "3.5.3"
  }
 },
 "nbformat": 4,
 "nbformat_minor": 5
}
